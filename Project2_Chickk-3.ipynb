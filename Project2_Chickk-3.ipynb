{
 "cells": [
  {
   "cell_type": "code",
   "execution_count": 108,
   "id": "c3dcd3e8-5660-4692-9449-7d1d61917836",
   "metadata": {},
   "outputs": [
    {
     "name": "stdout",
     "output_type": "stream",
     "text": [
      "Defaulting to user installation because normal site-packages is not writeable\n",
      "Looking in links: /usr/share/pip-wheels\n",
      "Requirement already satisfied: gspread_pandas in ./.local/lib/python3.9/site-packages (3.2.2)\n",
      "Requirement already satisfied: google-auth in ./.local/lib/python3.9/site-packages (from gspread_pandas) (2.16.1)\n",
      "Requirement already satisfied: decorator in /opt/conda/envs/anaconda-2022.05-py39/lib/python3.9/site-packages (from gspread_pandas) (5.1.1)\n",
      "Requirement already satisfied: pandas>=0.20.0 in /opt/conda/envs/anaconda-2022.05-py39/lib/python3.9/site-packages (from gspread_pandas) (1.4.2)\n",
      "Requirement already satisfied: google-auth-oauthlib in ./.local/lib/python3.9/site-packages (from gspread_pandas) (1.0.0)\n",
      "Requirement already satisfied: gspread>=5.0.0 in ./.local/lib/python3.9/site-packages (from gspread_pandas) (5.7.2)\n",
      "Requirement already satisfied: rsa<5,>=3.1.4 in /opt/conda/envs/anaconda-2022.05-py39/lib/python3.9/site-packages (from google-auth->gspread_pandas) (4.7.2)\n",
      "Requirement already satisfied: six>=1.9.0 in /opt/conda/envs/anaconda-2022.05-py39/lib/python3.9/site-packages (from google-auth->gspread_pandas) (1.16.0)\n",
      "Requirement already satisfied: pyasn1-modules>=0.2.1 in /opt/conda/envs/anaconda-2022.05-py39/lib/python3.9/site-packages (from google-auth->gspread_pandas) (0.2.8)\n",
      "Requirement already satisfied: cachetools<6.0,>=2.0.0 in /opt/conda/envs/anaconda-2022.05-py39/lib/python3.9/site-packages (from google-auth->gspread_pandas) (4.2.2)\n",
      "Requirement already satisfied: requests-oauthlib>=0.7.0 in ./.local/lib/python3.9/site-packages (from google-auth-oauthlib->gspread_pandas) (1.3.1)\n",
      "Requirement already satisfied: python-dateutil>=2.8.1 in /opt/conda/envs/anaconda-2022.05-py39/lib/python3.9/site-packages (from pandas>=0.20.0->gspread_pandas) (2.8.2)\n",
      "Requirement already satisfied: pytz>=2020.1 in /opt/conda/envs/anaconda-2022.05-py39/lib/python3.9/site-packages (from pandas>=0.20.0->gspread_pandas) (2021.3)\n",
      "Requirement already satisfied: numpy>=1.18.5 in /opt/conda/envs/anaconda-2022.05-py39/lib/python3.9/site-packages (from pandas>=0.20.0->gspread_pandas) (1.21.5)\n",
      "Requirement already satisfied: pyasn1<0.5.0,>=0.4.6 in /opt/conda/envs/anaconda-2022.05-py39/lib/python3.9/site-packages (from pyasn1-modules>=0.2.1->google-auth->gspread_pandas) (0.4.8)\n",
      "Requirement already satisfied: oauthlib>=3.0.0 in ./.local/lib/python3.9/site-packages (from requests-oauthlib>=0.7.0->google-auth-oauthlib->gspread_pandas) (3.2.2)\n",
      "Requirement already satisfied: requests>=2.0.0 in /opt/conda/envs/anaconda-2022.05-py39/lib/python3.9/site-packages (from requests-oauthlib>=0.7.0->google-auth-oauthlib->gspread_pandas) (2.27.1)\n",
      "Requirement already satisfied: certifi>=2017.4.17 in /opt/conda/envs/anaconda-2022.05-py39/lib/python3.9/site-packages (from requests>=2.0.0->requests-oauthlib>=0.7.0->google-auth-oauthlib->gspread_pandas) (2021.10.8)\n",
      "Requirement already satisfied: charset-normalizer~=2.0.0 in /opt/conda/envs/anaconda-2022.05-py39/lib/python3.9/site-packages (from requests>=2.0.0->requests-oauthlib>=0.7.0->google-auth-oauthlib->gspread_pandas) (2.0.4)\n",
      "Requirement already satisfied: urllib3<1.27,>=1.21.1 in /opt/conda/envs/anaconda-2022.05-py39/lib/python3.9/site-packages (from requests>=2.0.0->requests-oauthlib>=0.7.0->google-auth-oauthlib->gspread_pandas) (1.26.9)\n",
      "Requirement already satisfied: idna<4,>=2.5 in /opt/conda/envs/anaconda-2022.05-py39/lib/python3.9/site-packages (from requests>=2.0.0->requests-oauthlib>=0.7.0->google-auth-oauthlib->gspread_pandas) (3.3)\n",
      "Note: you may need to restart the kernel to use updated packages.\n",
      "Defaulting to user installation because normal site-packages is not writeable\n",
      "Looking in links: /usr/share/pip-wheels\n",
      "Requirement already satisfied: fooddatacentral in ./.local/lib/python3.9/site-packages (1.0.9)\n",
      "Note: you may need to restart the kernel to use updated packages.\n",
      "Defaulting to user installation because normal site-packages is not writeable\n",
      "Looking in links: /usr/share/pip-wheels\n",
      "Requirement already satisfied: pint in ./.local/lib/python3.9/site-packages (0.20.1)\n",
      "Note: you may need to restart the kernel to use updated packages.\n",
      "Defaulting to user installation because normal site-packages is not writeable\n",
      "Looking in links: /usr/share/pip-wheels\n",
      "Requirement already satisfied: cufflinks in ./.local/lib/python3.9/site-packages (0.17.3)\n",
      "Requirement already satisfied: six>=1.9.0 in /opt/conda/envs/anaconda-2022.05-py39/lib/python3.9/site-packages (from cufflinks) (1.16.0)\n",
      "Requirement already satisfied: numpy>=1.9.2 in /opt/conda/envs/anaconda-2022.05-py39/lib/python3.9/site-packages (from cufflinks) (1.21.5)\n",
      "Requirement already satisfied: colorlover>=0.2.1 in ./.local/lib/python3.9/site-packages (from cufflinks) (0.3.0)\n",
      "Requirement already satisfied: pandas>=0.19.2 in /opt/conda/envs/anaconda-2022.05-py39/lib/python3.9/site-packages (from cufflinks) (1.4.2)\n",
      "Requirement already satisfied: ipywidgets>=7.0.0 in /opt/conda/envs/anaconda-2022.05-py39/lib/python3.9/site-packages (from cufflinks) (7.6.5)\n",
      "Requirement already satisfied: setuptools>=34.4.1 in /opt/conda/envs/anaconda-2022.05-py39/lib/python3.9/site-packages (from cufflinks) (61.2.0)\n",
      "Requirement already satisfied: ipython>=5.3.0 in /opt/conda/envs/anaconda-2022.05-py39/lib/python3.9/site-packages (from cufflinks) (8.2.0)\n",
      "Requirement already satisfied: plotly>=4.1.1 in /opt/conda/envs/anaconda-2022.05-py39/lib/python3.9/site-packages (from cufflinks) (5.6.0)\n",
      "Requirement already satisfied: prompt-toolkit!=3.0.0,!=3.0.1,<3.1.0,>=2.0.0 in /opt/conda/envs/anaconda-2022.05-py39/lib/python3.9/site-packages (from ipython>=5.3.0->cufflinks) (3.0.20)\n",
      "Requirement already satisfied: decorator in /opt/conda/envs/anaconda-2022.05-py39/lib/python3.9/site-packages (from ipython>=5.3.0->cufflinks) (5.1.1)\n",
      "Requirement already satisfied: traitlets>=5 in /opt/conda/envs/anaconda-2022.05-py39/lib/python3.9/site-packages (from ipython>=5.3.0->cufflinks) (5.1.1)\n",
      "Requirement already satisfied: jedi>=0.16 in /opt/conda/envs/anaconda-2022.05-py39/lib/python3.9/site-packages (from ipython>=5.3.0->cufflinks) (0.18.1)\n",
      "Requirement already satisfied: stack-data in /opt/conda/envs/anaconda-2022.05-py39/lib/python3.9/site-packages (from ipython>=5.3.0->cufflinks) (0.2.0)\n",
      "Requirement already satisfied: matplotlib-inline in /opt/conda/envs/anaconda-2022.05-py39/lib/python3.9/site-packages (from ipython>=5.3.0->cufflinks) (0.1.2)\n",
      "Requirement already satisfied: pexpect>4.3 in /opt/conda/envs/anaconda-2022.05-py39/lib/python3.9/site-packages (from ipython>=5.3.0->cufflinks) (4.8.0)\n",
      "Requirement already satisfied: pickleshare in /opt/conda/envs/anaconda-2022.05-py39/lib/python3.9/site-packages (from ipython>=5.3.0->cufflinks) (0.7.5)\n",
      "Requirement already satisfied: pygments>=2.4.0 in /opt/conda/envs/anaconda-2022.05-py39/lib/python3.9/site-packages (from ipython>=5.3.0->cufflinks) (2.11.2)\n",
      "Requirement already satisfied: backcall in /opt/conda/envs/anaconda-2022.05-py39/lib/python3.9/site-packages (from ipython>=5.3.0->cufflinks) (0.2.0)\n",
      "Requirement already satisfied: nbformat>=4.2.0 in /opt/conda/envs/anaconda-2022.05-py39/lib/python3.9/site-packages (from ipywidgets>=7.0.0->cufflinks) (5.3.0)\n",
      "Requirement already satisfied: widgetsnbextension~=3.5.0 in /opt/conda/envs/anaconda-2022.05-py39/lib/python3.9/site-packages (from ipywidgets>=7.0.0->cufflinks) (3.5.2)\n",
      "Requirement already satisfied: jupyterlab-widgets>=1.0.0 in /opt/conda/envs/anaconda-2022.05-py39/lib/python3.9/site-packages (from ipywidgets>=7.0.0->cufflinks) (1.0.0)\n",
      "Requirement already satisfied: ipython-genutils~=0.2.0 in /opt/conda/envs/anaconda-2022.05-py39/lib/python3.9/site-packages (from ipywidgets>=7.0.0->cufflinks) (0.2.0)\n",
      "Requirement already satisfied: ipykernel>=4.5.1 in /opt/conda/envs/anaconda-2022.05-py39/lib/python3.9/site-packages (from ipywidgets>=7.0.0->cufflinks) (6.9.1)\n",
      "Requirement already satisfied: nest-asyncio in /opt/conda/envs/anaconda-2022.05-py39/lib/python3.9/site-packages (from ipykernel>=4.5.1->ipywidgets>=7.0.0->cufflinks) (1.5.5)\n",
      "Requirement already satisfied: tornado<7.0,>=4.2 in /opt/conda/envs/anaconda-2022.05-py39/lib/python3.9/site-packages (from ipykernel>=4.5.1->ipywidgets>=7.0.0->cufflinks) (6.1)\n",
      "Requirement already satisfied: debugpy<2.0,>=1.0.0 in /opt/conda/envs/anaconda-2022.05-py39/lib/python3.9/site-packages (from ipykernel>=4.5.1->ipywidgets>=7.0.0->cufflinks) (1.5.1)\n",
      "Requirement already satisfied: jupyter-client<8.0 in /opt/conda/envs/anaconda-2022.05-py39/lib/python3.9/site-packages (from ipykernel>=4.5.1->ipywidgets>=7.0.0->cufflinks) (6.1.12)\n",
      "Requirement already satisfied: parso<0.9.0,>=0.8.0 in /opt/conda/envs/anaconda-2022.05-py39/lib/python3.9/site-packages (from jedi>=0.16->ipython>=5.3.0->cufflinks) (0.8.3)\n",
      "Requirement already satisfied: python-dateutil>=2.1 in /opt/conda/envs/anaconda-2022.05-py39/lib/python3.9/site-packages (from jupyter-client<8.0->ipykernel>=4.5.1->ipywidgets>=7.0.0->cufflinks) (2.8.2)\n",
      "Requirement already satisfied: jupyter-core>=4.6.0 in /opt/conda/envs/anaconda-2022.05-py39/lib/python3.9/site-packages (from jupyter-client<8.0->ipykernel>=4.5.1->ipywidgets>=7.0.0->cufflinks) (4.9.2)\n",
      "Requirement already satisfied: pyzmq>=13 in /opt/conda/envs/anaconda-2022.05-py39/lib/python3.9/site-packages (from jupyter-client<8.0->ipykernel>=4.5.1->ipywidgets>=7.0.0->cufflinks) (22.3.0)\n",
      "Requirement already satisfied: jsonschema>=2.6 in /opt/conda/envs/anaconda-2022.05-py39/lib/python3.9/site-packages (from nbformat>=4.2.0->ipywidgets>=7.0.0->cufflinks) (4.4.0)\n",
      "Requirement already satisfied: fastjsonschema in /opt/conda/envs/anaconda-2022.05-py39/lib/python3.9/site-packages (from nbformat>=4.2.0->ipywidgets>=7.0.0->cufflinks) (2.15.1)\n",
      "Requirement already satisfied: attrs>=17.4.0 in /opt/conda/envs/anaconda-2022.05-py39/lib/python3.9/site-packages (from jsonschema>=2.6->nbformat>=4.2.0->ipywidgets>=7.0.0->cufflinks) (21.4.0)\n",
      "Requirement already satisfied: pyrsistent!=0.17.0,!=0.17.1,!=0.17.2,>=0.14.0 in /opt/conda/envs/anaconda-2022.05-py39/lib/python3.9/site-packages (from jsonschema>=2.6->nbformat>=4.2.0->ipywidgets>=7.0.0->cufflinks) (0.18.0)\n",
      "Requirement already satisfied: pytz>=2020.1 in /opt/conda/envs/anaconda-2022.05-py39/lib/python3.9/site-packages (from pandas>=0.19.2->cufflinks) (2021.3)\n",
      "Requirement already satisfied: ptyprocess>=0.5 in /opt/conda/envs/anaconda-2022.05-py39/lib/python3.9/site-packages (from pexpect>4.3->ipython>=5.3.0->cufflinks) (0.7.0)\n",
      "Requirement already satisfied: tenacity>=6.2.0 in /opt/conda/envs/anaconda-2022.05-py39/lib/python3.9/site-packages (from plotly>=4.1.1->cufflinks) (8.0.1)\n",
      "Requirement already satisfied: wcwidth in /opt/conda/envs/anaconda-2022.05-py39/lib/python3.9/site-packages (from prompt-toolkit!=3.0.0,!=3.0.1,<3.1.0,>=2.0.0->ipython>=5.3.0->cufflinks) (0.2.5)\n",
      "Requirement already satisfied: notebook>=4.4.1 in /opt/conda/envs/anaconda-2022.05-py39/lib/python3.9/site-packages (from widgetsnbextension~=3.5.0->ipywidgets>=7.0.0->cufflinks) (6.4.8)\n",
      "Requirement already satisfied: nbconvert in /opt/conda/envs/anaconda-2022.05-py39/lib/python3.9/site-packages (from notebook>=4.4.1->widgetsnbextension~=3.5.0->ipywidgets>=7.0.0->cufflinks) (6.4.4)\n",
      "Requirement already satisfied: argon2-cffi in /opt/conda/envs/anaconda-2022.05-py39/lib/python3.9/site-packages (from notebook>=4.4.1->widgetsnbextension~=3.5.0->ipywidgets>=7.0.0->cufflinks) (21.3.0)\n",
      "Requirement already satisfied: prometheus-client in /opt/conda/envs/anaconda-2022.05-py39/lib/python3.9/site-packages (from notebook>=4.4.1->widgetsnbextension~=3.5.0->ipywidgets>=7.0.0->cufflinks) (0.13.1)\n",
      "Requirement already satisfied: jinja2 in /opt/conda/envs/anaconda-2022.05-py39/lib/python3.9/site-packages (from notebook>=4.4.1->widgetsnbextension~=3.5.0->ipywidgets>=7.0.0->cufflinks) (2.11.3)\n",
      "Requirement already satisfied: terminado>=0.8.3 in /opt/conda/envs/anaconda-2022.05-py39/lib/python3.9/site-packages (from notebook>=4.4.1->widgetsnbextension~=3.5.0->ipywidgets>=7.0.0->cufflinks) (0.13.1)\n",
      "Requirement already satisfied: Send2Trash>=1.8.0 in /opt/conda/envs/anaconda-2022.05-py39/lib/python3.9/site-packages (from notebook>=4.4.1->widgetsnbextension~=3.5.0->ipywidgets>=7.0.0->cufflinks) (1.8.0)\n",
      "Requirement already satisfied: argon2-cffi-bindings in /opt/conda/envs/anaconda-2022.05-py39/lib/python3.9/site-packages (from argon2-cffi->notebook>=4.4.1->widgetsnbextension~=3.5.0->ipywidgets>=7.0.0->cufflinks) (21.2.0)\n",
      "Requirement already satisfied: cffi>=1.0.1 in /opt/conda/envs/anaconda-2022.05-py39/lib/python3.9/site-packages (from argon2-cffi-bindings->argon2-cffi->notebook>=4.4.1->widgetsnbextension~=3.5.0->ipywidgets>=7.0.0->cufflinks) (1.15.0)\n",
      "Requirement already satisfied: pycparser in /opt/conda/envs/anaconda-2022.05-py39/lib/python3.9/site-packages (from cffi>=1.0.1->argon2-cffi-bindings->argon2-cffi->notebook>=4.4.1->widgetsnbextension~=3.5.0->ipywidgets>=7.0.0->cufflinks) (2.21)\n",
      "Requirement already satisfied: MarkupSafe>=0.23 in /opt/conda/envs/anaconda-2022.05-py39/lib/python3.9/site-packages (from jinja2->notebook>=4.4.1->widgetsnbextension~=3.5.0->ipywidgets>=7.0.0->cufflinks) (2.0.1)\n",
      "Requirement already satisfied: nbclient<0.6.0,>=0.5.0 in /opt/conda/envs/anaconda-2022.05-py39/lib/python3.9/site-packages (from nbconvert->notebook>=4.4.1->widgetsnbextension~=3.5.0->ipywidgets>=7.0.0->cufflinks) (0.5.13)\n",
      "Requirement already satisfied: mistune<2,>=0.8.1 in /opt/conda/envs/anaconda-2022.05-py39/lib/python3.9/site-packages (from nbconvert->notebook>=4.4.1->widgetsnbextension~=3.5.0->ipywidgets>=7.0.0->cufflinks) (0.8.4)\n",
      "Requirement already satisfied: bleach in /opt/conda/envs/anaconda-2022.05-py39/lib/python3.9/site-packages (from nbconvert->notebook>=4.4.1->widgetsnbextension~=3.5.0->ipywidgets>=7.0.0->cufflinks) (4.1.0)\n",
      "Requirement already satisfied: pandocfilters>=1.4.1 in /opt/conda/envs/anaconda-2022.05-py39/lib/python3.9/site-packages (from nbconvert->notebook>=4.4.1->widgetsnbextension~=3.5.0->ipywidgets>=7.0.0->cufflinks) (1.5.0)\n",
      "Requirement already satisfied: testpath in /opt/conda/envs/anaconda-2022.05-py39/lib/python3.9/site-packages (from nbconvert->notebook>=4.4.1->widgetsnbextension~=3.5.0->ipywidgets>=7.0.0->cufflinks) (0.5.0)\n",
      "Requirement already satisfied: defusedxml in /opt/conda/envs/anaconda-2022.05-py39/lib/python3.9/site-packages (from nbconvert->notebook>=4.4.1->widgetsnbextension~=3.5.0->ipywidgets>=7.0.0->cufflinks) (0.7.1)\n",
      "Requirement already satisfied: entrypoints>=0.2.2 in /opt/conda/envs/anaconda-2022.05-py39/lib/python3.9/site-packages (from nbconvert->notebook>=4.4.1->widgetsnbextension~=3.5.0->ipywidgets>=7.0.0->cufflinks) (0.4)\n",
      "Requirement already satisfied: beautifulsoup4 in /opt/conda/envs/anaconda-2022.05-py39/lib/python3.9/site-packages (from nbconvert->notebook>=4.4.1->widgetsnbextension~=3.5.0->ipywidgets>=7.0.0->cufflinks) (4.11.1)\n",
      "Requirement already satisfied: jupyterlab-pygments in /opt/conda/envs/anaconda-2022.05-py39/lib/python3.9/site-packages (from nbconvert->notebook>=4.4.1->widgetsnbextension~=3.5.0->ipywidgets>=7.0.0->cufflinks) (0.1.2)\n",
      "Requirement already satisfied: soupsieve>1.2 in /opt/conda/envs/anaconda-2022.05-py39/lib/python3.9/site-packages (from beautifulsoup4->nbconvert->notebook>=4.4.1->widgetsnbextension~=3.5.0->ipywidgets>=7.0.0->cufflinks) (2.3.1)\n",
      "Requirement already satisfied: webencodings in /opt/conda/envs/anaconda-2022.05-py39/lib/python3.9/site-packages (from bleach->nbconvert->notebook>=4.4.1->widgetsnbextension~=3.5.0->ipywidgets>=7.0.0->cufflinks) (0.5.1)\n",
      "Requirement already satisfied: packaging in /opt/conda/envs/anaconda-2022.05-py39/lib/python3.9/site-packages (from bleach->nbconvert->notebook>=4.4.1->widgetsnbextension~=3.5.0->ipywidgets>=7.0.0->cufflinks) (21.3)\n",
      "Requirement already satisfied: pyparsing!=3.0.5,>=2.0.2 in /opt/conda/envs/anaconda-2022.05-py39/lib/python3.9/site-packages (from packaging->bleach->nbconvert->notebook>=4.4.1->widgetsnbextension~=3.5.0->ipywidgets>=7.0.0->cufflinks) (3.0.4)\n",
      "Requirement already satisfied: asttokens in /opt/conda/envs/anaconda-2022.05-py39/lib/python3.9/site-packages (from stack-data->ipython>=5.3.0->cufflinks) (2.0.5)\n",
      "Requirement already satisfied: executing in /opt/conda/envs/anaconda-2022.05-py39/lib/python3.9/site-packages (from stack-data->ipython>=5.3.0->cufflinks) (0.8.3)\n",
      "Requirement already satisfied: pure-eval in /opt/conda/envs/anaconda-2022.05-py39/lib/python3.9/site-packages (from stack-data->ipython>=5.3.0->cufflinks) (0.2.2)\n",
      "Note: you may need to restart the kernel to use updated packages.\n"
     ]
    }
   ],
   "source": [
    "%pip install gspread_pandas\n",
    "%pip install fooddatacentral\n",
    "%pip install pint\n",
    "%pip install cufflinks\n",
    "\n",
    "#Link to the deliverables https://github.com/ligonteaching/EEP153_Materials/blob/master/Project2/goals.pdf"
   ]
  },
  {
   "cell_type": "code",
   "execution_count": 109,
   "id": "20961aed-6679-4fe7-bcda-5e47ab1a8862",
   "metadata": {},
   "outputs": [
    {
     "data": {
      "text/html": [
       "        <script type=\"text/javascript\">\n",
       "        window.PlotlyConfig = {MathJaxConfig: 'local'};\n",
       "        if (window.MathJax) {MathJax.Hub.Config({SVG: {font: \"STIX-Web\"}});}\n",
       "        if (typeof require !== 'undefined') {\n",
       "        require.undef(\"plotly\");\n",
       "        requirejs.config({\n",
       "            paths: {\n",
       "                'plotly': ['https://cdn.plot.ly/plotly-2.9.0.min']\n",
       "            }\n",
       "        });\n",
       "        require(['plotly'], function(Plotly) {\n",
       "            window._Plotly = Plotly;\n",
       "        });\n",
       "        }\n",
       "        </script>\n",
       "        "
      ]
     },
     "metadata": {},
     "output_type": "display_data"
    },
    {
     "data": {
      "text/html": [
       "<div>\n",
       "<style scoped>\n",
       "    .dataframe tbody tr th:only-of-type {\n",
       "        vertical-align: middle;\n",
       "    }\n",
       "\n",
       "    .dataframe tbody tr th {\n",
       "        vertical-align: top;\n",
       "    }\n",
       "\n",
       "    .dataframe thead th {\n",
       "        text-align: right;\n",
       "    }\n",
       "</style>\n",
       "<table border=\"1\" class=\"dataframe\">\n",
       "  <thead>\n",
       "    <tr style=\"text-align: right;\">\n",
       "      <th></th>\n",
       "      <th>Quantity</th>\n",
       "      <th>Units</th>\n",
       "    </tr>\n",
       "  </thead>\n",
       "  <tbody>\n",
       "    <tr>\n",
       "      <th>Total lipid (fat)</th>\n",
       "      <td>3.53</td>\n",
       "      <td>g</td>\n",
       "    </tr>\n",
       "    <tr>\n",
       "      <th>Vitamin C, total ascorbic acid</th>\n",
       "      <td>0.00</td>\n",
       "      <td>mg</td>\n",
       "    </tr>\n",
       "    <tr>\n",
       "      <th>Vitamin A, IU</th>\n",
       "      <td>0.00</td>\n",
       "      <td>IU</td>\n",
       "    </tr>\n",
       "    <tr>\n",
       "      <th>Protein</th>\n",
       "      <td>8.24</td>\n",
       "      <td>g</td>\n",
       "    </tr>\n",
       "    <tr>\n",
       "      <th>Carbohydrate, by difference</th>\n",
       "      <td>19.41</td>\n",
       "      <td>g</td>\n",
       "    </tr>\n",
       "    <tr>\n",
       "      <th>Calcium, Ca</th>\n",
       "      <td>24.00</td>\n",
       "      <td>mg</td>\n",
       "    </tr>\n",
       "    <tr>\n",
       "      <th>Energy</th>\n",
       "      <td>141.00</td>\n",
       "      <td>kcal</td>\n",
       "    </tr>\n",
       "    <tr>\n",
       "      <th>Sugars, total including NLEA</th>\n",
       "      <td>1.18</td>\n",
       "      <td>g</td>\n",
       "    </tr>\n",
       "    <tr>\n",
       "      <th>Fatty acids, total trans</th>\n",
       "      <td>0.00</td>\n",
       "      <td>g</td>\n",
       "    </tr>\n",
       "    <tr>\n",
       "      <th>Fatty acids, total saturated</th>\n",
       "      <td>0.88</td>\n",
       "      <td>g</td>\n",
       "    </tr>\n",
       "    <tr>\n",
       "      <th>Iron, Fe</th>\n",
       "      <td>0.85</td>\n",
       "      <td>mg</td>\n",
       "    </tr>\n",
       "    <tr>\n",
       "      <th>Sodium, Na</th>\n",
       "      <td>329.00</td>\n",
       "      <td>mg</td>\n",
       "    </tr>\n",
       "    <tr>\n",
       "      <th>Fiber, total dietary</th>\n",
       "      <td>1.20</td>\n",
       "      <td>g</td>\n",
       "    </tr>\n",
       "    <tr>\n",
       "      <th>Cholesterol</th>\n",
       "      <td>18.00</td>\n",
       "      <td>mg</td>\n",
       "    </tr>\n",
       "  </tbody>\n",
       "</table>\n",
       "</div>"
      ],
      "text/plain": [
       "                                Quantity Units\n",
       "Total lipid (fat)                   3.53     g\n",
       "Vitamin C, total ascorbic acid      0.00    mg\n",
       "Vitamin A, IU                       0.00    IU\n",
       "Protein                             8.24     g\n",
       "Carbohydrate, by difference        19.41     g\n",
       "Calcium, Ca                        24.00    mg\n",
       "Energy                            141.00  kcal\n",
       "Sugars, total including NLEA        1.18     g\n",
       "Fatty acids, total trans            0.00     g\n",
       "Fatty acids, total saturated        0.88     g\n",
       "Iron, Fe                            0.85    mg\n",
       "Sodium, Na                        329.00    mg\n",
       "Fiber, total dietary                1.20     g\n",
       "Cholesterol                        18.00    mg"
      ]
     },
     "execution_count": 109,
     "metadata": {},
     "output_type": "execute_result"
    }
   ],
   "source": [
    "#Configuration\n",
    "from  scipy.optimize import linprog as lp\n",
    "import numpy as np\n",
    "import warnings\n",
    "import pandas as pd\n",
    "import eep153_tools\n",
    "from eep153_tools.sheets import read_sheets\n",
    "import fooddatacentral as fdc\n",
    "import cufflinks as cf\n",
    "cf.go_offline()\n",
    "tol = 1e-5\n",
    "\n",
    "apikey = 'XGLMhknvg8y65j7VpcMisC5nQrRGbdgqUe3GJRQY' \n",
    "\n",
    "#Test case to see if our APIKEY works\n",
    "fdc.search(apikey,\"marmite\")\n",
    "id =  2110211   # Put an FDC ID HERE!\n",
    "fdc.nutrients(apikey,fdc_id=id)"
   ]
  },
  {
   "cell_type": "code",
   "execution_count": 113,
   "id": "aa35be01-737c-488f-81b7-468e4ad18fe2",
   "metadata": {},
   "outputs": [
    {
     "name": "stdout",
     "output_type": "stream",
     "text": [
      "Our group has decided to investigate the minimum cost diet of Berkeley students. We segmented our students into two possible routes: those who purchase meals with the food available on campus and those who cook with groceries off campus. We excluded students who eat out at restaurants because that is of a much higher budget range. The on-campus options included Golden Bear Cafe, Cafe Think, Rice & Bones, Goldie’s Coffee, Bears’ Lair, and Brown’s. We excluded freshman dining halls such as Crossroads because they are technically not on the school campus and only accept meal swipes and not the conventional form of currency. For off-campus groceries, we looked at both Trader Joe’s and Safeway, two of the biggest grocery chains nearby.\n"
     ]
    }
   ],
   "source": [
    "#[A] Description of Population of Interest\n",
    "\n",
    "print('Our group has decided to investigate the minimum cost diet of Berkeley students. We segmented our students into two possible routes: those who purchase meals with the food available on campus and those who cook with groceries off campus. We excluded students who eat out at restaurants because that is of a much higher budget range. The on-campus options included Golden Bear Cafe, Cafe Think, Rice & Bones, Goldie’s Coffee, Bears’ Lair, and Brown’s. We excluded freshman dining halls such as Crossroads because they are technically not on the school campus and only accept meal swipes and not the conventional form of currency. For off-campus groceries, we looked at both Trader Joe’s and Safeway, two of the biggest grocery chains nearby.')\n"
   ]
  },
  {
   "cell_type": "code",
   "execution_count": 114,
   "id": "730da069-6060-4597-a9ed-4a1ba8433028",
   "metadata": {},
   "outputs": [
    {
     "name": "stdout",
     "output_type": "stream",
     "text": [
      "Key available for students@eep153.iam.gserviceaccount.com.\n",
      "Key available for students@eep153.iam.gserviceaccount.com.\n",
      "We collected data on prices for different foods sold off-campus and on-campus.\n"
     ]
    },
    {
     "data": {
      "text/html": [
       "<div>\n",
       "<style scoped>\n",
       "    .dataframe tbody tr th:only-of-type {\n",
       "        vertical-align: middle;\n",
       "    }\n",
       "\n",
       "    .dataframe tbody tr th {\n",
       "        vertical-align: top;\n",
       "    }\n",
       "\n",
       "    .dataframe thead th {\n",
       "        text-align: right;\n",
       "    }\n",
       "</style>\n",
       "<table border=\"1\" class=\"dataframe\">\n",
       "  <thead>\n",
       "    <tr style=\"text-align: right;\">\n",
       "      <th></th>\n",
       "      <th>Quantity</th>\n",
       "      <th>Units</th>\n",
       "      <th>Price</th>\n",
       "      <th>Date</th>\n",
       "      <th>Location</th>\n",
       "      <th>FDC</th>\n",
       "    </tr>\n",
       "    <tr>\n",
       "      <th>Food</th>\n",
       "      <th></th>\n",
       "      <th></th>\n",
       "      <th></th>\n",
       "      <th></th>\n",
       "      <th></th>\n",
       "      <th></th>\n",
       "    </tr>\n",
       "  </thead>\n",
       "  <tbody>\n",
       "    <tr>\n",
       "      <th>Wheat Flour</th>\n",
       "      <td>80.0</td>\n",
       "      <td>oz</td>\n",
       "      <td>3.79</td>\n",
       "      <td>[2023-2-25]</td>\n",
       "      <td>Safeway</td>\n",
       "      <td>789951</td>\n",
       "    </tr>\n",
       "    <tr>\n",
       "      <th>Eggs</th>\n",
       "      <td>408.0</td>\n",
       "      <td>grams</td>\n",
       "      <td>4.89</td>\n",
       "      <td>[2023-2-25]</td>\n",
       "      <td>Safeway</td>\n",
       "      <td>747997</td>\n",
       "    </tr>\n",
       "    <tr>\n",
       "      <th>White Bread</th>\n",
       "      <td>22.0</td>\n",
       "      <td>oz</td>\n",
       "      <td>3.00</td>\n",
       "      <td>[2023-2-25]</td>\n",
       "      <td>Safeway</td>\n",
       "      <td>325871</td>\n",
       "    </tr>\n",
       "    <tr>\n",
       "      <th>Whole Milk</th>\n",
       "      <td>1.0</td>\n",
       "      <td>gallon</td>\n",
       "      <td>5.99</td>\n",
       "      <td>[2023-2-25]</td>\n",
       "      <td>Safeway</td>\n",
       "      <td>746782</td>\n",
       "    </tr>\n",
       "    <tr>\n",
       "      <th>Sliced Ham</th>\n",
       "      <td>14.0</td>\n",
       "      <td>oz</td>\n",
       "      <td>5.49</td>\n",
       "      <td>[2023-2-25]</td>\n",
       "      <td>Safeway</td>\n",
       "      <td>332397</td>\n",
       "    </tr>\n",
       "    <tr>\n",
       "      <th>...</th>\n",
       "      <td>...</td>\n",
       "      <td>...</td>\n",
       "      <td>...</td>\n",
       "      <td>...</td>\n",
       "      <td>...</td>\n",
       "      <td>...</td>\n",
       "    </tr>\n",
       "    <tr>\n",
       "      <th>Canola Oil</th>\n",
       "      <td>24.0</td>\n",
       "      <td>oz</td>\n",
       "      <td>4.99</td>\n",
       "      <td>[2023-3-1]</td>\n",
       "      <td>Safeway</td>\n",
       "      <td>748278</td>\n",
       "    </tr>\n",
       "    <tr>\n",
       "      <th>Butter</th>\n",
       "      <td>16.0</td>\n",
       "      <td>oz</td>\n",
       "      <td>5.99</td>\n",
       "      <td>[2023-3-1]</td>\n",
       "      <td>Safeway</td>\n",
       "      <td>789828</td>\n",
       "    </tr>\n",
       "    <tr>\n",
       "      <th>Gouda Cheese</th>\n",
       "      <td>7.0</td>\n",
       "      <td>oz</td>\n",
       "      <td>4.79</td>\n",
       "      <td>[2023-3-1]</td>\n",
       "      <td>Safeway</td>\n",
       "      <td>171241</td>\n",
       "    </tr>\n",
       "    <tr>\n",
       "      <th>Sour Cream</th>\n",
       "      <td>16.0</td>\n",
       "      <td>oz</td>\n",
       "      <td>3.49</td>\n",
       "      <td>[2023-3-1]</td>\n",
       "      <td>Safeway</td>\n",
       "      <td>173443</td>\n",
       "    </tr>\n",
       "    <tr>\n",
       "      <th>Sunflower Seeds</th>\n",
       "      <td>5.0</td>\n",
       "      <td>oz</td>\n",
       "      <td>2.49</td>\n",
       "      <td>[2023-3-1]</td>\n",
       "      <td>Safeway</td>\n",
       "      <td>325524</td>\n",
       "    </tr>\n",
       "  </tbody>\n",
       "</table>\n",
       "<p>99 rows × 6 columns</p>\n",
       "</div>"
      ],
      "text/plain": [
       "                 Quantity   Units  Price         Date Location     FDC\n",
       "Food                                                                  \n",
       "Wheat Flour          80.0      oz   3.79  [2023-2-25]  Safeway  789951\n",
       "Eggs                408.0   grams   4.89  [2023-2-25]  Safeway  747997\n",
       "White Bread          22.0      oz   3.00  [2023-2-25]  Safeway  325871\n",
       "Whole Milk            1.0  gallon   5.99  [2023-2-25]  Safeway  746782\n",
       "Sliced Ham           14.0      oz   5.49  [2023-2-25]  Safeway  332397\n",
       "...                   ...     ...    ...          ...      ...     ...\n",
       "Canola Oil           24.0      oz   4.99   [2023-3-1]  Safeway  748278\n",
       "Butter               16.0      oz   5.99   [2023-3-1]  Safeway  789828\n",
       "Gouda Cheese          7.0      oz   4.79   [2023-3-1]  Safeway  171241\n",
       "Sour Cream           16.0      oz   3.49   [2023-3-1]  Safeway  173443\n",
       "Sunflower Seeds       5.0      oz   2.49   [2023-3-1]  Safeway  325524\n",
       "\n",
       "[99 rows x 6 columns]"
      ]
     },
     "execution_count": 114,
     "metadata": {},
     "output_type": "execute_result"
    }
   ],
   "source": [
    "#[A] Data on Prices for Different Foods \n",
    "\n",
    "#Here we are loading the dataframes with information we collected for off and on-campus foods \n",
    "#df is our on-campus dataframe, df_offcampus is our off-campus dataframe\n",
    "df = read_sheets(\"1O1JwxbaDF1ubq_OY2wPdsjVH9Kcn1xollVqG8bmDpbU\",sheet=\"on_campus\") \n",
    "df_offcampus = read_sheets(\"1O1JwxbaDF1ubq_OY2wPdsjVH9Kcn1xollVqG8bmDpbU\",sheet='off_campus')\n",
    "\n",
    "df = df.set_index('Food')\n",
    "df_offcampus = df_offcampus.set_index('Food')\n",
    "\n",
    "print('We collected data on prices for different foods sold off-campus and on-campus.')\n",
    "df\n",
    "df_offcampus"
   ]
  },
  {
   "cell_type": "code",
   "execution_count": 116,
   "id": "cee155ac-8455-474c-a60b-288a6c548268",
   "metadata": {},
   "outputs": [
    {
     "name": "stderr",
     "output_type": "stream",
     "text": [
      "/opt/conda/envs/anaconda-2022.05-py39/lib/python3.9/site-packages/pandas/core/dtypes/cast.py:1981: UnitStrippedWarning:\n",
      "\n",
      "The unit of the quantity is stripped when downcasting to ndarray.\n",
      "\n",
      "/opt/conda/envs/anaconda-2022.05-py39/lib/python3.9/site-packages/pandas/core/dtypes/cast.py:1981: UnitStrippedWarning:\n",
      "\n",
      "The unit of the quantity is stripped when downcasting to ndarray.\n",
      "\n"
     ]
    },
    {
     "data": {
      "text/html": [
       "<div>\n",
       "<style scoped>\n",
       "    .dataframe tbody tr th:only-of-type {\n",
       "        vertical-align: middle;\n",
       "    }\n",
       "\n",
       "    .dataframe tbody tr th {\n",
       "        vertical-align: top;\n",
       "    }\n",
       "\n",
       "    .dataframe thead th {\n",
       "        text-align: right;\n",
       "    }\n",
       "</style>\n",
       "<table border=\"1\" class=\"dataframe\">\n",
       "  <thead>\n",
       "    <tr style=\"text-align: right;\">\n",
       "      <th></th>\n",
       "      <th>Quantity</th>\n",
       "      <th>Units</th>\n",
       "      <th>Price</th>\n",
       "      <th>Date</th>\n",
       "      <th>Location</th>\n",
       "      <th>FDC</th>\n",
       "      <th>FDC Quantity</th>\n",
       "      <th>FDC Price</th>\n",
       "    </tr>\n",
       "    <tr>\n",
       "      <th>Food</th>\n",
       "      <th></th>\n",
       "      <th></th>\n",
       "      <th></th>\n",
       "      <th></th>\n",
       "      <th></th>\n",
       "      <th></th>\n",
       "      <th></th>\n",
       "      <th></th>\n",
       "    </tr>\n",
       "  </thead>\n",
       "  <tbody>\n",
       "    <tr>\n",
       "      <th>Wheat Flour</th>\n",
       "      <td>80.0</td>\n",
       "      <td>oz</td>\n",
       "      <td>3.79</td>\n",
       "      <td>[2023-2-25]</td>\n",
       "      <td>Safeway</td>\n",
       "      <td>789951</td>\n",
       "      <td>22.679618500000004 hectogram</td>\n",
       "      <td>0.16711039473613717 / hectogram</td>\n",
       "    </tr>\n",
       "    <tr>\n",
       "      <th>Eggs</th>\n",
       "      <td>408.0</td>\n",
       "      <td>grams</td>\n",
       "      <td>4.89</td>\n",
       "      <td>[2023-2-25]</td>\n",
       "      <td>Safeway</td>\n",
       "      <td>747997</td>\n",
       "      <td>4.08 hectogram</td>\n",
       "      <td>1.1985294117647058 / hectogram</td>\n",
       "    </tr>\n",
       "    <tr>\n",
       "      <th>White Bread</th>\n",
       "      <td>22.0</td>\n",
       "      <td>oz</td>\n",
       "      <td>3.00</td>\n",
       "      <td>[2023-2-25]</td>\n",
       "      <td>Safeway</td>\n",
       "      <td>325871</td>\n",
       "      <td>6.236895087500001 hectogram</td>\n",
       "      <td>0.48100857203973285 / hectogram</td>\n",
       "    </tr>\n",
       "    <tr>\n",
       "      <th>Whole Milk</th>\n",
       "      <td>1.0</td>\n",
       "      <td>gallon</td>\n",
       "      <td>5.99</td>\n",
       "      <td>[2023-2-25]</td>\n",
       "      <td>Safeway</td>\n",
       "      <td>746782</td>\n",
       "      <td>37.85411783999999 deciliter</td>\n",
       "      <td>0.15823905936253096 / deciliter</td>\n",
       "    </tr>\n",
       "    <tr>\n",
       "      <th>Sliced Ham</th>\n",
       "      <td>14.0</td>\n",
       "      <td>oz</td>\n",
       "      <td>5.49</td>\n",
       "      <td>[2023-2-25]</td>\n",
       "      <td>Safeway</td>\n",
       "      <td>332397</td>\n",
       "      <td>3.9689332375000004 hectogram</td>\n",
       "      <td>1.383243222165689 / hectogram</td>\n",
       "    </tr>\n",
       "    <tr>\n",
       "      <th>...</th>\n",
       "      <td>...</td>\n",
       "      <td>...</td>\n",
       "      <td>...</td>\n",
       "      <td>...</td>\n",
       "      <td>...</td>\n",
       "      <td>...</td>\n",
       "      <td>...</td>\n",
       "      <td>...</td>\n",
       "    </tr>\n",
       "    <tr>\n",
       "      <th>Canola Oil</th>\n",
       "      <td>24.0</td>\n",
       "      <td>oz</td>\n",
       "      <td>4.99</td>\n",
       "      <td>[2023-3-1]</td>\n",
       "      <td>Safeway</td>\n",
       "      <td>748278</td>\n",
       "      <td>6.80388555 hectogram</td>\n",
       "      <td>0.7334044588683594 / hectogram</td>\n",
       "    </tr>\n",
       "    <tr>\n",
       "      <th>Butter</th>\n",
       "      <td>16.0</td>\n",
       "      <td>oz</td>\n",
       "      <td>5.99</td>\n",
       "      <td>[2023-3-1]</td>\n",
       "      <td>Safeway</td>\n",
       "      <td>789828</td>\n",
       "      <td>4.535923700000001 hectogram</td>\n",
       "      <td>1.3205689504874165 / hectogram</td>\n",
       "    </tr>\n",
       "    <tr>\n",
       "      <th>Gouda Cheese</th>\n",
       "      <td>7.0</td>\n",
       "      <td>oz</td>\n",
       "      <td>4.79</td>\n",
       "      <td>[2023-3-1]</td>\n",
       "      <td>Safeway</td>\n",
       "      <td>171241</td>\n",
       "      <td>1.9844666187500002 hectogram</td>\n",
       "      <td>2.413746824835574 / hectogram</td>\n",
       "    </tr>\n",
       "    <tr>\n",
       "      <th>Sour Cream</th>\n",
       "      <td>16.0</td>\n",
       "      <td>oz</td>\n",
       "      <td>3.49</td>\n",
       "      <td>[2023-3-1]</td>\n",
       "      <td>Safeway</td>\n",
       "      <td>173443</td>\n",
       "      <td>4.535923700000001 hectogram</td>\n",
       "      <td>0.7694132950252227 / hectogram</td>\n",
       "    </tr>\n",
       "    <tr>\n",
       "      <th>Sunflower Seeds</th>\n",
       "      <td>5.0</td>\n",
       "      <td>oz</td>\n",
       "      <td>2.49</td>\n",
       "      <td>[2023-3-1]</td>\n",
       "      <td>Safeway</td>\n",
       "      <td>325524</td>\n",
       "      <td>1.4174761562500002 hectogram</td>\n",
       "      <td>1.7566433050891044 / hectogram</td>\n",
       "    </tr>\n",
       "  </tbody>\n",
       "</table>\n",
       "<p>99 rows × 8 columns</p>\n",
       "</div>"
      ],
      "text/plain": [
       "                 Quantity   Units  Price         Date Location     FDC  \\\n",
       "Food                                                                     \n",
       "Wheat Flour          80.0      oz   3.79  [2023-2-25]  Safeway  789951   \n",
       "Eggs                408.0   grams   4.89  [2023-2-25]  Safeway  747997   \n",
       "White Bread          22.0      oz   3.00  [2023-2-25]  Safeway  325871   \n",
       "Whole Milk            1.0  gallon   5.99  [2023-2-25]  Safeway  746782   \n",
       "Sliced Ham           14.0      oz   5.49  [2023-2-25]  Safeway  332397   \n",
       "...                   ...     ...    ...          ...      ...     ...   \n",
       "Canola Oil           24.0      oz   4.99   [2023-3-1]  Safeway  748278   \n",
       "Butter               16.0      oz   5.99   [2023-3-1]  Safeway  789828   \n",
       "Gouda Cheese          7.0      oz   4.79   [2023-3-1]  Safeway  171241   \n",
       "Sour Cream           16.0      oz   3.49   [2023-3-1]  Safeway  173443   \n",
       "Sunflower Seeds       5.0      oz   2.49   [2023-3-1]  Safeway  325524   \n",
       "\n",
       "                                 FDC Quantity                        FDC Price  \n",
       "Food                                                                            \n",
       "Wheat Flour      22.679618500000004 hectogram  0.16711039473613717 / hectogram  \n",
       "Eggs                           4.08 hectogram   1.1985294117647058 / hectogram  \n",
       "White Bread       6.236895087500001 hectogram  0.48100857203973285 / hectogram  \n",
       "Whole Milk        37.85411783999999 deciliter  0.15823905936253096 / deciliter  \n",
       "Sliced Ham       3.9689332375000004 hectogram    1.383243222165689 / hectogram  \n",
       "...                                       ...                              ...  \n",
       "Canola Oil               6.80388555 hectogram   0.7334044588683594 / hectogram  \n",
       "Butter            4.535923700000001 hectogram   1.3205689504874165 / hectogram  \n",
       "Gouda Cheese     1.9844666187500002 hectogram    2.413746824835574 / hectogram  \n",
       "Sour Cream        4.535923700000001 hectogram   0.7694132950252227 / hectogram  \n",
       "Sunflower Seeds  1.4174761562500002 hectogram   1.7566433050891044 / hectogram  \n",
       "\n",
       "[99 rows x 8 columns]"
      ]
     },
     "execution_count": 116,
     "metadata": {},
     "output_type": "execute_result"
    }
   ],
   "source": [
    "#Here we are cleaning the data by: \n",
    "\n",
    "# Convert food quantities to FDC units\n",
    "df['FDC Quantity'] = df[['Quantity','Units']].T.apply(lambda x : fdc.units(x['Quantity'],x['Units']))\n",
    "df['FDC Price'] = df['Price']/df['FDC Quantity'] # Dividing price by the FDC Quantity to get price per hectoliter\n",
    "df.dropna(how='any') # Drop food with any missing data\n",
    "Prices = df.groupby('Food')['FDC Price'].min()\n",
    "\n",
    "#Off campus calulations to transfer to hectoliter\n",
    "df_offcampus['FDC Quantity'] = df_offcampus[['Quantity','Units']].T.apply(lambda x : fdc.units(x['Quantity'],x['Units']))\n",
    "df_offcampus['FDC Price'] = df_offcampus['Price']/df_offcampus['FDC Quantity']\n",
    "df_offcampus.dropna(how='any') # Drop food with any missing data\n",
    "Prices_off = df_offcampus.groupby('Food')['FDC Price'].min()\n",
    "\n",
    "\n",
    "#These two variables show the prices per food off and on campus in hectoliters \n",
    "df\n",
    "df_offcampus"
   ]
  },
  {
   "cell_type": "code",
   "execution_count": 117,
   "id": "3b5b9f84-e76a-414c-a088-72d1300e2c1c",
   "metadata": {},
   "outputs": [
    {
     "name": "stdout",
     "output_type": "stream",
     "text": [
      "Turkey & Swiss Sandwich\n",
      "Caprese Panini\n",
      "Chicken Paprika\n",
      "Thai Marinated chicken Bahn Mi\n",
      "French Fries\n",
      "Black Beans & Corn Quesadilla \n",
      "Chicken Quesadilla \n",
      "Panko Crusted Fried Chicken Sandwich\n",
      "Think Grass Fed Burger\n",
      "Ham & Cheese Croissant\n",
      "Banana\n",
      "Chocolate Croissant\n",
      "Banana Muffin\n",
      "Tropical Hibusicus Green Tea\n",
      "Drip Coffee (Reg or Decaf)\n",
      "Espresso\n",
      "Americano\n",
      "Cappuccino\n",
      "Latte\n",
      "Caramel Macchiato\n",
      "Hot Chocolate\n",
      "Steamed Milk\n",
      "Hot Tea\n",
      "Chef Salad\n",
      "Tropical Fruit Bowl\n",
      "Raspberry Chobani Greek Yogurt \n",
      "Strawberry Banana Naked Juice \n",
      "Yerbamate\n",
      "Winter Chopped Salad\n",
      "Kale & Beets\n",
      "Vegetable Cassoulet\n",
      "Roast Chicken Breast\n",
      "King Salmon & French Lentils\n",
      "Beef Bourguignon\n",
      "Chocolate Cake\n",
      "Steamed Veggie Bun\n",
      "Steamed Chicken Bun\n",
      "Veggie Spring Rolls\n",
      "Vietnamese Coffee\n",
      "Vegan Pho \n",
      "Hibiscus Lemonade\n",
      "Breakfast Burrito\n",
      "Bacon Burrito\n",
      "Turkey Sausage Burrito \n",
      "Breakfast Egg Croissant \n",
      "Bacon Croissant \n",
      "Turkey Saussage Croissant \n",
      "Hash Brown Patties\n",
      "Small Fruit Cup\n",
      "Philly Cheesesteak\n",
      "Cheeseburger\n",
      "Beyond Burger\n",
      "Fried Chicken Sandwhich\n",
      "Salmon and Fennel Slaw Sandwhich\n",
      "Mapo Tofu Bowl\n",
      "Buffalo Chicken Salad\n",
      "California Greens Salad\n",
      "Buffalo Chicken Loaded Fries\n",
      "Cross Cut Fries\n",
      "Large Fruit Salad\n",
      "Regular Coffee\n",
      "Decaf Coffee\n",
      "Hot Tea\n",
      "Orange Juice\n",
      "Milk\n",
      "Rotisserie Tri Tip\n",
      "Roasted Chicken Breast\n",
      "Seared Salmon Fillet\n",
      "Seared Tofu\n",
      "Garlic Fries\n",
      "Vegetable Medley\n",
      "Heriloom Grains\n",
      "Brown Rice\n",
      "Wheat Flour\n",
      "Eggs\n",
      "White Bread\n",
      "Whole Milk\n",
      "Sliced Ham\n",
      "Salad Greens\n",
      "Banana\n",
      "Chicken Breasts\n",
      "Coffee Roast\n",
      "Tortillas\n",
      "Salmon\n",
      "Tomato\n",
      "Blueberry Muffin\n",
      "Russet Potatoes\n",
      "Chicken Noodle Canned Soup\n",
      "Canned Corn\n",
      "Broccoli\n",
      "Apple\n",
      "Pasta (Rotini)\n",
      "Sausage\n",
      "Carrot\n",
      "Yellow Onion\n",
      "Lentils\n",
      "Whole Milk\n",
      "Spinach\n",
      "Sweet Potato\n",
      "Russet Potato\n",
      "Beets\n",
      "Sugar\n",
      "Flour\n",
      "Black Beans\n",
      "Eggs\n",
      "Banana\n",
      "White Bread\n",
      "Chicken Breast\n",
      "Salmon\n",
      "Tofu\n",
      "Jasmine Rice\n",
      "Salad Mix\n",
      "Spaghetti\n",
      "Ground Coffee\n",
      "Claw Blue Swimming Crab Meat\n",
      "Waterfront Bistro Crabmeat Imitation Chunk Style Fully Cooked\n",
      "Waterfront Bistro Crabmeat Imitation Flake Style Fully Cooked\n",
      "Waterfront Bistro Salmon Nova Atlantic Smoked Cold \n",
      "Waterfront Bistro Salmon Nova Atlantic Lox Ny Style\n",
      "Waterfront Bistro Salmon Nova Atlantic Smoked Party Wheel \n",
      "Waterfront Bistro Salmon Atlantic Pastrami Style Smoked Cold\n",
      "Waterfront Bistro Alaskan Cod Fillet Wild Caught \n",
      "Waterfront Bistro Salmon Wild Alaskan Sockeye Smoked Peppered \n",
      "Waterfront Bistro Shrimp Coconut With Sweet Chili Sauce 10 Count\n",
      "Waterfront Bistro Calamari Crispy Breaded Salt & Pepper\n",
      "Waterfront Bistro Scallops Peruvian 20 - 30 Ct\n",
      "Waterfront Bistro Shrimp Raw Ez Peel Shell & Tail On Jumbo 21 To 25 Count\n",
      "Waterfront Bistro Shrimp Raw Extra Jumbo Shell & Tail On Frozen 16-20 Count\n",
      "Waterfront Bistro Shrimp Raw Medium Ez Peel Shell & Tail On Frozen 31-40 Count\n",
      "Waterfront Bistro Mussels Garlic Butter Sauce Fully Cooked Ready To Heat\n",
      "Waterfront Bistro Shrimp Cooked Peeled Tail Off Salad Style 91 To 110 Count \n",
      "Waterfront Bistro Shrimp Cooked Extra Large Tail On Frozen 21-25 Count\n",
      "Waterfront Bistro Swai Fillets Boneless & Skinless\n",
      "Waterfront Bistro Shrimp Tempura With Sweet Soy Dipping Sauce\n",
      "Waterfront Bistro Cod Fillets Wild Alaskan Boneless & Skinless\n",
      "Waterfront Bistro Salmon Fillets Wild Alaskan Pink Boneless & Skin On\n",
      "Gortons Beer Batter Shrimp\n",
      "Gortons Fish Fillets 100% Real Wild Caught Crunchy Breaded 10 Count \n",
      "Strawberries\n",
      "Avocado\n",
      "Pineapple\n",
      "Portabella Mushroom\n",
      "Bell Pepper\n",
      "Cucumber\n",
      "Navel Oranges\n",
      "Lettuce\n",
      "Green Beans\n",
      "Green Grapes\n",
      "Watermelon\n",
      "Blueberries\n",
      "Cherries\n",
      "Pear\n",
      "Mango\n",
      "Asparagus\n",
      "Cauliflower\n",
      "Plated Brussels Sprouts With Tomato Chipotle Butter\n",
      "Plated Asparagus And Mushrooms\n",
      "Plated Squash Mixed With Dill \n",
      "Organics Organic Baby Arugula\n",
      "Signature Farms Baby Peeled Carrots \n",
      "Signature Farms Salad Baby Spinach\n",
      "Signature Farms Broccoli Cauliflower\n",
      "Signature Farms Brussels Sprouts\n",
      "Signature Farms Carrot Chips \n",
      "Peanut Butter\n",
      "Almonds \n",
      "Sauerkraut\n",
      "Canola Oil\n",
      "Butter\n",
      "Gouda Cheese\n",
      "Sour Cream\n",
      "Sunflower Seeds\n",
      "Key available for students@eep153.iam.gserviceaccount.com.\n"
     ]
    },
    {
     "name": "stderr",
     "output_type": "stream",
     "text": [
      "/tmp/ipykernel_1355/1167989445.py:14: UserWarning:\n",
      "\n",
      "Couldn't find FDC Code 2300695 for food Salmon Larb Bowl.\n",
      "\n",
      "/tmp/ipykernel_1355/1167989445.py:14: UserWarning:\n",
      "\n",
      "Couldn't find FDC Code 2304126 for food Side Green Salad.\n",
      "\n",
      "/tmp/ipykernel_1355/1167989445.py:14: UserWarning:\n",
      "\n",
      "Couldn't find FDC Code 2304126 for food Salad Seasonal Greens.\n",
      "\n"
     ]
    },
    {
     "name": "stdout",
     "output_type": "stream",
     "text": [
      "Key available for students@eep153.iam.gserviceaccount.com.\n"
     ]
    },
    {
     "data": {
      "text/html": [
       "<div>\n",
       "<style scoped>\n",
       "    .dataframe tbody tr th:only-of-type {\n",
       "        vertical-align: middle;\n",
       "    }\n",
       "\n",
       "    .dataframe tbody tr th {\n",
       "        vertical-align: top;\n",
       "    }\n",
       "\n",
       "    .dataframe thead th {\n",
       "        text-align: right;\n",
       "    }\n",
       "</style>\n",
       "<table border=\"1\" class=\"dataframe\">\n",
       "  <thead>\n",
       "    <tr style=\"text-align: right;\">\n",
       "      <th></th>\n",
       "      <th>Wheat Flour</th>\n",
       "      <th>Eggs</th>\n",
       "      <th>White Bread</th>\n",
       "      <th>Whole Milk</th>\n",
       "      <th>Sliced Ham</th>\n",
       "      <th>Salad Greens</th>\n",
       "      <th>Banana</th>\n",
       "      <th>Chicken Breasts</th>\n",
       "      <th>Coffee Roast</th>\n",
       "      <th>Tortillas</th>\n",
       "      <th>...</th>\n",
       "      <th>Signature Farms Brussels Sprouts</th>\n",
       "      <th>Signature Farms Carrot Chips</th>\n",
       "      <th>Peanut Butter</th>\n",
       "      <th>Almonds</th>\n",
       "      <th>Sauerkraut</th>\n",
       "      <th>Canola Oil</th>\n",
       "      <th>Butter</th>\n",
       "      <th>Gouda Cheese</th>\n",
       "      <th>Sour Cream</th>\n",
       "      <th>Sunflower Seeds</th>\n",
       "    </tr>\n",
       "  </thead>\n",
       "  <tbody>\n",
       "    <tr>\n",
       "      <th>Ergosta-5,7-dienol</th>\n",
       "      <td>NaN</td>\n",
       "      <td>NaN</td>\n",
       "      <td>NaN</td>\n",
       "      <td>NaN</td>\n",
       "      <td>NaN</td>\n",
       "      <td>NaN</td>\n",
       "      <td>NaN</td>\n",
       "      <td>NaN</td>\n",
       "      <td>NaN</td>\n",
       "      <td>NaN</td>\n",
       "      <td>...</td>\n",
       "      <td>NaN</td>\n",
       "      <td>NaN</td>\n",
       "      <td>NaN</td>\n",
       "      <td>NaN</td>\n",
       "      <td>NaN</td>\n",
       "      <td>NaN</td>\n",
       "      <td>NaN</td>\n",
       "      <td>NaN</td>\n",
       "      <td>NaN</td>\n",
       "      <td>NaN</td>\n",
       "    </tr>\n",
       "    <tr>\n",
       "      <th>Ergosta-7,22-dienol</th>\n",
       "      <td>NaN</td>\n",
       "      <td>NaN</td>\n",
       "      <td>NaN</td>\n",
       "      <td>NaN</td>\n",
       "      <td>NaN</td>\n",
       "      <td>NaN</td>\n",
       "      <td>NaN</td>\n",
       "      <td>NaN</td>\n",
       "      <td>NaN</td>\n",
       "      <td>NaN</td>\n",
       "      <td>...</td>\n",
       "      <td>NaN</td>\n",
       "      <td>NaN</td>\n",
       "      <td>NaN</td>\n",
       "      <td>NaN</td>\n",
       "      <td>NaN</td>\n",
       "      <td>NaN</td>\n",
       "      <td>NaN</td>\n",
       "      <td>NaN</td>\n",
       "      <td>NaN</td>\n",
       "      <td>NaN</td>\n",
       "    </tr>\n",
       "    <tr>\n",
       "      <th>25-hydroxycholecalciferol</th>\n",
       "      <td>NaN</td>\n",
       "      <td>NaN</td>\n",
       "      <td>NaN</td>\n",
       "      <td>0.00</td>\n",
       "      <td>NaN</td>\n",
       "      <td>NaN</td>\n",
       "      <td>NaN</td>\n",
       "      <td>NaN</td>\n",
       "      <td>NaN</td>\n",
       "      <td>NaN</td>\n",
       "      <td>...</td>\n",
       "      <td>NaN</td>\n",
       "      <td>NaN</td>\n",
       "      <td>NaN</td>\n",
       "      <td>NaN</td>\n",
       "      <td>NaN</td>\n",
       "      <td>NaN</td>\n",
       "      <td>NaN</td>\n",
       "      <td>NaN</td>\n",
       "      <td>NaN</td>\n",
       "      <td>NaN</td>\n",
       "    </tr>\n",
       "    <tr>\n",
       "      <th>Alanine</th>\n",
       "      <td>NaN</td>\n",
       "      <td>0.714</td>\n",
       "      <td>NaN</td>\n",
       "      <td>0.11</td>\n",
       "      <td>NaN</td>\n",
       "      <td>NaN</td>\n",
       "      <td>NaN</td>\n",
       "      <td>NaN</td>\n",
       "      <td>NaN</td>\n",
       "      <td>0.169</td>\n",
       "      <td>...</td>\n",
       "      <td>NaN</td>\n",
       "      <td>NaN</td>\n",
       "      <td>1.16</td>\n",
       "      <td>0.98</td>\n",
       "      <td>0.03</td>\n",
       "      <td>NaN</td>\n",
       "      <td>NaN</td>\n",
       "      <td>0.762</td>\n",
       "      <td>NaN</td>\n",
       "      <td>NaN</td>\n",
       "    </tr>\n",
       "    <tr>\n",
       "      <th>Alcohol, ethyl</th>\n",
       "      <td>NaN</td>\n",
       "      <td>NaN</td>\n",
       "      <td>NaN</td>\n",
       "      <td>NaN</td>\n",
       "      <td>NaN</td>\n",
       "      <td>0.0</td>\n",
       "      <td>NaN</td>\n",
       "      <td>NaN</td>\n",
       "      <td>0.0</td>\n",
       "      <td>0.000</td>\n",
       "      <td>...</td>\n",
       "      <td>NaN</td>\n",
       "      <td>NaN</td>\n",
       "      <td>NaN</td>\n",
       "      <td>NaN</td>\n",
       "      <td>0.00</td>\n",
       "      <td>NaN</td>\n",
       "      <td>NaN</td>\n",
       "      <td>0.000</td>\n",
       "      <td>0.0</td>\n",
       "      <td>NaN</td>\n",
       "    </tr>\n",
       "    <tr>\n",
       "      <th>...</th>\n",
       "      <td>...</td>\n",
       "      <td>...</td>\n",
       "      <td>...</td>\n",
       "      <td>...</td>\n",
       "      <td>...</td>\n",
       "      <td>...</td>\n",
       "      <td>...</td>\n",
       "      <td>...</td>\n",
       "      <td>...</td>\n",
       "      <td>...</td>\n",
       "      <td>...</td>\n",
       "      <td>...</td>\n",
       "      <td>...</td>\n",
       "      <td>...</td>\n",
       "      <td>...</td>\n",
       "      <td>...</td>\n",
       "      <td>...</td>\n",
       "      <td>...</td>\n",
       "      <td>...</td>\n",
       "      <td>...</td>\n",
       "      <td>...</td>\n",
       "    </tr>\n",
       "    <tr>\n",
       "      <th>cis-Lutein/Zeaxanthin</th>\n",
       "      <td>NaN</td>\n",
       "      <td>NaN</td>\n",
       "      <td>NaN</td>\n",
       "      <td>0.00</td>\n",
       "      <td>NaN</td>\n",
       "      <td>NaN</td>\n",
       "      <td>0.0</td>\n",
       "      <td>NaN</td>\n",
       "      <td>NaN</td>\n",
       "      <td>NaN</td>\n",
       "      <td>...</td>\n",
       "      <td>NaN</td>\n",
       "      <td>NaN</td>\n",
       "      <td>NaN</td>\n",
       "      <td>NaN</td>\n",
       "      <td>NaN</td>\n",
       "      <td>NaN</td>\n",
       "      <td>NaN</td>\n",
       "      <td>NaN</td>\n",
       "      <td>NaN</td>\n",
       "      <td>NaN</td>\n",
       "    </tr>\n",
       "    <tr>\n",
       "      <th>cis-Lycopene</th>\n",
       "      <td>NaN</td>\n",
       "      <td>NaN</td>\n",
       "      <td>NaN</td>\n",
       "      <td>0.00</td>\n",
       "      <td>NaN</td>\n",
       "      <td>NaN</td>\n",
       "      <td>0.0</td>\n",
       "      <td>NaN</td>\n",
       "      <td>NaN</td>\n",
       "      <td>NaN</td>\n",
       "      <td>...</td>\n",
       "      <td>NaN</td>\n",
       "      <td>NaN</td>\n",
       "      <td>NaN</td>\n",
       "      <td>NaN</td>\n",
       "      <td>NaN</td>\n",
       "      <td>NaN</td>\n",
       "      <td>NaN</td>\n",
       "      <td>NaN</td>\n",
       "      <td>NaN</td>\n",
       "      <td>NaN</td>\n",
       "    </tr>\n",
       "    <tr>\n",
       "      <th>cis-beta-Carotene</th>\n",
       "      <td>NaN</td>\n",
       "      <td>NaN</td>\n",
       "      <td>NaN</td>\n",
       "      <td>2.00</td>\n",
       "      <td>NaN</td>\n",
       "      <td>NaN</td>\n",
       "      <td>1.0</td>\n",
       "      <td>NaN</td>\n",
       "      <td>NaN</td>\n",
       "      <td>NaN</td>\n",
       "      <td>...</td>\n",
       "      <td>NaN</td>\n",
       "      <td>NaN</td>\n",
       "      <td>NaN</td>\n",
       "      <td>NaN</td>\n",
       "      <td>NaN</td>\n",
       "      <td>NaN</td>\n",
       "      <td>NaN</td>\n",
       "      <td>NaN</td>\n",
       "      <td>NaN</td>\n",
       "      <td>NaN</td>\n",
       "    </tr>\n",
       "    <tr>\n",
       "      <th>trans-Lycopene</th>\n",
       "      <td>NaN</td>\n",
       "      <td>NaN</td>\n",
       "      <td>NaN</td>\n",
       "      <td>0.00</td>\n",
       "      <td>NaN</td>\n",
       "      <td>NaN</td>\n",
       "      <td>0.0</td>\n",
       "      <td>NaN</td>\n",
       "      <td>NaN</td>\n",
       "      <td>NaN</td>\n",
       "      <td>...</td>\n",
       "      <td>NaN</td>\n",
       "      <td>NaN</td>\n",
       "      <td>NaN</td>\n",
       "      <td>NaN</td>\n",
       "      <td>NaN</td>\n",
       "      <td>NaN</td>\n",
       "      <td>NaN</td>\n",
       "      <td>NaN</td>\n",
       "      <td>NaN</td>\n",
       "      <td>NaN</td>\n",
       "    </tr>\n",
       "    <tr>\n",
       "      <th>trans-beta-Carotene</th>\n",
       "      <td>NaN</td>\n",
       "      <td>NaN</td>\n",
       "      <td>NaN</td>\n",
       "      <td>5.00</td>\n",
       "      <td>NaN</td>\n",
       "      <td>NaN</td>\n",
       "      <td>7.0</td>\n",
       "      <td>NaN</td>\n",
       "      <td>NaN</td>\n",
       "      <td>NaN</td>\n",
       "      <td>...</td>\n",
       "      <td>NaN</td>\n",
       "      <td>NaN</td>\n",
       "      <td>NaN</td>\n",
       "      <td>NaN</td>\n",
       "      <td>NaN</td>\n",
       "      <td>NaN</td>\n",
       "      <td>NaN</td>\n",
       "      <td>NaN</td>\n",
       "      <td>NaN</td>\n",
       "      <td>NaN</td>\n",
       "    </tr>\n",
       "  </tbody>\n",
       "</table>\n",
       "<p>236 rows × 94 columns</p>\n",
       "</div>"
      ],
      "text/plain": [
       "                           Wheat Flour   Eggs  White Bread  Whole Milk  \\\n",
       " Ergosta-5,7-dienol                NaN    NaN          NaN         NaN   \n",
       " Ergosta-7,22-dienol               NaN    NaN          NaN         NaN   \n",
       "25-hydroxycholecalciferol          NaN    NaN          NaN        0.00   \n",
       "Alanine                            NaN  0.714          NaN        0.11   \n",
       "Alcohol, ethyl                     NaN    NaN          NaN         NaN   \n",
       "...                                ...    ...          ...         ...   \n",
       "cis-Lutein/Zeaxanthin              NaN    NaN          NaN        0.00   \n",
       "cis-Lycopene                       NaN    NaN          NaN        0.00   \n",
       "cis-beta-Carotene                  NaN    NaN          NaN        2.00   \n",
       "trans-Lycopene                     NaN    NaN          NaN        0.00   \n",
       "trans-beta-Carotene                NaN    NaN          NaN        5.00   \n",
       "\n",
       "                           Sliced Ham  Salad Greens  Banana  Chicken Breasts  \\\n",
       " Ergosta-5,7-dienol               NaN           NaN     NaN              NaN   \n",
       " Ergosta-7,22-dienol              NaN           NaN     NaN              NaN   \n",
       "25-hydroxycholecalciferol         NaN           NaN     NaN              NaN   \n",
       "Alanine                           NaN           NaN     NaN              NaN   \n",
       "Alcohol, ethyl                    NaN           0.0     NaN              NaN   \n",
       "...                               ...           ...     ...              ...   \n",
       "cis-Lutein/Zeaxanthin             NaN           NaN     0.0              NaN   \n",
       "cis-Lycopene                      NaN           NaN     0.0              NaN   \n",
       "cis-beta-Carotene                 NaN           NaN     1.0              NaN   \n",
       "trans-Lycopene                    NaN           NaN     0.0              NaN   \n",
       "trans-beta-Carotene               NaN           NaN     7.0              NaN   \n",
       "\n",
       "                           Coffee Roast  Tortillas  ...  \\\n",
       " Ergosta-5,7-dienol                 NaN        NaN  ...   \n",
       " Ergosta-7,22-dienol                NaN        NaN  ...   \n",
       "25-hydroxycholecalciferol           NaN        NaN  ...   \n",
       "Alanine                             NaN      0.169  ...   \n",
       "Alcohol, ethyl                      0.0      0.000  ...   \n",
       "...                                 ...        ...  ...   \n",
       "cis-Lutein/Zeaxanthin               NaN        NaN  ...   \n",
       "cis-Lycopene                        NaN        NaN  ...   \n",
       "cis-beta-Carotene                   NaN        NaN  ...   \n",
       "trans-Lycopene                      NaN        NaN  ...   \n",
       "trans-beta-Carotene                 NaN        NaN  ...   \n",
       "\n",
       "                           Signature Farms Brussels Sprouts  \\\n",
       " Ergosta-5,7-dienol                                     NaN   \n",
       " Ergosta-7,22-dienol                                    NaN   \n",
       "25-hydroxycholecalciferol                               NaN   \n",
       "Alanine                                                 NaN   \n",
       "Alcohol, ethyl                                          NaN   \n",
       "...                                                     ...   \n",
       "cis-Lutein/Zeaxanthin                                   NaN   \n",
       "cis-Lycopene                                            NaN   \n",
       "cis-beta-Carotene                                       NaN   \n",
       "trans-Lycopene                                          NaN   \n",
       "trans-beta-Carotene                                     NaN   \n",
       "\n",
       "                           Signature Farms Carrot Chips   Peanut Butter  \\\n",
       " Ergosta-5,7-dienol                                  NaN            NaN   \n",
       " Ergosta-7,22-dienol                                 NaN            NaN   \n",
       "25-hydroxycholecalciferol                            NaN            NaN   \n",
       "Alanine                                              NaN           1.16   \n",
       "Alcohol, ethyl                                       NaN            NaN   \n",
       "...                                                  ...            ...   \n",
       "cis-Lutein/Zeaxanthin                                NaN            NaN   \n",
       "cis-Lycopene                                         NaN            NaN   \n",
       "cis-beta-Carotene                                    NaN            NaN   \n",
       "trans-Lycopene                                       NaN            NaN   \n",
       "trans-beta-Carotene                                  NaN            NaN   \n",
       "\n",
       "                           Almonds   Sauerkraut  Canola Oil  Butter  \\\n",
       " Ergosta-5,7-dienol             NaN         NaN         NaN     NaN   \n",
       " Ergosta-7,22-dienol            NaN         NaN         NaN     NaN   \n",
       "25-hydroxycholecalciferol       NaN         NaN         NaN     NaN   \n",
       "Alanine                        0.98        0.03         NaN     NaN   \n",
       "Alcohol, ethyl                  NaN        0.00         NaN     NaN   \n",
       "...                             ...         ...         ...     ...   \n",
       "cis-Lutein/Zeaxanthin           NaN         NaN         NaN     NaN   \n",
       "cis-Lycopene                    NaN         NaN         NaN     NaN   \n",
       "cis-beta-Carotene               NaN         NaN         NaN     NaN   \n",
       "trans-Lycopene                  NaN         NaN         NaN     NaN   \n",
       "trans-beta-Carotene             NaN         NaN         NaN     NaN   \n",
       "\n",
       "                           Gouda Cheese  Sour Cream  Sunflower Seeds  \n",
       " Ergosta-5,7-dienol                 NaN         NaN              NaN  \n",
       " Ergosta-7,22-dienol                NaN         NaN              NaN  \n",
       "25-hydroxycholecalciferol           NaN         NaN              NaN  \n",
       "Alanine                           0.762         NaN              NaN  \n",
       "Alcohol, ethyl                    0.000         0.0              NaN  \n",
       "...                                 ...         ...              ...  \n",
       "cis-Lutein/Zeaxanthin               NaN         NaN              NaN  \n",
       "cis-Lycopene                        NaN         NaN              NaN  \n",
       "cis-beta-Carotene                   NaN         NaN              NaN  \n",
       "trans-Lycopene                      NaN         NaN              NaN  \n",
       "trans-beta-Carotene                 NaN         NaN              NaN  \n",
       "\n",
       "[236 rows x 94 columns]"
      ]
     },
     "execution_count": 117,
     "metadata": {},
     "output_type": "execute_result"
    }
   ],
   "source": [
    "#[A] Nutritional Content of Different Foods\n",
    "\n",
    "#mapping food quantities to nutrients for df \n",
    "import warnings\n",
    "D = {}\n",
    "count = 0\n",
    "for food in df.index:\n",
    "    try:\n",
    "        FDC_on = df.loc[df.index==food,:].FDC.values[0]\n",
    "        count+=1\n",
    "        D[food] = fdc.nutrients(apikey,FDC_on).Quantity\n",
    "        print(food)\n",
    "    except AttributeError:\n",
    "        warnings.warn(f\"Couldn't find FDC Code {FDC_on} for food {food}.\")\n",
    "D = pd.DataFrame(D,dtype=float)\n",
    "\n",
    "\n",
    "#mapping food quantities to nutrients for df_offcampus\n",
    "D_off = {}\n",
    "count_off = 0\n",
    "for food in  df_offcampus.index:\n",
    "    try:\n",
    "        FDC_off = df_offcampus.loc[df_offcampus.index==food,:].FDC.values[0]\n",
    "        count_off+=1\n",
    "        D_off[food] = fdc.nutrients(apikey,FDC_off).Quantity\n",
    "        print(food)\n",
    "    except AttributeError:\n",
    "        warnings.warn(f\"Couldn't find FDC Code {FDC_off} for food {food}.\")\n",
    "D_off = pd.DataFrame(D_off,dtype=float)\n",
    "\n",
    "#Following US nutrition reccomendations segmented by gender and age,\n",
    "    # these are the max and min tables for on-campus and off-campus populations \n",
    "RDIs = read_sheets('https://docs.google.com/spreadsheets/d/1vJ_Hvtg8Nccr640W-LW54yFVclkTvbiWHQ3JLYmEqEM/edit?usp=sharing')\n",
    "bmin = RDIs['diet_minimums'].set_index('Nutrition')\n",
    "bmin = bmin.drop('Source',axis=1)\n",
    "bmax = RDIs['diet_maximums'].set_index('Nutrition')\n",
    "bmax = bmax.drop('Source',axis=1)\n",
    "\n",
    "\n",
    "RDIs2 = read_sheets('https://docs.google.com/spreadsheets/d/1y95IsQ4HKspPW3HHDtH7QMtlDA66IUsCHJLutVL-MMc/')\n",
    "bmin_off = RDIs2['diet_minimums'].set_index('Nutrition')\n",
    "bmin_off = bmin_off.drop('Source',axis=1)\n",
    "bmax_off = RDIs2['diet_maximums'].set_index('Nutrition')\n",
    "bmax_off = bmax_off.drop('Source',axis=1)\n",
    "\n",
    "D\n",
    "D_off"
   ]
  },
  {
   "cell_type": "code",
   "execution_count": 118,
   "id": "f8f89544-ce80-40ab-883c-4462e1d6e361",
   "metadata": {},
   "outputs": [],
   "source": [
    "#Objective function to find the prices where quantities are all 100g\n",
    "p = Prices.apply(lambda x:x.magnitude).dropna()\n",
    "# Compile list that we have both prices and nutritional info for; drop if either missing\n",
    "use = p.index.intersection(D.columns)\n",
    "p = p[use]\n",
    "\n",
    "#Maps bag of groceries x into nutrients, dropping nutritional information for foods we don't know the price of,\n",
    "# and replace missing nutrients with zeros.\n",
    "Aall = D[p.index].fillna(0)\n",
    "# Drop rows of A that we don't have constraints for.\n",
    "Amin = Aall.loc[bmin.index]\n",
    "Amax = Aall.loc[bmax.index]\n",
    "# Maximum requirements involve multiplying constraint by -1 to make <=.\n",
    "A = pd.concat([Amin,-Amax])\n",
    "b = pd.concat([bmin,-bmax])\n",
    "\n",
    "\n",
    "#Objective function to find the prices where quantities are all 100g\n",
    "p_off = Prices_off.apply(lambda x:x.magnitude).dropna()\n",
    "use_off = p_off.index.intersection(D_off.columns)\n",
    "p_off = p_off[use_off]\n",
    "\n",
    "Aall_off = D_off[p_off.index].fillna(0)\n",
    "Amin_off = Aall_off.loc[bmin_off.index]\n",
    "Amax_off = Aall_off.loc[bmax_off.index]\n",
    "A_off = pd.concat([Amin_off,-Amax_off])\n",
    "b_off = pd.concat([bmin_off,-bmax_off])"
   ]
  },
  {
   "cell_type": "code",
   "execution_count": 119,
   "id": "7ffd93e6-015d-4709-81f5-6ad8308ac386",
   "metadata": {},
   "outputs": [
    {
     "data": {
      "text/plain": [
       "Nutrition\n",
       "Energy                            2400.0\n",
       "Protein                             56.0\n",
       "Fiber, total dietary                33.6\n",
       "Folate, DFE                        400.0\n",
       "Calcium, Ca                       1000.0\n",
       "Carbohydrate, by difference        130.0\n",
       "Iron, Fe                             8.0\n",
       "Magnesium, Mg                      400.0\n",
       "Niacin                              16.0\n",
       "Phosphorus, P                      700.0\n",
       "Potassium, K                      4700.0\n",
       "Riboflavin                           1.3\n",
       "Thiamin                              1.2\n",
       "Vitamin A, RAE                     900.0\n",
       "Vitamin B-12                         2.4\n",
       "Vitamin B-6                          1.3\n",
       "Vitamin C, total ascorbic acid      90.0\n",
       "Vitamin E (alpha-tocopherol)        15.0\n",
       "Vitamin K (phylloquinone)          120.0\n",
       "Zinc, Zn                            11.0\n",
       "Sodium, Na                        4600.0\n",
       "Energy                            6200.0\n",
       "Name: M 19-30, dtype: float64"
      ]
     },
     "execution_count": 119,
     "metadata": {},
     "output_type": "execute_result"
    }
   ],
   "source": [
    "#[A] Dietary Reference Intakes \n",
    "#takes age and sex, returns pandas series of data reference intakes of a variety of nutrients \n",
    "\n",
    "#helper function\n",
    "def helper(age, sex): \n",
    "    if (age < 4) or (sex == 'C'):\n",
    "        group = 'C 1-3'\n",
    "    elif age < 9: \n",
    "        group = str(sex) + ' 4-8'\n",
    "    elif age < 14:\n",
    "        group = str(sex) + ' 9-13'\n",
    "    elif age < 19:\n",
    "        group = str(sex) + ' 14-18'\n",
    "    elif age < 31:\n",
    "        group = str(sex) + ' 19-30'\n",
    "    elif age < 51:\n",
    "        group = str(sex) + ' 31-50'\n",
    "    else: # over 51: \n",
    "        group = str(sex) + ' 51+'\n",
    "    return group\n",
    "\n",
    "\n",
    "def dietary_ref_index(age, sex):\n",
    "    group = helper(age, sex)\n",
    "    series = np.abs(b[group])\n",
    "    return series \n",
    "\n",
    "dietary_ref_index(22, 'M') #this should return the Pandas Series"
   ]
  },
  {
   "cell_type": "code",
   "execution_count": 120,
   "id": "534620ca-0750-4e4b-84ac-3cf1195f2055",
   "metadata": {
    "tags": []
   },
   "outputs": [
    {
     "name": "stdout",
     "output_type": "stream",
     "text": [
      "Cost of diet for M 19-30 is $36.08 per day when dining on campus.\n",
      "Cost of diet for F 19-30 is $30.62 per day when dining on campus.\n",
      "Cost of diet for M 19-30 is $4.71 per day off campus.\n",
      "Cost of diet for F 19-30 is $4.02 per day off campus.\n"
     ]
    }
   ],
   "source": [
    "#A Minimum Cost Diet Function \n",
    "\n",
    "groupM =  helper(22, 'M')\n",
    "groupF =  helper(22, 'F')\n",
    "\n",
    "\n",
    "resultM = lp(p, -A, -b[groupM], method='interior-point') #male on campus\n",
    "resultF = lp(p, -A, -b[groupF], method='interior-point') #female on campus\n",
    "\n",
    "result_Moff = lp(p_off, -A_off, -b_off[groupM], method='interior-point') #male off\n",
    "result_Foff = lp(p_off, -A_off, -b_off[groupF], method='interior-point') #female off\n",
    "\n",
    "\n",
    "#Print for the cost per day \n",
    "print(f\"Cost of diet for {groupM} is ${resultM.fun:.2f} per day when dining on campus.\") \n",
    "print(f\"Cost of diet for {groupF} is ${resultF.fun:.2f} per day when dining on campus.\")\n",
    "\n",
    "print(f\"Cost of diet for {groupM} is ${result_Moff.fun:.2f} per day off campus.\")\n",
    "print(f\"Cost of diet for {groupF} is ${result_Foff.fun:.2f} per day off campus.\")"
   ]
  },
  {
   "cell_type": "code",
   "execution_count": 121,
   "id": "bc37a48d-628f-45ec-aa1c-7c068bb810f6",
   "metadata": {},
   "outputs": [
    {
     "name": "stdout",
     "output_type": "stream",
     "text": [
      "\n",
      "Females on campus will be eating (in 100s of grams or milliliters):\n",
      "Banana Muffin              3.446857\n",
      "Chocolate Croissant        5.603448\n",
      "Decaf Coffee               0.548026\n",
      "Fried Chicken Sandwhich    2.700120\n",
      "Milk                       2.317525\n",
      "Orange Juice               2.164611\n",
      "Vegetable Medley           0.198955\n",
      "dtype: float64\n",
      "\n",
      "Males on campus will be eating (in 100s of grams or milliliters):\n",
      "Banana Muffin              3.572513\n",
      "Chocolate Croissant        5.886194\n",
      "Decaf Coffee               0.361106\n",
      "Fried Chicken Sandwhich    2.364292\n",
      "Milk                       1.813233\n",
      "Orange Juice               3.178660\n",
      "Vegetable Medley           2.197042\n",
      "Yerbamate                  0.353543\n",
      "dtype: float64\n",
      "\n",
      "Females off campus will be eating (in 100s of grams or milliliters):\n",
      "Black Beans      1.345129\n",
      "Canola Oil       0.592932\n",
      "Flour            0.827400\n",
      "Lentils          1.216704\n",
      "Navel Oranges    0.797667\n",
      "Peanut Butter    0.475237\n",
      "Salad Greens     2.111576\n",
      "Whole Milk       4.444444\n",
      "dtype: float64\n",
      "\n",
      "Males off campus will be eating (in 100s of grams or milliliters):\n",
      "Black Beans      1.027311\n",
      "Canola Oil       0.595814\n",
      "Flour            3.334954\n",
      "Lentils          1.192057\n",
      "Navel Oranges    0.916924\n",
      "Peanut Butter    0.378323\n",
      "Salad Greens     2.872219\n",
      "Whole Milk       4.444444\n",
      "dtype: float64\n",
      "Americano               0.000000e+00\n",
      "Bacon Burrito           2.620044e-09\n",
      "Bacon Croissant         1.761166e-09\n",
      "Banana                  2.182567e-08\n",
      "Banana Muffin           3.572513e+00\n",
      "                            ...     \n",
      "Vegetable Medley        2.197042e+00\n",
      "Veggie Spring Rolls     4.095230e-09\n",
      "Vietnamese Coffee       4.249129e-08\n",
      "Winter Chopped Salad    2.271457e-09\n",
      "Yerbamate               3.535428e-01\n",
      "Length: 72, dtype: float64\n"
     ]
    }
   ],
   "source": [
    "#[A] Solution\n",
    "#Print for what you will be eating \n",
    "dietfcamp = pd.Series(resultF.x,index=p.index)\n",
    "\n",
    "#Females On-campus\n",
    "print(\"\\nFemales on campus will be eating (in 100s of grams or milliliters):\")\n",
    "print(dietfcamp[dietfcamp >= tol])  # Drop items with quantities less than precision of calculation.\n",
    "\n",
    "#Males On-campus\n",
    "dietmcamp = pd.Series(resultM.x,index=p.index)\n",
    "print(\"\\nMales on campus will be eating (in 100s of grams or milliliters):\")\n",
    "print(dietmcamp[dietmcamp >= tol]) \n",
    "\n",
    "#Females Off-campus\n",
    "dietfoff = pd.Series(result_Foff.x,index=p_off.index)\n",
    "print(\"\\nFemales off campus will be eating (in 100s of grams or milliliters):\")\n",
    "print(dietfoff[dietfoff >= tol]) \n",
    "\n",
    "#Males Off-campus\n",
    "dietmoff = pd.Series(result_Moff.x,index=p_off.index)\n",
    "print(\"\\nMales off campus will be eating (in 100s of grams or milliliters):\")\n",
    "print(dietmoff[dietmoff >= tol]) \n",
    "\n",
    "print(dietmcamp)"
   ]
  },
  {
   "cell_type": "code",
   "execution_count": 122,
   "id": "5d7c77d9-ff01-42c3-92fa-3d86f19e157f",
   "metadata": {},
   "outputs": [],
   "source": [
    "#substistance problem function\n",
    "def solve_subsistence_problem(FoodNutrients,Prices,dietmin,dietmax,max_weight=None,tol=1e-6):\n",
    "    try: \n",
    "        p = Prices.apply(lambda x:x.magnitude)\n",
    "    except AttributeError:  # Maybe not passing in prices with units?\n",
    "        warnings.warn(\"Prices have no units.  BE CAREFUL!  We're assuming prices are per hectogram or deciliter!\")\n",
    "        p = Prices\n",
    "    p = p.dropna()\n",
    "    use = p.index.intersection(FoodNutrients.columns)\n",
    "    p = p[use]\n",
    "    Aall = FoodNutrients[p.index].fillna(0)\n",
    "    Amin = Aall.loc[Aall.index.intersection(dietmin.index)]\n",
    "    Amin = Amin.reindex(dietmin.index,axis=0)\n",
    "    idx = Amin.index.to_frame()\n",
    "    idx['type'] = 'min'\n",
    "    Amax = Aall.loc[Aall.index.intersection(dietmax.index)]\n",
    "    Amax = Amax.reindex(dietmax.index,axis=0)\n",
    "    idx = Amax.index.to_frame()\n",
    "    idx['type'] = 'max'\n",
    "    A = pd.concat([Amin, -Amax])\n",
    "    b = pd.concat([dietmin, -dietmax]) \n",
    "    A = A.reindex(p.index,axis=1)\n",
    "    A = A.reindex(b.index,axis=0)\n",
    "    \n",
    "    if max_weight is not None:\n",
    "        A.loc['Hectograms'] = -1\n",
    "        b.loc['Hectograms'] = -max_weight\n",
    "    result = lp(p, -A, -b, method='interior-point')\n",
    "    result.A = A\n",
    "    result.b = b\n",
    "    if result.success:\n",
    "        result.diet = pd.Series(result.x,index=p.index)\n",
    "    else: # No feasible solution\n",
    "        warnings.warn(result.message)\n",
    "        result.diet = pd.Series(result.x,index=p.index)*np.nan  \n",
    "    return result"
   ]
  },
  {
   "cell_type": "code",
   "execution_count": 123,
   "id": "59a5ada1-991b-4667-8293-3fec71bc90f5",
   "metadata": {},
   "outputs": [
    {
     "name": "stdout",
     "output_type": "stream",
     "text": [
      "Total cost of diet for the Berkeley Male Population is $511745.05027386185 per day when dining on campus.\n",
      "Total cost of diet for the Berkeley Female Population is $551710.3045041191 per day when dining on campus.\n",
      "Total cost of diet for the Berkeley Male Population is $66867.85639826843 per day when dining off campus.\n",
      "Total cost of diet for the Berkeley Female Population is $72506.7058299956 per day when dining off campus.\n"
     ]
    }
   ],
   "source": [
    "#[B] Total Cost for Population of Interest \n",
    "\n",
    "total_undergrad = 32479\n",
    "percent_berkeley_male = .43668\n",
    "percent_berkeley_female = .55483\n",
    "\n",
    "count_berkeley_male = percent_berkeley_male * total_undergrad\n",
    "count_berkeley_female = percent_berkeley_female * total_undergrad\n",
    "\n",
    "price_campus_male = count_berkeley_male * resultM.fun\n",
    "price_campus_female = count_berkeley_female * resultF.fun\n",
    "\n",
    "price_offcampus_male = count_berkeley_male * result_Moff.fun\n",
    "price_offcampus_female = count_berkeley_female * result_Foff.fun\n",
    "\n",
    "print(f\"Total cost of diet for the Berkeley Male Population is ${price_campus_male} per day when dining on campus.\") \n",
    "print(f\"Total cost of diet for the Berkeley Female Population is ${price_campus_female} per day when dining on campus.\") \n",
    "\n",
    "print(f\"Total cost of diet for the Berkeley Male Population is ${price_offcampus_male} per day when dining off campus.\") \n",
    "print(f\"Total cost of diet for the Berkeley Female Population is ${price_offcampus_female} per day when dining off campus.\") \n"
   ]
  },
  {
   "cell_type": "code",
   "execution_count": 124,
   "id": "5c6a458f-94b5-419c-9dc5-878a2e870199",
   "metadata": {},
   "outputs": [
    {
     "name": "stdout",
     "output_type": "stream",
     "text": [
      "Meal options are limited with these given ingredient for minimum cost diet off campus. Using these ingredients you could make a tortila shell with canola oil and flour. Within it, place black beans and lentils. On the side, you could create a smoothie with navel oranges, peanut butter, salad greens and whole milk. The flavor profile may not be as appealing as the more expensive, on-campus solution which is largely composed of processed, complete foods such as banana muffins and chocolate croissants.\n"
     ]
    }
   ],
   "source": [
    "#[B] Is the Solution Edible ?\n",
    "\n",
    "print('Meal options are limited with these ingredients. If a student was really struggling with finances, they could make a “struggle meal” out of these foods, but the taste may not be as appealing as the more expensive, on-campus solution.')"
   ]
  },
  {
   "cell_type": "code",
   "execution_count": 125,
   "id": "5f63c09e-cee8-42a9-99d3-11716dd02d2e",
   "metadata": {},
   "outputs": [
    {
     "data": {
      "text/html": [
       "<div>\n",
       "<style scoped>\n",
       "    .dataframe tbody tr th:only-of-type {\n",
       "        vertical-align: middle;\n",
       "    }\n",
       "\n",
       "    .dataframe tbody tr th {\n",
       "        vertical-align: top;\n",
       "    }\n",
       "\n",
       "    .dataframe thead th {\n",
       "        text-align: right;\n",
       "    }\n",
       "</style>\n",
       "<table border=\"1\" class=\"dataframe\">\n",
       "  <thead>\n",
       "    <tr style=\"text-align: right;\">\n",
       "      <th></th>\n",
       "      <th>Quantity</th>\n",
       "      <th>Units</th>\n",
       "      <th>Price</th>\n",
       "      <th>Date</th>\n",
       "      <th>Location</th>\n",
       "      <th>FDC</th>\n",
       "      <th>FDC Quantity</th>\n",
       "      <th>FDC Price</th>\n",
       "    </tr>\n",
       "    <tr>\n",
       "      <th>Food</th>\n",
       "      <th></th>\n",
       "      <th></th>\n",
       "      <th></th>\n",
       "      <th></th>\n",
       "      <th></th>\n",
       "      <th></th>\n",
       "      <th></th>\n",
       "      <th></th>\n",
       "    </tr>\n",
       "  </thead>\n",
       "  <tbody>\n",
       "    <tr>\n",
       "      <th>Turkey &amp; Swiss Sandwich</th>\n",
       "      <td>250.0</td>\n",
       "      <td>grams</td>\n",
       "      <td>11.25</td>\n",
       "      <td>[2023-2-23]</td>\n",
       "      <td>Cafe Think</td>\n",
       "      <td>2342427</td>\n",
       "      <td>2.5 hectogram</td>\n",
       "      <td>4.5 / hectogram</td>\n",
       "    </tr>\n",
       "    <tr>\n",
       "      <th>Caprese Panini</th>\n",
       "      <td>250.0</td>\n",
       "      <td>grams</td>\n",
       "      <td>11.25</td>\n",
       "      <td>[2023-2-23]</td>\n",
       "      <td>Cafe Think</td>\n",
       "      <td>468080</td>\n",
       "      <td>2.5 hectogram</td>\n",
       "      <td>4.5 / hectogram</td>\n",
       "    </tr>\n",
       "    <tr>\n",
       "      <th>Chicken Paprika</th>\n",
       "      <td>250.0</td>\n",
       "      <td>grams</td>\n",
       "      <td>11.25</td>\n",
       "      <td>[2023-2-23]</td>\n",
       "      <td>Cafe Think</td>\n",
       "      <td>1952920</td>\n",
       "      <td>2.5 hectogram</td>\n",
       "      <td>4.5 / hectogram</td>\n",
       "    </tr>\n",
       "    <tr>\n",
       "      <th>Thai Marinated chicken Bahn Mi</th>\n",
       "      <td>250.0</td>\n",
       "      <td>grams</td>\n",
       "      <td>12.25</td>\n",
       "      <td>[2023-2-23]</td>\n",
       "      <td>Cafe Think</td>\n",
       "      <td>2463885</td>\n",
       "      <td>2.5 hectogram</td>\n",
       "      <td>4.9 / hectogram</td>\n",
       "    </tr>\n",
       "    <tr>\n",
       "      <th>French Fries</th>\n",
       "      <td>250.0</td>\n",
       "      <td>grams</td>\n",
       "      <td>4.75</td>\n",
       "      <td>[2023-2-23]</td>\n",
       "      <td>Cafe Think</td>\n",
       "      <td>169833</td>\n",
       "      <td>2.5 hectogram</td>\n",
       "      <td>1.9 / hectogram</td>\n",
       "    </tr>\n",
       "    <tr>\n",
       "      <th>...</th>\n",
       "      <td>...</td>\n",
       "      <td>...</td>\n",
       "      <td>...</td>\n",
       "      <td>...</td>\n",
       "      <td>...</td>\n",
       "      <td>...</td>\n",
       "      <td>...</td>\n",
       "      <td>...</td>\n",
       "    </tr>\n",
       "    <tr>\n",
       "      <th>Salad Seasonal Greens</th>\n",
       "      <td>190.0</td>\n",
       "      <td>grams</td>\n",
       "      <td>4.00</td>\n",
       "      <td>[2023-2-24]</td>\n",
       "      <td>Brown's</td>\n",
       "      <td>2304126</td>\n",
       "      <td>1.9000000000000001 hectogram</td>\n",
       "      <td>2.1052631578947367 / hectogram</td>\n",
       "    </tr>\n",
       "    <tr>\n",
       "      <th>Garlic Fries</th>\n",
       "      <td>100.0</td>\n",
       "      <td>grams</td>\n",
       "      <td>4.00</td>\n",
       "      <td>[2023-2-24]</td>\n",
       "      <td>Brown's</td>\n",
       "      <td>1912834</td>\n",
       "      <td>1.0 hectogram</td>\n",
       "      <td>4.0 / hectogram</td>\n",
       "    </tr>\n",
       "    <tr>\n",
       "      <th>Vegetable Medley</th>\n",
       "      <td>150.0</td>\n",
       "      <td>grams</td>\n",
       "      <td>4.00</td>\n",
       "      <td>[2023-2-24]</td>\n",
       "      <td>Brown's</td>\n",
       "      <td>2133291</td>\n",
       "      <td>1.5 hectogram</td>\n",
       "      <td>2.6666666666666665 / hectogram</td>\n",
       "    </tr>\n",
       "    <tr>\n",
       "      <th>Heriloom Grains</th>\n",
       "      <td>100.0</td>\n",
       "      <td>grams</td>\n",
       "      <td>4.00</td>\n",
       "      <td>[2023-2-24]</td>\n",
       "      <td>Brown's</td>\n",
       "      <td>1900715</td>\n",
       "      <td>1.0 hectogram</td>\n",
       "      <td>4.0 / hectogram</td>\n",
       "    </tr>\n",
       "    <tr>\n",
       "      <th>Brown Rice</th>\n",
       "      <td>100.0</td>\n",
       "      <td>grams</td>\n",
       "      <td>4.00</td>\n",
       "      <td>[2023-2-24]</td>\n",
       "      <td>Brown's</td>\n",
       "      <td>168875</td>\n",
       "      <td>1.0 hectogram</td>\n",
       "      <td>4.0 / hectogram</td>\n",
       "    </tr>\n",
       "  </tbody>\n",
       "</table>\n",
       "<p>76 rows × 8 columns</p>\n",
       "</div>"
      ],
      "text/plain": [
       "                                Quantity  Units  Price         Date  \\\n",
       "Food                                                                  \n",
       "Turkey & Swiss Sandwich            250.0  grams  11.25  [2023-2-23]   \n",
       "Caprese Panini                     250.0  grams  11.25  [2023-2-23]   \n",
       "Chicken Paprika                    250.0  grams  11.25  [2023-2-23]   \n",
       "Thai Marinated chicken Bahn Mi     250.0  grams  12.25  [2023-2-23]   \n",
       "French Fries                       250.0  grams   4.75  [2023-2-23]   \n",
       "...                                  ...    ...    ...          ...   \n",
       "Salad Seasonal Greens              190.0  grams   4.00  [2023-2-24]   \n",
       "Garlic Fries                       100.0  grams   4.00  [2023-2-24]   \n",
       "Vegetable Medley                   150.0  grams   4.00  [2023-2-24]   \n",
       "Heriloom Grains                    100.0  grams   4.00  [2023-2-24]   \n",
       "Brown Rice                         100.0  grams   4.00  [2023-2-24]   \n",
       "\n",
       "                                  Location      FDC  \\\n",
       "Food                                                  \n",
       "Turkey & Swiss Sandwich         Cafe Think  2342427   \n",
       "Caprese Panini                  Cafe Think   468080   \n",
       "Chicken Paprika                 Cafe Think  1952920   \n",
       "Thai Marinated chicken Bahn Mi  Cafe Think  2463885   \n",
       "French Fries                    Cafe Think   169833   \n",
       "...                                    ...      ...   \n",
       "Salad Seasonal Greens              Brown's  2304126   \n",
       "Garlic Fries                       Brown's  1912834   \n",
       "Vegetable Medley                   Brown's  2133291   \n",
       "Heriloom Grains                    Brown's  1900715   \n",
       "Brown Rice                         Brown's   168875   \n",
       "\n",
       "                                                FDC Quantity  \\\n",
       "Food                                                           \n",
       "Turkey & Swiss Sandwich                        2.5 hectogram   \n",
       "Caprese Panini                                 2.5 hectogram   \n",
       "Chicken Paprika                                2.5 hectogram   \n",
       "Thai Marinated chicken Bahn Mi                 2.5 hectogram   \n",
       "French Fries                                   2.5 hectogram   \n",
       "...                                                      ...   \n",
       "Salad Seasonal Greens           1.9000000000000001 hectogram   \n",
       "Garlic Fries                                   1.0 hectogram   \n",
       "Vegetable Medley                               1.5 hectogram   \n",
       "Heriloom Grains                                1.0 hectogram   \n",
       "Brown Rice                                     1.0 hectogram   \n",
       "\n",
       "                                                     FDC Price  \n",
       "Food                                                            \n",
       "Turkey & Swiss Sandwich                        4.5 / hectogram  \n",
       "Caprese Panini                                 4.5 / hectogram  \n",
       "Chicken Paprika                                4.5 / hectogram  \n",
       "Thai Marinated chicken Bahn Mi                 4.9 / hectogram  \n",
       "French Fries                                   1.9 / hectogram  \n",
       "...                                                        ...  \n",
       "Salad Seasonal Greens           2.1052631578947367 / hectogram  \n",
       "Garlic Fries                                   4.0 / hectogram  \n",
       "Vegetable Medley                2.6666666666666665 / hectogram  \n",
       "Heriloom Grains                                4.0 / hectogram  \n",
       "Brown Rice                                     4.0 / hectogram  \n",
       "\n",
       "[76 rows x 8 columns]"
      ]
     },
     "execution_count": 125,
     "metadata": {},
     "output_type": "execute_result"
    }
   ],
   "source": [
    "#cleaning data for sensitivity\n",
    "\n",
    "df.dropna(how='any')\n",
    "Prices = df.groupby('Food',sort=False)['FDC Price'].min()\n",
    "df_offcampus.dropna(how='any') # Drop food with any missing data\n",
    "Prices_off = df_offcampus.groupby('Food',sort=False)['FDC Price'].min()\n",
    "df"
   ]
  },
  {
   "cell_type": "code",
   "execution_count": null,
   "id": "d52a2d75-410a-471d-af50-e4e4ef2ba672",
   "metadata": {},
   "outputs": [
    {
     "data": {
      "text/html": [
       "        <script type=\"text/javascript\">\n",
       "        window.PlotlyConfig = {MathJaxConfig: 'local'};\n",
       "        if (window.MathJax) {MathJax.Hub.Config({SVG: {font: \"STIX-Web\"}});}\n",
       "        if (typeof require !== 'undefined') {\n",
       "        require.undef(\"plotly\");\n",
       "        requirejs.config({\n",
       "            paths: {\n",
       "                'plotly': ['https://cdn.plot.ly/plotly-2.9.0.min']\n",
       "            }\n",
       "        });\n",
       "        require(['plotly'], function(Plotly) {\n",
       "            window._Plotly = Plotly;\n",
       "        });\n",
       "        }\n",
       "        </script>\n",
       "        "
      ]
     },
     "metadata": {},
     "output_type": "display_data"
    },
    {
     "name": "stdout",
     "output_type": "stream",
     "text": [
      "Effect of Price on Changes on in Females On Campus's Substistence Diet Cost\n"
     ]
    },
    {
     "data": {
      "application/vnd.plotly.v1+json": {
       "config": {
        "linkText": "Export to plot.ly",
        "plotlyServerURL": "https://plot.ly",
        "showLink": true
       },
       "data": [
        {
         "line": {
          "color": "rgba(255, 153, 51, 1.0)",
          "dash": "solid",
          "shape": "linear",
          "width": 1.3
         },
         "mode": "lines",
         "name": "Turkey & Swiss Sandwich",
         "text": "",
         "type": "scatter",
         "x": [
          -0.6931471805599453,
          -0.5108256237659907,
          -0.35667494393873245,
          -0.22314355131420968,
          -0.10536051565782628,
          0,
          0.09531017980432495,
          0.1823215567939546,
          0.26236426446749106,
          0.33647223662121284,
          0.4054651081081644
         ],
         "y": [
          -5.928213475845682e-11,
          -4.146938348356609e-11,
          -2.7593038965204478e-11,
          -1.6507573086380314e-11,
          -7.49478257236513e-12,
          0,
          6.443512390298724e-12,
          1.2052581155258067e-11,
          1.687516792955507e-11,
          2.122013675864532e-11,
          2.5240476375324542e-11
         ]
        },
        {
         "line": {
          "color": "rgba(55, 128, 191, 1.0)",
          "dash": "solid",
          "shape": "linear",
          "width": 1.3
         },
         "mode": "lines",
         "name": "Caprese Panini",
         "text": "",
         "type": "scatter",
         "x": [
          -0.6931471805599453,
          -0.5108256237659907,
          -0.35667494393873245,
          -0.22314355131420968,
          -0.10536051565782628,
          0,
          0.09531017980432495,
          0.1823215567939546,
          0.26236426446749106,
          0.33647223662121284,
          0.4054651081081644
         ],
         "y": [
          2.5677102633355938e-09,
          3.7532865697249235e-10,
          -1.46958223378986e-10,
          -8.72749650364994e-11,
          -3.880851196034017e-11,
          0,
          3.0106139802912103e-11,
          5.370726085940464e-11,
          7.266121037921264e-11,
          8.802225614669218e-11,
          1.0036438346568257e-10
         ]
        },
        {
         "line": {
          "color": "rgba(50, 171, 96, 1.0)",
          "dash": "solid",
          "shape": "linear",
          "width": 1.3
         },
         "mode": "lines",
         "name": "Chicken Paprika",
         "text": "",
         "type": "scatter",
         "x": [
          -0.6931471805599453,
          -0.5108256237659907,
          -0.35667494393873245,
          -0.22314355131420968,
          -0.10536051565782628,
          0,
          0.09531017980432495,
          0.1823215567939546,
          0.26236426446749106,
          0.33647223662121284,
          0.4054651081081644
         ],
         "y": [
          4.573985634588083e-11,
          3.504840861917245e-11,
          2.6292079624222397e-11,
          1.7894352666143243e-11,
          9.290346270020154e-12,
          0,
          -9.3889340746941e-12,
          -1.8978929539239763e-11,
          -2.8500202198651136e-11,
          -3.80193654344063e-11,
          -4.7404524751173455e-11
         ]
        },
        {
         "line": {
          "color": "rgba(128, 0, 128, 1.0)",
          "dash": "solid",
          "shape": "linear",
          "width": 1.3
         },
         "mode": "lines",
         "name": "Thai Marinated chicken Bahn Mi",
         "text": "",
         "type": "scatter",
         "x": [
          -0.6931471805599453,
          -0.5108256237659907,
          -0.35667494393873245,
          -0.22314355131420968,
          -0.10536051565782628,
          0,
          0.09531017980432495,
          0.1823215567939546,
          0.26236426446749106,
          0.33647223662121284,
          0.4054651081081644
         ],
         "y": [
          3.569922135618469e-11,
          2.3576252061452054e-11,
          1.461608611908337e-11,
          8.057554623487074e-12,
          3.215649968519133e-12,
          0,
          -1.8695045511680488e-12,
          -2.7103874700210677e-12,
          -2.692179812417166e-12,
          -2.0484725027379746e-12,
          -8.085754288348284e-13
         ]
        },
        {
         "line": {
          "color": "rgba(219, 64, 82, 1.0)",
          "dash": "solid",
          "shape": "linear",
          "width": 1.3
         },
         "mode": "lines",
         "name": "French Fries",
         "text": "",
         "type": "scatter",
         "x": [
          -0.6931471805599453,
          -0.5108256237659907,
          -0.35667494393873245,
          -0.22314355131420968,
          -0.10536051565782628,
          0,
          0.09531017980432495,
          0.1823215567939546,
          0.26236426446749106,
          0.33647223662121284,
          0.4054651081081644
         ],
         "y": [
          1.4597443243506412e-09,
          1.0765781593735907e-09,
          4.813938135846225e-10,
          1.6613532770334243e-10,
          6.403144680939112e-11,
          0,
          -4.3454795318587564e-11,
          -7.31428251326098e-11,
          -9.383105404210956e-11,
          -1.084200507209742e-10,
          -1.1864409455590804e-10
         ]
        },
        {
         "line": {
          "color": "rgba(0, 128, 128, 1.0)",
          "dash": "solid",
          "shape": "linear",
          "width": 1.3
         },
         "mode": "lines",
         "name": "Black Beans & Corn Quesadilla ",
         "text": "",
         "type": "scatter",
         "x": [
          -0.6931471805599453,
          -0.5108256237659907,
          -0.35667494393873245,
          -0.22314355131420968,
          -0.10536051565782628,
          0,
          0.09531017980432495,
          0.1823215567939546,
          0.26236426446749106,
          0.33647223662121284,
          0.4054651081081644
         ],
         "y": [
          -3.0810909384143903e-10,
          -8.471101598320958e-11,
          -3.769895506948735e-11,
          -2.0553003743584423e-11,
          -9.359180097633867e-12,
          0,
          8.409051233080505e-12,
          1.5392132013284712e-11,
          2.1309398689823285e-11,
          2.6407098729570532e-11,
          3.053357566737983e-11
         ]
        },
        {
         "line": {
          "color": "rgba(255, 255, 51, 1.0)",
          "dash": "solid",
          "shape": "linear",
          "width": 1.3
         },
         "mode": "lines",
         "name": "Chicken Quesadilla ",
         "text": "",
         "type": "scatter",
         "x": [
          -0.6931471805599453,
          -0.5108256237659907,
          -0.35667494393873245,
          -0.22314355131420968,
          -0.10536051565782628,
          0,
          0.09531017980432495,
          0.1823215567939546,
          0.26236426446749106,
          0.33647223662121284,
          0.4054651081081644
         ],
         "y": [
          -1.3535073063258909e-10,
          -1.0576650666953344e-10,
          -7.743095054324485e-11,
          -5.0398907271036395e-11,
          -2.4602209159088716e-11,
          0,
          2.28339569472049e-11,
          4.399791642032212e-11,
          6.392486539903393e-11,
          8.284950503080058e-11,
          1.0077316758330845e-10
         ]
        },
        {
         "line": {
          "color": "rgba(128, 128, 0, 1.0)",
          "dash": "solid",
          "shape": "linear",
          "width": 1.3
         },
         "mode": "lines",
         "name": "Panko Crusted Fried Chicken Sandwich",
         "text": "",
         "type": "scatter",
         "x": [
          -0.6931471805599453,
          -0.5108256237659907,
          -0.35667494393873245,
          -0.22314355131420968,
          -0.10536051565782628,
          0,
          0.09531017980432495,
          0.1823215567939546,
          0.26236426446749106,
          0.33647223662121284,
          0.4054651081081644
         ],
         "y": [
          -0.18477653408557876,
          -0.10360949221737577,
          -0.03214826450264777,
          -0.0027826051511225065,
          1.2613191428546115e-07,
          0,
          3.3039102510334378e-09,
          2.878326461917962e-09,
          1.3087519948091865e-09,
          3.2975817577693583e-09,
          3.533349162562711e-09
         ]
        },
        {
         "line": {
          "color": "rgba(251, 128, 114, 1.0)",
          "dash": "solid",
          "shape": "linear",
          "width": 1.3
         },
         "mode": "lines",
         "name": "Think Grass Fed Burger",
         "text": "",
         "type": "scatter",
         "x": [
          -0.6931471805599453,
          -0.5108256237659907,
          -0.35667494393873245,
          -0.22314355131420968,
          -0.10536051565782628,
          0,
          0.09531017980432495,
          0.1823215567939546,
          0.26236426446749106,
          0.33647223662121284,
          0.4054651081081644
         ],
         "y": [
          -0.027618334643033274,
          -0.003856666367131304,
          -1.2180578768581567e-10,
          -1.9858448219364892e-11,
          -1.4006684701071531e-11,
          0,
          1.7607471036585195e-11,
          3.511302359920336e-11,
          5.16435783013401e-11,
          6.676281749439531e-11,
          8.064748868393906e-11
         ]
        },
        {
         "line": {
          "color": "rgba(128, 177, 211, 1.0)",
          "dash": "solid",
          "shape": "linear",
          "width": 1.3
         },
         "mode": "lines",
         "name": "Ham & Cheese Croissant",
         "text": "",
         "type": "scatter",
         "x": [
          -0.6931471805599453,
          -0.5108256237659907,
          -0.35667494393873245,
          -0.22314355131420968,
          -0.10536051565782628,
          0,
          0.09531017980432495,
          0.1823215567939546,
          0.26236426446749106,
          0.33647223662121284,
          0.4054651081081644
         ],
         "y": [
          -2.8402169505573946e-11,
          -2.264610721195544e-11,
          -1.688449380324685e-11,
          -1.1272871525199991e-11,
          -5.58086910020131e-12,
          0,
          5.608402631180714e-12,
          1.1086020990030588e-11,
          1.6204815267297486e-11,
          2.1224799695348648e-11,
          2.6189495016749724e-11
         ]
        },
        {
         "line": {
          "color": "rgba(128, 177, 211, 0.8999999999999999)",
          "dash": "solid",
          "shape": "linear",
          "width": 1.3
         },
         "mode": "lines",
         "name": "Banana",
         "text": "",
         "type": "scatter",
         "x": [
          -0.6931471805599453,
          -0.5108256237659907,
          -0.35667494393873245,
          -0.22314355131420968,
          -0.10536051565782628,
          0,
          0.09531017980432495,
          0.1823215567939546,
          0.26236426446749106,
          0.33647223662121284,
          0.4054651081081644
         ],
         "y": [
          -0.0004076602380130487,
          -8.975605647190038e-05,
          1.023980806011749e-08,
          1.2639671523656516e-09,
          2.9830626853124984e-10,
          0,
          -1.3207357430806235e-10,
          -1.9755874715874068e-10,
          -2.334669124965357e-10,
          -2.545715860659951e-10,
          -2.6724067407020557e-10
         ]
        },
        {
         "line": {
          "color": "rgba(255, 153, 51, 0.8999999999999999)",
          "dash": "solid",
          "shape": "linear",
          "width": 1.3
         },
         "mode": "lines",
         "name": "Chocolate Croissant",
         "text": "",
         "type": "scatter",
         "x": [
          -0.6931471805599453,
          -0.5108256237659907,
          -0.35667494393873245,
          -0.22314355131420968,
          -0.10536051565782628,
          0,
          0.09531017980432495,
          0.1823215567939546,
          0.26236426446749106,
          0.33647223662121284,
          0.4054651081081644
         ],
         "y": [
          -0.2223470552864884,
          -0.17271228594907834,
          -0.12665821900641153,
          -0.08263161175145416,
          -0.040462774401812264,
          0,
          0.03430041266418381,
          0.05625594209661002,
          0.07773976437531648,
          0.09877175779921013,
          0.11909859101217263
         ]
        },
        {
         "line": {
          "color": "rgba(55, 128, 191, 0.8999999999999999)",
          "dash": "solid",
          "shape": "linear",
          "width": 1.3
         },
         "mode": "lines",
         "name": "Banana Muffin",
         "text": "",
         "type": "scatter",
         "x": [
          -0.6931471805599453,
          -0.5108256237659907,
          -0.35667494393873245,
          -0.22314355131420968,
          -0.10536051565782628,
          0,
          0.09531017980432495,
          0.1823215567939546,
          0.26236426446749106,
          0.33647223662121284,
          0.4054651081081644
         ],
         "y": [
          -0.2544252777659747,
          -0.1927431232771719,
          -0.1350433980557075,
          -0.0811174747544826,
          -0.033552714601758356,
          0,
          0.024100494043030916,
          0.04075153441426572,
          0.04075153595289895,
          0.04075155811298208,
          0.04075153532726996
         ]
        },
        {
         "line": {
          "color": "rgba(50, 171, 96, 0.8999999999999999)",
          "dash": "solid",
          "shape": "linear",
          "width": 1.3
         },
         "mode": "lines",
         "name": "Tropical Hibusicus Green Tea",
         "text": "",
         "type": "scatter",
         "x": [
          -0.6931471805599453,
          -0.5108256237659907,
          -0.35667494393873245,
          -0.22314355131420968,
          -0.10536051565782628,
          0,
          0.09531017980432495,
          0.1823215567939546,
          0.26236426446749106,
          0.33647223662121284,
          0.4054651081081644
         ],
         "y": [
          -2.383581110549782e-10,
          -8.645073546294609e-11,
          -1.137290261971985e-11,
          1.2273293492550863e-11,
          1.1401324329020588e-11,
          0,
          -1.5477064074906765e-11,
          -3.257605296677948e-11,
          -5.0041082390181735e-11,
          -6.746536662888253e-11,
          -8.462353040886171e-11
         ]
        },
        {
         "line": {
          "color": "rgba(128, 0, 128, 0.8999999999999999)",
          "dash": "solid",
          "shape": "linear",
          "width": 1.3
         },
         "mode": "lines",
         "name": "Drip Coffee (Reg or Decaf)",
         "text": "",
         "type": "scatter",
         "x": [
          -0.6931471805599453,
          -0.5108256237659907,
          -0.35667494393873245,
          -0.22314355131420968,
          -0.10536051565782628,
          0,
          0.09531017980432495,
          0.1823215567939546,
          0.26236426446749106,
          0.33647223662121284,
          0.4054651081081644
         ],
         "y": [
          0,
          0,
          0,
          0,
          0,
          0,
          0,
          0,
          0,
          0,
          0
         ]
        },
        {
         "line": {
          "color": "rgba(219, 64, 82, 0.8999999999999999)",
          "dash": "solid",
          "shape": "linear",
          "width": 1.3
         },
         "mode": "lines",
         "name": "Espresso",
         "text": "",
         "type": "scatter",
         "x": [
          -0.6931471805599453,
          -0.5108256237659907,
          -0.35667494393873245,
          -0.22314355131420968,
          -0.10536051565782628,
          0,
          0.09531017980432495,
          0.1823215567939546,
          0.26236426446749106,
          0.33647223662121284,
          0.4054651081081644
         ],
         "y": [
          2.7121083153377873e-10,
          1.2115575209013994e-10,
          6.348899183959385e-11,
          3.195887998634907e-11,
          1.332800536593126e-11,
          0,
          -1.1151080059397245e-11,
          -2.0199175665629176e-11,
          -2.700717427509379e-11,
          -3.11379810829367e-11,
          -3.230560263797202e-11
         ]
        },
        {
         "line": {
          "color": "rgba(0, 128, 128, 0.8999999999999999)",
          "dash": "solid",
          "shape": "linear",
          "width": 1.3
         },
         "mode": "lines",
         "name": "Americano",
         "text": "",
         "type": "scatter",
         "x": [
          -0.6931471805599453,
          -0.5108256237659907,
          -0.35667494393873245,
          -0.22314355131420968,
          -0.10536051565782628,
          0,
          0.09531017980432495,
          0.1823215567939546,
          0.26236426446749106,
          0.33647223662121284,
          0.4054651081081644
         ],
         "y": [
          0,
          0,
          0,
          0,
          0,
          0,
          0,
          0,
          0,
          0,
          0
         ]
        },
        {
         "line": {
          "color": "rgba(255, 255, 51, 0.8999999999999999)",
          "dash": "solid",
          "shape": "linear",
          "width": 1.3
         },
         "mode": "lines",
         "name": "Cappuccino",
         "text": "",
         "type": "scatter",
         "x": [
          -0.6931471805599453,
          -0.5108256237659907,
          -0.35667494393873245,
          -0.22314355131420968,
          -0.10536051565782628,
          0,
          0.09531017980432495,
          0.1823215567939546,
          0.26236426446749106,
          0.33647223662121284,
          0.4054651081081644
         ],
         "y": [
          8.249733084830079e-09,
          1.2052741020182818e-09,
          7.781435492929575e-10,
          3.277684789711098e-10,
          9.715028780971016e-11,
          0,
          -4.328681857495449e-11,
          -6.379663464376791e-11,
          -7.505540633727327e-11,
          -8.223211001361962e-11,
          -8.726919187677084e-11
         ]
        },
        {
         "line": {
          "color": "rgba(128, 128, 0, 0.8999999999999999)",
          "dash": "solid",
          "shape": "linear",
          "width": 1.3
         },
         "mode": "lines",
         "name": "Latte",
         "text": "",
         "type": "scatter",
         "x": [
          -0.6931471805599453,
          -0.5108256237659907,
          -0.35667494393873245,
          -0.22314355131420968,
          -0.10536051565782628,
          0,
          0.09531017980432495,
          0.1823215567939546,
          0.26236426446749106,
          0.33647223662121284,
          0.4054651081081644
         ],
         "y": [
          -0.01280479630191744,
          -0.0031986177016706204,
          -0.0009548095236525606,
          1.9513717289644196e-09,
          1.4966332606461226e-09,
          0,
          -3.643543245554905e-10,
          1.124491598783828e-07,
          3.30278015034172e-08,
          -3.467155452231846e-10,
          -3.5879343946773733e-10
         ]
        },
        {
         "line": {
          "color": "rgba(251, 128, 114, 0.8999999999999999)",
          "dash": "solid",
          "shape": "linear",
          "width": 1.3
         },
         "mode": "lines",
         "name": "Caramel Macchiato",
         "text": "",
         "type": "scatter",
         "x": [
          -0.6931471805599453,
          -0.5108256237659907,
          -0.35667494393873245,
          -0.22314355131420968,
          -0.10536051565782628,
          0,
          0.09531017980432495,
          0.1823215567939546,
          0.26236426446749106,
          0.33647223662121284,
          0.4054651081081644
         ],
         "y": [
          9.272649314620875e-11,
          7.351452779830914e-12,
          -1.351019296445233e-11,
          -1.3252066111223527e-11,
          -7.1788130995544925e-12,
          0,
          7.512435118400366e-12,
          1.5245138484826594e-11,
          2.3180346530879978e-11,
          3.122613279011962e-11,
          3.93751697905806e-11
         ]
        },
        {
         "line": {
          "color": "rgba(251, 128, 114, 0.7999999999999998)",
          "dash": "solid",
          "shape": "linear",
          "width": 1.3
         },
         "mode": "lines",
         "name": "Hot Chocolate",
         "text": "",
         "type": "scatter",
         "x": [
          -0.6931471805599453,
          -0.5108256237659907,
          -0.35667494393873245,
          -0.22314355131420968,
          -0.10536051565782628,
          0,
          0.09531017980432495,
          0.1823215567939546,
          0.26236426446749106,
          0.33647223662121284,
          0.4054651081081644
         ],
         "y": [
          -0.000942366774157881,
          5.059483941635302e-10,
          -3.024083206528536e-10,
          -1.5685019950759633e-10,
          -5.856282126075979e-11,
          0,
          3.241495960485041e-11,
          5.1062487570281136e-11,
          6.229572413280177e-11,
          6.945866104260649e-11,
          7.443090588033499e-11
         ]
        },
        {
         "line": {
          "color": "rgba(128, 177, 211, 0.7999999999999998)",
          "dash": "solid",
          "shape": "linear",
          "width": 1.3
         },
         "mode": "lines",
         "name": "Steamed Milk",
         "text": "",
         "type": "scatter",
         "x": [
          -0.6931471805599453,
          -0.5108256237659907,
          -0.35667494393873245,
          -0.22314355131420968,
          -0.10536051565782628,
          0,
          0.09531017980432495,
          0.1823215567939546,
          0.26236426446749106,
          0.33647223662121284,
          0.4054651081081644
         ],
         "y": [
          -2.0749046927214134e-10,
          -8.318135069975263e-11,
          -1.4765455526013347e-10,
          -8.477252233877904e-11,
          -3.491884559342255e-11,
          0,
          2.0624835172853766e-11,
          3.111355617542613e-11,
          3.5224267946266894e-11,
          3.574296414335336e-11,
          3.435274287196646e-11
         ]
        },
        {
         "line": {
          "color": "rgba(255, 153, 51, 0.7999999999999998)",
          "dash": "solid",
          "shape": "linear",
          "width": 1.3
         },
         "mode": "lines",
         "name": "Hot Tea",
         "text": "",
         "type": "scatter",
         "x": [
          -0.6931471805599453,
          -0.5108256237659907,
          -0.35667494393873245,
          -0.22314355131420968,
          -0.10536051565782628,
          0,
          0.09531017980432495,
          0.1823215567939546,
          0.26236426446749106,
          0.33647223662121284,
          0.4054651081081644
         ],
         "y": [
          8.829868353029652e-09,
          -2.9924418503172e-10,
          -2.968254531495508e-10,
          -3.2796132481798256e-10,
          -2.5829227645935378e-11,
          0,
          -1.9049206656699873e-11,
          -4.380429352675481e-11,
          -8.223088876829243e-11,
          -1.3649947839632487e-10,
          1.7677379544530318e-09
         ]
        },
        {
         "line": {
          "color": "rgba(55, 128, 191, 0.7999999999999998)",
          "dash": "solid",
          "shape": "linear",
          "width": 1.3
         },
         "mode": "lines",
         "name": "Chef Salad",
         "text": "",
         "type": "scatter",
         "x": [
          -0.6931471805599453,
          -0.5108256237659907,
          -0.35667494393873245,
          -0.22314355131420968,
          -0.10536051565782628,
          0,
          0.09531017980432495,
          0.1823215567939546,
          0.26236426446749106,
          0.33647223662121284,
          0.4054651081081644
         ],
         "y": [
          -9.891854003064217e-11,
          -6.685607623292731e-11,
          -4.2973957726601626e-11,
          -2.4923174635515798e-11,
          -1.0977996289856269e-11,
          0,
          8.70437055762827e-12,
          1.5436540934269033e-11,
          2.0603962979991243e-11,
          2.4779955864721546e-11,
          2.808242527368425e-11
         ]
        },
        {
         "line": {
          "color": "rgba(50, 171, 96, 0.7999999999999998)",
          "dash": "solid",
          "shape": "linear",
          "width": 1.3
         },
         "mode": "lines",
         "name": "Tropical Fruit Bowl",
         "text": "",
         "type": "scatter",
         "x": [
          -0.6931471805599453,
          -0.5108256237659907,
          -0.35667494393873245,
          -0.22314355131420968,
          -0.10536051565782628,
          0,
          0.09531017980432495,
          0.1823215567939546,
          0.26236426446749106,
          0.33647223662121284,
          0.4054651081081644
         ],
         "y": [
          -4.1514824919721544e-10,
          7.016600321070005e-08,
          -2.6950119917125154e-10,
          -2.0539225877746912e-10,
          -8.184330991036399e-11,
          0,
          6.594103041162228e-11,
          1.4626944099301281e-10,
          2.527758002593128e-10,
          8.928939805762883e-10,
          1.6903771701417022e-09
         ]
        },
        {
         "line": {
          "color": "rgba(128, 0, 128, 0.7999999999999998)",
          "dash": "solid",
          "shape": "linear",
          "width": 1.3
         },
         "mode": "lines",
         "name": "Raspberry Chobani Greek Yogurt ",
         "text": "",
         "type": "scatter",
         "x": [
          -0.6931471805599453,
          -0.5108256237659907,
          -0.35667494393873245,
          -0.22314355131420968,
          -0.10536051565782628,
          0,
          0.09531017980432495,
          0.1823215567939546,
          0.26236426446749106,
          0.33647223662121284,
          0.4054651081081644
         ],
         "y": [
          -6.999967272736856e-11,
          -5.083011789382263e-11,
          -3.486522182133128e-11,
          -2.1343704581739025e-11,
          -9.869993711268812e-12,
          0,
          8.630207659583951e-12,
          1.5977441591857915e-11,
          2.2210011607379615e-11,
          2.7839730520507976e-11,
          3.2725822051735325e-11
         ]
        },
        {
         "line": {
          "color": "rgba(219, 64, 82, 0.7999999999999998)",
          "dash": "solid",
          "shape": "linear",
          "width": 1.3
         },
         "mode": "lines",
         "name": "Strawberry Banana Naked Juice ",
         "text": "",
         "type": "scatter",
         "x": [
          -0.6931471805599453,
          -0.5108256237659907,
          -0.35667494393873245,
          -0.22314355131420968,
          -0.10536051565782628,
          0,
          0.09531017980432495,
          0.1823215567939546,
          0.26236426446749106,
          0.33647223662121284,
          0.4054651081081644
         ],
         "y": [
          -0.00015452329361081738,
          3.623235482849983e-09,
          7.189975279233519e-10,
          2.6531132842710817e-10,
          9.057332661244805e-11,
          0,
          -5.412870152245954e-11,
          -8.697764731047888e-11,
          -1.0748257839887952e-10,
          -1.2018686047111138e-10,
          -1.2816436801554605e-10
         ]
        },
        {
         "line": {
          "color": "rgba(0, 128, 128, 0.7999999999999998)",
          "dash": "solid",
          "shape": "linear",
          "width": 1.3
         },
         "mode": "lines",
         "name": "Yerbamate",
         "text": "",
         "type": "scatter",
         "x": [
          -0.6931471805599453,
          -0.5108256237659907,
          -0.35667494393873245,
          -0.22314355131420968,
          -0.10536051565782628,
          0,
          0.09531017980432495,
          0.1823215567939546,
          0.26236426446749106,
          0.33647223662121284,
          0.4054651081081644
         ],
         "y": [
          2.3462149973073524e-09,
          2.4490129894015798e-09,
          -2.42716846650705e-10,
          -2.181764769087353e-10,
          -1.7613954740755274e-10,
          0,
          1.3066525638406691e-10,
          2.3561641523950153e-10,
          3.2477043271639016e-10,
          4.0120484704198896e-10,
          4.6250137042809736e-10
         ]
        },
        {
         "line": {
          "color": "rgba(255, 255, 51, 0.7999999999999998)",
          "dash": "solid",
          "shape": "linear",
          "width": 1.3
         },
         "mode": "lines",
         "name": "Winter Chopped Salad",
         "text": "",
         "type": "scatter",
         "x": [
          -0.6931471805599453,
          -0.5108256237659907,
          -0.35667494393873245,
          -0.22314355131420968,
          -0.10536051565782628,
          0,
          0.09531017980432495,
          0.1823215567939546,
          0.26236426446749106,
          0.33647223662121284,
          0.4054651081081644
         ],
         "y": [
          -3.792643976724164e-11,
          -2.5311974738749292e-11,
          -1.6436407790500672e-11,
          -9.66671187545796e-12,
          -4.391487173914449e-12,
          0,
          3.734568210227128e-12,
          7.055023232258133e-12,
          1.000244331800786e-11,
          1.264655047342519e-11,
          1.5034196110151006e-11
         ]
        },
        {
         "line": {
          "color": "rgba(128, 128, 0, 0.7999999999999998)",
          "dash": "solid",
          "shape": "linear",
          "width": 1.3
         },
         "mode": "lines",
         "name": "Kale & Beets",
         "text": "",
         "type": "scatter",
         "x": [
          -0.6931471805599453,
          -0.5108256237659907,
          -0.35667494393873245,
          -0.22314355131420968,
          -0.10536051565782628,
          0,
          0.09531017980432495,
          0.1823215567939546,
          0.26236426446749106,
          0.33647223662121284,
          0.4054651081081644
         ],
         "y": [
          -0.009252506130937518,
          -0.0012674353411716527,
          4.316838637746776e-08,
          -1.711893960067969e-10,
          1.4168977101709344e-10,
          0,
          -2.8945279510776133e-10,
          -2.932932785956637e-10,
          1.0138079657675221e-08,
          4.950413411304667e-10,
          7.276060838454185e-09
         ]
        },
        {
         "line": {
          "color": "rgba(128, 128, 0, 0.7)",
          "dash": "solid",
          "shape": "linear",
          "width": 1.3
         },
         "mode": "lines",
         "name": "Vegetable Cassoulet",
         "text": "",
         "type": "scatter",
         "x": [
          -0.6931471805599453,
          -0.5108256237659907,
          -0.35667494393873245,
          -0.22314355131420968,
          -0.10536051565782628,
          0,
          0.09531017980432495,
          0.1823215567939546,
          0.26236426446749106,
          0.33647223662121284,
          0.4054651081081644
         ],
         "y": [
          -2.9535818236051535e-11,
          -1.8644530364216374e-11,
          -1.1193046489728546e-11,
          -6.005862474030282e-12,
          -2.4071855619951616e-12,
          0,
          1.6455725670980532e-12,
          2.628564033099066e-12,
          3.0744295997872575e-12,
          3.1084024243406823e-12,
          2.8625990466894065e-12
         ]
        },
        {
         "line": {
          "color": "rgba(251, 128, 114, 0.7)",
          "dash": "solid",
          "shape": "linear",
          "width": 1.3
         },
         "mode": "lines",
         "name": "Roast Chicken Breast",
         "text": "",
         "type": "scatter",
         "x": [
          -0.6931471805599453,
          -0.5108256237659907,
          -0.35667494393873245,
          -0.22314355131420968,
          -0.10536051565782628,
          0,
          0.09531017980432495,
          0.1823215567939546,
          0.26236426446749106,
          0.33647223662121284,
          0.4054651081081644
         ],
         "y": [
          -9.975131831701858e-12,
          -9.684808510759525e-12,
          -8.520739669429454e-12,
          -6.375788785837675e-12,
          -3.535283177320135e-12,
          0,
          4.141131881843259e-12,
          8.807177209707658e-12,
          1.3750778293702796e-11,
          1.885736011768541e-11,
          2.436606472115146e-11
         ]
        },
        {
         "line": {
          "color": "rgba(128, 177, 211, 0.7)",
          "dash": "solid",
          "shape": "linear",
          "width": 1.3
         },
         "mode": "lines",
         "name": "King Salmon & French Lentils",
         "text": "",
         "type": "scatter",
         "x": [
          -0.6931471805599453,
          -0.5108256237659907,
          -0.35667494393873245,
          -0.22314355131420968,
          -0.10536051565782628,
          0,
          0.09531017980432495,
          0.1823215567939546,
          0.26236426446749106,
          0.33647223662121284,
          0.4054651081081644
         ],
         "y": [
          -3.7344793924618635e-11,
          -4.299061107197172e-11,
          -3.938904757993936e-11,
          -2.98207014641788e-11,
          -1.6188606011400295e-11,
          0,
          1.7631229809311757e-11,
          3.5651259721522594e-11,
          5.418265835852349e-11,
          7.280487323858869e-11,
          9.142953060896106e-11
         ]
        },
        {
         "line": {
          "color": "rgba(255, 153, 51, 0.7)",
          "dash": "solid",
          "shape": "linear",
          "width": 1.3
         },
         "mode": "lines",
         "name": "Beef Bourguignon",
         "text": "",
         "type": "scatter",
         "x": [
          -0.6931471805599453,
          -0.5108256237659907,
          -0.35667494393873245,
          -0.22314355131420968,
          -0.10536051565782628,
          0,
          0.09531017980432495,
          0.1823215567939546,
          0.26236426446749106,
          0.33647223662121284,
          0.4054651081081644
         ],
         "y": [
          -2.3739343824329188e-11,
          -2.3075430455587805e-11,
          -1.9183654664984548e-11,
          -1.3600787163262971e-11,
          -6.983302824916618e-12,
          0,
          7.342348951029056e-12,
          1.4655610058759447e-11,
          2.1811219496943034e-11,
          2.8914870497524466e-11,
          3.606603904350768e-11
         ]
        },
        {
         "line": {
          "color": "rgba(55, 128, 191, 0.7)",
          "dash": "solid",
          "shape": "linear",
          "width": 1.3
         },
         "mode": "lines",
         "name": "Chocolate Cake",
         "text": "",
         "type": "scatter",
         "x": [
          -0.6931471805599453,
          -0.5108256237659907,
          -0.35667494393873245,
          -0.22314355131420968,
          -0.10536051565782628,
          0,
          0.09531017980432495,
          0.1823215567939546,
          0.26236426446749106,
          0.33647223662121284,
          0.4054651081081644
         ],
         "y": [
          -4.459066449513156e-11,
          -3.4370395419238724e-11,
          -2.4773849638700002e-11,
          -1.5826118193854378e-11,
          -7.582712235916106e-12,
          0,
          6.987521672361398e-12,
          1.324251819303626e-11,
          1.8783197219641846e-11,
          2.3668178527888846e-11,
          2.8224533820832266e-11
         ]
        },
        {
         "line": {
          "color": "rgba(50, 171, 96, 0.7)",
          "dash": "solid",
          "shape": "linear",
          "width": 1.3
         },
         "mode": "lines",
         "name": "Steamed Veggie Bun",
         "text": "",
         "type": "scatter",
         "x": [
          -0.6931471805599453,
          -0.5108256237659907,
          -0.35667494393873245,
          -0.22314355131420968,
          -0.10536051565782628,
          0,
          0.09531017980432495,
          0.1823215567939546,
          0.26236426446749106,
          0.33647223662121284,
          0.4054651081081644
         ],
         "y": [
          -0.08606911455680293,
          -0.0638445780371071,
          -0.04210304694156703,
          -0.022730568333010792,
          -0.00528981362292605,
          0,
          7.500577936244294e-11,
          -1.979039154795402e-11,
          1.169815355626513e-10,
          4.2736858487407105e-10,
          6.627383084569693e-10
         ]
        },
        {
         "line": {
          "color": "rgba(128, 0, 128, 0.7)",
          "dash": "solid",
          "shape": "linear",
          "width": 1.3
         },
         "mode": "lines",
         "name": "Steamed Chicken Bun",
         "text": "",
         "type": "scatter",
         "x": [
          -0.6931471805599453,
          -0.5108256237659907,
          -0.35667494393873245,
          -0.22314355131420968,
          -0.10536051565782628,
          0,
          0.09531017980432495,
          0.1823215567939546,
          0.26236426446749106,
          0.33647223662121284,
          0.4054651081081644
         ],
         "y": [
          -2.412381405776608e-11,
          -1.9231283232741882e-11,
          -1.444777630876138e-11,
          -9.626077712756287e-12,
          -4.7838399908187794e-12,
          0,
          4.830580380132389e-12,
          9.617640017676557e-12,
          1.4021450667102652e-11,
          1.8346213437157494e-11,
          2.2495783013911742e-11
         ]
        },
        {
         "line": {
          "color": "rgba(219, 64, 82, 0.7)",
          "dash": "solid",
          "shape": "linear",
          "width": 1.3
         },
         "mode": "lines",
         "name": "Veggie Spring Rolls",
         "text": "",
         "type": "scatter",
         "x": [
          -0.6931471805599453,
          -0.5108256237659907,
          -0.35667494393873245,
          -0.22314355131420968,
          -0.10536051565782628,
          0,
          0.09531017980432495,
          0.1823215567939546,
          0.26236426446749106,
          0.33647223662121284,
          0.4054651081081644
         ],
         "y": [
          -2.2464363702820202e-11,
          -1.45650158601635e-11,
          -9.083733765221826e-12,
          -5.1914028631607076e-12,
          -2.2732926652250547e-12,
          0,
          1.963096352140275e-12,
          3.5791369867801747e-12,
          5.239142453192389e-12,
          6.755040971006487e-12,
          8.233191905981342e-12
         ]
        },
        {
         "line": {
          "color": "rgba(0, 128, 128, 0.7)",
          "dash": "solid",
          "shape": "linear",
          "width": 1.3
         },
         "mode": "lines",
         "name": "Vietnamese Coffee",
         "text": "",
         "type": "scatter",
         "x": [
          -0.6931471805599453,
          -0.5108256237659907,
          -0.35667494393873245,
          -0.22314355131420968,
          -0.10536051565782628,
          0,
          0.09531017980432495,
          0.1823215567939546,
          0.26236426446749106,
          0.33647223662121284,
          0.4054651081081644
         ],
         "y": [
          -0.006225069811947988,
          -0.002007189479328974,
          3.207329265193973e-07,
          1.4233183510544089e-09,
          -2.2043367134059572e-10,
          0,
          2.0632540118728848e-10,
          3.757660848440304e-10,
          5.02413444054906e-10,
          5.902149878202095e-10,
          6.467255617832847e-10
         ]
        },
        {
         "line": {
          "color": "rgba(255, 255, 51, 0.7)",
          "dash": "solid",
          "shape": "linear",
          "width": 1.3
         },
         "mode": "lines",
         "name": "Vegan Pho ",
         "text": "",
         "type": "scatter",
         "x": [
          -0.6931471805599453,
          -0.5108256237659907,
          -0.35667494393873245,
          -0.22314355131420968,
          -0.10536051565782628,
          0,
          0.09531017980432495,
          0.1823215567939546,
          0.26236426446749106,
          0.33647223662121284,
          0.4054651081081644
         ],
         "y": [
          -7.519995737509034e-11,
          -6.183153989005796e-11,
          -4.89219775813042e-11,
          -3.4385050363164273e-11,
          -1.7924994821943656e-11,
          0,
          1.856603759602922e-11,
          3.7202241286867444e-11,
          5.607980746289836e-11,
          7.500755571928222e-11,
          9.384648613334612e-11
         ]
        },
        {
         "line": {
          "color": "rgba(255, 255, 51, 0.5999999999999999)",
          "dash": "solid",
          "shape": "linear",
          "width": 1.3
         },
         "mode": "lines",
         "name": "Hibiscus Lemonade",
         "text": "",
         "type": "scatter",
         "x": [
          -0.6931471805599453,
          -0.5108256237659907,
          -0.35667494393873245,
          -0.22314355131420968,
          -0.10536051565782628,
          0,
          0.09531017980432495,
          0.1823215567939546,
          0.26236426446749106,
          0.33647223662121284,
          0.4054651081081644
         ],
         "y": [
          -1.829358886612588e-11,
          -1.456712528391032e-11,
          -1.0951239914962508e-11,
          -7.253309064507378e-12,
          -3.5857983249407594e-12,
          0,
          3.5800251651998716e-12,
          7.136735646869965e-12,
          1.0573319997264243e-11,
          1.3823830968722125e-11,
          1.698374774136157e-11
         ]
        },
        {
         "line": {
          "color": "rgba(128, 128, 0, 0.5999999999999999)",
          "dash": "solid",
          "shape": "linear",
          "width": 1.3
         },
         "mode": "lines",
         "name": "Breakfast Burrito",
         "text": "",
         "type": "scatter",
         "x": [
          -0.6931471805599453,
          -0.5108256237659907,
          -0.35667494393873245,
          -0.22314355131420968,
          -0.10536051565782628,
          0,
          0.09531017980432495,
          0.1823215567939546,
          0.26236426446749106,
          0.33647223662121284,
          0.4054651081081644
         ],
         "y": [
          -0.044382239459064624,
          -0.004610377048675383,
          -3.2538927113599325e-10,
          -1.4900880530577213e-10,
          -5.1711079863907856e-11,
          0,
          2.7924551559586973e-11,
          4.35986802206844e-11,
          5.274736203236482e-11,
          5.8051341509915205e-11,
          6.093525683850994e-11
         ]
        },
        {
         "line": {
          "color": "rgba(251, 128, 114, 0.5999999999999999)",
          "dash": "solid",
          "shape": "linear",
          "width": 1.3
         },
         "mode": "lines",
         "name": "Bacon Burrito",
         "text": "",
         "type": "scatter",
         "x": [
          -0.6931471805599453,
          -0.5108256237659907,
          -0.35667494393873245,
          -0.22314355131420968,
          -0.10536051565782628,
          0,
          0.09531017980432495,
          0.1823215567939546,
          0.26236426446749106,
          0.33647223662121284,
          0.4054651081081644
         ],
         "y": [
          -1.219631062884242e-10,
          -8.942857565985756e-11,
          -6.146849696098314e-11,
          -3.761246869586579e-11,
          -1.7331691637573513e-11,
          0,
          1.4773959833182747e-11,
          2.692601697126649e-11,
          3.732725239943558e-11,
          4.634292949282945e-11,
          5.4080295795658586e-11
         ]
        },
        {
         "line": {
          "color": "rgba(128, 177, 211, 0.5999999999999999)",
          "dash": "solid",
          "shape": "linear",
          "width": 1.3
         },
         "mode": "lines",
         "name": "Turkey Sausage Burrito ",
         "text": "",
         "type": "scatter",
         "x": [
          -0.6931471805599453,
          -0.5108256237659907,
          -0.35667494393873245,
          -0.22314355131420968,
          -0.10536051565782628,
          0,
          0.09531017980432495,
          0.1823215567939546,
          0.26236426446749106,
          0.33647223662121284,
          0.4054651081081644
         ],
         "y": [
          -6.001132924107412e-11,
          -4.422606725382847e-11,
          -3.0803914974816646e-11,
          -1.916045100376944e-11,
          -8.961609232511956e-12,
          0,
          8.040457188907984e-12,
          1.5049739232495526e-11,
          2.120703612695502e-11,
          2.6823876453003723e-11,
          3.1872060545826154e-11
         ]
        },
        {
         "line": {
          "color": "rgba(255, 153, 51, 0.5999999999999999)",
          "dash": "solid",
          "shape": "linear",
          "width": 1.3
         },
         "mode": "lines",
         "name": "Breakfast Egg Croissant ",
         "text": "",
         "type": "scatter",
         "x": [
          -0.6931471805599453,
          -0.5108256237659907,
          -0.35667494393873245,
          -0.22314355131420968,
          -0.10536051565782628,
          0,
          0.09531017980432495,
          0.1823215567939546,
          0.26236426446749106,
          0.33647223662121284,
          0.4054651081081644
         ],
         "y": [
          -0.03801860664903467,
          -0.007755479724710251,
          4.85909622468154e-09,
          1.822237677468554e-08,
          -3.650680869382823e-10,
          0,
          3.5430980309074506e-09,
          7.207828308211699e-09,
          6.151446888489614e-09,
          2.981697329036488e-09,
          1.9238605856520806e-08
         ]
        },
        {
         "line": {
          "color": "rgba(55, 128, 191, 0.5999999999999999)",
          "dash": "solid",
          "shape": "linear",
          "width": 1.3
         },
         "mode": "lines",
         "name": "Bacon Croissant ",
         "text": "",
         "type": "scatter",
         "x": [
          -0.6931471805599453,
          -0.5108256237659907,
          -0.35667494393873245,
          -0.22314355131420968,
          -0.10536051565782628,
          0,
          0.09531017980432495,
          0.1823215567939546,
          0.26236426446749106,
          0.33647223662121284,
          0.4054651081081644
         ],
         "y": [
          -4.983680135364051e-11,
          -3.9226177862220455e-11,
          -2.8992364065481617e-11,
          -1.9015233832145697e-11,
          -9.334755191091885e-12,
          0,
          9.131362332895297e-12,
          1.7587042932932454e-11,
          2.5635049638266286e-11,
          3.350830723946522e-11,
          4.105871198505448e-11
         ]
        },
        {
         "line": {
          "color": "rgba(50, 171, 96, 0.5999999999999999)",
          "dash": "solid",
          "shape": "linear",
          "width": 1.3
         },
         "mode": "lines",
         "name": "Turkey Saussage Croissant ",
         "text": "",
         "type": "scatter",
         "x": [
          -0.6931471805599453,
          -0.5108256237659907,
          -0.35667494393873245,
          -0.22314355131420968,
          -0.10536051565782628,
          0,
          0.09531017980432495,
          0.1823215567939546,
          0.26236426446749106,
          0.33647223662121284,
          0.4054651081081644
         ],
         "y": [
          -6.790124018837986e-11,
          -5.373612666093091e-11,
          -3.97835098206043e-11,
          -2.6123214702863758e-11,
          -1.2805090321503615e-11,
          0,
          1.2316148101300868e-11,
          2.361244533205398e-11,
          3.4368730083520514e-11,
          4.4736214731665095e-11,
          5.447842177226756e-11
         ]
        },
        {
         "line": {
          "color": "rgba(128, 0, 128, 0.5999999999999999)",
          "dash": "solid",
          "shape": "linear",
          "width": 1.3
         },
         "mode": "lines",
         "name": "Hash Brown Patties",
         "text": "",
         "type": "scatter",
         "x": [
          -0.6931471805599453,
          -0.5108256237659907,
          -0.35667494393873245,
          -0.22314355131420968,
          -0.10536051565782628,
          0,
          0.09531017980432495,
          0.1823215567939546,
          0.26236426446749106,
          0.33647223662121284,
          0.4054651081081644
         ],
         "y": [
          -0.01973325354752262,
          -0.009213885114917515,
          -0.0008309005313472702,
          -2.456985726286689e-10,
          1.1554261984944749e-09,
          0,
          -3.269645665861477e-10,
          -2.029302281975577e-10,
          -2.810517374780263e-10,
          -1.0679102047676641e-10,
          -8.735556722809423e-11
         ]
        },
        {
         "line": {
          "color": "rgba(219, 64, 82, 0.5999999999999999)",
          "dash": "solid",
          "shape": "linear",
          "width": 1.3
         },
         "mode": "lines",
         "name": "Small Fruit Cup",
         "text": "",
         "type": "scatter",
         "x": [
          -0.6931471805599453,
          -0.5108256237659907,
          -0.35667494393873245,
          -0.22314355131420968,
          -0.10536051565782628,
          0,
          0.09531017980432495,
          0.1823215567939546,
          0.26236426446749106,
          0.33647223662121284,
          0.4054651081081644
         ],
         "y": [
          6.719735878620449e-11,
          1.7620571668275543e-11,
          -2.137956478522949e-12,
          -8.38273894746738e-12,
          -6.539879748878332e-12,
          0,
          9.344303109016435e-12,
          1.9899415448578387e-11,
          3.097277989590804e-11,
          4.23698853770821e-11,
          5.3757887029324825e-11
         ]
        },
        {
         "line": {
          "color": "rgba(0, 128, 128, 0.5999999999999999)",
          "dash": "solid",
          "shape": "linear",
          "width": 1.3
         },
         "mode": "lines",
         "name": "Philly Cheesesteak",
         "text": "",
         "type": "scatter",
         "x": [
          -0.6931471805599453,
          -0.5108256237659907,
          -0.35667494393873245,
          -0.22314355131420968,
          -0.10536051565782628,
          0,
          0.09531017980432495,
          0.1823215567939546,
          0.26236426446749106,
          0.33647223662121284,
          0.4054651081081644
         ],
         "y": [
          -3.1215696694662886e-11,
          -2.340694305074858e-11,
          -1.6607826225505626e-11,
          -1.0603184996738772e-11,
          -5.068168107426683e-12,
          0,
          4.826583577243758e-12,
          9.406919687604707e-12,
          1.351629919090516e-11,
          1.7495338511100022e-11,
          2.121347542049771e-11
         ]
        },
        {
         "line": {
          "color": "rgba(0, 128, 128, 0.49999999999999983)",
          "dash": "solid",
          "shape": "linear",
          "width": 1.3
         },
         "mode": "lines",
         "name": "Cheeseburger",
         "text": "",
         "type": "scatter",
         "x": [
          -0.6931471805599453,
          -0.5108256237659907,
          -0.35667494393873245,
          -0.22314355131420968,
          -0.10536051565782628,
          0,
          0.09531017980432495,
          0.1823215567939546,
          0.26236426446749106,
          0.33647223662121284,
          0.4054651081081644
         ],
         "y": [
          1.6933121571568551e-12,
          4.298783551347682e-13,
          -2.3581137043041107e-13,
          -4.799494135455704e-13,
          -3.942401960444708e-13,
          0,
          6.847855615885621e-13,
          1.5134560271678681e-12,
          2.5293100946978328e-12,
          3.712141705129784e-12,
          4.957811938753809e-12
         ]
        },
        {
         "line": {
          "color": "rgba(255, 255, 51, 0.49999999999999983)",
          "dash": "solid",
          "shape": "linear",
          "width": 1.3
         },
         "mode": "lines",
         "name": "Beyond Burger",
         "text": "",
         "type": "scatter",
         "x": [
          -0.6931471805599453,
          -0.5108256237659907,
          -0.35667494393873245,
          -0.22314355131420968,
          -0.10536051565782628,
          0,
          0.09531017980432495,
          0.1823215567939546,
          0.26236426446749106,
          0.33647223662121284,
          0.4054651081081644
         ],
         "y": [
          2.233312643433456e-09,
          8.844480699462605e-10,
          4.885691849892949e-10,
          2.161586465143163e-10,
          7.359934883495229e-11,
          0,
          -3.8817948856049855e-11,
          -5.7504112584415805e-11,
          -6.464973001594467e-11,
          -6.460798563021607e-11,
          -5.993705532072224e-11
         ]
        },
        {
         "line": {
          "color": "rgba(128, 128, 0, 0.49999999999999983)",
          "dash": "solid",
          "shape": "linear",
          "width": 1.3
         },
         "mode": "lines",
         "name": "Fried Chicken Sandwhich",
         "text": "",
         "type": "scatter",
         "x": [
          -0.6931471805599453,
          -0.5108256237659907,
          -0.35667494393873245,
          -0.22314355131420968,
          -0.10536051565782628,
          0,
          0.09531017980432495,
          0.1823215567939546,
          0.26236426446749106,
          0.33647223662121284,
          0.4054651081081644
         ],
         "y": [
          -0.27637906651386,
          -0.20439671151981811,
          -0.137249223125372,
          -0.07432911745516843,
          -0.02928790721927326,
          0,
          0.017379720557255385,
          0.020421163230436842,
          0.02042089443941447,
          0.020420817771585383,
          0.020421152767933125
         ]
        },
        {
         "line": {
          "color": "rgba(251, 128, 114, 0.49999999999999983)",
          "dash": "solid",
          "shape": "linear",
          "width": 1.3
         },
         "mode": "lines",
         "name": "Salmon and Fennel Slaw Sandwhich",
         "text": "",
         "type": "scatter",
         "x": [
          -0.6931471805599453,
          -0.5108256237659907,
          -0.35667494393873245,
          -0.22314355131420968,
          -0.10536051565782628,
          0,
          0.09531017980432495,
          0.1823215567939546,
          0.26236426446749106,
          0.33647223662121284,
          0.4054651081081644
         ],
         "y": [
          2.7214364091881536e-10,
          1.8874901639870976e-10,
          1.1227641038482923e-10,
          6.120193240900861e-11,
          2.6110891226608318e-11,
          0,
          -2.0488610808154842e-11,
          -3.691302819032588e-11,
          -5.066191910558338e-11,
          -6.247724560122008e-11,
          -7.305633875898518e-11
         ]
        },
        {
         "line": {
          "color": "rgba(128, 177, 211, 0.49999999999999983)",
          "dash": "solid",
          "shape": "linear",
          "width": 1.3
         },
         "mode": "lines",
         "name": "Mapo Tofu Bowl",
         "text": "",
         "type": "scatter",
         "x": [
          -0.6931471805599453,
          -0.5108256237659907,
          -0.35667494393873245,
          -0.22314355131420968,
          -0.10536051565782628,
          0,
          0.09531017980432495,
          0.1823215567939546,
          0.26236426446749106,
          0.33647223662121284,
          0.4054651081081644
         ],
         "y": [
          -7.135081414843287e-11,
          -5.529221525233036e-11,
          -3.211042543023663e-11,
          -1.4273471293892729e-11,
          -3.992139951955107e-12,
          0,
          -7.691625114606043e-13,
          -5.046962847656235e-12,
          -1.1773026997799387e-11,
          -2.023359257939325e-11,
          -2.9874769325479663e-11
         ]
        },
        {
         "line": {
          "color": "rgba(255, 153, 51, 0.49999999999999983)",
          "dash": "solid",
          "shape": "linear",
          "width": 1.3
         },
         "mode": "lines",
         "name": "Salmon Larb Bowl",
         "text": "",
         "type": "scatter",
         "x": [
          -0.6931471805599453,
          -0.5108256237659907,
          -0.35667494393873245,
          -0.22314355131420968,
          -0.10536051565782628,
          0,
          0.09531017980432495,
          0.1823215567939546,
          0.26236426446749106,
          0.33647223662121284,
          0.4054651081081644
         ],
         "y": [
          0,
          0,
          0,
          0,
          0,
          0,
          0,
          0,
          0,
          0,
          0
         ]
        },
        {
         "line": {
          "color": "rgba(55, 128, 191, 0.49999999999999983)",
          "dash": "solid",
          "shape": "linear",
          "width": 1.3
         },
         "mode": "lines",
         "name": "Buffalo Chicken Salad",
         "text": "",
         "type": "scatter",
         "x": [
          -0.6931471805599453,
          -0.5108256237659907,
          -0.35667494393873245,
          -0.22314355131420968,
          -0.10536051565782628,
          0,
          0.09531017980432495,
          0.1823215567939546,
          0.26236426446749106,
          0.33647223662121284,
          0.4054651081081644
         ],
         "y": [
          -1.1721612570146675e-10,
          -8.500178339338358e-11,
          -5.846734208063644e-11,
          -3.5986880143149814e-11,
          -1.67119651452172e-11,
          0,
          1.4478640508636775e-11,
          2.6760371695996864e-11,
          3.758038324904063e-11,
          4.720801527357691e-11,
          5.586819895441665e-11
         ]
        },
        {
         "line": {
          "color": "rgba(50, 171, 96, 0.49999999999999983)",
          "dash": "solid",
          "shape": "linear",
          "width": 1.3
         },
         "mode": "lines",
         "name": "California Greens Salad",
         "text": "",
         "type": "scatter",
         "x": [
          -0.6931471805599453,
          -0.5108256237659907,
          -0.35667494393873245,
          -0.22314355131420968,
          -0.10536051565782628,
          0,
          0.09531017980432495,
          0.1823215567939546,
          0.26236426446749106,
          0.33647223662121284,
          0.4054651081081644
         ],
         "y": [
          -2.611661998116666e-10,
          -1.3851531034241397e-10,
          -7.469469487654556e-11,
          -3.705880047346455e-11,
          -1.4157897077027607e-11,
          0,
          8.871792189740272e-12,
          1.4426904115689991e-11,
          1.7793322370904157e-11,
          1.9916956972367116e-11,
          2.116573583043984e-11
         ]
        },
        {
         "line": {
          "color": "rgba(128, 0, 128, 0.49999999999999983)",
          "dash": "solid",
          "shape": "linear",
          "width": 1.3
         },
         "mode": "lines",
         "name": "Buffalo Chicken Loaded Fries",
         "text": "",
         "type": "scatter",
         "x": [
          -0.6931471805599453,
          -0.5108256237659907,
          -0.35667494393873245,
          -0.22314355131420968,
          -0.10536051565782628,
          0,
          0.09531017980432495,
          0.1823215567939546,
          0.26236426446749106,
          0.33647223662121284,
          0.4054651081081644
         ],
         "y": [
          1.3391732167543893e-11,
          1.0260459148928133e-11,
          7.198908136248528e-12,
          4.412248344455563e-12,
          2.075006833022265e-12,
          0,
          -1.6501244815017317e-12,
          -2.9973801218874898e-12,
          -3.971822870604385e-12,
          -4.612976667328165e-12,
          -4.922950935804987e-12
         ]
        },
        {
         "line": {
          "color": "rgba(219, 64, 82, 0.49999999999999983)",
          "dash": "solid",
          "shape": "linear",
          "width": 1.3
         },
         "mode": "lines",
         "name": "Cross Cut Fries",
         "text": "",
         "type": "scatter",
         "x": [
          -0.6931471805599453,
          -0.5108256237659907,
          -0.35667494393873245,
          -0.22314355131420968,
          -0.10536051565782628,
          0,
          0.09531017980432495,
          0.1823215567939546,
          0.26236426446749106,
          0.33647223662121284,
          0.4054651081081644
         ],
         "y": [
          -1.3884338123756133e-11,
          -1.1288525669847382e-11,
          -8.64996962949693e-12,
          -5.86763970746363e-12,
          -3.0152547125840085e-12,
          0,
          3.157252237424036e-12,
          6.244338379682234e-12,
          9.48974232524096e-12,
          1.2587264563910954e-11,
          1.57285295897409e-11
         ]
        },
        {
         "line": {
          "color": "rgba(219, 64, 82, 0.39999999999999974)",
          "dash": "solid",
          "shape": "linear",
          "width": 1.3
         },
         "mode": "lines",
         "name": "Side Green Salad",
         "text": "",
         "type": "scatter",
         "x": [
          -0.6931471805599453,
          -0.5108256237659907,
          -0.35667494393873245,
          -0.22314355131420968,
          -0.10536051565782628,
          0,
          0.09531017980432495,
          0.1823215567939546,
          0.26236426446749106,
          0.33647223662121284,
          0.4054651081081644
         ],
         "y": [
          0,
          0,
          0,
          0,
          0,
          0,
          0,
          0,
          0,
          0,
          0
         ]
        },
        {
         "line": {
          "color": "rgba(0, 128, 128, 0.39999999999999974)",
          "dash": "solid",
          "shape": "linear",
          "width": 1.3
         },
         "mode": "lines",
         "name": "Large Fruit Salad",
         "text": "",
         "type": "scatter",
         "x": [
          -0.6931471805599453,
          -0.5108256237659907,
          -0.35667494393873245,
          -0.22314355131420968,
          -0.10536051565782628,
          0,
          0.09531017980432495,
          0.1823215567939546,
          0.26236426446749106,
          0.33647223662121284,
          0.4054651081081644
         ],
         "y": [
          -2.259163967266282e-10,
          -2.1179880074240495e-10,
          -1.5932732912053157e-10,
          -1.046952524729599e-10,
          -5.091715937895767e-11,
          0,
          4.5019765692141636e-11,
          8.503775461215308e-11,
          1.207851596445649e-10,
          1.5239876026644808e-10,
          1.8006129918801505e-10
         ]
        },
        {
         "line": {
          "color": "rgba(255, 255, 51, 0.39999999999999974)",
          "dash": "solid",
          "shape": "linear",
          "width": 1.3
         },
         "mode": "lines",
         "name": "Regular Coffee",
         "text": "",
         "type": "scatter",
         "x": [
          -0.6931471805599453,
          -0.5108256237659907,
          -0.35667494393873245,
          -0.22314355131420968,
          -0.10536051565782628,
          0,
          0.09531017980432495,
          0.1823215567939546,
          0.26236426446749106,
          0.33647223662121284,
          0.4054651081081644
         ],
         "y": [
          -2.5593971386716486e-12,
          -2.437283708219554e-11,
          -2.8408830843721887e-11,
          -2.2954860235110738e-11,
          -1.2586376385649684e-11,
          0,
          1.3472334359130597e-11,
          2.6295188248691263e-11,
          3.88020726652915e-11,
          5.0538018213474857e-11,
          6.165334909079348e-11
         ]
        },
        {
         "line": {
          "color": "rgba(128, 128, 0, 0.39999999999999974)",
          "dash": "solid",
          "shape": "linear",
          "width": 1.3
         },
         "mode": "lines",
         "name": "Decaf Coffee",
         "text": "",
         "type": "scatter",
         "x": [
          -0.6931471805599453,
          -0.5108256237659907,
          -0.35667494393873245,
          -0.22314355131420968,
          -0.10536051565782628,
          0,
          0.09531017980432495,
          0.1823215567939546,
          0.26236426446749106,
          0.33647223662121284,
          0.4054651081081644
         ],
         "y": [
          -0.005275586339467667,
          -0.004218240190379644,
          -0.0031620108349057173,
          -0.0021068959163238732,
          -0.001052893085259956,
          0,
          0.0010517856694333082,
          0.002102466252023889,
          0.0031520440674773498,
          0.004200521427503712,
          0.005247900636270433
         ]
        },
        {
         "line": {
          "color": "rgba(251, 128, 114, 0.39999999999999974)",
          "dash": "solid",
          "shape": "linear",
          "width": 1.3
         },
         "mode": "lines",
         "name": "Orange Juice",
         "text": "",
         "type": "scatter",
         "x": [
          -0.6931471805599453,
          -0.5108256237659907,
          -0.35667494393873245,
          -0.22314355131420968,
          -0.10536051565782628,
          0,
          0.09531017980432495,
          0.1823215567939546,
          0.26236426446749106,
          0.33647223662121284,
          0.4054651081081644
         ],
         "y": [
          -0.01044576875664984,
          -0.008347870388324928,
          -0.006254251861177489,
          -0.0041652175235033576,
          -0.002080442994985591,
          0,
          0.0020761244223906536,
          0.004147947646812971,
          0.00621548793380165,
          0.008278765716922282,
          0.010337785972304149
         ]
        },
        {
         "line": {
          "color": "rgba(128, 177, 211, 0.39999999999999974)",
          "dash": "solid",
          "shape": "linear",
          "width": 1.3
         },
         "mode": "lines",
         "name": "Milk",
         "text": "",
         "type": "scatter",
         "x": [
          -0.6931471805599453,
          -0.5108256237659907,
          -0.35667494393873245,
          -0.22314355131420968,
          -0.10536051565782628,
          0,
          0.09531017980432495,
          0.1823215567939546,
          0.26236426446749106,
          0.33647223662121284,
          0.4054651081081644
         ],
         "y": [
          -0.011187835799409932,
          -0.008940232802885865,
          -0.006697670136919209,
          -0.004460125322591847,
          -0.00222757601157355,
          0,
          0.0022226250201091793,
          0.004440330045705784,
          0.006653113517100132,
          0.008861014521308568,
          0.011064066145807893
         ]
        },
        {
         "line": {
          "color": "rgba(255, 153, 51, 0.39999999999999974)",
          "dash": "solid",
          "shape": "linear",
          "width": 1.3
         },
         "mode": "lines",
         "name": "Rotisserie Tri Tip",
         "text": "",
         "type": "scatter",
         "x": [
          -0.6931471805599453,
          -0.5108256237659907,
          -0.35667494393873245,
          -0.22314355131420968,
          -0.10536051565782628,
          0,
          0.09531017980432495,
          0.1823215567939546,
          0.26236426446749106,
          0.33647223662121284,
          0.4054651081081644
         ],
         "y": [
          3.366840139961079e-11,
          6.863842827419012e-12,
          -2.4960034039653918e-12,
          -3.390954184118365e-12,
          -1.4568346529141917e-12,
          0,
          -3.1630253971575713e-13,
          -2.969513523969315e-12,
          -7.749689778821009e-12,
          -1.4290901795379592e-11,
          -2.2111534825586466e-11
         ]
        },
        {
         "line": {
          "color": "rgba(55, 128, 191, 0.39999999999999974)",
          "dash": "solid",
          "shape": "linear",
          "width": 1.3
         },
         "mode": "lines",
         "name": "Roasted Chicken Breast",
         "text": "",
         "type": "scatter",
         "x": [
          -0.6931471805599453,
          -0.5108256237659907,
          -0.35667494393873245,
          -0.22314355131420968,
          -0.10536051565782628,
          0,
          0.09531017980432495,
          0.1823215567939546,
          0.26236426446749106,
          0.33647223662121284,
          0.4054651081081644
         ],
         "y": [
          4.113154261622821e-12,
          2.511990615513724e-12,
          1.2692069617506736e-12,
          4.725109192803549e-13,
          6.528111384795707e-14,
          0,
          3.705924456198086e-13,
          9.072742557232664e-13,
          1.7557066911406813e-12,
          2.977174062830388e-12,
          4.389377750148386e-12
         ]
        },
        {
         "line": {
          "color": "rgba(50, 171, 96, 0.39999999999999974)",
          "dash": "solid",
          "shape": "linear",
          "width": 1.3
         },
         "mode": "lines",
         "name": "Seared Salmon Fillet",
         "text": "",
         "type": "scatter",
         "x": [
          -0.6931471805599453,
          -0.5108256237659907,
          -0.35667494393873245,
          -0.22314355131420968,
          -0.10536051565782628,
          0,
          0.09531017980432495,
          0.1823215567939546,
          0.26236426446749106,
          0.33647223662121284,
          0.4054651081081644
         ],
         "y": [
          8.281531016164496e-11,
          5.148420121406544e-09,
          3.893729109329986e-09,
          1.0522496202162704e-09,
          -3.4341118843385255e-10,
          0,
          3.8594616384215117e-10,
          8.807681212211998e-09,
          -1.2106060599159677e-10,
          1.7537773523958145e-08,
          1.787008636198412e-08
         ]
        },
        {
         "line": {
          "color": "rgba(128, 0, 128, 0.39999999999999974)",
          "dash": "solid",
          "shape": "linear",
          "width": 1.3
         },
         "mode": "lines",
         "name": "Seared Tofu",
         "text": "",
         "type": "scatter",
         "x": [
          -0.6931471805599453,
          -0.5108256237659907,
          -0.35667494393873245,
          -0.22314355131420968,
          -0.10536051565782628,
          0,
          0.09531017980432495,
          0.1823215567939546,
          0.26236426446749106,
          0.33647223662121284,
          0.4054651081081644
         ],
         "y": [
          3.7209328882121944e-09,
          7.951988817665795e-08,
          1.7455081822856758e-10,
          3.4609848314610006e-10,
          -1.4353995770797111e-10,
          0,
          1.0098721858243458e-10,
          1.704221208453037e-10,
          2.1741342057647562e-10,
          2.4883362034446246e-10,
          2.6967739149258114e-10
         ]
        },
        {
         "line": {
          "color": "rgba(128, 0, 128, 0.2999999999999999)",
          "dash": "solid",
          "shape": "linear",
          "width": 1.3
         },
         "mode": "lines",
         "name": "Salad Seasonal Greens",
         "text": "",
         "type": "scatter",
         "x": [
          -0.6931471805599453,
          -0.5108256237659907,
          -0.35667494393873245,
          -0.22314355131420968,
          -0.10536051565782628,
          0,
          0.09531017980432495,
          0.1823215567939546,
          0.26236426446749106,
          0.33647223662121284,
          0.4054651081081644
         ],
         "y": [
          0,
          0,
          0,
          0,
          0,
          0,
          0,
          0,
          0,
          0,
          0
         ]
        },
        {
         "line": {
          "color": "rgba(219, 64, 82, 0.2999999999999999)",
          "dash": "solid",
          "shape": "linear",
          "width": 1.3
         },
         "mode": "lines",
         "name": "Garlic Fries",
         "text": "",
         "type": "scatter",
         "x": [
          -0.6931471805599453,
          -0.5108256237659907,
          -0.35667494393873245,
          -0.22314355131420968,
          -0.10536051565782628,
          0,
          0.09531017980432495,
          0.1823215567939546,
          0.26236426446749106,
          0.33647223662121284,
          0.4054651081081644
         ],
         "y": [
          5.278191216035265e-10,
          3.8154901453250817e-10,
          2.4964097452776867e-10,
          1.4382983691905537e-10,
          6.247580230738474e-11,
          0,
          -4.958666810618002e-11,
          -8.727518708110435e-11,
          -1.1615708395815324e-10,
          -1.384388159760067e-10,
          -1.5572876323024718e-10
         ]
        },
        {
         "line": {
          "color": "rgba(0, 128, 128, 0.2999999999999999)",
          "dash": "solid",
          "shape": "linear",
          "width": 1.3
         },
         "mode": "lines",
         "name": "Vegetable Medley",
         "text": "",
         "type": "scatter",
         "x": [
          -0.6931471805599453,
          -0.5108256237659907,
          -0.35667494393873245,
          -0.22314355131420968,
          -0.10536051565782628,
          0,
          0.09531017980432495,
          0.1823215567939546,
          0.26236426446749106,
          0.33647223662121284,
          0.4054651081081644
         ],
         "y": [
          -0.049149404512909216,
          -0.028824561487090568,
          -0.013542633301340362,
          -0.0038000033721889426,
          -0.0017343701299389245,
          0,
          0.0017314108765252277,
          0.0034602402446149744,
          0.005185262794839777,
          0.005522368569991851,
          0.005522370819183714
         ]
        },
        {
         "line": {
          "color": "rgba(255, 255, 51, 0.2999999999999999)",
          "dash": "solid",
          "shape": "linear",
          "width": 1.3
         },
         "mode": "lines",
         "name": "Heriloom Grains",
         "text": "",
         "type": "scatter",
         "x": [
          -0.6931471805599453,
          -0.5108256237659907,
          -0.35667494393873245,
          -0.22314355131420968,
          -0.10536051565782628,
          0,
          0.09531017980432495,
          0.1823215567939546,
          0.26236426446749106,
          0.33647223662121284,
          0.4054651081081644
         ],
         "y": [
          -0.011649809862103306,
          -0.0035518103065882425,
          -0.0007867259548014398,
          1.8516761440333082e-09,
          9.289746749198515e-11,
          0,
          3.617528498912685e-11,
          1.1234857488142176e-10,
          1.9764057055660992e-10,
          2.7814728294512647e-10,
          3.483844323530095e-10
         ]
        },
        {
         "line": {
          "color": "rgba(128, 128, 0, 0.2999999999999999)",
          "dash": "solid",
          "shape": "linear",
          "width": 1.3
         },
         "mode": "lines",
         "name": "Brown Rice",
         "text": "",
         "type": "scatter",
         "x": [
          -0.6931471805599453,
          -0.5108256237659907,
          -0.35667494393873245,
          -0.22314355131420968,
          -0.10536051565782628,
          0,
          0.09531017980432495,
          0.1823215567939546,
          0.26236426446749106,
          0.33647223662121284,
          0.4054651081081644
         ],
         "y": [
          -1.0642031700880456e-10,
          -8.881184676962332e-11,
          -6.696376786632316e-11,
          -4.38179492699583e-11,
          -2.1292967389512573e-11,
          0,
          1.8981927141045994e-11,
          3.5529135188818176e-11,
          5.007905201511791e-11,
          6.282530051551485e-11,
          7.37632177533749e-11
         ]
        }
       ],
       "layout": {
        "autosize": true,
        "legend": {
         "bgcolor": "#F5F6F9",
         "font": {
          "color": "#4D5663"
         }
        },
        "paper_bgcolor": "#F5F6F9",
        "plot_bgcolor": "#F5F6F9",
        "template": {
         "data": {
          "bar": [
           {
            "error_x": {
             "color": "#2a3f5f"
            },
            "error_y": {
             "color": "#2a3f5f"
            },
            "marker": {
             "line": {
              "color": "#E5ECF6",
              "width": 0.5
             },
             "pattern": {
              "fillmode": "overlay",
              "size": 10,
              "solidity": 0.2
             }
            },
            "type": "bar"
           }
          ],
          "barpolar": [
           {
            "marker": {
             "line": {
              "color": "#E5ECF6",
              "width": 0.5
             },
             "pattern": {
              "fillmode": "overlay",
              "size": 10,
              "solidity": 0.2
             }
            },
            "type": "barpolar"
           }
          ],
          "carpet": [
           {
            "aaxis": {
             "endlinecolor": "#2a3f5f",
             "gridcolor": "white",
             "linecolor": "white",
             "minorgridcolor": "white",
             "startlinecolor": "#2a3f5f"
            },
            "baxis": {
             "endlinecolor": "#2a3f5f",
             "gridcolor": "white",
             "linecolor": "white",
             "minorgridcolor": "white",
             "startlinecolor": "#2a3f5f"
            },
            "type": "carpet"
           }
          ],
          "choropleth": [
           {
            "colorbar": {
             "outlinewidth": 0,
             "ticks": ""
            },
            "type": "choropleth"
           }
          ],
          "contour": [
           {
            "colorbar": {
             "outlinewidth": 0,
             "ticks": ""
            },
            "colorscale": [
             [
              0,
              "#0d0887"
             ],
             [
              0.1111111111111111,
              "#46039f"
             ],
             [
              0.2222222222222222,
              "#7201a8"
             ],
             [
              0.3333333333333333,
              "#9c179e"
             ],
             [
              0.4444444444444444,
              "#bd3786"
             ],
             [
              0.5555555555555556,
              "#d8576b"
             ],
             [
              0.6666666666666666,
              "#ed7953"
             ],
             [
              0.7777777777777778,
              "#fb9f3a"
             ],
             [
              0.8888888888888888,
              "#fdca26"
             ],
             [
              1,
              "#f0f921"
             ]
            ],
            "type": "contour"
           }
          ],
          "contourcarpet": [
           {
            "colorbar": {
             "outlinewidth": 0,
             "ticks": ""
            },
            "type": "contourcarpet"
           }
          ],
          "heatmap": [
           {
            "colorbar": {
             "outlinewidth": 0,
             "ticks": ""
            },
            "colorscale": [
             [
              0,
              "#0d0887"
             ],
             [
              0.1111111111111111,
              "#46039f"
             ],
             [
              0.2222222222222222,
              "#7201a8"
             ],
             [
              0.3333333333333333,
              "#9c179e"
             ],
             [
              0.4444444444444444,
              "#bd3786"
             ],
             [
              0.5555555555555556,
              "#d8576b"
             ],
             [
              0.6666666666666666,
              "#ed7953"
             ],
             [
              0.7777777777777778,
              "#fb9f3a"
             ],
             [
              0.8888888888888888,
              "#fdca26"
             ],
             [
              1,
              "#f0f921"
             ]
            ],
            "type": "heatmap"
           }
          ],
          "heatmapgl": [
           {
            "colorbar": {
             "outlinewidth": 0,
             "ticks": ""
            },
            "colorscale": [
             [
              0,
              "#0d0887"
             ],
             [
              0.1111111111111111,
              "#46039f"
             ],
             [
              0.2222222222222222,
              "#7201a8"
             ],
             [
              0.3333333333333333,
              "#9c179e"
             ],
             [
              0.4444444444444444,
              "#bd3786"
             ],
             [
              0.5555555555555556,
              "#d8576b"
             ],
             [
              0.6666666666666666,
              "#ed7953"
             ],
             [
              0.7777777777777778,
              "#fb9f3a"
             ],
             [
              0.8888888888888888,
              "#fdca26"
             ],
             [
              1,
              "#f0f921"
             ]
            ],
            "type": "heatmapgl"
           }
          ],
          "histogram": [
           {
            "marker": {
             "pattern": {
              "fillmode": "overlay",
              "size": 10,
              "solidity": 0.2
             }
            },
            "type": "histogram"
           }
          ],
          "histogram2d": [
           {
            "colorbar": {
             "outlinewidth": 0,
             "ticks": ""
            },
            "colorscale": [
             [
              0,
              "#0d0887"
             ],
             [
              0.1111111111111111,
              "#46039f"
             ],
             [
              0.2222222222222222,
              "#7201a8"
             ],
             [
              0.3333333333333333,
              "#9c179e"
             ],
             [
              0.4444444444444444,
              "#bd3786"
             ],
             [
              0.5555555555555556,
              "#d8576b"
             ],
             [
              0.6666666666666666,
              "#ed7953"
             ],
             [
              0.7777777777777778,
              "#fb9f3a"
             ],
             [
              0.8888888888888888,
              "#fdca26"
             ],
             [
              1,
              "#f0f921"
             ]
            ],
            "type": "histogram2d"
           }
          ],
          "histogram2dcontour": [
           {
            "colorbar": {
             "outlinewidth": 0,
             "ticks": ""
            },
            "colorscale": [
             [
              0,
              "#0d0887"
             ],
             [
              0.1111111111111111,
              "#46039f"
             ],
             [
              0.2222222222222222,
              "#7201a8"
             ],
             [
              0.3333333333333333,
              "#9c179e"
             ],
             [
              0.4444444444444444,
              "#bd3786"
             ],
             [
              0.5555555555555556,
              "#d8576b"
             ],
             [
              0.6666666666666666,
              "#ed7953"
             ],
             [
              0.7777777777777778,
              "#fb9f3a"
             ],
             [
              0.8888888888888888,
              "#fdca26"
             ],
             [
              1,
              "#f0f921"
             ]
            ],
            "type": "histogram2dcontour"
           }
          ],
          "mesh3d": [
           {
            "colorbar": {
             "outlinewidth": 0,
             "ticks": ""
            },
            "type": "mesh3d"
           }
          ],
          "parcoords": [
           {
            "line": {
             "colorbar": {
              "outlinewidth": 0,
              "ticks": ""
             }
            },
            "type": "parcoords"
           }
          ],
          "pie": [
           {
            "automargin": true,
            "type": "pie"
           }
          ],
          "scatter": [
           {
            "marker": {
             "colorbar": {
              "outlinewidth": 0,
              "ticks": ""
             }
            },
            "type": "scatter"
           }
          ],
          "scatter3d": [
           {
            "line": {
             "colorbar": {
              "outlinewidth": 0,
              "ticks": ""
             }
            },
            "marker": {
             "colorbar": {
              "outlinewidth": 0,
              "ticks": ""
             }
            },
            "type": "scatter3d"
           }
          ],
          "scattercarpet": [
           {
            "marker": {
             "colorbar": {
              "outlinewidth": 0,
              "ticks": ""
             }
            },
            "type": "scattercarpet"
           }
          ],
          "scattergeo": [
           {
            "marker": {
             "colorbar": {
              "outlinewidth": 0,
              "ticks": ""
             }
            },
            "type": "scattergeo"
           }
          ],
          "scattergl": [
           {
            "marker": {
             "colorbar": {
              "outlinewidth": 0,
              "ticks": ""
             }
            },
            "type": "scattergl"
           }
          ],
          "scattermapbox": [
           {
            "marker": {
             "colorbar": {
              "outlinewidth": 0,
              "ticks": ""
             }
            },
            "type": "scattermapbox"
           }
          ],
          "scatterpolar": [
           {
            "marker": {
             "colorbar": {
              "outlinewidth": 0,
              "ticks": ""
             }
            },
            "type": "scatterpolar"
           }
          ],
          "scatterpolargl": [
           {
            "marker": {
             "colorbar": {
              "outlinewidth": 0,
              "ticks": ""
             }
            },
            "type": "scatterpolargl"
           }
          ],
          "scatterternary": [
           {
            "marker": {
             "colorbar": {
              "outlinewidth": 0,
              "ticks": ""
             }
            },
            "type": "scatterternary"
           }
          ],
          "surface": [
           {
            "colorbar": {
             "outlinewidth": 0,
             "ticks": ""
            },
            "colorscale": [
             [
              0,
              "#0d0887"
             ],
             [
              0.1111111111111111,
              "#46039f"
             ],
             [
              0.2222222222222222,
              "#7201a8"
             ],
             [
              0.3333333333333333,
              "#9c179e"
             ],
             [
              0.4444444444444444,
              "#bd3786"
             ],
             [
              0.5555555555555556,
              "#d8576b"
             ],
             [
              0.6666666666666666,
              "#ed7953"
             ],
             [
              0.7777777777777778,
              "#fb9f3a"
             ],
             [
              0.8888888888888888,
              "#fdca26"
             ],
             [
              1,
              "#f0f921"
             ]
            ],
            "type": "surface"
           }
          ],
          "table": [
           {
            "cells": {
             "fill": {
              "color": "#EBF0F8"
             },
             "line": {
              "color": "white"
             }
            },
            "header": {
             "fill": {
              "color": "#C8D4E3"
             },
             "line": {
              "color": "white"
             }
            },
            "type": "table"
           }
          ]
         },
         "layout": {
          "annotationdefaults": {
           "arrowcolor": "#2a3f5f",
           "arrowhead": 0,
           "arrowwidth": 1
          },
          "autotypenumbers": "strict",
          "coloraxis": {
           "colorbar": {
            "outlinewidth": 0,
            "ticks": ""
           }
          },
          "colorscale": {
           "diverging": [
            [
             0,
             "#8e0152"
            ],
            [
             0.1,
             "#c51b7d"
            ],
            [
             0.2,
             "#de77ae"
            ],
            [
             0.3,
             "#f1b6da"
            ],
            [
             0.4,
             "#fde0ef"
            ],
            [
             0.5,
             "#f7f7f7"
            ],
            [
             0.6,
             "#e6f5d0"
            ],
            [
             0.7,
             "#b8e186"
            ],
            [
             0.8,
             "#7fbc41"
            ],
            [
             0.9,
             "#4d9221"
            ],
            [
             1,
             "#276419"
            ]
           ],
           "sequential": [
            [
             0,
             "#0d0887"
            ],
            [
             0.1111111111111111,
             "#46039f"
            ],
            [
             0.2222222222222222,
             "#7201a8"
            ],
            [
             0.3333333333333333,
             "#9c179e"
            ],
            [
             0.4444444444444444,
             "#bd3786"
            ],
            [
             0.5555555555555556,
             "#d8576b"
            ],
            [
             0.6666666666666666,
             "#ed7953"
            ],
            [
             0.7777777777777778,
             "#fb9f3a"
            ],
            [
             0.8888888888888888,
             "#fdca26"
            ],
            [
             1,
             "#f0f921"
            ]
           ],
           "sequentialminus": [
            [
             0,
             "#0d0887"
            ],
            [
             0.1111111111111111,
             "#46039f"
            ],
            [
             0.2222222222222222,
             "#7201a8"
            ],
            [
             0.3333333333333333,
             "#9c179e"
            ],
            [
             0.4444444444444444,
             "#bd3786"
            ],
            [
             0.5555555555555556,
             "#d8576b"
            ],
            [
             0.6666666666666666,
             "#ed7953"
            ],
            [
             0.7777777777777778,
             "#fb9f3a"
            ],
            [
             0.8888888888888888,
             "#fdca26"
            ],
            [
             1,
             "#f0f921"
            ]
           ]
          },
          "colorway": [
           "#636efa",
           "#EF553B",
           "#00cc96",
           "#ab63fa",
           "#FFA15A",
           "#19d3f3",
           "#FF6692",
           "#B6E880",
           "#FF97FF",
           "#FECB52"
          ],
          "font": {
           "color": "#2a3f5f"
          },
          "geo": {
           "bgcolor": "white",
           "lakecolor": "white",
           "landcolor": "#E5ECF6",
           "showlakes": true,
           "showland": true,
           "subunitcolor": "white"
          },
          "hoverlabel": {
           "align": "left"
          },
          "hovermode": "closest",
          "mapbox": {
           "style": "light"
          },
          "paper_bgcolor": "white",
          "plot_bgcolor": "#E5ECF6",
          "polar": {
           "angularaxis": {
            "gridcolor": "white",
            "linecolor": "white",
            "ticks": ""
           },
           "bgcolor": "#E5ECF6",
           "radialaxis": {
            "gridcolor": "white",
            "linecolor": "white",
            "ticks": ""
           }
          },
          "scene": {
           "xaxis": {
            "backgroundcolor": "#E5ECF6",
            "gridcolor": "white",
            "gridwidth": 2,
            "linecolor": "white",
            "showbackground": true,
            "ticks": "",
            "zerolinecolor": "white"
           },
           "yaxis": {
            "backgroundcolor": "#E5ECF6",
            "gridcolor": "white",
            "gridwidth": 2,
            "linecolor": "white",
            "showbackground": true,
            "ticks": "",
            "zerolinecolor": "white"
           },
           "zaxis": {
            "backgroundcolor": "#E5ECF6",
            "gridcolor": "white",
            "gridwidth": 2,
            "linecolor": "white",
            "showbackground": true,
            "ticks": "",
            "zerolinecolor": "white"
           }
          },
          "shapedefaults": {
           "line": {
            "color": "#2a3f5f"
           }
          },
          "ternary": {
           "aaxis": {
            "gridcolor": "white",
            "linecolor": "white",
            "ticks": ""
           },
           "baxis": {
            "gridcolor": "white",
            "linecolor": "white",
            "ticks": ""
           },
           "bgcolor": "#E5ECF6",
           "caxis": {
            "gridcolor": "white",
            "linecolor": "white",
            "ticks": ""
           }
          },
          "title": {
           "x": 0.05
          },
          "xaxis": {
           "automargin": true,
           "gridcolor": "white",
           "linecolor": "white",
           "ticks": "",
           "title": {
            "standoff": 15
           },
           "zerolinecolor": "white",
           "zerolinewidth": 2
          },
          "yaxis": {
           "automargin": true,
           "gridcolor": "white",
           "linecolor": "white",
           "ticks": "",
           "title": {
            "standoff": 15
           },
           "zerolinecolor": "white",
           "zerolinewidth": 2
          }
         }
        },
        "title": {
         "font": {
          "color": "#4D5663"
         }
        },
        "xaxis": {
         "autorange": true,
         "gridcolor": "#E1E5ED",
         "range": [
          -0.6931471805599453,
          0.4054651081081644
         ],
         "showgrid": true,
         "tickfont": {
          "color": "#4D5663"
         },
         "title": {
          "font": {
           "color": "#4D5663"
          },
          "text": "change in log price"
         },
         "type": "linear",
         "zerolinecolor": "#E1E5ED"
        },
        "yaxis": {
         "autorange": true,
         "gridcolor": "#E1E5ED",
         "range": [
          -0.29835004748752847,
          0.1410695719858411
         ],
         "showgrid": true,
         "tickfont": {
          "color": "#4D5663"
         },
         "title": {
          "font": {
           "color": "#4D5663"
          },
          "text": "change in log cost"
         },
         "type": "linear",
         "zerolinecolor": "#E1E5ED"
        }
       }
      },
      "image/png": "[encoded data removed]",
      "text/html": [
       "<div>                            <div id=\"e59d925a-cf3d-484b-b01c-0e6c6509ddf7\" class=\"plotly-graph-div\" style=\"height:525px; width:100%;\"></div>            <script type=\"text/javascript\">                require([\"plotly\"], function(Plotly) {                    window.PLOTLYENV=window.PLOTLYENV || {};\n",
       "                    window.PLOTLYENV.BASE_URL='https://plot.ly';                                    if (document.getElementById(\"e59d925a-cf3d-484b-b01c-0e6c6509ddf7\")) {                    Plotly.newPlot(                        \"e59d925a-cf3d-484b-b01c-0e6c6509ddf7\",                        [{\"line\":{\"color\":\"rgba(255, 153, 51, 1.0)\",\"dash\":\"solid\",\"shape\":\"linear\",\"width\":1.3},\"mode\":\"lines\",\"name\":\"Turkey & Swiss Sandwich\",\"text\":\"\",\"x\":[-0.6931471805599453,-0.5108256237659907,-0.35667494393873245,-0.22314355131420968,-0.10536051565782628,0.0,0.09531017980432495,0.1823215567939546,0.26236426446749106,0.33647223662121284,0.4054651081081644],\"y\":[-5.928213475845682e-11,-4.146938348356609e-11,-2.7593038965204478e-11,-1.6507573086380314e-11,-7.49478257236513e-12,0.0,6.443512390298724e-12,1.2052581155258067e-11,1.687516792955507e-11,2.122013675864532e-11,2.5240476375324542e-11],\"type\":\"scatter\"},{\"line\":{\"color\":\"rgba(55, 128, 191, 1.0)\",\"dash\":\"solid\",\"shape\":\"linear\",\"width\":1.3},\"mode\":\"lines\",\"name\":\"Caprese Panini\",\"text\":\"\",\"x\":[-0.6931471805599453,-0.5108256237659907,-0.35667494393873245,-0.22314355131420968,-0.10536051565782628,0.0,0.09531017980432495,0.1823215567939546,0.26236426446749106,0.33647223662121284,0.4054651081081644],\"y\":[2.5677102633355938e-09,3.7532865697249235e-10,-1.46958223378986e-10,-8.72749650364994e-11,-3.880851196034017e-11,0.0,3.0106139802912103e-11,5.370726085940464e-11,7.266121037921264e-11,8.802225614669218e-11,1.0036438346568257e-10],\"type\":\"scatter\"},{\"line\":{\"color\":\"rgba(50, 171, 96, 1.0)\",\"dash\":\"solid\",\"shape\":\"linear\",\"width\":1.3},\"mode\":\"lines\",\"name\":\"Chicken Paprika\",\"text\":\"\",\"x\":[-0.6931471805599453,-0.5108256237659907,-0.35667494393873245,-0.22314355131420968,-0.10536051565782628,0.0,0.09531017980432495,0.1823215567939546,0.26236426446749106,0.33647223662121284,0.4054651081081644],\"y\":[4.573985634588083e-11,3.504840861917245e-11,2.6292079624222397e-11,1.7894352666143243e-11,9.290346270020154e-12,0.0,-9.3889340746941e-12,-1.8978929539239763e-11,-2.8500202198651136e-11,-3.80193654344063e-11,-4.7404524751173455e-11],\"type\":\"scatter\"},{\"line\":{\"color\":\"rgba(128, 0, 128, 1.0)\",\"dash\":\"solid\",\"shape\":\"linear\",\"width\":1.3},\"mode\":\"lines\",\"name\":\"Thai Marinated chicken Bahn Mi\",\"text\":\"\",\"x\":[-0.6931471805599453,-0.5108256237659907,-0.35667494393873245,-0.22314355131420968,-0.10536051565782628,0.0,0.09531017980432495,0.1823215567939546,0.26236426446749106,0.33647223662121284,0.4054651081081644],\"y\":[3.569922135618469e-11,2.3576252061452054e-11,1.461608611908337e-11,8.057554623487074e-12,3.215649968519133e-12,0.0,-1.8695045511680488e-12,-2.7103874700210677e-12,-2.692179812417166e-12,-2.0484725027379746e-12,-8.085754288348284e-13],\"type\":\"scatter\"},{\"line\":{\"color\":\"rgba(219, 64, 82, 1.0)\",\"dash\":\"solid\",\"shape\":\"linear\",\"width\":1.3},\"mode\":\"lines\",\"name\":\"French Fries\",\"text\":\"\",\"x\":[-0.6931471805599453,-0.5108256237659907,-0.35667494393873245,-0.22314355131420968,-0.10536051565782628,0.0,0.09531017980432495,0.1823215567939546,0.26236426446749106,0.33647223662121284,0.4054651081081644],\"y\":[1.4597443243506412e-09,1.0765781593735907e-09,4.813938135846225e-10,1.6613532770334243e-10,6.403144680939112e-11,0.0,-4.3454795318587564e-11,-7.31428251326098e-11,-9.383105404210956e-11,-1.084200507209742e-10,-1.1864409455590804e-10],\"type\":\"scatter\"},{\"line\":{\"color\":\"rgba(0, 128, 128, 1.0)\",\"dash\":\"solid\",\"shape\":\"linear\",\"width\":1.3},\"mode\":\"lines\",\"name\":\"Black Beans & Corn Quesadilla \",\"text\":\"\",\"x\":[-0.6931471805599453,-0.5108256237659907,-0.35667494393873245,-0.22314355131420968,-0.10536051565782628,0.0,0.09531017980432495,0.1823215567939546,0.26236426446749106,0.33647223662121284,0.4054651081081644],\"y\":[-3.0810909384143903e-10,-8.471101598320958e-11,-3.769895506948735e-11,-2.0553003743584423e-11,-9.359180097633867e-12,0.0,8.409051233080505e-12,1.5392132013284712e-11,2.1309398689823285e-11,2.6407098729570532e-11,3.053357566737983e-11],\"type\":\"scatter\"},{\"line\":{\"color\":\"rgba(255, 255, 51, 1.0)\",\"dash\":\"solid\",\"shape\":\"linear\",\"width\":1.3},\"mode\":\"lines\",\"name\":\"Chicken Quesadilla \",\"text\":\"\",\"x\":[-0.6931471805599453,-0.5108256237659907,-0.35667494393873245,-0.22314355131420968,-0.10536051565782628,0.0,0.09531017980432495,0.1823215567939546,0.26236426446749106,0.33647223662121284,0.4054651081081644],\"y\":[-1.3535073063258909e-10,-1.0576650666953344e-10,-7.743095054324485e-11,-5.0398907271036395e-11,-2.4602209159088716e-11,0.0,2.28339569472049e-11,4.399791642032212e-11,6.392486539903393e-11,8.284950503080058e-11,1.0077316758330845e-10],\"type\":\"scatter\"},{\"line\":{\"color\":\"rgba(128, 128, 0, 1.0)\",\"dash\":\"solid\",\"shape\":\"linear\",\"width\":1.3},\"mode\":\"lines\",\"name\":\"Panko Crusted Fried Chicken Sandwich\",\"text\":\"\",\"x\":[-0.6931471805599453,-0.5108256237659907,-0.35667494393873245,-0.22314355131420968,-0.10536051565782628,0.0,0.09531017980432495,0.1823215567939546,0.26236426446749106,0.33647223662121284,0.4054651081081644],\"y\":[-0.18477653408557876,-0.10360949221737577,-0.03214826450264777,-0.0027826051511225065,1.2613191428546115e-07,0.0,3.3039102510334378e-09,2.878326461917962e-09,1.3087519948091865e-09,3.2975817577693583e-09,3.533349162562711e-09],\"type\":\"scatter\"},{\"line\":{\"color\":\"rgba(251, 128, 114, 1.0)\",\"dash\":\"solid\",\"shape\":\"linear\",\"width\":1.3},\"mode\":\"lines\",\"name\":\"Think Grass Fed Burger\",\"text\":\"\",\"x\":[-0.6931471805599453,-0.5108256237659907,-0.35667494393873245,-0.22314355131420968,-0.10536051565782628,0.0,0.09531017980432495,0.1823215567939546,0.26236426446749106,0.33647223662121284,0.4054651081081644],\"y\":[-0.027618334643033274,-0.003856666367131304,-1.2180578768581567e-10,-1.9858448219364892e-11,-1.4006684701071531e-11,0.0,1.7607471036585195e-11,3.511302359920336e-11,5.16435783013401e-11,6.676281749439531e-11,8.064748868393906e-11],\"type\":\"scatter\"},{\"line\":{\"color\":\"rgba(128, 177, 211, 1.0)\",\"dash\":\"solid\",\"shape\":\"linear\",\"width\":1.3},\"mode\":\"lines\",\"name\":\"Ham & Cheese Croissant\",\"text\":\"\",\"x\":[-0.6931471805599453,-0.5108256237659907,-0.35667494393873245,-0.22314355131420968,-0.10536051565782628,0.0,0.09531017980432495,0.1823215567939546,0.26236426446749106,0.33647223662121284,0.4054651081081644],\"y\":[-2.8402169505573946e-11,-2.264610721195544e-11,-1.688449380324685e-11,-1.1272871525199991e-11,-5.58086910020131e-12,0.0,5.608402631180714e-12,1.1086020990030588e-11,1.6204815267297486e-11,2.1224799695348648e-11,2.6189495016749724e-11],\"type\":\"scatter\"},{\"line\":{\"color\":\"rgba(128, 177, 211, 0.8999999999999999)\",\"dash\":\"solid\",\"shape\":\"linear\",\"width\":1.3},\"mode\":\"lines\",\"name\":\"Banana\",\"text\":\"\",\"x\":[-0.6931471805599453,-0.5108256237659907,-0.35667494393873245,-0.22314355131420968,-0.10536051565782628,0.0,0.09531017980432495,0.1823215567939546,0.26236426446749106,0.33647223662121284,0.4054651081081644],\"y\":[-0.0004076602380130487,-8.975605647190038e-05,1.023980806011749e-08,1.2639671523656516e-09,2.9830626853124984e-10,0.0,-1.3207357430806235e-10,-1.9755874715874068e-10,-2.334669124965357e-10,-2.545715860659951e-10,-2.6724067407020557e-10],\"type\":\"scatter\"},{\"line\":{\"color\":\"rgba(255, 153, 51, 0.8999999999999999)\",\"dash\":\"solid\",\"shape\":\"linear\",\"width\":1.3},\"mode\":\"lines\",\"name\":\"Chocolate Croissant\",\"text\":\"\",\"x\":[-0.6931471805599453,-0.5108256237659907,-0.35667494393873245,-0.22314355131420968,-0.10536051565782628,0.0,0.09531017980432495,0.1823215567939546,0.26236426446749106,0.33647223662121284,0.4054651081081644],\"y\":[-0.2223470552864884,-0.17271228594907834,-0.12665821900641153,-0.08263161175145416,-0.040462774401812264,0.0,0.03430041266418381,0.05625594209661002,0.07773976437531648,0.09877175779921013,0.11909859101217263],\"type\":\"scatter\"},{\"line\":{\"color\":\"rgba(55, 128, 191, 0.8999999999999999)\",\"dash\":\"solid\",\"shape\":\"linear\",\"width\":1.3},\"mode\":\"lines\",\"name\":\"Banana Muffin\",\"text\":\"\",\"x\":[-0.6931471805599453,-0.5108256237659907,-0.35667494393873245,-0.22314355131420968,-0.10536051565782628,0.0,0.09531017980432495,0.1823215567939546,0.26236426446749106,0.33647223662121284,0.4054651081081644],\"y\":[-0.2544252777659747,-0.1927431232771719,-0.1350433980557075,-0.0811174747544826,-0.033552714601758356,0.0,0.024100494043030916,0.04075153441426572,0.04075153595289895,0.04075155811298208,0.04075153532726996],\"type\":\"scatter\"},{\"line\":{\"color\":\"rgba(50, 171, 96, 0.8999999999999999)\",\"dash\":\"solid\",\"shape\":\"linear\",\"width\":1.3},\"mode\":\"lines\",\"name\":\"Tropical Hibusicus Green Tea\",\"text\":\"\",\"x\":[-0.6931471805599453,-0.5108256237659907,-0.35667494393873245,-0.22314355131420968,-0.10536051565782628,0.0,0.09531017980432495,0.1823215567939546,0.26236426446749106,0.33647223662121284,0.4054651081081644],\"y\":[-2.383581110549782e-10,-8.645073546294609e-11,-1.137290261971985e-11,1.2273293492550863e-11,1.1401324329020588e-11,0.0,-1.5477064074906765e-11,-3.257605296677948e-11,-5.0041082390181735e-11,-6.746536662888253e-11,-8.462353040886171e-11],\"type\":\"scatter\"},{\"line\":{\"color\":\"rgba(128, 0, 128, 0.8999999999999999)\",\"dash\":\"solid\",\"shape\":\"linear\",\"width\":1.3},\"mode\":\"lines\",\"name\":\"Drip Coffee (Reg or Decaf)\",\"text\":\"\",\"x\":[-0.6931471805599453,-0.5108256237659907,-0.35667494393873245,-0.22314355131420968,-0.10536051565782628,0.0,0.09531017980432495,0.1823215567939546,0.26236426446749106,0.33647223662121284,0.4054651081081644],\"y\":[0.0,0.0,0.0,0.0,0.0,0.0,0.0,0.0,0.0,0.0,0.0],\"type\":\"scatter\"},{\"line\":{\"color\":\"rgba(219, 64, 82, 0.8999999999999999)\",\"dash\":\"solid\",\"shape\":\"linear\",\"width\":1.3},\"mode\":\"lines\",\"name\":\"Espresso\",\"text\":\"\",\"x\":[-0.6931471805599453,-0.5108256237659907,-0.35667494393873245,-0.22314355131420968,-0.10536051565782628,0.0,0.09531017980432495,0.1823215567939546,0.26236426446749106,0.33647223662121284,0.4054651081081644],\"y\":[2.7121083153377873e-10,1.2115575209013994e-10,6.348899183959385e-11,3.195887998634907e-11,1.332800536593126e-11,0.0,-1.1151080059397245e-11,-2.0199175665629176e-11,-2.700717427509379e-11,-3.11379810829367e-11,-3.230560263797202e-11],\"type\":\"scatter\"},{\"line\":{\"color\":\"rgba(0, 128, 128, 0.8999999999999999)\",\"dash\":\"solid\",\"shape\":\"linear\",\"width\":1.3},\"mode\":\"lines\",\"name\":\"Americano\",\"text\":\"\",\"x\":[-0.6931471805599453,-0.5108256237659907,-0.35667494393873245,-0.22314355131420968,-0.10536051565782628,0.0,0.09531017980432495,0.1823215567939546,0.26236426446749106,0.33647223662121284,0.4054651081081644],\"y\":[0.0,0.0,0.0,0.0,0.0,0.0,0.0,0.0,0.0,0.0,0.0],\"type\":\"scatter\"},{\"line\":{\"color\":\"rgba(255, 255, 51, 0.8999999999999999)\",\"dash\":\"solid\",\"shape\":\"linear\",\"width\":1.3},\"mode\":\"lines\",\"name\":\"Cappuccino\",\"text\":\"\",\"x\":[-0.6931471805599453,-0.5108256237659907,-0.35667494393873245,-0.22314355131420968,-0.10536051565782628,0.0,0.09531017980432495,0.1823215567939546,0.26236426446749106,0.33647223662121284,0.4054651081081644],\"y\":[8.249733084830079e-09,1.2052741020182818e-09,7.781435492929575e-10,3.277684789711098e-10,9.715028780971016e-11,0.0,-4.328681857495449e-11,-6.379663464376791e-11,-7.505540633727327e-11,-8.223211001361962e-11,-8.726919187677084e-11],\"type\":\"scatter\"},{\"line\":{\"color\":\"rgba(128, 128, 0, 0.8999999999999999)\",\"dash\":\"solid\",\"shape\":\"linear\",\"width\":1.3},\"mode\":\"lines\",\"name\":\"Latte\",\"text\":\"\",\"x\":[-0.6931471805599453,-0.5108256237659907,-0.35667494393873245,-0.22314355131420968,-0.10536051565782628,0.0,0.09531017980432495,0.1823215567939546,0.26236426446749106,0.33647223662121284,0.4054651081081644],\"y\":[-0.01280479630191744,-0.0031986177016706204,-0.0009548095236525606,1.9513717289644196e-09,1.4966332606461226e-09,0.0,-3.643543245554905e-10,1.124491598783828e-07,3.30278015034172e-08,-3.467155452231846e-10,-3.5879343946773733e-10],\"type\":\"scatter\"},{\"line\":{\"color\":\"rgba(251, 128, 114, 0.8999999999999999)\",\"dash\":\"solid\",\"shape\":\"linear\",\"width\":1.3},\"mode\":\"lines\",\"name\":\"Caramel Macchiato\",\"text\":\"\",\"x\":[-0.6931471805599453,-0.5108256237659907,-0.35667494393873245,-0.22314355131420968,-0.10536051565782628,0.0,0.09531017980432495,0.1823215567939546,0.26236426446749106,0.33647223662121284,0.4054651081081644],\"y\":[9.272649314620875e-11,7.351452779830914e-12,-1.351019296445233e-11,-1.3252066111223527e-11,-7.1788130995544925e-12,0.0,7.512435118400366e-12,1.5245138484826594e-11,2.3180346530879978e-11,3.122613279011962e-11,3.93751697905806e-11],\"type\":\"scatter\"},{\"line\":{\"color\":\"rgba(251, 128, 114, 0.7999999999999998)\",\"dash\":\"solid\",\"shape\":\"linear\",\"width\":1.3},\"mode\":\"lines\",\"name\":\"Hot Chocolate\",\"text\":\"\",\"x\":[-0.6931471805599453,-0.5108256237659907,-0.35667494393873245,-0.22314355131420968,-0.10536051565782628,0.0,0.09531017980432495,0.1823215567939546,0.26236426446749106,0.33647223662121284,0.4054651081081644],\"y\":[-0.000942366774157881,5.059483941635302e-10,-3.024083206528536e-10,-1.5685019950759633e-10,-5.856282126075979e-11,0.0,3.241495960485041e-11,5.1062487570281136e-11,6.229572413280177e-11,6.945866104260649e-11,7.443090588033499e-11],\"type\":\"scatter\"},{\"line\":{\"color\":\"rgba(128, 177, 211, 0.7999999999999998)\",\"dash\":\"solid\",\"shape\":\"linear\",\"width\":1.3},\"mode\":\"lines\",\"name\":\"Steamed Milk\",\"text\":\"\",\"x\":[-0.6931471805599453,-0.5108256237659907,-0.35667494393873245,-0.22314355131420968,-0.10536051565782628,0.0,0.09531017980432495,0.1823215567939546,0.26236426446749106,0.33647223662121284,0.4054651081081644],\"y\":[-2.0749046927214134e-10,-8.318135069975263e-11,-1.4765455526013347e-10,-8.477252233877904e-11,-3.491884559342255e-11,0.0,2.0624835172853766e-11,3.111355617542613e-11,3.5224267946266894e-11,3.574296414335336e-11,3.435274287196646e-11],\"type\":\"scatter\"},{\"line\":{\"color\":\"rgba(255, 153, 51, 0.7999999999999998)\",\"dash\":\"solid\",\"shape\":\"linear\",\"width\":1.3},\"mode\":\"lines\",\"name\":\"Hot Tea\",\"text\":\"\",\"x\":[-0.6931471805599453,-0.5108256237659907,-0.35667494393873245,-0.22314355131420968,-0.10536051565782628,0.0,0.09531017980432495,0.1823215567939546,0.26236426446749106,0.33647223662121284,0.4054651081081644],\"y\":[8.829868353029652e-09,-2.9924418503172e-10,-2.968254531495508e-10,-3.2796132481798256e-10,-2.5829227645935378e-11,0.0,-1.9049206656699873e-11,-4.380429352675481e-11,-8.223088876829243e-11,-1.3649947839632487e-10,1.7677379544530318e-09],\"type\":\"scatter\"},{\"line\":{\"color\":\"rgba(55, 128, 191, 0.7999999999999998)\",\"dash\":\"solid\",\"shape\":\"linear\",\"width\":1.3},\"mode\":\"lines\",\"name\":\"Chef Salad\",\"text\":\"\",\"x\":[-0.6931471805599453,-0.5108256237659907,-0.35667494393873245,-0.22314355131420968,-0.10536051565782628,0.0,0.09531017980432495,0.1823215567939546,0.26236426446749106,0.33647223662121284,0.4054651081081644],\"y\":[-9.891854003064217e-11,-6.685607623292731e-11,-4.2973957726601626e-11,-2.4923174635515798e-11,-1.0977996289856269e-11,0.0,8.70437055762827e-12,1.5436540934269033e-11,2.0603962979991243e-11,2.4779955864721546e-11,2.808242527368425e-11],\"type\":\"scatter\"},{\"line\":{\"color\":\"rgba(50, 171, 96, 0.7999999999999998)\",\"dash\":\"solid\",\"shape\":\"linear\",\"width\":1.3},\"mode\":\"lines\",\"name\":\"Tropical Fruit Bowl\",\"text\":\"\",\"x\":[-0.6931471805599453,-0.5108256237659907,-0.35667494393873245,-0.22314355131420968,-0.10536051565782628,0.0,0.09531017980432495,0.1823215567939546,0.26236426446749106,0.33647223662121284,0.4054651081081644],\"y\":[-4.1514824919721544e-10,7.016600321070005e-08,-2.6950119917125154e-10,-2.0539225877746912e-10,-8.184330991036399e-11,0.0,6.594103041162228e-11,1.4626944099301281e-10,2.527758002593128e-10,8.928939805762883e-10,1.6903771701417022e-09],\"type\":\"scatter\"},{\"line\":{\"color\":\"rgba(128, 0, 128, 0.7999999999999998)\",\"dash\":\"solid\",\"shape\":\"linear\",\"width\":1.3},\"mode\":\"lines\",\"name\":\"Raspberry Chobani Greek Yogurt \",\"text\":\"\",\"x\":[-0.6931471805599453,-0.5108256237659907,-0.35667494393873245,-0.22314355131420968,-0.10536051565782628,0.0,0.09531017980432495,0.1823215567939546,0.26236426446749106,0.33647223662121284,0.4054651081081644],\"y\":[-6.999967272736856e-11,-5.083011789382263e-11,-3.486522182133128e-11,-2.1343704581739025e-11,-9.869993711268812e-12,0.0,8.630207659583951e-12,1.5977441591857915e-11,2.2210011607379615e-11,2.7839730520507976e-11,3.2725822051735325e-11],\"type\":\"scatter\"},{\"line\":{\"color\":\"rgba(219, 64, 82, 0.7999999999999998)\",\"dash\":\"solid\",\"shape\":\"linear\",\"width\":1.3},\"mode\":\"lines\",\"name\":\"Strawberry Banana Naked Juice \",\"text\":\"\",\"x\":[-0.6931471805599453,-0.5108256237659907,-0.35667494393873245,-0.22314355131420968,-0.10536051565782628,0.0,0.09531017980432495,0.1823215567939546,0.26236426446749106,0.33647223662121284,0.4054651081081644],\"y\":[-0.00015452329361081738,3.623235482849983e-09,7.189975279233519e-10,2.6531132842710817e-10,9.057332661244805e-11,0.0,-5.412870152245954e-11,-8.697764731047888e-11,-1.0748257839887952e-10,-1.2018686047111138e-10,-1.2816436801554605e-10],\"type\":\"scatter\"},{\"line\":{\"color\":\"rgba(0, 128, 128, 0.7999999999999998)\",\"dash\":\"solid\",\"shape\":\"linear\",\"width\":1.3},\"mode\":\"lines\",\"name\":\"Yerbamate\",\"text\":\"\",\"x\":[-0.6931471805599453,-0.5108256237659907,-0.35667494393873245,-0.22314355131420968,-0.10536051565782628,0.0,0.09531017980432495,0.1823215567939546,0.26236426446749106,0.33647223662121284,0.4054651081081644],\"y\":[2.3462149973073524e-09,2.4490129894015798e-09,-2.42716846650705e-10,-2.181764769087353e-10,-1.7613954740755274e-10,0.0,1.3066525638406691e-10,2.3561641523950153e-10,3.2477043271639016e-10,4.0120484704198896e-10,4.6250137042809736e-10],\"type\":\"scatter\"},{\"line\":{\"color\":\"rgba(255, 255, 51, 0.7999999999999998)\",\"dash\":\"solid\",\"shape\":\"linear\",\"width\":1.3},\"mode\":\"lines\",\"name\":\"Winter Chopped Salad\",\"text\":\"\",\"x\":[-0.6931471805599453,-0.5108256237659907,-0.35667494393873245,-0.22314355131420968,-0.10536051565782628,0.0,0.09531017980432495,0.1823215567939546,0.26236426446749106,0.33647223662121284,0.4054651081081644],\"y\":[-3.792643976724164e-11,-2.5311974738749292e-11,-1.6436407790500672e-11,-9.66671187545796e-12,-4.391487173914449e-12,0.0,3.734568210227128e-12,7.055023232258133e-12,1.000244331800786e-11,1.264655047342519e-11,1.5034196110151006e-11],\"type\":\"scatter\"},{\"line\":{\"color\":\"rgba(128, 128, 0, 0.7999999999999998)\",\"dash\":\"solid\",\"shape\":\"linear\",\"width\":1.3},\"mode\":\"lines\",\"name\":\"Kale & Beets\",\"text\":\"\",\"x\":[-0.6931471805599453,-0.5108256237659907,-0.35667494393873245,-0.22314355131420968,-0.10536051565782628,0.0,0.09531017980432495,0.1823215567939546,0.26236426446749106,0.33647223662121284,0.4054651081081644],\"y\":[-0.009252506130937518,-0.0012674353411716527,4.316838637746776e-08,-1.711893960067969e-10,1.4168977101709344e-10,0.0,-2.8945279510776133e-10,-2.932932785956637e-10,1.0138079657675221e-08,4.950413411304667e-10,7.276060838454185e-09],\"type\":\"scatter\"},{\"line\":{\"color\":\"rgba(128, 128, 0, 0.7)\",\"dash\":\"solid\",\"shape\":\"linear\",\"width\":1.3},\"mode\":\"lines\",\"name\":\"Vegetable Cassoulet\",\"text\":\"\",\"x\":[-0.6931471805599453,-0.5108256237659907,-0.35667494393873245,-0.22314355131420968,-0.10536051565782628,0.0,0.09531017980432495,0.1823215567939546,0.26236426446749106,0.33647223662121284,0.4054651081081644],\"y\":[-2.9535818236051535e-11,-1.8644530364216374e-11,-1.1193046489728546e-11,-6.005862474030282e-12,-2.4071855619951616e-12,0.0,1.6455725670980532e-12,2.628564033099066e-12,3.0744295997872575e-12,3.1084024243406823e-12,2.8625990466894065e-12],\"type\":\"scatter\"},{\"line\":{\"color\":\"rgba(251, 128, 114, 0.7)\",\"dash\":\"solid\",\"shape\":\"linear\",\"width\":1.3},\"mode\":\"lines\",\"name\":\"Roast Chicken Breast\",\"text\":\"\",\"x\":[-0.6931471805599453,-0.5108256237659907,-0.35667494393873245,-0.22314355131420968,-0.10536051565782628,0.0,0.09531017980432495,0.1823215567939546,0.26236426446749106,0.33647223662121284,0.4054651081081644],\"y\":[-9.975131831701858e-12,-9.684808510759525e-12,-8.520739669429454e-12,-6.375788785837675e-12,-3.535283177320135e-12,0.0,4.141131881843259e-12,8.807177209707658e-12,1.3750778293702796e-11,1.885736011768541e-11,2.436606472115146e-11],\"type\":\"scatter\"},{\"line\":{\"color\":\"rgba(128, 177, 211, 0.7)\",\"dash\":\"solid\",\"shape\":\"linear\",\"width\":1.3},\"mode\":\"lines\",\"name\":\"King Salmon & French Lentils\",\"text\":\"\",\"x\":[-0.6931471805599453,-0.5108256237659907,-0.35667494393873245,-0.22314355131420968,-0.10536051565782628,0.0,0.09531017980432495,0.1823215567939546,0.26236426446749106,0.33647223662121284,0.4054651081081644],\"y\":[-3.7344793924618635e-11,-4.299061107197172e-11,-3.938904757993936e-11,-2.98207014641788e-11,-1.6188606011400295e-11,0.0,1.7631229809311757e-11,3.5651259721522594e-11,5.418265835852349e-11,7.280487323858869e-11,9.142953060896106e-11],\"type\":\"scatter\"},{\"line\":{\"color\":\"rgba(255, 153, 51, 0.7)\",\"dash\":\"solid\",\"shape\":\"linear\",\"width\":1.3},\"mode\":\"lines\",\"name\":\"Beef Bourguignon\",\"text\":\"\",\"x\":[-0.6931471805599453,-0.5108256237659907,-0.35667494393873245,-0.22314355131420968,-0.10536051565782628,0.0,0.09531017980432495,0.1823215567939546,0.26236426446749106,0.33647223662121284,0.4054651081081644],\"y\":[-2.3739343824329188e-11,-2.3075430455587805e-11,-1.9183654664984548e-11,-1.3600787163262971e-11,-6.983302824916618e-12,0.0,7.342348951029056e-12,1.4655610058759447e-11,2.1811219496943034e-11,2.8914870497524466e-11,3.606603904350768e-11],\"type\":\"scatter\"},{\"line\":{\"color\":\"rgba(55, 128, 191, 0.7)\",\"dash\":\"solid\",\"shape\":\"linear\",\"width\":1.3},\"mode\":\"lines\",\"name\":\"Chocolate Cake\",\"text\":\"\",\"x\":[-0.6931471805599453,-0.5108256237659907,-0.35667494393873245,-0.22314355131420968,-0.10536051565782628,0.0,0.09531017980432495,0.1823215567939546,0.26236426446749106,0.33647223662121284,0.4054651081081644],\"y\":[-4.459066449513156e-11,-3.4370395419238724e-11,-2.4773849638700002e-11,-1.5826118193854378e-11,-7.582712235916106e-12,0.0,6.987521672361398e-12,1.324251819303626e-11,1.8783197219641846e-11,2.3668178527888846e-11,2.8224533820832266e-11],\"type\":\"scatter\"},{\"line\":{\"color\":\"rgba(50, 171, 96, 0.7)\",\"dash\":\"solid\",\"shape\":\"linear\",\"width\":1.3},\"mode\":\"lines\",\"name\":\"Steamed Veggie Bun\",\"text\":\"\",\"x\":[-0.6931471805599453,-0.5108256237659907,-0.35667494393873245,-0.22314355131420968,-0.10536051565782628,0.0,0.09531017980432495,0.1823215567939546,0.26236426446749106,0.33647223662121284,0.4054651081081644],\"y\":[-0.08606911455680293,-0.0638445780371071,-0.04210304694156703,-0.022730568333010792,-0.00528981362292605,0.0,7.500577936244294e-11,-1.979039154795402e-11,1.169815355626513e-10,4.2736858487407105e-10,6.627383084569693e-10],\"type\":\"scatter\"},{\"line\":{\"color\":\"rgba(128, 0, 128, 0.7)\",\"dash\":\"solid\",\"shape\":\"linear\",\"width\":1.3},\"mode\":\"lines\",\"name\":\"Steamed Chicken Bun\",\"text\":\"\",\"x\":[-0.6931471805599453,-0.5108256237659907,-0.35667494393873245,-0.22314355131420968,-0.10536051565782628,0.0,0.09531017980432495,0.1823215567939546,0.26236426446749106,0.33647223662121284,0.4054651081081644],\"y\":[-2.412381405776608e-11,-1.9231283232741882e-11,-1.444777630876138e-11,-9.626077712756287e-12,-4.7838399908187794e-12,0.0,4.830580380132389e-12,9.617640017676557e-12,1.4021450667102652e-11,1.8346213437157494e-11,2.2495783013911742e-11],\"type\":\"scatter\"},{\"line\":{\"color\":\"rgba(219, 64, 82, 0.7)\",\"dash\":\"solid\",\"shape\":\"linear\",\"width\":1.3},\"mode\":\"lines\",\"name\":\"Veggie Spring Rolls\",\"text\":\"\",\"x\":[-0.6931471805599453,-0.5108256237659907,-0.35667494393873245,-0.22314355131420968,-0.10536051565782628,0.0,0.09531017980432495,0.1823215567939546,0.26236426446749106,0.33647223662121284,0.4054651081081644],\"y\":[-2.2464363702820202e-11,-1.45650158601635e-11,-9.083733765221826e-12,-5.1914028631607076e-12,-2.2732926652250547e-12,0.0,1.963096352140275e-12,3.5791369867801747e-12,5.239142453192389e-12,6.755040971006487e-12,8.233191905981342e-12],\"type\":\"scatter\"},{\"line\":{\"color\":\"rgba(0, 128, 128, 0.7)\",\"dash\":\"solid\",\"shape\":\"linear\",\"width\":1.3},\"mode\":\"lines\",\"name\":\"Vietnamese Coffee\",\"text\":\"\",\"x\":[-0.6931471805599453,-0.5108256237659907,-0.35667494393873245,-0.22314355131420968,-0.10536051565782628,0.0,0.09531017980432495,0.1823215567939546,0.26236426446749106,0.33647223662121284,0.4054651081081644],\"y\":[-0.006225069811947988,-0.002007189479328974,3.207329265193973e-07,1.4233183510544089e-09,-2.2043367134059572e-10,0.0,2.0632540118728848e-10,3.757660848440304e-10,5.02413444054906e-10,5.902149878202095e-10,6.467255617832847e-10],\"type\":\"scatter\"},{\"line\":{\"color\":\"rgba(255, 255, 51, 0.7)\",\"dash\":\"solid\",\"shape\":\"linear\",\"width\":1.3},\"mode\":\"lines\",\"name\":\"Vegan Pho \",\"text\":\"\",\"x\":[-0.6931471805599453,-0.5108256237659907,-0.35667494393873245,-0.22314355131420968,-0.10536051565782628,0.0,0.09531017980432495,0.1823215567939546,0.26236426446749106,0.33647223662121284,0.4054651081081644],\"y\":[-7.519995737509034e-11,-6.183153989005796e-11,-4.89219775813042e-11,-3.4385050363164273e-11,-1.7924994821943656e-11,0.0,1.856603759602922e-11,3.7202241286867444e-11,5.607980746289836e-11,7.500755571928222e-11,9.384648613334612e-11],\"type\":\"scatter\"},{\"line\":{\"color\":\"rgba(255, 255, 51, 0.5999999999999999)\",\"dash\":\"solid\",\"shape\":\"linear\",\"width\":1.3},\"mode\":\"lines\",\"name\":\"Hibiscus Lemonade\",\"text\":\"\",\"x\":[-0.6931471805599453,-0.5108256237659907,-0.35667494393873245,-0.22314355131420968,-0.10536051565782628,0.0,0.09531017980432495,0.1823215567939546,0.26236426446749106,0.33647223662121284,0.4054651081081644],\"y\":[-1.829358886612588e-11,-1.456712528391032e-11,-1.0951239914962508e-11,-7.253309064507378e-12,-3.5857983249407594e-12,0.0,3.5800251651998716e-12,7.136735646869965e-12,1.0573319997264243e-11,1.3823830968722125e-11,1.698374774136157e-11],\"type\":\"scatter\"},{\"line\":{\"color\":\"rgba(128, 128, 0, 0.5999999999999999)\",\"dash\":\"solid\",\"shape\":\"linear\",\"width\":1.3},\"mode\":\"lines\",\"name\":\"Breakfast Burrito\",\"text\":\"\",\"x\":[-0.6931471805599453,-0.5108256237659907,-0.35667494393873245,-0.22314355131420968,-0.10536051565782628,0.0,0.09531017980432495,0.1823215567939546,0.26236426446749106,0.33647223662121284,0.4054651081081644],\"y\":[-0.044382239459064624,-0.004610377048675383,-3.2538927113599325e-10,-1.4900880530577213e-10,-5.1711079863907856e-11,0.0,2.7924551559586973e-11,4.35986802206844e-11,5.274736203236482e-11,5.8051341509915205e-11,6.093525683850994e-11],\"type\":\"scatter\"},{\"line\":{\"color\":\"rgba(251, 128, 114, 0.5999999999999999)\",\"dash\":\"solid\",\"shape\":\"linear\",\"width\":1.3},\"mode\":\"lines\",\"name\":\"Bacon Burrito\",\"text\":\"\",\"x\":[-0.6931471805599453,-0.5108256237659907,-0.35667494393873245,-0.22314355131420968,-0.10536051565782628,0.0,0.09531017980432495,0.1823215567939546,0.26236426446749106,0.33647223662121284,0.4054651081081644],\"y\":[-1.219631062884242e-10,-8.942857565985756e-11,-6.146849696098314e-11,-3.761246869586579e-11,-1.7331691637573513e-11,0.0,1.4773959833182747e-11,2.692601697126649e-11,3.732725239943558e-11,4.634292949282945e-11,5.4080295795658586e-11],\"type\":\"scatter\"},{\"line\":{\"color\":\"rgba(128, 177, 211, 0.5999999999999999)\",\"dash\":\"solid\",\"shape\":\"linear\",\"width\":1.3},\"mode\":\"lines\",\"name\":\"Turkey Sausage Burrito \",\"text\":\"\",\"x\":[-0.6931471805599453,-0.5108256237659907,-0.35667494393873245,-0.22314355131420968,-0.10536051565782628,0.0,0.09531017980432495,0.1823215567939546,0.26236426446749106,0.33647223662121284,0.4054651081081644],\"y\":[-6.001132924107412e-11,-4.422606725382847e-11,-3.0803914974816646e-11,-1.916045100376944e-11,-8.961609232511956e-12,0.0,8.040457188907984e-12,1.5049739232495526e-11,2.120703612695502e-11,2.6823876453003723e-11,3.1872060545826154e-11],\"type\":\"scatter\"},{\"line\":{\"color\":\"rgba(255, 153, 51, 0.5999999999999999)\",\"dash\":\"solid\",\"shape\":\"linear\",\"width\":1.3},\"mode\":\"lines\",\"name\":\"Breakfast Egg Croissant \",\"text\":\"\",\"x\":[-0.6931471805599453,-0.5108256237659907,-0.35667494393873245,-0.22314355131420968,-0.10536051565782628,0.0,0.09531017980432495,0.1823215567939546,0.26236426446749106,0.33647223662121284,0.4054651081081644],\"y\":[-0.03801860664903467,-0.007755479724710251,4.85909622468154e-09,1.822237677468554e-08,-3.650680869382823e-10,0.0,3.5430980309074506e-09,7.207828308211699e-09,6.151446888489614e-09,2.981697329036488e-09,1.9238605856520806e-08],\"type\":\"scatter\"},{\"line\":{\"color\":\"rgba(55, 128, 191, 0.5999999999999999)\",\"dash\":\"solid\",\"shape\":\"linear\",\"width\":1.3},\"mode\":\"lines\",\"name\":\"Bacon Croissant \",\"text\":\"\",\"x\":[-0.6931471805599453,-0.5108256237659907,-0.35667494393873245,-0.22314355131420968,-0.10536051565782628,0.0,0.09531017980432495,0.1823215567939546,0.26236426446749106,0.33647223662121284,0.4054651081081644],\"y\":[-4.983680135364051e-11,-3.9226177862220455e-11,-2.8992364065481617e-11,-1.9015233832145697e-11,-9.334755191091885e-12,0.0,9.131362332895297e-12,1.7587042932932454e-11,2.5635049638266286e-11,3.350830723946522e-11,4.105871198505448e-11],\"type\":\"scatter\"},{\"line\":{\"color\":\"rgba(50, 171, 96, 0.5999999999999999)\",\"dash\":\"solid\",\"shape\":\"linear\",\"width\":1.3},\"mode\":\"lines\",\"name\":\"Turkey Saussage Croissant \",\"text\":\"\",\"x\":[-0.6931471805599453,-0.5108256237659907,-0.35667494393873245,-0.22314355131420968,-0.10536051565782628,0.0,0.09531017980432495,0.1823215567939546,0.26236426446749106,0.33647223662121284,0.4054651081081644],\"y\":[-6.790124018837986e-11,-5.373612666093091e-11,-3.97835098206043e-11,-2.6123214702863758e-11,-1.2805090321503615e-11,0.0,1.2316148101300868e-11,2.361244533205398e-11,3.4368730083520514e-11,4.4736214731665095e-11,5.447842177226756e-11],\"type\":\"scatter\"},{\"line\":{\"color\":\"rgba(128, 0, 128, 0.5999999999999999)\",\"dash\":\"solid\",\"shape\":\"linear\",\"width\":1.3},\"mode\":\"lines\",\"name\":\"Hash Brown Patties\",\"text\":\"\",\"x\":[-0.6931471805599453,-0.5108256237659907,-0.35667494393873245,-0.22314355131420968,-0.10536051565782628,0.0,0.09531017980432495,0.1823215567939546,0.26236426446749106,0.33647223662121284,0.4054651081081644],\"y\":[-0.01973325354752262,-0.009213885114917515,-0.0008309005313472702,-2.456985726286689e-10,1.1554261984944749e-09,0.0,-3.269645665861477e-10,-2.029302281975577e-10,-2.810517374780263e-10,-1.0679102047676641e-10,-8.735556722809423e-11],\"type\":\"scatter\"},{\"line\":{\"color\":\"rgba(219, 64, 82, 0.5999999999999999)\",\"dash\":\"solid\",\"shape\":\"linear\",\"width\":1.3},\"mode\":\"lines\",\"name\":\"Small Fruit Cup\",\"text\":\"\",\"x\":[-0.6931471805599453,-0.5108256237659907,-0.35667494393873245,-0.22314355131420968,-0.10536051565782628,0.0,0.09531017980432495,0.1823215567939546,0.26236426446749106,0.33647223662121284,0.4054651081081644],\"y\":[6.719735878620449e-11,1.7620571668275543e-11,-2.137956478522949e-12,-8.38273894746738e-12,-6.539879748878332e-12,0.0,9.344303109016435e-12,1.9899415448578387e-11,3.097277989590804e-11,4.23698853770821e-11,5.3757887029324825e-11],\"type\":\"scatter\"},{\"line\":{\"color\":\"rgba(0, 128, 128, 0.5999999999999999)\",\"dash\":\"solid\",\"shape\":\"linear\",\"width\":1.3},\"mode\":\"lines\",\"name\":\"Philly Cheesesteak\",\"text\":\"\",\"x\":[-0.6931471805599453,-0.5108256237659907,-0.35667494393873245,-0.22314355131420968,-0.10536051565782628,0.0,0.09531017980432495,0.1823215567939546,0.26236426446749106,0.33647223662121284,0.4054651081081644],\"y\":[-3.1215696694662886e-11,-2.340694305074858e-11,-1.6607826225505626e-11,-1.0603184996738772e-11,-5.068168107426683e-12,0.0,4.826583577243758e-12,9.406919687604707e-12,1.351629919090516e-11,1.7495338511100022e-11,2.121347542049771e-11],\"type\":\"scatter\"},{\"line\":{\"color\":\"rgba(0, 128, 128, 0.49999999999999983)\",\"dash\":\"solid\",\"shape\":\"linear\",\"width\":1.3},\"mode\":\"lines\",\"name\":\"Cheeseburger\",\"text\":\"\",\"x\":[-0.6931471805599453,-0.5108256237659907,-0.35667494393873245,-0.22314355131420968,-0.10536051565782628,0.0,0.09531017980432495,0.1823215567939546,0.26236426446749106,0.33647223662121284,0.4054651081081644],\"y\":[1.6933121571568551e-12,4.298783551347682e-13,-2.3581137043041107e-13,-4.799494135455704e-13,-3.942401960444708e-13,0.0,6.847855615885621e-13,1.5134560271678681e-12,2.5293100946978328e-12,3.712141705129784e-12,4.957811938753809e-12],\"type\":\"scatter\"},{\"line\":{\"color\":\"rgba(255, 255, 51, 0.49999999999999983)\",\"dash\":\"solid\",\"shape\":\"linear\",\"width\":1.3},\"mode\":\"lines\",\"name\":\"Beyond Burger\",\"text\":\"\",\"x\":[-0.6931471805599453,-0.5108256237659907,-0.35667494393873245,-0.22314355131420968,-0.10536051565782628,0.0,0.09531017980432495,0.1823215567939546,0.26236426446749106,0.33647223662121284,0.4054651081081644],\"y\":[2.233312643433456e-09,8.844480699462605e-10,4.885691849892949e-10,2.161586465143163e-10,7.359934883495229e-11,0.0,-3.8817948856049855e-11,-5.7504112584415805e-11,-6.464973001594467e-11,-6.460798563021607e-11,-5.993705532072224e-11],\"type\":\"scatter\"},{\"line\":{\"color\":\"rgba(128, 128, 0, 0.49999999999999983)\",\"dash\":\"solid\",\"shape\":\"linear\",\"width\":1.3},\"mode\":\"lines\",\"name\":\"Fried Chicken Sandwhich\",\"text\":\"\",\"x\":[-0.6931471805599453,-0.5108256237659907,-0.35667494393873245,-0.22314355131420968,-0.10536051565782628,0.0,0.09531017980432495,0.1823215567939546,0.26236426446749106,0.33647223662121284,0.4054651081081644],\"y\":[-0.27637906651386,-0.20439671151981811,-0.137249223125372,-0.07432911745516843,-0.02928790721927326,0.0,0.017379720557255385,0.020421163230436842,0.02042089443941447,0.020420817771585383,0.020421152767933125],\"type\":\"scatter\"},{\"line\":{\"color\":\"rgba(251, 128, 114, 0.49999999999999983)\",\"dash\":\"solid\",\"shape\":\"linear\",\"width\":1.3},\"mode\":\"lines\",\"name\":\"Salmon and Fennel Slaw Sandwhich\",\"text\":\"\",\"x\":[-0.6931471805599453,-0.5108256237659907,-0.35667494393873245,-0.22314355131420968,-0.10536051565782628,0.0,0.09531017980432495,0.1823215567939546,0.26236426446749106,0.33647223662121284,0.4054651081081644],\"y\":[2.7214364091881536e-10,1.8874901639870976e-10,1.1227641038482923e-10,6.120193240900861e-11,2.6110891226608318e-11,0.0,-2.0488610808154842e-11,-3.691302819032588e-11,-5.066191910558338e-11,-6.247724560122008e-11,-7.305633875898518e-11],\"type\":\"scatter\"},{\"line\":{\"color\":\"rgba(128, 177, 211, 0.49999999999999983)\",\"dash\":\"solid\",\"shape\":\"linear\",\"width\":1.3},\"mode\":\"lines\",\"name\":\"Mapo Tofu Bowl\",\"text\":\"\",\"x\":[-0.6931471805599453,-0.5108256237659907,-0.35667494393873245,-0.22314355131420968,-0.10536051565782628,0.0,0.09531017980432495,0.1823215567939546,0.26236426446749106,0.33647223662121284,0.4054651081081644],\"y\":[-7.135081414843287e-11,-5.529221525233036e-11,-3.211042543023663e-11,-1.4273471293892729e-11,-3.992139951955107e-12,0.0,-7.691625114606043e-13,-5.046962847656235e-12,-1.1773026997799387e-11,-2.023359257939325e-11,-2.9874769325479663e-11],\"type\":\"scatter\"},{\"line\":{\"color\":\"rgba(255, 153, 51, 0.49999999999999983)\",\"dash\":\"solid\",\"shape\":\"linear\",\"width\":1.3},\"mode\":\"lines\",\"name\":\"Salmon Larb Bowl\",\"text\":\"\",\"x\":[-0.6931471805599453,-0.5108256237659907,-0.35667494393873245,-0.22314355131420968,-0.10536051565782628,0.0,0.09531017980432495,0.1823215567939546,0.26236426446749106,0.33647223662121284,0.4054651081081644],\"y\":[0.0,0.0,0.0,0.0,0.0,0.0,0.0,0.0,0.0,0.0,0.0],\"type\":\"scatter\"},{\"line\":{\"color\":\"rgba(55, 128, 191, 0.49999999999999983)\",\"dash\":\"solid\",\"shape\":\"linear\",\"width\":1.3},\"mode\":\"lines\",\"name\":\"Buffalo Chicken Salad\",\"text\":\"\",\"x\":[-0.6931471805599453,-0.5108256237659907,-0.35667494393873245,-0.22314355131420968,-0.10536051565782628,0.0,0.09531017980432495,0.1823215567939546,0.26236426446749106,0.33647223662121284,0.4054651081081644],\"y\":[-1.1721612570146675e-10,-8.500178339338358e-11,-5.846734208063644e-11,-3.5986880143149814e-11,-1.67119651452172e-11,0.0,1.4478640508636775e-11,2.6760371695996864e-11,3.758038324904063e-11,4.720801527357691e-11,5.586819895441665e-11],\"type\":\"scatter\"},{\"line\":{\"color\":\"rgba(50, 171, 96, 0.49999999999999983)\",\"dash\":\"solid\",\"shape\":\"linear\",\"width\":1.3},\"mode\":\"lines\",\"name\":\"California Greens Salad\",\"text\":\"\",\"x\":[-0.6931471805599453,-0.5108256237659907,-0.35667494393873245,-0.22314355131420968,-0.10536051565782628,0.0,0.09531017980432495,0.1823215567939546,0.26236426446749106,0.33647223662121284,0.4054651081081644],\"y\":[-2.611661998116666e-10,-1.3851531034241397e-10,-7.469469487654556e-11,-3.705880047346455e-11,-1.4157897077027607e-11,0.0,8.871792189740272e-12,1.4426904115689991e-11,1.7793322370904157e-11,1.9916956972367116e-11,2.116573583043984e-11],\"type\":\"scatter\"},{\"line\":{\"color\":\"rgba(128, 0, 128, 0.49999999999999983)\",\"dash\":\"solid\",\"shape\":\"linear\",\"width\":1.3},\"mode\":\"lines\",\"name\":\"Buffalo Chicken Loaded Fries\",\"text\":\"\",\"x\":[-0.6931471805599453,-0.5108256237659907,-0.35667494393873245,-0.22314355131420968,-0.10536051565782628,0.0,0.09531017980432495,0.1823215567939546,0.26236426446749106,0.33647223662121284,0.4054651081081644],\"y\":[1.3391732167543893e-11,1.0260459148928133e-11,7.198908136248528e-12,4.412248344455563e-12,2.075006833022265e-12,0.0,-1.6501244815017317e-12,-2.9973801218874898e-12,-3.971822870604385e-12,-4.612976667328165e-12,-4.922950935804987e-12],\"type\":\"scatter\"},{\"line\":{\"color\":\"rgba(219, 64, 82, 0.49999999999999983)\",\"dash\":\"solid\",\"shape\":\"linear\",\"width\":1.3},\"mode\":\"lines\",\"name\":\"Cross Cut Fries\",\"text\":\"\",\"x\":[-0.6931471805599453,-0.5108256237659907,-0.35667494393873245,-0.22314355131420968,-0.10536051565782628,0.0,0.09531017980432495,0.1823215567939546,0.26236426446749106,0.33647223662121284,0.4054651081081644],\"y\":[-1.3884338123756133e-11,-1.1288525669847382e-11,-8.64996962949693e-12,-5.86763970746363e-12,-3.0152547125840085e-12,0.0,3.157252237424036e-12,6.244338379682234e-12,9.48974232524096e-12,1.2587264563910954e-11,1.57285295897409e-11],\"type\":\"scatter\"},{\"line\":{\"color\":\"rgba(219, 64, 82, 0.39999999999999974)\",\"dash\":\"solid\",\"shape\":\"linear\",\"width\":1.3},\"mode\":\"lines\",\"name\":\"Side Green Salad\",\"text\":\"\",\"x\":[-0.6931471805599453,-0.5108256237659907,-0.35667494393873245,-0.22314355131420968,-0.10536051565782628,0.0,0.09531017980432495,0.1823215567939546,0.26236426446749106,0.33647223662121284,0.4054651081081644],\"y\":[0.0,0.0,0.0,0.0,0.0,0.0,0.0,0.0,0.0,0.0,0.0],\"type\":\"scatter\"},{\"line\":{\"color\":\"rgba(0, 128, 128, 0.39999999999999974)\",\"dash\":\"solid\",\"shape\":\"linear\",\"width\":1.3},\"mode\":\"lines\",\"name\":\"Large Fruit Salad\",\"text\":\"\",\"x\":[-0.6931471805599453,-0.5108256237659907,-0.35667494393873245,-0.22314355131420968,-0.10536051565782628,0.0,0.09531017980432495,0.1823215567939546,0.26236426446749106,0.33647223662121284,0.4054651081081644],\"y\":[-2.259163967266282e-10,-2.1179880074240495e-10,-1.5932732912053157e-10,-1.046952524729599e-10,-5.091715937895767e-11,0.0,4.5019765692141636e-11,8.503775461215308e-11,1.207851596445649e-10,1.5239876026644808e-10,1.8006129918801505e-10],\"type\":\"scatter\"},{\"line\":{\"color\":\"rgba(255, 255, 51, 0.39999999999999974)\",\"dash\":\"solid\",\"shape\":\"linear\",\"width\":1.3},\"mode\":\"lines\",\"name\":\"Regular Coffee\",\"text\":\"\",\"x\":[-0.6931471805599453,-0.5108256237659907,-0.35667494393873245,-0.22314355131420968,-0.10536051565782628,0.0,0.09531017980432495,0.1823215567939546,0.26236426446749106,0.33647223662121284,0.4054651081081644],\"y\":[-2.5593971386716486e-12,-2.437283708219554e-11,-2.8408830843721887e-11,-2.2954860235110738e-11,-1.2586376385649684e-11,0.0,1.3472334359130597e-11,2.6295188248691263e-11,3.88020726652915e-11,5.0538018213474857e-11,6.165334909079348e-11],\"type\":\"scatter\"},{\"line\":{\"color\":\"rgba(128, 128, 0, 0.39999999999999974)\",\"dash\":\"solid\",\"shape\":\"linear\",\"width\":1.3},\"mode\":\"lines\",\"name\":\"Decaf Coffee\",\"text\":\"\",\"x\":[-0.6931471805599453,-0.5108256237659907,-0.35667494393873245,-0.22314355131420968,-0.10536051565782628,0.0,0.09531017980432495,0.1823215567939546,0.26236426446749106,0.33647223662121284,0.4054651081081644],\"y\":[-0.005275586339467667,-0.004218240190379644,-0.0031620108349057173,-0.0021068959163238732,-0.001052893085259956,0.0,0.0010517856694333082,0.002102466252023889,0.0031520440674773498,0.004200521427503712,0.005247900636270433],\"type\":\"scatter\"},{\"line\":{\"color\":\"rgba(251, 128, 114, 0.39999999999999974)\",\"dash\":\"solid\",\"shape\":\"linear\",\"width\":1.3},\"mode\":\"lines\",\"name\":\"Orange Juice\",\"text\":\"\",\"x\":[-0.6931471805599453,-0.5108256237659907,-0.35667494393873245,-0.22314355131420968,-0.10536051565782628,0.0,0.09531017980432495,0.1823215567939546,0.26236426446749106,0.33647223662121284,0.4054651081081644],\"y\":[-0.01044576875664984,-0.008347870388324928,-0.006254251861177489,-0.0041652175235033576,-0.002080442994985591,0.0,0.0020761244223906536,0.004147947646812971,0.00621548793380165,0.008278765716922282,0.010337785972304149],\"type\":\"scatter\"},{\"line\":{\"color\":\"rgba(128, 177, 211, 0.39999999999999974)\",\"dash\":\"solid\",\"shape\":\"linear\",\"width\":1.3},\"mode\":\"lines\",\"name\":\"Milk\",\"text\":\"\",\"x\":[-0.6931471805599453,-0.5108256237659907,-0.35667494393873245,-0.22314355131420968,-0.10536051565782628,0.0,0.09531017980432495,0.1823215567939546,0.26236426446749106,0.33647223662121284,0.4054651081081644],\"y\":[-0.011187835799409932,-0.008940232802885865,-0.006697670136919209,-0.004460125322591847,-0.00222757601157355,0.0,0.0022226250201091793,0.004440330045705784,0.006653113517100132,0.008861014521308568,0.011064066145807893],\"type\":\"scatter\"},{\"line\":{\"color\":\"rgba(255, 153, 51, 0.39999999999999974)\",\"dash\":\"solid\",\"shape\":\"linear\",\"width\":1.3},\"mode\":\"lines\",\"name\":\"Rotisserie Tri Tip\",\"text\":\"\",\"x\":[-0.6931471805599453,-0.5108256237659907,-0.35667494393873245,-0.22314355131420968,-0.10536051565782628,0.0,0.09531017980432495,0.1823215567939546,0.26236426446749106,0.33647223662121284,0.4054651081081644],\"y\":[3.366840139961079e-11,6.863842827419012e-12,-2.4960034039653918e-12,-3.390954184118365e-12,-1.4568346529141917e-12,0.0,-3.1630253971575713e-13,-2.969513523969315e-12,-7.749689778821009e-12,-1.4290901795379592e-11,-2.2111534825586466e-11],\"type\":\"scatter\"},{\"line\":{\"color\":\"rgba(55, 128, 191, 0.39999999999999974)\",\"dash\":\"solid\",\"shape\":\"linear\",\"width\":1.3},\"mode\":\"lines\",\"name\":\"Roasted Chicken Breast\",\"text\":\"\",\"x\":[-0.6931471805599453,-0.5108256237659907,-0.35667494393873245,-0.22314355131420968,-0.10536051565782628,0.0,0.09531017980432495,0.1823215567939546,0.26236426446749106,0.33647223662121284,0.4054651081081644],\"y\":[4.113154261622821e-12,2.511990615513724e-12,1.2692069617506736e-12,4.725109192803549e-13,6.528111384795707e-14,0.0,3.705924456198086e-13,9.072742557232664e-13,1.7557066911406813e-12,2.977174062830388e-12,4.389377750148386e-12],\"type\":\"scatter\"},{\"line\":{\"color\":\"rgba(50, 171, 96, 0.39999999999999974)\",\"dash\":\"solid\",\"shape\":\"linear\",\"width\":1.3},\"mode\":\"lines\",\"name\":\"Seared Salmon Fillet\",\"text\":\"\",\"x\":[-0.6931471805599453,-0.5108256237659907,-0.35667494393873245,-0.22314355131420968,-0.10536051565782628,0.0,0.09531017980432495,0.1823215567939546,0.26236426446749106,0.33647223662121284,0.4054651081081644],\"y\":[8.281531016164496e-11,5.148420121406544e-09,3.893729109329986e-09,1.0522496202162704e-09,-3.4341118843385255e-10,0.0,3.8594616384215117e-10,8.807681212211998e-09,-1.2106060599159677e-10,1.7537773523958145e-08,1.787008636198412e-08],\"type\":\"scatter\"},{\"line\":{\"color\":\"rgba(128, 0, 128, 0.39999999999999974)\",\"dash\":\"solid\",\"shape\":\"linear\",\"width\":1.3},\"mode\":\"lines\",\"name\":\"Seared Tofu\",\"text\":\"\",\"x\":[-0.6931471805599453,-0.5108256237659907,-0.35667494393873245,-0.22314355131420968,-0.10536051565782628,0.0,0.09531017980432495,0.1823215567939546,0.26236426446749106,0.33647223662121284,0.4054651081081644],\"y\":[3.7209328882121944e-09,7.951988817665795e-08,1.7455081822856758e-10,3.4609848314610006e-10,-1.4353995770797111e-10,0.0,1.0098721858243458e-10,1.704221208453037e-10,2.1741342057647562e-10,2.4883362034446246e-10,2.6967739149258114e-10],\"type\":\"scatter\"},{\"line\":{\"color\":\"rgba(128, 0, 128, 0.2999999999999999)\",\"dash\":\"solid\",\"shape\":\"linear\",\"width\":1.3},\"mode\":\"lines\",\"name\":\"Salad Seasonal Greens\",\"text\":\"\",\"x\":[-0.6931471805599453,-0.5108256237659907,-0.35667494393873245,-0.22314355131420968,-0.10536051565782628,0.0,0.09531017980432495,0.1823215567939546,0.26236426446749106,0.33647223662121284,0.4054651081081644],\"y\":[0.0,0.0,0.0,0.0,0.0,0.0,0.0,0.0,0.0,0.0,0.0],\"type\":\"scatter\"},{\"line\":{\"color\":\"rgba(219, 64, 82, 0.2999999999999999)\",\"dash\":\"solid\",\"shape\":\"linear\",\"width\":1.3},\"mode\":\"lines\",\"name\":\"Garlic Fries\",\"text\":\"\",\"x\":[-0.6931471805599453,-0.5108256237659907,-0.35667494393873245,-0.22314355131420968,-0.10536051565782628,0.0,0.09531017980432495,0.1823215567939546,0.26236426446749106,0.33647223662121284,0.4054651081081644],\"y\":[5.278191216035265e-10,3.8154901453250817e-10,2.4964097452776867e-10,1.4382983691905537e-10,6.247580230738474e-11,0.0,-4.958666810618002e-11,-8.727518708110435e-11,-1.1615708395815324e-10,-1.384388159760067e-10,-1.5572876323024718e-10],\"type\":\"scatter\"},{\"line\":{\"color\":\"rgba(0, 128, 128, 0.2999999999999999)\",\"dash\":\"solid\",\"shape\":\"linear\",\"width\":1.3},\"mode\":\"lines\",\"name\":\"Vegetable Medley\",\"text\":\"\",\"x\":[-0.6931471805599453,-0.5108256237659907,-0.35667494393873245,-0.22314355131420968,-0.10536051565782628,0.0,0.09531017980432495,0.1823215567939546,0.26236426446749106,0.33647223662121284,0.4054651081081644],\"y\":[-0.049149404512909216,-0.028824561487090568,-0.013542633301340362,-0.0038000033721889426,-0.0017343701299389245,0.0,0.0017314108765252277,0.0034602402446149744,0.005185262794839777,0.005522368569991851,0.005522370819183714],\"type\":\"scatter\"},{\"line\":{\"color\":\"rgba(255, 255, 51, 0.2999999999999999)\",\"dash\":\"solid\",\"shape\":\"linear\",\"width\":1.3},\"mode\":\"lines\",\"name\":\"Heriloom Grains\",\"text\":\"\",\"x\":[-0.6931471805599453,-0.5108256237659907,-0.35667494393873245,-0.22314355131420968,-0.10536051565782628,0.0,0.09531017980432495,0.1823215567939546,0.26236426446749106,0.33647223662121284,0.4054651081081644],\"y\":[-0.011649809862103306,-0.0035518103065882425,-0.0007867259548014398,1.8516761440333082e-09,9.289746749198515e-11,0.0,3.617528498912685e-11,1.1234857488142176e-10,1.9764057055660992e-10,2.7814728294512647e-10,3.483844323530095e-10],\"type\":\"scatter\"},{\"line\":{\"color\":\"rgba(128, 128, 0, 0.2999999999999999)\",\"dash\":\"solid\",\"shape\":\"linear\",\"width\":1.3},\"mode\":\"lines\",\"name\":\"Brown Rice\",\"text\":\"\",\"x\":[-0.6931471805599453,-0.5108256237659907,-0.35667494393873245,-0.22314355131420968,-0.10536051565782628,0.0,0.09531017980432495,0.1823215567939546,0.26236426446749106,0.33647223662121284,0.4054651081081644],\"y\":[-1.0642031700880456e-10,-8.881184676962332e-11,-6.696376786632316e-11,-4.38179492699583e-11,-2.1292967389512573e-11,0.0,1.8981927141045994e-11,3.5529135188818176e-11,5.007905201511791e-11,6.282530051551485e-11,7.37632177533749e-11],\"type\":\"scatter\"}],                        {\"legend\":{\"bgcolor\":\"#F5F6F9\",\"font\":{\"color\":\"#4D5663\"}},\"paper_bgcolor\":\"#F5F6F9\",\"plot_bgcolor\":\"#F5F6F9\",\"template\":{\"data\":{\"barpolar\":[{\"marker\":{\"line\":{\"color\":\"#E5ECF6\",\"width\":0.5},\"pattern\":{\"fillmode\":\"overlay\",\"size\":10,\"solidity\":0.2}},\"type\":\"barpolar\"}],\"bar\":[{\"error_x\":{\"color\":\"#2a3f5f\"},\"error_y\":{\"color\":\"#2a3f5f\"},\"marker\":{\"line\":{\"color\":\"#E5ECF6\",\"width\":0.5},\"pattern\":{\"fillmode\":\"overlay\",\"size\":10,\"solidity\":0.2}},\"type\":\"bar\"}],\"carpet\":[{\"aaxis\":{\"endlinecolor\":\"#2a3f5f\",\"gridcolor\":\"white\",\"linecolor\":\"white\",\"minorgridcolor\":\"white\",\"startlinecolor\":\"#2a3f5f\"},\"baxis\":{\"endlinecolor\":\"#2a3f5f\",\"gridcolor\":\"white\",\"linecolor\":\"white\",\"minorgridcolor\":\"white\",\"startlinecolor\":\"#2a3f5f\"},\"type\":\"carpet\"}],\"choropleth\":[{\"colorbar\":{\"outlinewidth\":0,\"ticks\":\"\"},\"type\":\"choropleth\"}],\"contourcarpet\":[{\"colorbar\":{\"outlinewidth\":0,\"ticks\":\"\"},\"type\":\"contourcarpet\"}],\"contour\":[{\"colorbar\":{\"outlinewidth\":0,\"ticks\":\"\"},\"colorscale\":[[0.0,\"#0d0887\"],[0.1111111111111111,\"#46039f\"],[0.2222222222222222,\"#7201a8\"],[0.3333333333333333,\"#9c179e\"],[0.4444444444444444,\"#bd3786\"],[0.5555555555555556,\"#d8576b\"],[0.6666666666666666,\"#ed7953\"],[0.7777777777777778,\"#fb9f3a\"],[0.8888888888888888,\"#fdca26\"],[1.0,\"#f0f921\"]],\"type\":\"contour\"}],\"heatmapgl\":[{\"colorbar\":{\"outlinewidth\":0,\"ticks\":\"\"},\"colorscale\":[[0.0,\"#0d0887\"],[0.1111111111111111,\"#46039f\"],[0.2222222222222222,\"#7201a8\"],[0.3333333333333333,\"#9c179e\"],[0.4444444444444444,\"#bd3786\"],[0.5555555555555556,\"#d8576b\"],[0.6666666666666666,\"#ed7953\"],[0.7777777777777778,\"#fb9f3a\"],[0.8888888888888888,\"#fdca26\"],[1.0,\"#f0f921\"]],\"type\":\"heatmapgl\"}],\"heatmap\":[{\"colorbar\":{\"outlinewidth\":0,\"ticks\":\"\"},\"colorscale\":[[0.0,\"#0d0887\"],[0.1111111111111111,\"#46039f\"],[0.2222222222222222,\"#7201a8\"],[0.3333333333333333,\"#9c179e\"],[0.4444444444444444,\"#bd3786\"],[0.5555555555555556,\"#d8576b\"],[0.6666666666666666,\"#ed7953\"],[0.7777777777777778,\"#fb9f3a\"],[0.8888888888888888,\"#fdca26\"],[1.0,\"#f0f921\"]],\"type\":\"heatmap\"}],\"histogram2dcontour\":[{\"colorbar\":{\"outlinewidth\":0,\"ticks\":\"\"},\"colorscale\":[[0.0,\"#0d0887\"],[0.1111111111111111,\"#46039f\"],[0.2222222222222222,\"#7201a8\"],[0.3333333333333333,\"#9c179e\"],[0.4444444444444444,\"#bd3786\"],[0.5555555555555556,\"#d8576b\"],[0.6666666666666666,\"#ed7953\"],[0.7777777777777778,\"#fb9f3a\"],[0.8888888888888888,\"#fdca26\"],[1.0,\"#f0f921\"]],\"type\":\"histogram2dcontour\"}],\"histogram2d\":[{\"colorbar\":{\"outlinewidth\":0,\"ticks\":\"\"},\"colorscale\":[[0.0,\"#0d0887\"],[0.1111111111111111,\"#46039f\"],[0.2222222222222222,\"#7201a8\"],[0.3333333333333333,\"#9c179e\"],[0.4444444444444444,\"#bd3786\"],[0.5555555555555556,\"#d8576b\"],[0.6666666666666666,\"#ed7953\"],[0.7777777777777778,\"#fb9f3a\"],[0.8888888888888888,\"#fdca26\"],[1.0,\"#f0f921\"]],\"type\":\"histogram2d\"}],\"histogram\":[{\"marker\":{\"pattern\":{\"fillmode\":\"overlay\",\"size\":10,\"solidity\":0.2}},\"type\":\"histogram\"}],\"mesh3d\":[{\"colorbar\":{\"outlinewidth\":0,\"ticks\":\"\"},\"type\":\"mesh3d\"}],\"parcoords\":[{\"line\":{\"colorbar\":{\"outlinewidth\":0,\"ticks\":\"\"}},\"type\":\"parcoords\"}],\"pie\":[{\"automargin\":true,\"type\":\"pie\"}],\"scatter3d\":[{\"line\":{\"colorbar\":{\"outlinewidth\":0,\"ticks\":\"\"}},\"marker\":{\"colorbar\":{\"outlinewidth\":0,\"ticks\":\"\"}},\"type\":\"scatter3d\"}],\"scattercarpet\":[{\"marker\":{\"colorbar\":{\"outlinewidth\":0,\"ticks\":\"\"}},\"type\":\"scattercarpet\"}],\"scattergeo\":[{\"marker\":{\"colorbar\":{\"outlinewidth\":0,\"ticks\":\"\"}},\"type\":\"scattergeo\"}],\"scattergl\":[{\"marker\":{\"colorbar\":{\"outlinewidth\":0,\"ticks\":\"\"}},\"type\":\"scattergl\"}],\"scattermapbox\":[{\"marker\":{\"colorbar\":{\"outlinewidth\":0,\"ticks\":\"\"}},\"type\":\"scattermapbox\"}],\"scatterpolargl\":[{\"marker\":{\"colorbar\":{\"outlinewidth\":0,\"ticks\":\"\"}},\"type\":\"scatterpolargl\"}],\"scatterpolar\":[{\"marker\":{\"colorbar\":{\"outlinewidth\":0,\"ticks\":\"\"}},\"type\":\"scatterpolar\"}],\"scatter\":[{\"marker\":{\"colorbar\":{\"outlinewidth\":0,\"ticks\":\"\"}},\"type\":\"scatter\"}],\"scatterternary\":[{\"marker\":{\"colorbar\":{\"outlinewidth\":0,\"ticks\":\"\"}},\"type\":\"scatterternary\"}],\"surface\":[{\"colorbar\":{\"outlinewidth\":0,\"ticks\":\"\"},\"colorscale\":[[0.0,\"#0d0887\"],[0.1111111111111111,\"#46039f\"],[0.2222222222222222,\"#7201a8\"],[0.3333333333333333,\"#9c179e\"],[0.4444444444444444,\"#bd3786\"],[0.5555555555555556,\"#d8576b\"],[0.6666666666666666,\"#ed7953\"],[0.7777777777777778,\"#fb9f3a\"],[0.8888888888888888,\"#fdca26\"],[1.0,\"#f0f921\"]],\"type\":\"surface\"}],\"table\":[{\"cells\":{\"fill\":{\"color\":\"#EBF0F8\"},\"line\":{\"color\":\"white\"}},\"header\":{\"fill\":{\"color\":\"#C8D4E3\"},\"line\":{\"color\":\"white\"}},\"type\":\"table\"}]},\"layout\":{\"annotationdefaults\":{\"arrowcolor\":\"#2a3f5f\",\"arrowhead\":0,\"arrowwidth\":1},\"autotypenumbers\":\"strict\",\"coloraxis\":{\"colorbar\":{\"outlinewidth\":0,\"ticks\":\"\"}},\"colorscale\":{\"diverging\":[[0,\"#8e0152\"],[0.1,\"#c51b7d\"],[0.2,\"#de77ae\"],[0.3,\"#f1b6da\"],[0.4,\"#fde0ef\"],[0.5,\"#f7f7f7\"],[0.6,\"#e6f5d0\"],[0.7,\"#b8e186\"],[0.8,\"#7fbc41\"],[0.9,\"#4d9221\"],[1,\"#276419\"]],\"sequential\":[[0.0,\"#0d0887\"],[0.1111111111111111,\"#46039f\"],[0.2222222222222222,\"#7201a8\"],[0.3333333333333333,\"#9c179e\"],[0.4444444444444444,\"#bd3786\"],[0.5555555555555556,\"#d8576b\"],[0.6666666666666666,\"#ed7953\"],[0.7777777777777778,\"#fb9f3a\"],[0.8888888888888888,\"#fdca26\"],[1.0,\"#f0f921\"]],\"sequentialminus\":[[0.0,\"#0d0887\"],[0.1111111111111111,\"#46039f\"],[0.2222222222222222,\"#7201a8\"],[0.3333333333333333,\"#9c179e\"],[0.4444444444444444,\"#bd3786\"],[0.5555555555555556,\"#d8576b\"],[0.6666666666666666,\"#ed7953\"],[0.7777777777777778,\"#fb9f3a\"],[0.8888888888888888,\"#fdca26\"],[1.0,\"#f0f921\"]]},\"colorway\":[\"#636efa\",\"#EF553B\",\"#00cc96\",\"#ab63fa\",\"#FFA15A\",\"#19d3f3\",\"#FF6692\",\"#B6E880\",\"#FF97FF\",\"#FECB52\"],\"font\":{\"color\":\"#2a3f5f\"},\"geo\":{\"bgcolor\":\"white\",\"lakecolor\":\"white\",\"landcolor\":\"#E5ECF6\",\"showlakes\":true,\"showland\":true,\"subunitcolor\":\"white\"},\"hoverlabel\":{\"align\":\"left\"},\"hovermode\":\"closest\",\"mapbox\":{\"style\":\"light\"},\"paper_bgcolor\":\"white\",\"plot_bgcolor\":\"#E5ECF6\",\"polar\":{\"angularaxis\":{\"gridcolor\":\"white\",\"linecolor\":\"white\",\"ticks\":\"\"},\"bgcolor\":\"#E5ECF6\",\"radialaxis\":{\"gridcolor\":\"white\",\"linecolor\":\"white\",\"ticks\":\"\"}},\"scene\":{\"xaxis\":{\"backgroundcolor\":\"#E5ECF6\",\"gridcolor\":\"white\",\"gridwidth\":2,\"linecolor\":\"white\",\"showbackground\":true,\"ticks\":\"\",\"zerolinecolor\":\"white\"},\"yaxis\":{\"backgroundcolor\":\"#E5ECF6\",\"gridcolor\":\"white\",\"gridwidth\":2,\"linecolor\":\"white\",\"showbackground\":true,\"ticks\":\"\",\"zerolinecolor\":\"white\"},\"zaxis\":{\"backgroundcolor\":\"#E5ECF6\",\"gridcolor\":\"white\",\"gridwidth\":2,\"linecolor\":\"white\",\"showbackground\":true,\"ticks\":\"\",\"zerolinecolor\":\"white\"}},\"shapedefaults\":{\"line\":{\"color\":\"#2a3f5f\"}},\"ternary\":{\"aaxis\":{\"gridcolor\":\"white\",\"linecolor\":\"white\",\"ticks\":\"\"},\"baxis\":{\"gridcolor\":\"white\",\"linecolor\":\"white\",\"ticks\":\"\"},\"bgcolor\":\"#E5ECF6\",\"caxis\":{\"gridcolor\":\"white\",\"linecolor\":\"white\",\"ticks\":\"\"}},\"title\":{\"x\":0.05},\"xaxis\":{\"automargin\":true,\"gridcolor\":\"white\",\"linecolor\":\"white\",\"ticks\":\"\",\"title\":{\"standoff\":15},\"zerolinecolor\":\"white\",\"zerolinewidth\":2},\"yaxis\":{\"automargin\":true,\"gridcolor\":\"white\",\"linecolor\":\"white\",\"ticks\":\"\",\"title\":{\"standoff\":15},\"zerolinecolor\":\"white\",\"zerolinewidth\":2}}},\"title\":{\"font\":{\"color\":\"#4D5663\"}},\"xaxis\":{\"gridcolor\":\"#E1E5ED\",\"showgrid\":true,\"tickfont\":{\"color\":\"#4D5663\"},\"title\":{\"font\":{\"color\":\"#4D5663\"},\"text\":\"change in log price\"},\"zerolinecolor\":\"#E1E5ED\"},\"yaxis\":{\"gridcolor\":\"#E1E5ED\",\"showgrid\":true,\"tickfont\":{\"color\":\"#4D5663\"},\"title\":{\"font\":{\"color\":\"#4D5663\"},\"text\":\"change in log cost\"},\"zerolinecolor\":\"#E1E5ED\"}},                        {\"showLink\": true, \"linkText\": \"Export to plot.ly\", \"plotlyServerURL\": \"https://plot.ly\", \"responsive\": true}                    ).then(function(){\n",
       "                            \n",
       "var gd = document.getElementById('e59d925a-cf3d-484b-b01c-0e6c6509ddf7');\n",
       "var x = new MutationObserver(function (mutations, observer) {{\n",
       "        var display = window.getComputedStyle(gd).display;\n",
       "        if (!display || display === 'none') {{\n",
       "            console.log([gd, 'removed!']);\n",
       "            Plotly.purge(gd);\n",
       "            observer.disconnect();\n",
       "        }}\n",
       "}});\n",
       "\n",
       "// Listen for the removal of the full notebook cells\n",
       "var notebookContainer = gd.closest('#notebook-container');\n",
       "if (notebookContainer) {{\n",
       "    x.observe(notebookContainer, {childList: true});\n",
       "}}\n",
       "\n",
       "// Listen for the clearing of the current output cell\n",
       "var outputEl = gd.closest('.output');\n",
       "if (outputEl) {{\n",
       "    x.observe(outputEl, {childList: true});\n",
       "}}\n",
       "\n",
       "                        })                };                });            </script>        </div>"
      ]
     },
     "metadata": {},
     "output_type": "display_data"
    },
    {
     "name": "stdout",
     "output_type": "stream",
     "text": [
      "Effect of Price on Changes on in Males On Campus's Substistence Diet Cost\n"
     ]
    },
    {
     "data": {
      "application/vnd.plotly.v1+json": {
       "config": {
        "linkText": "Export to plot.ly",
        "plotlyServerURL": "https://plot.ly",
        "showLink": true
       },
       "data": [
        {
         "line": {
          "color": "rgba(255, 153, 51, 1.0)",
          "dash": "solid",
          "shape": "linear",
          "width": 1.3
         },
         "mode": "lines",
         "name": "Turkey & Swiss Sandwich",
         "text": "",
         "type": "scatter",
         "x": [
          -0.6931471805599453,
          -0.5108256237659907,
          -0.35667494393873245,
          -0.22314355131420968,
          -0.10536051565782628,
          0,
          0.09531017980432495,
          0.1823215567939546,
          0.26236426446749106,
          0.33647223662121284,
          0.4054651081081644
         ],
         "y": [
          8.588299368097407e-09,
          5.929018369786187e-09,
          3.909246474440026e-09,
          2.325684309094733e-09,
          1.0503302666533162e-09,
          0,
          -8.811725797360657e-10,
          -1.6318907349869726e-09,
          -2.2797932456749843e-09,
          -2.8450658536243108e-09,
          -3.3428891932726703e-09
         ]
        },
        {
         "line": {
          "color": "rgba(55, 128, 191, 1.0)",
          "dash": "solid",
          "shape": "linear",
          "width": 1.3
         },
         "mode": "lines",
         "name": "Caprese Panini",
         "text": "",
         "type": "scatter",
         "x": [
          -0.6931471805599453,
          -0.5108256237659907,
          -0.35667494393873245,
          -0.22314355131420968,
          -0.10536051565782628,
          0,
          0.09531017980432495,
          0.1823215567939546,
          0.26236426446749106,
          0.33647223662121284,
          0.4054651081081644
         ],
         "y": [
          1.678259894738863e-08,
          6.734026424901037e-09,
          4.02561561052745e-09,
          2.198807355993782e-09,
          9.240859184693995e-10,
          0,
          -6.942376675945307e-10,
          -1.2322880501390709e-09,
          -1.6610525191336059e-09,
          -2.0107308061021705e-09,
          -2.3018319499203974e-09
         ]
        },
        {
         "line": {
          "color": "rgba(50, 171, 96, 1.0)",
          "dash": "solid",
          "shape": "linear",
          "width": 1.3
         },
         "mode": "lines",
         "name": "Chicken Paprika",
         "text": "",
         "type": "scatter",
         "x": [
          -0.6931471805599453,
          -0.5108256237659907,
          -0.35667494393873245,
          -0.22314355131420968,
          -0.10536051565782628,
          0,
          0.09531017980432495,
          0.1823215567939546,
          0.26236426446749106,
          0.33647223662121284,
          0.4054651081081644
         ],
         "y": [
          -9.994089272805399e-09,
          -7.913727704483544e-09,
          -5.490893421698298e-09,
          -3.0761847561030695e-09,
          -1.0863007166366755e-09,
          0,
          2.3633739407152296e-10,
          9.674196994363757e-10,
          8.652440982169099e-10,
          -1.4376744240574948e-10,
          -2.364166420984125e-09
         ]
        },
        {
         "line": {
          "color": "rgba(128, 0, 128, 1.0)",
          "dash": "solid",
          "shape": "linear",
          "width": 1.3
         },
         "mode": "lines",
         "name": "Thai Marinated chicken Bahn Mi",
         "text": "",
         "type": "scatter",
         "x": [
          -0.6931471805599453,
          -0.5108256237659907,
          -0.35667494393873245,
          -0.22314355131420968,
          -0.10536051565782628,
          0,
          0.09531017980432495,
          0.1823215567939546,
          0.26236426446749106,
          0.33647223662121284,
          0.4054651081081644
         ],
         "y": [
          1.1235921463397121e-08,
          7.84312123280485e-09,
          5.211386641966604e-09,
          3.1165820986451996e-09,
          1.4124073012284681e-09,
          0,
          -1.1904659487507789e-09,
          -2.209024077212863e-09,
          -3.0928325504086743e-09,
          -3.869860106525134e-09,
          -4.561623866829207e-09
         ]
        },
        {
         "line": {
          "color": "rgba(219, 64, 82, 1.0)",
          "dash": "solid",
          "shape": "linear",
          "width": 1.3
         },
         "mode": "lines",
         "name": "French Fries",
         "text": "",
         "type": "scatter",
         "x": [
          -0.6931471805599453,
          -0.5108256237659907,
          -0.35667494393873245,
          -0.22314355131420968,
          -0.10536051565782628,
          0,
          0.09531017980432495,
          0.1823215567939546,
          0.26236426446749106,
          0.33647223662121284,
          0.4054651081081644
         ],
         "y": [
          4.192646443449904e-09,
          -1.2046095749064261e-08,
          -7.197434230088477e-09,
          -4.3189394376426895e-09,
          -2.1789893246840848e-09,
          0,
          1.728286623431148e-09,
          3.185288250307639e-09,
          4.467223470042223e-09,
          5.626417094165724e-09,
          6.691461584645659e-09
         ]
        },
        {
         "line": {
          "color": "rgba(0, 128, 128, 1.0)",
          "dash": "solid",
          "shape": "linear",
          "width": 1.3
         },
         "mode": "lines",
         "name": "Black Beans & Corn Quesadilla ",
         "text": "",
         "type": "scatter",
         "x": [
          -0.6931471805599453,
          -0.5108256237659907,
          -0.35667494393873245,
          -0.22314355131420968,
          -0.10536051565782628,
          0,
          0.09531017980432495,
          0.1823215567939546,
          0.26236426446749106,
          0.33647223662121284,
          0.4054651081081644
         ],
         "y": [
          1.9271935417212098e-08,
          9.602306903472164e-09,
          5.31482745289414e-09,
          2.920970128170163e-09,
          1.2957235276321764e-09,
          0,
          -1.169193409440048e-09,
          -1.932254136340313e-09,
          -2.2853672314051406e-09,
          -2.6493417494955836e-09,
          -3.0420355170064605e-09
         ]
        },
        {
         "line": {
          "color": "rgba(255, 255, 51, 1.0)",
          "dash": "solid",
          "shape": "linear",
          "width": 1.3
         },
         "mode": "lines",
         "name": "Chicken Quesadilla ",
         "text": "",
         "type": "scatter",
         "x": [
          -0.6931471805599453,
          -0.5108256237659907,
          -0.35667494393873245,
          -0.22314355131420968,
          -0.10536051565782628,
          0,
          0.09531017980432495,
          0.1823215567939546,
          0.26236426446749106,
          0.33647223662121284,
          0.4054651081081644
         ],
         "y": [
          1.1421793667806516e-08,
          8.013507603132406e-09,
          5.33464160310912e-09,
          3.1895350754078987e-09,
          1.4430536755118613e-09,
          0,
          -1.2084174779243822e-09,
          -2.232394827044635e-09,
          -3.109585926924526e-09,
          -3.868299132946472e-09,
          -4.3661782063003e-09
         ]
        },
        {
         "line": {
          "color": "rgba(128, 128, 0, 1.0)",
          "dash": "solid",
          "shape": "linear",
          "width": 1.3
         },
         "mode": "lines",
         "name": "Panko Crusted Fried Chicken Sandwich",
         "text": "",
         "type": "scatter",
         "x": [
          -0.6931471805599453,
          -0.5108256237659907,
          -0.35667494393873245,
          -0.22314355131420968,
          -0.10536051565782628,
          0,
          0.09531017980432495,
          0.1823215567939546,
          0.26236426446749106,
          0.33647223662121284,
          0.4054651081081644
         ],
         "y": [
          -0.24298785097638465,
          -0.15425594780854113,
          -0.07826635707086044,
          -0.02666705649730228,
          -2.317588392519505e-08,
          0,
          -1.1594581251266147e-08,
          -2.359501322182932e-08,
          2.222184367362833e-08,
          -2.302120287587236e-08,
          1.6674558261688414e-08
         ]
        },
        {
         "line": {
          "color": "rgba(251, 128, 114, 1.0)",
          "dash": "solid",
          "shape": "linear",
          "width": 1.3
         },
         "mode": "lines",
         "name": "Think Grass Fed Burger",
         "text": "",
         "type": "scatter",
         "x": [
          -0.6931471805599453,
          -0.5108256237659907,
          -0.35667494393873245,
          -0.22314355131420968,
          -0.10536051565782628,
          0,
          0.09531017980432495,
          0.1823215567939546,
          0.26236426446749106,
          0.33647223662121284,
          0.4054651081081644
         ],
         "y": [
          -0.015676532395793086,
          -0.0005351340533979273,
          3.100847930311543e-08,
          1.9660208601030186e-08,
          7.106199603487895e-09,
          0,
          -3.0999058923427653e-09,
          -4.494141402462469e-09,
          -5.534986151408972e-09,
          -6.348393053635048e-09,
          -7.0174679646960575e-09
         ]
        },
        {
         "line": {
          "color": "rgba(128, 177, 211, 1.0)",
          "dash": "solid",
          "shape": "linear",
          "width": 1.3
         },
         "mode": "lines",
         "name": "Ham & Cheese Croissant",
         "text": "",
         "type": "scatter",
         "x": [
          -0.6931471805599453,
          -0.5108256237659907,
          -0.35667494393873245,
          -0.22314355131420968,
          -0.10536051565782628,
          0,
          0.09531017980432495,
          0.1823215567939546,
          0.26236426446749106,
          0.33647223662121284,
          0.4054651081081644
         ],
         "y": [
          1.924416402157177e-09,
          1.4636707390937913e-09,
          1.0463387928393683e-09,
          6.663873894918823e-10,
          3.1898461644772096e-10,
          0,
          -2.9417046580767764e-10,
          -5.665831139196308e-10,
          -8.196527904209168e-10,
          -1.0558546265105599e-09,
          -1.2768397458609367e-09
         ]
        },
        {
         "line": {
          "color": "rgba(128, 177, 211, 0.8999999999999999)",
          "dash": "solid",
          "shape": "linear",
          "width": 1.3
         },
         "mode": "lines",
         "name": "Banana",
         "text": "",
         "type": "scatter",
         "x": [
          -0.6931471805599453,
          -0.5108256237659907,
          -0.35667494393873245,
          -0.22314355131420968,
          -0.10536051565782628,
          0,
          0.09531017980432495,
          0.1823215567939546,
          0.26236426446749106,
          0.33647223662121284,
          0.4054651081081644
         ],
         "y": [
          -0.0018705871520809413,
          -1.685873688206381e-08,
          -1.234034582140739e-08,
          -1.0629997605359494e-08,
          -5.608558189170153e-09,
          0,
          6.280961286889803e-09,
          1.2359001079442554e-08,
          1.8256073375135942e-08,
          2.3968171160327073e-08,
          2.9466576744143583e-08
         ]
        },
        {
         "line": {
          "color": "rgba(255, 153, 51, 0.8999999999999999)",
          "dash": "solid",
          "shape": "linear",
          "width": 1.3
         },
         "mode": "lines",
         "name": "Chocolate Croissant",
         "text": "",
         "type": "scatter",
         "x": [
          -0.6931471805599453,
          -0.5108256237659907,
          -0.35667494393873245,
          -0.22314355131420968,
          -0.10536051565782628,
          0,
          0.09531017980432495,
          0.1823215567939546,
          0.26236426446749106,
          0.33647223662121284,
          0.4054651081081644
         ],
         "y": [
          -0.2055845656570073,
          -0.15585473394092408,
          -0.11209168804255909,
          -0.07331485744223895,
          -0.035985704089727365,
          0,
          0.034519377998440744,
          0.060863942847857684,
          0.08653223823967664,
          0.11155817916364025,
          0.1353700558428337
         ]
        },
        {
         "line": {
          "color": "rgba(55, 128, 191, 0.8999999999999999)",
          "dash": "solid",
          "shape": "linear",
          "width": 1.3
         },
         "mode": "lines",
         "name": "Banana Muffin",
         "text": "",
         "type": "scatter",
         "x": [
          -0.6931471805599453,
          -0.5108256237659907,
          -0.35667494393873245,
          -0.22314355131420968,
          -0.10536051565782628,
          0,
          0.09531017980432495,
          0.1823215567939546,
          0.26236426446749106,
          0.33647223662121284,
          0.4054651081081644
         ],
         "y": [
          -0.17848619411755143,
          -0.1356543778214949,
          -0.09458202343754643,
          -0.05571180902141487,
          -0.023626103664082458,
          0,
          0.021225634383648398,
          0.03953506314670135,
          0.0426361220548438,
          0.04572766495950064,
          0.04880968026619081
         ]
        },
        {
         "line": {
          "color": "rgba(50, 171, 96, 0.8999999999999999)",
          "dash": "solid",
          "shape": "linear",
          "width": 1.3
         },
         "mode": "lines",
         "name": "Tropical Hibusicus Green Tea",
         "text": "",
         "type": "scatter",
         "x": [
          -0.6931471805599453,
          -0.5108256237659907,
          -0.35667494393873245,
          -0.22314355131420968,
          -0.10536051565782628,
          0,
          0.09531017980432495,
          0.1823215567939546,
          0.26236426446749106,
          0.33647223662121284,
          0.4054651081081644
         ],
         "y": [
          -2.22454542818276e-08,
          -2.12423205727882e-08,
          -1.1952891636850157e-08,
          -8.086229940582322e-09,
          -3.7476871676271645e-09,
          0,
          2.3411077493614415e-09,
          4.4345711448995145e-09,
          3.2211442350406835e-09,
          -1.4100883803885553e-09,
          -1.6973861219877106e-09
         ]
        },
        {
         "line": {
          "color": "rgba(128, 0, 128, 0.8999999999999999)",
          "dash": "solid",
          "shape": "linear",
          "width": 1.3
         },
         "mode": "lines",
         "name": "Drip Coffee (Reg or Decaf)",
         "text": "",
         "type": "scatter",
         "x": [
          -0.6931471805599453,
          -0.5108256237659907,
          -0.35667494393873245,
          -0.22314355131420968,
          -0.10536051565782628,
          0,
          0.09531017980432495,
          0.1823215567939546,
          0.26236426446749106,
          0.33647223662121284,
          0.4054651081081644
         ],
         "y": [
          0,
          0,
          0,
          0,
          0,
          0,
          0,
          0,
          0,
          0,
          0
         ]
        },
        {
         "line": {
          "color": "rgba(219, 64, 82, 0.8999999999999999)",
          "dash": "solid",
          "shape": "linear",
          "width": 1.3
         },
         "mode": "lines",
         "name": "Espresso",
         "text": "",
         "type": "scatter",
         "x": [
          -0.6931471805599453,
          -0.5108256237659907,
          -0.35667494393873245,
          -0.22314355131420968,
          -0.10536051565782628,
          0,
          0.09531017980432495,
          0.1823215567939546,
          0.26236426446749106,
          0.33647223662121284,
          0.4054651081081644
         ],
         "y": [
          -1.9784570400065483e-08,
          1.4013982986896859e-08,
          9.282706338257335e-09,
          5.1951824929173055e-09,
          2.1119612703026905e-09,
          0,
          -1.2642944477113378e-09,
          -9.384791836948863e-10,
          -1.6664936099143036e-10,
          1.3064604944893565e-09,
          3.364970296738171e-09
         ]
        },
        {
         "line": {
          "color": "rgba(0, 128, 128, 0.8999999999999999)",
          "dash": "solid",
          "shape": "linear",
          "width": 1.3
         },
         "mode": "lines",
         "name": "Americano",
         "text": "",
         "type": "scatter",
         "x": [
          -0.6931471805599453,
          -0.5108256237659907,
          -0.35667494393873245,
          -0.22314355131420968,
          -0.10536051565782628,
          0,
          0.09531017980432495,
          0.1823215567939546,
          0.26236426446749106,
          0.33647223662121284,
          0.4054651081081644
         ],
         "y": [
          0,
          0,
          0,
          0,
          0,
          0,
          0,
          0,
          0,
          0,
          0
         ]
        },
        {
         "line": {
          "color": "rgba(255, 255, 51, 0.8999999999999999)",
          "dash": "solid",
          "shape": "linear",
          "width": 1.3
         },
         "mode": "lines",
         "name": "Cappuccino",
         "text": "",
         "type": "scatter",
         "x": [
          -0.6931471805599453,
          -0.5108256237659907,
          -0.35667494393873245,
          -0.22314355131420968,
          -0.10536051565782628,
          0,
          0.09531017980432495,
          0.1823215567939546,
          0.26236426446749106,
          0.33647223662121284,
          0.4054651081081644
         ],
         "y": [
          -0.002336364868342681,
          -4.08240364569513e-09,
          -1.3794920762207933e-10,
          2.0673234214232836e-09,
          1.4782115520705233e-09,
          0,
          -1.461897604040901e-09,
          -1.8578912869876947e-09,
          -2.1477797341490263e-09,
          -2.232375509163963e-09,
          -1.862699995983199e-09
         ]
        },
        {
         "line": {
          "color": "rgba(128, 128, 0, 0.8999999999999999)",
          "dash": "solid",
          "shape": "linear",
          "width": 1.3
         },
         "mode": "lines",
         "name": "Latte",
         "text": "",
         "type": "scatter",
         "x": [
          -0.6931471805599453,
          -0.5108256237659907,
          -0.35667494393873245,
          -0.22314355131420968,
          -0.10536051565782628,
          0,
          0.09531017980432495,
          0.1823215567939546,
          0.26236426446749106,
          0.33647223662121284,
          0.4054651081081644
         ],
         "y": [
          -0.029205270030363183,
          -0.018856534317273056,
          -0.008613688397001686,
          -2.368800395025813e-08,
          7.342336711647785e-09,
          0,
          4.811304898460792e-09,
          1.0861781415258175e-08,
          1.8220309539451355e-08,
          2.8276339314363768e-08,
          3.7535477798702916e-08
         ]
        },
        {
         "line": {
          "color": "rgba(251, 128, 114, 0.8999999999999999)",
          "dash": "solid",
          "shape": "linear",
          "width": 1.3
         },
         "mode": "lines",
         "name": "Caramel Macchiato",
         "text": "",
         "type": "scatter",
         "x": [
          -0.6931471805599453,
          -0.5108256237659907,
          -0.35667494393873245,
          -0.22314355131420968,
          -0.10536051565782628,
          0,
          0.09531017980432495,
          0.1823215567939546,
          0.26236426446749106,
          0.33647223662121284,
          0.4054651081081644
         ],
         "y": [
          -8.484721516956604e-09,
          -2.3745694359632658e-08,
          1.3314240812097325e-09,
          9.235128213446173e-10,
          4.3127079675934826e-10,
          0,
          -1.5814116684083377e-10,
          9.4507268632888e-10,
          2.1189776577588736e-09,
          3.2906906034782102e-09,
          4.4551713330298695e-09
         ]
        },
        {
         "line": {
          "color": "rgba(251, 128, 114, 0.7999999999999998)",
          "dash": "solid",
          "shape": "linear",
          "width": 1.3
         },
         "mode": "lines",
         "name": "Hot Chocolate",
         "text": "",
         "type": "scatter",
         "x": [
          -0.6931471805599453,
          -0.5108256237659907,
          -0.35667494393873245,
          -0.22314355131420968,
          -0.10536051565782628,
          0,
          0.09531017980432495,
          0.1823215567939546,
          0.26236426446749106,
          0.33647223662121284,
          0.4054651081081644
         ],
         "y": [
          -0.005652179801784812,
          -2.280391090869243e-08,
          8.266028186689246e-08,
          2.3135184611334556e-08,
          6.868705580700868e-09,
          0,
          -2.3806822097599342e-09,
          -3.0129788709403044e-09,
          -3.3054168345986557e-09,
          -3.39291018079332e-09,
          -3.3397870080868973e-09
         ]
        },
        {
         "line": {
          "color": "rgba(128, 177, 211, 0.7999999999999998)",
          "dash": "solid",
          "shape": "linear",
          "width": 1.3
         },
         "mode": "lines",
         "name": "Steamed Milk",
         "text": "",
         "type": "scatter",
         "x": [
          -0.6931471805599453,
          -0.5108256237659907,
          -0.35667494393873245,
          -0.22314355131420968,
          -0.10536051565782628,
          0,
          0.09531017980432495,
          0.1823215567939546,
          0.26236426446749106,
          0.33647223662121284,
          0.4054651081081644
         ],
         "y": [
          1.4962955287788227e-07,
          8.076487396903887e-08,
          3.088224739321105e-08,
          1.2918362074334602e-08,
          4.597603398526562e-09,
          0,
          -1.5501102635730388e-09,
          -1.6079656508121485e-09,
          -1.4498622313249297e-09,
          -1.1599186062815285e-09,
          -7.74759812161385e-10
         ]
        },
        {
         "line": {
          "color": "rgba(255, 153, 51, 0.7999999999999998)",
          "dash": "solid",
          "shape": "linear",
          "width": 1.3
         },
         "mode": "lines",
         "name": "Hot Tea",
         "text": "",
         "type": "scatter",
         "x": [
          -0.6931471805599453,
          -0.5108256237659907,
          -0.35667494393873245,
          -0.22314355131420968,
          -0.10536051565782628,
          0,
          0.09531017980432495,
          0.1823215567939546,
          0.26236426446749106,
          0.33647223662121284,
          0.4054651081081644
         ],
         "y": [
          -2.3391334143437176e-08,
          -2.2883089241059845e-08,
          -2.1550027550386405e-08,
          -1.1309875322503849e-08,
          -6.5321084310633964e-09,
          0,
          6.047509807959613e-09,
          1.579550045068114e-09,
          1.2598700003824798e-08,
          1.7920853749450595e-07,
          -2.3801004672833674e-08
         ]
        },
        {
         "line": {
          "color": "rgba(55, 128, 191, 0.7999999999999998)",
          "dash": "solid",
          "shape": "linear",
          "width": 1.3
         },
         "mode": "lines",
         "name": "Chef Salad",
         "text": "",
         "type": "scatter",
         "x": [
          -0.6931471805599453,
          -0.5108256237659907,
          -0.35667494393873245,
          -0.22314355131420968,
          -0.10536051565782628,
          0,
          0.09531017980432495,
          0.1823215567939546,
          0.26236426446749106,
          0.33647223662121284,
          0.4054651081081644
         ],
         "y": [
          7.232704187166444e-09,
          4.7663974875527835e-09,
          3.055447445938273e-09,
          1.7862047380780168e-09,
          7.978018242852951e-10,
          0,
          -6.614070404664819e-10,
          -1.2210211738044467e-09,
          -1.7022415713718597e-09,
          -2.1213203438581682e-09,
          -2.4899000670065036e-09
         ]
        },
        {
         "line": {
          "color": "rgba(50, 171, 96, 0.7999999999999998)",
          "dash": "solid",
          "shape": "linear",
          "width": 1.3
         },
         "mode": "lines",
         "name": "Tropical Fruit Bowl",
         "text": "",
         "type": "scatter",
         "x": [
          -0.6931471805599453,
          -0.5108256237659907,
          -0.35667494393873245,
          -0.22314355131420968,
          -0.10536051565782628,
          0,
          0.09531017980432495,
          0.1823215567939546,
          0.26236426446749106,
          0.33647223662121284,
          0.4054651081081644
         ],
         "y": [
          -1.976114735831801e-08,
          -1.4119212343488818e-08,
          -2.3696151211095064e-08,
          -2.2495785154574086e-08,
          -9.014173781401065e-09,
          0,
          -6.785014018110222e-09,
          1.6852570436053778e-09,
          1.6745780621840215e-08,
          2.7644173900925612e-08,
          1.4149787019668865e-08
         ]
        },
        {
         "line": {
          "color": "rgba(128, 0, 128, 0.7999999999999998)",
          "dash": "solid",
          "shape": "linear",
          "width": 1.3
         },
         "mode": "lines",
         "name": "Raspberry Chobani Greek Yogurt ",
         "text": "",
         "type": "scatter",
         "x": [
          -0.6931471805599453,
          -0.5108256237659907,
          -0.35667494393873245,
          -0.22314355131420968,
          -0.10536051565782628,
          0,
          0.09531017980432495,
          0.1823215567939546,
          0.26236426446749106,
          0.33647223662121284,
          0.4054651081081644
         ],
         "y": [
          -1.8323401701626167e-09,
          -1.485035207019694e-09,
          -1.0765800479117553e-09,
          -6.983174041459614e-10,
          -3.403062276998219e-10,
          0,
          3.217728305508713e-10,
          6.224913915725411e-10,
          8.988139117828912e-10,
          1.1470107079775041e-09,
          1.3630423447300402e-09
         ]
        },
        {
         "line": {
          "color": "rgba(219, 64, 82, 0.7999999999999998)",
          "dash": "solid",
          "shape": "linear",
          "width": 1.3
         },
         "mode": "lines",
         "name": "Strawberry Banana Naked Juice ",
         "text": "",
         "type": "scatter",
         "x": [
          -0.6931471805599453,
          -0.5108256237659907,
          -0.35667494393873245,
          -0.22314355131420968,
          -0.10536051565782628,
          0,
          0.09531017980432495,
          0.1823215567939546,
          0.26236426446749106,
          0.33647223662121284,
          0.4054651081081644
         ],
         "y": [
          -0.0008492789486711798,
          -9.343150075073944e-09,
          -1.2278699132894004e-08,
          -8.903011478819287e-09,
          -4.711804624245017e-09,
          0,
          4.7454862149388165e-09,
          9.208464837108637e-09,
          1.3426724974963647e-08,
          1.6653202900121007e-08,
          1.861888581519911e-08
         ]
        },
        {
         "line": {
          "color": "rgba(0, 128, 128, 0.7999999999999998)",
          "dash": "solid",
          "shape": "linear",
          "width": 1.3
         },
         "mode": "lines",
         "name": "Yerbamate",
         "text": "",
         "type": "scatter",
         "x": [
          -0.6931471805599453,
          -0.5108256237659907,
          -0.35667494393873245,
          -0.22314355131420968,
          -0.10536051565782628,
          0,
          0.09531017980432495,
          0.1823215567939546,
          0.26236426446749106,
          0.33647223662121284,
          0.4054651081081644
         ],
         "y": [
          -0.004329729465711043,
          -0.0034621314597709386,
          -0.002595533989924605,
          -0.0017296354100123934,
          -0.000864444388817663,
          0,
          0.0008636948329787793,
          0.0017266416089723507,
          0.0025888439364682666,
          0.003450304055550604,
          0.004311023427788918
         ]
        },
        {
         "line": {
          "color": "rgba(255, 255, 51, 0.7999999999999998)",
          "dash": "solid",
          "shape": "linear",
          "width": 1.3
         },
         "mode": "lines",
         "name": "Winter Chopped Salad",
         "text": "",
         "type": "scatter",
         "x": [
          -0.6931471805599453,
          -0.5108256237659907,
          -0.35667494393873245,
          -0.22314355131420968,
          -0.10536051565782628,
          0,
          0.09531017980432495,
          0.1823215567939546,
          0.26236426446749106,
          0.33647223662121284,
          0.4054651081081644
         ],
         "y": [
          6.851450494570515e-09,
          4.657735519752643e-09,
          3.0518114655437284e-09,
          1.8125820827834128e-09,
          8.191523012099952e-10,
          0,
          -6.900433560268963e-10,
          -1.2806065105437016e-09,
          -1.792603289637816e-09,
          -2.2406048153077967e-09,
          -2.635563215589762e-09
         ]
        },
        {
         "line": {
          "color": "rgba(128, 128, 0, 0.7999999999999998)",
          "dash": "solid",
          "shape": "linear",
          "width": 1.3
         },
         "mode": "lines",
         "name": "Kale & Beets",
         "text": "",
         "type": "scatter",
         "x": [
          -0.6931471805599453,
          -0.5108256237659907,
          -0.35667494393873245,
          -0.22314355131420968,
          -0.10536051565782628,
          0,
          0.09531017980432495,
          0.1823215567939546,
          0.26236426446749106,
          0.33647223662121284,
          0.4054651081081644
         ],
         "y": [
          -0.0352181042043503,
          -0.008728194975987945,
          -2.3510697110193673e-08,
          -2.3669651630159608e-08,
          1.6907273084476014e-07,
          0,
          5.357470230864024e-09,
          -8.66206776727457e-09,
          -2.3793113651476065e-08,
          -2.3779478558097106e-08,
          -2.354566291904311e-08
         ]
        },
        {
         "line": {
          "color": "rgba(128, 128, 0, 0.7)",
          "dash": "solid",
          "shape": "linear",
          "width": 1.3
         },
         "mode": "lines",
         "name": "Vegetable Cassoulet",
         "text": "",
         "type": "scatter",
         "x": [
          -0.6931471805599453,
          -0.5108256237659907,
          -0.35667494393873245,
          -0.22314355131420968,
          -0.10536051565782628,
          0,
          0.09531017980432495,
          0.1823215567939546,
          0.26236426446749106,
          0.33647223662121284,
          0.4054651081081644
         ],
         "y": [
          5.590925706758171e-09,
          3.80156572165218e-09,
          2.4883353124798897e-09,
          1.4726229114174108e-09,
          6.612825840280445e-10,
          0,
          -5.459435127688558e-10,
          -1.0002241262469646e-09,
          -1.3800938179573199e-09,
          -1.6989653032206192e-09,
          -1.967099152169925e-09
         ]
        },
        {
         "line": {
          "color": "rgba(251, 128, 114, 0.7)",
          "dash": "solid",
          "shape": "linear",
          "width": 1.3
         },
         "mode": "lines",
         "name": "Roast Chicken Breast",
         "text": "",
         "type": "scatter",
         "x": [
          -0.6931471805599453,
          -0.5108256237659907,
          -0.35667494393873245,
          -0.22314355131420968,
          -0.10536051565782628,
          0,
          0.09531017980432495,
          0.1823215567939546,
          0.26236426446749106,
          0.33647223662121284,
          0.4054651081081644
         ],
         "y": [
          6.841839515956743e-09,
          5.0344535080629765e-09,
          3.4988911706685784e-09,
          2.175329691787986e-09,
          1.019896389044584e-09,
          0,
          -9.090622703180338e-10,
          -1.726296440620742e-09,
          -2.4663039418941595e-09,
          -3.1407407834943164e-09,
          -3.75879306165108e-09
         ]
        },
        {
         "line": {
          "color": "rgba(128, 177, 211, 0.7)",
          "dash": "solid",
          "shape": "linear",
          "width": 1.3
         },
         "mode": "lines",
         "name": "King Salmon & French Lentils",
         "text": "",
         "type": "scatter",
         "x": [
          -0.6931471805599453,
          -0.5108256237659907,
          -0.35667494393873245,
          -0.22314355131420968,
          -0.10536051565782628,
          0,
          0.09531017980432495,
          0.1823215567939546,
          0.26236426446749106,
          0.33647223662121284,
          0.4054651081081644
         ],
         "y": [
          1.790624623686988e-07,
          2.892699859996709e-08,
          8.079208410128145e-10,
          4.924363138267724e-10,
          2.9306355077496653e-09,
          0,
          -6.98635840510521e-09,
          -1.4177325747289699e-08,
          -2.1708238886731864e-08,
          -2.284364501449453e-08,
          -2.351583300202635e-08
         ]
        },
        {
         "line": {
          "color": "rgba(255, 153, 51, 0.7)",
          "dash": "solid",
          "shape": "linear",
          "width": 1.3
         },
         "mode": "lines",
         "name": "Beef Bourguignon",
         "text": "",
         "type": "scatter",
         "x": [
          -0.6931471805599453,
          -0.5108256237659907,
          -0.35667494393873245,
          -0.22314355131420968,
          -0.10536051565782628,
          0,
          0.09531017980432495,
          0.1823215567939546,
          0.26236426446749106,
          0.33647223662121284,
          0.4054651081081644
         ],
         "y": [
          4.507287422018279e-09,
          3.0920297385764373e-09,
          1.9911796636123017e-09,
          1.1460539177759792e-09,
          5.002300794557727e-10,
          0,
          -4.031357470881589e-10,
          -7.518519143429937e-10,
          -1.081955747802792e-09,
          -1.422456264900396e-09,
          -1.7957182423835955e-09
         ]
        },
        {
         "line": {
          "color": "rgba(55, 128, 191, 0.7)",
          "dash": "solid",
          "shape": "linear",
          "width": 1.3
         },
         "mode": "lines",
         "name": "Chocolate Cake",
         "text": "",
         "type": "scatter",
         "x": [
          -0.6931471805599453,
          -0.5108256237659907,
          -0.35667494393873245,
          -0.22314355131420968,
          -0.10536051565782628,
          0,
          0.09531017980432495,
          0.1823215567939546,
          0.26236426446749106,
          0.33647223662121284,
          0.4054651081081644
         ],
         "y": [
          -8.128267647572144e-09,
          -6.396524663750642e-09,
          -4.627089833111541e-09,
          -2.8980849984067434e-09,
          -1.31307409476255e-09,
          0,
          8.921554602209668e-10,
          1.478907661905934e-09,
          2.462297696037017e-09,
          3.1295468389970727e-09,
          3.4024496495658574e-09
         ]
        },
        {
         "line": {
          "color": "rgba(50, 171, 96, 0.7)",
          "dash": "solid",
          "shape": "linear",
          "width": 1.3
         },
         "mode": "lines",
         "name": "Steamed Veggie Bun",
         "text": "",
         "type": "scatter",
         "x": [
          -0.6931471805599453,
          -0.5108256237659907,
          -0.35667494393873245,
          -0.22314355131420968,
          -0.10536051565782628,
          0,
          0.09531017980432495,
          0.1823215567939546,
          0.26236426446749106,
          0.33647223662121284,
          0.4054651081081644
         ],
         "y": [
          -0.04547010866733307,
          -0.03215731112054788,
          -0.019019203095762237,
          -0.008469679708846352,
          -0.00047221012424442403,
          0,
          2.1518122607611108e-08,
          5.700563969367566e-08,
          8.897947404922655e-08,
          1.1925146980503718e-07,
          1.4758989607111938e-07
         ]
        },
        {
         "line": {
          "color": "rgba(128, 0, 128, 0.7)",
          "dash": "solid",
          "shape": "linear",
          "width": 1.3
         },
         "mode": "lines",
         "name": "Steamed Chicken Bun",
         "text": "",
         "type": "scatter",
         "x": [
          -0.6931471805599453,
          -0.5108256237659907,
          -0.35667494393873245,
          -0.22314355131420968,
          -0.10536051565782628,
          0,
          0.09531017980432495,
          0.1823215567939546,
          0.26236426446749106,
          0.33647223662121284,
          0.4054651081081644
         ],
         "y": [
          4.300872981832196e-09,
          3.147717637139476e-09,
          2.1880799370641738e-09,
          1.3667647004819229e-09,
          6.462370636527654e-10,
          0,
          -5.914134739243541e-10,
          -1.1425570496247554e-09,
          -1.664849481884138e-09,
          -2.0780487352487313e-09,
          -2.262084078168972e-09
         ]
        },
        {
         "line": {
          "color": "rgba(219, 64, 82, 0.7)",
          "dash": "solid",
          "shape": "linear",
          "width": 1.3
         },
         "mode": "lines",
         "name": "Veggie Spring Rolls",
         "text": "",
         "type": "scatter",
         "x": [
          -0.6931471805599453,
          -0.5108256237659907,
          -0.35667494393873245,
          -0.22314355131420968,
          -0.10536051565782628,
          0,
          0.09531017980432495,
          0.1823215567939546,
          0.26236426446749106,
          0.33647223662121284,
          0.4054651081081644
         ],
         "y": [
          4.616811589031711e-09,
          3.43016658932554e-09,
          2.4028108362992815e-09,
          1.503585699260501e-09,
          7.08684222165761e-10,
          0,
          -6.368098272953404e-10,
          -1.2129471878703368e-09,
          -1.7373652531731216e-09,
          -2.217547592458683e-09,
          -2.659292567469409e-09
         ]
        },
        {
         "line": {
          "color": "rgba(0, 128, 128, 0.7)",
          "dash": "solid",
          "shape": "linear",
          "width": 1.3
         },
         "mode": "lines",
         "name": "Vietnamese Coffee",
         "text": "",
         "type": "scatter",
         "x": [
          -0.6931471805599453,
          -0.5108256237659907,
          -0.35667494393873245,
          -0.22314355131420968,
          -0.10536051565782628,
          0,
          0.09531017980432495,
          0.1823215567939546,
          0.26236426446749106,
          0.33647223662121284,
          0.4054651081081644
         ],
         "y": [
          -0.004696792059532419,
          -0.00041823911765944034,
          -2.377514535752896e-08,
          2.4143099894280437e-08,
          4.225146668046781e-09,
          0,
          -2.9759438291293534e-09,
          -5.347748702621648e-09,
          -7.097901847040988e-09,
          -8.397363173437368e-09,
          -9.385587573431523e-09
         ]
        },
        {
         "line": {
          "color": "rgba(255, 255, 51, 0.7)",
          "dash": "solid",
          "shape": "linear",
          "width": 1.3
         },
         "mode": "lines",
         "name": "Vegan Pho ",
         "text": "",
         "type": "scatter",
         "x": [
          -0.6931471805599453,
          -0.5108256237659907,
          -0.35667494393873245,
          -0.22314355131420968,
          -0.10536051565782628,
          0,
          0.09531017980432495,
          0.1823215567939546,
          0.26236426446749106,
          0.33647223662121284,
          0.4054651081081644
         ],
         "y": [
          8.589852082629274e-08,
          9.545543865301783e-09,
          4.332402205372426e-09,
          1.18095554859535e-08,
          6.5866527570585926e-09,
          0,
          -7.660272445727556e-09,
          -1.4137479509304875e-08,
          -2.218549979467527e-08,
          -2.2603530636209045e-08,
          -2.3400782030575476e-08
         ]
        },
        {
         "line": {
          "color": "rgba(255, 255, 51, 0.5999999999999999)",
          "dash": "solid",
          "shape": "linear",
          "width": 1.3
         },
         "mode": "lines",
         "name": "Hibiscus Lemonade",
         "text": "",
         "type": "scatter",
         "x": [
          -0.6931471805599453,
          -0.5108256237659907,
          -0.35667494393873245,
          -0.22314355131420968,
          -0.10536051565782628,
          0,
          0.09531017980432495,
          0.1823215567939546,
          0.26236426446749106,
          0.33647223662121284,
          0.4054651081081644
         ],
         "y": [
          -1.5235113182635867e-09,
          -1.2002360224014613e-09,
          -8.85036710976686e-10,
          -5.791127579158205e-10,
          -2.8368252195792095e-10,
          0,
          2.704036993950948e-10,
          5.261104883695288e-10,
          7.655398534379309e-10,
          9.872191947935854e-10,
          1.1894598632298515e-09
         ]
        },
        {
         "line": {
          "color": "rgba(128, 128, 0, 0.5999999999999999)",
          "dash": "solid",
          "shape": "linear",
          "width": 1.3
         },
         "mode": "lines",
         "name": "Breakfast Burrito",
         "text": "",
         "type": "scatter",
         "x": [
          -0.6931471805599453,
          -0.5108256237659907,
          -0.35667494393873245,
          -0.22314355131420968,
          -0.10536051565782628,
          0,
          0.09531017980432495,
          0.1823215567939546,
          0.26236426446749106,
          0.33647223662121284,
          0.4054651081081644
         ],
         "y": [
          -0.032178491605200324,
          -0.005077656643689929,
          1.9245996121052168e-07,
          4.647324350607272e-08,
          1.195636804631629e-08,
          0,
          -5.756223958511029e-09,
          -9.142452392522187e-09,
          -1.1863460284571773e-08,
          -1.4168287421518126e-08,
          -1.62069149415227e-08
         ]
        },
        {
         "line": {
          "color": "rgba(251, 128, 114, 0.5999999999999999)",
          "dash": "solid",
          "shape": "linear",
          "width": 1.3
         },
         "mode": "lines",
         "name": "Bacon Burrito",
         "text": "",
         "type": "scatter",
         "x": [
          -0.6931471805599453,
          -0.5108256237659907,
          -0.35667494393873245,
          -0.22314355131420968,
          -0.10536051565782628,
          0,
          0.09531017980432495,
          0.1823215567939546,
          0.26236426446749106,
          0.33647223662121284,
          0.4054651081081644
         ],
         "y": [
          -2.1147032015944152e-08,
          -1.233149057143144e-08,
          -9.10370916132299e-09,
          -5.645612659981643e-09,
          -2.3874864336271762e-09,
          0,
          1.165739726292063e-09,
          2.632605907580664e-09,
          2.897973856683404e-09,
          1.9127075460727344e-09,
          -8.791044562839737e-10
         ]
        },
        {
         "line": {
          "color": "rgba(128, 177, 211, 0.5999999999999999)",
          "dash": "solid",
          "shape": "linear",
          "width": 1.3
         },
         "mode": "lines",
         "name": "Turkey Sausage Burrito ",
         "text": "",
         "type": "scatter",
         "x": [
          -0.6931471805599453,
          -0.5108256237659907,
          -0.35667494393873245,
          -0.22314355131420968,
          -0.10536051565782628,
          0,
          0.09531017980432495,
          0.1823215567939546,
          0.26236426446749106,
          0.33647223662121284,
          0.4054651081081644
         ],
         "y": [
          6.268575860949406e-09,
          4.506341512005562e-09,
          3.070092397811249e-09,
          1.8759784819078476e-09,
          8.66287707859154e-10,
          0,
          -7.528903059387068e-10,
          -1.414306561754273e-09,
          -2.0012439503377184e-09,
          -2.526569179289613e-09,
          -3.000530606261568e-09
         ]
        },
        {
         "line": {
          "color": "rgba(255, 153, 51, 0.5999999999999999)",
          "dash": "solid",
          "shape": "linear",
          "width": 1.3
         },
         "mode": "lines",
         "name": "Breakfast Egg Croissant ",
         "text": "",
         "type": "scatter",
         "x": [
          -0.6931471805599453,
          -0.5108256237659907,
          -0.35667494393873245,
          -0.22314355131420968,
          -0.10536051565782628,
          0,
          0.09531017980432495,
          0.1823215567939546,
          0.26236426446749106,
          0.33647223662121284,
          0.4054651081081644
         ],
         "y": [
          -0.03157461464458569,
          -0.010013605746208005,
          -2.3788261643676114e-08,
          -2.373209112965591e-08,
          -4.992966497171897e-09,
          0,
          5.755042521247656e-08,
          2.8090189736923376e-07,
          -2.0028567338691267e-08,
          3.77560680031614e-08,
          -7.862424409133234e-09
         ]
        },
        {
         "line": {
          "color": "rgba(55, 128, 191, 0.5999999999999999)",
          "dash": "solid",
          "shape": "linear",
          "width": 1.3
         },
         "mode": "lines",
         "name": "Bacon Croissant ",
         "text": "",
         "type": "scatter",
         "x": [
          -0.6931471805599453,
          -0.5108256237659907,
          -0.35667494393873245,
          -0.22314355131420968,
          -0.10536051565782628,
          0,
          0.09531017980432495,
          0.1823215567939546,
          0.26236426446749106,
          0.33647223662121284,
          0.4054651081081644
         ],
         "y": [
          6.94260204639949e-10,
          4.925531092889055e-10,
          3.3054137199650084e-10,
          1.992170872512648e-10,
          9.124190291781655e-11,
          0,
          -8.013478769762997e-11,
          -1.5424284073385857e-10,
          -2.26889174141025e-10,
          -3.0240610020680367e-10,
          -3.8471437154480936e-10
         ]
        },
        {
         "line": {
          "color": "rgba(50, 171, 96, 0.5999999999999999)",
          "dash": "solid",
          "shape": "linear",
          "width": 1.3
         },
         "mode": "lines",
         "name": "Turkey Saussage Croissant ",
         "text": "",
         "type": "scatter",
         "x": [
          -0.6931471805599453,
          -0.5108256237659907,
          -0.35667494393873245,
          -0.22314355131420968,
          -0.10536051565782628,
          0,
          0.09531017980432495,
          0.1823215567939546,
          0.26236426446749106,
          0.33647223662121284,
          0.4054651081081644
         ],
         "y": [
          3.50131035269906e-11,
          -5.7425175725876476e-12,
          -2.4867441439678226e-11,
          -2.8142044250896917e-11,
          -1.9077628366130816e-11,
          0,
          2.740385696105218e-11,
          6.203992874794405e-11,
          1.0301337560216883e-10,
          1.4976864192150844e-10,
          2.01608729690433e-10
         ]
        },
        {
         "line": {
          "color": "rgba(128, 0, 128, 0.5999999999999999)",
          "dash": "solid",
          "shape": "linear",
          "width": 1.3
         },
         "mode": "lines",
         "name": "Hash Brown Patties",
         "text": "",
         "type": "scatter",
         "x": [
          -0.6931471805599453,
          -0.5108256237659907,
          -0.35667494393873245,
          -0.22314355131420968,
          -0.10536051565782628,
          0,
          0.09531017980432495,
          0.1823215567939546,
          0.26236426446749106,
          0.33647223662121284,
          0.4054651081081644
         ],
         "y": [
          -0.011213559685690813,
          -0.005149773889897025,
          -0.0003565606600122221,
          -1.978861138991047e-08,
          -2.2375990866284012e-08,
          0,
          2.9033572150558495e-07,
          2.4101996158688307e-07,
          1.1475096547392764e-07,
          -2.1656518701919073e-08,
          -2.217633845611746e-08
         ]
        },
        {
         "line": {
          "color": "rgba(219, 64, 82, 0.5999999999999999)",
          "dash": "solid",
          "shape": "linear",
          "width": 1.3
         },
         "mode": "lines",
         "name": "Small Fruit Cup",
         "text": "",
         "type": "scatter",
         "x": [
          -0.6931471805599453,
          -0.5108256237659907,
          -0.35667494393873245,
          -0.22314355131420968,
          -0.10536051565782628,
          0,
          0.09531017980432495,
          0.1823215567939546,
          0.26236426446749106,
          0.33647223662121284,
          0.4054651081081644
         ],
         "y": [
          -1.9852856777972147e-08,
          -4.49055649229985e-09,
          -3.5471464717346423e-09,
          -2.440544103124397e-09,
          -1.2076081253384527e-09,
          0,
          9.151648323855306e-10,
          2.541694851355224e-09,
          4.1611844994202805e-09,
          5.287687829156447e-09,
          4.938417218510335e-09
         ]
        },
        {
         "line": {
          "color": "rgba(0, 128, 128, 0.5999999999999999)",
          "dash": "solid",
          "shape": "linear",
          "width": 1.3
         },
         "mode": "lines",
         "name": "Philly Cheesesteak",
         "text": "",
         "type": "scatter",
         "x": [
          -0.6931471805599453,
          -0.5108256237659907,
          -0.35667494393873245,
          -0.22314355131420968,
          -0.10536051565782628,
          0,
          0.09531017980432495,
          0.1823215567939546,
          0.26236426446749106,
          0.33647223662121284,
          0.4054651081081644
         ],
         "y": [
          4.919869388663162e-09,
          3.615444159735968e-09,
          2.5115540726696446e-09,
          1.561784478300571e-09,
          7.328142534547823e-10,
          0,
          -6.553622091603256e-10,
          -1.2472810569937093e-09,
          -1.786983007610197e-09,
          -2.283239822040494e-09,
          -2.7431097431183122e-09
         ]
        },
        {
         "line": {
          "color": "rgba(0, 128, 128, 0.49999999999999983)",
          "dash": "solid",
          "shape": "linear",
          "width": 1.3
         },
         "mode": "lines",
         "name": "Cheeseburger",
         "text": "",
         "type": "scatter",
         "x": [
          -0.6931471805599453,
          -0.5108256237659907,
          -0.35667494393873245,
          -0.22314355131420968,
          -0.10536051565782628,
          0,
          0.09531017980432495,
          0.1823215567939546,
          0.26236426446749106,
          0.33647223662121284,
          0.4054651081081644
         ],
         "y": [
          1.5666912210770637e-10,
          1.0315925890758953e-10,
          6.79396539004187e-11,
          4.342948223173889e-11,
          2.2665869181280474e-11,
          0,
          -2.97810665021985e-11,
          -7.122569201354869e-11,
          -1.2858047960522899e-10,
          -2.0575152694831168e-10,
          4.012346010994511e-13
         ]
        },
        {
         "line": {
          "color": "rgba(255, 255, 51, 0.49999999999999983)",
          "dash": "solid",
          "shape": "linear",
          "width": 1.3
         },
         "mode": "lines",
         "name": "Beyond Burger",
         "text": "",
         "type": "scatter",
         "x": [
          -0.6931471805599453,
          -0.5108256237659907,
          -0.35667494393873245,
          -0.22314355131420968,
          -0.10536051565782628,
          0,
          0.09531017980432495,
          0.1823215567939546,
          0.26236426446749106,
          0.33647223662121284,
          0.4054651081081644
         ],
         "y": [
          -2.376565239533125e-08,
          2.2900709732778348e-08,
          5.715230272695389e-09,
          2.620305746723148e-09,
          4.2131120805428656e-10,
          0,
          -1.3269597651721686e-09,
          -3.6671229453681357e-09,
          -6.47808087050849e-09,
          -8.656615906042635e-09,
          -1.1004786698066695e-08
         ]
        },
        {
         "line": {
          "color": "rgba(128, 128, 0, 0.49999999999999983)",
          "dash": "solid",
          "shape": "linear",
          "width": 1.3
         },
         "mode": "lines",
         "name": "Fried Chicken Sandwhich",
         "text": "",
         "type": "scatter",
         "x": [
          -0.6931471805599453,
          -0.5108256237659907,
          -0.35667494393873245,
          -0.22314355131420968,
          -0.10536051565782628,
          0,
          0.09531017980432495,
          0.1823215567939546,
          0.26236426446749106,
          0.33647223662121284,
          0.4054651081081644
         ],
         "y": [
          -0.1944138982925052,
          -0.1444483488321517,
          -0.09696158196624277,
          -0.051627949680436526,
          -0.02167807595855725,
          0,
          0.01815791883940444,
          0.02496440792744806,
          0.024964393587192053,
          0.02496438966035341,
          0.024964390071060903
         ]
        },
        {
         "line": {
          "color": "rgba(251, 128, 114, 0.49999999999999983)",
          "dash": "solid",
          "shape": "linear",
          "width": 1.3
         },
         "mode": "lines",
         "name": "Salmon and Fennel Slaw Sandwhich",
         "text": "",
         "type": "scatter",
         "x": [
          -0.6931471805599453,
          -0.5108256237659907,
          -0.35667494393873245,
          -0.22314355131420968,
          -0.10536051565782628,
          0,
          0.09531017980432495,
          0.1823215567939546,
          0.26236426446749106,
          0.33647223662121284,
          0.4054651081081644
         ],
         "y": [
          1.5412550672409508e-08,
          8.640318867468107e-09,
          4.938305308030005e-09,
          2.7819027043237377e-09,
          1.2841059318728797e-09,
          0,
          -1.1734513367890779e-09,
          -1.2228423836562673e-09,
          -1.3482285297279666e-09,
          -1.6083111522179675e-09,
          -2.0366157669959914e-09
         ]
        },
        {
         "line": {
          "color": "rgba(128, 177, 211, 0.49999999999999983)",
          "dash": "solid",
          "shape": "linear",
          "width": 1.3
         },
         "mode": "lines",
         "name": "Mapo Tofu Bowl",
         "text": "",
         "type": "scatter",
         "x": [
          -0.6931471805599453,
          -0.5108256237659907,
          -0.35667494393873245,
          -0.22314355131420968,
          -0.10536051565782628,
          0,
          0.09531017980432495,
          0.1823215567939546,
          0.26236426446749106,
          0.33647223662121284,
          0.4054651081081644
         ],
         "y": [
          2.8167990122914636e-09,
          8.748353149183018e-10,
          4.002576048370604e-12,
          -1.6868972886642856e-10,
          -5.6536220151492405e-11,
          0,
          -3.03934433222966e-10,
          2.3964163986246862e-11,
          2.7972268941663013e-10,
          1.4500778354801255e-10,
          -4.665065002052006e-10
         ]
        },
        {
         "line": {
          "color": "rgba(255, 153, 51, 0.49999999999999983)",
          "dash": "solid",
          "shape": "linear",
          "width": 1.3
         },
         "mode": "lines",
         "name": "Salmon Larb Bowl",
         "text": "",
         "type": "scatter",
         "x": [
          -0.6931471805599453,
          -0.5108256237659907,
          -0.35667494393873245,
          -0.22314355131420968,
          -0.10536051565782628,
          0,
          0.09531017980432495,
          0.1823215567939546,
          0.26236426446749106,
          0.33647223662121284,
          0.4054651081081644
         ],
         "y": [
          0,
          0,
          0,
          0,
          0,
          0,
          0,
          0,
          0,
          0,
          0
         ]
        },
        {
         "line": {
          "color": "rgba(55, 128, 191, 0.49999999999999983)",
          "dash": "solid",
          "shape": "linear",
          "width": 1.3
         },
         "mode": "lines",
         "name": "Buffalo Chicken Salad",
         "text": "",
         "type": "scatter",
         "x": [
          -0.6931471805599453,
          -0.5108256237659907,
          -0.35667494393873245,
          -0.22314355131420968,
          -0.10536051565782628,
          0,
          0.09531017980432495,
          0.1823215567939546,
          0.26236426446749106,
          0.33647223662121284,
          0.4054651081081644
         ],
         "y": [
          1.2645498568257311e-08,
          8.595824237649058e-09,
          5.604313886137184e-09,
          3.307120571920832e-09,
          1.4852499219470079e-09,
          0,
          -1.2399632439623968e-09,
          -2.2967948680460913e-09,
          -3.214105320395379e-09,
          -4.02312062251975e-09,
          -4.7467120347057625e-09
         ]
        },
        {
         "line": {
          "color": "rgba(50, 171, 96, 0.49999999999999983)",
          "dash": "solid",
          "shape": "linear",
          "width": 1.3
         },
         "mode": "lines",
         "name": "California Greens Salad",
         "text": "",
         "type": "scatter",
         "x": [
          -0.6931471805599453,
          -0.5108256237659907,
          -0.35667494393873245,
          -0.22314355131420968,
          -0.10536051565782628,
          0,
          0.09531017980432495,
          0.1823215567939546,
          0.26236426446749106,
          0.33647223662121284,
          0.4054651081081644
         ],
         "y": [
          3.815700615949513e-08,
          1.8005422990347504e-08,
          9.756830185034428e-09,
          5.174662018814951e-09,
          2.1816559646131233e-09,
          0,
          -1.7225542118651847e-09,
          -2.6573243640861217e-09,
          -3.2162244030892942e-09,
          -3.6973969510043014e-09,
          -4.125397698633997e-09
         ]
        },
        {
         "line": {
          "color": "rgba(128, 0, 128, 0.49999999999999983)",
          "dash": "solid",
          "shape": "linear",
          "width": 1.3
         },
         "mode": "lines",
         "name": "Buffalo Chicken Loaded Fries",
         "text": "",
         "type": "scatter",
         "x": [
          -0.6931471805599453,
          -0.5108256237659907,
          -0.35667494393873245,
          -0.22314355131420968,
          -0.10536051565782628,
          0,
          0.09531017980432495,
          0.1823215567939546,
          0.26236426446749106,
          0.33647223662121284,
          0.4054651081081644
         ],
         "y": [
          6.9194063572614954e-09,
          5.2742314820798425e-09,
          3.7839669104217804e-09,
          2.4213970799096993e-09,
          1.1654845970413015e-09,
          0,
          -1.087918311585313e-09,
          -2.108359489218982e-09,
          -3.06944581334519e-09,
          -3.9777003991999134e-09,
          -4.838484180584129e-09
         ]
        },
        {
         "line": {
          "color": "rgba(219, 64, 82, 0.49999999999999983)",
          "dash": "solid",
          "shape": "linear",
          "width": 1.3
         },
         "mode": "lines",
         "name": "Cross Cut Fries",
         "text": "",
         "type": "scatter",
         "x": [
          -0.6931471805599453,
          -0.5108256237659907,
          -0.35667494393873245,
          -0.22314355131420968,
          -0.10536051565782628,
          0,
          0.09531017980432495,
          0.1823215567939546,
          0.26236426446749106,
          0.33647223662121284,
          0.4054651081081644
         ],
         "y": [
          4.079450110217614e-10,
          3.052700314288071e-10,
          2.1693358218533685e-10,
          1.388817949436054e-10,
          6.770783933289269e-11,
          0,
          -6.679934383636518e-11,
          -1.353328560418902e-10,
          -2.07623918079729e-10,
          -2.858663306479805e-10,
          -3.7190450725953575e-10
         ]
        },
        {
         "line": {
          "color": "rgba(219, 64, 82, 0.39999999999999974)",
          "dash": "solid",
          "shape": "linear",
          "width": 1.3
         },
         "mode": "lines",
         "name": "Side Green Salad",
         "text": "",
         "type": "scatter",
         "x": [
          -0.6931471805599453,
          -0.5108256237659907,
          -0.35667494393873245,
          -0.22314355131420968,
          -0.10536051565782628,
          0,
          0.09531017980432495,
          0.1823215567939546,
          0.26236426446749106,
          0.33647223662121284,
          0.4054651081081644
         ],
         "y": [
          0,
          0,
          0,
          0,
          0,
          0,
          0,
          0,
          0,
          0,
          0
         ]
        },
        {
         "line": {
          "color": "rgba(0, 128, 128, 0.39999999999999974)",
          "dash": "solid",
          "shape": "linear",
          "width": 1.3
         },
         "mode": "lines",
         "name": "Large Fruit Salad",
         "text": "",
         "type": "scatter",
         "x": [
          -0.6931471805599453,
          -0.5108256237659907,
          -0.35667494393873245,
          -0.22314355131420968,
          -0.10536051565782628,
          0,
          0.09531017980432495,
          0.1823215567939546,
          0.26236426446749106,
          0.33647223662121284,
          0.4054651081081644
         ],
         "y": [
          -1.2841894741234295e-08,
          -1.162929748156009e-08,
          -9.741044018889121e-09,
          -6.929878583891974e-09,
          -3.491069328608089e-09,
          0,
          2.2439727828474378e-09,
          4.564968836956424e-09,
          5.283715229150731e-09,
          3.2890692337783817e-09,
          -2.8245926748583702e-09
         ]
        },
        {
         "line": {
          "color": "rgba(255, 255, 51, 0.39999999999999974)",
          "dash": "solid",
          "shape": "linear",
          "width": 1.3
         },
         "mode": "lines",
         "name": "Regular Coffee",
         "text": "",
         "type": "scatter",
         "x": [
          -0.6931471805599453,
          -0.5108256237659907,
          -0.35667494393873245,
          -0.22314355131420968,
          -0.10536051565782628,
          0,
          0.09531017980432495,
          0.1823215567939546,
          0.26236426446749106,
          0.33647223662121284,
          0.4054651081081644
         ],
         "y": [
          -2.1154497821853455e-08,
          -2.2695584780380825e-08,
          -6.209051514452415e-09,
          -3.80901821920754e-09,
          -1.6449326359009147e-09,
          0,
          9.33243704101818e-10,
          2.5964010907530854e-09,
          3.4984493019063236e-09,
          2.892467816631019e-09,
          4.4800296795611787e-10
         ]
        },
        {
         "line": {
          "color": "rgba(128, 128, 0, 0.39999999999999974)",
          "dash": "solid",
          "shape": "linear",
          "width": 1.3
         },
         "mode": "lines",
         "name": "Decaf Coffee",
         "text": "",
         "type": "scatter",
         "x": [
          -0.6931471805599453,
          -0.5108256237659907,
          -0.35667494393873245,
          -0.22314355131420968,
          -0.10536051565782628,
          0,
          0.09531017980432495,
          0.1823215567939546,
          0.26236426446749106,
          0.33647223662121284,
          0.4054651081081644
         ],
         "y": [
          -0.0029461830169944182,
          -0.0023562514191814137,
          -0.0017666678069472362,
          -0.0011774315146837948,
          -0.0005885423181525477,
          0,
          0.0005881958871768764,
          0.0011760457975836212,
          0.0017635501889197711,
          0.002350709590098477,
          0.002937524698686256
         ]
        },
        {
         "line": {
          "color": "rgba(251, 128, 114, 0.39999999999999974)",
          "dash": "solid",
          "shape": "linear",
          "width": 1.3
         },
         "mode": "lines",
         "name": "Orange Juice",
         "text": "",
         "type": "scatter",
         "x": [
          -0.6931471805599453,
          -0.5108256237659907,
          -0.35667494393873245,
          -0.22314355131420968,
          -0.10536051565782628,
          0,
          0.09531017980432495,
          0.1823215567939546,
          0.26236426446749106,
          0.33647223662121284,
          0.4054651081081644
         ],
         "y": [
          -0.01303247852644071,
          -0.010412363555423704,
          -0.007799097206543237,
          -0.0051926420162079455,
          -0.0025929625528864917,
          0,
          0.0025862562366819864,
          0.005165869972151255,
          0.007738726883917193,
          0.01030510161059519,
          0.012864817231870034
         ]
        },
        {
         "line": {
          "color": "rgba(128, 177, 211, 0.39999999999999974)",
          "dash": "solid",
          "shape": "linear",
          "width": 1.3
         },
         "mode": "lines",
         "name": "Milk",
         "text": "",
         "type": "scatter",
         "x": [
          -0.6931471805599453,
          -0.5108256237659907,
          -0.35667494393873245,
          -0.22314355131420968,
          -0.10536051565782628,
          0,
          0.09531017980432495,
          0.1823215567939546,
          0.26236426446749106,
          0.33647223662121284,
          0.4054651081081644
         ],
         "y": [
          -0.007413400051807623,
          -0.005926296933977221,
          -0.004441416266454327,
          -0.0029587531395317535,
          -0.001478293162097926,
          0,
          0.001476224989338623,
          0.00295001778433647,
          0.0044217814847883116,
          0.005891382297008246,
          0.007358826533024606
         ]
        },
        {
         "line": {
          "color": "rgba(255, 153, 51, 0.39999999999999974)",
          "dash": "solid",
          "shape": "linear",
          "width": 1.3
         },
         "mode": "lines",
         "name": "Rotisserie Tri Tip",
         "text": "",
         "type": "scatter",
         "x": [
          -0.6931471805599453,
          -0.5108256237659907,
          -0.35667494393873245,
          -0.22314355131420968,
          -0.10536051565782628,
          0,
          0.09531017980432495,
          0.1823215567939546,
          0.26236426446749106,
          0.33647223662121284,
          0.4054651081081644
         ],
         "y": [
          1.3926835580875724e-07,
          -2.2051506863847232e-08,
          -1.9029000445454777e-08,
          -1.532044680641801e-08,
          -9.59394557293085e-09,
          0,
          1.8712422325322463e-08,
          5.263514596653568e-08,
          1.0216494394842243e-07,
          1.599370219372383e-07,
          2.0803881962500235e-07
         ]
        },
        {
         "line": {
          "color": "rgba(55, 128, 191, 0.39999999999999974)",
          "dash": "solid",
          "shape": "linear",
          "width": 1.3
         },
         "mode": "lines",
         "name": "Roasted Chicken Breast",
         "text": "",
         "type": "scatter",
         "x": [
          -0.6931471805599453,
          -0.5108256237659907,
          -0.35667494393873245,
          -0.22314355131420968,
          -0.10536051565782628,
          0,
          0.09531017980432495,
          0.1823215567939546,
          0.26236426446749106,
          0.33647223662121284,
          0.4054651081081644
         ],
         "y": [
          4.767434213808237e-09,
          3.5981539905020277e-09,
          2.554647823350519e-09,
          1.6172858594809906e-09,
          7.700522438957528e-10,
          0,
          -7.036895513212835e-10,
          -1.3496759274871228e-09,
          -1.9454566865301485e-09,
          -2.497225651608155e-09,
          -3.0102023141696574e-09
         ]
        },
        {
         "line": {
          "color": "rgba(50, 171, 96, 0.39999999999999974)",
          "dash": "solid",
          "shape": "linear",
          "width": 1.3
         },
         "mode": "lines",
         "name": "Seared Salmon Fillet",
         "text": "",
         "type": "scatter",
         "x": [
          -0.6931471805599453,
          -0.5108256237659907,
          -0.35667494393873245,
          -0.22314355131420968,
          -0.10536051565782628,
          0,
          0.09531017980432495,
          0.1823215567939546,
          0.26236426446749106,
          0.33647223662121284,
          0.4054651081081644
         ],
         "y": [
          -2.363419787827498e-08,
          4.9192421126573344e-09,
          6.69031996293996e-08,
          1.0010889889818337e-09,
          2.5165823552584924e-08,
          0,
          -2.3144268658502102e-08,
          -2.3239678007804345e-08,
          -1.820229372697084e-08,
          -2.3590782494849564e-08,
          -3.0234933491490546e-09
         ]
        },
        {
         "line": {
          "color": "rgba(128, 0, 128, 0.39999999999999974)",
          "dash": "solid",
          "shape": "linear",
          "width": 1.3
         },
         "mode": "lines",
         "name": "Seared Tofu",
         "text": "",
         "type": "scatter",
         "x": [
          -0.6931471805599453,
          -0.5108256237659907,
          -0.35667494393873245,
          -0.22314355131420968,
          -0.10536051565782628,
          0,
          0.09531017980432495,
          0.1823215567939546,
          0.26236426446749106,
          0.33647223662121284,
          0.4054651081081644
         ],
         "y": [
          -2.3788043817913498e-08,
          -2.3793890918634097e-08,
          3.1241342802122974e-08,
          8.76834112581394e-09,
          2.1177717335120805e-09,
          0,
          -1.115146420271935e-09,
          -1.696707886740816e-09,
          -1.9760000322204982e-09,
          -2.075769891463653e-09,
          -2.065436823707466e-09
         ]
        },
        {
         "line": {
          "color": "rgba(128, 0, 128, 0.2999999999999999)",
          "dash": "solid",
          "shape": "linear",
          "width": 1.3
         },
         "mode": "lines",
         "name": "Salad Seasonal Greens",
         "text": "",
         "type": "scatter",
         "x": [
          -0.6931471805599453,
          -0.5108256237659907,
          -0.35667494393873245,
          -0.22314355131420968,
          -0.10536051565782628,
          0,
          0.09531017980432495,
          0.1823215567939546,
          0.26236426446749106,
          0.33647223662121284,
          0.4054651081081644
         ],
         "y": [
          0,
          0,
          0,
          0,
          0,
          0,
          0,
          0,
          0,
          0,
          0
         ]
        },
        {
         "line": {
          "color": "rgba(219, 64, 82, 0.2999999999999999)",
          "dash": "solid",
          "shape": "linear",
          "width": 1.3
         },
         "mode": "lines",
         "name": "Garlic Fries",
         "text": "",
         "type": "scatter",
         "x": [
          -0.6931471805599453,
          -0.5108256237659907,
          -0.35667494393873245,
          -0.22314355131420968,
          -0.10536051565782628,
          0,
          0.09531017980432495,
          0.1823215567939546,
          0.26236426446749106,
          0.33647223662121284,
          0.4054651081081644
         ],
         "y": [
          -1.9633235119440056e-08,
          -5.135396553765606e-10,
          2.2921156057996735e-09,
          3.1119726747059158e-09,
          2.2089703375388026e-09,
          0,
          -1.9182393469842777e-09,
          -3.0180343825204824e-09,
          -4.304050680684459e-09,
          -5.6817617439127805e-09,
          -7.1276680367659335e-09
         ]
        },
        {
         "line": {
          "color": "rgba(0, 128, 128, 0.2999999999999999)",
          "dash": "solid",
          "shape": "linear",
          "width": 1.3
         },
         "mode": "lines",
         "name": "Vegetable Medley",
         "text": "",
         "type": "scatter",
         "x": [
          -0.6931471805599453,
          -0.5108256237659907,
          -0.35667494393873245,
          -0.22314355131420968,
          -0.10536051565782628,
          0,
          0.09531017980432495,
          0.1823215567939546,
          0.26236426446749106,
          0.33647223662121284,
          0.4054651081081644
         ],
         "y": [
          -0.10425536511927966,
          -0.07855748498297994,
          -0.054020292994943826,
          -0.03301404774580341,
          -0.016370794523226,
          0,
          0.01610706336329716,
          0.031958818588811416,
          0.045357371012859304,
          0.05148510961400445,
          0.05352783266827476
         ]
        },
        {
         "line": {
          "color": "rgba(255, 255, 51, 0.2999999999999999)",
          "dash": "solid",
          "shape": "linear",
          "width": 1.3
         },
         "mode": "lines",
         "name": "Heriloom Grains",
         "text": "",
         "type": "scatter",
         "x": [
          -0.6931471805599453,
          -0.5108256237659907,
          -0.35667494393873245,
          -0.22314355131420968,
          -0.10536051565782628,
          0,
          0.09531017980432495,
          0.1823215567939546,
          0.26236426446749106,
          0.33647223662121284,
          0.4054651081081644
         ],
         "y": [
          -0.04137122250868049,
          -0.019614251264334692,
          -0.003052636012112422,
          -5.3547025845735995e-09,
          2.8288771321434117e-10,
          0,
          6.515562956811512e-09,
          1.0857852389068526e-09,
          -2.037853273576257e-08,
          -2.0412912679800434e-08,
          2.8304413079104036e-08
         ]
        },
        {
         "line": {
          "color": "rgba(128, 128, 0, 0.2999999999999999)",
          "dash": "solid",
          "shape": "linear",
          "width": 1.3
         },
         "mode": "lines",
         "name": "Brown Rice",
         "text": "",
         "type": "scatter",
         "x": [
          -0.6931471805599453,
          -0.5108256237659907,
          -0.35667494393873245,
          -0.22314355131420968,
          -0.10536051565782628,
          0,
          0.09531017980432495,
          0.1823215567939546,
          0.26236426446749106,
          0.33647223662121284,
          0.4054651081081644
         ],
         "y": [
          -1.4621140849465579e-08,
          -1.2484634071214634e-08,
          -1.002307875058074e-08,
          -6.829151822933065e-09,
          -3.3382033859592842e-09,
          0,
          2.4169846095313035e-09,
          4.247336695545961e-09,
          5.670921494079457e-09,
          5.692432509148561e-09,
          3.896581272269139e-09
         ]
        }
       ],
       "layout": {
        "autosize": true,
        "legend": {
         "bgcolor": "#F5F6F9",
         "font": {
          "color": "#4D5663"
         }
        },
        "paper_bgcolor": "#F5F6F9",
        "plot_bgcolor": "#F5F6F9",
        "template": {
         "data": {
          "bar": [
           {
            "error_x": {
             "color": "#2a3f5f"
            },
            "error_y": {
             "color": "#2a3f5f"
            },
            "marker": {
             "line": {
              "color": "#E5ECF6",
              "width": 0.5
             },
             "pattern": {
              "fillmode": "overlay",
              "size": 10,
              "solidity": 0.2
             }
            },
            "type": "bar"
           }
          ],
          "barpolar": [
           {
            "marker": {
             "line": {
              "color": "#E5ECF6",
              "width": 0.5
             },
             "pattern": {
              "fillmode": "overlay",
              "size": 10,
              "solidity": 0.2
             }
            },
            "type": "barpolar"
           }
          ],
          "carpet": [
           {
            "aaxis": {
             "endlinecolor": "#2a3f5f",
             "gridcolor": "white",
             "linecolor": "white",
             "minorgridcolor": "white",
             "startlinecolor": "#2a3f5f"
            },
            "baxis": {
             "endlinecolor": "#2a3f5f",
             "gridcolor": "white",
             "linecolor": "white",
             "minorgridcolor": "white",
             "startlinecolor": "#2a3f5f"
            },
            "type": "carpet"
           }
          ],
          "choropleth": [
           {
            "colorbar": {
             "outlinewidth": 0,
             "ticks": ""
            },
            "type": "choropleth"
           }
          ],
          "contour": [
           {
            "colorbar": {
             "outlinewidth": 0,
             "ticks": ""
            },
            "colorscale": [
             [
              0,
              "#0d0887"
             ],
             [
              0.1111111111111111,
              "#46039f"
             ],
             [
              0.2222222222222222,
              "#7201a8"
             ],
             [
              0.3333333333333333,
              "#9c179e"
             ],
             [
              0.4444444444444444,
              "#bd3786"
             ],
             [
              0.5555555555555556,
              "#d8576b"
             ],
             [
              0.6666666666666666,
              "#ed7953"
             ],
             [
              0.7777777777777778,
              "#fb9f3a"
             ],
             [
              0.8888888888888888,
              "#fdca26"
             ],
             [
              1,
              "#f0f921"
             ]
            ],
            "type": "contour"
           }
          ],
          "contourcarpet": [
           {
            "colorbar": {
             "outlinewidth": 0,
             "ticks": ""
            },
            "type": "contourcarpet"
           }
          ],
          "heatmap": [
           {
            "colorbar": {
             "outlinewidth": 0,
             "ticks": ""
            },
            "colorscale": [
             [
              0,
              "#0d0887"
             ],
             [
              0.1111111111111111,
              "#46039f"
             ],
             [
              0.2222222222222222,
              "#7201a8"
             ],
             [
              0.3333333333333333,
              "#9c179e"
             ],
             [
              0.4444444444444444,
              "#bd3786"
             ],
             [
              0.5555555555555556,
              "#d8576b"
             ],
             [
              0.6666666666666666,
              "#ed7953"
             ],
             [
              0.7777777777777778,
              "#fb9f3a"
             ],
             [
              0.8888888888888888,
              "#fdca26"
             ],
             [
              1,
              "#f0f921"
             ]
            ],
            "type": "heatmap"
           }
          ],
          "heatmapgl": [
           {
            "colorbar": {
             "outlinewidth": 0,
             "ticks": ""
            },
            "colorscale": [
             [
              0,
              "#0d0887"
             ],
             [
              0.1111111111111111,
              "#46039f"
             ],
             [
              0.2222222222222222,
              "#7201a8"
             ],
             [
              0.3333333333333333,
              "#9c179e"
             ],
             [
              0.4444444444444444,
              "#bd3786"
             ],
             [
              0.5555555555555556,
              "#d8576b"
             ],
             [
              0.6666666666666666,
              "#ed7953"
             ],
             [
              0.7777777777777778,
              "#fb9f3a"
             ],
             [
              0.8888888888888888,
              "#fdca26"
             ],
             [
              1,
              "#f0f921"
             ]
            ],
            "type": "heatmapgl"
           }
          ],
          "histogram": [
           {
            "marker": {
             "pattern": {
              "fillmode": "overlay",
              "size": 10,
              "solidity": 0.2
             }
            },
            "type": "histogram"
           }
          ],
          "histogram2d": [
           {
            "colorbar": {
             "outlinewidth": 0,
             "ticks": ""
            },
            "colorscale": [
             [
              0,
              "#0d0887"
             ],
             [
              0.1111111111111111,
              "#46039f"
             ],
             [
              0.2222222222222222,
              "#7201a8"
             ],
             [
              0.3333333333333333,
              "#9c179e"
             ],
             [
              0.4444444444444444,
              "#bd3786"
             ],
             [
              0.5555555555555556,
              "#d8576b"
             ],
             [
              0.6666666666666666,
              "#ed7953"
             ],
             [
              0.7777777777777778,
              "#fb9f3a"
             ],
             [
              0.8888888888888888,
              "#fdca26"
             ],
             [
              1,
              "#f0f921"
             ]
            ],
            "type": "histogram2d"
           }
          ],
          "histogram2dcontour": [
           {
            "colorbar": {
             "outlinewidth": 0,
             "ticks": ""
            },
            "colorscale": [
             [
              0,
              "#0d0887"
             ],
             [
              0.1111111111111111,
              "#46039f"
             ],
             [
              0.2222222222222222,
              "#7201a8"
             ],
             [
              0.3333333333333333,
              "#9c179e"
             ],
             [
              0.4444444444444444,
              "#bd3786"
             ],
             [
              0.5555555555555556,
              "#d8576b"
             ],
             [
              0.6666666666666666,
              "#ed7953"
             ],
             [
              0.7777777777777778,
              "#fb9f3a"
             ],
             [
              0.8888888888888888,
              "#fdca26"
             ],
             [
              1,
              "#f0f921"
             ]
            ],
            "type": "histogram2dcontour"
           }
          ],
          "mesh3d": [
           {
            "colorbar": {
             "outlinewidth": 0,
             "ticks": ""
            },
            "type": "mesh3d"
           }
          ],
          "parcoords": [
           {
            "line": {
             "colorbar": {
              "outlinewidth": 0,
              "ticks": ""
             }
            },
            "type": "parcoords"
           }
          ],
          "pie": [
           {
            "automargin": true,
            "type": "pie"
           }
          ],
          "scatter": [
           {
            "marker": {
             "colorbar": {
              "outlinewidth": 0,
              "ticks": ""
             }
            },
            "type": "scatter"
           }
          ],
          "scatter3d": [
           {
            "line": {
             "colorbar": {
              "outlinewidth": 0,
              "ticks": ""
             }
            },
            "marker": {
             "colorbar": {
              "outlinewidth": 0,
              "ticks": ""
             }
            },
            "type": "scatter3d"
           }
          ],
          "scattercarpet": [
           {
            "marker": {
             "colorbar": {
              "outlinewidth": 0,
              "ticks": ""
             }
            },
            "type": "scattercarpet"
           }
          ],
          "scattergeo": [
           {
            "marker": {
             "colorbar": {
              "outlinewidth": 0,
              "ticks": ""
             }
            },
            "type": "scattergeo"
           }
          ],
          "scattergl": [
           {
            "marker": {
             "colorbar": {
              "outlinewidth": 0,
              "ticks": ""
             }
            },
            "type": "scattergl"
           }
          ],
          "scattermapbox": [
           {
            "marker": {
             "colorbar": {
              "outlinewidth": 0,
              "ticks": ""
             }
            },
            "type": "scattermapbox"
           }
          ],
          "scatterpolar": [
           {
            "marker": {
             "colorbar": {
              "outlinewidth": 0,
              "ticks": ""
             }
            },
            "type": "scatterpolar"
           }
          ],
          "scatterpolargl": [
           {
            "marker": {
             "colorbar": {
              "outlinewidth": 0,
              "ticks": ""
             }
            },
            "type": "scatterpolargl"
           }
          ],
          "scatterternary": [
           {
            "marker": {
             "colorbar": {
              "outlinewidth": 0,
              "ticks": ""
             }
            },
            "type": "scatterternary"
           }
          ],
          "surface": [
           {
            "colorbar": {
             "outlinewidth": 0,
             "ticks": ""
            },
            "colorscale": [
             [
              0,
              "#0d0887"
             ],
             [
              0.1111111111111111,
              "#46039f"
             ],
             [
              0.2222222222222222,
              "#7201a8"
             ],
             [
              0.3333333333333333,
              "#9c179e"
             ],
             [
              0.4444444444444444,
              "#bd3786"
             ],
             [
              0.5555555555555556,
              "#d8576b"
             ],
             [
              0.6666666666666666,
              "#ed7953"
             ],
             [
              0.7777777777777778,
              "#fb9f3a"
             ],
             [
              0.8888888888888888,
              "#fdca26"
             ],
             [
              1,
              "#f0f921"
             ]
            ],
            "type": "surface"
           }
          ],
          "table": [
           {
            "cells": {
             "fill": {
              "color": "#EBF0F8"
             },
             "line": {
              "color": "white"
             }
            },
            "header": {
             "fill": {
              "color": "#C8D4E3"
             },
             "line": {
              "color": "white"
             }
            },
            "type": "table"
           }
          ]
         },
         "layout": {
          "annotationdefaults": {
           "arrowcolor": "#2a3f5f",
           "arrowhead": 0,
           "arrowwidth": 1
          },
          "autotypenumbers": "strict",
          "coloraxis": {
           "colorbar": {
            "outlinewidth": 0,
            "ticks": ""
           }
          },
          "colorscale": {
           "diverging": [
            [
             0,
             "#8e0152"
            ],
            [
             0.1,
             "#c51b7d"
            ],
            [
             0.2,
             "#de77ae"
            ],
            [
             0.3,
             "#f1b6da"
            ],
            [
             0.4,
             "#fde0ef"
            ],
            [
             0.5,
             "#f7f7f7"
            ],
            [
             0.6,
             "#e6f5d0"
            ],
            [
             0.7,
             "#b8e186"
            ],
            [
             0.8,
             "#7fbc41"
            ],
            [
             0.9,
             "#4d9221"
            ],
            [
             1,
             "#276419"
            ]
           ],
           "sequential": [
            [
             0,
             "#0d0887"
            ],
            [
             0.1111111111111111,
             "#46039f"
            ],
            [
             0.2222222222222222,
             "#7201a8"
            ],
            [
             0.3333333333333333,
             "#9c179e"
            ],
            [
             0.4444444444444444,
             "#bd3786"
            ],
            [
             0.5555555555555556,
             "#d8576b"
            ],
            [
             0.6666666666666666,
             "#ed7953"
            ],
            [
             0.7777777777777778,
             "#fb9f3a"
            ],
            [
             0.8888888888888888,
             "#fdca26"
            ],
            [
             1,
             "#f0f921"
            ]
           ],
           "sequentialminus": [
            [
             0,
             "#0d0887"
            ],
            [
             0.1111111111111111,
             "#46039f"
            ],
            [
             0.2222222222222222,
             "#7201a8"
            ],
            [
             0.3333333333333333,
             "#9c179e"
            ],
            [
             0.4444444444444444,
             "#bd3786"
            ],
            [
             0.5555555555555556,
             "#d8576b"
            ],
            [
             0.6666666666666666,
             "#ed7953"
            ],
            [
             0.7777777777777778,
             "#fb9f3a"
            ],
            [
             0.8888888888888888,
             "#fdca26"
            ],
            [
             1,
             "#f0f921"
            ]
           ]
          },
          "colorway": [
           "#636efa",
           "#EF553B",
           "#00cc96",
           "#ab63fa",
           "#FFA15A",
           "#19d3f3",
           "#FF6692",
           "#B6E880",
           "#FF97FF",
           "#FECB52"
          ],
          "font": {
           "color": "#2a3f5f"
          },
          "geo": {
           "bgcolor": "white",
           "lakecolor": "white",
           "landcolor": "#E5ECF6",
           "showlakes": true,
           "showland": true,
           "subunitcolor": "white"
          },
          "hoverlabel": {
           "align": "left"
          },
          "hovermode": "closest",
          "mapbox": {
           "style": "light"
          },
          "paper_bgcolor": "white",
          "plot_bgcolor": "#E5ECF6",
          "polar": {
           "angularaxis": {
            "gridcolor": "white",
            "linecolor": "white",
            "ticks": ""
           },
           "bgcolor": "#E5ECF6",
           "radialaxis": {
            "gridcolor": "white",
            "linecolor": "white",
            "ticks": ""
           }
          },
          "scene": {
           "xaxis": {
            "backgroundcolor": "#E5ECF6",
            "gridcolor": "white",
            "gridwidth": 2,
            "linecolor": "white",
            "showbackground": true,
            "ticks": "",
            "zerolinecolor": "white"
           },
           "yaxis": {
            "backgroundcolor": "#E5ECF6",
            "gridcolor": "white",
            "gridwidth": 2,
            "linecolor": "white",
            "showbackground": true,
            "ticks": "",
            "zerolinecolor": "white"
           },
           "zaxis": {
            "backgroundcolor": "#E5ECF6",
            "gridcolor": "white",
            "gridwidth": 2,
            "linecolor": "white",
            "showbackground": true,
            "ticks": "",
            "zerolinecolor": "white"
           }
          },
          "shapedefaults": {
           "line": {
            "color": "#2a3f5f"
           }
          },
          "ternary": {
           "aaxis": {
            "gridcolor": "white",
            "linecolor": "white",
            "ticks": ""
           },
           "baxis": {
            "gridcolor": "white",
            "linecolor": "white",
            "ticks": ""
           },
           "bgcolor": "#E5ECF6",
           "caxis": {
            "gridcolor": "white",
            "linecolor": "white",
            "ticks": ""
           }
          },
          "title": {
           "x": 0.05
          },
          "xaxis": {
           "automargin": true,
           "gridcolor": "white",
           "linecolor": "white",
           "ticks": "",
           "title": {
            "standoff": 15
           },
           "zerolinecolor": "white",
           "zerolinewidth": 2
          },
          "yaxis": {
           "automargin": true,
           "gridcolor": "white",
           "linecolor": "white",
           "ticks": "",
           "title": {
            "standoff": 15
           },
           "zerolinecolor": "white",
           "zerolinewidth": 2
          }
         }
        },
        "title": {
         "font": {
          "color": "#4D5663"
         }
        },
        "xaxis": {
         "autorange": true,
         "gridcolor": "#E1E5ED",
         "range": [
          -0.6931471805599453,
          0.4054651081081644
         ],
         "showgrid": true,
         "tickfont": {
          "color": "#4D5663"
         },
         "title": {
          "font": {
           "color": "#4D5663"
          },
          "text": "change in log price"
         },
         "type": "linear",
         "zerolinecolor": "#E1E5ED"
        },
        "yaxis": {
         "autorange": true,
         "gridcolor": "#E1E5ED",
         "range": [
          -0.2640077346885634,
          0.1563899395550125
         ],
         "showgrid": true,
         "tickfont": {
          "color": "#4D5663"
         },
         "title": {
          "font": {
           "color": "#4D5663"
          },
          "text": "change in log cost"
         },
         "type": "linear",
         "zerolinecolor": "#E1E5ED"
        }
       }
      },
      "image/png": "[encoded data removed]",
      "text/html": [
       "<div>                            <div id=\"eff83056-94ab-48e2-83f4-ac74bfb1de44\" class=\"plotly-graph-div\" style=\"height:525px; width:100%;\"></div>            <script type=\"text/javascript\">                require([\"plotly\"], function(Plotly) {                    window.PLOTLYENV=window.PLOTLYENV || {};\n",
       "                    window.PLOTLYENV.BASE_URL='https://plot.ly';                                    if (document.getElementById(\"eff83056-94ab-48e2-83f4-ac74bfb1de44\")) {                    Plotly.newPlot(                        \"eff83056-94ab-48e2-83f4-ac74bfb1de44\",                        [{\"line\":{\"color\":\"rgba(255, 153, 51, 1.0)\",\"dash\":\"solid\",\"shape\":\"linear\",\"width\":1.3},\"mode\":\"lines\",\"name\":\"Turkey & Swiss Sandwich\",\"text\":\"\",\"x\":[-0.6931471805599453,-0.5108256237659907,-0.35667494393873245,-0.22314355131420968,-0.10536051565782628,0.0,0.09531017980432495,0.1823215567939546,0.26236426446749106,0.33647223662121284,0.4054651081081644],\"y\":[8.588299368097407e-09,5.929018369786187e-09,3.909246474440026e-09,2.325684309094733e-09,1.0503302666533162e-09,0.0,-8.811725797360657e-10,-1.6318907349869726e-09,-2.2797932456749843e-09,-2.8450658536243108e-09,-3.3428891932726703e-09],\"type\":\"scatter\"},{\"line\":{\"color\":\"rgba(55, 128, 191, 1.0)\",\"dash\":\"solid\",\"shape\":\"linear\",\"width\":1.3},\"mode\":\"lines\",\"name\":\"Caprese Panini\",\"text\":\"\",\"x\":[-0.6931471805599453,-0.5108256237659907,-0.35667494393873245,-0.22314355131420968,-0.10536051565782628,0.0,0.09531017980432495,0.1823215567939546,0.26236426446749106,0.33647223662121284,0.4054651081081644],\"y\":[1.678259894738863e-08,6.734026424901037e-09,4.02561561052745e-09,2.198807355993782e-09,9.240859184693995e-10,0.0,-6.942376675945307e-10,-1.2322880501390709e-09,-1.6610525191336059e-09,-2.0107308061021705e-09,-2.3018319499203974e-09],\"type\":\"scatter\"},{\"line\":{\"color\":\"rgba(50, 171, 96, 1.0)\",\"dash\":\"solid\",\"shape\":\"linear\",\"width\":1.3},\"mode\":\"lines\",\"name\":\"Chicken Paprika\",\"text\":\"\",\"x\":[-0.6931471805599453,-0.5108256237659907,-0.35667494393873245,-0.22314355131420968,-0.10536051565782628,0.0,0.09531017980432495,0.1823215567939546,0.26236426446749106,0.33647223662121284,0.4054651081081644],\"y\":[-9.994089272805399e-09,-7.913727704483544e-09,-5.490893421698298e-09,-3.0761847561030695e-09,-1.0863007166366755e-09,0.0,2.3633739407152296e-10,9.674196994363757e-10,8.652440982169099e-10,-1.4376744240574948e-10,-2.364166420984125e-09],\"type\":\"scatter\"},{\"line\":{\"color\":\"rgba(128, 0, 128, 1.0)\",\"dash\":\"solid\",\"shape\":\"linear\",\"width\":1.3},\"mode\":\"lines\",\"name\":\"Thai Marinated chicken Bahn Mi\",\"text\":\"\",\"x\":[-0.6931471805599453,-0.5108256237659907,-0.35667494393873245,-0.22314355131420968,-0.10536051565782628,0.0,0.09531017980432495,0.1823215567939546,0.26236426446749106,0.33647223662121284,0.4054651081081644],\"y\":[1.1235921463397121e-08,7.84312123280485e-09,5.211386641966604e-09,3.1165820986451996e-09,1.4124073012284681e-09,0.0,-1.1904659487507789e-09,-2.209024077212863e-09,-3.0928325504086743e-09,-3.869860106525134e-09,-4.561623866829207e-09],\"type\":\"scatter\"},{\"line\":{\"color\":\"rgba(219, 64, 82, 1.0)\",\"dash\":\"solid\",\"shape\":\"linear\",\"width\":1.3},\"mode\":\"lines\",\"name\":\"French Fries\",\"text\":\"\",\"x\":[-0.6931471805599453,-0.5108256237659907,-0.35667494393873245,-0.22314355131420968,-0.10536051565782628,0.0,0.09531017980432495,0.1823215567939546,0.26236426446749106,0.33647223662121284,0.4054651081081644],\"y\":[4.192646443449904e-09,-1.2046095749064261e-08,-7.197434230088477e-09,-4.3189394376426895e-09,-2.1789893246840848e-09,0.0,1.728286623431148e-09,3.185288250307639e-09,4.467223470042223e-09,5.626417094165724e-09,6.691461584645659e-09],\"type\":\"scatter\"},{\"line\":{\"color\":\"rgba(0, 128, 128, 1.0)\",\"dash\":\"solid\",\"shape\":\"linear\",\"width\":1.3},\"mode\":\"lines\",\"name\":\"Black Beans & Corn Quesadilla \",\"text\":\"\",\"x\":[-0.6931471805599453,-0.5108256237659907,-0.35667494393873245,-0.22314355131420968,-0.10536051565782628,0.0,0.09531017980432495,0.1823215567939546,0.26236426446749106,0.33647223662121284,0.4054651081081644],\"y\":[1.9271935417212098e-08,9.602306903472164e-09,5.31482745289414e-09,2.920970128170163e-09,1.2957235276321764e-09,0.0,-1.169193409440048e-09,-1.932254136340313e-09,-2.2853672314051406e-09,-2.6493417494955836e-09,-3.0420355170064605e-09],\"type\":\"scatter\"},{\"line\":{\"color\":\"rgba(255, 255, 51, 1.0)\",\"dash\":\"solid\",\"shape\":\"linear\",\"width\":1.3},\"mode\":\"lines\",\"name\":\"Chicken Quesadilla \",\"text\":\"\",\"x\":[-0.6931471805599453,-0.5108256237659907,-0.35667494393873245,-0.22314355131420968,-0.10536051565782628,0.0,0.09531017980432495,0.1823215567939546,0.26236426446749106,0.33647223662121284,0.4054651081081644],\"y\":[1.1421793667806516e-08,8.013507603132406e-09,5.33464160310912e-09,3.1895350754078987e-09,1.4430536755118613e-09,0.0,-1.2084174779243822e-09,-2.232394827044635e-09,-3.109585926924526e-09,-3.868299132946472e-09,-4.3661782063003e-09],\"type\":\"scatter\"},{\"line\":{\"color\":\"rgba(128, 128, 0, 1.0)\",\"dash\":\"solid\",\"shape\":\"linear\",\"width\":1.3},\"mode\":\"lines\",\"name\":\"Panko Crusted Fried Chicken Sandwich\",\"text\":\"\",\"x\":[-0.6931471805599453,-0.5108256237659907,-0.35667494393873245,-0.22314355131420968,-0.10536051565782628,0.0,0.09531017980432495,0.1823215567939546,0.26236426446749106,0.33647223662121284,0.4054651081081644],\"y\":[-0.24298785097638465,-0.15425594780854113,-0.07826635707086044,-0.02666705649730228,-2.317588392519505e-08,0.0,-1.1594581251266147e-08,-2.359501322182932e-08,2.222184367362833e-08,-2.302120287587236e-08,1.6674558261688414e-08],\"type\":\"scatter\"},{\"line\":{\"color\":\"rgba(251, 128, 114, 1.0)\",\"dash\":\"solid\",\"shape\":\"linear\",\"width\":1.3},\"mode\":\"lines\",\"name\":\"Think Grass Fed Burger\",\"text\":\"\",\"x\":[-0.6931471805599453,-0.5108256237659907,-0.35667494393873245,-0.22314355131420968,-0.10536051565782628,0.0,0.09531017980432495,0.1823215567939546,0.26236426446749106,0.33647223662121284,0.4054651081081644],\"y\":[-0.015676532395793086,-0.0005351340533979273,3.100847930311543e-08,1.9660208601030186e-08,7.106199603487895e-09,0.0,-3.0999058923427653e-09,-4.494141402462469e-09,-5.534986151408972e-09,-6.348393053635048e-09,-7.0174679646960575e-09],\"type\":\"scatter\"},{\"line\":{\"color\":\"rgba(128, 177, 211, 1.0)\",\"dash\":\"solid\",\"shape\":\"linear\",\"width\":1.3},\"mode\":\"lines\",\"name\":\"Ham & Cheese Croissant\",\"text\":\"\",\"x\":[-0.6931471805599453,-0.5108256237659907,-0.35667494393873245,-0.22314355131420968,-0.10536051565782628,0.0,0.09531017980432495,0.1823215567939546,0.26236426446749106,0.33647223662121284,0.4054651081081644],\"y\":[1.924416402157177e-09,1.4636707390937913e-09,1.0463387928393683e-09,6.663873894918823e-10,3.1898461644772096e-10,0.0,-2.9417046580767764e-10,-5.665831139196308e-10,-8.196527904209168e-10,-1.0558546265105599e-09,-1.2768397458609367e-09],\"type\":\"scatter\"},{\"line\":{\"color\":\"rgba(128, 177, 211, 0.8999999999999999)\",\"dash\":\"solid\",\"shape\":\"linear\",\"width\":1.3},\"mode\":\"lines\",\"name\":\"Banana\",\"text\":\"\",\"x\":[-0.6931471805599453,-0.5108256237659907,-0.35667494393873245,-0.22314355131420968,-0.10536051565782628,0.0,0.09531017980432495,0.1823215567939546,0.26236426446749106,0.33647223662121284,0.4054651081081644],\"y\":[-0.0018705871520809413,-1.685873688206381e-08,-1.234034582140739e-08,-1.0629997605359494e-08,-5.608558189170153e-09,0.0,6.280961286889803e-09,1.2359001079442554e-08,1.8256073375135942e-08,2.3968171160327073e-08,2.9466576744143583e-08],\"type\":\"scatter\"},{\"line\":{\"color\":\"rgba(255, 153, 51, 0.8999999999999999)\",\"dash\":\"solid\",\"shape\":\"linear\",\"width\":1.3},\"mode\":\"lines\",\"name\":\"Chocolate Croissant\",\"text\":\"\",\"x\":[-0.6931471805599453,-0.5108256237659907,-0.35667494393873245,-0.22314355131420968,-0.10536051565782628,0.0,0.09531017980432495,0.1823215567939546,0.26236426446749106,0.33647223662121284,0.4054651081081644],\"y\":[-0.2055845656570073,-0.15585473394092408,-0.11209168804255909,-0.07331485744223895,-0.035985704089727365,0.0,0.034519377998440744,0.060863942847857684,0.08653223823967664,0.11155817916364025,0.1353700558428337],\"type\":\"scatter\"},{\"line\":{\"color\":\"rgba(55, 128, 191, 0.8999999999999999)\",\"dash\":\"solid\",\"shape\":\"linear\",\"width\":1.3},\"mode\":\"lines\",\"name\":\"Banana Muffin\",\"text\":\"\",\"x\":[-0.6931471805599453,-0.5108256237659907,-0.35667494393873245,-0.22314355131420968,-0.10536051565782628,0.0,0.09531017980432495,0.1823215567939546,0.26236426446749106,0.33647223662121284,0.4054651081081644],\"y\":[-0.17848619411755143,-0.1356543778214949,-0.09458202343754643,-0.05571180902141487,-0.023626103664082458,0.0,0.021225634383648398,0.03953506314670135,0.0426361220548438,0.04572766495950064,0.04880968026619081],\"type\":\"scatter\"},{\"line\":{\"color\":\"rgba(50, 171, 96, 0.8999999999999999)\",\"dash\":\"solid\",\"shape\":\"linear\",\"width\":1.3},\"mode\":\"lines\",\"name\":\"Tropical Hibusicus Green Tea\",\"text\":\"\",\"x\":[-0.6931471805599453,-0.5108256237659907,-0.35667494393873245,-0.22314355131420968,-0.10536051565782628,0.0,0.09531017980432495,0.1823215567939546,0.26236426446749106,0.33647223662121284,0.4054651081081644],\"y\":[-2.22454542818276e-08,-2.12423205727882e-08,-1.1952891636850157e-08,-8.086229940582322e-09,-3.7476871676271645e-09,0.0,2.3411077493614415e-09,4.4345711448995145e-09,3.2211442350406835e-09,-1.4100883803885553e-09,-1.6973861219877106e-09],\"type\":\"scatter\"},{\"line\":{\"color\":\"rgba(128, 0, 128, 0.8999999999999999)\",\"dash\":\"solid\",\"shape\":\"linear\",\"width\":1.3},\"mode\":\"lines\",\"name\":\"Drip Coffee (Reg or Decaf)\",\"text\":\"\",\"x\":[-0.6931471805599453,-0.5108256237659907,-0.35667494393873245,-0.22314355131420968,-0.10536051565782628,0.0,0.09531017980432495,0.1823215567939546,0.26236426446749106,0.33647223662121284,0.4054651081081644],\"y\":[0.0,0.0,0.0,0.0,0.0,0.0,0.0,0.0,0.0,0.0,0.0],\"type\":\"scatter\"},{\"line\":{\"color\":\"rgba(219, 64, 82, 0.8999999999999999)\",\"dash\":\"solid\",\"shape\":\"linear\",\"width\":1.3},\"mode\":\"lines\",\"name\":\"Espresso\",\"text\":\"\",\"x\":[-0.6931471805599453,-0.5108256237659907,-0.35667494393873245,-0.22314355131420968,-0.10536051565782628,0.0,0.09531017980432495,0.1823215567939546,0.26236426446749106,0.33647223662121284,0.4054651081081644],\"y\":[-1.9784570400065483e-08,1.4013982986896859e-08,9.282706338257335e-09,5.1951824929173055e-09,2.1119612703026905e-09,0.0,-1.2642944477113378e-09,-9.384791836948863e-10,-1.6664936099143036e-10,1.3064604944893565e-09,3.364970296738171e-09],\"type\":\"scatter\"},{\"line\":{\"color\":\"rgba(0, 128, 128, 0.8999999999999999)\",\"dash\":\"solid\",\"shape\":\"linear\",\"width\":1.3},\"mode\":\"lines\",\"name\":\"Americano\",\"text\":\"\",\"x\":[-0.6931471805599453,-0.5108256237659907,-0.35667494393873245,-0.22314355131420968,-0.10536051565782628,0.0,0.09531017980432495,0.1823215567939546,0.26236426446749106,0.33647223662121284,0.4054651081081644],\"y\":[0.0,0.0,0.0,0.0,0.0,0.0,0.0,0.0,0.0,0.0,0.0],\"type\":\"scatter\"},{\"line\":{\"color\":\"rgba(255, 255, 51, 0.8999999999999999)\",\"dash\":\"solid\",\"shape\":\"linear\",\"width\":1.3},\"mode\":\"lines\",\"name\":\"Cappuccino\",\"text\":\"\",\"x\":[-0.6931471805599453,-0.5108256237659907,-0.35667494393873245,-0.22314355131420968,-0.10536051565782628,0.0,0.09531017980432495,0.1823215567939546,0.26236426446749106,0.33647223662121284,0.4054651081081644],\"y\":[-0.002336364868342681,-4.08240364569513e-09,-1.3794920762207933e-10,2.0673234214232836e-09,1.4782115520705233e-09,0.0,-1.461897604040901e-09,-1.8578912869876947e-09,-2.1477797341490263e-09,-2.232375509163963e-09,-1.862699995983199e-09],\"type\":\"scatter\"},{\"line\":{\"color\":\"rgba(128, 128, 0, 0.8999999999999999)\",\"dash\":\"solid\",\"shape\":\"linear\",\"width\":1.3},\"mode\":\"lines\",\"name\":\"Latte\",\"text\":\"\",\"x\":[-0.6931471805599453,-0.5108256237659907,-0.35667494393873245,-0.22314355131420968,-0.10536051565782628,0.0,0.09531017980432495,0.1823215567939546,0.26236426446749106,0.33647223662121284,0.4054651081081644],\"y\":[-0.029205270030363183,-0.018856534317273056,-0.008613688397001686,-2.368800395025813e-08,7.342336711647785e-09,0.0,4.811304898460792e-09,1.0861781415258175e-08,1.8220309539451355e-08,2.8276339314363768e-08,3.7535477798702916e-08],\"type\":\"scatter\"},{\"line\":{\"color\":\"rgba(251, 128, 114, 0.8999999999999999)\",\"dash\":\"solid\",\"shape\":\"linear\",\"width\":1.3},\"mode\":\"lines\",\"name\":\"Caramel Macchiato\",\"text\":\"\",\"x\":[-0.6931471805599453,-0.5108256237659907,-0.35667494393873245,-0.22314355131420968,-0.10536051565782628,0.0,0.09531017980432495,0.1823215567939546,0.26236426446749106,0.33647223662121284,0.4054651081081644],\"y\":[-8.484721516956604e-09,-2.3745694359632658e-08,1.3314240812097325e-09,9.235128213446173e-10,4.3127079675934826e-10,0.0,-1.5814116684083377e-10,9.4507268632888e-10,2.1189776577588736e-09,3.2906906034782102e-09,4.4551713330298695e-09],\"type\":\"scatter\"},{\"line\":{\"color\":\"rgba(251, 128, 114, 0.7999999999999998)\",\"dash\":\"solid\",\"shape\":\"linear\",\"width\":1.3},\"mode\":\"lines\",\"name\":\"Hot Chocolate\",\"text\":\"\",\"x\":[-0.6931471805599453,-0.5108256237659907,-0.35667494393873245,-0.22314355131420968,-0.10536051565782628,0.0,0.09531017980432495,0.1823215567939546,0.26236426446749106,0.33647223662121284,0.4054651081081644],\"y\":[-0.005652179801784812,-2.280391090869243e-08,8.266028186689246e-08,2.3135184611334556e-08,6.868705580700868e-09,0.0,-2.3806822097599342e-09,-3.0129788709403044e-09,-3.3054168345986557e-09,-3.39291018079332e-09,-3.3397870080868973e-09],\"type\":\"scatter\"},{\"line\":{\"color\":\"rgba(128, 177, 211, 0.7999999999999998)\",\"dash\":\"solid\",\"shape\":\"linear\",\"width\":1.3},\"mode\":\"lines\",\"name\":\"Steamed Milk\",\"text\":\"\",\"x\":[-0.6931471805599453,-0.5108256237659907,-0.35667494393873245,-0.22314355131420968,-0.10536051565782628,0.0,0.09531017980432495,0.1823215567939546,0.26236426446749106,0.33647223662121284,0.4054651081081644],\"y\":[1.4962955287788227e-07,8.076487396903887e-08,3.088224739321105e-08,1.2918362074334602e-08,4.597603398526562e-09,0.0,-1.5501102635730388e-09,-1.6079656508121485e-09,-1.4498622313249297e-09,-1.1599186062815285e-09,-7.74759812161385e-10],\"type\":\"scatter\"},{\"line\":{\"color\":\"rgba(255, 153, 51, 0.7999999999999998)\",\"dash\":\"solid\",\"shape\":\"linear\",\"width\":1.3},\"mode\":\"lines\",\"name\":\"Hot Tea\",\"text\":\"\",\"x\":[-0.6931471805599453,-0.5108256237659907,-0.35667494393873245,-0.22314355131420968,-0.10536051565782628,0.0,0.09531017980432495,0.1823215567939546,0.26236426446749106,0.33647223662121284,0.4054651081081644],\"y\":[-2.3391334143437176e-08,-2.2883089241059845e-08,-2.1550027550386405e-08,-1.1309875322503849e-08,-6.5321084310633964e-09,0.0,6.047509807959613e-09,1.579550045068114e-09,1.2598700003824798e-08,1.7920853749450595e-07,-2.3801004672833674e-08],\"type\":\"scatter\"},{\"line\":{\"color\":\"rgba(55, 128, 191, 0.7999999999999998)\",\"dash\":\"solid\",\"shape\":\"linear\",\"width\":1.3},\"mode\":\"lines\",\"name\":\"Chef Salad\",\"text\":\"\",\"x\":[-0.6931471805599453,-0.5108256237659907,-0.35667494393873245,-0.22314355131420968,-0.10536051565782628,0.0,0.09531017980432495,0.1823215567939546,0.26236426446749106,0.33647223662121284,0.4054651081081644],\"y\":[7.232704187166444e-09,4.7663974875527835e-09,3.055447445938273e-09,1.7862047380780168e-09,7.978018242852951e-10,0.0,-6.614070404664819e-10,-1.2210211738044467e-09,-1.7022415713718597e-09,-2.1213203438581682e-09,-2.4899000670065036e-09],\"type\":\"scatter\"},{\"line\":{\"color\":\"rgba(50, 171, 96, 0.7999999999999998)\",\"dash\":\"solid\",\"shape\":\"linear\",\"width\":1.3},\"mode\":\"lines\",\"name\":\"Tropical Fruit Bowl\",\"text\":\"\",\"x\":[-0.6931471805599453,-0.5108256237659907,-0.35667494393873245,-0.22314355131420968,-0.10536051565782628,0.0,0.09531017980432495,0.1823215567939546,0.26236426446749106,0.33647223662121284,0.4054651081081644],\"y\":[-1.976114735831801e-08,-1.4119212343488818e-08,-2.3696151211095064e-08,-2.2495785154574086e-08,-9.014173781401065e-09,0.0,-6.785014018110222e-09,1.6852570436053778e-09,1.6745780621840215e-08,2.7644173900925612e-08,1.4149787019668865e-08],\"type\":\"scatter\"},{\"line\":{\"color\":\"rgba(128, 0, 128, 0.7999999999999998)\",\"dash\":\"solid\",\"shape\":\"linear\",\"width\":1.3},\"mode\":\"lines\",\"name\":\"Raspberry Chobani Greek Yogurt \",\"text\":\"\",\"x\":[-0.6931471805599453,-0.5108256237659907,-0.35667494393873245,-0.22314355131420968,-0.10536051565782628,0.0,0.09531017980432495,0.1823215567939546,0.26236426446749106,0.33647223662121284,0.4054651081081644],\"y\":[-1.8323401701626167e-09,-1.485035207019694e-09,-1.0765800479117553e-09,-6.983174041459614e-10,-3.403062276998219e-10,0.0,3.217728305508713e-10,6.224913915725411e-10,8.988139117828912e-10,1.1470107079775041e-09,1.3630423447300402e-09],\"type\":\"scatter\"},{\"line\":{\"color\":\"rgba(219, 64, 82, 0.7999999999999998)\",\"dash\":\"solid\",\"shape\":\"linear\",\"width\":1.3},\"mode\":\"lines\",\"name\":\"Strawberry Banana Naked Juice \",\"text\":\"\",\"x\":[-0.6931471805599453,-0.5108256237659907,-0.35667494393873245,-0.22314355131420968,-0.10536051565782628,0.0,0.09531017980432495,0.1823215567939546,0.26236426446749106,0.33647223662121284,0.4054651081081644],\"y\":[-0.0008492789486711798,-9.343150075073944e-09,-1.2278699132894004e-08,-8.903011478819287e-09,-4.711804624245017e-09,0.0,4.7454862149388165e-09,9.208464837108637e-09,1.3426724974963647e-08,1.6653202900121007e-08,1.861888581519911e-08],\"type\":\"scatter\"},{\"line\":{\"color\":\"rgba(0, 128, 128, 0.7999999999999998)\",\"dash\":\"solid\",\"shape\":\"linear\",\"width\":1.3},\"mode\":\"lines\",\"name\":\"Yerbamate\",\"text\":\"\",\"x\":[-0.6931471805599453,-0.5108256237659907,-0.35667494393873245,-0.22314355131420968,-0.10536051565782628,0.0,0.09531017980432495,0.1823215567939546,0.26236426446749106,0.33647223662121284,0.4054651081081644],\"y\":[-0.004329729465711043,-0.0034621314597709386,-0.002595533989924605,-0.0017296354100123934,-0.000864444388817663,0.0,0.0008636948329787793,0.0017266416089723507,0.0025888439364682666,0.003450304055550604,0.004311023427788918],\"type\":\"scatter\"},{\"line\":{\"color\":\"rgba(255, 255, 51, 0.7999999999999998)\",\"dash\":\"solid\",\"shape\":\"linear\",\"width\":1.3},\"mode\":\"lines\",\"name\":\"Winter Chopped Salad\",\"text\":\"\",\"x\":[-0.6931471805599453,-0.5108256237659907,-0.35667494393873245,-0.22314355131420968,-0.10536051565782628,0.0,0.09531017980432495,0.1823215567939546,0.26236426446749106,0.33647223662121284,0.4054651081081644],\"y\":[6.851450494570515e-09,4.657735519752643e-09,3.0518114655437284e-09,1.8125820827834128e-09,8.191523012099952e-10,0.0,-6.900433560268963e-10,-1.2806065105437016e-09,-1.792603289637816e-09,-2.2406048153077967e-09,-2.635563215589762e-09],\"type\":\"scatter\"},{\"line\":{\"color\":\"rgba(128, 128, 0, 0.7999999999999998)\",\"dash\":\"solid\",\"shape\":\"linear\",\"width\":1.3},\"mode\":\"lines\",\"name\":\"Kale & Beets\",\"text\":\"\",\"x\":[-0.6931471805599453,-0.5108256237659907,-0.35667494393873245,-0.22314355131420968,-0.10536051565782628,0.0,0.09531017980432495,0.1823215567939546,0.26236426446749106,0.33647223662121284,0.4054651081081644],\"y\":[-0.0352181042043503,-0.008728194975987945,-2.3510697110193673e-08,-2.3669651630159608e-08,1.6907273084476014e-07,0.0,5.357470230864024e-09,-8.66206776727457e-09,-2.3793113651476065e-08,-2.3779478558097106e-08,-2.354566291904311e-08],\"type\":\"scatter\"},{\"line\":{\"color\":\"rgba(128, 128, 0, 0.7)\",\"dash\":\"solid\",\"shape\":\"linear\",\"width\":1.3},\"mode\":\"lines\",\"name\":\"Vegetable Cassoulet\",\"text\":\"\",\"x\":[-0.6931471805599453,-0.5108256237659907,-0.35667494393873245,-0.22314355131420968,-0.10536051565782628,0.0,0.09531017980432495,0.1823215567939546,0.26236426446749106,0.33647223662121284,0.4054651081081644],\"y\":[5.590925706758171e-09,3.80156572165218e-09,2.4883353124798897e-09,1.4726229114174108e-09,6.612825840280445e-10,0.0,-5.459435127688558e-10,-1.0002241262469646e-09,-1.3800938179573199e-09,-1.6989653032206192e-09,-1.967099152169925e-09],\"type\":\"scatter\"},{\"line\":{\"color\":\"rgba(251, 128, 114, 0.7)\",\"dash\":\"solid\",\"shape\":\"linear\",\"width\":1.3},\"mode\":\"lines\",\"name\":\"Roast Chicken Breast\",\"text\":\"\",\"x\":[-0.6931471805599453,-0.5108256237659907,-0.35667494393873245,-0.22314355131420968,-0.10536051565782628,0.0,0.09531017980432495,0.1823215567939546,0.26236426446749106,0.33647223662121284,0.4054651081081644],\"y\":[6.841839515956743e-09,5.0344535080629765e-09,3.4988911706685784e-09,2.175329691787986e-09,1.019896389044584e-09,0.0,-9.090622703180338e-10,-1.726296440620742e-09,-2.4663039418941595e-09,-3.1407407834943164e-09,-3.75879306165108e-09],\"type\":\"scatter\"},{\"line\":{\"color\":\"rgba(128, 177, 211, 0.7)\",\"dash\":\"solid\",\"shape\":\"linear\",\"width\":1.3},\"mode\":\"lines\",\"name\":\"King Salmon & French Lentils\",\"text\":\"\",\"x\":[-0.6931471805599453,-0.5108256237659907,-0.35667494393873245,-0.22314355131420968,-0.10536051565782628,0.0,0.09531017980432495,0.1823215567939546,0.26236426446749106,0.33647223662121284,0.4054651081081644],\"y\":[1.790624623686988e-07,2.892699859996709e-08,8.079208410128145e-10,4.924363138267724e-10,2.9306355077496653e-09,0.0,-6.98635840510521e-09,-1.4177325747289699e-08,-2.1708238886731864e-08,-2.284364501449453e-08,-2.351583300202635e-08],\"type\":\"scatter\"},{\"line\":{\"color\":\"rgba(255, 153, 51, 0.7)\",\"dash\":\"solid\",\"shape\":\"linear\",\"width\":1.3},\"mode\":\"lines\",\"name\":\"Beef Bourguignon\",\"text\":\"\",\"x\":[-0.6931471805599453,-0.5108256237659907,-0.35667494393873245,-0.22314355131420968,-0.10536051565782628,0.0,0.09531017980432495,0.1823215567939546,0.26236426446749106,0.33647223662121284,0.4054651081081644],\"y\":[4.507287422018279e-09,3.0920297385764373e-09,1.9911796636123017e-09,1.1460539177759792e-09,5.002300794557727e-10,0.0,-4.031357470881589e-10,-7.518519143429937e-10,-1.081955747802792e-09,-1.422456264900396e-09,-1.7957182423835955e-09],\"type\":\"scatter\"},{\"line\":{\"color\":\"rgba(55, 128, 191, 0.7)\",\"dash\":\"solid\",\"shape\":\"linear\",\"width\":1.3},\"mode\":\"lines\",\"name\":\"Chocolate Cake\",\"text\":\"\",\"x\":[-0.6931471805599453,-0.5108256237659907,-0.35667494393873245,-0.22314355131420968,-0.10536051565782628,0.0,0.09531017980432495,0.1823215567939546,0.26236426446749106,0.33647223662121284,0.4054651081081644],\"y\":[-8.128267647572144e-09,-6.396524663750642e-09,-4.627089833111541e-09,-2.8980849984067434e-09,-1.31307409476255e-09,0.0,8.921554602209668e-10,1.478907661905934e-09,2.462297696037017e-09,3.1295468389970727e-09,3.4024496495658574e-09],\"type\":\"scatter\"},{\"line\":{\"color\":\"rgba(50, 171, 96, 0.7)\",\"dash\":\"solid\",\"shape\":\"linear\",\"width\":1.3},\"mode\":\"lines\",\"name\":\"Steamed Veggie Bun\",\"text\":\"\",\"x\":[-0.6931471805599453,-0.5108256237659907,-0.35667494393873245,-0.22314355131420968,-0.10536051565782628,0.0,0.09531017980432495,0.1823215567939546,0.26236426446749106,0.33647223662121284,0.4054651081081644],\"y\":[-0.04547010866733307,-0.03215731112054788,-0.019019203095762237,-0.008469679708846352,-0.00047221012424442403,0.0,2.1518122607611108e-08,5.700563969367566e-08,8.897947404922655e-08,1.1925146980503718e-07,1.4758989607111938e-07],\"type\":\"scatter\"},{\"line\":{\"color\":\"rgba(128, 0, 128, 0.7)\",\"dash\":\"solid\",\"shape\":\"linear\",\"width\":1.3},\"mode\":\"lines\",\"name\":\"Steamed Chicken Bun\",\"text\":\"\",\"x\":[-0.6931471805599453,-0.5108256237659907,-0.35667494393873245,-0.22314355131420968,-0.10536051565782628,0.0,0.09531017980432495,0.1823215567939546,0.26236426446749106,0.33647223662121284,0.4054651081081644],\"y\":[4.300872981832196e-09,3.147717637139476e-09,2.1880799370641738e-09,1.3667647004819229e-09,6.462370636527654e-10,0.0,-5.914134739243541e-10,-1.1425570496247554e-09,-1.664849481884138e-09,-2.0780487352487313e-09,-2.262084078168972e-09],\"type\":\"scatter\"},{\"line\":{\"color\":\"rgba(219, 64, 82, 0.7)\",\"dash\":\"solid\",\"shape\":\"linear\",\"width\":1.3},\"mode\":\"lines\",\"name\":\"Veggie Spring Rolls\",\"text\":\"\",\"x\":[-0.6931471805599453,-0.5108256237659907,-0.35667494393873245,-0.22314355131420968,-0.10536051565782628,0.0,0.09531017980432495,0.1823215567939546,0.26236426446749106,0.33647223662121284,0.4054651081081644],\"y\":[4.616811589031711e-09,3.43016658932554e-09,2.4028108362992815e-09,1.503585699260501e-09,7.08684222165761e-10,0.0,-6.368098272953404e-10,-1.2129471878703368e-09,-1.7373652531731216e-09,-2.217547592458683e-09,-2.659292567469409e-09],\"type\":\"scatter\"},{\"line\":{\"color\":\"rgba(0, 128, 128, 0.7)\",\"dash\":\"solid\",\"shape\":\"linear\",\"width\":1.3},\"mode\":\"lines\",\"name\":\"Vietnamese Coffee\",\"text\":\"\",\"x\":[-0.6931471805599453,-0.5108256237659907,-0.35667494393873245,-0.22314355131420968,-0.10536051565782628,0.0,0.09531017980432495,0.1823215567939546,0.26236426446749106,0.33647223662121284,0.4054651081081644],\"y\":[-0.004696792059532419,-0.00041823911765944034,-2.377514535752896e-08,2.4143099894280437e-08,4.225146668046781e-09,0.0,-2.9759438291293534e-09,-5.347748702621648e-09,-7.097901847040988e-09,-8.397363173437368e-09,-9.385587573431523e-09],\"type\":\"scatter\"},{\"line\":{\"color\":\"rgba(255, 255, 51, 0.7)\",\"dash\":\"solid\",\"shape\":\"linear\",\"width\":1.3},\"mode\":\"lines\",\"name\":\"Vegan Pho \",\"text\":\"\",\"x\":[-0.6931471805599453,-0.5108256237659907,-0.35667494393873245,-0.22314355131420968,-0.10536051565782628,0.0,0.09531017980432495,0.1823215567939546,0.26236426446749106,0.33647223662121284,0.4054651081081644],\"y\":[8.589852082629274e-08,9.545543865301783e-09,4.332402205372426e-09,1.18095554859535e-08,6.5866527570585926e-09,0.0,-7.660272445727556e-09,-1.4137479509304875e-08,-2.218549979467527e-08,-2.2603530636209045e-08,-2.3400782030575476e-08],\"type\":\"scatter\"},{\"line\":{\"color\":\"rgba(255, 255, 51, 0.5999999999999999)\",\"dash\":\"solid\",\"shape\":\"linear\",\"width\":1.3},\"mode\":\"lines\",\"name\":\"Hibiscus Lemonade\",\"text\":\"\",\"x\":[-0.6931471805599453,-0.5108256237659907,-0.35667494393873245,-0.22314355131420968,-0.10536051565782628,0.0,0.09531017980432495,0.1823215567939546,0.26236426446749106,0.33647223662121284,0.4054651081081644],\"y\":[-1.5235113182635867e-09,-1.2002360224014613e-09,-8.85036710976686e-10,-5.791127579158205e-10,-2.8368252195792095e-10,0.0,2.704036993950948e-10,5.261104883695288e-10,7.655398534379309e-10,9.872191947935854e-10,1.1894598632298515e-09],\"type\":\"scatter\"},{\"line\":{\"color\":\"rgba(128, 128, 0, 0.5999999999999999)\",\"dash\":\"solid\",\"shape\":\"linear\",\"width\":1.3},\"mode\":\"lines\",\"name\":\"Breakfast Burrito\",\"text\":\"\",\"x\":[-0.6931471805599453,-0.5108256237659907,-0.35667494393873245,-0.22314355131420968,-0.10536051565782628,0.0,0.09531017980432495,0.1823215567939546,0.26236426446749106,0.33647223662121284,0.4054651081081644],\"y\":[-0.032178491605200324,-0.005077656643689929,1.9245996121052168e-07,4.647324350607272e-08,1.195636804631629e-08,0.0,-5.756223958511029e-09,-9.142452392522187e-09,-1.1863460284571773e-08,-1.4168287421518126e-08,-1.62069149415227e-08],\"type\":\"scatter\"},{\"line\":{\"color\":\"rgba(251, 128, 114, 0.5999999999999999)\",\"dash\":\"solid\",\"shape\":\"linear\",\"width\":1.3},\"mode\":\"lines\",\"name\":\"Bacon Burrito\",\"text\":\"\",\"x\":[-0.6931471805599453,-0.5108256237659907,-0.35667494393873245,-0.22314355131420968,-0.10536051565782628,0.0,0.09531017980432495,0.1823215567939546,0.26236426446749106,0.33647223662121284,0.4054651081081644],\"y\":[-2.1147032015944152e-08,-1.233149057143144e-08,-9.10370916132299e-09,-5.645612659981643e-09,-2.3874864336271762e-09,0.0,1.165739726292063e-09,2.632605907580664e-09,2.897973856683404e-09,1.9127075460727344e-09,-8.791044562839737e-10],\"type\":\"scatter\"},{\"line\":{\"color\":\"rgba(128, 177, 211, 0.5999999999999999)\",\"dash\":\"solid\",\"shape\":\"linear\",\"width\":1.3},\"mode\":\"lines\",\"name\":\"Turkey Sausage Burrito \",\"text\":\"\",\"x\":[-0.6931471805599453,-0.5108256237659907,-0.35667494393873245,-0.22314355131420968,-0.10536051565782628,0.0,0.09531017980432495,0.1823215567939546,0.26236426446749106,0.33647223662121284,0.4054651081081644],\"y\":[6.268575860949406e-09,4.506341512005562e-09,3.070092397811249e-09,1.8759784819078476e-09,8.66287707859154e-10,0.0,-7.528903059387068e-10,-1.414306561754273e-09,-2.0012439503377184e-09,-2.526569179289613e-09,-3.000530606261568e-09],\"type\":\"scatter\"},{\"line\":{\"color\":\"rgba(255, 153, 51, 0.5999999999999999)\",\"dash\":\"solid\",\"shape\":\"linear\",\"width\":1.3},\"mode\":\"lines\",\"name\":\"Breakfast Egg Croissant \",\"text\":\"\",\"x\":[-0.6931471805599453,-0.5108256237659907,-0.35667494393873245,-0.22314355131420968,-0.10536051565782628,0.0,0.09531017980432495,0.1823215567939546,0.26236426446749106,0.33647223662121284,0.4054651081081644],\"y\":[-0.03157461464458569,-0.010013605746208005,-2.3788261643676114e-08,-2.373209112965591e-08,-4.992966497171897e-09,0.0,5.755042521247656e-08,2.8090189736923376e-07,-2.0028567338691267e-08,3.77560680031614e-08,-7.862424409133234e-09],\"type\":\"scatter\"},{\"line\":{\"color\":\"rgba(55, 128, 191, 0.5999999999999999)\",\"dash\":\"solid\",\"shape\":\"linear\",\"width\":1.3},\"mode\":\"lines\",\"name\":\"Bacon Croissant \",\"text\":\"\",\"x\":[-0.6931471805599453,-0.5108256237659907,-0.35667494393873245,-0.22314355131420968,-0.10536051565782628,0.0,0.09531017980432495,0.1823215567939546,0.26236426446749106,0.33647223662121284,0.4054651081081644],\"y\":[6.94260204639949e-10,4.925531092889055e-10,3.3054137199650084e-10,1.992170872512648e-10,9.124190291781655e-11,0.0,-8.013478769762997e-11,-1.5424284073385857e-10,-2.26889174141025e-10,-3.0240610020680367e-10,-3.8471437154480936e-10],\"type\":\"scatter\"},{\"line\":{\"color\":\"rgba(50, 171, 96, 0.5999999999999999)\",\"dash\":\"solid\",\"shape\":\"linear\",\"width\":1.3},\"mode\":\"lines\",\"name\":\"Turkey Saussage Croissant \",\"text\":\"\",\"x\":[-0.6931471805599453,-0.5108256237659907,-0.35667494393873245,-0.22314355131420968,-0.10536051565782628,0.0,0.09531017980432495,0.1823215567939546,0.26236426446749106,0.33647223662121284,0.4054651081081644],\"y\":[3.50131035269906e-11,-5.7425175725876476e-12,-2.4867441439678226e-11,-2.8142044250896917e-11,-1.9077628366130816e-11,0.0,2.740385696105218e-11,6.203992874794405e-11,1.0301337560216883e-10,1.4976864192150844e-10,2.01608729690433e-10],\"type\":\"scatter\"},{\"line\":{\"color\":\"rgba(128, 0, 128, 0.5999999999999999)\",\"dash\":\"solid\",\"shape\":\"linear\",\"width\":1.3},\"mode\":\"lines\",\"name\":\"Hash Brown Patties\",\"text\":\"\",\"x\":[-0.6931471805599453,-0.5108256237659907,-0.35667494393873245,-0.22314355131420968,-0.10536051565782628,0.0,0.09531017980432495,0.1823215567939546,0.26236426446749106,0.33647223662121284,0.4054651081081644],\"y\":[-0.011213559685690813,-0.005149773889897025,-0.0003565606600122221,-1.978861138991047e-08,-2.2375990866284012e-08,0.0,2.9033572150558495e-07,2.4101996158688307e-07,1.1475096547392764e-07,-2.1656518701919073e-08,-2.217633845611746e-08],\"type\":\"scatter\"},{\"line\":{\"color\":\"rgba(219, 64, 82, 0.5999999999999999)\",\"dash\":\"solid\",\"shape\":\"linear\",\"width\":1.3},\"mode\":\"lines\",\"name\":\"Small Fruit Cup\",\"text\":\"\",\"x\":[-0.6931471805599453,-0.5108256237659907,-0.35667494393873245,-0.22314355131420968,-0.10536051565782628,0.0,0.09531017980432495,0.1823215567939546,0.26236426446749106,0.33647223662121284,0.4054651081081644],\"y\":[-1.9852856777972147e-08,-4.49055649229985e-09,-3.5471464717346423e-09,-2.440544103124397e-09,-1.2076081253384527e-09,0.0,9.151648323855306e-10,2.541694851355224e-09,4.1611844994202805e-09,5.287687829156447e-09,4.938417218510335e-09],\"type\":\"scatter\"},{\"line\":{\"color\":\"rgba(0, 128, 128, 0.5999999999999999)\",\"dash\":\"solid\",\"shape\":\"linear\",\"width\":1.3},\"mode\":\"lines\",\"name\":\"Philly Cheesesteak\",\"text\":\"\",\"x\":[-0.6931471805599453,-0.5108256237659907,-0.35667494393873245,-0.22314355131420968,-0.10536051565782628,0.0,0.09531017980432495,0.1823215567939546,0.26236426446749106,0.33647223662121284,0.4054651081081644],\"y\":[4.919869388663162e-09,3.615444159735968e-09,2.5115540726696446e-09,1.561784478300571e-09,7.328142534547823e-10,0.0,-6.553622091603256e-10,-1.2472810569937093e-09,-1.786983007610197e-09,-2.283239822040494e-09,-2.7431097431183122e-09],\"type\":\"scatter\"},{\"line\":{\"color\":\"rgba(0, 128, 128, 0.49999999999999983)\",\"dash\":\"solid\",\"shape\":\"linear\",\"width\":1.3},\"mode\":\"lines\",\"name\":\"Cheeseburger\",\"text\":\"\",\"x\":[-0.6931471805599453,-0.5108256237659907,-0.35667494393873245,-0.22314355131420968,-0.10536051565782628,0.0,0.09531017980432495,0.1823215567939546,0.26236426446749106,0.33647223662121284,0.4054651081081644],\"y\":[1.5666912210770637e-10,1.0315925890758953e-10,6.79396539004187e-11,4.342948223173889e-11,2.2665869181280474e-11,0.0,-2.97810665021985e-11,-7.122569201354869e-11,-1.2858047960522899e-10,-2.0575152694831168e-10,4.012346010994511e-13],\"type\":\"scatter\"},{\"line\":{\"color\":\"rgba(255, 255, 51, 0.49999999999999983)\",\"dash\":\"solid\",\"shape\":\"linear\",\"width\":1.3},\"mode\":\"lines\",\"name\":\"Beyond Burger\",\"text\":\"\",\"x\":[-0.6931471805599453,-0.5108256237659907,-0.35667494393873245,-0.22314355131420968,-0.10536051565782628,0.0,0.09531017980432495,0.1823215567939546,0.26236426446749106,0.33647223662121284,0.4054651081081644],\"y\":[-2.376565239533125e-08,2.2900709732778348e-08,5.715230272695389e-09,2.620305746723148e-09,4.2131120805428656e-10,0.0,-1.3269597651721686e-09,-3.6671229453681357e-09,-6.47808087050849e-09,-8.656615906042635e-09,-1.1004786698066695e-08],\"type\":\"scatter\"},{\"line\":{\"color\":\"rgba(128, 128, 0, 0.49999999999999983)\",\"dash\":\"solid\",\"shape\":\"linear\",\"width\":1.3},\"mode\":\"lines\",\"name\":\"Fried Chicken Sandwhich\",\"text\":\"\",\"x\":[-0.6931471805599453,-0.5108256237659907,-0.35667494393873245,-0.22314355131420968,-0.10536051565782628,0.0,0.09531017980432495,0.1823215567939546,0.26236426446749106,0.33647223662121284,0.4054651081081644],\"y\":[-0.1944138982925052,-0.1444483488321517,-0.09696158196624277,-0.051627949680436526,-0.02167807595855725,0.0,0.01815791883940444,0.02496440792744806,0.024964393587192053,0.02496438966035341,0.024964390071060903],\"type\":\"scatter\"},{\"line\":{\"color\":\"rgba(251, 128, 114, 0.49999999999999983)\",\"dash\":\"solid\",\"shape\":\"linear\",\"width\":1.3},\"mode\":\"lines\",\"name\":\"Salmon and Fennel Slaw Sandwhich\",\"text\":\"\",\"x\":[-0.6931471805599453,-0.5108256237659907,-0.35667494393873245,-0.22314355131420968,-0.10536051565782628,0.0,0.09531017980432495,0.1823215567939546,0.26236426446749106,0.33647223662121284,0.4054651081081644],\"y\":[1.5412550672409508e-08,8.640318867468107e-09,4.938305308030005e-09,2.7819027043237377e-09,1.2841059318728797e-09,0.0,-1.1734513367890779e-09,-1.2228423836562673e-09,-1.3482285297279666e-09,-1.6083111522179675e-09,-2.0366157669959914e-09],\"type\":\"scatter\"},{\"line\":{\"color\":\"rgba(128, 177, 211, 0.49999999999999983)\",\"dash\":\"solid\",\"shape\":\"linear\",\"width\":1.3},\"mode\":\"lines\",\"name\":\"Mapo Tofu Bowl\",\"text\":\"\",\"x\":[-0.6931471805599453,-0.5108256237659907,-0.35667494393873245,-0.22314355131420968,-0.10536051565782628,0.0,0.09531017980432495,0.1823215567939546,0.26236426446749106,0.33647223662121284,0.4054651081081644],\"y\":[2.8167990122914636e-09,8.748353149183018e-10,4.002576048370604e-12,-1.6868972886642856e-10,-5.6536220151492405e-11,0.0,-3.03934433222966e-10,2.3964163986246862e-11,2.7972268941663013e-10,1.4500778354801255e-10,-4.665065002052006e-10],\"type\":\"scatter\"},{\"line\":{\"color\":\"rgba(255, 153, 51, 0.49999999999999983)\",\"dash\":\"solid\",\"shape\":\"linear\",\"width\":1.3},\"mode\":\"lines\",\"name\":\"Salmon Larb Bowl\",\"text\":\"\",\"x\":[-0.6931471805599453,-0.5108256237659907,-0.35667494393873245,-0.22314355131420968,-0.10536051565782628,0.0,0.09531017980432495,0.1823215567939546,0.26236426446749106,0.33647223662121284,0.4054651081081644],\"y\":[0.0,0.0,0.0,0.0,0.0,0.0,0.0,0.0,0.0,0.0,0.0],\"type\":\"scatter\"},{\"line\":{\"color\":\"rgba(55, 128, 191, 0.49999999999999983)\",\"dash\":\"solid\",\"shape\":\"linear\",\"width\":1.3},\"mode\":\"lines\",\"name\":\"Buffalo Chicken Salad\",\"text\":\"\",\"x\":[-0.6931471805599453,-0.5108256237659907,-0.35667494393873245,-0.22314355131420968,-0.10536051565782628,0.0,0.09531017980432495,0.1823215567939546,0.26236426446749106,0.33647223662121284,0.4054651081081644],\"y\":[1.2645498568257311e-08,8.595824237649058e-09,5.604313886137184e-09,3.307120571920832e-09,1.4852499219470079e-09,0.0,-1.2399632439623968e-09,-2.2967948680460913e-09,-3.214105320395379e-09,-4.02312062251975e-09,-4.7467120347057625e-09],\"type\":\"scatter\"},{\"line\":{\"color\":\"rgba(50, 171, 96, 0.49999999999999983)\",\"dash\":\"solid\",\"shape\":\"linear\",\"width\":1.3},\"mode\":\"lines\",\"name\":\"California Greens Salad\",\"text\":\"\",\"x\":[-0.6931471805599453,-0.5108256237659907,-0.35667494393873245,-0.22314355131420968,-0.10536051565782628,0.0,0.09531017980432495,0.1823215567939546,0.26236426446749106,0.33647223662121284,0.4054651081081644],\"y\":[3.815700615949513e-08,1.8005422990347504e-08,9.756830185034428e-09,5.174662018814951e-09,2.1816559646131233e-09,0.0,-1.7225542118651847e-09,-2.6573243640861217e-09,-3.2162244030892942e-09,-3.6973969510043014e-09,-4.125397698633997e-09],\"type\":\"scatter\"},{\"line\":{\"color\":\"rgba(128, 0, 128, 0.49999999999999983)\",\"dash\":\"solid\",\"shape\":\"linear\",\"width\":1.3},\"mode\":\"lines\",\"name\":\"Buffalo Chicken Loaded Fries\",\"text\":\"\",\"x\":[-0.6931471805599453,-0.5108256237659907,-0.35667494393873245,-0.22314355131420968,-0.10536051565782628,0.0,0.09531017980432495,0.1823215567939546,0.26236426446749106,0.33647223662121284,0.4054651081081644],\"y\":[6.9194063572614954e-09,5.2742314820798425e-09,3.7839669104217804e-09,2.4213970799096993e-09,1.1654845970413015e-09,0.0,-1.087918311585313e-09,-2.108359489218982e-09,-3.06944581334519e-09,-3.9777003991999134e-09,-4.838484180584129e-09],\"type\":\"scatter\"},{\"line\":{\"color\":\"rgba(219, 64, 82, 0.49999999999999983)\",\"dash\":\"solid\",\"shape\":\"linear\",\"width\":1.3},\"mode\":\"lines\",\"name\":\"Cross Cut Fries\",\"text\":\"\",\"x\":[-0.6931471805599453,-0.5108256237659907,-0.35667494393873245,-0.22314355131420968,-0.10536051565782628,0.0,0.09531017980432495,0.1823215567939546,0.26236426446749106,0.33647223662121284,0.4054651081081644],\"y\":[4.079450110217614e-10,3.052700314288071e-10,2.1693358218533685e-10,1.388817949436054e-10,6.770783933289269e-11,0.0,-6.679934383636518e-11,-1.353328560418902e-10,-2.07623918079729e-10,-2.858663306479805e-10,-3.7190450725953575e-10],\"type\":\"scatter\"},{\"line\":{\"color\":\"rgba(219, 64, 82, 0.39999999999999974)\",\"dash\":\"solid\",\"shape\":\"linear\",\"width\":1.3},\"mode\":\"lines\",\"name\":\"Side Green Salad\",\"text\":\"\",\"x\":[-0.6931471805599453,-0.5108256237659907,-0.35667494393873245,-0.22314355131420968,-0.10536051565782628,0.0,0.09531017980432495,0.1823215567939546,0.26236426446749106,0.33647223662121284,0.4054651081081644],\"y\":[0.0,0.0,0.0,0.0,0.0,0.0,0.0,0.0,0.0,0.0,0.0],\"type\":\"scatter\"},{\"line\":{\"color\":\"rgba(0, 128, 128, 0.39999999999999974)\",\"dash\":\"solid\",\"shape\":\"linear\",\"width\":1.3},\"mode\":\"lines\",\"name\":\"Large Fruit Salad\",\"text\":\"\",\"x\":[-0.6931471805599453,-0.5108256237659907,-0.35667494393873245,-0.22314355131420968,-0.10536051565782628,0.0,0.09531017980432495,0.1823215567939546,0.26236426446749106,0.33647223662121284,0.4054651081081644],\"y\":[-1.2841894741234295e-08,-1.162929748156009e-08,-9.741044018889121e-09,-6.929878583891974e-09,-3.491069328608089e-09,0.0,2.2439727828474378e-09,4.564968836956424e-09,5.283715229150731e-09,3.2890692337783817e-09,-2.8245926748583702e-09],\"type\":\"scatter\"},{\"line\":{\"color\":\"rgba(255, 255, 51, 0.39999999999999974)\",\"dash\":\"solid\",\"shape\":\"linear\",\"width\":1.3},\"mode\":\"lines\",\"name\":\"Regular Coffee\",\"text\":\"\",\"x\":[-0.6931471805599453,-0.5108256237659907,-0.35667494393873245,-0.22314355131420968,-0.10536051565782628,0.0,0.09531017980432495,0.1823215567939546,0.26236426446749106,0.33647223662121284,0.4054651081081644],\"y\":[-2.1154497821853455e-08,-2.2695584780380825e-08,-6.209051514452415e-09,-3.80901821920754e-09,-1.6449326359009147e-09,0.0,9.33243704101818e-10,2.5964010907530854e-09,3.4984493019063236e-09,2.892467816631019e-09,4.4800296795611787e-10],\"type\":\"scatter\"},{\"line\":{\"color\":\"rgba(128, 128, 0, 0.39999999999999974)\",\"dash\":\"solid\",\"shape\":\"linear\",\"width\":1.3},\"mode\":\"lines\",\"name\":\"Decaf Coffee\",\"text\":\"\",\"x\":[-0.6931471805599453,-0.5108256237659907,-0.35667494393873245,-0.22314355131420968,-0.10536051565782628,0.0,0.09531017980432495,0.1823215567939546,0.26236426446749106,0.33647223662121284,0.4054651081081644],\"y\":[-0.0029461830169944182,-0.0023562514191814137,-0.0017666678069472362,-0.0011774315146837948,-0.0005885423181525477,0.0,0.0005881958871768764,0.0011760457975836212,0.0017635501889197711,0.002350709590098477,0.002937524698686256],\"type\":\"scatter\"},{\"line\":{\"color\":\"rgba(251, 128, 114, 0.39999999999999974)\",\"dash\":\"solid\",\"shape\":\"linear\",\"width\":1.3},\"mode\":\"lines\",\"name\":\"Orange Juice\",\"text\":\"\",\"x\":[-0.6931471805599453,-0.5108256237659907,-0.35667494393873245,-0.22314355131420968,-0.10536051565782628,0.0,0.09531017980432495,0.1823215567939546,0.26236426446749106,0.33647223662121284,0.4054651081081644],\"y\":[-0.01303247852644071,-0.010412363555423704,-0.007799097206543237,-0.0051926420162079455,-0.0025929625528864917,0.0,0.0025862562366819864,0.005165869972151255,0.007738726883917193,0.01030510161059519,0.012864817231870034],\"type\":\"scatter\"},{\"line\":{\"color\":\"rgba(128, 177, 211, 0.39999999999999974)\",\"dash\":\"solid\",\"shape\":\"linear\",\"width\":1.3},\"mode\":\"lines\",\"name\":\"Milk\",\"text\":\"\",\"x\":[-0.6931471805599453,-0.5108256237659907,-0.35667494393873245,-0.22314355131420968,-0.10536051565782628,0.0,0.09531017980432495,0.1823215567939546,0.26236426446749106,0.33647223662121284,0.4054651081081644],\"y\":[-0.007413400051807623,-0.005926296933977221,-0.004441416266454327,-0.0029587531395317535,-0.001478293162097926,0.0,0.001476224989338623,0.00295001778433647,0.0044217814847883116,0.005891382297008246,0.007358826533024606],\"type\":\"scatter\"},{\"line\":{\"color\":\"rgba(255, 153, 51, 0.39999999999999974)\",\"dash\":\"solid\",\"shape\":\"linear\",\"width\":1.3},\"mode\":\"lines\",\"name\":\"Rotisserie Tri Tip\",\"text\":\"\",\"x\":[-0.6931471805599453,-0.5108256237659907,-0.35667494393873245,-0.22314355131420968,-0.10536051565782628,0.0,0.09531017980432495,0.1823215567939546,0.26236426446749106,0.33647223662121284,0.4054651081081644],\"y\":[1.3926835580875724e-07,-2.2051506863847232e-08,-1.9029000445454777e-08,-1.532044680641801e-08,-9.59394557293085e-09,0.0,1.8712422325322463e-08,5.263514596653568e-08,1.0216494394842243e-07,1.599370219372383e-07,2.0803881962500235e-07],\"type\":\"scatter\"},{\"line\":{\"color\":\"rgba(55, 128, 191, 0.39999999999999974)\",\"dash\":\"solid\",\"shape\":\"linear\",\"width\":1.3},\"mode\":\"lines\",\"name\":\"Roasted Chicken Breast\",\"text\":\"\",\"x\":[-0.6931471805599453,-0.5108256237659907,-0.35667494393873245,-0.22314355131420968,-0.10536051565782628,0.0,0.09531017980432495,0.1823215567939546,0.26236426446749106,0.33647223662121284,0.4054651081081644],\"y\":[4.767434213808237e-09,3.5981539905020277e-09,2.554647823350519e-09,1.6172858594809906e-09,7.700522438957528e-10,0.0,-7.036895513212835e-10,-1.3496759274871228e-09,-1.9454566865301485e-09,-2.497225651608155e-09,-3.0102023141696574e-09],\"type\":\"scatter\"},{\"line\":{\"color\":\"rgba(50, 171, 96, 0.39999999999999974)\",\"dash\":\"solid\",\"shape\":\"linear\",\"width\":1.3},\"mode\":\"lines\",\"name\":\"Seared Salmon Fillet\",\"text\":\"\",\"x\":[-0.6931471805599453,-0.5108256237659907,-0.35667494393873245,-0.22314355131420968,-0.10536051565782628,0.0,0.09531017980432495,0.1823215567939546,0.26236426446749106,0.33647223662121284,0.4054651081081644],\"y\":[-2.363419787827498e-08,4.9192421126573344e-09,6.69031996293996e-08,1.0010889889818337e-09,2.5165823552584924e-08,0.0,-2.3144268658502102e-08,-2.3239678007804345e-08,-1.820229372697084e-08,-2.3590782494849564e-08,-3.0234933491490546e-09],\"type\":\"scatter\"},{\"line\":{\"color\":\"rgba(128, 0, 128, 0.39999999999999974)\",\"dash\":\"solid\",\"shape\":\"linear\",\"width\":1.3},\"mode\":\"lines\",\"name\":\"Seared Tofu\",\"text\":\"\",\"x\":[-0.6931471805599453,-0.5108256237659907,-0.35667494393873245,-0.22314355131420968,-0.10536051565782628,0.0,0.09531017980432495,0.1823215567939546,0.26236426446749106,0.33647223662121284,0.4054651081081644],\"y\":[-2.3788043817913498e-08,-2.3793890918634097e-08,3.1241342802122974e-08,8.76834112581394e-09,2.1177717335120805e-09,0.0,-1.115146420271935e-09,-1.696707886740816e-09,-1.9760000322204982e-09,-2.075769891463653e-09,-2.065436823707466e-09],\"type\":\"scatter\"},{\"line\":{\"color\":\"rgba(128, 0, 128, 0.2999999999999999)\",\"dash\":\"solid\",\"shape\":\"linear\",\"width\":1.3},\"mode\":\"lines\",\"name\":\"Salad Seasonal Greens\",\"text\":\"\",\"x\":[-0.6931471805599453,-0.5108256237659907,-0.35667494393873245,-0.22314355131420968,-0.10536051565782628,0.0,0.09531017980432495,0.1823215567939546,0.26236426446749106,0.33647223662121284,0.4054651081081644],\"y\":[0.0,0.0,0.0,0.0,0.0,0.0,0.0,0.0,0.0,0.0,0.0],\"type\":\"scatter\"},{\"line\":{\"color\":\"rgba(219, 64, 82, 0.2999999999999999)\",\"dash\":\"solid\",\"shape\":\"linear\",\"width\":1.3},\"mode\":\"lines\",\"name\":\"Garlic Fries\",\"text\":\"\",\"x\":[-0.6931471805599453,-0.5108256237659907,-0.35667494393873245,-0.22314355131420968,-0.10536051565782628,0.0,0.09531017980432495,0.1823215567939546,0.26236426446749106,0.33647223662121284,0.4054651081081644],\"y\":[-1.9633235119440056e-08,-5.135396553765606e-10,2.2921156057996735e-09,3.1119726747059158e-09,2.2089703375388026e-09,0.0,-1.9182393469842777e-09,-3.0180343825204824e-09,-4.304050680684459e-09,-5.6817617439127805e-09,-7.1276680367659335e-09],\"type\":\"scatter\"},{\"line\":{\"color\":\"rgba(0, 128, 128, 0.2999999999999999)\",\"dash\":\"solid\",\"shape\":\"linear\",\"width\":1.3},\"mode\":\"lines\",\"name\":\"Vegetable Medley\",\"text\":\"\",\"x\":[-0.6931471805599453,-0.5108256237659907,-0.35667494393873245,-0.22314355131420968,-0.10536051565782628,0.0,0.09531017980432495,0.1823215567939546,0.26236426446749106,0.33647223662121284,0.4054651081081644],\"y\":[-0.10425536511927966,-0.07855748498297994,-0.054020292994943826,-0.03301404774580341,-0.016370794523226,0.0,0.01610706336329716,0.031958818588811416,0.045357371012859304,0.05148510961400445,0.05352783266827476],\"type\":\"scatter\"},{\"line\":{\"color\":\"rgba(255, 255, 51, 0.2999999999999999)\",\"dash\":\"solid\",\"shape\":\"linear\",\"width\":1.3},\"mode\":\"lines\",\"name\":\"Heriloom Grains\",\"text\":\"\",\"x\":[-0.6931471805599453,-0.5108256237659907,-0.35667494393873245,-0.22314355131420968,-0.10536051565782628,0.0,0.09531017980432495,0.1823215567939546,0.26236426446749106,0.33647223662121284,0.4054651081081644],\"y\":[-0.04137122250868049,-0.019614251264334692,-0.003052636012112422,-5.3547025845735995e-09,2.8288771321434117e-10,0.0,6.515562956811512e-09,1.0857852389068526e-09,-2.037853273576257e-08,-2.0412912679800434e-08,2.8304413079104036e-08],\"type\":\"scatter\"},{\"line\":{\"color\":\"rgba(128, 128, 0, 0.2999999999999999)\",\"dash\":\"solid\",\"shape\":\"linear\",\"width\":1.3},\"mode\":\"lines\",\"name\":\"Brown Rice\",\"text\":\"\",\"x\":[-0.6931471805599453,-0.5108256237659907,-0.35667494393873245,-0.22314355131420968,-0.10536051565782628,0.0,0.09531017980432495,0.1823215567939546,0.26236426446749106,0.33647223662121284,0.4054651081081644],\"y\":[-1.4621140849465579e-08,-1.2484634071214634e-08,-1.002307875058074e-08,-6.829151822933065e-09,-3.3382033859592842e-09,0.0,2.4169846095313035e-09,4.247336695545961e-09,5.670921494079457e-09,5.692432509148561e-09,3.896581272269139e-09],\"type\":\"scatter\"}],                        {\"legend\":{\"bgcolor\":\"#F5F6F9\",\"font\":{\"color\":\"#4D5663\"}},\"paper_bgcolor\":\"#F5F6F9\",\"plot_bgcolor\":\"#F5F6F9\",\"template\":{\"data\":{\"barpolar\":[{\"marker\":{\"line\":{\"color\":\"#E5ECF6\",\"width\":0.5},\"pattern\":{\"fillmode\":\"overlay\",\"size\":10,\"solidity\":0.2}},\"type\":\"barpolar\"}],\"bar\":[{\"error_x\":{\"color\":\"#2a3f5f\"},\"error_y\":{\"color\":\"#2a3f5f\"},\"marker\":{\"line\":{\"color\":\"#E5ECF6\",\"width\":0.5},\"pattern\":{\"fillmode\":\"overlay\",\"size\":10,\"solidity\":0.2}},\"type\":\"bar\"}],\"carpet\":[{\"aaxis\":{\"endlinecolor\":\"#2a3f5f\",\"gridcolor\":\"white\",\"linecolor\":\"white\",\"minorgridcolor\":\"white\",\"startlinecolor\":\"#2a3f5f\"},\"baxis\":{\"endlinecolor\":\"#2a3f5f\",\"gridcolor\":\"white\",\"linecolor\":\"white\",\"minorgridcolor\":\"white\",\"startlinecolor\":\"#2a3f5f\"},\"type\":\"carpet\"}],\"choropleth\":[{\"colorbar\":{\"outlinewidth\":0,\"ticks\":\"\"},\"type\":\"choropleth\"}],\"contourcarpet\":[{\"colorbar\":{\"outlinewidth\":0,\"ticks\":\"\"},\"type\":\"contourcarpet\"}],\"contour\":[{\"colorbar\":{\"outlinewidth\":0,\"ticks\":\"\"},\"colorscale\":[[0.0,\"#0d0887\"],[0.1111111111111111,\"#46039f\"],[0.2222222222222222,\"#7201a8\"],[0.3333333333333333,\"#9c179e\"],[0.4444444444444444,\"#bd3786\"],[0.5555555555555556,\"#d8576b\"],[0.6666666666666666,\"#ed7953\"],[0.7777777777777778,\"#fb9f3a\"],[0.8888888888888888,\"#fdca26\"],[1.0,\"#f0f921\"]],\"type\":\"contour\"}],\"heatmapgl\":[{\"colorbar\":{\"outlinewidth\":0,\"ticks\":\"\"},\"colorscale\":[[0.0,\"#0d0887\"],[0.1111111111111111,\"#46039f\"],[0.2222222222222222,\"#7201a8\"],[0.3333333333333333,\"#9c179e\"],[0.4444444444444444,\"#bd3786\"],[0.5555555555555556,\"#d8576b\"],[0.6666666666666666,\"#ed7953\"],[0.7777777777777778,\"#fb9f3a\"],[0.8888888888888888,\"#fdca26\"],[1.0,\"#f0f921\"]],\"type\":\"heatmapgl\"}],\"heatmap\":[{\"colorbar\":{\"outlinewidth\":0,\"ticks\":\"\"},\"colorscale\":[[0.0,\"#0d0887\"],[0.1111111111111111,\"#46039f\"],[0.2222222222222222,\"#7201a8\"],[0.3333333333333333,\"#9c179e\"],[0.4444444444444444,\"#bd3786\"],[0.5555555555555556,\"#d8576b\"],[0.6666666666666666,\"#ed7953\"],[0.7777777777777778,\"#fb9f3a\"],[0.8888888888888888,\"#fdca26\"],[1.0,\"#f0f921\"]],\"type\":\"heatmap\"}],\"histogram2dcontour\":[{\"colorbar\":{\"outlinewidth\":0,\"ticks\":\"\"},\"colorscale\":[[0.0,\"#0d0887\"],[0.1111111111111111,\"#46039f\"],[0.2222222222222222,\"#7201a8\"],[0.3333333333333333,\"#9c179e\"],[0.4444444444444444,\"#bd3786\"],[0.5555555555555556,\"#d8576b\"],[0.6666666666666666,\"#ed7953\"],[0.7777777777777778,\"#fb9f3a\"],[0.8888888888888888,\"#fdca26\"],[1.0,\"#f0f921\"]],\"type\":\"histogram2dcontour\"}],\"histogram2d\":[{\"colorbar\":{\"outlinewidth\":0,\"ticks\":\"\"},\"colorscale\":[[0.0,\"#0d0887\"],[0.1111111111111111,\"#46039f\"],[0.2222222222222222,\"#7201a8\"],[0.3333333333333333,\"#9c179e\"],[0.4444444444444444,\"#bd3786\"],[0.5555555555555556,\"#d8576b\"],[0.6666666666666666,\"#ed7953\"],[0.7777777777777778,\"#fb9f3a\"],[0.8888888888888888,\"#fdca26\"],[1.0,\"#f0f921\"]],\"type\":\"histogram2d\"}],\"histogram\":[{\"marker\":{\"pattern\":{\"fillmode\":\"overlay\",\"size\":10,\"solidity\":0.2}},\"type\":\"histogram\"}],\"mesh3d\":[{\"colorbar\":{\"outlinewidth\":0,\"ticks\":\"\"},\"type\":\"mesh3d\"}],\"parcoords\":[{\"line\":{\"colorbar\":{\"outlinewidth\":0,\"ticks\":\"\"}},\"type\":\"parcoords\"}],\"pie\":[{\"automargin\":true,\"type\":\"pie\"}],\"scatter3d\":[{\"line\":{\"colorbar\":{\"outlinewidth\":0,\"ticks\":\"\"}},\"marker\":{\"colorbar\":{\"outlinewidth\":0,\"ticks\":\"\"}},\"type\":\"scatter3d\"}],\"scattercarpet\":[{\"marker\":{\"colorbar\":{\"outlinewidth\":0,\"ticks\":\"\"}},\"type\":\"scattercarpet\"}],\"scattergeo\":[{\"marker\":{\"colorbar\":{\"outlinewidth\":0,\"ticks\":\"\"}},\"type\":\"scattergeo\"}],\"scattergl\":[{\"marker\":{\"colorbar\":{\"outlinewidth\":0,\"ticks\":\"\"}},\"type\":\"scattergl\"}],\"scattermapbox\":[{\"marker\":{\"colorbar\":{\"outlinewidth\":0,\"ticks\":\"\"}},\"type\":\"scattermapbox\"}],\"scatterpolargl\":[{\"marker\":{\"colorbar\":{\"outlinewidth\":0,\"ticks\":\"\"}},\"type\":\"scatterpolargl\"}],\"scatterpolar\":[{\"marker\":{\"colorbar\":{\"outlinewidth\":0,\"ticks\":\"\"}},\"type\":\"scatterpolar\"}],\"scatter\":[{\"marker\":{\"colorbar\":{\"outlinewidth\":0,\"ticks\":\"\"}},\"type\":\"scatter\"}],\"scatterternary\":[{\"marker\":{\"colorbar\":{\"outlinewidth\":0,\"ticks\":\"\"}},\"type\":\"scatterternary\"}],\"surface\":[{\"colorbar\":{\"outlinewidth\":0,\"ticks\":\"\"},\"colorscale\":[[0.0,\"#0d0887\"],[0.1111111111111111,\"#46039f\"],[0.2222222222222222,\"#7201a8\"],[0.3333333333333333,\"#9c179e\"],[0.4444444444444444,\"#bd3786\"],[0.5555555555555556,\"#d8576b\"],[0.6666666666666666,\"#ed7953\"],[0.7777777777777778,\"#fb9f3a\"],[0.8888888888888888,\"#fdca26\"],[1.0,\"#f0f921\"]],\"type\":\"surface\"}],\"table\":[{\"cells\":{\"fill\":{\"color\":\"#EBF0F8\"},\"line\":{\"color\":\"white\"}},\"header\":{\"fill\":{\"color\":\"#C8D4E3\"},\"line\":{\"color\":\"white\"}},\"type\":\"table\"}]},\"layout\":{\"annotationdefaults\":{\"arrowcolor\":\"#2a3f5f\",\"arrowhead\":0,\"arrowwidth\":1},\"autotypenumbers\":\"strict\",\"coloraxis\":{\"colorbar\":{\"outlinewidth\":0,\"ticks\":\"\"}},\"colorscale\":{\"diverging\":[[0,\"#8e0152\"],[0.1,\"#c51b7d\"],[0.2,\"#de77ae\"],[0.3,\"#f1b6da\"],[0.4,\"#fde0ef\"],[0.5,\"#f7f7f7\"],[0.6,\"#e6f5d0\"],[0.7,\"#b8e186\"],[0.8,\"#7fbc41\"],[0.9,\"#4d9221\"],[1,\"#276419\"]],\"sequential\":[[0.0,\"#0d0887\"],[0.1111111111111111,\"#46039f\"],[0.2222222222222222,\"#7201a8\"],[0.3333333333333333,\"#9c179e\"],[0.4444444444444444,\"#bd3786\"],[0.5555555555555556,\"#d8576b\"],[0.6666666666666666,\"#ed7953\"],[0.7777777777777778,\"#fb9f3a\"],[0.8888888888888888,\"#fdca26\"],[1.0,\"#f0f921\"]],\"sequentialminus\":[[0.0,\"#0d0887\"],[0.1111111111111111,\"#46039f\"],[0.2222222222222222,\"#7201a8\"],[0.3333333333333333,\"#9c179e\"],[0.4444444444444444,\"#bd3786\"],[0.5555555555555556,\"#d8576b\"],[0.6666666666666666,\"#ed7953\"],[0.7777777777777778,\"#fb9f3a\"],[0.8888888888888888,\"#fdca26\"],[1.0,\"#f0f921\"]]},\"colorway\":[\"#636efa\",\"#EF553B\",\"#00cc96\",\"#ab63fa\",\"#FFA15A\",\"#19d3f3\",\"#FF6692\",\"#B6E880\",\"#FF97FF\",\"#FECB52\"],\"font\":{\"color\":\"#2a3f5f\"},\"geo\":{\"bgcolor\":\"white\",\"lakecolor\":\"white\",\"landcolor\":\"#E5ECF6\",\"showlakes\":true,\"showland\":true,\"subunitcolor\":\"white\"},\"hoverlabel\":{\"align\":\"left\"},\"hovermode\":\"closest\",\"mapbox\":{\"style\":\"light\"},\"paper_bgcolor\":\"white\",\"plot_bgcolor\":\"#E5ECF6\",\"polar\":{\"angularaxis\":{\"gridcolor\":\"white\",\"linecolor\":\"white\",\"ticks\":\"\"},\"bgcolor\":\"#E5ECF6\",\"radialaxis\":{\"gridcolor\":\"white\",\"linecolor\":\"white\",\"ticks\":\"\"}},\"scene\":{\"xaxis\":{\"backgroundcolor\":\"#E5ECF6\",\"gridcolor\":\"white\",\"gridwidth\":2,\"linecolor\":\"white\",\"showbackground\":true,\"ticks\":\"\",\"zerolinecolor\":\"white\"},\"yaxis\":{\"backgroundcolor\":\"#E5ECF6\",\"gridcolor\":\"white\",\"gridwidth\":2,\"linecolor\":\"white\",\"showbackground\":true,\"ticks\":\"\",\"zerolinecolor\":\"white\"},\"zaxis\":{\"backgroundcolor\":\"#E5ECF6\",\"gridcolor\":\"white\",\"gridwidth\":2,\"linecolor\":\"white\",\"showbackground\":true,\"ticks\":\"\",\"zerolinecolor\":\"white\"}},\"shapedefaults\":{\"line\":{\"color\":\"#2a3f5f\"}},\"ternary\":{\"aaxis\":{\"gridcolor\":\"white\",\"linecolor\":\"white\",\"ticks\":\"\"},\"baxis\":{\"gridcolor\":\"white\",\"linecolor\":\"white\",\"ticks\":\"\"},\"bgcolor\":\"#E5ECF6\",\"caxis\":{\"gridcolor\":\"white\",\"linecolor\":\"white\",\"ticks\":\"\"}},\"title\":{\"x\":0.05},\"xaxis\":{\"automargin\":true,\"gridcolor\":\"white\",\"linecolor\":\"white\",\"ticks\":\"\",\"title\":{\"standoff\":15},\"zerolinecolor\":\"white\",\"zerolinewidth\":2},\"yaxis\":{\"automargin\":true,\"gridcolor\":\"white\",\"linecolor\":\"white\",\"ticks\":\"\",\"title\":{\"standoff\":15},\"zerolinecolor\":\"white\",\"zerolinewidth\":2}}},\"title\":{\"font\":{\"color\":\"#4D5663\"}},\"xaxis\":{\"gridcolor\":\"#E1E5ED\",\"showgrid\":true,\"tickfont\":{\"color\":\"#4D5663\"},\"title\":{\"font\":{\"color\":\"#4D5663\"},\"text\":\"change in log price\"},\"zerolinecolor\":\"#E1E5ED\"},\"yaxis\":{\"gridcolor\":\"#E1E5ED\",\"showgrid\":true,\"tickfont\":{\"color\":\"#4D5663\"},\"title\":{\"font\":{\"color\":\"#4D5663\"},\"text\":\"change in log cost\"},\"zerolinecolor\":\"#E1E5ED\"}},                        {\"showLink\": true, \"linkText\": \"Export to plot.ly\", \"plotlyServerURL\": \"https://plot.ly\", \"responsive\": true}                    ).then(function(){\n",
       "                            \n",
       "var gd = document.getElementById('eff83056-94ab-48e2-83f4-ac74bfb1de44');\n",
       "var x = new MutationObserver(function (mutations, observer) {{\n",
       "        var display = window.getComputedStyle(gd).display;\n",
       "        if (!display || display === 'none') {{\n",
       "            console.log([gd, 'removed!']);\n",
       "            Plotly.purge(gd);\n",
       "            observer.disconnect();\n",
       "        }}\n",
       "}});\n",
       "\n",
       "// Listen for the removal of the full notebook cells\n",
       "var notebookContainer = gd.closest('#notebook-container');\n",
       "if (notebookContainer) {{\n",
       "    x.observe(notebookContainer, {childList: true});\n",
       "}}\n",
       "\n",
       "// Listen for the clearing of the current output cell\n",
       "var outputEl = gd.closest('.output');\n",
       "if (outputEl) {{\n",
       "    x.observe(outputEl, {childList: true});\n",
       "}}\n",
       "\n",
       "                        })                };                });            </script>        </div>"
      ]
     },
     "metadata": {},
     "output_type": "display_data"
    },
    {
     "name": "stdout",
     "output_type": "stream",
     "text": [
      "Effect of Price on Changes on in Females Off Campus's Substistence Diet Cost\n"
     ]
    },
    {
     "data": {
      "application/vnd.plotly.v1+json": {
       "config": {
        "linkText": "Export to plot.ly",
        "plotlyServerURL": "https://plot.ly",
        "showLink": true
       },
       "data": [
        {
         "line": {
          "color": "rgba(255, 153, 51, 1.0)",
          "dash": "solid",
          "shape": "linear",
          "width": 1.3
         },
         "mode": "lines",
         "name": "Wheat Flour",
         "text": "",
         "type": "scatter",
         "x": [
          -0.6931471805599453,
          -0.5108256237659907,
          -0.35667494393873245,
          -0.22314355131420968,
          -0.10536051565782628,
          0,
          0.09531017980432495,
          0.1823215567939546,
          0.26236426446749106,
          0.33647223662121284,
          0.4054651081081644
         ],
         "y": [
          -4.439026923917781e-11,
          9.623724039434672e-11,
          3.4444669333063304e-10,
          -3.1601843369363936e-10,
          -7.297640270120632e-11,
          0,
          -1.2984524567504538e-10,
          -5.573101981458433e-10,
          -2.9942326400564567e-10,
          -3.1750446721257085e-10,
          3.8167181353127515e-08
         ]
        },
        {
         "line": {
          "color": "rgba(55, 128, 191, 1.0)",
          "dash": "solid",
          "shape": "linear",
          "width": 1.3
         },
         "mode": "lines",
         "name": "Eggs",
         "text": "",
         "type": "scatter",
         "x": [
          -0.6931471805599453,
          -0.5108256237659907,
          -0.35667494393873245,
          -0.22314355131420968,
          -0.10536051565782628,
          0,
          0.09531017980432495,
          0.1823215567939546,
          0.26236426446749106,
          0.33647223662121284,
          0.4054651081081644
         ],
         "y": [
          -2.2667490109722374e-10,
          -2.660012210851836e-10,
          -2.2801538435406494e-11,
          -3.875011422924262e-11,
          9.414691248816895e-13,
          0,
          2.281930200328018e-11,
          -6.62803145703415e-12,
          -1.21460619340779e-11,
          -6.421840837085001e-11,
          -3.8255842938660477e-11
         ]
        },
        {
         "line": {
          "color": "rgba(50, 171, 96, 1.0)",
          "dash": "solid",
          "shape": "linear",
          "width": 1.3
         },
         "mode": "lines",
         "name": "White Bread",
         "text": "",
         "type": "scatter",
         "x": [
          -0.6931471805599453,
          -0.5108256237659907,
          -0.35667494393873245,
          -0.22314355131420968,
          -0.10536051565782628,
          0,
          0.09531017980432495,
          0.1823215567939546,
          0.26236426446749106,
          0.33647223662121284,
          0.4054651081081644
         ],
         "y": [
          -5.121247871532528e-10,
          4.979313545258032e-07,
          -4.974026747277797e-10,
          -4.385097841359543e-10,
          -1.936006910528754e-10,
          0,
          -2.2476887020811704e-10,
          -1.2963263796580209e-10,
          6.041835918630962e-10,
          -3.8461567271788223e-10,
          -5.349484190385383e-10
         ]
        },
        {
         "line": {
          "color": "rgba(128, 0, 128, 1.0)",
          "dash": "solid",
          "shape": "linear",
          "width": 1.3
         },
         "mode": "lines",
         "name": "Whole Milk",
         "text": "",
         "type": "scatter",
         "x": [
          -0.6931471805599453,
          -0.5108256237659907,
          -0.35667494393873245,
          -0.22314355131420968,
          -0.10536051565782628,
          0,
          0.09531017980432495,
          0.1823215567939546,
          0.26236426446749106,
          0.33647223662121284,
          0.4054651081081644
         ],
         "y": [
          -0.09145190321767835,
          -0.07248020222799328,
          -0.0538617266823715,
          -0.0355835723461573,
          -0.01763352089148228,
          0,
          0.017327959331269627,
          0.03436076819630429,
          0.05110831860063228,
          0.06757999021275835,
          0.08378474264824876
         ]
        },
        {
         "line": {
          "color": "rgba(219, 64, 82, 1.0)",
          "dash": "solid",
          "shape": "linear",
          "width": 1.3
         },
         "mode": "lines",
         "name": "Sliced Ham",
         "text": "",
         "type": "scatter",
         "x": [
          -0.6931471805599453,
          -0.5108256237659907,
          -0.35667494393873245,
          -0.22314355131420968,
          -0.10536051565782628,
          0,
          0.09531017980432495,
          0.1823215567939546,
          0.26236426446749106,
          0.33647223662121284,
          0.4054651081081644
         ],
         "y": [
          1.3392352248537569e-08,
          6.081179985512442e-09,
          -5.394780179591398e-10,
          1.8553468145134984e-08,
          -2.4747470742390223e-10,
          0,
          -5.884204235146942e-11,
          -3.76862319200158e-10,
          -4.9645065837278206e-11,
          8.716316557031248e-11,
          1.5460839263553246e-09
         ]
        },
        {
         "line": {
          "color": "rgba(0, 128, 128, 1.0)",
          "dash": "solid",
          "shape": "linear",
          "width": 1.3
         },
         "mode": "lines",
         "name": "Salad Greens",
         "text": "",
         "type": "scatter",
         "x": [
          -0.6931471805599453,
          -0.5108256237659907,
          -0.35667494393873245,
          -0.22314355131420968,
          -0.10536051565782628,
          0,
          0.09531017980432495,
          0.1823215567939546,
          0.26236426446749106,
          0.33647223662121284,
          0.4054651081081644
         ],
         "y": [
          -0.1832576078958002,
          -0.14382076537707159,
          -0.10588043654815527,
          -0.06932707568343567,
          -0.034062877481457435,
          0,
          0.032940716640679116,
          0.06483085792854633,
          0.09573542970049448,
          0.1226219662209556,
          0.1286770724252628
         ]
        },
        {
         "line": {
          "color": "rgba(255, 255, 51, 1.0)",
          "dash": "solid",
          "shape": "linear",
          "width": 1.3
         },
         "mode": "lines",
         "name": "Banana",
         "text": "",
         "type": "scatter",
         "x": [
          -0.6931471805599453,
          -0.5108256237659907,
          -0.35667494393873245,
          -0.22314355131420968,
          -0.10536051565782628,
          0,
          0.09531017980432495,
          0.1823215567939546,
          0.26236426446749106,
          0.33647223662121284,
          0.4054651081081644
         ],
         "y": [
          -0.003701491980091098,
          -0.0001678297444280678,
          2.906328510765102e-10,
          -2.1150359244009465e-10,
          1.749866918017384e-11,
          0,
          5.968581184667214e-11,
          5.342060127446178e-11,
          4.39219771654411e-11,
          3.180411489672126e-11,
          1.989652886871442e-11
         ]
        },
        {
         "line": {
          "color": "rgba(128, 128, 0, 1.0)",
          "dash": "solid",
          "shape": "linear",
          "width": 1.3
         },
         "mode": "lines",
         "name": "Chicken Breasts",
         "text": "",
         "type": "scatter",
         "x": [
          -0.6931471805599453,
          -0.5108256237659907,
          -0.35667494393873245,
          -0.22314355131420968,
          -0.10536051565782628,
          0,
          0.09531017980432495,
          0.1823215567939546,
          0.26236426446749106,
          0.33647223662121284,
          0.4054651081081644
         ],
         "y": [
          -3.428451967357044e-10,
          3.602921732241812e-09,
          -8.020939468489076e-11,
          -2.5502122639108286e-10,
          6.80557832287866e-11,
          0,
          -1.807005656381316e-10,
          -2.872229121621587e-10,
          -5.234419565829316e-10,
          4.5740979090380697e-07,
          3.6049445585853886e-09
         ]
        },
        {
         "line": {
          "color": "rgba(251, 128, 114, 1.0)",
          "dash": "solid",
          "shape": "linear",
          "width": 1.3
         },
         "mode": "lines",
         "name": "Coffee Roast",
         "text": "",
         "type": "scatter",
         "x": [
          -0.6931471805599453,
          -0.5108256237659907,
          -0.35667494393873245,
          -0.22314355131420968,
          -0.10536051565782628,
          0,
          0.09531017980432495,
          0.1823215567939546,
          0.26236426446749106,
          0.33647223662121284,
          0.4054651081081644
         ],
         "y": [
          1.2483010173294498e-09,
          1.2466223601183106e-09,
          1.1757814714934361e-09,
          7.420450917639186e-10,
          -5.436548990246467e-10,
          0,
          -7.981071359671597e-11,
          1.4228855861200258e-09,
          6.655787032605664e-12,
          -5.294030770721895e-10,
          3.1659112627085166e-07
         ]
        },
        {
         "line": {
          "color": "rgba(128, 177, 211, 1.0)",
          "dash": "solid",
          "shape": "linear",
          "width": 1.3
         },
         "mode": "lines",
         "name": "Tortillas",
         "text": "",
         "type": "scatter",
         "x": [
          -0.6931471805599453,
          -0.5108256237659907,
          -0.35667494393873245,
          -0.22314355131420968,
          -0.10536051565782628,
          0,
          0.09531017980432495,
          0.1823215567939546,
          0.26236426446749106,
          0.33647223662121284,
          0.4054651081081644
         ],
         "y": [
          -2.2485802111701447e-10,
          -2.777950092566809e-10,
          -1.2351586421085554e-10,
          -5.174694006760511e-11,
          -4.745759341073956e-12,
          0,
          9.341372119838775e-11,
          6.696665444170285e-11,
          -1.345075162452725e-10,
          -1.7965073873133342e-11,
          -2.9786484394551395e-10
         ]
        },
        {
         "line": {
          "color": "rgba(128, 177, 211, 0.9148936170212765)",
          "dash": "solid",
          "shape": "linear",
          "width": 1.3
         },
         "mode": "lines",
         "name": "Salmon",
         "text": "",
         "type": "scatter",
         "x": [
          -0.6931471805599453,
          -0.5108256237659907,
          -0.35667494393873245,
          -0.22314355131420968,
          -0.10536051565782628,
          0,
          0.09531017980432495,
          0.1823215567939546,
          0.26236426446749106,
          0.33647223662121284,
          0.4054651081081644
         ],
         "y": [
          -2.1108148564604298e-10,
          -1.7079349047614788e-10,
          1.3984284521403888e-08,
          3.729444994338708e-08,
          3.99645493676882e-09,
          0,
          -1.6203949294782416e-10,
          4.3755576929902095e-10,
          3.998262749826662e-07,
          5.1837999881290666e-08,
          3.3983075796739536e-07
         ]
        },
        {
         "line": {
          "color": "rgba(255, 153, 51, 0.9148936170212765)",
          "dash": "solid",
          "shape": "linear",
          "width": 1.3
         },
         "mode": "lines",
         "name": "Tomato",
         "text": "",
         "type": "scatter",
         "x": [
          -0.6931471805599453,
          -0.5108256237659907,
          -0.35667494393873245,
          -0.22314355131420968,
          -0.10536051565782628,
          0,
          0.09531017980432495,
          0.1823215567939546,
          0.26236426446749106,
          0.33647223662121284,
          0.4054651081081644
         ],
         "y": [
          -5.530352843871507e-10,
          1.2136088974533501e-07,
          3.078020060579911e-10,
          -1.2055922927361548e-10,
          3.1615310364661616e-10,
          0,
          3.3434277563155365e-10,
          5.639644305519113e-10,
          -2.8478941431378687e-10,
          2.0127689312530643e-08,
          2.2760901792969884e-08
         ]
        },
        {
         "line": {
          "color": "rgba(55, 128, 191, 0.9148936170212765)",
          "dash": "solid",
          "shape": "linear",
          "width": 1.3
         },
         "mode": "lines",
         "name": "Blueberry Muffin",
         "text": "",
         "type": "scatter",
         "x": [
          -0.6931471805599453,
          -0.5108256237659907,
          -0.35667494393873245,
          -0.22314355131420968,
          -0.10536051565782628,
          0,
          0.09531017980432495,
          0.1823215567939546,
          0.26236426446749106,
          0.33647223662121284,
          0.4054651081081644
         ],
         "y": [
          -2.647071450958057e-11,
          -1.4327206088285355e-11,
          1.3140349610903813e-08,
          1.0796474825211515e-11,
          2.181721470127588e-11,
          0,
          -2.6627589022645204e-12,
          -4.326983216183447e-12,
          -1.0383693904768075e-11,
          -1.9374502002921293e-11,
          -2.3154922424152802e-11
         ]
        },
        {
         "line": {
          "color": "rgba(50, 171, 96, 0.9148936170212765)",
          "dash": "solid",
          "shape": "linear",
          "width": 1.3
         },
         "mode": "lines",
         "name": "Russet Potatoes",
         "text": "",
         "type": "scatter",
         "x": [
          -0.6931471805599453,
          -0.5108256237659907,
          -0.35667494393873245,
          -0.22314355131420968,
          -0.10536051565782628,
          0,
          0.09531017980432495,
          0.1823215567939546,
          0.26236426446749106,
          0.33647223662121284,
          0.4054651081081644
         ],
         "y": [
          -5.372674528936186e-10,
          2.3403203791942203e-09,
          -3.0191038562615877e-10,
          -1.6490386835182533e-10,
          -4.941400623236962e-10,
          0,
          2.68808886325399e-07,
          6.316278591303703e-09,
          -4.801510301619996e-10,
          -4.446566449368083e-10,
          1.2239820260943072e-09
         ]
        },
        {
         "line": {
          "color": "rgba(128, 0, 128, 0.9148936170212765)",
          "dash": "solid",
          "shape": "linear",
          "width": 1.3
         },
         "mode": "lines",
         "name": "Chicken Noodle Canned Soup",
         "text": "",
         "type": "scatter",
         "x": [
          -0.6931471805599453,
          -0.5108256237659907,
          -0.35667494393873245,
          -0.22314355131420968,
          -0.10536051565782628,
          0,
          0.09531017980432495,
          0.1823215567939546,
          0.26236426446749106,
          0.33647223662121284,
          0.4054651081081644
         ],
         "y": [
          1.9635881790142716e-09,
          9.394089953220949e-08,
          -2.1337098756791087e-10,
          2.4880675294727326e-10,
          1.6534862366822342e-10,
          0,
          5.262524180346849e-09,
          1.1565230988415365e-09,
          -1.9520707274751783e-10,
          1.8076939943299323e-10,
          -4.254552266138046e-11
         ]
        },
        {
         "line": {
          "color": "rgba(219, 64, 82, 0.9148936170212765)",
          "dash": "solid",
          "shape": "linear",
          "width": 1.3
         },
         "mode": "lines",
         "name": "Canned Corn",
         "text": "",
         "type": "scatter",
         "x": [
          -0.6931471805599453,
          -0.5108256237659907,
          -0.35667494393873245,
          -0.22314355131420968,
          -0.10536051565782628,
          0,
          0.09531017980432495,
          0.1823215567939546,
          0.26236426446749106,
          0.33647223662121284,
          0.4054651081081644
         ],
         "y": [
          -1.623727818998707e-10,
          -1.257549620000822e-11,
          -2.2347457218324556e-11,
          -2.9255597944627906e-11,
          -9.4151353380755e-12,
          0,
          3.535416404014345e-11,
          9.171574610468322e-11,
          2.532014597668464e-10,
          1.7622002368597436e-08,
          2.0162950408282205e-07
         ]
        },
        {
         "line": {
          "color": "rgba(0, 128, 128, 0.9148936170212765)",
          "dash": "solid",
          "shape": "linear",
          "width": 1.3
         },
         "mode": "lines",
         "name": "Broccoli",
         "text": "",
         "type": "scatter",
         "x": [
          -0.6931471805599453,
          -0.5108256237659907,
          -0.35667494393873245,
          -0.22314355131420968,
          -0.10536051565782628,
          0,
          0.09531017980432495,
          0.1823215567939546,
          0.26236426446749106,
          0.33647223662121284,
          0.4054651081081644
         ],
         "y": [
          -4.593034842404007e-10,
          -1.311108999232832e-10,
          1.1196799042862295e-10,
          -2.876000549237323e-10,
          -1.5688605971129733e-10,
          0,
          2.7179176650106792e-09,
          -5.263827153321024e-10,
          -5.353471001268946e-10,
          3.814380803932024e-09,
          4.5842925250729295e-07
         ]
        },
        {
         "line": {
          "color": "rgba(255, 255, 51, 0.9148936170212765)",
          "dash": "solid",
          "shape": "linear",
          "width": 1.3
         },
         "mode": "lines",
         "name": "Apple",
         "text": "",
         "type": "scatter",
         "x": [
          -0.6931471805599453,
          -0.5108256237659907,
          -0.35667494393873245,
          -0.22314355131420968,
          -0.10536051565782628,
          0,
          0.09531017980432495,
          0.1823215567939546,
          0.26236426446749106,
          0.33647223662121284,
          0.4054651081081644
         ],
         "y": [
          4.831868146200832e-07,
          1.968432083804814e-10,
          1.4935341851036075e-10,
          5.493450124137755e-09,
          5.662359470032912e-11,
          0,
          -5.444299457185592e-10,
          3.3029767755174167e-09,
          4.0664324211130426e-07,
          2.4632812153072154e-08,
          1.104482788012605e-08
         ]
        },
        {
         "line": {
          "color": "rgba(128, 128, 0, 0.9148936170212765)",
          "dash": "solid",
          "shape": "linear",
          "width": 1.3
         },
         "mode": "lines",
         "name": "Pasta (Rotini)",
         "text": "",
         "type": "scatter",
         "x": [
          -0.6931471805599453,
          -0.5108256237659907,
          -0.35667494393873245,
          -0.22314355131420968,
          -0.10536051565782628,
          0,
          0.09531017980432495,
          0.1823215567939546,
          0.26236426446749106,
          0.33647223662121284,
          0.4054651081081644
         ],
         "y": [
          -7.144485003862534e-11,
          -8.159894982262403e-11,
          5.248668166619655e-11,
          2.697531087355852e-11,
          6.347811165576648e-12,
          0,
          -1.651789816038672e-12,
          -1.9935164630189183e-12,
          -2.043143432219763e-12,
          -2.032818358090728e-12,
          -2.0767831898659742e-12
         ]
        },
        {
         "line": {
          "color": "rgba(251, 128, 114, 0.9148936170212765)",
          "dash": "solid",
          "shape": "linear",
          "width": 1.3
         },
         "mode": "lines",
         "name": "Sausage",
         "text": "",
         "type": "scatter",
         "x": [
          -0.6931471805599453,
          -0.5108256237659907,
          -0.35667494393873245,
          -0.22314355131420968,
          -0.10536051565782628,
          0,
          0.09531017980432495,
          0.1823215567939546,
          0.26236426446749106,
          0.33647223662121284,
          0.4054651081081644
         ],
         "y": [
          4.5411381218859526e-09,
          1.638162271157456e-09,
          1.3836747207758376e-08,
          -3.162435869231045e-10,
          -1.0125233985094029e-10,
          0,
          -5.591069830898996e-10,
          8.022262599789798e-09,
          3.3668403563945553e-09,
          5.082243513628578e-10,
          4.689717502125993e-10
         ]
        },
        {
         "line": {
          "color": "rgba(251, 128, 114, 0.8297872340425532)",
          "dash": "solid",
          "shape": "linear",
          "width": 1.3
         },
         "mode": "lines",
         "name": "Carrot",
         "text": "",
         "type": "scatter",
         "x": [
          -0.6931471805599453,
          -0.5108256237659907,
          -0.35667494393873245,
          -0.22314355131420968,
          -0.10536051565782628,
          0,
          0.09531017980432495,
          0.1823215567939546,
          0.26236426446749106,
          0.33647223662121284,
          0.4054651081081644
         ],
         "y": [
          -0.001171303804416584,
          -5.617475375331479e-10,
          -1.336938337904156e-10,
          5.786004769662197e-09,
          -1.9346735326759212e-10,
          0,
          -4.18191592553586e-10,
          1.575890827627121e-08,
          -5.052007702343535e-10,
          -5.271030280308585e-10,
          -5.31575450465626e-10
         ]
        },
        {
         "line": {
          "color": "rgba(128, 177, 211, 0.8297872340425532)",
          "dash": "solid",
          "shape": "linear",
          "width": 1.3
         },
         "mode": "lines",
         "name": "Yellow Onion",
         "text": "",
         "type": "scatter",
         "x": [
          -0.6931471805599453,
          -0.5108256237659907,
          -0.35667494393873245,
          -0.22314355131420968,
          -0.10536051565782628,
          0,
          0.09531017980432495,
          0.1823215567939546,
          0.26236426446749106,
          0.33647223662121284,
          0.4054651081081644
         ],
         "y": [
          7.439604487736436e-11,
          2.430589063321824e-11,
          6.131173344922124e-10,
          7.76472219824295e-11,
          -3.145471661409422e-10,
          0,
          6.108626935751835e-10,
          -5.311028285237919e-10,
          2.4607928997531443e-09,
          2.1207118261196617e-09,
          1.53335465370579e-08
         ]
        },
        {
         "line": {
          "color": "rgba(255, 153, 51, 0.8297872340425532)",
          "dash": "solid",
          "shape": "linear",
          "width": 1.3
         },
         "mode": "lines",
         "name": "Lentils",
         "text": "",
         "type": "scatter",
         "x": [
          -0.6931471805599453,
          -0.5108256237659907,
          -0.35667494393873245,
          -0.22314355131420968,
          -0.10536051565782628,
          0,
          0.09531017980432495,
          0.1823215567939546,
          0.26236426446749106,
          0.33647223662121284,
          0.4054651081081644
         ],
         "y": [
          -0.06863494875066398,
          -0.054525920404811,
          -0.04061319046559213,
          -0.026891371561757912,
          -0.013355295554718294,
          0,
          0.013179279835793168,
          0.026187122473841005,
          0.0354081471292833,
          0.043974782824695816,
          0.051892424262682854
         ]
        },
        {
         "line": {
          "color": "rgba(55, 128, 191, 0.8297872340425532)",
          "dash": "solid",
          "shape": "linear",
          "width": 1.3
         },
         "mode": "lines",
         "name": "Spinach",
         "text": "",
         "type": "scatter",
         "x": [
          -0.6931471805599453,
          -0.5108256237659907,
          -0.35667494393873245,
          -0.22314355131420968,
          -0.10536051565782628,
          0,
          0.09531017980432495,
          0.1823215567939546,
          0.26236426446749106,
          0.33647223662121284,
          0.4054651081081644
         ],
         "y": [
          -0.09381857985711425,
          -0.05239200705777002,
          -0.012613158442353516,
          2.7751212400635647e-09,
          -3.4882097210758632e-12,
          0,
          4.227011842720269e-09,
          -5.399709569823394e-10,
          -4.239706364661008e-10,
          -5.10578024434554e-10,
          -5.201006293662763e-10
         ]
        },
        {
         "line": {
          "color": "rgba(50, 171, 96, 0.8297872340425532)",
          "dash": "solid",
          "shape": "linear",
          "width": 1.3
         },
         "mode": "lines",
         "name": "Sweet Potato",
         "text": "",
         "type": "scatter",
         "x": [
          -0.6931471805599453,
          -0.5108256237659907,
          -0.35667494393873245,
          -0.22314355131420968,
          -0.10536051565782628,
          0,
          0.09531017980432495,
          0.1823215567939546,
          0.26236426446749106,
          0.33647223662121284,
          0.4054651081081644
         ],
         "y": [
          2.496842701397776e-08,
          -2.136526511493184e-10,
          1.4777007191873137e-07,
          -3.7256386871410604e-10,
          -1.7127488317970768e-10,
          0,
          -5.304604534814028e-10,
          -5.459146469701998e-10,
          -5.449062313963828e-10,
          2.797638339297061e-09,
          3.358002315014441e-09
         ]
        },
        {
         "line": {
          "color": "rgba(128, 0, 128, 0.8297872340425532)",
          "dash": "solid",
          "shape": "linear",
          "width": 1.3
         },
         "mode": "lines",
         "name": "Russet Potato",
         "text": "",
         "type": "scatter",
         "x": [
          -0.6931471805599453,
          -0.5108256237659907,
          -0.35667494393873245,
          -0.22314355131420968,
          -0.10536051565782628,
          0,
          0.09531017980432495,
          0.1823215567939546,
          0.26236426446749106,
          0.33647223662121284,
          0.4054651081081644
         ],
         "y": [
          -5.038581775299969e-10,
          -4.895400752635044e-10,
          3.5522118554690745e-07,
          2.6070257063908097e-11,
          -1.854912890125688e-10,
          0,
          1.2652257196449898e-07,
          -4.2335990277999573e-10,
          3.4899711948307003e-09,
          1.325106468118797e-09,
          -2.0621726550723786e-10
         ]
        },
        {
         "line": {
          "color": "rgba(219, 64, 82, 0.8297872340425532)",
          "dash": "solid",
          "shape": "linear",
          "width": 1.3
         },
         "mode": "lines",
         "name": "Beets",
         "text": "",
         "type": "scatter",
         "x": [
          -0.6931471805599453,
          -0.5108256237659907,
          -0.35667494393873245,
          -0.22314355131420968,
          -0.10536051565782628,
          0,
          0.09531017980432495,
          0.1823215567939546,
          0.26236426446749106,
          0.33647223662121284,
          0.4054651081081644
         ],
         "y": [
          -5.13132203526314e-10,
          7.68140086456755e-08,
          -3.045907970753241e-10,
          -3.9473602172509895e-10,
          -2.1052437573216862e-10,
          0,
          -5.594886777659792e-10,
          2.2458576585604174e-07,
          2.4166051637471295e-07,
          7.620932770829171e-10,
          -3.961161399675562e-10
         ]
        },
        {
         "line": {
          "color": "rgba(0, 128, 128, 0.8297872340425532)",
          "dash": "solid",
          "shape": "linear",
          "width": 1.3
         },
         "mode": "lines",
         "name": "Sugar",
         "text": "",
         "type": "scatter",
         "x": [
          -0.6931471805599453,
          -0.5108256237659907,
          -0.35667494393873245,
          -0.22314355131420968,
          -0.10536051565782628,
          0,
          0.09531017980432495,
          0.1823215567939546,
          0.26236426446749106,
          0.33647223662121284,
          0.4054651081081644
         ],
         "y": [
          -3.693302331313833e-10,
          -3.701361440252567e-10,
          -1.1470513428638086e-10,
          -1.624000933744127e-11,
          2.5201174480253803e-11,
          0,
          -5.541012093617045e-12,
          -1.9778512161590297e-11,
          -9.314116145454298e-11,
          -2.7921442935897714e-11,
          -9.877487717124147e-11
         ]
        },
        {
         "line": {
          "color": "rgba(255, 255, 51, 0.8297872340425532)",
          "dash": "solid",
          "shape": "linear",
          "width": 1.3
         },
         "mode": "lines",
         "name": "Flour",
         "text": "",
         "type": "scatter",
         "x": [
          -0.6931471805599453,
          -0.5108256237659907,
          -0.35667494393873245,
          -0.22314355131420968,
          -0.10536051565782628,
          0,
          0.09531017980432495,
          0.1823215567939546,
          0.26236426446749106,
          0.33647223662121284,
          0.4054651081081644
         ],
         "y": [
          -0.038158634131235186,
          -0.025333775010348496,
          -0.015244312078961176,
          -0.007157385436715618,
          -0.0027147189942353343,
          0,
          0.0027073696092135215,
          0.005407427213494883,
          0.006392551573039525,
          0.006621046257743026,
          0.006849515098081504
         ]
        },
        {
         "line": {
          "color": "rgba(128, 128, 0, 0.8297872340425532)",
          "dash": "solid",
          "shape": "linear",
          "width": 1.3
         },
         "mode": "lines",
         "name": "Black Beans",
         "text": "",
         "type": "scatter",
         "x": [
          -0.6931471805599453,
          -0.5108256237659907,
          -0.35667494393873245,
          -0.22314355131420968,
          -0.10536051565782628,
          0,
          0.09531017980432495,
          0.1823215567939546,
          0.26236426446749106,
          0.33647223662121284,
          0.4054651081081644
         ],
         "y": [
          -0.04725857982915488,
          -0.03500470554894806,
          -0.024670289706900158,
          -0.015688409745198452,
          -0.007813438917513708,
          0,
          0.007752861930716773,
          0.015446079539252979,
          0.023080562910526497,
          0.030657222450544818,
          0.038176983035947444
         ]
        },
        {
         "line": {
          "color": "rgba(128, 128, 0, 0.7446808510638296)",
          "dash": "solid",
          "shape": "linear",
          "width": 1.3
         },
         "mode": "lines",
         "name": "Chicken Breast",
         "text": "",
         "type": "scatter",
         "x": [
          -0.6931471805599453,
          -0.5108256237659907,
          -0.35667494393873245,
          -0.22314355131420968,
          -0.10536051565782628,
          0,
          0.09531017980432495,
          0.1823215567939546,
          0.26236426446749106,
          0.33647223662121284,
          0.4054651081081644
         ],
         "y": [
          -3.4284741718175444e-10,
          3.603017877555398e-09,
          -8.021672215685387e-11,
          -2.5502033821266296e-10,
          6.805245255971296e-11,
          0,
          -1.8069901132589684e-10,
          -2.8722002558229387e-10,
          -5.23443954984377e-10,
          4.574127132315157e-07,
          3.6049259068386423e-09
         ]
        },
        {
         "line": {
          "color": "rgba(251, 128, 114, 0.7446808510638296)",
          "dash": "solid",
          "shape": "linear",
          "width": 1.3
         },
         "mode": "lines",
         "name": "Tofu",
         "text": "",
         "type": "scatter",
         "x": [
          -0.6931471805599453,
          -0.5108256237659907,
          -0.35667494393873245,
          -0.22314355131420968,
          -0.10536051565782628,
          0,
          0.09531017980432495,
          0.1823215567939546,
          0.26236426446749106,
          0.33647223662121284,
          0.4054651081081644
         ],
         "y": [
          -4.673722521202075e-10,
          2.531961306963295e-10,
          -1.6369616774543964e-10,
          -2.781689323714786e-10,
          -7.510547739314926e-12,
          0,
          1.259644165957821e-09,
          2.5726607243708855e-07,
          -3.1215585676745277e-10,
          2.1643220494008917e-07,
          -3.297739859508842e-10
         ]
        },
        {
         "line": {
          "color": "rgba(128, 177, 211, 0.7446808510638296)",
          "dash": "solid",
          "shape": "linear",
          "width": 1.3
         },
         "mode": "lines",
         "name": "Jasmine Rice",
         "text": "",
         "type": "scatter",
         "x": [
          -0.6931471805599453,
          -0.5108256237659907,
          -0.35667494393873245,
          -0.22314355131420968,
          -0.10536051565782628,
          0,
          0.09531017980432495,
          0.1823215567939546,
          0.26236426446749106,
          0.33647223662121284,
          0.4054651081081644
         ],
         "y": [
          -6.663980478771591e-11,
          -4.839899593383992e-10,
          1.2994805231025253e-10,
          -2.575670788095033e-10,
          1.1670509002955193e-10,
          0,
          -3.7385983198833767e-11,
          -3.884782496443487e-10,
          -2.0705326342566138e-11,
          5.109346357463843e-07,
          3.3917633611748563e-07
         ]
        },
        {
         "line": {
          "color": "rgba(255, 153, 51, 0.7446808510638296)",
          "dash": "solid",
          "shape": "linear",
          "width": 1.3
         },
         "mode": "lines",
         "name": "Salad Mix",
         "text": "",
         "type": "scatter",
         "x": [
          -0.6931471805599453,
          -0.5108256237659907,
          -0.35667494393873245,
          -0.22314355131420968,
          -0.10536051565782628,
          0,
          0.09531017980432495,
          0.1823215567939546,
          0.26236426446749106,
          0.33647223662121284,
          0.4054651081081644
         ],
         "y": [
          9.249550010522725e-10,
          4.000773045386314e-10,
          4.3673931128706854e-10,
          1.2050115277390367e-08,
          -5.292875028552648e-10,
          0,
          -2.5073709778257596e-10,
          4.584286282864378e-10,
          6.6533445419515046e-12,
          1.6880452589869921e-10,
          8.767968569564916e-10
         ]
        },
        {
         "line": {
          "color": "rgba(55, 128, 191, 0.7446808510638296)",
          "dash": "solid",
          "shape": "linear",
          "width": 1.3
         },
         "mode": "lines",
         "name": "Spaghetti",
         "text": "",
         "type": "scatter",
         "x": [
          -0.6931471805599453,
          -0.5108256237659907,
          -0.35667494393873245,
          -0.22314355131420968,
          -0.10536051565782628,
          0,
          0.09531017980432495,
          0.1823215567939546,
          0.26236426446749106,
          0.33647223662121284,
          0.4054651081081644
         ],
         "y": [
          -1.3192891224010225e-11,
          -1.933275761719458e-11,
          -1.4248935365048162e-11,
          -6.2123639566118225e-12,
          -1.696420781628678e-12,
          0,
          4.134470543703228e-13,
          1.965094753586334e-13,
          -2.847722058163932e-13,
          -1.0346168366487185e-12,
          -1.9846346788218992e-12
         ]
        },
        {
         "line": {
          "color": "rgba(50, 171, 96, 0.7446808510638296)",
          "dash": "solid",
          "shape": "linear",
          "width": 1.3
         },
         "mode": "lines",
         "name": "Ground Coffee",
         "text": "",
         "type": "scatter",
         "x": [
          -0.6931471805599453,
          -0.5108256237659907,
          -0.35667494393873245,
          -0.22314355131420968,
          -0.10536051565782628,
          0,
          0.09531017980432495,
          0.1823215567939546,
          0.26236426446749106,
          0.33647223662121284,
          0.4054651081081644
         ],
         "y": [
          4.645689822036098e-09,
          2.6685931108528948e-08,
          -1.9960089139064172e-10,
          2.03231475885954e-09,
          -5.47184298021855e-10,
          0,
          -7.261813373113372e-11,
          3.8743874767588007e-10,
          4.44046509686649e-09,
          -5.087064103422351e-11,
          7.163292181387901e-11
         ]
        },
        {
         "line": {
          "color": "rgba(128, 0, 128, 0.7446808510638296)",
          "dash": "solid",
          "shape": "linear",
          "width": 1.3
         },
         "mode": "lines",
         "name": "Claw Blue Swimming Crab Meat",
         "text": "",
         "type": "scatter",
         "x": [
          -0.6931471805599453,
          -0.5108256237659907,
          -0.35667494393873245,
          -0.22314355131420968,
          -0.10536051565782628,
          0,
          0.09531017980432495,
          0.1823215567939546,
          0.26236426446749106,
          0.33647223662121284,
          0.4054651081081644
         ],
         "y": [
          2.4993529437041883e-09,
          4.529983401532719e-07,
          -5.376977753381946e-10,
          1.3204271001207968e-09,
          -5.899214450440758e-11,
          0,
          5.180433859529751e-11,
          -2.1165014187937616e-10,
          -1.4612622224421e-10,
          -2.671441956893399e-10,
          -1.7621948346533984e-10
         ]
        },
        {
         "line": {
          "color": "rgba(219, 64, 82, 0.7446808510638296)",
          "dash": "solid",
          "shape": "linear",
          "width": 1.3
         },
         "mode": "lines",
         "name": "Waterfront Bistro Crabmeat Imitation Chunk Style Fully Cooked",
         "text": "",
         "type": "scatter",
         "x": [
          -0.6931471805599453,
          -0.5108256237659907,
          -0.35667494393873245,
          -0.22314355131420968,
          -0.10536051565782628,
          0,
          0.09531017980432495,
          0.1823215567939546,
          0.26236426446749106,
          0.33647223662121284,
          0.4054651081081644
         ],
         "y": [
          3.29650084952626e-10,
          5.20675946666833e-10,
          6.688076756839493e-10,
          7.021829781827473e-10,
          1.936272251769658e-09,
          0,
          7.844924709535612e-11,
          -6.639278016472037e-11,
          2.185140956828491e-10,
          -1.2119982795890162e-10,
          -2.8397439959117773e-10
         ]
        },
        {
         "line": {
          "color": "rgba(0, 128, 128, 0.7446808510638296)",
          "dash": "solid",
          "shape": "linear",
          "width": 1.3
         },
         "mode": "lines",
         "name": "Waterfront Bistro Crabmeat Imitation Flake Style Fully Cooked",
         "text": "",
         "type": "scatter",
         "x": [
          -0.6931471805599453,
          -0.5108256237659907,
          -0.35667494393873245,
          -0.22314355131420968,
          -0.10536051565782628,
          0,
          0.09531017980432495,
          0.1823215567939546,
          0.26236426446749106,
          0.33647223662121284,
          0.4054651081081644
         ],
         "y": [
          5.136483951278035e-07,
          -5.512769131597785e-10,
          -3.7250824654055164e-10,
          -2.2446688954535116e-10,
          -4.081146531914616e-11,
          0,
          9.40847399944083e-11,
          -7.111700117943016e-11,
          -2.2237112154129802e-10,
          1.845634756135157e-12,
          -4.21999102338e-11
         ]
        },
        {
         "line": {
          "color": "rgba(255, 255, 51, 0.7446808510638296)",
          "dash": "solid",
          "shape": "linear",
          "width": 1.3
         },
         "mode": "lines",
         "name": "Waterfront Bistro Salmon Nova Atlantic Smoked Cold ",
         "text": "",
         "type": "scatter",
         "x": [
          -0.6931471805599453,
          -0.5108256237659907,
          -0.35667494393873245,
          -0.22314355131420968,
          -0.10536051565782628,
          0,
          0.09531017980432495,
          0.1823215567939546,
          0.26236426446749106,
          0.33647223662121284,
          0.4054651081081644
         ],
         "y": [
          1.012616656679515e-09,
          9.60681977951026e-10,
          8.037992490595175e-10,
          6.599323307863874e-10,
          2.1887511779033935e-09,
          0,
          -1.4600587406832306e-10,
          5.026644643436256e-09,
          -9.547573843094493e-11,
          1.948763372704407e-10,
          2.0977908297157388e-10
         ]
        },
        {
         "line": {
          "color": "rgba(255, 255, 51, 0.6595744680851063)",
          "dash": "solid",
          "shape": "linear",
          "width": 1.3
         },
         "mode": "lines",
         "name": "Waterfront Bistro Salmon Nova Atlantic Lox Ny Style",
         "text": "",
         "type": "scatter",
         "x": [
          -0.6931471805599453,
          -0.5108256237659907,
          -0.35667494393873245,
          -0.22314355131420968,
          -0.10536051565782628,
          0,
          0.09531017980432495,
          0.1823215567939546,
          0.26236426446749106,
          0.33647223662121284,
          0.4054651081081644
         ],
         "y": [
          -5.074461963027948e-10,
          2.6376668145996e-07,
          6.751841305992964e-10,
          9.503571258764826e-10,
          7.555729372642414e-10,
          0,
          -7.29942772919041e-11,
          -1.0231671066475677e-10,
          2.303132570892321e-09,
          -2.448941050248282e-10,
          1.2308896714959205e-08
         ]
        },
        {
         "line": {
          "color": "rgba(128, 128, 0, 0.6595744680851063)",
          "dash": "solid",
          "shape": "linear",
          "width": 1.3
         },
         "mode": "lines",
         "name": "Waterfront Bistro Salmon Nova Atlantic Smoked Party Wheel ",
         "text": "",
         "type": "scatter",
         "x": [
          -0.6931471805599453,
          -0.5108256237659907,
          -0.35667494393873245,
          -0.22314355131420968,
          -0.10536051565782628,
          0,
          0.09531017980432495,
          0.1823215567939546,
          0.26236426446749106,
          0.33647223662121284,
          0.4054651081081644
         ],
         "y": [
          -4.1255965319192813e-10,
          8.279763538024488e-10,
          9.609470992090517e-10,
          8.352272203702459e-10,
          -9.480638496933474e-11,
          0,
          6.264169181405594e-10,
          4.6944004238333475e-11,
          -1.435755958670667e-10,
          -1.914950420639659e-10,
          1.5701839827119864e-10
         ]
        },
        {
         "line": {
          "color": "rgba(251, 128, 114, 0.6595744680851063)",
          "dash": "solid",
          "shape": "linear",
          "width": 1.3
         },
         "mode": "lines",
         "name": "Waterfront Bistro Salmon Atlantic Pastrami Style Smoked Cold",
         "text": "",
         "type": "scatter",
         "x": [
          -0.6931471805599453,
          -0.5108256237659907,
          -0.35667494393873245,
          -0.22314355131420968,
          -0.10536051565782628,
          0,
          0.09531017980432495,
          0.1823215567939546,
          0.26236426446749106,
          0.33647223662121284,
          0.4054651081081644
         ],
         "y": [
          -1.0787459814891688e-10,
          9.245602057450809e-10,
          9.782299410166343e-10,
          8.278278059618769e-10,
          -2.618154582366372e-10,
          0,
          3.194609021251331e-10,
          1.1443176284620487e-07,
          -1.7074974768897018e-10,
          -1.1278977752407968e-10,
          4.127587160942889e-12
         ]
        },
        {
         "line": {
          "color": "rgba(128, 177, 211, 0.6595744680851063)",
          "dash": "solid",
          "shape": "linear",
          "width": 1.3
         },
         "mode": "lines",
         "name": "Waterfront Bistro Alaskan Cod Fillet Wild Caught ",
         "text": "",
         "type": "scatter",
         "x": [
          -0.6931471805599453,
          -0.5108256237659907,
          -0.35667494393873245,
          -0.22314355131420968,
          -0.10536051565782628,
          0,
          0.09531017980432495,
          0.1823215567939546,
          0.26236426446749106,
          0.33647223662121284,
          0.4054651081081644
         ],
         "y": [
          1.436517571459311e-10,
          1.8793766541246652e-10,
          3.5256026924580322e-09,
          -5.401646909002412e-10,
          2.6599400424638116e-09,
          0,
          -1.0288270236276875e-10,
          -1.8756007859704118e-10,
          -8.584122302237437e-11,
          -3.2362779123742065e-11,
          2.1255974755846285e-10
         ]
        },
        {
         "line": {
          "color": "rgba(255, 153, 51, 0.6595744680851063)",
          "dash": "solid",
          "shape": "linear",
          "width": 1.3
         },
         "mode": "lines",
         "name": "Waterfront Bistro Salmon Wild Alaskan Sockeye Smoked Peppered ",
         "text": "",
         "type": "scatter",
         "x": [
          -0.6931471805599453,
          -0.5108256237659907,
          -0.35667494393873245,
          -0.22314355131420968,
          -0.10536051565782628,
          0,
          0.09531017980432495,
          0.1823215567939546,
          0.26236426446749106,
          0.33647223662121284,
          0.4054651081081644
         ],
         "y": [
          8.888207907921614e-09,
          1.0013208035491434e-09,
          1.0698846247653095e-09,
          9.848299948469479e-10,
          6.795655147407093e-10,
          0,
          -6.459677237766663e-11,
          -1.136666316690279e-10,
          1.01892716481227e-10,
          3.6657921136327206e-10,
          1.2199574683716655e-11
         ]
        },
        {
         "line": {
          "color": "rgba(55, 128, 191, 0.6595744680851063)",
          "dash": "solid",
          "shape": "linear",
          "width": 1.3
         },
         "mode": "lines",
         "name": "Waterfront Bistro Shrimp Coconut With Sweet Chili Sauce 10 Count",
         "text": "",
         "type": "scatter",
         "x": [
          -0.6931471805599453,
          -0.5108256237659907,
          -0.35667494393873245,
          -0.22314355131420968,
          -0.10536051565782628,
          0,
          0.09531017980432495,
          0.1823215567939546,
          0.26236426446749106,
          0.33647223662121284,
          0.4054651081081644
         ],
         "y": [
          8.403482350893415e-10,
          7.839382473431601e-10,
          7.124203446855749e-10,
          6.605002078999358e-09,
          -5.301175055889142e-10,
          0,
          -1.2585754661468692e-10,
          -1.0102751968843096e-10,
          2.1859771468464877e-07,
          -4.686845357359286e-10,
          -5.013962579716532e-10
         ]
        },
        {
         "line": {
          "color": "rgba(50, 171, 96, 0.6595744680851063)",
          "dash": "solid",
          "shape": "linear",
          "width": 1.3
         },
         "mode": "lines",
         "name": "Waterfront Bistro Calamari Crispy Breaded Salt & Pepper",
         "text": "",
         "type": "scatter",
         "x": [
          -0.6931471805599453,
          -0.5108256237659907,
          -0.35667494393873245,
          -0.22314355131420968,
          -0.10536051565782628,
          0,
          0.09531017980432495,
          0.1823215567939546,
          0.26236426446749106,
          0.33647223662121284,
          0.4054651081081644
         ],
         "y": [
          1.3833402865623366e-07,
          -4.71670924651272e-10,
          2.417814836937734e-10,
          6.519997872806442e-10,
          6.775822123308648e-10,
          0,
          3.238951328840596e-10,
          -1.4455392439650732e-10,
          -1.5046885960567529e-10,
          -1.2481649048436542e-10,
          4.0882276949634317e-08
         ]
        },
        {
         "line": {
          "color": "rgba(128, 0, 128, 0.6595744680851063)",
          "dash": "solid",
          "shape": "linear",
          "width": 1.3
         },
         "mode": "lines",
         "name": "Waterfront Bistro Scallops Peruvian 20 - 30 Ct",
         "text": "",
         "type": "scatter",
         "x": [
          -0.6931471805599453,
          -0.5108256237659907,
          -0.35667494393873245,
          -0.22314355131420968,
          -0.10536051565782628,
          0,
          0.09531017980432495,
          0.1823215567939546,
          0.26236426446749106,
          0.33647223662121284,
          0.4054651081081644
         ],
         "y": [
          -1.1259582156165579e-10,
          1.325921594653527e-10,
          -1.1349043927499988e-10,
          -1.800115612128849e-12,
          -2.3973045770759742e-12,
          0,
          -2.2052359938372637e-11,
          6.101497085167316e-11,
          5.830378654212115e-08,
          1.4566103877560705e-10,
          1.0093259560962853e-10
         ]
        },
        {
         "line": {
          "color": "rgba(219, 64, 82, 0.6595744680851063)",
          "dash": "solid",
          "shape": "linear",
          "width": 1.3
         },
         "mode": "lines",
         "name": "Waterfront Bistro Shrimp Raw Ez Peel Shell & Tail On Jumbo 21 To 25 Count",
         "text": "",
         "type": "scatter",
         "x": [
          -0.6931471805599453,
          -0.5108256237659907,
          -0.35667494393873245,
          -0.22314355131420968,
          -0.10536051565782628,
          0,
          0.09531017980432495,
          0.1823215567939546,
          0.26236426446749106,
          0.33647223662121284,
          0.4054651081081644
         ],
         "y": [
          2.970330647669887e-10,
          5.210203378488923e-10,
          5.74881475591439e-10,
          5.636577869526827e-10,
          -4.560162248852836e-10,
          0,
          1.2405954034143255e-09,
          1.629629764333005e-10,
          -1.4443846120192963e-10,
          -2.3846347122004024e-10,
          7.407972010851651e-10
         ]
        },
        {
         "line": {
          "color": "rgba(0, 128, 128, 0.6595744680851063)",
          "dash": "solid",
          "shape": "linear",
          "width": 1.3
         },
         "mode": "lines",
         "name": "Waterfront Bistro Shrimp Raw Extra Jumbo Shell & Tail On Frozen 16-20 Count",
         "text": "",
         "type": "scatter",
         "x": [
          -0.6931471805599453,
          -0.5108256237659907,
          -0.35667494393873245,
          -0.22314355131420968,
          -0.10536051565782628,
          0,
          0.09531017980432495,
          0.1823215567939546,
          0.26236426446749106,
          0.33647223662121284,
          0.4054651081081644
         ],
         "y": [
          6.829834473419918e-10,
          6.286868801352835e-10,
          5.7496807298731e-10,
          5.399201084762705e-10,
          1.6940420163397882e-09,
          0,
          -2.30702346142275e-10,
          4.5219976549835464e-09,
          -5.6728177712460964e-11,
          8.047296162448205e-11,
          5.447309270174965e-11
         ]
        },
        {
         "line": {
          "color": "rgba(0, 128, 128, 0.5744680851063828)",
          "dash": "solid",
          "shape": "linear",
          "width": 1.3
         },
         "mode": "lines",
         "name": "Waterfront Bistro Shrimp Raw Medium Ez Peel Shell & Tail On Frozen 31-40 Count",
         "text": "",
         "type": "scatter",
         "x": [
          -0.6931471805599453,
          -0.5108256237659907,
          -0.35667494393873245,
          -0.22314355131420968,
          -0.10536051565782628,
          0,
          0.09531017980432495,
          0.1823215567939546,
          0.26236426446749106,
          0.33647223662121284,
          0.4054651081081644
         ],
         "y": [
          4.782687578164071e-10,
          6.02100369380946e-10,
          6.04359007100881e-10,
          5.690876657184441e-10,
          1.9362874694180069e-07,
          0,
          2.3174440141972364e-10,
          -1.7148149568462583e-10,
          9.646183475259468e-08,
          -1.2442002984222235e-10,
          -7.447520378456079e-11
         ]
        },
        {
         "line": {
          "color": "rgba(255, 255, 51, 0.5744680851063828)",
          "dash": "solid",
          "shape": "linear",
          "width": 1.3
         },
         "mode": "lines",
         "name": "Waterfront Bistro Mussels Garlic Butter Sauce Fully Cooked Ready To Heat",
         "text": "",
         "type": "scatter",
         "x": [
          -0.6931471805599453,
          -0.5108256237659907,
          -0.35667494393873245,
          -0.22314355131420968,
          -0.10536051565782628,
          0,
          0.09531017980432495,
          0.1823215567939546,
          0.26236426446749106,
          0.33647223662121284,
          0.4054651081081644
         ],
         "y": [
          2.211537619456176e-10,
          -4.195611636773373e-10,
          -3.769013990506395e-10,
          2.4184099164787895e-10,
          6.389024862675948e-10,
          0,
          -1.3278256273168186e-10,
          -1.521465176184402e-10,
          -4.5670534031698294e-10,
          -4.1380576751528227e-10,
          -8.256295647498517e-11
         ]
        },
        {
         "line": {
          "color": "rgba(128, 128, 0, 0.5744680851063828)",
          "dash": "solid",
          "shape": "linear",
          "width": 1.3
         },
         "mode": "lines",
         "name": "Waterfront Bistro Shrimp Cooked Peeled Tail Off Salad Style 91 To 110 Count ",
         "text": "",
         "type": "scatter",
         "x": [
          -0.6931471805599453,
          -0.5108256237659907,
          -0.35667494393873245,
          -0.22314355131420968,
          -0.10536051565782628,
          0,
          0.09531017980432495,
          0.1823215567939546,
          0.26236426446749106,
          0.33647223662121284,
          0.4054651081081644
         ],
         "y": [
          -5.123903525008791e-10,
          1.5268009079133523e-11,
          3.60929064348405e-10,
          4.787010786619893e-10,
          5.008295998887703e-10,
          0,
          5.792805995871675e-09,
          1.1888670421840059e-08,
          -3.240852031708451e-10,
          1.0945155886737777e-09,
          3.3586896174920376e-07
         ]
        },
        {
         "line": {
          "color": "rgba(251, 128, 114, 0.5744680851063828)",
          "dash": "solid",
          "shape": "linear",
          "width": 1.3
         },
         "mode": "lines",
         "name": "Waterfront Bistro Shrimp Cooked Extra Large Tail On Frozen 21-25 Count",
         "text": "",
         "type": "scatter",
         "x": [
          -0.6931471805599453,
          -0.5108256237659907,
          -0.35667494393873245,
          -0.22314355131420968,
          -0.10536051565782628,
          0,
          0.09531017980432495,
          0.1823215567939546,
          0.26236426446749106,
          0.33647223662121284,
          0.4054651081081644
         ],
         "y": [
          3.466016362206859e-10,
          5.185567529585297e-10,
          5.435063508884719e-10,
          5.437892357149926e-10,
          3.921177375105146e-09,
          0,
          8.200240486308142e-11,
          5.078571550392448e-09,
          -6.110245642974179e-11,
          -5.424136696824417e-10,
          7.740211483070918e-08
         ]
        },
        {
         "line": {
          "color": "rgba(128, 177, 211, 0.5744680851063828)",
          "dash": "solid",
          "shape": "linear",
          "width": 1.3
         },
         "mode": "lines",
         "name": "Waterfront Bistro Swai Fillets Boneless & Skinless",
         "text": "",
         "type": "scatter",
         "x": [
          -0.6931471805599453,
          -0.5108256237659907,
          -0.35667494393873245,
          -0.22314355131420968,
          -0.10536051565782628,
          0,
          0.09531017980432495,
          0.1823215567939546,
          0.26236426446749106,
          0.33647223662121284,
          0.4054651081081644
         ],
         "y": [
          8.503087122940099e-11,
          2.243214502787725e-10,
          4.420419584949533e-10,
          3.345481885918499e-09,
          -5.308662399971187e-10,
          0,
          -1.0862111211075564e-10,
          8.424350106040346e-11,
          3.955757047427745e-09,
          -3.4339242566472993e-10,
          -4.167627355202969e-10
         ]
        },
        {
         "line": {
          "color": "rgba(255, 153, 51, 0.5744680851063828)",
          "dash": "solid",
          "shape": "linear",
          "width": 1.3
         },
         "mode": "lines",
         "name": "Waterfront Bistro Shrimp Tempura With Sweet Soy Dipping Sauce",
         "text": "",
         "type": "scatter",
         "x": [
          -0.6931471805599453,
          -0.5108256237659907,
          -0.35667494393873245,
          -0.22314355131420968,
          -0.10536051565782628,
          0,
          0.09531017980432495,
          0.1823215567939546,
          0.26236426446749106,
          0.33647223662121284,
          0.4054651081081644
         ],
         "y": [
          -5.52569545828063e-10,
          1.3220247118376087e-10,
          6.268066064219586e-10,
          7.574236790448915e-10,
          -4.432579859697646e-10,
          0,
          2.0695134473571295e-09,
          7.092770815095121e-12,
          -1.2553869056197448e-10,
          9.12023789781435e-11,
          -1.4039913677086064e-10
         ]
        },
        {
         "line": {
          "color": "rgba(55, 128, 191, 0.5744680851063828)",
          "dash": "solid",
          "shape": "linear",
          "width": 1.3
         },
         "mode": "lines",
         "name": "Waterfront Bistro Cod Fillets Wild Alaskan Boneless & Skinless",
         "text": "",
         "type": "scatter",
         "x": [
          -0.6931471805599453,
          -0.5108256237659907,
          -0.35667494393873245,
          -0.22314355131420968,
          -0.10536051565782628,
          0,
          0.09531017980432495,
          0.1823215567939546,
          0.26236426446749106,
          0.33647223662121284,
          0.4054651081081644
         ],
         "y": [
          -6.400391328247868e-11,
          2.723885557841011e-09,
          5.3796078701369875e-11,
          -1.108896308172212e-10,
          -1.4375634017550163e-10,
          0,
          -1.0587286603530379e-10,
          2.039153954721913e-09,
          -5.034991314036523e-10,
          -5.602132093122553e-10,
          -5.370571766526417e-10
         ]
        },
        {
         "line": {
          "color": "rgba(50, 171, 96, 0.5744680851063828)",
          "dash": "solid",
          "shape": "linear",
          "width": 1.3
         },
         "mode": "lines",
         "name": "Waterfront Bistro Salmon Fillets Wild Alaskan Pink Boneless & Skin On",
         "text": "",
         "type": "scatter",
         "x": [
          -0.6931471805599453,
          -0.5108256237659907,
          -0.35667494393873245,
          -0.22314355131420968,
          -0.10536051565782628,
          0,
          0.09531017980432495,
          0.1823215567939546,
          0.26236426446749106,
          0.33647223662121284,
          0.4054651081081644
         ],
         "y": [
          -2.6261193223471213e-10,
          -1.3938761257298316e-10,
          3.39805886539792e-08,
          -1.2195700006178805e-10,
          -3.234357226541543e-11,
          0,
          -3.900102463213318e-12,
          -1.6617707210424955e-11,
          -2.7965074700766704e-11,
          -3.6180280994046496e-11,
          -5.2125748163626884e-11
         ]
        },
        {
         "line": {
          "color": "rgba(128, 0, 128, 0.5744680851063828)",
          "dash": "solid",
          "shape": "linear",
          "width": 1.3
         },
         "mode": "lines",
         "name": "Gortons Beer Batter Shrimp",
         "text": "",
         "type": "scatter",
         "x": [
          -0.6931471805599453,
          -0.5108256237659907,
          -0.35667494393873245,
          -0.22314355131420968,
          -0.10536051565782628,
          0,
          0.09531017980432495,
          0.1823215567939546,
          0.26236426446749106,
          0.33647223662121284,
          0.4054651081081644
         ],
         "y": [
          -3.6434300028063517e-10,
          5.455236261231174e-10,
          7.921472363807696e-10,
          7.54639905835051e-10,
          2.499533465967541e-09,
          0,
          -2.102596985630423e-10,
          3.4854548075822767e-09,
          4.520672724948007e-11,
          -1.42141853843769e-11,
          1.7200418865512367e-10
         ]
        },
        {
         "line": {
          "color": "rgba(219, 64, 82, 0.5744680851063828)",
          "dash": "solid",
          "shape": "linear",
          "width": 1.3
         },
         "mode": "lines",
         "name": "Gortons Fish Fillets 100% Real Wild Caught Crunchy Breaded 10 Count ",
         "text": "",
         "type": "scatter",
         "x": [
          -0.6931471805599453,
          -0.5108256237659907,
          -0.35667494393873245,
          -0.22314355131420968,
          -0.10536051565782628,
          0,
          0.09531017980432495,
          0.1823215567939546,
          0.26236426446749106,
          0.33647223662121284,
          0.4054651081081644
         ],
         "y": [
          -1.0819500851385831e-10,
          2.9008972997302126e-10,
          5.233962151203495e-10,
          -2.1300738950685114e-11,
          -5.387688074906269e-10,
          0,
          -3.79941522760121e-10,
          3.2917939431164514e-09,
          -6.429279331350467e-11,
          -5.772415878790919e-11,
          4.077626997299143e-08
         ]
        },
        {
         "line": {
          "color": "rgba(219, 64, 82, 0.48936170212765956)",
          "dash": "solid",
          "shape": "linear",
          "width": 1.3
         },
         "mode": "lines",
         "name": "Strawberries",
         "text": "",
         "type": "scatter",
         "x": [
          -0.6931471805599453,
          -0.5108256237659907,
          -0.35667494393873245,
          -0.22314355131420968,
          -0.10536051565782628,
          0,
          0.09531017980432495,
          0.1823215567939546,
          0.26236426446749106,
          0.33647223662121284,
          0.4054651081081644
         ],
         "y": [
          8.431033648999884e-13,
          4.4923953436039064e-10,
          1.5339973734529706e-10,
          -2.893362216901419e-10,
          4.567435086372065e-09,
          0,
          -9.92890214539963e-11,
          1.4449281760639316e-09,
          -5.574287699649393e-10,
          -5.253034675292967e-10,
          -5.436383567015708e-10
         ]
        },
        {
         "line": {
          "color": "rgba(0, 128, 128, 0.48936170212765956)",
          "dash": "solid",
          "shape": "linear",
          "width": 1.3
         },
         "mode": "lines",
         "name": "Avocado",
         "text": "",
         "type": "scatter",
         "x": [
          -0.6931471805599453,
          -0.5108256237659907,
          -0.35667494393873245,
          -0.22314355131420968,
          -0.10536051565782628,
          0,
          0.09531017980432495,
          0.1823215567939546,
          0.26236426446749106,
          0.33647223662121284,
          0.4054651081081644
         ],
         "y": [
          -1.3708822966636413e-10,
          -2.313889080608618e-10,
          -4.0499237305298977e-10,
          3.9281911056515755e-11,
          -4.899131101999611e-10,
          0,
          -5.352881472842555e-10,
          2.539249696172001e-09,
          1.6754797547963978e-10,
          4.896767434781193e-10,
          4.967313226177131e-10
         ]
        },
        {
         "line": {
          "color": "rgba(255, 255, 51, 0.48936170212765956)",
          "dash": "solid",
          "shape": "linear",
          "width": 1.3
         },
         "mode": "lines",
         "name": "Pineapple",
         "text": "",
         "type": "scatter",
         "x": [
          -0.6931471805599453,
          -0.5108256237659907,
          -0.35667494393873245,
          -0.22314355131420968,
          -0.10536051565782628,
          0,
          0.09531017980432495,
          0.1823215567939546,
          0.26236426446749106,
          0.33647223662121284,
          0.4054651081081644
         ],
         "y": [
          -0.011224099219433894,
          -0.0030209250547318252,
          1.937332697706605e-08,
          4.637055839658267e-09,
          -1.1991685423149013e-10,
          0,
          -1.1823986234630283e-11,
          -9.747203045171601e-11,
          -1.9679580189606783e-10,
          -1.3412826406000961e-10,
          7.630819280652688e-09
         ]
        },
        {
         "line": {
          "color": "rgba(128, 128, 0, 0.48936170212765956)",
          "dash": "solid",
          "shape": "linear",
          "width": 1.3
         },
         "mode": "lines",
         "name": "Portabella Mushroom",
         "text": "",
         "type": "scatter",
         "x": [
          -0.6931471805599453,
          -0.5108256237659907,
          -0.35667494393873245,
          -0.22314355131420968,
          -0.10536051565782628,
          0,
          0.09531017980432495,
          0.1823215567939546,
          0.26236426446749106,
          0.33647223662121284,
          0.4054651081081644
         ],
         "y": [
          3.0077330788010873e-07,
          -4.320650504975024e-10,
          -4.122693298708689e-10,
          -5.562093009940121e-10,
          1.1273448840473804e-10,
          0,
          -2.914907204923552e-10,
          3.2263203168094046e-09,
          8.872726993630096e-10,
          7.330732438634933e-09,
          2.02823225045437e-08
         ]
        },
        {
         "line": {
          "color": "rgba(251, 128, 114, 0.48936170212765956)",
          "dash": "solid",
          "shape": "linear",
          "width": 1.3
         },
         "mode": "lines",
         "name": "Bell Pepper",
         "text": "",
         "type": "scatter",
         "x": [
          -0.6931471805599453,
          -0.5108256237659907,
          -0.35667494393873245,
          -0.22314355131420968,
          -0.10536051565782628,
          0,
          0.09531017980432495,
          0.1823215567939546,
          0.26236426446749106,
          0.33647223662121284,
          0.4054651081081644
         ],
         "y": [
          -8.346558609009462e-05,
          3.130581012047776e-08,
          -1.9179458023606716e-10,
          -1.4307133256920968e-10,
          -1.447156838912186e-10,
          0,
          -5.308902208144633e-10,
          -3.2658986626721685e-11,
          -4.6917580932549894e-11,
          9.426901477202832e-10,
          1.4677818949479525e-09
         ]
        },
        {
         "line": {
          "color": "rgba(128, 177, 211, 0.48936170212765956)",
          "dash": "solid",
          "shape": "linear",
          "width": 1.3
         },
         "mode": "lines",
         "name": "Cucumber",
         "text": "",
         "type": "scatter",
         "x": [
          -0.6931471805599453,
          -0.5108256237659907,
          -0.35667494393873245,
          -0.22314355131420968,
          -0.10536051565782628,
          0,
          0.09531017980432495,
          0.1823215567939546,
          0.26236426446749106,
          0.33647223662121284,
          0.4054651081081644
         ],
         "y": [
          -1.0908884907108114e-10,
          1.0793721471586204e-10,
          -1.6611423349347198e-10,
          -4.170483959046521e-10,
          -4.435429801317836e-11,
          0,
          3.215401278049847e-10,
          6.775848768661221e-10,
          6.746738720975231e-10,
          5.118483413579908e-10,
          2.1715007567509177e-10
         ]
        },
        {
         "line": {
          "color": "rgba(255, 153, 51, 0.48936170212765956)",
          "dash": "solid",
          "shape": "linear",
          "width": 1.3
         },
         "mode": "lines",
         "name": "Navel Oranges",
         "text": "",
         "type": "scatter",
         "x": [
          -0.6931471805599453,
          -0.5108256237659907,
          -0.35667494393873245,
          -0.22314355131420968,
          -0.10536051565782628,
          0,
          0.09531017980432495,
          0.1823215567939546,
          0.26236426446749106,
          0.33647223662121284,
          0.4054651081081644
         ],
         "y": [
          -0.027247000756272306,
          -0.02173788485372512,
          -0.01625895340451828,
          -0.01080987644946762,
          -0.005390331685939762,
          0,
          0.005361431561355089,
          0.010694271343407693,
          0.01599882309950298,
          0.02127538436122415,
          0.026524276901381514
         ]
        },
        {
         "line": {
          "color": "rgba(55, 128, 191, 0.48936170212765956)",
          "dash": "solid",
          "shape": "linear",
          "width": 1.3
         },
         "mode": "lines",
         "name": "Lettuce",
         "text": "",
         "type": "scatter",
         "x": [
          -0.6931471805599453,
          -0.5108256237659907,
          -0.35667494393873245,
          -0.22314355131420968,
          -0.10536051565782628,
          0,
          0.09531017980432495,
          0.1823215567939546,
          0.26236426446749106,
          0.33647223662121284,
          0.4054651081081644
         ],
         "y": [
          1.0972346784266884e-07,
          -1.613600364566437e-10,
          -3.607419918989579e-10,
          -9.548695168349472e-11,
          3.495670419734162e-11,
          0,
          -5.372072788056516e-10,
          3.267162979262104e-09,
          5.334133133770393e-10,
          -9.298750658792056e-11,
          5.97676839565725e-09
         ]
        },
        {
         "line": {
          "color": "rgba(50, 171, 96, 0.48936170212765956)",
          "dash": "solid",
          "shape": "linear",
          "width": 1.3
         },
         "mode": "lines",
         "name": "Green Beans",
         "text": "",
         "type": "scatter",
         "x": [
          -0.6931471805599453,
          -0.5108256237659907,
          -0.35667494393873245,
          -0.22314355131420968,
          -0.10536051565782628,
          0,
          0.09531017980432495,
          0.1823215567939546,
          0.26236426446749106,
          0.33647223662121284,
          0.4054651081081644
         ],
         "y": [
          -5.050846409059191e-10,
          4.638842733136157e-07,
          2.0518797820711713e-07,
          2.9427007875019127e-07,
          -1.7743584379574994e-12,
          0,
          2.827948783849897e-07,
          -5.613479682663609e-10,
          -4.682428890165259e-10,
          -5.022262607052794e-10,
          -5.152063221819852e-10
         ]
        },
        {
         "line": {
          "color": "rgba(128, 0, 128, 0.48936170212765956)",
          "dash": "solid",
          "shape": "linear",
          "width": 1.3
         },
         "mode": "lines",
         "name": "Green Grapes",
         "text": "",
         "type": "scatter",
         "x": [
          -0.6931471805599453,
          -0.5108256237659907,
          -0.35667494393873245,
          -0.22314355131420968,
          -0.10536051565782628,
          0,
          0.09531017980432495,
          0.1823215567939546,
          0.26236426446749106,
          0.33647223662121284,
          0.4054651081081644
         ],
         "y": [
          -1.9461632307599965e-10,
          -1.0023815111784304e-10,
          5.166818071141928e-09,
          -1.0230460923378712e-10,
          -3.6777769725317533e-10,
          0,
          -1.2066214694801064e-10,
          -5.336965315553021e-10,
          1.9722909952425765e-09,
          9.776342132457046e-09,
          5.069014096073859e-10
         ]
        },
        {
         "line": {
          "color": "rgba(128, 0, 128, 0.40425531914893603)",
          "dash": "solid",
          "shape": "linear",
          "width": 1.3
         },
         "mode": "lines",
         "name": "Watermelon",
         "text": "",
         "type": "scatter",
         "x": [
          -0.6931471805599453,
          -0.5108256237659907,
          -0.35667494393873245,
          -0.22314355131420968,
          -0.10536051565782628,
          0,
          0.09531017980432495,
          0.1823215567939546,
          0.26236426446749106,
          0.33647223662121284,
          0.4054651081081644
         ],
         "y": [
          6.310241308005735e-08,
          -4.654080455441246e-10,
          -3.3246827518793663e-10,
          -4.725625447627694e-10,
          -1.9739065939277922e-10,
          0,
          -2.472050342511541e-10,
          -5.466888054856938e-10,
          -5.440800034210069e-10,
          7.997196872719001e-09,
          2.690613950239909e-09
         ]
        },
        {
         "line": {
          "color": "rgba(219, 64, 82, 0.40425531914893603)",
          "dash": "solid",
          "shape": "linear",
          "width": 1.3
         },
         "mode": "lines",
         "name": "Blueberries",
         "text": "",
         "type": "scatter",
         "x": [
          -0.6931471805599453,
          -0.5108256237659907,
          -0.35667494393873245,
          -0.22314355131420968,
          -0.10536051565782628,
          0,
          0.09531017980432495,
          0.1823215567939546,
          0.26236426446749106,
          0.33647223662121284,
          0.4054651081081644
         ],
         "y": [
          -5.376089574961768e-10,
          -5.519329439453914e-10,
          -5.335631937699735e-10,
          -5.555141903579078e-10,
          -1.8361989708191522e-10,
          0,
          -1.4061918297437227e-10,
          -1.0083578417205885e-10,
          -8.684231112376531e-11,
          2.625553107915061e-10,
          1.7682619797197282e-09
         ]
        },
        {
         "line": {
          "color": "rgba(0, 128, 128, 0.40425531914893603)",
          "dash": "solid",
          "shape": "linear",
          "width": 1.3
         },
         "mode": "lines",
         "name": "Cherries",
         "text": "",
         "type": "scatter",
         "x": [
          -0.6931471805599453,
          -0.5108256237659907,
          -0.35667494393873245,
          -0.22314355131420968,
          -0.10536051565782628,
          0,
          0.09531017980432495,
          0.1823215567939546,
          0.26236426446749106,
          0.33647223662121284,
          0.4054651081081644
         ],
         "y": [
          2.8926083746307626e-10,
          2.441336021931728e-10,
          5.072925400207073e-09,
          8.522582639250857e-11,
          -3.898457113443116e-10,
          0,
          -1.0266654193985201e-10,
          -5.321526554164356e-10,
          2.279264108185197e-09,
          4.014609747683981e-09,
          -3.427773621088766e-10
         ]
        },
        {
         "line": {
          "color": "rgba(255, 255, 51, 0.40425531914893603)",
          "dash": "solid",
          "shape": "linear",
          "width": 1.3
         },
         "mode": "lines",
         "name": "Pear",
         "text": "",
         "type": "scatter",
         "x": [
          -0.6931471805599453,
          -0.5108256237659907,
          -0.35667494393873245,
          -0.22314355131420968,
          -0.10536051565782628,
          0,
          0.09531017980432495,
          0.1823215567939546,
          0.26236426446749106,
          0.33647223662121284,
          0.4054651081081644
         ],
         "y": [
          -9.787604061041657e-11,
          -3.1970548435959147e-10,
          -2.775428776077185e-10,
          -1.6226420208804474e-10,
          1.5848677924333624e-10,
          0,
          -5.740197206614442e-11,
          -2.277293909262523e-10,
          1.5400556865162743e-07,
          -5.35093858254842e-10,
          -5.389347858328978e-10
         ]
        },
        {
         "line": {
          "color": "rgba(128, 128, 0, 0.40425531914893603)",
          "dash": "solid",
          "shape": "linear",
          "width": 1.3
         },
         "mode": "lines",
         "name": "Mango",
         "text": "",
         "type": "scatter",
         "x": [
          -0.6931471805599453,
          -0.5108256237659907,
          -0.35667494393873245,
          -0.22314355131420968,
          -0.10536051565782628,
          0,
          0.09531017980432495,
          0.1823215567939546,
          0.26236426446749106,
          0.33647223662121284,
          0.4054651081081644
         ],
         "y": [
          -0.03467733087069498,
          -0.0188979258066806,
          -0.0033636707942424084,
          1.7268622072930147e-09,
          -2.2630319842849505e-10,
          0,
          7.107647803647726e-13,
          -5.396560976013329e-11,
          -1.1547252044109008e-10,
          -1.7077739224228807e-10,
          -2.2207824470733682e-10
         ]
        },
        {
         "line": {
          "color": "rgba(251, 128, 114, 0.40425531914893603)",
          "dash": "solid",
          "shape": "linear",
          "width": 1.3
         },
         "mode": "lines",
         "name": "Asparagus",
         "text": "",
         "type": "scatter",
         "x": [
          -0.6931471805599453,
          -0.5108256237659907,
          -0.35667494393873245,
          -0.22314355131420968,
          -0.10536051565782628,
          0,
          0.09531017980432495,
          0.1823215567939546,
          0.26236426446749106,
          0.33647223662121284,
          0.4054651081081644
         ],
         "y": [
          1.649899092615536e-08,
          -5.505844670589384e-10,
          2.3028845494556656e-10,
          3.29256918148355e-07,
          -4.824036726800481e-10,
          0,
          1.6378984478905757e-08,
          2.5423539172683117e-08,
          4.86186747244984e-07,
          -5.30929966798766e-10,
          -4.015909827710739e-10
         ]
        },
        {
         "line": {
          "color": "rgba(128, 177, 211, 0.40425531914893603)",
          "dash": "solid",
          "shape": "linear",
          "width": 1.3
         },
         "mode": "lines",
         "name": "Cauliflower",
         "text": "",
         "type": "scatter",
         "x": [
          -0.6931471805599453,
          -0.5108256237659907,
          -0.35667494393873245,
          -0.22314355131420968,
          -0.10536051565782628,
          0,
          0.09531017980432495,
          0.1823215567939546,
          0.26236426446749106,
          0.33647223662121284,
          0.4054651081081644
         ],
         "y": [
          -3.505389312767217e-10,
          2.5156099422607425e-10,
          -1.0406453476773126e-11,
          -3.7546599170156167e-10,
          -4.177491685995565e-11,
          0,
          -1.3725087733949403e-10,
          6.3793532475121365e-09,
          -5.232576595607474e-10,
          -1.4415391104067713e-10,
          2.2867319123209865e-09
         ]
        },
        {
         "line": {
          "color": "rgba(255, 153, 51, 0.40425531914893603)",
          "dash": "solid",
          "shape": "linear",
          "width": 1.3
         },
         "mode": "lines",
         "name": "Plated Brussels Sprouts With Tomato Chipotle Butter",
         "text": "",
         "type": "scatter",
         "x": [
          -0.6931471805599453,
          -0.5108256237659907,
          -0.35667494393873245,
          -0.22314355131420968,
          -0.10536051565782628,
          0,
          0.09531017980432495,
          0.1823215567939546,
          0.26236426446749106,
          0.33647223662121284,
          0.4054651081081644
         ],
         "y": [
          2.6417703545355663e-09,
          1.92153404280772e-10,
          -7.821254755264178e-11,
          1.5035395150000299e-10,
          6.35117291889849e-10,
          0,
          5.499818376983601e-10,
          1.1233536317064365e-09,
          1.2815370978417973e-09,
          1.2771206306554885e-09,
          1.0939606992066772e-09
         ]
        },
        {
         "line": {
          "color": "rgba(55, 128, 191, 0.40425531914893603)",
          "dash": "solid",
          "shape": "linear",
          "width": 1.3
         },
         "mode": "lines",
         "name": "Plated Asparagus And Mushrooms",
         "text": "",
         "type": "scatter",
         "x": [
          -0.6931471805599453,
          -0.5108256237659907,
          -0.35667494393873245,
          -0.22314355131420968,
          -0.10536051565782628,
          0,
          0.09531017980432495,
          0.1823215567939546,
          0.26236426446749106,
          0.33647223662121284,
          0.4054651081081644
         ],
         "y": [
          1.4107670236090853e-07,
          1.0284456566773021e-08,
          -2.7980640031095506e-10,
          -1.6580536944797e-10,
          2.2441626332505423e-10,
          0,
          1.9528549869224233e-09,
          7.808444998651602e-10,
          4.4021675184327465e-10,
          -1.9102930350504658e-10,
          1.6113587587186096e-07
         ]
        },
        {
         "line": {
          "color": "rgba(50, 171, 96, 0.40425531914893603)",
          "dash": "solid",
          "shape": "linear",
          "width": 1.3
         },
         "mode": "lines",
         "name": "Plated Squash Mixed With Dill ",
         "text": "",
         "type": "scatter",
         "x": [
          -0.6931471805599453,
          -0.5108256237659907,
          -0.35667494393873245,
          -0.22314355131420968,
          -0.10536051565782628,
          0,
          0.09531017980432495,
          0.1823215567939546,
          0.26236426446749106,
          0.33647223662121284,
          0.4054651081081644
         ],
         "y": [
          1.1525611378341377e-07,
          -1.6118995027755173e-11,
          8.467648803997071e-11,
          -5.1259996248979436e-11,
          2.218913494925332e-09,
          0,
          2.0196335694533585e-09,
          5.441396221013738e-10,
          5.933387114788691e-11,
          -5.150642136347599e-10,
          1.589656282851428e-08
         ]
        },
        {
         "line": {
          "color": "rgba(50, 171, 96, 0.3191489361702127)",
          "dash": "solid",
          "shape": "linear",
          "width": 1.3
         },
         "mode": "lines",
         "name": "Organics Organic Baby Arugula",
         "text": "",
         "type": "scatter",
         "x": [
          -0.6931471805599453,
          -0.5108256237659907,
          -0.35667494393873245,
          -0.22314355131420968,
          -0.10536051565782628,
          0,
          0.09531017980432495,
          0.1823215567939546,
          0.26236426446749106,
          0.33647223662121284,
          0.4054651081081644
         ],
         "y": [
          -2.6383684129810345e-10,
          -4.3569248218743406e-10,
          7.660241300803333e-09,
          -1.0555500918332e-10,
          3.7152976182047545e-09,
          0,
          3.2898275161017063e-09,
          4.739413305130834e-10,
          8.303024933919457e-11,
          -3.433862084157899e-10,
          4.575018185804872e-07
         ]
        },
        {
         "line": {
          "color": "rgba(128, 0, 128, 0.3191489361702127)",
          "dash": "solid",
          "shape": "linear",
          "width": 1.3
         },
         "mode": "lines",
         "name": "Signature Farms Baby Peeled Carrots ",
         "text": "",
         "type": "scatter",
         "x": [
          -0.6931471805599453,
          -0.5108256237659907,
          -0.35667494393873245,
          -0.22314355131420968,
          -0.10536051565782628,
          0,
          0.09531017980432495,
          0.1823215567939546,
          0.26236426446749106,
          0.33647223662121284,
          0.4054651081081644
         ],
         "y": [
          -3.5921166048126376e-10,
          -5.489323441750854e-10,
          5.421922909172389e-10,
          3.774136558119537e-10,
          -3.0970281899378077e-10,
          0,
          -4.980788005501129e-10,
          -4.104540042025576e-10,
          -2.8476110362665087e-10,
          -3.9183045704620975e-10,
          -2.2836421645187774e-10
         ]
        },
        {
         "line": {
          "color": "rgba(219, 64, 82, 0.3191489361702127)",
          "dash": "solid",
          "shape": "linear",
          "width": 1.3
         },
         "mode": "lines",
         "name": "Signature Farms Salad Baby Spinach",
         "text": "",
         "type": "scatter",
         "x": [
          -0.6931471805599453,
          -0.5108256237659907,
          -0.35667494393873245,
          -0.22314355131420968,
          -0.10536051565782628,
          0,
          0.09531017980432495,
          0.1823215567939546,
          0.26236426446749106,
          0.33647223662121284,
          0.4054651081081644
         ],
         "y": [
          -9.69151425825099e-11,
          -5.588496333926477e-10,
          1.5056484435942614e-07,
          4.889255972775632e-07,
          1.6284151803442631e-10,
          0,
          6.733578137250195e-10,
          2.863831641901165e-08,
          2.7566651780855875e-07,
          4.915518112353628e-07,
          -3.576832164427144e-10
         ]
        },
        {
         "line": {
          "color": "rgba(0, 128, 128, 0.3191489361702127)",
          "dash": "solid",
          "shape": "linear",
          "width": 1.3
         },
         "mode": "lines",
         "name": "Signature Farms Broccoli Cauliflower",
         "text": "",
         "type": "scatter",
         "x": [
          -0.6931471805599453,
          -0.5108256237659907,
          -0.35667494393873245,
          -0.22314355131420968,
          -0.10536051565782628,
          0,
          0.09531017980432495,
          0.1823215567939546,
          0.26236426446749106,
          0.33647223662121284,
          0.4054651081081644
         ],
         "y": [
          4.173231537739873e-07,
          1.0280725253330596e-07,
          -1.259515825048845e-10,
          -1.4185419506713972e-10,
          5.568586243270522e-09,
          0,
          -4.802390708478946e-10,
          9.884173474805772e-10,
          1.1692928840559248e-09,
          1.2335210623101654e-09,
          1.139466520489196e-09
         ]
        },
        {
         "line": {
          "color": "rgba(255, 255, 51, 0.3191489361702127)",
          "dash": "solid",
          "shape": "linear",
          "width": 1.3
         },
         "mode": "lines",
         "name": "Signature Farms Brussels Sprouts",
         "text": "",
         "type": "scatter",
         "x": [
          -0.6931471805599453,
          -0.5108256237659907,
          -0.35667494393873245,
          -0.22314355131420968,
          -0.10536051565782628,
          0,
          0.09531017980432495,
          0.1823215567939546,
          0.26236426446749106,
          0.33647223662121284,
          0.4054651081081644
         ],
         "y": [
          2.1320988747045925e-08,
          1.1139533739258524e-10,
          1.7583277041128995e-09,
          2.1856871865564874e-10,
          -3.0330959970451727e-10,
          0,
          -3.7294556339011445e-10,
          7.879050742070282e-10,
          -6.5838445806537764e-12,
          -1.458599907532922e-11,
          -1.347699729601559e-11
         ]
        },
        {
         "line": {
          "color": "rgba(128, 128, 0, 0.3191489361702127)",
          "dash": "solid",
          "shape": "linear",
          "width": 1.3
         },
         "mode": "lines",
         "name": "Signature Farms Carrot Chips ",
         "text": "",
         "type": "scatter",
         "x": [
          -0.6931471805599453,
          -0.5108256237659907,
          -0.35667494393873245,
          -0.22314355131420968,
          -0.10536051565782628,
          0,
          0.09531017980432495,
          0.1823215567939546,
          0.26236426446749106,
          0.33647223662121284,
          0.4054651081081644
         ],
         "y": [
          -4.5750658827422115e-10,
          8.095102365884705e-11,
          1.444744324070598e-10,
          8.895106873292798e-13,
          4.6049668311666774e-07,
          0,
          6.065794571402844e-08,
          8.006224096059994e-09,
          2.3679797841978247e-08,
          -3.419377004350651e-10,
          -1.162344665029786e-10
         ]
        },
        {
         "line": {
          "color": "rgba(251, 128, 114, 0.3191489361702127)",
          "dash": "solid",
          "shape": "linear",
          "width": 1.3
         },
         "mode": "lines",
         "name": "Peanut Butter",
         "text": "",
         "type": "scatter",
         "x": [
          -0.6931471805599453,
          -0.5108256237659907,
          -0.35667494393873245,
          -0.22314355131420968,
          -0.10536051565782628,
          0,
          0.09531017980432495,
          0.1823215567939546,
          0.26236426446749106,
          0.33647223662121284,
          0.4054651081081644
         ],
         "y": [
          -0.07309985635074379,
          -0.04524098335234179,
          -0.028233602506801153,
          -0.018342621983548805,
          -0.009129254884681505,
          0,
          0.009046670364952474,
          0.018012220442328048,
          0.02606724245649445,
          0.03062931778261984,
          0.03508309550319135
         ]
        },
        {
         "line": {
          "color": "rgba(128, 177, 211, 0.3191489361702127)",
          "dash": "solid",
          "shape": "linear",
          "width": 1.3
         },
         "mode": "lines",
         "name": "Almonds ",
         "text": "",
         "type": "scatter",
         "x": [
          -0.6931471805599453,
          -0.5108256237659907,
          -0.35667494393873245,
          -0.22314355131420968,
          -0.10536051565782628,
          0,
          0.09531017980432495,
          0.1823215567939546,
          0.26236426446749106,
          0.33647223662121284,
          0.4054651081081644
         ],
         "y": [
          -5.059548337130601e-10,
          -2.6530611044928116e-10,
          2.2821233788999346e-10,
          -6.671196928432135e-11,
          1.373123836855451e-12,
          0,
          -8.562284215341189e-11,
          1.0236382847229575e-09,
          3.927470254925956e-07,
          -5.405863536052217e-10,
          4.999266305849911e-07
         ]
        },
        {
         "line": {
          "color": "rgba(255, 153, 51, 0.3191489361702127)",
          "dash": "solid",
          "shape": "linear",
          "width": 1.3
         },
         "mode": "lines",
         "name": "Sauerkraut",
         "text": "",
         "type": "scatter",
         "x": [
          -0.6931471805599453,
          -0.5108256237659907,
          -0.35667494393873245,
          -0.22314355131420968,
          -0.10536051565782628,
          0,
          0.09531017980432495,
          0.1823215567939546,
          0.26236426446749106,
          0.33647223662121284,
          0.4054651081081644
         ],
         "y": [
          3.163589389953166e-10,
          8.270086834149862e-10,
          -5.579081642672398e-10,
          -2.702413848619689e-10,
          -3.585690633943801e-10,
          0,
          7.290961165480304e-10,
          -4.192971526419707e-10,
          4.97670571296079e-10,
          3.1675797097824606e-07,
          3.0819818610755477e-07
         ]
        },
        {
         "line": {
          "color": "rgba(55, 128, 191, 0.3191489361702127)",
          "dash": "solid",
          "shape": "linear",
          "width": 1.3
         },
         "mode": "lines",
         "name": "Canola Oil",
         "text": "",
         "type": "scatter",
         "x": [
          -0.6931471805599453,
          -0.5108256237659907,
          -0.35667494393873245,
          -0.22314355131420968,
          -0.10536051565782628,
          0,
          0.09531017980432495,
          0.1823215567939546,
          0.26236426446749106,
          0.33647223662121284,
          0.4054651081081644
         ],
         "y": [
          -0.05555336442695824,
          -0.04419305276476145,
          -0.032960348849080216,
          -0.021852418215921134,
          -0.010866513455627051,
          0,
          0.01074970580326481,
          0.0213850888224837,
          0.03190853901822381,
          0.04232240456222412,
          0.052628940257139614
         ]
        },
        {
         "line": {
          "color": "rgba(55, 128, 191, 0.2340425531914892)",
          "dash": "solid",
          "shape": "linear",
          "width": 1.3
         },
         "mode": "lines",
         "name": "Butter",
         "text": "",
         "type": "scatter",
         "x": [
          -0.6931471805599453,
          -0.5108256237659907,
          -0.35667494393873245,
          -0.22314355131420968,
          -0.10536051565782628,
          0,
          0.09531017980432495,
          0.1823215567939546,
          0.26236426446749106,
          0.33647223662121284,
          0.4054651081081644
         ],
         "y": [
          2.1867176496936747e-08,
          2.8918771779836265e-09,
          3.3513349816847242e-09,
          -5.536097137804096e-10,
          -3.531502868538613e-10,
          0,
          -2.2311941186006205e-10,
          -1.2289469442850125e-10,
          1.4151434368569492e-08,
          -1.7363288586211568e-10,
          -3.5933567239315895e-10
         ]
        },
        {
         "line": {
          "color": "rgba(50, 171, 96, 0.2340425531914892)",
          "dash": "solid",
          "shape": "linear",
          "width": 1.3
         },
         "mode": "lines",
         "name": "Gouda Cheese",
         "text": "",
         "type": "scatter",
         "x": [
          -0.6931471805599453,
          -0.5108256237659907,
          -0.35667494393873245,
          -0.22314355131420968,
          -0.10536051565782628,
          0,
          0.09531017980432495,
          0.1823215567939546,
          0.26236426446749106,
          0.33647223662121284,
          0.4054651081081644
         ],
         "y": [
          -3.870818111234336e-10,
          -2.8196966987504484e-10,
          -5.228945056092025e-10,
          -5.618882027904469e-10,
          4.5730739752356694e-07,
          0,
          1.6800896215682574e-09,
          3.207309301886088e-09,
          1.902280775534554e-09,
          3.872837605417024e-10,
          -5.124402015147103e-10
         ]
        },
        {
         "line": {
          "color": "rgba(128, 0, 128, 0.2340425531914892)",
          "dash": "solid",
          "shape": "linear",
          "width": 1.3
         },
         "mode": "lines",
         "name": "Sour Cream",
         "text": "",
         "type": "scatter",
         "x": [
          -0.6931471805599453,
          -0.5108256237659907,
          -0.35667494393873245,
          -0.22314355131420968,
          -0.10536051565782628,
          0,
          0.09531017980432495,
          0.1823215567939546,
          0.26236426446749106,
          0.33647223662121284,
          0.4054651081081644
         ],
         "y": [
          -9.600675810367399e-11,
          -2.3151291997274116e-10,
          -3.3544522720716075e-10,
          -1.1543255241219896e-10,
          -2.1115098560739917e-10,
          0,
          -3.0615621149834435e-11,
          -1.3936551913479005e-10,
          1.3391283628565291e-09,
          -1.0488743207854265e-10,
          9.605242777210288e-09
         ]
        },
        {
         "line": {
          "color": "rgba(219, 64, 82, 0.2340425531914892)",
          "dash": "solid",
          "shape": "linear",
          "width": 1.3
         },
         "mode": "lines",
         "name": "Sunflower Seeds",
         "text": "",
         "type": "scatter",
         "x": [
          -0.6931471805599453,
          -0.5108256237659907,
          -0.35667494393873245,
          -0.22314355131420968,
          -0.10536051565782628,
          0,
          0.09531017980432495,
          0.1823215567939546,
          0.26236426446749106,
          0.33647223662121284,
          0.4054651081081644
         ],
         "y": [
          -0.03014767838009102,
          -0.014269712277458154,
          1.4830585094377527e-08,
          -2.107580776589129e-11,
          2.2728485760100375e-12,
          0,
          -7.194023154991966e-12,
          -1.2412959549201066e-11,
          4.7746029351284715e-11,
          7.683387259465194e-11,
          8.727130129290153e-11
         ]
        }
       ],
       "layout": {
        "autosize": true,
        "legend": {
         "bgcolor": "#F5F6F9",
         "font": {
          "color": "#4D5663"
         }
        },
        "paper_bgcolor": "#F5F6F9",
        "plot_bgcolor": "#F5F6F9",
        "template": {
         "data": {
          "bar": [
           {
            "error_x": {
             "color": "#2a3f5f"
            },
            "error_y": {
             "color": "#2a3f5f"
            },
            "marker": {
             "line": {
              "color": "#E5ECF6",
              "width": 0.5
             },
             "pattern": {
              "fillmode": "overlay",
              "size": 10,
              "solidity": 0.2
             }
            },
            "type": "bar"
           }
          ],
          "barpolar": [
           {
            "marker": {
             "line": {
              "color": "#E5ECF6",
              "width": 0.5
             },
             "pattern": {
              "fillmode": "overlay",
              "size": 10,
              "solidity": 0.2
             }
            },
            "type": "barpolar"
           }
          ],
          "carpet": [
           {
            "aaxis": {
             "endlinecolor": "#2a3f5f",
             "gridcolor": "white",
             "linecolor": "white",
             "minorgridcolor": "white",
             "startlinecolor": "#2a3f5f"
            },
            "baxis": {
             "endlinecolor": "#2a3f5f",
             "gridcolor": "white",
             "linecolor": "white",
             "minorgridcolor": "white",
             "startlinecolor": "#2a3f5f"
            },
            "type": "carpet"
           }
          ],
          "choropleth": [
           {
            "colorbar": {
             "outlinewidth": 0,
             "ticks": ""
            },
            "type": "choropleth"
           }
          ],
          "contour": [
           {
            "colorbar": {
             "outlinewidth": 0,
             "ticks": ""
            },
            "colorscale": [
             [
              0,
              "#0d0887"
             ],
             [
              0.1111111111111111,
              "#46039f"
             ],
             [
              0.2222222222222222,
              "#7201a8"
             ],
             [
              0.3333333333333333,
              "#9c179e"
             ],
             [
              0.4444444444444444,
              "#bd3786"
             ],
             [
              0.5555555555555556,
              "#d8576b"
             ],
             [
              0.6666666666666666,
              "#ed7953"
             ],
             [
              0.7777777777777778,
              "#fb9f3a"
             ],
             [
              0.8888888888888888,
              "#fdca26"
             ],
             [
              1,
              "#f0f921"
             ]
            ],
            "type": "contour"
           }
          ],
          "contourcarpet": [
           {
            "colorbar": {
             "outlinewidth": 0,
             "ticks": ""
            },
            "type": "contourcarpet"
           }
          ],
          "heatmap": [
           {
            "colorbar": {
             "outlinewidth": 0,
             "ticks": ""
            },
            "colorscale": [
             [
              0,
              "#0d0887"
             ],
             [
              0.1111111111111111,
              "#46039f"
             ],
             [
              0.2222222222222222,
              "#7201a8"
             ],
             [
              0.3333333333333333,
              "#9c179e"
             ],
             [
              0.4444444444444444,
              "#bd3786"
             ],
             [
              0.5555555555555556,
              "#d8576b"
             ],
             [
              0.6666666666666666,
              "#ed7953"
             ],
             [
              0.7777777777777778,
              "#fb9f3a"
             ],
             [
              0.8888888888888888,
              "#fdca26"
             ],
             [
              1,
              "#f0f921"
             ]
            ],
            "type": "heatmap"
           }
          ],
          "heatmapgl": [
           {
            "colorbar": {
             "outlinewidth": 0,
             "ticks": ""
            },
            "colorscale": [
             [
              0,
              "#0d0887"
             ],
             [
              0.1111111111111111,
              "#46039f"
             ],
             [
              0.2222222222222222,
              "#7201a8"
             ],
             [
              0.3333333333333333,
              "#9c179e"
             ],
             [
              0.4444444444444444,
              "#bd3786"
             ],
             [
              0.5555555555555556,
              "#d8576b"
             ],
             [
              0.6666666666666666,
              "#ed7953"
             ],
             [
              0.7777777777777778,
              "#fb9f3a"
             ],
             [
              0.8888888888888888,
              "#fdca26"
             ],
             [
              1,
              "#f0f921"
             ]
            ],
            "type": "heatmapgl"
           }
          ],
          "histogram": [
           {
            "marker": {
             "pattern": {
              "fillmode": "overlay",
              "size": 10,
              "solidity": 0.2
             }
            },
            "type": "histogram"
           }
          ],
          "histogram2d": [
           {
            "colorbar": {
             "outlinewidth": 0,
             "ticks": ""
            },
            "colorscale": [
             [
              0,
              "#0d0887"
             ],
             [
              0.1111111111111111,
              "#46039f"
             ],
             [
              0.2222222222222222,
              "#7201a8"
             ],
             [
              0.3333333333333333,
              "#9c179e"
             ],
             [
              0.4444444444444444,
              "#bd3786"
             ],
             [
              0.5555555555555556,
              "#d8576b"
             ],
             [
              0.6666666666666666,
              "#ed7953"
             ],
             [
              0.7777777777777778,
              "#fb9f3a"
             ],
             [
              0.8888888888888888,
              "#fdca26"
             ],
             [
              1,
              "#f0f921"
             ]
            ],
            "type": "histogram2d"
           }
          ],
          "histogram2dcontour": [
           {
            "colorbar": {
             "outlinewidth": 0,
             "ticks": ""
            },
            "colorscale": [
             [
              0,
              "#0d0887"
             ],
             [
              0.1111111111111111,
              "#46039f"
             ],
             [
              0.2222222222222222,
              "#7201a8"
             ],
             [
              0.3333333333333333,
              "#9c179e"
             ],
             [
              0.4444444444444444,
              "#bd3786"
             ],
             [
              0.5555555555555556,
              "#d8576b"
             ],
             [
              0.6666666666666666,
              "#ed7953"
             ],
             [
              0.7777777777777778,
              "#fb9f3a"
             ],
             [
              0.8888888888888888,
              "#fdca26"
             ],
             [
              1,
              "#f0f921"
             ]
            ],
            "type": "histogram2dcontour"
           }
          ],
          "mesh3d": [
           {
            "colorbar": {
             "outlinewidth": 0,
             "ticks": ""
            },
            "type": "mesh3d"
           }
          ],
          "parcoords": [
           {
            "line": {
             "colorbar": {
              "outlinewidth": 0,
              "ticks": ""
             }
            },
            "type": "parcoords"
           }
          ],
          "pie": [
           {
            "automargin": true,
            "type": "pie"
           }
          ],
          "scatter": [
           {
            "marker": {
             "colorbar": {
              "outlinewidth": 0,
              "ticks": ""
             }
            },
            "type": "scatter"
           }
          ],
          "scatter3d": [
           {
            "line": {
             "colorbar": {
              "outlinewidth": 0,
              "ticks": ""
             }
            },
            "marker": {
             "colorbar": {
              "outlinewidth": 0,
              "ticks": ""
             }
            },
            "type": "scatter3d"
           }
          ],
          "scattercarpet": [
           {
            "marker": {
             "colorbar": {
              "outlinewidth": 0,
              "ticks": ""
             }
            },
            "type": "scattercarpet"
           }
          ],
          "scattergeo": [
           {
            "marker": {
             "colorbar": {
              "outlinewidth": 0,
              "ticks": ""
             }
            },
            "type": "scattergeo"
           }
          ],
          "scattergl": [
           {
            "marker": {
             "colorbar": {
              "outlinewidth": 0,
              "ticks": ""
             }
            },
            "type": "scattergl"
           }
          ],
          "scattermapbox": [
           {
            "marker": {
             "colorbar": {
              "outlinewidth": 0,
              "ticks": ""
             }
            },
            "type": "scattermapbox"
           }
          ],
          "scatterpolar": [
           {
            "marker": {
             "colorbar": {
              "outlinewidth": 0,
              "ticks": ""
             }
            },
            "type": "scatterpolar"
           }
          ],
          "scatterpolargl": [
           {
            "marker": {
             "colorbar": {
              "outlinewidth": 0,
              "ticks": ""
             }
            },
            "type": "scatterpolargl"
           }
          ],
          "scatterternary": [
           {
            "marker": {
             "colorbar": {
              "outlinewidth": 0,
              "ticks": ""
             }
            },
            "type": "scatterternary"
           }
          ],
          "surface": [
           {
            "colorbar": {
             "outlinewidth": 0,
             "ticks": ""
            },
            "colorscale": [
             [
              0,
              "#0d0887"
             ],
             [
              0.1111111111111111,
              "#46039f"
             ],
             [
              0.2222222222222222,
              "#7201a8"
             ],
             [
              0.3333333333333333,
              "#9c179e"
             ],
             [
              0.4444444444444444,
              "#bd3786"
             ],
             [
              0.5555555555555556,
              "#d8576b"
             ],
             [
              0.6666666666666666,
              "#ed7953"
             ],
             [
              0.7777777777777778,
              "#fb9f3a"
             ],
             [
              0.8888888888888888,
              "#fdca26"
             ],
             [
              1,
              "#f0f921"
             ]
            ],
            "type": "surface"
           }
          ],
          "table": [
           {
            "cells": {
             "fill": {
              "color": "#EBF0F8"
             },
             "line": {
              "color": "white"
             }
            },
            "header": {
             "fill": {
              "color": "#C8D4E3"
             },
             "line": {
              "color": "white"
             }
            },
            "type": "table"
           }
          ]
         },
         "layout": {
          "annotationdefaults": {
           "arrowcolor": "#2a3f5f",
           "arrowhead": 0,
           "arrowwidth": 1
          },
          "autotypenumbers": "strict",
          "coloraxis": {
           "colorbar": {
            "outlinewidth": 0,
            "ticks": ""
           }
          },
          "colorscale": {
           "diverging": [
            [
             0,
             "#8e0152"
            ],
            [
             0.1,
             "#c51b7d"
            ],
            [
             0.2,
             "#de77ae"
            ],
            [
             0.3,
             "#f1b6da"
            ],
            [
             0.4,
             "#fde0ef"
            ],
            [
             0.5,
             "#f7f7f7"
            ],
            [
             0.6,
             "#e6f5d0"
            ],
            [
             0.7,
             "#b8e186"
            ],
            [
             0.8,
             "#7fbc41"
            ],
            [
             0.9,
             "#4d9221"
            ],
            [
             1,
             "#276419"
            ]
           ],
           "sequential": [
            [
             0,
             "#0d0887"
            ],
            [
             0.1111111111111111,
             "#46039f"
            ],
            [
             0.2222222222222222,
             "#7201a8"
            ],
            [
             0.3333333333333333,
             "#9c179e"
            ],
            [
             0.4444444444444444,
             "#bd3786"
            ],
            [
             0.5555555555555556,
             "#d8576b"
            ],
            [
             0.6666666666666666,
             "#ed7953"
            ],
            [
             0.7777777777777778,
             "#fb9f3a"
            ],
            [
             0.8888888888888888,
             "#fdca26"
            ],
            [
             1,
             "#f0f921"
            ]
           ],
           "sequentialminus": [
            [
             0,
             "#0d0887"
            ],
            [
             0.1111111111111111,
             "#46039f"
            ],
            [
             0.2222222222222222,
             "#7201a8"
            ],
            [
             0.3333333333333333,
             "#9c179e"
            ],
            [
             0.4444444444444444,
             "#bd3786"
            ],
            [
             0.5555555555555556,
             "#d8576b"
            ],
            [
             0.6666666666666666,
             "#ed7953"
            ],
            [
             0.7777777777777778,
             "#fb9f3a"
            ],
            [
             0.8888888888888888,
             "#fdca26"
            ],
            [
             1,
             "#f0f921"
            ]
           ]
          },
          "colorway": [
           "#636efa",
           "#EF553B",
           "#00cc96",
           "#ab63fa",
           "#FFA15A",
           "#19d3f3",
           "#FF6692",
           "#B6E880",
           "#FF97FF",
           "#FECB52"
          ],
          "font": {
           "color": "#2a3f5f"
          },
          "geo": {
           "bgcolor": "white",
           "lakecolor": "white",
           "landcolor": "#E5ECF6",
           "showlakes": true,
           "showland": true,
           "subunitcolor": "white"
          },
          "hoverlabel": {
           "align": "left"
          },
          "hovermode": "closest",
          "mapbox": {
           "style": "light"
          },
          "paper_bgcolor": "white",
          "plot_bgcolor": "#E5ECF6",
          "polar": {
           "angularaxis": {
            "gridcolor": "white",
            "linecolor": "white",
            "ticks": ""
           },
           "bgcolor": "#E5ECF6",
           "radialaxis": {
            "gridcolor": "white",
            "linecolor": "white",
            "ticks": ""
           }
          },
          "scene": {
           "xaxis": {
            "backgroundcolor": "#E5ECF6",
            "gridcolor": "white",
            "gridwidth": 2,
            "linecolor": "white",
            "showbackground": true,
            "ticks": "",
            "zerolinecolor": "white"
           },
           "yaxis": {
            "backgroundcolor": "#E5ECF6",
            "gridcolor": "white",
            "gridwidth": 2,
            "linecolor": "white",
            "showbackground": true,
            "ticks": "",
            "zerolinecolor": "white"
           },
           "zaxis": {
            "backgroundcolor": "#E5ECF6",
            "gridcolor": "white",
            "gridwidth": 2,
            "linecolor": "white",
            "showbackground": true,
            "ticks": "",
            "zerolinecolor": "white"
           }
          },
          "shapedefaults": {
           "line": {
            "color": "#2a3f5f"
           }
          },
          "ternary": {
           "aaxis": {
            "gridcolor": "white",
            "linecolor": "white",
            "ticks": ""
           },
           "baxis": {
            "gridcolor": "white",
            "linecolor": "white",
            "ticks": ""
           },
           "bgcolor": "#E5ECF6",
           "caxis": {
            "gridcolor": "white",
            "linecolor": "white",
            "ticks": ""
           }
          },
          "title": {
           "x": 0.05
          },
          "xaxis": {
           "automargin": true,
           "gridcolor": "white",
           "linecolor": "white",
           "ticks": "",
           "title": {
            "standoff": 15
           },
           "zerolinecolor": "white",
           "zerolinewidth": 2
          },
          "yaxis": {
           "automargin": true,
           "gridcolor": "white",
           "linecolor": "white",
           "ticks": "",
           "title": {
            "standoff": 15
           },
           "zerolinecolor": "white",
           "zerolinewidth": 2
          }
         }
        },
        "title": {
         "font": {
          "color": "#4D5663"
         }
        },
        "xaxis": {
         "autorange": true,
         "gridcolor": "#E1E5ED",
         "range": [
          -0.6931471805599453,
          0.4054651081081644
         ],
         "showgrid": true,
         "tickfont": {
          "color": "#4D5663"
         },
         "title": {
          "font": {
           "color": "#4D5663"
          },
          "text": "change in log price"
         },
         "type": "linear",
         "zerolinecolor": "#E1E5ED"
        },
        "yaxis": {
         "autorange": true,
         "gridcolor": "#E1E5ED",
         "range": [
          -0.20058731235808147,
          0.14600677688754407
         ],
         "showgrid": true,
         "tickfont": {
          "color": "#4D5663"
         },
         "title": {
          "font": {
           "color": "#4D5663"
          },
          "text": "change in log cost"
         },
         "type": "linear",
         "zerolinecolor": "#E1E5ED"
        }
       }
      },
      "image/png": "[encoded data removed]",
      "text/html": [
       "<div>                            <div id=\"67f40709-71a7-4d0f-8d67-95d4242c8214\" class=\"plotly-graph-div\" style=\"height:525px; width:100%;\"></div>            <script type=\"text/javascript\">                require([\"plotly\"], function(Plotly) {                    window.PLOTLYENV=window.PLOTLYENV || {};\n",
       "                    window.PLOTLYENV.BASE_URL='https://plot.ly';                                    if (document.getElementById(\"67f40709-71a7-4d0f-8d67-95d4242c8214\")) {                    Plotly.newPlot(                        \"67f40709-71a7-4d0f-8d67-95d4242c8214\",                        [{\"line\":{\"color\":\"rgba(255, 153, 51, 1.0)\",\"dash\":\"solid\",\"shape\":\"linear\",\"width\":1.3},\"mode\":\"lines\",\"name\":\"Wheat Flour\",\"text\":\"\",\"x\":[-0.6931471805599453,-0.5108256237659907,-0.35667494393873245,-0.22314355131420968,-0.10536051565782628,0.0,0.09531017980432495,0.1823215567939546,0.26236426446749106,0.33647223662121284,0.4054651081081644],\"y\":[-4.439026923917781e-11,9.623724039434672e-11,3.4444669333063304e-10,-3.1601843369363936e-10,-7.297640270120632e-11,0.0,-1.2984524567504538e-10,-5.573101981458433e-10,-2.9942326400564567e-10,-3.1750446721257085e-10,3.8167181353127515e-08],\"type\":\"scatter\"},{\"line\":{\"color\":\"rgba(55, 128, 191, 1.0)\",\"dash\":\"solid\",\"shape\":\"linear\",\"width\":1.3},\"mode\":\"lines\",\"name\":\"Eggs\",\"text\":\"\",\"x\":[-0.6931471805599453,-0.5108256237659907,-0.35667494393873245,-0.22314355131420968,-0.10536051565782628,0.0,0.09531017980432495,0.1823215567939546,0.26236426446749106,0.33647223662121284,0.4054651081081644],\"y\":[-2.2667490109722374e-10,-2.660012210851836e-10,-2.2801538435406494e-11,-3.875011422924262e-11,9.414691248816895e-13,0.0,2.281930200328018e-11,-6.62803145703415e-12,-1.21460619340779e-11,-6.421840837085001e-11,-3.8255842938660477e-11],\"type\":\"scatter\"},{\"line\":{\"color\":\"rgba(50, 171, 96, 1.0)\",\"dash\":\"solid\",\"shape\":\"linear\",\"width\":1.3},\"mode\":\"lines\",\"name\":\"White Bread\",\"text\":\"\",\"x\":[-0.6931471805599453,-0.5108256237659907,-0.35667494393873245,-0.22314355131420968,-0.10536051565782628,0.0,0.09531017980432495,0.1823215567939546,0.26236426446749106,0.33647223662121284,0.4054651081081644],\"y\":[-5.121247871532528e-10,4.979313545258032e-07,-4.974026747277797e-10,-4.385097841359543e-10,-1.936006910528754e-10,0.0,-2.2476887020811704e-10,-1.2963263796580209e-10,6.041835918630962e-10,-3.8461567271788223e-10,-5.349484190385383e-10],\"type\":\"scatter\"},{\"line\":{\"color\":\"rgba(128, 0, 128, 1.0)\",\"dash\":\"solid\",\"shape\":\"linear\",\"width\":1.3},\"mode\":\"lines\",\"name\":\"Whole Milk\",\"text\":\"\",\"x\":[-0.6931471805599453,-0.5108256237659907,-0.35667494393873245,-0.22314355131420968,-0.10536051565782628,0.0,0.09531017980432495,0.1823215567939546,0.26236426446749106,0.33647223662121284,0.4054651081081644],\"y\":[-0.09145190321767835,-0.07248020222799328,-0.0538617266823715,-0.0355835723461573,-0.01763352089148228,0.0,0.017327959331269627,0.03436076819630429,0.05110831860063228,0.06757999021275835,0.08378474264824876],\"type\":\"scatter\"},{\"line\":{\"color\":\"rgba(219, 64, 82, 1.0)\",\"dash\":\"solid\",\"shape\":\"linear\",\"width\":1.3},\"mode\":\"lines\",\"name\":\"Sliced Ham\",\"text\":\"\",\"x\":[-0.6931471805599453,-0.5108256237659907,-0.35667494393873245,-0.22314355131420968,-0.10536051565782628,0.0,0.09531017980432495,0.1823215567939546,0.26236426446749106,0.33647223662121284,0.4054651081081644],\"y\":[1.3392352248537569e-08,6.081179985512442e-09,-5.394780179591398e-10,1.8553468145134984e-08,-2.4747470742390223e-10,0.0,-5.884204235146942e-11,-3.76862319200158e-10,-4.9645065837278206e-11,8.716316557031248e-11,1.5460839263553246e-09],\"type\":\"scatter\"},{\"line\":{\"color\":\"rgba(0, 128, 128, 1.0)\",\"dash\":\"solid\",\"shape\":\"linear\",\"width\":1.3},\"mode\":\"lines\",\"name\":\"Salad Greens\",\"text\":\"\",\"x\":[-0.6931471805599453,-0.5108256237659907,-0.35667494393873245,-0.22314355131420968,-0.10536051565782628,0.0,0.09531017980432495,0.1823215567939546,0.26236426446749106,0.33647223662121284,0.4054651081081644],\"y\":[-0.1832576078958002,-0.14382076537707159,-0.10588043654815527,-0.06932707568343567,-0.034062877481457435,0.0,0.032940716640679116,0.06483085792854633,0.09573542970049448,0.1226219662209556,0.1286770724252628],\"type\":\"scatter\"},{\"line\":{\"color\":\"rgba(255, 255, 51, 1.0)\",\"dash\":\"solid\",\"shape\":\"linear\",\"width\":1.3},\"mode\":\"lines\",\"name\":\"Banana\",\"text\":\"\",\"x\":[-0.6931471805599453,-0.5108256237659907,-0.35667494393873245,-0.22314355131420968,-0.10536051565782628,0.0,0.09531017980432495,0.1823215567939546,0.26236426446749106,0.33647223662121284,0.4054651081081644],\"y\":[-0.003701491980091098,-0.0001678297444280678,2.906328510765102e-10,-2.1150359244009465e-10,1.749866918017384e-11,0.0,5.968581184667214e-11,5.342060127446178e-11,4.39219771654411e-11,3.180411489672126e-11,1.989652886871442e-11],\"type\":\"scatter\"},{\"line\":{\"color\":\"rgba(128, 128, 0, 1.0)\",\"dash\":\"solid\",\"shape\":\"linear\",\"width\":1.3},\"mode\":\"lines\",\"name\":\"Chicken Breasts\",\"text\":\"\",\"x\":[-0.6931471805599453,-0.5108256237659907,-0.35667494393873245,-0.22314355131420968,-0.10536051565782628,0.0,0.09531017980432495,0.1823215567939546,0.26236426446749106,0.33647223662121284,0.4054651081081644],\"y\":[-3.428451967357044e-10,3.602921732241812e-09,-8.020939468489076e-11,-2.5502122639108286e-10,6.80557832287866e-11,0.0,-1.807005656381316e-10,-2.872229121621587e-10,-5.234419565829316e-10,4.5740979090380697e-07,3.6049445585853886e-09],\"type\":\"scatter\"},{\"line\":{\"color\":\"rgba(251, 128, 114, 1.0)\",\"dash\":\"solid\",\"shape\":\"linear\",\"width\":1.3},\"mode\":\"lines\",\"name\":\"Coffee Roast\",\"text\":\"\",\"x\":[-0.6931471805599453,-0.5108256237659907,-0.35667494393873245,-0.22314355131420968,-0.10536051565782628,0.0,0.09531017980432495,0.1823215567939546,0.26236426446749106,0.33647223662121284,0.4054651081081644],\"y\":[1.2483010173294498e-09,1.2466223601183106e-09,1.1757814714934361e-09,7.420450917639186e-10,-5.436548990246467e-10,0.0,-7.981071359671597e-11,1.4228855861200258e-09,6.655787032605664e-12,-5.294030770721895e-10,3.1659112627085166e-07],\"type\":\"scatter\"},{\"line\":{\"color\":\"rgba(128, 177, 211, 1.0)\",\"dash\":\"solid\",\"shape\":\"linear\",\"width\":1.3},\"mode\":\"lines\",\"name\":\"Tortillas\",\"text\":\"\",\"x\":[-0.6931471805599453,-0.5108256237659907,-0.35667494393873245,-0.22314355131420968,-0.10536051565782628,0.0,0.09531017980432495,0.1823215567939546,0.26236426446749106,0.33647223662121284,0.4054651081081644],\"y\":[-2.2485802111701447e-10,-2.777950092566809e-10,-1.2351586421085554e-10,-5.174694006760511e-11,-4.745759341073956e-12,0.0,9.341372119838775e-11,6.696665444170285e-11,-1.345075162452725e-10,-1.7965073873133342e-11,-2.9786484394551395e-10],\"type\":\"scatter\"},{\"line\":{\"color\":\"rgba(128, 177, 211, 0.9148936170212765)\",\"dash\":\"solid\",\"shape\":\"linear\",\"width\":1.3},\"mode\":\"lines\",\"name\":\"Salmon\",\"text\":\"\",\"x\":[-0.6931471805599453,-0.5108256237659907,-0.35667494393873245,-0.22314355131420968,-0.10536051565782628,0.0,0.09531017980432495,0.1823215567939546,0.26236426446749106,0.33647223662121284,0.4054651081081644],\"y\":[-2.1108148564604298e-10,-1.7079349047614788e-10,1.3984284521403888e-08,3.729444994338708e-08,3.99645493676882e-09,0.0,-1.6203949294782416e-10,4.3755576929902095e-10,3.998262749826662e-07,5.1837999881290666e-08,3.3983075796739536e-07],\"type\":\"scatter\"},{\"line\":{\"color\":\"rgba(255, 153, 51, 0.9148936170212765)\",\"dash\":\"solid\",\"shape\":\"linear\",\"width\":1.3},\"mode\":\"lines\",\"name\":\"Tomato\",\"text\":\"\",\"x\":[-0.6931471805599453,-0.5108256237659907,-0.35667494393873245,-0.22314355131420968,-0.10536051565782628,0.0,0.09531017980432495,0.1823215567939546,0.26236426446749106,0.33647223662121284,0.4054651081081644],\"y\":[-5.530352843871507e-10,1.2136088974533501e-07,3.078020060579911e-10,-1.2055922927361548e-10,3.1615310364661616e-10,0.0,3.3434277563155365e-10,5.639644305519113e-10,-2.8478941431378687e-10,2.0127689312530643e-08,2.2760901792969884e-08],\"type\":\"scatter\"},{\"line\":{\"color\":\"rgba(55, 128, 191, 0.9148936170212765)\",\"dash\":\"solid\",\"shape\":\"linear\",\"width\":1.3},\"mode\":\"lines\",\"name\":\"Blueberry Muffin\",\"text\":\"\",\"x\":[-0.6931471805599453,-0.5108256237659907,-0.35667494393873245,-0.22314355131420968,-0.10536051565782628,0.0,0.09531017980432495,0.1823215567939546,0.26236426446749106,0.33647223662121284,0.4054651081081644],\"y\":[-2.647071450958057e-11,-1.4327206088285355e-11,1.3140349610903813e-08,1.0796474825211515e-11,2.181721470127588e-11,0.0,-2.6627589022645204e-12,-4.326983216183447e-12,-1.0383693904768075e-11,-1.9374502002921293e-11,-2.3154922424152802e-11],\"type\":\"scatter\"},{\"line\":{\"color\":\"rgba(50, 171, 96, 0.9148936170212765)\",\"dash\":\"solid\",\"shape\":\"linear\",\"width\":1.3},\"mode\":\"lines\",\"name\":\"Russet Potatoes\",\"text\":\"\",\"x\":[-0.6931471805599453,-0.5108256237659907,-0.35667494393873245,-0.22314355131420968,-0.10536051565782628,0.0,0.09531017980432495,0.1823215567939546,0.26236426446749106,0.33647223662121284,0.4054651081081644],\"y\":[-5.372674528936186e-10,2.3403203791942203e-09,-3.0191038562615877e-10,-1.6490386835182533e-10,-4.941400623236962e-10,0.0,2.68808886325399e-07,6.316278591303703e-09,-4.801510301619996e-10,-4.446566449368083e-10,1.2239820260943072e-09],\"type\":\"scatter\"},{\"line\":{\"color\":\"rgba(128, 0, 128, 0.9148936170212765)\",\"dash\":\"solid\",\"shape\":\"linear\",\"width\":1.3},\"mode\":\"lines\",\"name\":\"Chicken Noodle Canned Soup\",\"text\":\"\",\"x\":[-0.6931471805599453,-0.5108256237659907,-0.35667494393873245,-0.22314355131420968,-0.10536051565782628,0.0,0.09531017980432495,0.1823215567939546,0.26236426446749106,0.33647223662121284,0.4054651081081644],\"y\":[1.9635881790142716e-09,9.394089953220949e-08,-2.1337098756791087e-10,2.4880675294727326e-10,1.6534862366822342e-10,0.0,5.262524180346849e-09,1.1565230988415365e-09,-1.9520707274751783e-10,1.8076939943299323e-10,-4.254552266138046e-11],\"type\":\"scatter\"},{\"line\":{\"color\":\"rgba(219, 64, 82, 0.9148936170212765)\",\"dash\":\"solid\",\"shape\":\"linear\",\"width\":1.3},\"mode\":\"lines\",\"name\":\"Canned Corn\",\"text\":\"\",\"x\":[-0.6931471805599453,-0.5108256237659907,-0.35667494393873245,-0.22314355131420968,-0.10536051565782628,0.0,0.09531017980432495,0.1823215567939546,0.26236426446749106,0.33647223662121284,0.4054651081081644],\"y\":[-1.623727818998707e-10,-1.257549620000822e-11,-2.2347457218324556e-11,-2.9255597944627906e-11,-9.4151353380755e-12,0.0,3.535416404014345e-11,9.171574610468322e-11,2.532014597668464e-10,1.7622002368597436e-08,2.0162950408282205e-07],\"type\":\"scatter\"},{\"line\":{\"color\":\"rgba(0, 128, 128, 0.9148936170212765)\",\"dash\":\"solid\",\"shape\":\"linear\",\"width\":1.3},\"mode\":\"lines\",\"name\":\"Broccoli\",\"text\":\"\",\"x\":[-0.6931471805599453,-0.5108256237659907,-0.35667494393873245,-0.22314355131420968,-0.10536051565782628,0.0,0.09531017980432495,0.1823215567939546,0.26236426446749106,0.33647223662121284,0.4054651081081644],\"y\":[-4.593034842404007e-10,-1.311108999232832e-10,1.1196799042862295e-10,-2.876000549237323e-10,-1.5688605971129733e-10,0.0,2.7179176650106792e-09,-5.263827153321024e-10,-5.353471001268946e-10,3.814380803932024e-09,4.5842925250729295e-07],\"type\":\"scatter\"},{\"line\":{\"color\":\"rgba(255, 255, 51, 0.9148936170212765)\",\"dash\":\"solid\",\"shape\":\"linear\",\"width\":1.3},\"mode\":\"lines\",\"name\":\"Apple\",\"text\":\"\",\"x\":[-0.6931471805599453,-0.5108256237659907,-0.35667494393873245,-0.22314355131420968,-0.10536051565782628,0.0,0.09531017980432495,0.1823215567939546,0.26236426446749106,0.33647223662121284,0.4054651081081644],\"y\":[4.831868146200832e-07,1.968432083804814e-10,1.4935341851036075e-10,5.493450124137755e-09,5.662359470032912e-11,0.0,-5.444299457185592e-10,3.3029767755174167e-09,4.0664324211130426e-07,2.4632812153072154e-08,1.104482788012605e-08],\"type\":\"scatter\"},{\"line\":{\"color\":\"rgba(128, 128, 0, 0.9148936170212765)\",\"dash\":\"solid\",\"shape\":\"linear\",\"width\":1.3},\"mode\":\"lines\",\"name\":\"Pasta (Rotini)\",\"text\":\"\",\"x\":[-0.6931471805599453,-0.5108256237659907,-0.35667494393873245,-0.22314355131420968,-0.10536051565782628,0.0,0.09531017980432495,0.1823215567939546,0.26236426446749106,0.33647223662121284,0.4054651081081644],\"y\":[-7.144485003862534e-11,-8.159894982262403e-11,5.248668166619655e-11,2.697531087355852e-11,6.347811165576648e-12,0.0,-1.651789816038672e-12,-1.9935164630189183e-12,-2.043143432219763e-12,-2.032818358090728e-12,-2.0767831898659742e-12],\"type\":\"scatter\"},{\"line\":{\"color\":\"rgba(251, 128, 114, 0.9148936170212765)\",\"dash\":\"solid\",\"shape\":\"linear\",\"width\":1.3},\"mode\":\"lines\",\"name\":\"Sausage\",\"text\":\"\",\"x\":[-0.6931471805599453,-0.5108256237659907,-0.35667494393873245,-0.22314355131420968,-0.10536051565782628,0.0,0.09531017980432495,0.1823215567939546,0.26236426446749106,0.33647223662121284,0.4054651081081644],\"y\":[4.5411381218859526e-09,1.638162271157456e-09,1.3836747207758376e-08,-3.162435869231045e-10,-1.0125233985094029e-10,0.0,-5.591069830898996e-10,8.022262599789798e-09,3.3668403563945553e-09,5.082243513628578e-10,4.689717502125993e-10],\"type\":\"scatter\"},{\"line\":{\"color\":\"rgba(251, 128, 114, 0.8297872340425532)\",\"dash\":\"solid\",\"shape\":\"linear\",\"width\":1.3},\"mode\":\"lines\",\"name\":\"Carrot\",\"text\":\"\",\"x\":[-0.6931471805599453,-0.5108256237659907,-0.35667494393873245,-0.22314355131420968,-0.10536051565782628,0.0,0.09531017980432495,0.1823215567939546,0.26236426446749106,0.33647223662121284,0.4054651081081644],\"y\":[-0.001171303804416584,-5.617475375331479e-10,-1.336938337904156e-10,5.786004769662197e-09,-1.9346735326759212e-10,0.0,-4.18191592553586e-10,1.575890827627121e-08,-5.052007702343535e-10,-5.271030280308585e-10,-5.31575450465626e-10],\"type\":\"scatter\"},{\"line\":{\"color\":\"rgba(128, 177, 211, 0.8297872340425532)\",\"dash\":\"solid\",\"shape\":\"linear\",\"width\":1.3},\"mode\":\"lines\",\"name\":\"Yellow Onion\",\"text\":\"\",\"x\":[-0.6931471805599453,-0.5108256237659907,-0.35667494393873245,-0.22314355131420968,-0.10536051565782628,0.0,0.09531017980432495,0.1823215567939546,0.26236426446749106,0.33647223662121284,0.4054651081081644],\"y\":[7.439604487736436e-11,2.430589063321824e-11,6.131173344922124e-10,7.76472219824295e-11,-3.145471661409422e-10,0.0,6.108626935751835e-10,-5.311028285237919e-10,2.4607928997531443e-09,2.1207118261196617e-09,1.53335465370579e-08],\"type\":\"scatter\"},{\"line\":{\"color\":\"rgba(255, 153, 51, 0.8297872340425532)\",\"dash\":\"solid\",\"shape\":\"linear\",\"width\":1.3},\"mode\":\"lines\",\"name\":\"Lentils\",\"text\":\"\",\"x\":[-0.6931471805599453,-0.5108256237659907,-0.35667494393873245,-0.22314355131420968,-0.10536051565782628,0.0,0.09531017980432495,0.1823215567939546,0.26236426446749106,0.33647223662121284,0.4054651081081644],\"y\":[-0.06863494875066398,-0.054525920404811,-0.04061319046559213,-0.026891371561757912,-0.013355295554718294,0.0,0.013179279835793168,0.026187122473841005,0.0354081471292833,0.043974782824695816,0.051892424262682854],\"type\":\"scatter\"},{\"line\":{\"color\":\"rgba(55, 128, 191, 0.8297872340425532)\",\"dash\":\"solid\",\"shape\":\"linear\",\"width\":1.3},\"mode\":\"lines\",\"name\":\"Spinach\",\"text\":\"\",\"x\":[-0.6931471805599453,-0.5108256237659907,-0.35667494393873245,-0.22314355131420968,-0.10536051565782628,0.0,0.09531017980432495,0.1823215567939546,0.26236426446749106,0.33647223662121284,0.4054651081081644],\"y\":[-0.09381857985711425,-0.05239200705777002,-0.012613158442353516,2.7751212400635647e-09,-3.4882097210758632e-12,0.0,4.227011842720269e-09,-5.399709569823394e-10,-4.239706364661008e-10,-5.10578024434554e-10,-5.201006293662763e-10],\"type\":\"scatter\"},{\"line\":{\"color\":\"rgba(50, 171, 96, 0.8297872340425532)\",\"dash\":\"solid\",\"shape\":\"linear\",\"width\":1.3},\"mode\":\"lines\",\"name\":\"Sweet Potato\",\"text\":\"\",\"x\":[-0.6931471805599453,-0.5108256237659907,-0.35667494393873245,-0.22314355131420968,-0.10536051565782628,0.0,0.09531017980432495,0.1823215567939546,0.26236426446749106,0.33647223662121284,0.4054651081081644],\"y\":[2.496842701397776e-08,-2.136526511493184e-10,1.4777007191873137e-07,-3.7256386871410604e-10,-1.7127488317970768e-10,0.0,-5.304604534814028e-10,-5.459146469701998e-10,-5.449062313963828e-10,2.797638339297061e-09,3.358002315014441e-09],\"type\":\"scatter\"},{\"line\":{\"color\":\"rgba(128, 0, 128, 0.8297872340425532)\",\"dash\":\"solid\",\"shape\":\"linear\",\"width\":1.3},\"mode\":\"lines\",\"name\":\"Russet Potato\",\"text\":\"\",\"x\":[-0.6931471805599453,-0.5108256237659907,-0.35667494393873245,-0.22314355131420968,-0.10536051565782628,0.0,0.09531017980432495,0.1823215567939546,0.26236426446749106,0.33647223662121284,0.4054651081081644],\"y\":[-5.038581775299969e-10,-4.895400752635044e-10,3.5522118554690745e-07,2.6070257063908097e-11,-1.854912890125688e-10,0.0,1.2652257196449898e-07,-4.2335990277999573e-10,3.4899711948307003e-09,1.325106468118797e-09,-2.0621726550723786e-10],\"type\":\"scatter\"},{\"line\":{\"color\":\"rgba(219, 64, 82, 0.8297872340425532)\",\"dash\":\"solid\",\"shape\":\"linear\",\"width\":1.3},\"mode\":\"lines\",\"name\":\"Beets\",\"text\":\"\",\"x\":[-0.6931471805599453,-0.5108256237659907,-0.35667494393873245,-0.22314355131420968,-0.10536051565782628,0.0,0.09531017980432495,0.1823215567939546,0.26236426446749106,0.33647223662121284,0.4054651081081644],\"y\":[-5.13132203526314e-10,7.68140086456755e-08,-3.045907970753241e-10,-3.9473602172509895e-10,-2.1052437573216862e-10,0.0,-5.594886777659792e-10,2.2458576585604174e-07,2.4166051637471295e-07,7.620932770829171e-10,-3.961161399675562e-10],\"type\":\"scatter\"},{\"line\":{\"color\":\"rgba(0, 128, 128, 0.8297872340425532)\",\"dash\":\"solid\",\"shape\":\"linear\",\"width\":1.3},\"mode\":\"lines\",\"name\":\"Sugar\",\"text\":\"\",\"x\":[-0.6931471805599453,-0.5108256237659907,-0.35667494393873245,-0.22314355131420968,-0.10536051565782628,0.0,0.09531017980432495,0.1823215567939546,0.26236426446749106,0.33647223662121284,0.4054651081081644],\"y\":[-3.693302331313833e-10,-3.701361440252567e-10,-1.1470513428638086e-10,-1.624000933744127e-11,2.5201174480253803e-11,0.0,-5.541012093617045e-12,-1.9778512161590297e-11,-9.314116145454298e-11,-2.7921442935897714e-11,-9.877487717124147e-11],\"type\":\"scatter\"},{\"line\":{\"color\":\"rgba(255, 255, 51, 0.8297872340425532)\",\"dash\":\"solid\",\"shape\":\"linear\",\"width\":1.3},\"mode\":\"lines\",\"name\":\"Flour\",\"text\":\"\",\"x\":[-0.6931471805599453,-0.5108256237659907,-0.35667494393873245,-0.22314355131420968,-0.10536051565782628,0.0,0.09531017980432495,0.1823215567939546,0.26236426446749106,0.33647223662121284,0.4054651081081644],\"y\":[-0.038158634131235186,-0.025333775010348496,-0.015244312078961176,-0.007157385436715618,-0.0027147189942353343,0.0,0.0027073696092135215,0.005407427213494883,0.006392551573039525,0.006621046257743026,0.006849515098081504],\"type\":\"scatter\"},{\"line\":{\"color\":\"rgba(128, 128, 0, 0.8297872340425532)\",\"dash\":\"solid\",\"shape\":\"linear\",\"width\":1.3},\"mode\":\"lines\",\"name\":\"Black Beans\",\"text\":\"\",\"x\":[-0.6931471805599453,-0.5108256237659907,-0.35667494393873245,-0.22314355131420968,-0.10536051565782628,0.0,0.09531017980432495,0.1823215567939546,0.26236426446749106,0.33647223662121284,0.4054651081081644],\"y\":[-0.04725857982915488,-0.03500470554894806,-0.024670289706900158,-0.015688409745198452,-0.007813438917513708,0.0,0.007752861930716773,0.015446079539252979,0.023080562910526497,0.030657222450544818,0.038176983035947444],\"type\":\"scatter\"},{\"line\":{\"color\":\"rgba(128, 128, 0, 0.7446808510638296)\",\"dash\":\"solid\",\"shape\":\"linear\",\"width\":1.3},\"mode\":\"lines\",\"name\":\"Chicken Breast\",\"text\":\"\",\"x\":[-0.6931471805599453,-0.5108256237659907,-0.35667494393873245,-0.22314355131420968,-0.10536051565782628,0.0,0.09531017980432495,0.1823215567939546,0.26236426446749106,0.33647223662121284,0.4054651081081644],\"y\":[-3.4284741718175444e-10,3.603017877555398e-09,-8.021672215685387e-11,-2.5502033821266296e-10,6.805245255971296e-11,0.0,-1.8069901132589684e-10,-2.8722002558229387e-10,-5.23443954984377e-10,4.574127132315157e-07,3.6049259068386423e-09],\"type\":\"scatter\"},{\"line\":{\"color\":\"rgba(251, 128, 114, 0.7446808510638296)\",\"dash\":\"solid\",\"shape\":\"linear\",\"width\":1.3},\"mode\":\"lines\",\"name\":\"Tofu\",\"text\":\"\",\"x\":[-0.6931471805599453,-0.5108256237659907,-0.35667494393873245,-0.22314355131420968,-0.10536051565782628,0.0,0.09531017980432495,0.1823215567939546,0.26236426446749106,0.33647223662121284,0.4054651081081644],\"y\":[-4.673722521202075e-10,2.531961306963295e-10,-1.6369616774543964e-10,-2.781689323714786e-10,-7.510547739314926e-12,0.0,1.259644165957821e-09,2.5726607243708855e-07,-3.1215585676745277e-10,2.1643220494008917e-07,-3.297739859508842e-10],\"type\":\"scatter\"},{\"line\":{\"color\":\"rgba(128, 177, 211, 0.7446808510638296)\",\"dash\":\"solid\",\"shape\":\"linear\",\"width\":1.3},\"mode\":\"lines\",\"name\":\"Jasmine Rice\",\"text\":\"\",\"x\":[-0.6931471805599453,-0.5108256237659907,-0.35667494393873245,-0.22314355131420968,-0.10536051565782628,0.0,0.09531017980432495,0.1823215567939546,0.26236426446749106,0.33647223662121284,0.4054651081081644],\"y\":[-6.663980478771591e-11,-4.839899593383992e-10,1.2994805231025253e-10,-2.575670788095033e-10,1.1670509002955193e-10,0.0,-3.7385983198833767e-11,-3.884782496443487e-10,-2.0705326342566138e-11,5.109346357463843e-07,3.3917633611748563e-07],\"type\":\"scatter\"},{\"line\":{\"color\":\"rgba(255, 153, 51, 0.7446808510638296)\",\"dash\":\"solid\",\"shape\":\"linear\",\"width\":1.3},\"mode\":\"lines\",\"name\":\"Salad Mix\",\"text\":\"\",\"x\":[-0.6931471805599453,-0.5108256237659907,-0.35667494393873245,-0.22314355131420968,-0.10536051565782628,0.0,0.09531017980432495,0.1823215567939546,0.26236426446749106,0.33647223662121284,0.4054651081081644],\"y\":[9.249550010522725e-10,4.000773045386314e-10,4.3673931128706854e-10,1.2050115277390367e-08,-5.292875028552648e-10,0.0,-2.5073709778257596e-10,4.584286282864378e-10,6.6533445419515046e-12,1.6880452589869921e-10,8.767968569564916e-10],\"type\":\"scatter\"},{\"line\":{\"color\":\"rgba(55, 128, 191, 0.7446808510638296)\",\"dash\":\"solid\",\"shape\":\"linear\",\"width\":1.3},\"mode\":\"lines\",\"name\":\"Spaghetti\",\"text\":\"\",\"x\":[-0.6931471805599453,-0.5108256237659907,-0.35667494393873245,-0.22314355131420968,-0.10536051565782628,0.0,0.09531017980432495,0.1823215567939546,0.26236426446749106,0.33647223662121284,0.4054651081081644],\"y\":[-1.3192891224010225e-11,-1.933275761719458e-11,-1.4248935365048162e-11,-6.2123639566118225e-12,-1.696420781628678e-12,0.0,4.134470543703228e-13,1.965094753586334e-13,-2.847722058163932e-13,-1.0346168366487185e-12,-1.9846346788218992e-12],\"type\":\"scatter\"},{\"line\":{\"color\":\"rgba(50, 171, 96, 0.7446808510638296)\",\"dash\":\"solid\",\"shape\":\"linear\",\"width\":1.3},\"mode\":\"lines\",\"name\":\"Ground Coffee\",\"text\":\"\",\"x\":[-0.6931471805599453,-0.5108256237659907,-0.35667494393873245,-0.22314355131420968,-0.10536051565782628,0.0,0.09531017980432495,0.1823215567939546,0.26236426446749106,0.33647223662121284,0.4054651081081644],\"y\":[4.645689822036098e-09,2.6685931108528948e-08,-1.9960089139064172e-10,2.03231475885954e-09,-5.47184298021855e-10,0.0,-7.261813373113372e-11,3.8743874767588007e-10,4.44046509686649e-09,-5.087064103422351e-11,7.163292181387901e-11],\"type\":\"scatter\"},{\"line\":{\"color\":\"rgba(128, 0, 128, 0.7446808510638296)\",\"dash\":\"solid\",\"shape\":\"linear\",\"width\":1.3},\"mode\":\"lines\",\"name\":\"Claw Blue Swimming Crab Meat\",\"text\":\"\",\"x\":[-0.6931471805599453,-0.5108256237659907,-0.35667494393873245,-0.22314355131420968,-0.10536051565782628,0.0,0.09531017980432495,0.1823215567939546,0.26236426446749106,0.33647223662121284,0.4054651081081644],\"y\":[2.4993529437041883e-09,4.529983401532719e-07,-5.376977753381946e-10,1.3204271001207968e-09,-5.899214450440758e-11,0.0,5.180433859529751e-11,-2.1165014187937616e-10,-1.4612622224421e-10,-2.671441956893399e-10,-1.7621948346533984e-10],\"type\":\"scatter\"},{\"line\":{\"color\":\"rgba(219, 64, 82, 0.7446808510638296)\",\"dash\":\"solid\",\"shape\":\"linear\",\"width\":1.3},\"mode\":\"lines\",\"name\":\"Waterfront Bistro Crabmeat Imitation Chunk Style Fully Cooked\",\"text\":\"\",\"x\":[-0.6931471805599453,-0.5108256237659907,-0.35667494393873245,-0.22314355131420968,-0.10536051565782628,0.0,0.09531017980432495,0.1823215567939546,0.26236426446749106,0.33647223662121284,0.4054651081081644],\"y\":[3.29650084952626e-10,5.20675946666833e-10,6.688076756839493e-10,7.021829781827473e-10,1.936272251769658e-09,0.0,7.844924709535612e-11,-6.639278016472037e-11,2.185140956828491e-10,-1.2119982795890162e-10,-2.8397439959117773e-10],\"type\":\"scatter\"},{\"line\":{\"color\":\"rgba(0, 128, 128, 0.7446808510638296)\",\"dash\":\"solid\",\"shape\":\"linear\",\"width\":1.3},\"mode\":\"lines\",\"name\":\"Waterfront Bistro Crabmeat Imitation Flake Style Fully Cooked\",\"text\":\"\",\"x\":[-0.6931471805599453,-0.5108256237659907,-0.35667494393873245,-0.22314355131420968,-0.10536051565782628,0.0,0.09531017980432495,0.1823215567939546,0.26236426446749106,0.33647223662121284,0.4054651081081644],\"y\":[5.136483951278035e-07,-5.512769131597785e-10,-3.7250824654055164e-10,-2.2446688954535116e-10,-4.081146531914616e-11,0.0,9.40847399944083e-11,-7.111700117943016e-11,-2.2237112154129802e-10,1.845634756135157e-12,-4.21999102338e-11],\"type\":\"scatter\"},{\"line\":{\"color\":\"rgba(255, 255, 51, 0.7446808510638296)\",\"dash\":\"solid\",\"shape\":\"linear\",\"width\":1.3},\"mode\":\"lines\",\"name\":\"Waterfront Bistro Salmon Nova Atlantic Smoked Cold \",\"text\":\"\",\"x\":[-0.6931471805599453,-0.5108256237659907,-0.35667494393873245,-0.22314355131420968,-0.10536051565782628,0.0,0.09531017980432495,0.1823215567939546,0.26236426446749106,0.33647223662121284,0.4054651081081644],\"y\":[1.012616656679515e-09,9.60681977951026e-10,8.037992490595175e-10,6.599323307863874e-10,2.1887511779033935e-09,0.0,-1.4600587406832306e-10,5.026644643436256e-09,-9.547573843094493e-11,1.948763372704407e-10,2.0977908297157388e-10],\"type\":\"scatter\"},{\"line\":{\"color\":\"rgba(255, 255, 51, 0.6595744680851063)\",\"dash\":\"solid\",\"shape\":\"linear\",\"width\":1.3},\"mode\":\"lines\",\"name\":\"Waterfront Bistro Salmon Nova Atlantic Lox Ny Style\",\"text\":\"\",\"x\":[-0.6931471805599453,-0.5108256237659907,-0.35667494393873245,-0.22314355131420968,-0.10536051565782628,0.0,0.09531017980432495,0.1823215567939546,0.26236426446749106,0.33647223662121284,0.4054651081081644],\"y\":[-5.074461963027948e-10,2.6376668145996e-07,6.751841305992964e-10,9.503571258764826e-10,7.555729372642414e-10,0.0,-7.29942772919041e-11,-1.0231671066475677e-10,2.303132570892321e-09,-2.448941050248282e-10,1.2308896714959205e-08],\"type\":\"scatter\"},{\"line\":{\"color\":\"rgba(128, 128, 0, 0.6595744680851063)\",\"dash\":\"solid\",\"shape\":\"linear\",\"width\":1.3},\"mode\":\"lines\",\"name\":\"Waterfront Bistro Salmon Nova Atlantic Smoked Party Wheel \",\"text\":\"\",\"x\":[-0.6931471805599453,-0.5108256237659907,-0.35667494393873245,-0.22314355131420968,-0.10536051565782628,0.0,0.09531017980432495,0.1823215567939546,0.26236426446749106,0.33647223662121284,0.4054651081081644],\"y\":[-4.1255965319192813e-10,8.279763538024488e-10,9.609470992090517e-10,8.352272203702459e-10,-9.480638496933474e-11,0.0,6.264169181405594e-10,4.6944004238333475e-11,-1.435755958670667e-10,-1.914950420639659e-10,1.5701839827119864e-10],\"type\":\"scatter\"},{\"line\":{\"color\":\"rgba(251, 128, 114, 0.6595744680851063)\",\"dash\":\"solid\",\"shape\":\"linear\",\"width\":1.3},\"mode\":\"lines\",\"name\":\"Waterfront Bistro Salmon Atlantic Pastrami Style Smoked Cold\",\"text\":\"\",\"x\":[-0.6931471805599453,-0.5108256237659907,-0.35667494393873245,-0.22314355131420968,-0.10536051565782628,0.0,0.09531017980432495,0.1823215567939546,0.26236426446749106,0.33647223662121284,0.4054651081081644],\"y\":[-1.0787459814891688e-10,9.245602057450809e-10,9.782299410166343e-10,8.278278059618769e-10,-2.618154582366372e-10,0.0,3.194609021251331e-10,1.1443176284620487e-07,-1.7074974768897018e-10,-1.1278977752407968e-10,4.127587160942889e-12],\"type\":\"scatter\"},{\"line\":{\"color\":\"rgba(128, 177, 211, 0.6595744680851063)\",\"dash\":\"solid\",\"shape\":\"linear\",\"width\":1.3},\"mode\":\"lines\",\"name\":\"Waterfront Bistro Alaskan Cod Fillet Wild Caught \",\"text\":\"\",\"x\":[-0.6931471805599453,-0.5108256237659907,-0.35667494393873245,-0.22314355131420968,-0.10536051565782628,0.0,0.09531017980432495,0.1823215567939546,0.26236426446749106,0.33647223662121284,0.4054651081081644],\"y\":[1.436517571459311e-10,1.8793766541246652e-10,3.5256026924580322e-09,-5.401646909002412e-10,2.6599400424638116e-09,0.0,-1.0288270236276875e-10,-1.8756007859704118e-10,-8.584122302237437e-11,-3.2362779123742065e-11,2.1255974755846285e-10],\"type\":\"scatter\"},{\"line\":{\"color\":\"rgba(255, 153, 51, 0.6595744680851063)\",\"dash\":\"solid\",\"shape\":\"linear\",\"width\":1.3},\"mode\":\"lines\",\"name\":\"Waterfront Bistro Salmon Wild Alaskan Sockeye Smoked Peppered \",\"text\":\"\",\"x\":[-0.6931471805599453,-0.5108256237659907,-0.35667494393873245,-0.22314355131420968,-0.10536051565782628,0.0,0.09531017980432495,0.1823215567939546,0.26236426446749106,0.33647223662121284,0.4054651081081644],\"y\":[8.888207907921614e-09,1.0013208035491434e-09,1.0698846247653095e-09,9.848299948469479e-10,6.795655147407093e-10,0.0,-6.459677237766663e-11,-1.136666316690279e-10,1.01892716481227e-10,3.6657921136327206e-10,1.2199574683716655e-11],\"type\":\"scatter\"},{\"line\":{\"color\":\"rgba(55, 128, 191, 0.6595744680851063)\",\"dash\":\"solid\",\"shape\":\"linear\",\"width\":1.3},\"mode\":\"lines\",\"name\":\"Waterfront Bistro Shrimp Coconut With Sweet Chili Sauce 10 Count\",\"text\":\"\",\"x\":[-0.6931471805599453,-0.5108256237659907,-0.35667494393873245,-0.22314355131420968,-0.10536051565782628,0.0,0.09531017980432495,0.1823215567939546,0.26236426446749106,0.33647223662121284,0.4054651081081644],\"y\":[8.403482350893415e-10,7.839382473431601e-10,7.124203446855749e-10,6.605002078999358e-09,-5.301175055889142e-10,0.0,-1.2585754661468692e-10,-1.0102751968843096e-10,2.1859771468464877e-07,-4.686845357359286e-10,-5.013962579716532e-10],\"type\":\"scatter\"},{\"line\":{\"color\":\"rgba(50, 171, 96, 0.6595744680851063)\",\"dash\":\"solid\",\"shape\":\"linear\",\"width\":1.3},\"mode\":\"lines\",\"name\":\"Waterfront Bistro Calamari Crispy Breaded Salt & Pepper\",\"text\":\"\",\"x\":[-0.6931471805599453,-0.5108256237659907,-0.35667494393873245,-0.22314355131420968,-0.10536051565782628,0.0,0.09531017980432495,0.1823215567939546,0.26236426446749106,0.33647223662121284,0.4054651081081644],\"y\":[1.3833402865623366e-07,-4.71670924651272e-10,2.417814836937734e-10,6.519997872806442e-10,6.775822123308648e-10,0.0,3.238951328840596e-10,-1.4455392439650732e-10,-1.5046885960567529e-10,-1.2481649048436542e-10,4.0882276949634317e-08],\"type\":\"scatter\"},{\"line\":{\"color\":\"rgba(128, 0, 128, 0.6595744680851063)\",\"dash\":\"solid\",\"shape\":\"linear\",\"width\":1.3},\"mode\":\"lines\",\"name\":\"Waterfront Bistro Scallops Peruvian 20 - 30 Ct\",\"text\":\"\",\"x\":[-0.6931471805599453,-0.5108256237659907,-0.35667494393873245,-0.22314355131420968,-0.10536051565782628,0.0,0.09531017980432495,0.1823215567939546,0.26236426446749106,0.33647223662121284,0.4054651081081644],\"y\":[-1.1259582156165579e-10,1.325921594653527e-10,-1.1349043927499988e-10,-1.800115612128849e-12,-2.3973045770759742e-12,0.0,-2.2052359938372637e-11,6.101497085167316e-11,5.830378654212115e-08,1.4566103877560705e-10,1.0093259560962853e-10],\"type\":\"scatter\"},{\"line\":{\"color\":\"rgba(219, 64, 82, 0.6595744680851063)\",\"dash\":\"solid\",\"shape\":\"linear\",\"width\":1.3},\"mode\":\"lines\",\"name\":\"Waterfront Bistro Shrimp Raw Ez Peel Shell & Tail On Jumbo 21 To 25 Count\",\"text\":\"\",\"x\":[-0.6931471805599453,-0.5108256237659907,-0.35667494393873245,-0.22314355131420968,-0.10536051565782628,0.0,0.09531017980432495,0.1823215567939546,0.26236426446749106,0.33647223662121284,0.4054651081081644],\"y\":[2.970330647669887e-10,5.210203378488923e-10,5.74881475591439e-10,5.636577869526827e-10,-4.560162248852836e-10,0.0,1.2405954034143255e-09,1.629629764333005e-10,-1.4443846120192963e-10,-2.3846347122004024e-10,7.407972010851651e-10],\"type\":\"scatter\"},{\"line\":{\"color\":\"rgba(0, 128, 128, 0.6595744680851063)\",\"dash\":\"solid\",\"shape\":\"linear\",\"width\":1.3},\"mode\":\"lines\",\"name\":\"Waterfront Bistro Shrimp Raw Extra Jumbo Shell & Tail On Frozen 16-20 Count\",\"text\":\"\",\"x\":[-0.6931471805599453,-0.5108256237659907,-0.35667494393873245,-0.22314355131420968,-0.10536051565782628,0.0,0.09531017980432495,0.1823215567939546,0.26236426446749106,0.33647223662121284,0.4054651081081644],\"y\":[6.829834473419918e-10,6.286868801352835e-10,5.7496807298731e-10,5.399201084762705e-10,1.6940420163397882e-09,0.0,-2.30702346142275e-10,4.5219976549835464e-09,-5.6728177712460964e-11,8.047296162448205e-11,5.447309270174965e-11],\"type\":\"scatter\"},{\"line\":{\"color\":\"rgba(0, 128, 128, 0.5744680851063828)\",\"dash\":\"solid\",\"shape\":\"linear\",\"width\":1.3},\"mode\":\"lines\",\"name\":\"Waterfront Bistro Shrimp Raw Medium Ez Peel Shell & Tail On Frozen 31-40 Count\",\"text\":\"\",\"x\":[-0.6931471805599453,-0.5108256237659907,-0.35667494393873245,-0.22314355131420968,-0.10536051565782628,0.0,0.09531017980432495,0.1823215567939546,0.26236426446749106,0.33647223662121284,0.4054651081081644],\"y\":[4.782687578164071e-10,6.02100369380946e-10,6.04359007100881e-10,5.690876657184441e-10,1.9362874694180069e-07,0.0,2.3174440141972364e-10,-1.7148149568462583e-10,9.646183475259468e-08,-1.2442002984222235e-10,-7.447520378456079e-11],\"type\":\"scatter\"},{\"line\":{\"color\":\"rgba(255, 255, 51, 0.5744680851063828)\",\"dash\":\"solid\",\"shape\":\"linear\",\"width\":1.3},\"mode\":\"lines\",\"name\":\"Waterfront Bistro Mussels Garlic Butter Sauce Fully Cooked Ready To Heat\",\"text\":\"\",\"x\":[-0.6931471805599453,-0.5108256237659907,-0.35667494393873245,-0.22314355131420968,-0.10536051565782628,0.0,0.09531017980432495,0.1823215567939546,0.26236426446749106,0.33647223662121284,0.4054651081081644],\"y\":[2.211537619456176e-10,-4.195611636773373e-10,-3.769013990506395e-10,2.4184099164787895e-10,6.389024862675948e-10,0.0,-1.3278256273168186e-10,-1.521465176184402e-10,-4.5670534031698294e-10,-4.1380576751528227e-10,-8.256295647498517e-11],\"type\":\"scatter\"},{\"line\":{\"color\":\"rgba(128, 128, 0, 0.5744680851063828)\",\"dash\":\"solid\",\"shape\":\"linear\",\"width\":1.3},\"mode\":\"lines\",\"name\":\"Waterfront Bistro Shrimp Cooked Peeled Tail Off Salad Style 91 To 110 Count \",\"text\":\"\",\"x\":[-0.6931471805599453,-0.5108256237659907,-0.35667494393873245,-0.22314355131420968,-0.10536051565782628,0.0,0.09531017980432495,0.1823215567939546,0.26236426446749106,0.33647223662121284,0.4054651081081644],\"y\":[-5.123903525008791e-10,1.5268009079133523e-11,3.60929064348405e-10,4.787010786619893e-10,5.008295998887703e-10,0.0,5.792805995871675e-09,1.1888670421840059e-08,-3.240852031708451e-10,1.0945155886737777e-09,3.3586896174920376e-07],\"type\":\"scatter\"},{\"line\":{\"color\":\"rgba(251, 128, 114, 0.5744680851063828)\",\"dash\":\"solid\",\"shape\":\"linear\",\"width\":1.3},\"mode\":\"lines\",\"name\":\"Waterfront Bistro Shrimp Cooked Extra Large Tail On Frozen 21-25 Count\",\"text\":\"\",\"x\":[-0.6931471805599453,-0.5108256237659907,-0.35667494393873245,-0.22314355131420968,-0.10536051565782628,0.0,0.09531017980432495,0.1823215567939546,0.26236426446749106,0.33647223662121284,0.4054651081081644],\"y\":[3.466016362206859e-10,5.185567529585297e-10,5.435063508884719e-10,5.437892357149926e-10,3.921177375105146e-09,0.0,8.200240486308142e-11,5.078571550392448e-09,-6.110245642974179e-11,-5.424136696824417e-10,7.740211483070918e-08],\"type\":\"scatter\"},{\"line\":{\"color\":\"rgba(128, 177, 211, 0.5744680851063828)\",\"dash\":\"solid\",\"shape\":\"linear\",\"width\":1.3},\"mode\":\"lines\",\"name\":\"Waterfront Bistro Swai Fillets Boneless & Skinless\",\"text\":\"\",\"x\":[-0.6931471805599453,-0.5108256237659907,-0.35667494393873245,-0.22314355131420968,-0.10536051565782628,0.0,0.09531017980432495,0.1823215567939546,0.26236426446749106,0.33647223662121284,0.4054651081081644],\"y\":[8.503087122940099e-11,2.243214502787725e-10,4.420419584949533e-10,3.345481885918499e-09,-5.308662399971187e-10,0.0,-1.0862111211075564e-10,8.424350106040346e-11,3.955757047427745e-09,-3.4339242566472993e-10,-4.167627355202969e-10],\"type\":\"scatter\"},{\"line\":{\"color\":\"rgba(255, 153, 51, 0.5744680851063828)\",\"dash\":\"solid\",\"shape\":\"linear\",\"width\":1.3},\"mode\":\"lines\",\"name\":\"Waterfront Bistro Shrimp Tempura With Sweet Soy Dipping Sauce\",\"text\":\"\",\"x\":[-0.6931471805599453,-0.5108256237659907,-0.35667494393873245,-0.22314355131420968,-0.10536051565782628,0.0,0.09531017980432495,0.1823215567939546,0.26236426446749106,0.33647223662121284,0.4054651081081644],\"y\":[-5.52569545828063e-10,1.3220247118376087e-10,6.268066064219586e-10,7.574236790448915e-10,-4.432579859697646e-10,0.0,2.0695134473571295e-09,7.092770815095121e-12,-1.2553869056197448e-10,9.12023789781435e-11,-1.4039913677086064e-10],\"type\":\"scatter\"},{\"line\":{\"color\":\"rgba(55, 128, 191, 0.5744680851063828)\",\"dash\":\"solid\",\"shape\":\"linear\",\"width\":1.3},\"mode\":\"lines\",\"name\":\"Waterfront Bistro Cod Fillets Wild Alaskan Boneless & Skinless\",\"text\":\"\",\"x\":[-0.6931471805599453,-0.5108256237659907,-0.35667494393873245,-0.22314355131420968,-0.10536051565782628,0.0,0.09531017980432495,0.1823215567939546,0.26236426446749106,0.33647223662121284,0.4054651081081644],\"y\":[-6.400391328247868e-11,2.723885557841011e-09,5.3796078701369875e-11,-1.108896308172212e-10,-1.4375634017550163e-10,0.0,-1.0587286603530379e-10,2.039153954721913e-09,-5.034991314036523e-10,-5.602132093122553e-10,-5.370571766526417e-10],\"type\":\"scatter\"},{\"line\":{\"color\":\"rgba(50, 171, 96, 0.5744680851063828)\",\"dash\":\"solid\",\"shape\":\"linear\",\"width\":1.3},\"mode\":\"lines\",\"name\":\"Waterfront Bistro Salmon Fillets Wild Alaskan Pink Boneless & Skin On\",\"text\":\"\",\"x\":[-0.6931471805599453,-0.5108256237659907,-0.35667494393873245,-0.22314355131420968,-0.10536051565782628,0.0,0.09531017980432495,0.1823215567939546,0.26236426446749106,0.33647223662121284,0.4054651081081644],\"y\":[-2.6261193223471213e-10,-1.3938761257298316e-10,3.39805886539792e-08,-1.2195700006178805e-10,-3.234357226541543e-11,0.0,-3.900102463213318e-12,-1.6617707210424955e-11,-2.7965074700766704e-11,-3.6180280994046496e-11,-5.2125748163626884e-11],\"type\":\"scatter\"},{\"line\":{\"color\":\"rgba(128, 0, 128, 0.5744680851063828)\",\"dash\":\"solid\",\"shape\":\"linear\",\"width\":1.3},\"mode\":\"lines\",\"name\":\"Gortons Beer Batter Shrimp\",\"text\":\"\",\"x\":[-0.6931471805599453,-0.5108256237659907,-0.35667494393873245,-0.22314355131420968,-0.10536051565782628,0.0,0.09531017980432495,0.1823215567939546,0.26236426446749106,0.33647223662121284,0.4054651081081644],\"y\":[-3.6434300028063517e-10,5.455236261231174e-10,7.921472363807696e-10,7.54639905835051e-10,2.499533465967541e-09,0.0,-2.102596985630423e-10,3.4854548075822767e-09,4.520672724948007e-11,-1.42141853843769e-11,1.7200418865512367e-10],\"type\":\"scatter\"},{\"line\":{\"color\":\"rgba(219, 64, 82, 0.5744680851063828)\",\"dash\":\"solid\",\"shape\":\"linear\",\"width\":1.3},\"mode\":\"lines\",\"name\":\"Gortons Fish Fillets 100% Real Wild Caught Crunchy Breaded 10 Count \",\"text\":\"\",\"x\":[-0.6931471805599453,-0.5108256237659907,-0.35667494393873245,-0.22314355131420968,-0.10536051565782628,0.0,0.09531017980432495,0.1823215567939546,0.26236426446749106,0.33647223662121284,0.4054651081081644],\"y\":[-1.0819500851385831e-10,2.9008972997302126e-10,5.233962151203495e-10,-2.1300738950685114e-11,-5.387688074906269e-10,0.0,-3.79941522760121e-10,3.2917939431164514e-09,-6.429279331350467e-11,-5.772415878790919e-11,4.077626997299143e-08],\"type\":\"scatter\"},{\"line\":{\"color\":\"rgba(219, 64, 82, 0.48936170212765956)\",\"dash\":\"solid\",\"shape\":\"linear\",\"width\":1.3},\"mode\":\"lines\",\"name\":\"Strawberries\",\"text\":\"\",\"x\":[-0.6931471805599453,-0.5108256237659907,-0.35667494393873245,-0.22314355131420968,-0.10536051565782628,0.0,0.09531017980432495,0.1823215567939546,0.26236426446749106,0.33647223662121284,0.4054651081081644],\"y\":[8.431033648999884e-13,4.4923953436039064e-10,1.5339973734529706e-10,-2.893362216901419e-10,4.567435086372065e-09,0.0,-9.92890214539963e-11,1.4449281760639316e-09,-5.574287699649393e-10,-5.253034675292967e-10,-5.436383567015708e-10],\"type\":\"scatter\"},{\"line\":{\"color\":\"rgba(0, 128, 128, 0.48936170212765956)\",\"dash\":\"solid\",\"shape\":\"linear\",\"width\":1.3},\"mode\":\"lines\",\"name\":\"Avocado\",\"text\":\"\",\"x\":[-0.6931471805599453,-0.5108256237659907,-0.35667494393873245,-0.22314355131420968,-0.10536051565782628,0.0,0.09531017980432495,0.1823215567939546,0.26236426446749106,0.33647223662121284,0.4054651081081644],\"y\":[-1.3708822966636413e-10,-2.313889080608618e-10,-4.0499237305298977e-10,3.9281911056515755e-11,-4.899131101999611e-10,0.0,-5.352881472842555e-10,2.539249696172001e-09,1.6754797547963978e-10,4.896767434781193e-10,4.967313226177131e-10],\"type\":\"scatter\"},{\"line\":{\"color\":\"rgba(255, 255, 51, 0.48936170212765956)\",\"dash\":\"solid\",\"shape\":\"linear\",\"width\":1.3},\"mode\":\"lines\",\"name\":\"Pineapple\",\"text\":\"\",\"x\":[-0.6931471805599453,-0.5108256237659907,-0.35667494393873245,-0.22314355131420968,-0.10536051565782628,0.0,0.09531017980432495,0.1823215567939546,0.26236426446749106,0.33647223662121284,0.4054651081081644],\"y\":[-0.011224099219433894,-0.0030209250547318252,1.937332697706605e-08,4.637055839658267e-09,-1.1991685423149013e-10,0.0,-1.1823986234630283e-11,-9.747203045171601e-11,-1.9679580189606783e-10,-1.3412826406000961e-10,7.630819280652688e-09],\"type\":\"scatter\"},{\"line\":{\"color\":\"rgba(128, 128, 0, 0.48936170212765956)\",\"dash\":\"solid\",\"shape\":\"linear\",\"width\":1.3},\"mode\":\"lines\",\"name\":\"Portabella Mushroom\",\"text\":\"\",\"x\":[-0.6931471805599453,-0.5108256237659907,-0.35667494393873245,-0.22314355131420968,-0.10536051565782628,0.0,0.09531017980432495,0.1823215567939546,0.26236426446749106,0.33647223662121284,0.4054651081081644],\"y\":[3.0077330788010873e-07,-4.320650504975024e-10,-4.122693298708689e-10,-5.562093009940121e-10,1.1273448840473804e-10,0.0,-2.914907204923552e-10,3.2263203168094046e-09,8.872726993630096e-10,7.330732438634933e-09,2.02823225045437e-08],\"type\":\"scatter\"},{\"line\":{\"color\":\"rgba(251, 128, 114, 0.48936170212765956)\",\"dash\":\"solid\",\"shape\":\"linear\",\"width\":1.3},\"mode\":\"lines\",\"name\":\"Bell Pepper\",\"text\":\"\",\"x\":[-0.6931471805599453,-0.5108256237659907,-0.35667494393873245,-0.22314355131420968,-0.10536051565782628,0.0,0.09531017980432495,0.1823215567939546,0.26236426446749106,0.33647223662121284,0.4054651081081644],\"y\":[-8.346558609009462e-05,3.130581012047776e-08,-1.9179458023606716e-10,-1.4307133256920968e-10,-1.447156838912186e-10,0.0,-5.308902208144633e-10,-3.2658986626721685e-11,-4.6917580932549894e-11,9.426901477202832e-10,1.4677818949479525e-09],\"type\":\"scatter\"},{\"line\":{\"color\":\"rgba(128, 177, 211, 0.48936170212765956)\",\"dash\":\"solid\",\"shape\":\"linear\",\"width\":1.3},\"mode\":\"lines\",\"name\":\"Cucumber\",\"text\":\"\",\"x\":[-0.6931471805599453,-0.5108256237659907,-0.35667494393873245,-0.22314355131420968,-0.10536051565782628,0.0,0.09531017980432495,0.1823215567939546,0.26236426446749106,0.33647223662121284,0.4054651081081644],\"y\":[-1.0908884907108114e-10,1.0793721471586204e-10,-1.6611423349347198e-10,-4.170483959046521e-10,-4.435429801317836e-11,0.0,3.215401278049847e-10,6.775848768661221e-10,6.746738720975231e-10,5.118483413579908e-10,2.1715007567509177e-10],\"type\":\"scatter\"},{\"line\":{\"color\":\"rgba(255, 153, 51, 0.48936170212765956)\",\"dash\":\"solid\",\"shape\":\"linear\",\"width\":1.3},\"mode\":\"lines\",\"name\":\"Navel Oranges\",\"text\":\"\",\"x\":[-0.6931471805599453,-0.5108256237659907,-0.35667494393873245,-0.22314355131420968,-0.10536051565782628,0.0,0.09531017980432495,0.1823215567939546,0.26236426446749106,0.33647223662121284,0.4054651081081644],\"y\":[-0.027247000756272306,-0.02173788485372512,-0.01625895340451828,-0.01080987644946762,-0.005390331685939762,0.0,0.005361431561355089,0.010694271343407693,0.01599882309950298,0.02127538436122415,0.026524276901381514],\"type\":\"scatter\"},{\"line\":{\"color\":\"rgba(55, 128, 191, 0.48936170212765956)\",\"dash\":\"solid\",\"shape\":\"linear\",\"width\":1.3},\"mode\":\"lines\",\"name\":\"Lettuce\",\"text\":\"\",\"x\":[-0.6931471805599453,-0.5108256237659907,-0.35667494393873245,-0.22314355131420968,-0.10536051565782628,0.0,0.09531017980432495,0.1823215567939546,0.26236426446749106,0.33647223662121284,0.4054651081081644],\"y\":[1.0972346784266884e-07,-1.613600364566437e-10,-3.607419918989579e-10,-9.548695168349472e-11,3.495670419734162e-11,0.0,-5.372072788056516e-10,3.267162979262104e-09,5.334133133770393e-10,-9.298750658792056e-11,5.97676839565725e-09],\"type\":\"scatter\"},{\"line\":{\"color\":\"rgba(50, 171, 96, 0.48936170212765956)\",\"dash\":\"solid\",\"shape\":\"linear\",\"width\":1.3},\"mode\":\"lines\",\"name\":\"Green Beans\",\"text\":\"\",\"x\":[-0.6931471805599453,-0.5108256237659907,-0.35667494393873245,-0.22314355131420968,-0.10536051565782628,0.0,0.09531017980432495,0.1823215567939546,0.26236426446749106,0.33647223662121284,0.4054651081081644],\"y\":[-5.050846409059191e-10,4.638842733136157e-07,2.0518797820711713e-07,2.9427007875019127e-07,-1.7743584379574994e-12,0.0,2.827948783849897e-07,-5.613479682663609e-10,-4.682428890165259e-10,-5.022262607052794e-10,-5.152063221819852e-10],\"type\":\"scatter\"},{\"line\":{\"color\":\"rgba(128, 0, 128, 0.48936170212765956)\",\"dash\":\"solid\",\"shape\":\"linear\",\"width\":1.3},\"mode\":\"lines\",\"name\":\"Green Grapes\",\"text\":\"\",\"x\":[-0.6931471805599453,-0.5108256237659907,-0.35667494393873245,-0.22314355131420968,-0.10536051565782628,0.0,0.09531017980432495,0.1823215567939546,0.26236426446749106,0.33647223662121284,0.4054651081081644],\"y\":[-1.9461632307599965e-10,-1.0023815111784304e-10,5.166818071141928e-09,-1.0230460923378712e-10,-3.6777769725317533e-10,0.0,-1.2066214694801064e-10,-5.336965315553021e-10,1.9722909952425765e-09,9.776342132457046e-09,5.069014096073859e-10],\"type\":\"scatter\"},{\"line\":{\"color\":\"rgba(128, 0, 128, 0.40425531914893603)\",\"dash\":\"solid\",\"shape\":\"linear\",\"width\":1.3},\"mode\":\"lines\",\"name\":\"Watermelon\",\"text\":\"\",\"x\":[-0.6931471805599453,-0.5108256237659907,-0.35667494393873245,-0.22314355131420968,-0.10536051565782628,0.0,0.09531017980432495,0.1823215567939546,0.26236426446749106,0.33647223662121284,0.4054651081081644],\"y\":[6.310241308005735e-08,-4.654080455441246e-10,-3.3246827518793663e-10,-4.725625447627694e-10,-1.9739065939277922e-10,0.0,-2.472050342511541e-10,-5.466888054856938e-10,-5.440800034210069e-10,7.997196872719001e-09,2.690613950239909e-09],\"type\":\"scatter\"},{\"line\":{\"color\":\"rgba(219, 64, 82, 0.40425531914893603)\",\"dash\":\"solid\",\"shape\":\"linear\",\"width\":1.3},\"mode\":\"lines\",\"name\":\"Blueberries\",\"text\":\"\",\"x\":[-0.6931471805599453,-0.5108256237659907,-0.35667494393873245,-0.22314355131420968,-0.10536051565782628,0.0,0.09531017980432495,0.1823215567939546,0.26236426446749106,0.33647223662121284,0.4054651081081644],\"y\":[-5.376089574961768e-10,-5.519329439453914e-10,-5.335631937699735e-10,-5.555141903579078e-10,-1.8361989708191522e-10,0.0,-1.4061918297437227e-10,-1.0083578417205885e-10,-8.684231112376531e-11,2.625553107915061e-10,1.7682619797197282e-09],\"type\":\"scatter\"},{\"line\":{\"color\":\"rgba(0, 128, 128, 0.40425531914893603)\",\"dash\":\"solid\",\"shape\":\"linear\",\"width\":1.3},\"mode\":\"lines\",\"name\":\"Cherries\",\"text\":\"\",\"x\":[-0.6931471805599453,-0.5108256237659907,-0.35667494393873245,-0.22314355131420968,-0.10536051565782628,0.0,0.09531017980432495,0.1823215567939546,0.26236426446749106,0.33647223662121284,0.4054651081081644],\"y\":[2.8926083746307626e-10,2.441336021931728e-10,5.072925400207073e-09,8.522582639250857e-11,-3.898457113443116e-10,0.0,-1.0266654193985201e-10,-5.321526554164356e-10,2.279264108185197e-09,4.014609747683981e-09,-3.427773621088766e-10],\"type\":\"scatter\"},{\"line\":{\"color\":\"rgba(255, 255, 51, 0.40425531914893603)\",\"dash\":\"solid\",\"shape\":\"linear\",\"width\":1.3},\"mode\":\"lines\",\"name\":\"Pear\",\"text\":\"\",\"x\":[-0.6931471805599453,-0.5108256237659907,-0.35667494393873245,-0.22314355131420968,-0.10536051565782628,0.0,0.09531017980432495,0.1823215567939546,0.26236426446749106,0.33647223662121284,0.4054651081081644],\"y\":[-9.787604061041657e-11,-3.1970548435959147e-10,-2.775428776077185e-10,-1.6226420208804474e-10,1.5848677924333624e-10,0.0,-5.740197206614442e-11,-2.277293909262523e-10,1.5400556865162743e-07,-5.35093858254842e-10,-5.389347858328978e-10],\"type\":\"scatter\"},{\"line\":{\"color\":\"rgba(128, 128, 0, 0.40425531914893603)\",\"dash\":\"solid\",\"shape\":\"linear\",\"width\":1.3},\"mode\":\"lines\",\"name\":\"Mango\",\"text\":\"\",\"x\":[-0.6931471805599453,-0.5108256237659907,-0.35667494393873245,-0.22314355131420968,-0.10536051565782628,0.0,0.09531017980432495,0.1823215567939546,0.26236426446749106,0.33647223662121284,0.4054651081081644],\"y\":[-0.03467733087069498,-0.0188979258066806,-0.0033636707942424084,1.7268622072930147e-09,-2.2630319842849505e-10,0.0,7.107647803647726e-13,-5.396560976013329e-11,-1.1547252044109008e-10,-1.7077739224228807e-10,-2.2207824470733682e-10],\"type\":\"scatter\"},{\"line\":{\"color\":\"rgba(251, 128, 114, 0.40425531914893603)\",\"dash\":\"solid\",\"shape\":\"linear\",\"width\":1.3},\"mode\":\"lines\",\"name\":\"Asparagus\",\"text\":\"\",\"x\":[-0.6931471805599453,-0.5108256237659907,-0.35667494393873245,-0.22314355131420968,-0.10536051565782628,0.0,0.09531017980432495,0.1823215567939546,0.26236426446749106,0.33647223662121284,0.4054651081081644],\"y\":[1.649899092615536e-08,-5.505844670589384e-10,2.3028845494556656e-10,3.29256918148355e-07,-4.824036726800481e-10,0.0,1.6378984478905757e-08,2.5423539172683117e-08,4.86186747244984e-07,-5.30929966798766e-10,-4.015909827710739e-10],\"type\":\"scatter\"},{\"line\":{\"color\":\"rgba(128, 177, 211, 0.40425531914893603)\",\"dash\":\"solid\",\"shape\":\"linear\",\"width\":1.3},\"mode\":\"lines\",\"name\":\"Cauliflower\",\"text\":\"\",\"x\":[-0.6931471805599453,-0.5108256237659907,-0.35667494393873245,-0.22314355131420968,-0.10536051565782628,0.0,0.09531017980432495,0.1823215567939546,0.26236426446749106,0.33647223662121284,0.4054651081081644],\"y\":[-3.505389312767217e-10,2.5156099422607425e-10,-1.0406453476773126e-11,-3.7546599170156167e-10,-4.177491685995565e-11,0.0,-1.3725087733949403e-10,6.3793532475121365e-09,-5.232576595607474e-10,-1.4415391104067713e-10,2.2867319123209865e-09],\"type\":\"scatter\"},{\"line\":{\"color\":\"rgba(255, 153, 51, 0.40425531914893603)\",\"dash\":\"solid\",\"shape\":\"linear\",\"width\":1.3},\"mode\":\"lines\",\"name\":\"Plated Brussels Sprouts With Tomato Chipotle Butter\",\"text\":\"\",\"x\":[-0.6931471805599453,-0.5108256237659907,-0.35667494393873245,-0.22314355131420968,-0.10536051565782628,0.0,0.09531017980432495,0.1823215567939546,0.26236426446749106,0.33647223662121284,0.4054651081081644],\"y\":[2.6417703545355663e-09,1.92153404280772e-10,-7.821254755264178e-11,1.5035395150000299e-10,6.35117291889849e-10,0.0,5.499818376983601e-10,1.1233536317064365e-09,1.2815370978417973e-09,1.2771206306554885e-09,1.0939606992066772e-09],\"type\":\"scatter\"},{\"line\":{\"color\":\"rgba(55, 128, 191, 0.40425531914893603)\",\"dash\":\"solid\",\"shape\":\"linear\",\"width\":1.3},\"mode\":\"lines\",\"name\":\"Plated Asparagus And Mushrooms\",\"text\":\"\",\"x\":[-0.6931471805599453,-0.5108256237659907,-0.35667494393873245,-0.22314355131420968,-0.10536051565782628,0.0,0.09531017980432495,0.1823215567939546,0.26236426446749106,0.33647223662121284,0.4054651081081644],\"y\":[1.4107670236090853e-07,1.0284456566773021e-08,-2.7980640031095506e-10,-1.6580536944797e-10,2.2441626332505423e-10,0.0,1.9528549869224233e-09,7.808444998651602e-10,4.4021675184327465e-10,-1.9102930350504658e-10,1.6113587587186096e-07],\"type\":\"scatter\"},{\"line\":{\"color\":\"rgba(50, 171, 96, 0.40425531914893603)\",\"dash\":\"solid\",\"shape\":\"linear\",\"width\":1.3},\"mode\":\"lines\",\"name\":\"Plated Squash Mixed With Dill \",\"text\":\"\",\"x\":[-0.6931471805599453,-0.5108256237659907,-0.35667494393873245,-0.22314355131420968,-0.10536051565782628,0.0,0.09531017980432495,0.1823215567939546,0.26236426446749106,0.33647223662121284,0.4054651081081644],\"y\":[1.1525611378341377e-07,-1.6118995027755173e-11,8.467648803997071e-11,-5.1259996248979436e-11,2.218913494925332e-09,0.0,2.0196335694533585e-09,5.441396221013738e-10,5.933387114788691e-11,-5.150642136347599e-10,1.589656282851428e-08],\"type\":\"scatter\"},{\"line\":{\"color\":\"rgba(50, 171, 96, 0.3191489361702127)\",\"dash\":\"solid\",\"shape\":\"linear\",\"width\":1.3},\"mode\":\"lines\",\"name\":\"Organics Organic Baby Arugula\",\"text\":\"\",\"x\":[-0.6931471805599453,-0.5108256237659907,-0.35667494393873245,-0.22314355131420968,-0.10536051565782628,0.0,0.09531017980432495,0.1823215567939546,0.26236426446749106,0.33647223662121284,0.4054651081081644],\"y\":[-2.6383684129810345e-10,-4.3569248218743406e-10,7.660241300803333e-09,-1.0555500918332e-10,3.7152976182047545e-09,0.0,3.2898275161017063e-09,4.739413305130834e-10,8.303024933919457e-11,-3.433862084157899e-10,4.575018185804872e-07],\"type\":\"scatter\"},{\"line\":{\"color\":\"rgba(128, 0, 128, 0.3191489361702127)\",\"dash\":\"solid\",\"shape\":\"linear\",\"width\":1.3},\"mode\":\"lines\",\"name\":\"Signature Farms Baby Peeled Carrots \",\"text\":\"\",\"x\":[-0.6931471805599453,-0.5108256237659907,-0.35667494393873245,-0.22314355131420968,-0.10536051565782628,0.0,0.09531017980432495,0.1823215567939546,0.26236426446749106,0.33647223662121284,0.4054651081081644],\"y\":[-3.5921166048126376e-10,-5.489323441750854e-10,5.421922909172389e-10,3.774136558119537e-10,-3.0970281899378077e-10,0.0,-4.980788005501129e-10,-4.104540042025576e-10,-2.8476110362665087e-10,-3.9183045704620975e-10,-2.2836421645187774e-10],\"type\":\"scatter\"},{\"line\":{\"color\":\"rgba(219, 64, 82, 0.3191489361702127)\",\"dash\":\"solid\",\"shape\":\"linear\",\"width\":1.3},\"mode\":\"lines\",\"name\":\"Signature Farms Salad Baby Spinach\",\"text\":\"\",\"x\":[-0.6931471805599453,-0.5108256237659907,-0.35667494393873245,-0.22314355131420968,-0.10536051565782628,0.0,0.09531017980432495,0.1823215567939546,0.26236426446749106,0.33647223662121284,0.4054651081081644],\"y\":[-9.69151425825099e-11,-5.588496333926477e-10,1.5056484435942614e-07,4.889255972775632e-07,1.6284151803442631e-10,0.0,6.733578137250195e-10,2.863831641901165e-08,2.7566651780855875e-07,4.915518112353628e-07,-3.576832164427144e-10],\"type\":\"scatter\"},{\"line\":{\"color\":\"rgba(0, 128, 128, 0.3191489361702127)\",\"dash\":\"solid\",\"shape\":\"linear\",\"width\":1.3},\"mode\":\"lines\",\"name\":\"Signature Farms Broccoli Cauliflower\",\"text\":\"\",\"x\":[-0.6931471805599453,-0.5108256237659907,-0.35667494393873245,-0.22314355131420968,-0.10536051565782628,0.0,0.09531017980432495,0.1823215567939546,0.26236426446749106,0.33647223662121284,0.4054651081081644],\"y\":[4.173231537739873e-07,1.0280725253330596e-07,-1.259515825048845e-10,-1.4185419506713972e-10,5.568586243270522e-09,0.0,-4.802390708478946e-10,9.884173474805772e-10,1.1692928840559248e-09,1.2335210623101654e-09,1.139466520489196e-09],\"type\":\"scatter\"},{\"line\":{\"color\":\"rgba(255, 255, 51, 0.3191489361702127)\",\"dash\":\"solid\",\"shape\":\"linear\",\"width\":1.3},\"mode\":\"lines\",\"name\":\"Signature Farms Brussels Sprouts\",\"text\":\"\",\"x\":[-0.6931471805599453,-0.5108256237659907,-0.35667494393873245,-0.22314355131420968,-0.10536051565782628,0.0,0.09531017980432495,0.1823215567939546,0.26236426446749106,0.33647223662121284,0.4054651081081644],\"y\":[2.1320988747045925e-08,1.1139533739258524e-10,1.7583277041128995e-09,2.1856871865564874e-10,-3.0330959970451727e-10,0.0,-3.7294556339011445e-10,7.879050742070282e-10,-6.5838445806537764e-12,-1.458599907532922e-11,-1.347699729601559e-11],\"type\":\"scatter\"},{\"line\":{\"color\":\"rgba(128, 128, 0, 0.3191489361702127)\",\"dash\":\"solid\",\"shape\":\"linear\",\"width\":1.3},\"mode\":\"lines\",\"name\":\"Signature Farms Carrot Chips \",\"text\":\"\",\"x\":[-0.6931471805599453,-0.5108256237659907,-0.35667494393873245,-0.22314355131420968,-0.10536051565782628,0.0,0.09531017980432495,0.1823215567939546,0.26236426446749106,0.33647223662121284,0.4054651081081644],\"y\":[-4.5750658827422115e-10,8.095102365884705e-11,1.444744324070598e-10,8.895106873292798e-13,4.6049668311666774e-07,0.0,6.065794571402844e-08,8.006224096059994e-09,2.3679797841978247e-08,-3.419377004350651e-10,-1.162344665029786e-10],\"type\":\"scatter\"},{\"line\":{\"color\":\"rgba(251, 128, 114, 0.3191489361702127)\",\"dash\":\"solid\",\"shape\":\"linear\",\"width\":1.3},\"mode\":\"lines\",\"name\":\"Peanut Butter\",\"text\":\"\",\"x\":[-0.6931471805599453,-0.5108256237659907,-0.35667494393873245,-0.22314355131420968,-0.10536051565782628,0.0,0.09531017980432495,0.1823215567939546,0.26236426446749106,0.33647223662121284,0.4054651081081644],\"y\":[-0.07309985635074379,-0.04524098335234179,-0.028233602506801153,-0.018342621983548805,-0.009129254884681505,0.0,0.009046670364952474,0.018012220442328048,0.02606724245649445,0.03062931778261984,0.03508309550319135],\"type\":\"scatter\"},{\"line\":{\"color\":\"rgba(128, 177, 211, 0.3191489361702127)\",\"dash\":\"solid\",\"shape\":\"linear\",\"width\":1.3},\"mode\":\"lines\",\"name\":\"Almonds \",\"text\":\"\",\"x\":[-0.6931471805599453,-0.5108256237659907,-0.35667494393873245,-0.22314355131420968,-0.10536051565782628,0.0,0.09531017980432495,0.1823215567939546,0.26236426446749106,0.33647223662121284,0.4054651081081644],\"y\":[-5.059548337130601e-10,-2.6530611044928116e-10,2.2821233788999346e-10,-6.671196928432135e-11,1.373123836855451e-12,0.0,-8.562284215341189e-11,1.0236382847229575e-09,3.927470254925956e-07,-5.405863536052217e-10,4.999266305849911e-07],\"type\":\"scatter\"},{\"line\":{\"color\":\"rgba(255, 153, 51, 0.3191489361702127)\",\"dash\":\"solid\",\"shape\":\"linear\",\"width\":1.3},\"mode\":\"lines\",\"name\":\"Sauerkraut\",\"text\":\"\",\"x\":[-0.6931471805599453,-0.5108256237659907,-0.35667494393873245,-0.22314355131420968,-0.10536051565782628,0.0,0.09531017980432495,0.1823215567939546,0.26236426446749106,0.33647223662121284,0.4054651081081644],\"y\":[3.163589389953166e-10,8.270086834149862e-10,-5.579081642672398e-10,-2.702413848619689e-10,-3.585690633943801e-10,0.0,7.290961165480304e-10,-4.192971526419707e-10,4.97670571296079e-10,3.1675797097824606e-07,3.0819818610755477e-07],\"type\":\"scatter\"},{\"line\":{\"color\":\"rgba(55, 128, 191, 0.3191489361702127)\",\"dash\":\"solid\",\"shape\":\"linear\",\"width\":1.3},\"mode\":\"lines\",\"name\":\"Canola Oil\",\"text\":\"\",\"x\":[-0.6931471805599453,-0.5108256237659907,-0.35667494393873245,-0.22314355131420968,-0.10536051565782628,0.0,0.09531017980432495,0.1823215567939546,0.26236426446749106,0.33647223662121284,0.4054651081081644],\"y\":[-0.05555336442695824,-0.04419305276476145,-0.032960348849080216,-0.021852418215921134,-0.010866513455627051,0.0,0.01074970580326481,0.0213850888224837,0.03190853901822381,0.04232240456222412,0.052628940257139614],\"type\":\"scatter\"},{\"line\":{\"color\":\"rgba(55, 128, 191, 0.2340425531914892)\",\"dash\":\"solid\",\"shape\":\"linear\",\"width\":1.3},\"mode\":\"lines\",\"name\":\"Butter\",\"text\":\"\",\"x\":[-0.6931471805599453,-0.5108256237659907,-0.35667494393873245,-0.22314355131420968,-0.10536051565782628,0.0,0.09531017980432495,0.1823215567939546,0.26236426446749106,0.33647223662121284,0.4054651081081644],\"y\":[2.1867176496936747e-08,2.8918771779836265e-09,3.3513349816847242e-09,-5.536097137804096e-10,-3.531502868538613e-10,0.0,-2.2311941186006205e-10,-1.2289469442850125e-10,1.4151434368569492e-08,-1.7363288586211568e-10,-3.5933567239315895e-10],\"type\":\"scatter\"},{\"line\":{\"color\":\"rgba(50, 171, 96, 0.2340425531914892)\",\"dash\":\"solid\",\"shape\":\"linear\",\"width\":1.3},\"mode\":\"lines\",\"name\":\"Gouda Cheese\",\"text\":\"\",\"x\":[-0.6931471805599453,-0.5108256237659907,-0.35667494393873245,-0.22314355131420968,-0.10536051565782628,0.0,0.09531017980432495,0.1823215567939546,0.26236426446749106,0.33647223662121284,0.4054651081081644],\"y\":[-3.870818111234336e-10,-2.8196966987504484e-10,-5.228945056092025e-10,-5.618882027904469e-10,4.5730739752356694e-07,0.0,1.6800896215682574e-09,3.207309301886088e-09,1.902280775534554e-09,3.872837605417024e-10,-5.124402015147103e-10],\"type\":\"scatter\"},{\"line\":{\"color\":\"rgba(128, 0, 128, 0.2340425531914892)\",\"dash\":\"solid\",\"shape\":\"linear\",\"width\":1.3},\"mode\":\"lines\",\"name\":\"Sour Cream\",\"text\":\"\",\"x\":[-0.6931471805599453,-0.5108256237659907,-0.35667494393873245,-0.22314355131420968,-0.10536051565782628,0.0,0.09531017980432495,0.1823215567939546,0.26236426446749106,0.33647223662121284,0.4054651081081644],\"y\":[-9.600675810367399e-11,-2.3151291997274116e-10,-3.3544522720716075e-10,-1.1543255241219896e-10,-2.1115098560739917e-10,0.0,-3.0615621149834435e-11,-1.3936551913479005e-10,1.3391283628565291e-09,-1.0488743207854265e-10,9.605242777210288e-09],\"type\":\"scatter\"},{\"line\":{\"color\":\"rgba(219, 64, 82, 0.2340425531914892)\",\"dash\":\"solid\",\"shape\":\"linear\",\"width\":1.3},\"mode\":\"lines\",\"name\":\"Sunflower Seeds\",\"text\":\"\",\"x\":[-0.6931471805599453,-0.5108256237659907,-0.35667494393873245,-0.22314355131420968,-0.10536051565782628,0.0,0.09531017980432495,0.1823215567939546,0.26236426446749106,0.33647223662121284,0.4054651081081644],\"y\":[-0.03014767838009102,-0.014269712277458154,1.4830585094377527e-08,-2.107580776589129e-11,2.2728485760100375e-12,0.0,-7.194023154991966e-12,-1.2412959549201066e-11,4.7746029351284715e-11,7.683387259465194e-11,8.727130129290153e-11],\"type\":\"scatter\"}],                        {\"legend\":{\"bgcolor\":\"#F5F6F9\",\"font\":{\"color\":\"#4D5663\"}},\"paper_bgcolor\":\"#F5F6F9\",\"plot_bgcolor\":\"#F5F6F9\",\"template\":{\"data\":{\"barpolar\":[{\"marker\":{\"line\":{\"color\":\"#E5ECF6\",\"width\":0.5},\"pattern\":{\"fillmode\":\"overlay\",\"size\":10,\"solidity\":0.2}},\"type\":\"barpolar\"}],\"bar\":[{\"error_x\":{\"color\":\"#2a3f5f\"},\"error_y\":{\"color\":\"#2a3f5f\"},\"marker\":{\"line\":{\"color\":\"#E5ECF6\",\"width\":0.5},\"pattern\":{\"fillmode\":\"overlay\",\"size\":10,\"solidity\":0.2}},\"type\":\"bar\"}],\"carpet\":[{\"aaxis\":{\"endlinecolor\":\"#2a3f5f\",\"gridcolor\":\"white\",\"linecolor\":\"white\",\"minorgridcolor\":\"white\",\"startlinecolor\":\"#2a3f5f\"},\"baxis\":{\"endlinecolor\":\"#2a3f5f\",\"gridcolor\":\"white\",\"linecolor\":\"white\",\"minorgridcolor\":\"white\",\"startlinecolor\":\"#2a3f5f\"},\"type\":\"carpet\"}],\"choropleth\":[{\"colorbar\":{\"outlinewidth\":0,\"ticks\":\"\"},\"type\":\"choropleth\"}],\"contourcarpet\":[{\"colorbar\":{\"outlinewidth\":0,\"ticks\":\"\"},\"type\":\"contourcarpet\"}],\"contour\":[{\"colorbar\":{\"outlinewidth\":0,\"ticks\":\"\"},\"colorscale\":[[0.0,\"#0d0887\"],[0.1111111111111111,\"#46039f\"],[0.2222222222222222,\"#7201a8\"],[0.3333333333333333,\"#9c179e\"],[0.4444444444444444,\"#bd3786\"],[0.5555555555555556,\"#d8576b\"],[0.6666666666666666,\"#ed7953\"],[0.7777777777777778,\"#fb9f3a\"],[0.8888888888888888,\"#fdca26\"],[1.0,\"#f0f921\"]],\"type\":\"contour\"}],\"heatmapgl\":[{\"colorbar\":{\"outlinewidth\":0,\"ticks\":\"\"},\"colorscale\":[[0.0,\"#0d0887\"],[0.1111111111111111,\"#46039f\"],[0.2222222222222222,\"#7201a8\"],[0.3333333333333333,\"#9c179e\"],[0.4444444444444444,\"#bd3786\"],[0.5555555555555556,\"#d8576b\"],[0.6666666666666666,\"#ed7953\"],[0.7777777777777778,\"#fb9f3a\"],[0.8888888888888888,\"#fdca26\"],[1.0,\"#f0f921\"]],\"type\":\"heatmapgl\"}],\"heatmap\":[{\"colorbar\":{\"outlinewidth\":0,\"ticks\":\"\"},\"colorscale\":[[0.0,\"#0d0887\"],[0.1111111111111111,\"#46039f\"],[0.2222222222222222,\"#7201a8\"],[0.3333333333333333,\"#9c179e\"],[0.4444444444444444,\"#bd3786\"],[0.5555555555555556,\"#d8576b\"],[0.6666666666666666,\"#ed7953\"],[0.7777777777777778,\"#fb9f3a\"],[0.8888888888888888,\"#fdca26\"],[1.0,\"#f0f921\"]],\"type\":\"heatmap\"}],\"histogram2dcontour\":[{\"colorbar\":{\"outlinewidth\":0,\"ticks\":\"\"},\"colorscale\":[[0.0,\"#0d0887\"],[0.1111111111111111,\"#46039f\"],[0.2222222222222222,\"#7201a8\"],[0.3333333333333333,\"#9c179e\"],[0.4444444444444444,\"#bd3786\"],[0.5555555555555556,\"#d8576b\"],[0.6666666666666666,\"#ed7953\"],[0.7777777777777778,\"#fb9f3a\"],[0.8888888888888888,\"#fdca26\"],[1.0,\"#f0f921\"]],\"type\":\"histogram2dcontour\"}],\"histogram2d\":[{\"colorbar\":{\"outlinewidth\":0,\"ticks\":\"\"},\"colorscale\":[[0.0,\"#0d0887\"],[0.1111111111111111,\"#46039f\"],[0.2222222222222222,\"#7201a8\"],[0.3333333333333333,\"#9c179e\"],[0.4444444444444444,\"#bd3786\"],[0.5555555555555556,\"#d8576b\"],[0.6666666666666666,\"#ed7953\"],[0.7777777777777778,\"#fb9f3a\"],[0.8888888888888888,\"#fdca26\"],[1.0,\"#f0f921\"]],\"type\":\"histogram2d\"}],\"histogram\":[{\"marker\":{\"pattern\":{\"fillmode\":\"overlay\",\"size\":10,\"solidity\":0.2}},\"type\":\"histogram\"}],\"mesh3d\":[{\"colorbar\":{\"outlinewidth\":0,\"ticks\":\"\"},\"type\":\"mesh3d\"}],\"parcoords\":[{\"line\":{\"colorbar\":{\"outlinewidth\":0,\"ticks\":\"\"}},\"type\":\"parcoords\"}],\"pie\":[{\"automargin\":true,\"type\":\"pie\"}],\"scatter3d\":[{\"line\":{\"colorbar\":{\"outlinewidth\":0,\"ticks\":\"\"}},\"marker\":{\"colorbar\":{\"outlinewidth\":0,\"ticks\":\"\"}},\"type\":\"scatter3d\"}],\"scattercarpet\":[{\"marker\":{\"colorbar\":{\"outlinewidth\":0,\"ticks\":\"\"}},\"type\":\"scattercarpet\"}],\"scattergeo\":[{\"marker\":{\"colorbar\":{\"outlinewidth\":0,\"ticks\":\"\"}},\"type\":\"scattergeo\"}],\"scattergl\":[{\"marker\":{\"colorbar\":{\"outlinewidth\":0,\"ticks\":\"\"}},\"type\":\"scattergl\"}],\"scattermapbox\":[{\"marker\":{\"colorbar\":{\"outlinewidth\":0,\"ticks\":\"\"}},\"type\":\"scattermapbox\"}],\"scatterpolargl\":[{\"marker\":{\"colorbar\":{\"outlinewidth\":0,\"ticks\":\"\"}},\"type\":\"scatterpolargl\"}],\"scatterpolar\":[{\"marker\":{\"colorbar\":{\"outlinewidth\":0,\"ticks\":\"\"}},\"type\":\"scatterpolar\"}],\"scatter\":[{\"marker\":{\"colorbar\":{\"outlinewidth\":0,\"ticks\":\"\"}},\"type\":\"scatter\"}],\"scatterternary\":[{\"marker\":{\"colorbar\":{\"outlinewidth\":0,\"ticks\":\"\"}},\"type\":\"scatterternary\"}],\"surface\":[{\"colorbar\":{\"outlinewidth\":0,\"ticks\":\"\"},\"colorscale\":[[0.0,\"#0d0887\"],[0.1111111111111111,\"#46039f\"],[0.2222222222222222,\"#7201a8\"],[0.3333333333333333,\"#9c179e\"],[0.4444444444444444,\"#bd3786\"],[0.5555555555555556,\"#d8576b\"],[0.6666666666666666,\"#ed7953\"],[0.7777777777777778,\"#fb9f3a\"],[0.8888888888888888,\"#fdca26\"],[1.0,\"#f0f921\"]],\"type\":\"surface\"}],\"table\":[{\"cells\":{\"fill\":{\"color\":\"#EBF0F8\"},\"line\":{\"color\":\"white\"}},\"header\":{\"fill\":{\"color\":\"#C8D4E3\"},\"line\":{\"color\":\"white\"}},\"type\":\"table\"}]},\"layout\":{\"annotationdefaults\":{\"arrowcolor\":\"#2a3f5f\",\"arrowhead\":0,\"arrowwidth\":1},\"autotypenumbers\":\"strict\",\"coloraxis\":{\"colorbar\":{\"outlinewidth\":0,\"ticks\":\"\"}},\"colorscale\":{\"diverging\":[[0,\"#8e0152\"],[0.1,\"#c51b7d\"],[0.2,\"#de77ae\"],[0.3,\"#f1b6da\"],[0.4,\"#fde0ef\"],[0.5,\"#f7f7f7\"],[0.6,\"#e6f5d0\"],[0.7,\"#b8e186\"],[0.8,\"#7fbc41\"],[0.9,\"#4d9221\"],[1,\"#276419\"]],\"sequential\":[[0.0,\"#0d0887\"],[0.1111111111111111,\"#46039f\"],[0.2222222222222222,\"#7201a8\"],[0.3333333333333333,\"#9c179e\"],[0.4444444444444444,\"#bd3786\"],[0.5555555555555556,\"#d8576b\"],[0.6666666666666666,\"#ed7953\"],[0.7777777777777778,\"#fb9f3a\"],[0.8888888888888888,\"#fdca26\"],[1.0,\"#f0f921\"]],\"sequentialminus\":[[0.0,\"#0d0887\"],[0.1111111111111111,\"#46039f\"],[0.2222222222222222,\"#7201a8\"],[0.3333333333333333,\"#9c179e\"],[0.4444444444444444,\"#bd3786\"],[0.5555555555555556,\"#d8576b\"],[0.6666666666666666,\"#ed7953\"],[0.7777777777777778,\"#fb9f3a\"],[0.8888888888888888,\"#fdca26\"],[1.0,\"#f0f921\"]]},\"colorway\":[\"#636efa\",\"#EF553B\",\"#00cc96\",\"#ab63fa\",\"#FFA15A\",\"#19d3f3\",\"#FF6692\",\"#B6E880\",\"#FF97FF\",\"#FECB52\"],\"font\":{\"color\":\"#2a3f5f\"},\"geo\":{\"bgcolor\":\"white\",\"lakecolor\":\"white\",\"landcolor\":\"#E5ECF6\",\"showlakes\":true,\"showland\":true,\"subunitcolor\":\"white\"},\"hoverlabel\":{\"align\":\"left\"},\"hovermode\":\"closest\",\"mapbox\":{\"style\":\"light\"},\"paper_bgcolor\":\"white\",\"plot_bgcolor\":\"#E5ECF6\",\"polar\":{\"angularaxis\":{\"gridcolor\":\"white\",\"linecolor\":\"white\",\"ticks\":\"\"},\"bgcolor\":\"#E5ECF6\",\"radialaxis\":{\"gridcolor\":\"white\",\"linecolor\":\"white\",\"ticks\":\"\"}},\"scene\":{\"xaxis\":{\"backgroundcolor\":\"#E5ECF6\",\"gridcolor\":\"white\",\"gridwidth\":2,\"linecolor\":\"white\",\"showbackground\":true,\"ticks\":\"\",\"zerolinecolor\":\"white\"},\"yaxis\":{\"backgroundcolor\":\"#E5ECF6\",\"gridcolor\":\"white\",\"gridwidth\":2,\"linecolor\":\"white\",\"showbackground\":true,\"ticks\":\"\",\"zerolinecolor\":\"white\"},\"zaxis\":{\"backgroundcolor\":\"#E5ECF6\",\"gridcolor\":\"white\",\"gridwidth\":2,\"linecolor\":\"white\",\"showbackground\":true,\"ticks\":\"\",\"zerolinecolor\":\"white\"}},\"shapedefaults\":{\"line\":{\"color\":\"#2a3f5f\"}},\"ternary\":{\"aaxis\":{\"gridcolor\":\"white\",\"linecolor\":\"white\",\"ticks\":\"\"},\"baxis\":{\"gridcolor\":\"white\",\"linecolor\":\"white\",\"ticks\":\"\"},\"bgcolor\":\"#E5ECF6\",\"caxis\":{\"gridcolor\":\"white\",\"linecolor\":\"white\",\"ticks\":\"\"}},\"title\":{\"x\":0.05},\"xaxis\":{\"automargin\":true,\"gridcolor\":\"white\",\"linecolor\":\"white\",\"ticks\":\"\",\"title\":{\"standoff\":15},\"zerolinecolor\":\"white\",\"zerolinewidth\":2},\"yaxis\":{\"automargin\":true,\"gridcolor\":\"white\",\"linecolor\":\"white\",\"ticks\":\"\",\"title\":{\"standoff\":15},\"zerolinecolor\":\"white\",\"zerolinewidth\":2}}},\"title\":{\"font\":{\"color\":\"#4D5663\"}},\"xaxis\":{\"gridcolor\":\"#E1E5ED\",\"showgrid\":true,\"tickfont\":{\"color\":\"#4D5663\"},\"title\":{\"font\":{\"color\":\"#4D5663\"},\"text\":\"change in log price\"},\"zerolinecolor\":\"#E1E5ED\"},\"yaxis\":{\"gridcolor\":\"#E1E5ED\",\"showgrid\":true,\"tickfont\":{\"color\":\"#4D5663\"},\"title\":{\"font\":{\"color\":\"#4D5663\"},\"text\":\"change in log cost\"},\"zerolinecolor\":\"#E1E5ED\"}},                        {\"showLink\": true, \"linkText\": \"Export to plot.ly\", \"plotlyServerURL\": \"https://plot.ly\", \"responsive\": true}                    ).then(function(){\n",
       "                            \n",
       "var gd = document.getElementById('67f40709-71a7-4d0f-8d67-95d4242c8214');\n",
       "var x = new MutationObserver(function (mutations, observer) {{\n",
       "        var display = window.getComputedStyle(gd).display;\n",
       "        if (!display || display === 'none') {{\n",
       "            console.log([gd, 'removed!']);\n",
       "            Plotly.purge(gd);\n",
       "            observer.disconnect();\n",
       "        }}\n",
       "}});\n",
       "\n",
       "// Listen for the removal of the full notebook cells\n",
       "var notebookContainer = gd.closest('#notebook-container');\n",
       "if (notebookContainer) {{\n",
       "    x.observe(notebookContainer, {childList: true});\n",
       "}}\n",
       "\n",
       "// Listen for the clearing of the current output cell\n",
       "var outputEl = gd.closest('.output');\n",
       "if (outputEl) {{\n",
       "    x.observe(outputEl, {childList: true});\n",
       "}}\n",
       "\n",
       "                        })                };                });            </script>        </div>"
      ]
     },
     "metadata": {},
     "output_type": "display_data"
    },
    {
     "name": "stdout",
     "output_type": "stream",
     "text": [
      "Effect of Price on Changes on in Males Off Campus's Substistence Diet Cost\n"
     ]
    }
   ],
   "source": [
    "#[C] Sensitivity of Solution\n",
    "import cufflinks as cf\n",
    "cf.go_offline()\n",
    "\n",
    "def sense_solution(df, price, diet_min, diet_max, group):\n",
    "    scale = [.5,.6,.7,.8,.9,1.,1.1,1.2,1.3,1.4,1.5]\n",
    "    cost0 = solve_subsistence_problem(df,price,diet_min[group],diet_max[group],tol=tol).fun\n",
    "    Price_response={}\n",
    "    for s in scale:\n",
    "        cost = {}\n",
    "        for i,p in enumerate(price):\n",
    "            my_p = price.copy()\n",
    "            my_p[i] = p*s\n",
    "            result = solve_subsistence_problem(df,my_p,diet_min[group],diet_max[group],tol=tol)\n",
    "            \n",
    "            cost[price.index[i]] = np.log(result.fun/cost0)\n",
    "        Price_response[np.log(s)] = cost\n",
    "    Price_response = pd.DataFrame(Price_response).T\n",
    "    return Price_response.iplot(xTitle='change in log price',yTitle='change in log cost'), Price_response\n",
    "\n",
    "\n",
    "    \n",
    "print(f\"Effect of Price on Changes on in Females On Campus's Substistence Diet Cost\") \n",
    "F_on_PR,df = sense_solution(D, Prices, bmin, bmax, groupF)\n",
    "F_on_PR\n",
    "\n",
    "print(f\"Effect of Price on Changes on in Males On Campus's Substistence Diet Cost\") \n",
    "M_on_PR = sense_solution(D, Prices, bmin, bmax, groupM)\n",
    "M_on_PR\n",
    "\n",
    "print(f\"Effect of Price on Changes on in Females Off Campus's Substistence Diet Cost\") \n",
    "F_off_PR = sense_solution(D_off, Prices_off, bmin_off, bmax_off, groupF)\n",
    "F_off_PR\n",
    "\n",
    "print(f\"Effect of Price on Changes on in Males Off Campus's Substistence Diet Cost\") \n",
    "M_off_PR = sense_solution(D_off, Prices_off, bmin_off, bmax_off, groupM)\n",
    "M_off_PR"
   ]
  },
  {
   "cell_type": "code",
   "execution_count": null,
   "id": "1da0ee0e-a5cd-49be-936b-4852924319a1",
   "metadata": {},
   "outputs": [],
   "source": [
    "#Sensitivity of Solution for Females On Campus to Changes in Chocolocate Croissant Prices \n",
    "ReferenceGood = 'Chocolate Croissant'\n",
    "\n",
    "scale = [0.5,0.75,0.9,1.,1.1,1.2,1.3,1.4,1.5,2,4]\n",
    "\n",
    "cost0 = solve_subsistence_problem(D,Prices,bmin[groupF],bmax[groupF],tol=tol).fun\n",
    "\n",
    "my_p = Prices.copy()\n",
    "\n",
    "diet = {}\n",
    "for s in scale:\n",
    "\n",
    "    my_p[ReferenceGood] = Prices[ReferenceGood]*s\n",
    "    result = solve_subsistence_problem(D,my_p,bmin[groupF],bmax[groupF],tol=tol)\n",
    "    diet[my_p[ReferenceGood]] = result.diet\n",
    "\n",
    "Diet_response = pd.DataFrame(diet).T\n",
    "Diet_response.index.name = '%s Price' % ReferenceGood\n",
    "\n",
    "Diet_response.reset_index(inplace=True)\n",
    "\n",
    "# Get rid of units for index (cufflinks chokes)\n",
    "Diet_response['%s Price' % ReferenceGood] = Diet_response['%s Price' % ReferenceGood].apply(lambda x: x.magnitude)\n",
    "\n",
    "Diet_response = Diet_response.set_index('%s Price' % ReferenceGood)\n",
    "\n",
    "# Just look at goods consumed in quantities greater than error tolerance\n",
    "Diet_response.loc[:,(Diet_response>tol).sum()>0].iplot(xTitle='%s Price' % ReferenceGood,yTitle='Hectograms')"
   ]
  },
  {
   "cell_type": "code",
   "execution_count": null,
   "id": "e8c9d6e2-77ce-4fbe-b913-ca8b70602fe9",
   "metadata": {},
   "outputs": [],
   "source": [
    "#Sensitivity of Solution for Males On Campus to Changes in Chocolocate Croissant Prices \n",
    "ReferenceGood = 'Chocolate Croissant'\n",
    "\n",
    "scale = [0.5,0.75,0.9,1.,1.1,1.2,1.3,1.4,1.5,2,4]\n",
    "\n",
    "cost0 = solve_subsistence_problem(D,Prices,bmin[groupM],bmax[groupM],tol=tol).fun\n",
    "\n",
    "my_p = Prices.copy()\n",
    "\n",
    "diet = {}\n",
    "for s in scale:\n",
    "\n",
    "    my_p[ReferenceGood] = Prices[ReferenceGood]*s\n",
    "    result = solve_subsistence_problem(D,my_p,bmin[groupM],bmax[groupM],tol=tol)\n",
    "    diet[my_p[ReferenceGood]] = result.diet\n",
    "\n",
    "Diet_response = pd.DataFrame(diet).T\n",
    "Diet_response.index.name = '%s Price' % ReferenceGood\n",
    "\n",
    "Diet_response.reset_index(inplace=True)\n",
    "\n",
    "# Get rid of units for index (cufflinks chokes)\n",
    "Diet_response['%s Price' % ReferenceGood] = Diet_response['%s Price' % ReferenceGood].apply(lambda x: x.magnitude)\n",
    "\n",
    "Diet_response = Diet_response.set_index('%s Price' % ReferenceGood)\n",
    "\n",
    "# Just look at goods consumed in quantities greater than error tolerance\n",
    "Diet_response.loc[:,(Diet_response>tol).sum()>0].iplot(xTitle='%s Price' % ReferenceGood,yTitle='Hectograms')"
   ]
  },
  {
   "cell_type": "code",
   "execution_count": null,
   "id": "c5810b75-3abe-463f-902c-9fa1fa8b7fc9",
   "metadata": {},
   "outputs": [],
   "source": []
  },
  {
   "cell_type": "code",
   "execution_count": null,
   "id": "8e9e4e9b-70cd-4dc7-919a-fd674c7c34bf",
   "metadata": {},
   "outputs": [],
   "source": []
  }
 ],
 "metadata": {
  "kernelspec": {
   "display_name": "anaconda-2022.05-py39",
   "language": "python",
   "name": "conda-env-anaconda-2022.05-py39-py"
  },
  "language_info": {
   "codemirror_mode": {
    "name": "ipython",
    "version": 3
   },
   "file_extension": ".py",
   "mimetype": "text/x-python",
   "name": "python",
   "nbconvert_exporter": "python",
   "pygments_lexer": "ipython3",
   "version": "3.9.12"
  }
 },
 "nbformat": 4,
 "nbformat_minor": 5
}
