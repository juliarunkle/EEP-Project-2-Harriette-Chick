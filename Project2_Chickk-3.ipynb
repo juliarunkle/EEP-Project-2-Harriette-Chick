{
 "cells": [
  {
   "cell_type": "code",
   "execution_count": 1,
   "id": "c3dcd3e8-5660-4692-9449-7d1d61917836",
   "metadata": {
    "tags": []
   },
   "outputs": [
    {
     "name": "stdout",
     "output_type": "stream",
     "text": [
      "Defaulting to user installation because normal site-packages is not writeable\n",
      "Looking in links: /usr/share/pip-wheels\n",
      "Requirement already satisfied: gspread_pandas in ./.local/lib/python3.9/site-packages (3.2.2)\n",
      "Requirement already satisfied: google-auth-oauthlib in ./.local/lib/python3.9/site-packages (from gspread_pandas) (1.0.0)\n",
      "Requirement already satisfied: pandas>=0.20.0 in /opt/conda/envs/anaconda-2022.05-py39/lib/python3.9/site-packages (from gspread_pandas) (1.4.2)\n",
      "Requirement already satisfied: google-auth in ./.local/lib/python3.9/site-packages (from gspread_pandas) (2.16.1)\n",
      "Requirement already satisfied: gspread>=5.0.0 in ./.local/lib/python3.9/site-packages (from gspread_pandas) (5.7.2)\n",
      "Requirement already satisfied: decorator in /opt/conda/envs/anaconda-2022.05-py39/lib/python3.9/site-packages (from gspread_pandas) (5.1.1)\n",
      "Requirement already satisfied: cachetools<6.0,>=2.0.0 in /opt/conda/envs/anaconda-2022.05-py39/lib/python3.9/site-packages (from google-auth->gspread_pandas) (4.2.2)\n",
      "Requirement already satisfied: six>=1.9.0 in /opt/conda/envs/anaconda-2022.05-py39/lib/python3.9/site-packages (from google-auth->gspread_pandas) (1.16.0)\n",
      "Requirement already satisfied: pyasn1-modules>=0.2.1 in /opt/conda/envs/anaconda-2022.05-py39/lib/python3.9/site-packages (from google-auth->gspread_pandas) (0.2.8)\n",
      "Requirement already satisfied: rsa<5,>=3.1.4 in /opt/conda/envs/anaconda-2022.05-py39/lib/python3.9/site-packages (from google-auth->gspread_pandas) (4.7.2)\n",
      "Requirement already satisfied: requests-oauthlib>=0.7.0 in ./.local/lib/python3.9/site-packages (from google-auth-oauthlib->gspread_pandas) (1.3.1)\n",
      "Requirement already satisfied: python-dateutil>=2.8.1 in /opt/conda/envs/anaconda-2022.05-py39/lib/python3.9/site-packages (from pandas>=0.20.0->gspread_pandas) (2.8.2)\n",
      "Requirement already satisfied: pytz>=2020.1 in /opt/conda/envs/anaconda-2022.05-py39/lib/python3.9/site-packages (from pandas>=0.20.0->gspread_pandas) (2021.3)\n",
      "Requirement already satisfied: numpy>=1.18.5 in /opt/conda/envs/anaconda-2022.05-py39/lib/python3.9/site-packages (from pandas>=0.20.0->gspread_pandas) (1.21.5)\n",
      "Requirement already satisfied: pyasn1<0.5.0,>=0.4.6 in /opt/conda/envs/anaconda-2022.05-py39/lib/python3.9/site-packages (from pyasn1-modules>=0.2.1->google-auth->gspread_pandas) (0.4.8)\n",
      "Requirement already satisfied: oauthlib>=3.0.0 in ./.local/lib/python3.9/site-packages (from requests-oauthlib>=0.7.0->google-auth-oauthlib->gspread_pandas) (3.2.2)\n",
      "Requirement already satisfied: requests>=2.0.0 in /opt/conda/envs/anaconda-2022.05-py39/lib/python3.9/site-packages (from requests-oauthlib>=0.7.0->google-auth-oauthlib->gspread_pandas) (2.27.1)\n",
      "Requirement already satisfied: certifi>=2017.4.17 in /opt/conda/envs/anaconda-2022.05-py39/lib/python3.9/site-packages (from requests>=2.0.0->requests-oauthlib>=0.7.0->google-auth-oauthlib->gspread_pandas) (2021.10.8)\n",
      "Requirement already satisfied: urllib3<1.27,>=1.21.1 in /opt/conda/envs/anaconda-2022.05-py39/lib/python3.9/site-packages (from requests>=2.0.0->requests-oauthlib>=0.7.0->google-auth-oauthlib->gspread_pandas) (1.26.9)\n",
      "Requirement already satisfied: idna<4,>=2.5 in /opt/conda/envs/anaconda-2022.05-py39/lib/python3.9/site-packages (from requests>=2.0.0->requests-oauthlib>=0.7.0->google-auth-oauthlib->gspread_pandas) (3.3)\n",
      "Requirement already satisfied: charset-normalizer~=2.0.0 in /opt/conda/envs/anaconda-2022.05-py39/lib/python3.9/site-packages (from requests>=2.0.0->requests-oauthlib>=0.7.0->google-auth-oauthlib->gspread_pandas) (2.0.4)\n",
      "Note: you may need to restart the kernel to use updated packages.\n",
      "Defaulting to user installation because normal site-packages is not writeable\n",
      "Looking in links: /usr/share/pip-wheels\n",
      "Requirement already satisfied: fooddatacentral in ./.local/lib/python3.9/site-packages (1.0.9)\n",
      "Note: you may need to restart the kernel to use updated packages.\n",
      "Defaulting to user installation because normal site-packages is not writeable\n",
      "Looking in links: /usr/share/pip-wheels\n",
      "Requirement already satisfied: pint in ./.local/lib/python3.9/site-packages (0.20.1)\n",
      "Note: you may need to restart the kernel to use updated packages.\n",
      "Defaulting to user installation because normal site-packages is not writeable\n",
      "Looking in links: /usr/share/pip-wheels\n",
      "Requirement already satisfied: cufflinks in ./.local/lib/python3.9/site-packages (0.17.3)\n",
      "Requirement already satisfied: colorlover>=0.2.1 in ./.local/lib/python3.9/site-packages (from cufflinks) (0.3.0)\n",
      "Requirement already satisfied: plotly>=4.1.1 in /opt/conda/envs/anaconda-2022.05-py39/lib/python3.9/site-packages (from cufflinks) (5.6.0)\n",
      "Requirement already satisfied: numpy>=1.9.2 in /opt/conda/envs/anaconda-2022.05-py39/lib/python3.9/site-packages (from cufflinks) (1.21.5)\n",
      "Requirement already satisfied: pandas>=0.19.2 in /opt/conda/envs/anaconda-2022.05-py39/lib/python3.9/site-packages (from cufflinks) (1.4.2)\n",
      "Requirement already satisfied: ipywidgets>=7.0.0 in /opt/conda/envs/anaconda-2022.05-py39/lib/python3.9/site-packages (from cufflinks) (7.6.5)\n",
      "Requirement already satisfied: ipython>=5.3.0 in /opt/conda/envs/anaconda-2022.05-py39/lib/python3.9/site-packages (from cufflinks) (8.2.0)\n",
      "Requirement already satisfied: setuptools>=34.4.1 in /opt/conda/envs/anaconda-2022.05-py39/lib/python3.9/site-packages (from cufflinks) (61.2.0)\n",
      "Requirement already satisfied: six>=1.9.0 in /opt/conda/envs/anaconda-2022.05-py39/lib/python3.9/site-packages (from cufflinks) (1.16.0)\n",
      "Requirement already satisfied: traitlets>=5 in /opt/conda/envs/anaconda-2022.05-py39/lib/python3.9/site-packages (from ipython>=5.3.0->cufflinks) (5.1.1)\n",
      "Requirement already satisfied: pexpect>4.3 in /opt/conda/envs/anaconda-2022.05-py39/lib/python3.9/site-packages (from ipython>=5.3.0->cufflinks) (4.8.0)\n",
      "Requirement already satisfied: matplotlib-inline in /opt/conda/envs/anaconda-2022.05-py39/lib/python3.9/site-packages (from ipython>=5.3.0->cufflinks) (0.1.2)\n",
      "Requirement already satisfied: prompt-toolkit!=3.0.0,!=3.0.1,<3.1.0,>=2.0.0 in /opt/conda/envs/anaconda-2022.05-py39/lib/python3.9/site-packages (from ipython>=5.3.0->cufflinks) (3.0.20)\n",
      "Requirement already satisfied: decorator in /opt/conda/envs/anaconda-2022.05-py39/lib/python3.9/site-packages (from ipython>=5.3.0->cufflinks) (5.1.1)\n",
      "Requirement already satisfied: jedi>=0.16 in /opt/conda/envs/anaconda-2022.05-py39/lib/python3.9/site-packages (from ipython>=5.3.0->cufflinks) (0.18.1)\n",
      "Requirement already satisfied: stack-data in /opt/conda/envs/anaconda-2022.05-py39/lib/python3.9/site-packages (from ipython>=5.3.0->cufflinks) (0.2.0)\n",
      "Requirement already satisfied: backcall in /opt/conda/envs/anaconda-2022.05-py39/lib/python3.9/site-packages (from ipython>=5.3.0->cufflinks) (0.2.0)\n",
      "Requirement already satisfied: pygments>=2.4.0 in /opt/conda/envs/anaconda-2022.05-py39/lib/python3.9/site-packages (from ipython>=5.3.0->cufflinks) (2.11.2)\n",
      "Requirement already satisfied: pickleshare in /opt/conda/envs/anaconda-2022.05-py39/lib/python3.9/site-packages (from ipython>=5.3.0->cufflinks) (0.7.5)\n",
      "Requirement already satisfied: ipython-genutils~=0.2.0 in /opt/conda/envs/anaconda-2022.05-py39/lib/python3.9/site-packages (from ipywidgets>=7.0.0->cufflinks) (0.2.0)\n",
      "Requirement already satisfied: widgetsnbextension~=3.5.0 in /opt/conda/envs/anaconda-2022.05-py39/lib/python3.9/site-packages (from ipywidgets>=7.0.0->cufflinks) (3.5.2)\n",
      "Requirement already satisfied: jupyterlab-widgets>=1.0.0 in /opt/conda/envs/anaconda-2022.05-py39/lib/python3.9/site-packages (from ipywidgets>=7.0.0->cufflinks) (1.0.0)\n",
      "Requirement already satisfied: ipykernel>=4.5.1 in /opt/conda/envs/anaconda-2022.05-py39/lib/python3.9/site-packages (from ipywidgets>=7.0.0->cufflinks) (6.9.1)\n",
      "Requirement already satisfied: nbformat>=4.2.0 in /opt/conda/envs/anaconda-2022.05-py39/lib/python3.9/site-packages (from ipywidgets>=7.0.0->cufflinks) (5.3.0)\n",
      "Requirement already satisfied: tornado<7.0,>=4.2 in /opt/conda/envs/anaconda-2022.05-py39/lib/python3.9/site-packages (from ipykernel>=4.5.1->ipywidgets>=7.0.0->cufflinks) (6.1)\n",
      "Requirement already satisfied: debugpy<2.0,>=1.0.0 in /opt/conda/envs/anaconda-2022.05-py39/lib/python3.9/site-packages (from ipykernel>=4.5.1->ipywidgets>=7.0.0->cufflinks) (1.5.1)\n",
      "Requirement already satisfied: nest-asyncio in /opt/conda/envs/anaconda-2022.05-py39/lib/python3.9/site-packages (from ipykernel>=4.5.1->ipywidgets>=7.0.0->cufflinks) (1.5.5)\n",
      "Requirement already satisfied: jupyter-client<8.0 in /opt/conda/envs/anaconda-2022.05-py39/lib/python3.9/site-packages (from ipykernel>=4.5.1->ipywidgets>=7.0.0->cufflinks) (6.1.12)\n",
      "Requirement already satisfied: parso<0.9.0,>=0.8.0 in /opt/conda/envs/anaconda-2022.05-py39/lib/python3.9/site-packages (from jedi>=0.16->ipython>=5.3.0->cufflinks) (0.8.3)\n",
      "Requirement already satisfied: python-dateutil>=2.1 in /opt/conda/envs/anaconda-2022.05-py39/lib/python3.9/site-packages (from jupyter-client<8.0->ipykernel>=4.5.1->ipywidgets>=7.0.0->cufflinks) (2.8.2)\n",
      "Requirement already satisfied: jupyter-core>=4.6.0 in /opt/conda/envs/anaconda-2022.05-py39/lib/python3.9/site-packages (from jupyter-client<8.0->ipykernel>=4.5.1->ipywidgets>=7.0.0->cufflinks) (4.9.2)\n",
      "Requirement already satisfied: pyzmq>=13 in /opt/conda/envs/anaconda-2022.05-py39/lib/python3.9/site-packages (from jupyter-client<8.0->ipykernel>=4.5.1->ipywidgets>=7.0.0->cufflinks) (22.3.0)\n",
      "Requirement already satisfied: fastjsonschema in /opt/conda/envs/anaconda-2022.05-py39/lib/python3.9/site-packages (from nbformat>=4.2.0->ipywidgets>=7.0.0->cufflinks) (2.15.1)\n",
      "Requirement already satisfied: jsonschema>=2.6 in /opt/conda/envs/anaconda-2022.05-py39/lib/python3.9/site-packages (from nbformat>=4.2.0->ipywidgets>=7.0.0->cufflinks) (4.4.0)\n",
      "Requirement already satisfied: attrs>=17.4.0 in /opt/conda/envs/anaconda-2022.05-py39/lib/python3.9/site-packages (from jsonschema>=2.6->nbformat>=4.2.0->ipywidgets>=7.0.0->cufflinks) (21.4.0)\n",
      "Requirement already satisfied: pyrsistent!=0.17.0,!=0.17.1,!=0.17.2,>=0.14.0 in /opt/conda/envs/anaconda-2022.05-py39/lib/python3.9/site-packages (from jsonschema>=2.6->nbformat>=4.2.0->ipywidgets>=7.0.0->cufflinks) (0.18.0)\n",
      "Requirement already satisfied: pytz>=2020.1 in /opt/conda/envs/anaconda-2022.05-py39/lib/python3.9/site-packages (from pandas>=0.19.2->cufflinks) (2021.3)\n",
      "Requirement already satisfied: ptyprocess>=0.5 in /opt/conda/envs/anaconda-2022.05-py39/lib/python3.9/site-packages (from pexpect>4.3->ipython>=5.3.0->cufflinks) (0.7.0)\n",
      "Requirement already satisfied: tenacity>=6.2.0 in /opt/conda/envs/anaconda-2022.05-py39/lib/python3.9/site-packages (from plotly>=4.1.1->cufflinks) (8.0.1)\n",
      "Requirement already satisfied: wcwidth in /opt/conda/envs/anaconda-2022.05-py39/lib/python3.9/site-packages (from prompt-toolkit!=3.0.0,!=3.0.1,<3.1.0,>=2.0.0->ipython>=5.3.0->cufflinks) (0.2.5)\n",
      "Requirement already satisfied: notebook>=4.4.1 in /opt/conda/envs/anaconda-2022.05-py39/lib/python3.9/site-packages (from widgetsnbextension~=3.5.0->ipywidgets>=7.0.0->cufflinks) (6.4.8)\n",
      "Requirement already satisfied: argon2-cffi in /opt/conda/envs/anaconda-2022.05-py39/lib/python3.9/site-packages (from notebook>=4.4.1->widgetsnbextension~=3.5.0->ipywidgets>=7.0.0->cufflinks) (21.3.0)\n",
      "Requirement already satisfied: jinja2 in /opt/conda/envs/anaconda-2022.05-py39/lib/python3.9/site-packages (from notebook>=4.4.1->widgetsnbextension~=3.5.0->ipywidgets>=7.0.0->cufflinks) (2.11.3)\n",
      "Requirement already satisfied: nbconvert in /opt/conda/envs/anaconda-2022.05-py39/lib/python3.9/site-packages (from notebook>=4.4.1->widgetsnbextension~=3.5.0->ipywidgets>=7.0.0->cufflinks) (6.4.4)\n",
      "Requirement already satisfied: terminado>=0.8.3 in /opt/conda/envs/anaconda-2022.05-py39/lib/python3.9/site-packages (from notebook>=4.4.1->widgetsnbextension~=3.5.0->ipywidgets>=7.0.0->cufflinks) (0.13.1)\n",
      "Requirement already satisfied: prometheus-client in /opt/conda/envs/anaconda-2022.05-py39/lib/python3.9/site-packages (from notebook>=4.4.1->widgetsnbextension~=3.5.0->ipywidgets>=7.0.0->cufflinks) (0.13.1)\n",
      "Requirement already satisfied: Send2Trash>=1.8.0 in /opt/conda/envs/anaconda-2022.05-py39/lib/python3.9/site-packages (from notebook>=4.4.1->widgetsnbextension~=3.5.0->ipywidgets>=7.0.0->cufflinks) (1.8.0)\n",
      "Requirement already satisfied: argon2-cffi-bindings in /opt/conda/envs/anaconda-2022.05-py39/lib/python3.9/site-packages (from argon2-cffi->notebook>=4.4.1->widgetsnbextension~=3.5.0->ipywidgets>=7.0.0->cufflinks) (21.2.0)\n",
      "Requirement already satisfied: cffi>=1.0.1 in /opt/conda/envs/anaconda-2022.05-py39/lib/python3.9/site-packages (from argon2-cffi-bindings->argon2-cffi->notebook>=4.4.1->widgetsnbextension~=3.5.0->ipywidgets>=7.0.0->cufflinks) (1.15.0)\n",
      "Requirement already satisfied: pycparser in /opt/conda/envs/anaconda-2022.05-py39/lib/python3.9/site-packages (from cffi>=1.0.1->argon2-cffi-bindings->argon2-cffi->notebook>=4.4.1->widgetsnbextension~=3.5.0->ipywidgets>=7.0.0->cufflinks) (2.21)\n",
      "Requirement already satisfied: MarkupSafe>=0.23 in /opt/conda/envs/anaconda-2022.05-py39/lib/python3.9/site-packages (from jinja2->notebook>=4.4.1->widgetsnbextension~=3.5.0->ipywidgets>=7.0.0->cufflinks) (2.0.1)\n",
      "Requirement already satisfied: bleach in /opt/conda/envs/anaconda-2022.05-py39/lib/python3.9/site-packages (from nbconvert->notebook>=4.4.1->widgetsnbextension~=3.5.0->ipywidgets>=7.0.0->cufflinks) (4.1.0)\n",
      "Requirement already satisfied: beautifulsoup4 in /opt/conda/envs/anaconda-2022.05-py39/lib/python3.9/site-packages (from nbconvert->notebook>=4.4.1->widgetsnbextension~=3.5.0->ipywidgets>=7.0.0->cufflinks) (4.11.1)\n",
      "Requirement already satisfied: mistune<2,>=0.8.1 in /opt/conda/envs/anaconda-2022.05-py39/lib/python3.9/site-packages (from nbconvert->notebook>=4.4.1->widgetsnbextension~=3.5.0->ipywidgets>=7.0.0->cufflinks) (0.8.4)\n",
      "Requirement already satisfied: pandocfilters>=1.4.1 in /opt/conda/envs/anaconda-2022.05-py39/lib/python3.9/site-packages (from nbconvert->notebook>=4.4.1->widgetsnbextension~=3.5.0->ipywidgets>=7.0.0->cufflinks) (1.5.0)\n",
      "Requirement already satisfied: nbclient<0.6.0,>=0.5.0 in /opt/conda/envs/anaconda-2022.05-py39/lib/python3.9/site-packages (from nbconvert->notebook>=4.4.1->widgetsnbextension~=3.5.0->ipywidgets>=7.0.0->cufflinks) (0.5.13)\n",
      "Requirement already satisfied: defusedxml in /opt/conda/envs/anaconda-2022.05-py39/lib/python3.9/site-packages (from nbconvert->notebook>=4.4.1->widgetsnbextension~=3.5.0->ipywidgets>=7.0.0->cufflinks) (0.7.1)\n",
      "Requirement already satisfied: testpath in /opt/conda/envs/anaconda-2022.05-py39/lib/python3.9/site-packages (from nbconvert->notebook>=4.4.1->widgetsnbextension~=3.5.0->ipywidgets>=7.0.0->cufflinks) (0.5.0)\n",
      "Requirement already satisfied: entrypoints>=0.2.2 in /opt/conda/envs/anaconda-2022.05-py39/lib/python3.9/site-packages (from nbconvert->notebook>=4.4.1->widgetsnbextension~=3.5.0->ipywidgets>=7.0.0->cufflinks) (0.4)\n",
      "Requirement already satisfied: jupyterlab-pygments in /opt/conda/envs/anaconda-2022.05-py39/lib/python3.9/site-packages (from nbconvert->notebook>=4.4.1->widgetsnbextension~=3.5.0->ipywidgets>=7.0.0->cufflinks) (0.1.2)\n",
      "Requirement already satisfied: soupsieve>1.2 in /opt/conda/envs/anaconda-2022.05-py39/lib/python3.9/site-packages (from beautifulsoup4->nbconvert->notebook>=4.4.1->widgetsnbextension~=3.5.0->ipywidgets>=7.0.0->cufflinks) (2.3.1)\n",
      "Requirement already satisfied: webencodings in /opt/conda/envs/anaconda-2022.05-py39/lib/python3.9/site-packages (from bleach->nbconvert->notebook>=4.4.1->widgetsnbextension~=3.5.0->ipywidgets>=7.0.0->cufflinks) (0.5.1)\n",
      "Requirement already satisfied: packaging in /opt/conda/envs/anaconda-2022.05-py39/lib/python3.9/site-packages (from bleach->nbconvert->notebook>=4.4.1->widgetsnbextension~=3.5.0->ipywidgets>=7.0.0->cufflinks) (21.3)\n",
      "Requirement already satisfied: pyparsing!=3.0.5,>=2.0.2 in /opt/conda/envs/anaconda-2022.05-py39/lib/python3.9/site-packages (from packaging->bleach->nbconvert->notebook>=4.4.1->widgetsnbextension~=3.5.0->ipywidgets>=7.0.0->cufflinks) (3.0.4)\n",
      "Requirement already satisfied: asttokens in /opt/conda/envs/anaconda-2022.05-py39/lib/python3.9/site-packages (from stack-data->ipython>=5.3.0->cufflinks) (2.0.5)\n",
      "Requirement already satisfied: pure-eval in /opt/conda/envs/anaconda-2022.05-py39/lib/python3.9/site-packages (from stack-data->ipython>=5.3.0->cufflinks) (0.2.2)\n",
      "Requirement already satisfied: executing in /opt/conda/envs/anaconda-2022.05-py39/lib/python3.9/site-packages (from stack-data->ipython>=5.3.0->cufflinks) (0.8.3)\n",
      "Note: you may need to restart the kernel to use updated packages.\n"
     ]
    }
   ],
   "source": [
    "%pip install gspread_pandas\n",
    "%pip install fooddatacentral\n",
    "%pip install pint\n",
    "%pip install cufflinks\n",
    "\n",
    "#Link to the deliverables https://github.com/ligonteaching/EEP153_Materials/blob/master/Project2/goals.pdf"
   ]
  },
  {
   "cell_type": "code",
   "execution_count": 2,
   "id": "20961aed-6679-4fe7-bcda-5e47ab1a8862",
   "metadata": {},
   "outputs": [
    {
     "data": {
      "text/html": [
       "        <script type=\"text/javascript\">\n",
       "        window.PlotlyConfig = {MathJaxConfig: 'local'};\n",
       "        if (window.MathJax) {MathJax.Hub.Config({SVG: {font: \"STIX-Web\"}});}\n",
       "        if (typeof require !== 'undefined') {\n",
       "        require.undef(\"plotly\");\n",
       "        requirejs.config({\n",
       "            paths: {\n",
       "                'plotly': ['https://cdn.plot.ly/plotly-2.9.0.min']\n",
       "            }\n",
       "        });\n",
       "        require(['plotly'], function(Plotly) {\n",
       "            window._Plotly = Plotly;\n",
       "        });\n",
       "        }\n",
       "        </script>\n",
       "        "
      ]
     },
     "metadata": {},
     "output_type": "display_data"
    },
    {
     "data": {
      "text/html": [
       "<div>\n",
       "<style scoped>\n",
       "    .dataframe tbody tr th:only-of-type {\n",
       "        vertical-align: middle;\n",
       "    }\n",
       "\n",
       "    .dataframe tbody tr th {\n",
       "        vertical-align: top;\n",
       "    }\n",
       "\n",
       "    .dataframe thead th {\n",
       "        text-align: right;\n",
       "    }\n",
       "</style>\n",
       "<table border=\"1\" class=\"dataframe\">\n",
       "  <thead>\n",
       "    <tr style=\"text-align: right;\">\n",
       "      <th></th>\n",
       "      <th>Quantity</th>\n",
       "      <th>Units</th>\n",
       "    </tr>\n",
       "  </thead>\n",
       "  <tbody>\n",
       "    <tr>\n",
       "      <th>Total lipid (fat)</th>\n",
       "      <td>3.53</td>\n",
       "      <td>g</td>\n",
       "    </tr>\n",
       "    <tr>\n",
       "      <th>Vitamin C, total ascorbic acid</th>\n",
       "      <td>0.00</td>\n",
       "      <td>mg</td>\n",
       "    </tr>\n",
       "    <tr>\n",
       "      <th>Vitamin A, IU</th>\n",
       "      <td>0.00</td>\n",
       "      <td>IU</td>\n",
       "    </tr>\n",
       "    <tr>\n",
       "      <th>Protein</th>\n",
       "      <td>8.24</td>\n",
       "      <td>g</td>\n",
       "    </tr>\n",
       "    <tr>\n",
       "      <th>Carbohydrate, by difference</th>\n",
       "      <td>19.41</td>\n",
       "      <td>g</td>\n",
       "    </tr>\n",
       "    <tr>\n",
       "      <th>Calcium, Ca</th>\n",
       "      <td>24.00</td>\n",
       "      <td>mg</td>\n",
       "    </tr>\n",
       "    <tr>\n",
       "      <th>Energy</th>\n",
       "      <td>141.00</td>\n",
       "      <td>kcal</td>\n",
       "    </tr>\n",
       "    <tr>\n",
       "      <th>Sugars, total including NLEA</th>\n",
       "      <td>1.18</td>\n",
       "      <td>g</td>\n",
       "    </tr>\n",
       "    <tr>\n",
       "      <th>Fatty acids, total trans</th>\n",
       "      <td>0.00</td>\n",
       "      <td>g</td>\n",
       "    </tr>\n",
       "    <tr>\n",
       "      <th>Fatty acids, total saturated</th>\n",
       "      <td>0.88</td>\n",
       "      <td>g</td>\n",
       "    </tr>\n",
       "    <tr>\n",
       "      <th>Iron, Fe</th>\n",
       "      <td>0.85</td>\n",
       "      <td>mg</td>\n",
       "    </tr>\n",
       "    <tr>\n",
       "      <th>Sodium, Na</th>\n",
       "      <td>329.00</td>\n",
       "      <td>mg</td>\n",
       "    </tr>\n",
       "    <tr>\n",
       "      <th>Fiber, total dietary</th>\n",
       "      <td>1.20</td>\n",
       "      <td>g</td>\n",
       "    </tr>\n",
       "    <tr>\n",
       "      <th>Cholesterol</th>\n",
       "      <td>18.00</td>\n",
       "      <td>mg</td>\n",
       "    </tr>\n",
       "  </tbody>\n",
       "</table>\n",
       "</div>"
      ],
      "text/plain": [
       "                                Quantity Units\n",
       "Total lipid (fat)                   3.53     g\n",
       "Vitamin C, total ascorbic acid      0.00    mg\n",
       "Vitamin A, IU                       0.00    IU\n",
       "Protein                             8.24     g\n",
       "Carbohydrate, by difference        19.41     g\n",
       "Calcium, Ca                        24.00    mg\n",
       "Energy                            141.00  kcal\n",
       "Sugars, total including NLEA        1.18     g\n",
       "Fatty acids, total trans            0.00     g\n",
       "Fatty acids, total saturated        0.88     g\n",
       "Iron, Fe                            0.85    mg\n",
       "Sodium, Na                        329.00    mg\n",
       "Fiber, total dietary                1.20     g\n",
       "Cholesterol                        18.00    mg"
      ]
     },
     "execution_count": 2,
     "metadata": {},
     "output_type": "execute_result"
    }
   ],
   "source": [
    "#Configuration\n",
    "from  scipy.optimize import linprog as lp\n",
    "import numpy as np\n",
    "import warnings\n",
    "import pandas as pd\n",
    "import eep153_tools\n",
    "from eep153_tools.sheets import read_sheets\n",
    "import fooddatacentral as fdc\n",
    "import cufflinks as cf\n",
    "cf.go_offline()\n",
    "tol = 1e-5\n",
    "\n",
    "apikey = 'XGLMhknvg8y65j7VpcMisC5nQrRGbdgqUe3GJRQY' \n",
    "\n",
    "#Test case to see if our APIKEY works\n",
    "fdc.search(apikey,\"marmite\")\n",
    "id =  2110211   # Put an FDC ID HERE!\n",
    "fdc.nutrients(apikey,fdc_id=id)"
   ]
  },
  {
   "cell_type": "code",
   "execution_count": 3,
   "id": "aa35be01-737c-488f-81b7-468e4ad18fe2",
   "metadata": {},
   "outputs": [
    {
     "name": "stdout",
     "output_type": "stream",
     "text": [
      "Our group has decided to investigate the minimum cost diet of Berkeley students. We segmented our students into two possible routes: those who purchase meals with the food available on campus and those who cook with groceries off campus. We excluded students who eat out at restaurants because that is of a much higher budget range. The on-campus options included Golden Bear Cafe, Cafe Think, Rice & Bones, Goldie’s Coffee, Bears’ Lair, and Brown’s. We excluded freshman dining halls such as Crossroads because they are technically not on the school campus and only accept meal swipes and not the conventional form of currency. For off-campus groceries, we looked at both Trader Joe’s and Safeway, two of the biggest grocery chains nearby.\n"
     ]
    }
   ],
   "source": [
    "#[A] Description of Population of Interest\n",
    "\n",
    "print('Our group has decided to investigate the minimum cost diet of Berkeley students. We segmented our students into two possible routes: those who purchase meals with the food available on campus and those who cook with groceries off campus. We excluded students who eat out at restaurants because that is of a much higher budget range. The on-campus options included Golden Bear Cafe, Cafe Think, Rice & Bones, Goldie’s Coffee, Bears’ Lair, and Brown’s. We excluded freshman dining halls such as Crossroads because they are technically not on the school campus and only accept meal swipes and not the conventional form of currency. For off-campus groceries, we looked at both Trader Joe’s and Safeway, two of the biggest grocery chains nearby.')\n"
   ]
  },
  {
   "cell_type": "code",
   "execution_count": 4,
   "id": "730da069-6060-4597-a9ed-4a1ba8433028",
   "metadata": {},
   "outputs": [
    {
     "name": "stdout",
     "output_type": "stream",
     "text": [
      "Key available for students@eep153.iam.gserviceaccount.com.\n",
      "Key available for students@eep153.iam.gserviceaccount.com.\n",
      "We collected data on prices for different foods sold off-campus and on-campus.\n"
     ]
    },
    {
     "data": {
      "text/html": [
       "<div>\n",
       "<style scoped>\n",
       "    .dataframe tbody tr th:only-of-type {\n",
       "        vertical-align: middle;\n",
       "    }\n",
       "\n",
       "    .dataframe tbody tr th {\n",
       "        vertical-align: top;\n",
       "    }\n",
       "\n",
       "    .dataframe thead th {\n",
       "        text-align: right;\n",
       "    }\n",
       "</style>\n",
       "<table border=\"1\" class=\"dataframe\">\n",
       "  <thead>\n",
       "    <tr style=\"text-align: right;\">\n",
       "      <th></th>\n",
       "      <th>Quantity</th>\n",
       "      <th>Units</th>\n",
       "      <th>Price</th>\n",
       "      <th>Date</th>\n",
       "      <th>Location</th>\n",
       "      <th>FDC</th>\n",
       "    </tr>\n",
       "    <tr>\n",
       "      <th>Food</th>\n",
       "      <th></th>\n",
       "      <th></th>\n",
       "      <th></th>\n",
       "      <th></th>\n",
       "      <th></th>\n",
       "      <th></th>\n",
       "    </tr>\n",
       "  </thead>\n",
       "  <tbody>\n",
       "    <tr>\n",
       "      <th>Wheat Flour</th>\n",
       "      <td>80.0</td>\n",
       "      <td>oz</td>\n",
       "      <td>3.79</td>\n",
       "      <td>[2023-2-25]</td>\n",
       "      <td>Safeway</td>\n",
       "      <td>789951</td>\n",
       "    </tr>\n",
       "    <tr>\n",
       "      <th>Eggs</th>\n",
       "      <td>408.0</td>\n",
       "      <td>grams</td>\n",
       "      <td>4.89</td>\n",
       "      <td>[2023-2-25]</td>\n",
       "      <td>Safeway</td>\n",
       "      <td>747997</td>\n",
       "    </tr>\n",
       "    <tr>\n",
       "      <th>White Bread</th>\n",
       "      <td>22.0</td>\n",
       "      <td>oz</td>\n",
       "      <td>3.00</td>\n",
       "      <td>[2023-2-25]</td>\n",
       "      <td>Safeway</td>\n",
       "      <td>325871</td>\n",
       "    </tr>\n",
       "    <tr>\n",
       "      <th>Whole Milk</th>\n",
       "      <td>1.0</td>\n",
       "      <td>gallon</td>\n",
       "      <td>5.99</td>\n",
       "      <td>[2023-2-25]</td>\n",
       "      <td>Safeway</td>\n",
       "      <td>746782</td>\n",
       "    </tr>\n",
       "    <tr>\n",
       "      <th>Sliced Ham</th>\n",
       "      <td>14.0</td>\n",
       "      <td>oz</td>\n",
       "      <td>5.49</td>\n",
       "      <td>[2023-2-25]</td>\n",
       "      <td>Safeway</td>\n",
       "      <td>332397</td>\n",
       "    </tr>\n",
       "    <tr>\n",
       "      <th>...</th>\n",
       "      <td>...</td>\n",
       "      <td>...</td>\n",
       "      <td>...</td>\n",
       "      <td>...</td>\n",
       "      <td>...</td>\n",
       "      <td>...</td>\n",
       "    </tr>\n",
       "    <tr>\n",
       "      <th>Canola Oil</th>\n",
       "      <td>24.0</td>\n",
       "      <td>oz</td>\n",
       "      <td>4.99</td>\n",
       "      <td>[2023-3-1]</td>\n",
       "      <td>Safeway</td>\n",
       "      <td>748278</td>\n",
       "    </tr>\n",
       "    <tr>\n",
       "      <th>Butter</th>\n",
       "      <td>16.0</td>\n",
       "      <td>oz</td>\n",
       "      <td>5.99</td>\n",
       "      <td>[2023-3-1]</td>\n",
       "      <td>Safeway</td>\n",
       "      <td>789828</td>\n",
       "    </tr>\n",
       "    <tr>\n",
       "      <th>Gouda Cheese</th>\n",
       "      <td>7.0</td>\n",
       "      <td>oz</td>\n",
       "      <td>4.79</td>\n",
       "      <td>[2023-3-1]</td>\n",
       "      <td>Safeway</td>\n",
       "      <td>171241</td>\n",
       "    </tr>\n",
       "    <tr>\n",
       "      <th>Sour Cream</th>\n",
       "      <td>16.0</td>\n",
       "      <td>oz</td>\n",
       "      <td>3.49</td>\n",
       "      <td>[2023-3-1]</td>\n",
       "      <td>Safeway</td>\n",
       "      <td>173443</td>\n",
       "    </tr>\n",
       "    <tr>\n",
       "      <th>Sunflower Seeds</th>\n",
       "      <td>5.0</td>\n",
       "      <td>oz</td>\n",
       "      <td>2.49</td>\n",
       "      <td>[2023-3-1]</td>\n",
       "      <td>Safeway</td>\n",
       "      <td>325524</td>\n",
       "    </tr>\n",
       "  </tbody>\n",
       "</table>\n",
       "<p>99 rows × 6 columns</p>\n",
       "</div>"
      ],
      "text/plain": [
       "                 Quantity   Units  Price         Date Location     FDC\n",
       "Food                                                                  \n",
       "Wheat Flour          80.0      oz   3.79  [2023-2-25]  Safeway  789951\n",
       "Eggs                408.0   grams   4.89  [2023-2-25]  Safeway  747997\n",
       "White Bread          22.0      oz   3.00  [2023-2-25]  Safeway  325871\n",
       "Whole Milk            1.0  gallon   5.99  [2023-2-25]  Safeway  746782\n",
       "Sliced Ham           14.0      oz   5.49  [2023-2-25]  Safeway  332397\n",
       "...                   ...     ...    ...          ...      ...     ...\n",
       "Canola Oil           24.0      oz   4.99   [2023-3-1]  Safeway  748278\n",
       "Butter               16.0      oz   5.99   [2023-3-1]  Safeway  789828\n",
       "Gouda Cheese          7.0      oz   4.79   [2023-3-1]  Safeway  171241\n",
       "Sour Cream           16.0      oz   3.49   [2023-3-1]  Safeway  173443\n",
       "Sunflower Seeds       5.0      oz   2.49   [2023-3-1]  Safeway  325524\n",
       "\n",
       "[99 rows x 6 columns]"
      ]
     },
     "execution_count": 4,
     "metadata": {},
     "output_type": "execute_result"
    }
   ],
   "source": [
    "#[A] Data on Prices for Different Foods \n",
    "\n",
    "#Here we are loading the dataframes with information we collected for off and on-campus foods \n",
    "#df is our on-campus dataframe, df_offcampus is our off-campus dataframe\n",
    "df = read_sheets(\"1O1JwxbaDF1ubq_OY2wPdsjVH9Kcn1xollVqG8bmDpbU\",sheet=\"on_campus\") \n",
    "df_offcampus = read_sheets(\"1O1JwxbaDF1ubq_OY2wPdsjVH9Kcn1xollVqG8bmDpbU\",sheet='off_campus')\n",
    "\n",
    "df = df.set_index('Food')\n",
    "df_offcampus = df_offcampus.set_index('Food')\n",
    "\n",
    "print('We collected data on prices for different foods sold off-campus and on-campus.')\n",
    "df\n",
    "df_offcampus"
   ]
  },
  {
   "cell_type": "code",
   "execution_count": 5,
   "id": "cee155ac-8455-474c-a60b-288a6c548268",
   "metadata": {},
   "outputs": [
    {
     "name": "stderr",
     "output_type": "stream",
     "text": [
      "/opt/conda/envs/anaconda-2022.05-py39/lib/python3.9/site-packages/pandas/core/dtypes/cast.py:1981: UnitStrippedWarning:\n",
      "\n",
      "The unit of the quantity is stripped when downcasting to ndarray.\n",
      "\n",
      "/opt/conda/envs/anaconda-2022.05-py39/lib/python3.9/site-packages/pandas/core/dtypes/cast.py:1981: UnitStrippedWarning:\n",
      "\n",
      "The unit of the quantity is stripped when downcasting to ndarray.\n",
      "\n"
     ]
    },
    {
     "data": {
      "text/html": [
       "<div>\n",
       "<style scoped>\n",
       "    .dataframe tbody tr th:only-of-type {\n",
       "        vertical-align: middle;\n",
       "    }\n",
       "\n",
       "    .dataframe tbody tr th {\n",
       "        vertical-align: top;\n",
       "    }\n",
       "\n",
       "    .dataframe thead th {\n",
       "        text-align: right;\n",
       "    }\n",
       "</style>\n",
       "<table border=\"1\" class=\"dataframe\">\n",
       "  <thead>\n",
       "    <tr style=\"text-align: right;\">\n",
       "      <th></th>\n",
       "      <th>Quantity</th>\n",
       "      <th>Units</th>\n",
       "      <th>Price</th>\n",
       "      <th>Date</th>\n",
       "      <th>Location</th>\n",
       "      <th>FDC</th>\n",
       "      <th>FDC Quantity</th>\n",
       "      <th>FDC Price</th>\n",
       "    </tr>\n",
       "    <tr>\n",
       "      <th>Food</th>\n",
       "      <th></th>\n",
       "      <th></th>\n",
       "      <th></th>\n",
       "      <th></th>\n",
       "      <th></th>\n",
       "      <th></th>\n",
       "      <th></th>\n",
       "      <th></th>\n",
       "    </tr>\n",
       "  </thead>\n",
       "  <tbody>\n",
       "    <tr>\n",
       "      <th>Wheat Flour</th>\n",
       "      <td>80.0</td>\n",
       "      <td>oz</td>\n",
       "      <td>3.79</td>\n",
       "      <td>[2023-2-25]</td>\n",
       "      <td>Safeway</td>\n",
       "      <td>789951</td>\n",
       "      <td>22.679618500000004 hectogram</td>\n",
       "      <td>0.16711039473613717 / hectogram</td>\n",
       "    </tr>\n",
       "    <tr>\n",
       "      <th>Eggs</th>\n",
       "      <td>408.0</td>\n",
       "      <td>grams</td>\n",
       "      <td>4.89</td>\n",
       "      <td>[2023-2-25]</td>\n",
       "      <td>Safeway</td>\n",
       "      <td>747997</td>\n",
       "      <td>4.08 hectogram</td>\n",
       "      <td>1.1985294117647058 / hectogram</td>\n",
       "    </tr>\n",
       "    <tr>\n",
       "      <th>White Bread</th>\n",
       "      <td>22.0</td>\n",
       "      <td>oz</td>\n",
       "      <td>3.00</td>\n",
       "      <td>[2023-2-25]</td>\n",
       "      <td>Safeway</td>\n",
       "      <td>325871</td>\n",
       "      <td>6.236895087500001 hectogram</td>\n",
       "      <td>0.48100857203973285 / hectogram</td>\n",
       "    </tr>\n",
       "    <tr>\n",
       "      <th>Whole Milk</th>\n",
       "      <td>1.0</td>\n",
       "      <td>gallon</td>\n",
       "      <td>5.99</td>\n",
       "      <td>[2023-2-25]</td>\n",
       "      <td>Safeway</td>\n",
       "      <td>746782</td>\n",
       "      <td>37.85411783999999 deciliter</td>\n",
       "      <td>0.15823905936253096 / deciliter</td>\n",
       "    </tr>\n",
       "    <tr>\n",
       "      <th>Sliced Ham</th>\n",
       "      <td>14.0</td>\n",
       "      <td>oz</td>\n",
       "      <td>5.49</td>\n",
       "      <td>[2023-2-25]</td>\n",
       "      <td>Safeway</td>\n",
       "      <td>332397</td>\n",
       "      <td>3.9689332375000004 hectogram</td>\n",
       "      <td>1.383243222165689 / hectogram</td>\n",
       "    </tr>\n",
       "    <tr>\n",
       "      <th>...</th>\n",
       "      <td>...</td>\n",
       "      <td>...</td>\n",
       "      <td>...</td>\n",
       "      <td>...</td>\n",
       "      <td>...</td>\n",
       "      <td>...</td>\n",
       "      <td>...</td>\n",
       "      <td>...</td>\n",
       "    </tr>\n",
       "    <tr>\n",
       "      <th>Canola Oil</th>\n",
       "      <td>24.0</td>\n",
       "      <td>oz</td>\n",
       "      <td>4.99</td>\n",
       "      <td>[2023-3-1]</td>\n",
       "      <td>Safeway</td>\n",
       "      <td>748278</td>\n",
       "      <td>6.80388555 hectogram</td>\n",
       "      <td>0.7334044588683594 / hectogram</td>\n",
       "    </tr>\n",
       "    <tr>\n",
       "      <th>Butter</th>\n",
       "      <td>16.0</td>\n",
       "      <td>oz</td>\n",
       "      <td>5.99</td>\n",
       "      <td>[2023-3-1]</td>\n",
       "      <td>Safeway</td>\n",
       "      <td>789828</td>\n",
       "      <td>4.535923700000001 hectogram</td>\n",
       "      <td>1.3205689504874165 / hectogram</td>\n",
       "    </tr>\n",
       "    <tr>\n",
       "      <th>Gouda Cheese</th>\n",
       "      <td>7.0</td>\n",
       "      <td>oz</td>\n",
       "      <td>4.79</td>\n",
       "      <td>[2023-3-1]</td>\n",
       "      <td>Safeway</td>\n",
       "      <td>171241</td>\n",
       "      <td>1.9844666187500002 hectogram</td>\n",
       "      <td>2.413746824835574 / hectogram</td>\n",
       "    </tr>\n",
       "    <tr>\n",
       "      <th>Sour Cream</th>\n",
       "      <td>16.0</td>\n",
       "      <td>oz</td>\n",
       "      <td>3.49</td>\n",
       "      <td>[2023-3-1]</td>\n",
       "      <td>Safeway</td>\n",
       "      <td>173443</td>\n",
       "      <td>4.535923700000001 hectogram</td>\n",
       "      <td>0.7694132950252227 / hectogram</td>\n",
       "    </tr>\n",
       "    <tr>\n",
       "      <th>Sunflower Seeds</th>\n",
       "      <td>5.0</td>\n",
       "      <td>oz</td>\n",
       "      <td>2.49</td>\n",
       "      <td>[2023-3-1]</td>\n",
       "      <td>Safeway</td>\n",
       "      <td>325524</td>\n",
       "      <td>1.4174761562500002 hectogram</td>\n",
       "      <td>1.7566433050891044 / hectogram</td>\n",
       "    </tr>\n",
       "  </tbody>\n",
       "</table>\n",
       "<p>99 rows × 8 columns</p>\n",
       "</div>"
      ],
      "text/plain": [
       "                 Quantity   Units  Price         Date Location     FDC  \\\n",
       "Food                                                                     \n",
       "Wheat Flour          80.0      oz   3.79  [2023-2-25]  Safeway  789951   \n",
       "Eggs                408.0   grams   4.89  [2023-2-25]  Safeway  747997   \n",
       "White Bread          22.0      oz   3.00  [2023-2-25]  Safeway  325871   \n",
       "Whole Milk            1.0  gallon   5.99  [2023-2-25]  Safeway  746782   \n",
       "Sliced Ham           14.0      oz   5.49  [2023-2-25]  Safeway  332397   \n",
       "...                   ...     ...    ...          ...      ...     ...   \n",
       "Canola Oil           24.0      oz   4.99   [2023-3-1]  Safeway  748278   \n",
       "Butter               16.0      oz   5.99   [2023-3-1]  Safeway  789828   \n",
       "Gouda Cheese          7.0      oz   4.79   [2023-3-1]  Safeway  171241   \n",
       "Sour Cream           16.0      oz   3.49   [2023-3-1]  Safeway  173443   \n",
       "Sunflower Seeds       5.0      oz   2.49   [2023-3-1]  Safeway  325524   \n",
       "\n",
       "                                 FDC Quantity                        FDC Price  \n",
       "Food                                                                            \n",
       "Wheat Flour      22.679618500000004 hectogram  0.16711039473613717 / hectogram  \n",
       "Eggs                           4.08 hectogram   1.1985294117647058 / hectogram  \n",
       "White Bread       6.236895087500001 hectogram  0.48100857203973285 / hectogram  \n",
       "Whole Milk        37.85411783999999 deciliter  0.15823905936253096 / deciliter  \n",
       "Sliced Ham       3.9689332375000004 hectogram    1.383243222165689 / hectogram  \n",
       "...                                       ...                              ...  \n",
       "Canola Oil               6.80388555 hectogram   0.7334044588683594 / hectogram  \n",
       "Butter            4.535923700000001 hectogram   1.3205689504874165 / hectogram  \n",
       "Gouda Cheese     1.9844666187500002 hectogram    2.413746824835574 / hectogram  \n",
       "Sour Cream        4.535923700000001 hectogram   0.7694132950252227 / hectogram  \n",
       "Sunflower Seeds  1.4174761562500002 hectogram   1.7566433050891044 / hectogram  \n",
       "\n",
       "[99 rows x 8 columns]"
      ]
     },
     "execution_count": 5,
     "metadata": {},
     "output_type": "execute_result"
    }
   ],
   "source": [
    "#Here we are cleaning the data by: \n",
    "\n",
    "# Convert food quantities to FDC units\n",
    "df['FDC Quantity'] = df[['Quantity','Units']].T.apply(lambda x : fdc.units(x['Quantity'],x['Units']))\n",
    "df['FDC Price'] = df['Price']/df['FDC Quantity'] # Dividing price by the FDC Quantity to get price per hectoliter\n",
    "df.dropna(how='any') # Drop food with any missing data\n",
    "Prices = df.groupby('Food')['FDC Price'].min()\n",
    "\n",
    "#Off campus calulations to transfer to hectoliter\n",
    "df_offcampus['FDC Quantity'] = df_offcampus[['Quantity','Units']].T.apply(lambda x : fdc.units(x['Quantity'],x['Units']))\n",
    "df_offcampus['FDC Price'] = df_offcampus['Price']/df_offcampus['FDC Quantity']\n",
    "df_offcampus.dropna(how='any') # Drop food with any missing data\n",
    "Prices_off = df_offcampus.groupby('Food')['FDC Price'].min()\n",
    "\n",
    "\n",
    "#These two variables show the prices per food off and on campus in hectoliters \n",
    "df\n",
    "df_offcampus"
   ]
  },
  {
   "cell_type": "code",
   "execution_count": 6,
   "id": "3b5b9f84-e76a-414c-a088-72d1300e2c1c",
   "metadata": {},
   "outputs": [
    {
     "name": "stdout",
     "output_type": "stream",
     "text": [
      "Turkey & Swiss Sandwich\n",
      "Caprese Panini\n",
      "Chicken Paprika\n",
      "Thai Marinated chicken Bahn Mi\n",
      "French Fries\n",
      "Black Beans & Corn Quesadilla \n",
      "Chicken Quesadilla \n",
      "Panko Crusted Fried Chicken Sandwich\n",
      "Think Grass Fed Burger\n",
      "Ham & Cheese Croissant\n",
      "Banana\n",
      "Chocolate Croissant\n",
      "Banana Muffin\n",
      "Tropical Hibusicus Green Tea\n",
      "Drip Coffee (Reg or Decaf)\n",
      "Espresso\n",
      "Americano\n",
      "Cappuccino\n",
      "Latte\n",
      "Caramel Macchiato\n",
      "Hot Chocolate\n",
      "Steamed Milk\n",
      "Hot Tea\n",
      "Chef Salad\n",
      "Tropical Fruit Bowl\n",
      "Raspberry Chobani Greek Yogurt \n",
      "Strawberry Banana Naked Juice \n",
      "Yerbamate\n",
      "Winter Chopped Salad\n",
      "Kale & Beets\n",
      "Vegetable Cassoulet\n",
      "Roast Chicken Breast\n",
      "King Salmon & French Lentils\n",
      "Beef Bourguignon\n",
      "Chocolate Cake\n",
      "Steamed Veggie Bun\n",
      "Steamed Chicken Bun\n",
      "Veggie Spring Rolls\n",
      "Vietnamese Coffee\n",
      "Vegan Pho \n",
      "Hibiscus Lemonade\n",
      "Breakfast Burrito\n",
      "Bacon Burrito\n",
      "Turkey Sausage Burrito \n",
      "Breakfast Egg Croissant \n",
      "Bacon Croissant \n",
      "Turkey Saussage Croissant \n",
      "Hash Brown Patties\n",
      "Small Fruit Cup\n",
      "Philly Cheesesteak\n",
      "Cheeseburger\n",
      "Beyond Burger\n",
      "Fried Chicken Sandwhich\n",
      "Salmon and Fennel Slaw Sandwhich\n",
      "Mapo Tofu Bowl\n"
     ]
    },
    {
     "name": "stderr",
     "output_type": "stream",
     "text": [
      "/tmp/ipykernel_57/1167989445.py:14: UserWarning:\n",
      "\n",
      "Couldn't find FDC Code 2300695 for food Salmon Larb Bowl.\n",
      "\n"
     ]
    },
    {
     "name": "stdout",
     "output_type": "stream",
     "text": [
      "Buffalo Chicken Salad\n",
      "California Greens Salad\n",
      "Buffalo Chicken Loaded Fries\n",
      "Cross Cut Fries\n"
     ]
    },
    {
     "name": "stderr",
     "output_type": "stream",
     "text": [
      "/tmp/ipykernel_57/1167989445.py:14: UserWarning:\n",
      "\n",
      "Couldn't find FDC Code 2304126 for food Side Green Salad.\n",
      "\n"
     ]
    },
    {
     "name": "stdout",
     "output_type": "stream",
     "text": [
      "Large Fruit Salad\n",
      "Regular Coffee\n",
      "Decaf Coffee\n",
      "Hot Tea\n",
      "Orange Juice\n",
      "Milk\n",
      "Rotisserie Tri Tip\n",
      "Roasted Chicken Breast\n",
      "Seared Salmon Fillet\n",
      "Seared Tofu\n"
     ]
    },
    {
     "name": "stderr",
     "output_type": "stream",
     "text": [
      "/tmp/ipykernel_57/1167989445.py:14: UserWarning:\n",
      "\n",
      "Couldn't find FDC Code 2304126 for food Salad Seasonal Greens.\n",
      "\n"
     ]
    },
    {
     "name": "stdout",
     "output_type": "stream",
     "text": [
      "Garlic Fries\n",
      "Vegetable Medley\n",
      "Heriloom Grains\n",
      "Brown Rice\n",
      "Wheat Flour\n",
      "Eggs\n",
      "White Bread\n",
      "Whole Milk\n",
      "Sliced Ham\n",
      "Salad Greens\n",
      "Banana\n",
      "Chicken Breasts\n",
      "Coffee Roast\n",
      "Tortillas\n",
      "Salmon\n",
      "Tomato\n",
      "Blueberry Muffin\n",
      "Russet Potatoes\n",
      "Chicken Noodle Canned Soup\n",
      "Canned Corn\n",
      "Broccoli\n",
      "Apple\n",
      "Pasta (Rotini)\n",
      "Sausage\n",
      "Carrot\n",
      "Yellow Onion\n",
      "Lentils\n",
      "Whole Milk\n",
      "Spinach\n",
      "Sweet Potato\n",
      "Russet Potato\n",
      "Beets\n",
      "Sugar\n",
      "Flour\n",
      "Black Beans\n",
      "Eggs\n",
      "Banana\n",
      "White Bread\n",
      "Chicken Breast\n",
      "Salmon\n",
      "Tofu\n",
      "Jasmine Rice\n",
      "Salad Mix\n",
      "Spaghetti\n",
      "Ground Coffee\n",
      "Claw Blue Swimming Crab Meat\n",
      "Waterfront Bistro Crabmeat Imitation Chunk Style Fully Cooked\n",
      "Waterfront Bistro Crabmeat Imitation Flake Style Fully Cooked\n",
      "Waterfront Bistro Salmon Nova Atlantic Smoked Cold \n",
      "Waterfront Bistro Salmon Nova Atlantic Lox Ny Style\n",
      "Waterfront Bistro Salmon Nova Atlantic Smoked Party Wheel \n",
      "Waterfront Bistro Salmon Atlantic Pastrami Style Smoked Cold\n",
      "Waterfront Bistro Alaskan Cod Fillet Wild Caught \n",
      "Waterfront Bistro Salmon Wild Alaskan Sockeye Smoked Peppered \n",
      "Waterfront Bistro Shrimp Coconut With Sweet Chili Sauce 10 Count\n",
      "Waterfront Bistro Calamari Crispy Breaded Salt & Pepper\n",
      "Waterfront Bistro Scallops Peruvian 20 - 30 Ct\n",
      "Waterfront Bistro Shrimp Raw Ez Peel Shell & Tail On Jumbo 21 To 25 Count\n",
      "Waterfront Bistro Shrimp Raw Extra Jumbo Shell & Tail On Frozen 16-20 Count\n",
      "Waterfront Bistro Shrimp Raw Medium Ez Peel Shell & Tail On Frozen 31-40 Count\n",
      "Waterfront Bistro Mussels Garlic Butter Sauce Fully Cooked Ready To Heat\n",
      "Waterfront Bistro Shrimp Cooked Peeled Tail Off Salad Style 91 To 110 Count \n",
      "Waterfront Bistro Shrimp Cooked Extra Large Tail On Frozen 21-25 Count\n",
      "Waterfront Bistro Swai Fillets Boneless & Skinless\n",
      "Waterfront Bistro Shrimp Tempura With Sweet Soy Dipping Sauce\n",
      "Waterfront Bistro Cod Fillets Wild Alaskan Boneless & Skinless\n",
      "Waterfront Bistro Salmon Fillets Wild Alaskan Pink Boneless & Skin On\n",
      "Gortons Beer Batter Shrimp\n",
      "Gortons Fish Fillets 100% Real Wild Caught Crunchy Breaded 10 Count \n",
      "Strawberries\n",
      "Avocado\n",
      "Pineapple\n",
      "Portabella Mushroom\n",
      "Bell Pepper\n",
      "Cucumber\n",
      "Navel Oranges\n",
      "Lettuce\n",
      "Green Beans\n",
      "Green Grapes\n",
      "Watermelon\n",
      "Blueberries\n",
      "Cherries\n",
      "Pear\n",
      "Mango\n",
      "Asparagus\n",
      "Cauliflower\n",
      "Plated Brussels Sprouts With Tomato Chipotle Butter\n",
      "Plated Asparagus And Mushrooms\n",
      "Plated Squash Mixed With Dill \n",
      "Organics Organic Baby Arugula\n",
      "Signature Farms Baby Peeled Carrots \n",
      "Signature Farms Salad Baby Spinach\n",
      "Signature Farms Broccoli Cauliflower\n",
      "Signature Farms Brussels Sprouts\n",
      "Signature Farms Carrot Chips \n",
      "Peanut Butter\n",
      "Almonds \n",
      "Sauerkraut\n",
      "Canola Oil\n",
      "Butter\n",
      "Gouda Cheese\n",
      "Sour Cream\n",
      "Sunflower Seeds\n",
      "Key available for students@eep153.iam.gserviceaccount.com.\n",
      "Key available for students@eep153.iam.gserviceaccount.com.\n"
     ]
    },
    {
     "data": {
      "text/html": [
       "<div>\n",
       "<style scoped>\n",
       "    .dataframe tbody tr th:only-of-type {\n",
       "        vertical-align: middle;\n",
       "    }\n",
       "\n",
       "    .dataframe tbody tr th {\n",
       "        vertical-align: top;\n",
       "    }\n",
       "\n",
       "    .dataframe thead th {\n",
       "        text-align: right;\n",
       "    }\n",
       "</style>\n",
       "<table border=\"1\" class=\"dataframe\">\n",
       "  <thead>\n",
       "    <tr style=\"text-align: right;\">\n",
       "      <th></th>\n",
       "      <th>Wheat Flour</th>\n",
       "      <th>Eggs</th>\n",
       "      <th>White Bread</th>\n",
       "      <th>Whole Milk</th>\n",
       "      <th>Sliced Ham</th>\n",
       "      <th>Salad Greens</th>\n",
       "      <th>Banana</th>\n",
       "      <th>Chicken Breasts</th>\n",
       "      <th>Coffee Roast</th>\n",
       "      <th>Tortillas</th>\n",
       "      <th>...</th>\n",
       "      <th>Signature Farms Brussels Sprouts</th>\n",
       "      <th>Signature Farms Carrot Chips</th>\n",
       "      <th>Peanut Butter</th>\n",
       "      <th>Almonds</th>\n",
       "      <th>Sauerkraut</th>\n",
       "      <th>Canola Oil</th>\n",
       "      <th>Butter</th>\n",
       "      <th>Gouda Cheese</th>\n",
       "      <th>Sour Cream</th>\n",
       "      <th>Sunflower Seeds</th>\n",
       "    </tr>\n",
       "  </thead>\n",
       "  <tbody>\n",
       "    <tr>\n",
       "      <th>Ergosta-5,7-dienol</th>\n",
       "      <td>NaN</td>\n",
       "      <td>NaN</td>\n",
       "      <td>NaN</td>\n",
       "      <td>NaN</td>\n",
       "      <td>NaN</td>\n",
       "      <td>NaN</td>\n",
       "      <td>NaN</td>\n",
       "      <td>NaN</td>\n",
       "      <td>NaN</td>\n",
       "      <td>NaN</td>\n",
       "      <td>...</td>\n",
       "      <td>NaN</td>\n",
       "      <td>NaN</td>\n",
       "      <td>NaN</td>\n",
       "      <td>NaN</td>\n",
       "      <td>NaN</td>\n",
       "      <td>NaN</td>\n",
       "      <td>NaN</td>\n",
       "      <td>NaN</td>\n",
       "      <td>NaN</td>\n",
       "      <td>NaN</td>\n",
       "    </tr>\n",
       "    <tr>\n",
       "      <th>Ergosta-7,22-dienol</th>\n",
       "      <td>NaN</td>\n",
       "      <td>NaN</td>\n",
       "      <td>NaN</td>\n",
       "      <td>NaN</td>\n",
       "      <td>NaN</td>\n",
       "      <td>NaN</td>\n",
       "      <td>NaN</td>\n",
       "      <td>NaN</td>\n",
       "      <td>NaN</td>\n",
       "      <td>NaN</td>\n",
       "      <td>...</td>\n",
       "      <td>NaN</td>\n",
       "      <td>NaN</td>\n",
       "      <td>NaN</td>\n",
       "      <td>NaN</td>\n",
       "      <td>NaN</td>\n",
       "      <td>NaN</td>\n",
       "      <td>NaN</td>\n",
       "      <td>NaN</td>\n",
       "      <td>NaN</td>\n",
       "      <td>NaN</td>\n",
       "    </tr>\n",
       "    <tr>\n",
       "      <th>25-hydroxycholecalciferol</th>\n",
       "      <td>NaN</td>\n",
       "      <td>NaN</td>\n",
       "      <td>NaN</td>\n",
       "      <td>0.00</td>\n",
       "      <td>NaN</td>\n",
       "      <td>NaN</td>\n",
       "      <td>NaN</td>\n",
       "      <td>NaN</td>\n",
       "      <td>NaN</td>\n",
       "      <td>NaN</td>\n",
       "      <td>...</td>\n",
       "      <td>NaN</td>\n",
       "      <td>NaN</td>\n",
       "      <td>NaN</td>\n",
       "      <td>NaN</td>\n",
       "      <td>NaN</td>\n",
       "      <td>NaN</td>\n",
       "      <td>NaN</td>\n",
       "      <td>NaN</td>\n",
       "      <td>NaN</td>\n",
       "      <td>NaN</td>\n",
       "    </tr>\n",
       "    <tr>\n",
       "      <th>Alanine</th>\n",
       "      <td>NaN</td>\n",
       "      <td>0.714</td>\n",
       "      <td>NaN</td>\n",
       "      <td>0.11</td>\n",
       "      <td>NaN</td>\n",
       "      <td>NaN</td>\n",
       "      <td>NaN</td>\n",
       "      <td>NaN</td>\n",
       "      <td>NaN</td>\n",
       "      <td>0.169</td>\n",
       "      <td>...</td>\n",
       "      <td>NaN</td>\n",
       "      <td>NaN</td>\n",
       "      <td>1.16</td>\n",
       "      <td>0.98</td>\n",
       "      <td>0.03</td>\n",
       "      <td>NaN</td>\n",
       "      <td>NaN</td>\n",
       "      <td>0.762</td>\n",
       "      <td>NaN</td>\n",
       "      <td>NaN</td>\n",
       "    </tr>\n",
       "    <tr>\n",
       "      <th>Alcohol, ethyl</th>\n",
       "      <td>NaN</td>\n",
       "      <td>NaN</td>\n",
       "      <td>NaN</td>\n",
       "      <td>NaN</td>\n",
       "      <td>NaN</td>\n",
       "      <td>0.0</td>\n",
       "      <td>NaN</td>\n",
       "      <td>NaN</td>\n",
       "      <td>0.0</td>\n",
       "      <td>0.000</td>\n",
       "      <td>...</td>\n",
       "      <td>NaN</td>\n",
       "      <td>NaN</td>\n",
       "      <td>NaN</td>\n",
       "      <td>NaN</td>\n",
       "      <td>0.00</td>\n",
       "      <td>NaN</td>\n",
       "      <td>NaN</td>\n",
       "      <td>0.000</td>\n",
       "      <td>0.0</td>\n",
       "      <td>NaN</td>\n",
       "    </tr>\n",
       "    <tr>\n",
       "      <th>...</th>\n",
       "      <td>...</td>\n",
       "      <td>...</td>\n",
       "      <td>...</td>\n",
       "      <td>...</td>\n",
       "      <td>...</td>\n",
       "      <td>...</td>\n",
       "      <td>...</td>\n",
       "      <td>...</td>\n",
       "      <td>...</td>\n",
       "      <td>...</td>\n",
       "      <td>...</td>\n",
       "      <td>...</td>\n",
       "      <td>...</td>\n",
       "      <td>...</td>\n",
       "      <td>...</td>\n",
       "      <td>...</td>\n",
       "      <td>...</td>\n",
       "      <td>...</td>\n",
       "      <td>...</td>\n",
       "      <td>...</td>\n",
       "      <td>...</td>\n",
       "    </tr>\n",
       "    <tr>\n",
       "      <th>cis-Lutein/Zeaxanthin</th>\n",
       "      <td>NaN</td>\n",
       "      <td>NaN</td>\n",
       "      <td>NaN</td>\n",
       "      <td>0.00</td>\n",
       "      <td>NaN</td>\n",
       "      <td>NaN</td>\n",
       "      <td>0.0</td>\n",
       "      <td>NaN</td>\n",
       "      <td>NaN</td>\n",
       "      <td>NaN</td>\n",
       "      <td>...</td>\n",
       "      <td>NaN</td>\n",
       "      <td>NaN</td>\n",
       "      <td>NaN</td>\n",
       "      <td>NaN</td>\n",
       "      <td>NaN</td>\n",
       "      <td>NaN</td>\n",
       "      <td>NaN</td>\n",
       "      <td>NaN</td>\n",
       "      <td>NaN</td>\n",
       "      <td>NaN</td>\n",
       "    </tr>\n",
       "    <tr>\n",
       "      <th>cis-Lycopene</th>\n",
       "      <td>NaN</td>\n",
       "      <td>NaN</td>\n",
       "      <td>NaN</td>\n",
       "      <td>0.00</td>\n",
       "      <td>NaN</td>\n",
       "      <td>NaN</td>\n",
       "      <td>0.0</td>\n",
       "      <td>NaN</td>\n",
       "      <td>NaN</td>\n",
       "      <td>NaN</td>\n",
       "      <td>...</td>\n",
       "      <td>NaN</td>\n",
       "      <td>NaN</td>\n",
       "      <td>NaN</td>\n",
       "      <td>NaN</td>\n",
       "      <td>NaN</td>\n",
       "      <td>NaN</td>\n",
       "      <td>NaN</td>\n",
       "      <td>NaN</td>\n",
       "      <td>NaN</td>\n",
       "      <td>NaN</td>\n",
       "    </tr>\n",
       "    <tr>\n",
       "      <th>cis-beta-Carotene</th>\n",
       "      <td>NaN</td>\n",
       "      <td>NaN</td>\n",
       "      <td>NaN</td>\n",
       "      <td>2.00</td>\n",
       "      <td>NaN</td>\n",
       "      <td>NaN</td>\n",
       "      <td>1.0</td>\n",
       "      <td>NaN</td>\n",
       "      <td>NaN</td>\n",
       "      <td>NaN</td>\n",
       "      <td>...</td>\n",
       "      <td>NaN</td>\n",
       "      <td>NaN</td>\n",
       "      <td>NaN</td>\n",
       "      <td>NaN</td>\n",
       "      <td>NaN</td>\n",
       "      <td>NaN</td>\n",
       "      <td>NaN</td>\n",
       "      <td>NaN</td>\n",
       "      <td>NaN</td>\n",
       "      <td>NaN</td>\n",
       "    </tr>\n",
       "    <tr>\n",
       "      <th>trans-Lycopene</th>\n",
       "      <td>NaN</td>\n",
       "      <td>NaN</td>\n",
       "      <td>NaN</td>\n",
       "      <td>0.00</td>\n",
       "      <td>NaN</td>\n",
       "      <td>NaN</td>\n",
       "      <td>0.0</td>\n",
       "      <td>NaN</td>\n",
       "      <td>NaN</td>\n",
       "      <td>NaN</td>\n",
       "      <td>...</td>\n",
       "      <td>NaN</td>\n",
       "      <td>NaN</td>\n",
       "      <td>NaN</td>\n",
       "      <td>NaN</td>\n",
       "      <td>NaN</td>\n",
       "      <td>NaN</td>\n",
       "      <td>NaN</td>\n",
       "      <td>NaN</td>\n",
       "      <td>NaN</td>\n",
       "      <td>NaN</td>\n",
       "    </tr>\n",
       "    <tr>\n",
       "      <th>trans-beta-Carotene</th>\n",
       "      <td>NaN</td>\n",
       "      <td>NaN</td>\n",
       "      <td>NaN</td>\n",
       "      <td>5.00</td>\n",
       "      <td>NaN</td>\n",
       "      <td>NaN</td>\n",
       "      <td>7.0</td>\n",
       "      <td>NaN</td>\n",
       "      <td>NaN</td>\n",
       "      <td>NaN</td>\n",
       "      <td>...</td>\n",
       "      <td>NaN</td>\n",
       "      <td>NaN</td>\n",
       "      <td>NaN</td>\n",
       "      <td>NaN</td>\n",
       "      <td>NaN</td>\n",
       "      <td>NaN</td>\n",
       "      <td>NaN</td>\n",
       "      <td>NaN</td>\n",
       "      <td>NaN</td>\n",
       "      <td>NaN</td>\n",
       "    </tr>\n",
       "  </tbody>\n",
       "</table>\n",
       "<p>236 rows × 94 columns</p>\n",
       "</div>"
      ],
      "text/plain": [
       "                           Wheat Flour   Eggs  White Bread  Whole Milk  \\\n",
       " Ergosta-5,7-dienol                NaN    NaN          NaN         NaN   \n",
       " Ergosta-7,22-dienol               NaN    NaN          NaN         NaN   \n",
       "25-hydroxycholecalciferol          NaN    NaN          NaN        0.00   \n",
       "Alanine                            NaN  0.714          NaN        0.11   \n",
       "Alcohol, ethyl                     NaN    NaN          NaN         NaN   \n",
       "...                                ...    ...          ...         ...   \n",
       "cis-Lutein/Zeaxanthin              NaN    NaN          NaN        0.00   \n",
       "cis-Lycopene                       NaN    NaN          NaN        0.00   \n",
       "cis-beta-Carotene                  NaN    NaN          NaN        2.00   \n",
       "trans-Lycopene                     NaN    NaN          NaN        0.00   \n",
       "trans-beta-Carotene                NaN    NaN          NaN        5.00   \n",
       "\n",
       "                           Sliced Ham  Salad Greens  Banana  Chicken Breasts  \\\n",
       " Ergosta-5,7-dienol               NaN           NaN     NaN              NaN   \n",
       " Ergosta-7,22-dienol              NaN           NaN     NaN              NaN   \n",
       "25-hydroxycholecalciferol         NaN           NaN     NaN              NaN   \n",
       "Alanine                           NaN           NaN     NaN              NaN   \n",
       "Alcohol, ethyl                    NaN           0.0     NaN              NaN   \n",
       "...                               ...           ...     ...              ...   \n",
       "cis-Lutein/Zeaxanthin             NaN           NaN     0.0              NaN   \n",
       "cis-Lycopene                      NaN           NaN     0.0              NaN   \n",
       "cis-beta-Carotene                 NaN           NaN     1.0              NaN   \n",
       "trans-Lycopene                    NaN           NaN     0.0              NaN   \n",
       "trans-beta-Carotene               NaN           NaN     7.0              NaN   \n",
       "\n",
       "                           Coffee Roast  Tortillas  ...  \\\n",
       " Ergosta-5,7-dienol                 NaN        NaN  ...   \n",
       " Ergosta-7,22-dienol                NaN        NaN  ...   \n",
       "25-hydroxycholecalciferol           NaN        NaN  ...   \n",
       "Alanine                             NaN      0.169  ...   \n",
       "Alcohol, ethyl                      0.0      0.000  ...   \n",
       "...                                 ...        ...  ...   \n",
       "cis-Lutein/Zeaxanthin               NaN        NaN  ...   \n",
       "cis-Lycopene                        NaN        NaN  ...   \n",
       "cis-beta-Carotene                   NaN        NaN  ...   \n",
       "trans-Lycopene                      NaN        NaN  ...   \n",
       "trans-beta-Carotene                 NaN        NaN  ...   \n",
       "\n",
       "                           Signature Farms Brussels Sprouts  \\\n",
       " Ergosta-5,7-dienol                                     NaN   \n",
       " Ergosta-7,22-dienol                                    NaN   \n",
       "25-hydroxycholecalciferol                               NaN   \n",
       "Alanine                                                 NaN   \n",
       "Alcohol, ethyl                                          NaN   \n",
       "...                                                     ...   \n",
       "cis-Lutein/Zeaxanthin                                   NaN   \n",
       "cis-Lycopene                                            NaN   \n",
       "cis-beta-Carotene                                       NaN   \n",
       "trans-Lycopene                                          NaN   \n",
       "trans-beta-Carotene                                     NaN   \n",
       "\n",
       "                           Signature Farms Carrot Chips   Peanut Butter  \\\n",
       " Ergosta-5,7-dienol                                  NaN            NaN   \n",
       " Ergosta-7,22-dienol                                 NaN            NaN   \n",
       "25-hydroxycholecalciferol                            NaN            NaN   \n",
       "Alanine                                              NaN           1.16   \n",
       "Alcohol, ethyl                                       NaN            NaN   \n",
       "...                                                  ...            ...   \n",
       "cis-Lutein/Zeaxanthin                                NaN            NaN   \n",
       "cis-Lycopene                                         NaN            NaN   \n",
       "cis-beta-Carotene                                    NaN            NaN   \n",
       "trans-Lycopene                                       NaN            NaN   \n",
       "trans-beta-Carotene                                  NaN            NaN   \n",
       "\n",
       "                           Almonds   Sauerkraut  Canola Oil  Butter  \\\n",
       " Ergosta-5,7-dienol             NaN         NaN         NaN     NaN   \n",
       " Ergosta-7,22-dienol            NaN         NaN         NaN     NaN   \n",
       "25-hydroxycholecalciferol       NaN         NaN         NaN     NaN   \n",
       "Alanine                        0.98        0.03         NaN     NaN   \n",
       "Alcohol, ethyl                  NaN        0.00         NaN     NaN   \n",
       "...                             ...         ...         ...     ...   \n",
       "cis-Lutein/Zeaxanthin           NaN         NaN         NaN     NaN   \n",
       "cis-Lycopene                    NaN         NaN         NaN     NaN   \n",
       "cis-beta-Carotene               NaN         NaN         NaN     NaN   \n",
       "trans-Lycopene                  NaN         NaN         NaN     NaN   \n",
       "trans-beta-Carotene             NaN         NaN         NaN     NaN   \n",
       "\n",
       "                           Gouda Cheese  Sour Cream  Sunflower Seeds  \n",
       " Ergosta-5,7-dienol                 NaN         NaN              NaN  \n",
       " Ergosta-7,22-dienol                NaN         NaN              NaN  \n",
       "25-hydroxycholecalciferol           NaN         NaN              NaN  \n",
       "Alanine                           0.762         NaN              NaN  \n",
       "Alcohol, ethyl                    0.000         0.0              NaN  \n",
       "...                                 ...         ...              ...  \n",
       "cis-Lutein/Zeaxanthin               NaN         NaN              NaN  \n",
       "cis-Lycopene                        NaN         NaN              NaN  \n",
       "cis-beta-Carotene                   NaN         NaN              NaN  \n",
       "trans-Lycopene                      NaN         NaN              NaN  \n",
       "trans-beta-Carotene                 NaN         NaN              NaN  \n",
       "\n",
       "[236 rows x 94 columns]"
      ]
     },
     "execution_count": 6,
     "metadata": {},
     "output_type": "execute_result"
    }
   ],
   "source": [
    "#[A] Nutritional Content of Different Foods\n",
    "\n",
    "#mapping food quantities to nutrients for df \n",
    "import warnings\n",
    "D = {}\n",
    "count = 0\n",
    "for food in df.index:\n",
    "    try:\n",
    "        FDC_on = df.loc[df.index==food,:].FDC.values[0]\n",
    "        count+=1\n",
    "        D[food] = fdc.nutrients(apikey,FDC_on).Quantity\n",
    "        print(food)\n",
    "    except AttributeError:\n",
    "        warnings.warn(f\"Couldn't find FDC Code {FDC_on} for food {food}.\")\n",
    "D = pd.DataFrame(D,dtype=float)\n",
    "\n",
    "\n",
    "#mapping food quantities to nutrients for df_offcampus\n",
    "D_off = {}\n",
    "count_off = 0\n",
    "for food in  df_offcampus.index:\n",
    "    try:\n",
    "        FDC_off = df_offcampus.loc[df_offcampus.index==food,:].FDC.values[0]\n",
    "        count_off+=1\n",
    "        D_off[food] = fdc.nutrients(apikey,FDC_off).Quantity\n",
    "        print(food)\n",
    "    except AttributeError:\n",
    "        warnings.warn(f\"Couldn't find FDC Code {FDC_off} for food {food}.\")\n",
    "D_off = pd.DataFrame(D_off,dtype=float)\n",
    "\n",
    "#Following US nutrition reccomendations segmented by gender and age,\n",
    "    # these are the max and min tables for on-campus and off-campus populations \n",
    "RDIs = read_sheets('https://docs.google.com/spreadsheets/d/1vJ_Hvtg8Nccr640W-LW54yFVclkTvbiWHQ3JLYmEqEM/edit?usp=sharing')\n",
    "bmin = RDIs['diet_minimums'].set_index('Nutrition')\n",
    "bmin = bmin.drop('Source',axis=1)\n",
    "bmax = RDIs['diet_maximums'].set_index('Nutrition')\n",
    "bmax = bmax.drop('Source',axis=1)\n",
    "\n",
    "\n",
    "RDIs2 = read_sheets('https://docs.google.com/spreadsheets/d/1y95IsQ4HKspPW3HHDtH7QMtlDA66IUsCHJLutVL-MMc/')\n",
    "bmin_off = RDIs2['diet_minimums'].set_index('Nutrition')\n",
    "bmin_off = bmin_off.drop('Source',axis=1)\n",
    "bmax_off = RDIs2['diet_maximums'].set_index('Nutrition')\n",
    "bmax_off = bmax_off.drop('Source',axis=1)\n",
    "\n",
    "D\n",
    "D_off"
   ]
  },
  {
   "cell_type": "code",
   "execution_count": 7,
   "id": "f8f89544-ce80-40ab-883c-4462e1d6e361",
   "metadata": {},
   "outputs": [],
   "source": [
    "#Objective function to find the prices where quantities are all 100g\n",
    "p = Prices.apply(lambda x:x.magnitude).dropna()\n",
    "# Compile list that we have both prices and nutritional info for; drop if either missing\n",
    "use = p.index.intersection(D.columns)\n",
    "p = p[use]\n",
    "\n",
    "#Maps bag of groceries x into nutrients, dropping nutritional information for foods we don't know the price of,\n",
    "# and replace missing nutrients with zeros.\n",
    "Aall = D[p.index].fillna(0)\n",
    "# Drop rows of A that we don't have constraints for.\n",
    "Amin = Aall.loc[bmin.index]\n",
    "Amax = Aall.loc[bmax.index]\n",
    "# Maximum requirements involve multiplying constraint by -1 to make <=.\n",
    "A = pd.concat([Amin,-Amax])\n",
    "b = pd.concat([bmin,-bmax])\n",
    "\n",
    "\n",
    "#Objective function to find the prices where quantities are all 100g\n",
    "p_off = Prices_off.apply(lambda x:x.magnitude).dropna()\n",
    "use_off = p_off.index.intersection(D_off.columns)\n",
    "p_off = p_off[use_off]\n",
    "\n",
    "Aall_off = D_off[p_off.index].fillna(0)\n",
    "Amin_off = Aall_off.loc[bmin_off.index]\n",
    "Amax_off = Aall_off.loc[bmax_off.index]\n",
    "A_off = pd.concat([Amin_off,-Amax_off])\n",
    "b_off = pd.concat([bmin_off,-bmax_off])"
   ]
  },
  {
   "cell_type": "code",
   "execution_count": 8,
   "id": "7ffd93e6-015d-4709-81f5-6ad8308ac386",
   "metadata": {},
   "outputs": [
    {
     "data": {
      "text/plain": [
       "Nutrition\n",
       "Energy                            2400.0\n",
       "Protein                             56.0\n",
       "Fiber, total dietary                33.6\n",
       "Folate, DFE                        400.0\n",
       "Calcium, Ca                       1000.0\n",
       "Carbohydrate, by difference        130.0\n",
       "Iron, Fe                             8.0\n",
       "Magnesium, Mg                      400.0\n",
       "Niacin                              16.0\n",
       "Phosphorus, P                      700.0\n",
       "Potassium, K                      4700.0\n",
       "Riboflavin                           1.3\n",
       "Thiamin                              1.2\n",
       "Vitamin A, RAE                     900.0\n",
       "Vitamin B-12                         2.4\n",
       "Vitamin B-6                          1.3\n",
       "Vitamin C, total ascorbic acid      90.0\n",
       "Vitamin E (alpha-tocopherol)        15.0\n",
       "Vitamin K (phylloquinone)          120.0\n",
       "Zinc, Zn                            11.0\n",
       "Sodium, Na                        4600.0\n",
       "Energy                            6200.0\n",
       "Name: M 19-30, dtype: float64"
      ]
     },
     "execution_count": 8,
     "metadata": {},
     "output_type": "execute_result"
    }
   ],
   "source": [
    "#[A] Dietary Reference Intakes \n",
    "#takes age and sex, returns pandas series of data reference intakes of a variety of nutrients \n",
    "\n",
    "#helper function\n",
    "def helper(age, sex): \n",
    "    if (age < 4) or (sex == 'C'):\n",
    "        group = 'C 1-3'\n",
    "    elif age < 9: \n",
    "        group = str(sex) + ' 4-8'\n",
    "    elif age < 14:\n",
    "        group = str(sex) + ' 9-13'\n",
    "    elif age < 19:\n",
    "        group = str(sex) + ' 14-18'\n",
    "    elif age < 31:\n",
    "        group = str(sex) + ' 19-30'\n",
    "    elif age < 51:\n",
    "        group = str(sex) + ' 31-50'\n",
    "    else: # over 51: \n",
    "        group = str(sex) + ' 51+'\n",
    "    return group\n",
    "\n",
    "\n",
    "def dietary_ref_index(age, sex):\n",
    "    group = helper(age, sex)\n",
    "    series = np.abs(b[group])\n",
    "    return series \n",
    "\n",
    "dietary_ref_index(22, 'M') #this should return the Pandas Series"
   ]
  },
  {
   "cell_type": "code",
   "execution_count": 9,
   "id": "534620ca-0750-4e4b-84ac-3cf1195f2055",
   "metadata": {
    "tags": []
   },
   "outputs": [
    {
     "name": "stdout",
     "output_type": "stream",
     "text": [
      "Cost of diet for M 19-30 is $36.08 per day when dining on campus.\n",
      "Cost of diet for F 19-30 is $30.62 per day when dining on campus.\n",
      "Cost of diet for M 19-30 is $4.71 per day off campus.\n",
      "Cost of diet for F 19-30 is $4.02 per day off campus.\n"
     ]
    }
   ],
   "source": [
    "#A Minimum Cost Diet Function \n",
    "\n",
    "groupM =  helper(22, 'M')\n",
    "groupF =  helper(22, 'F')\n",
    "\n",
    "\n",
    "resultM = lp(p, -A, -b[groupM], method='interior-point') #male on campus\n",
    "resultF = lp(p, -A, -b[groupF], method='interior-point') #female on campus\n",
    "\n",
    "result_Moff = lp(p_off, -A_off, -b_off[groupM], method='interior-point') #male off\n",
    "result_Foff = lp(p_off, -A_off, -b_off[groupF], method='interior-point') #female off\n",
    "\n",
    "\n",
    "#Print for the cost per day \n",
    "print(f\"Cost of diet for {groupM} is ${resultM.fun:.2f} per day when dining on campus.\") \n",
    "print(f\"Cost of diet for {groupF} is ${resultF.fun:.2f} per day when dining on campus.\")\n",
    "\n",
    "print(f\"Cost of diet for {groupM} is ${result_Moff.fun:.2f} per day off campus.\")\n",
    "print(f\"Cost of diet for {groupF} is ${result_Foff.fun:.2f} per day off campus.\")"
   ]
  },
  {
   "cell_type": "code",
   "execution_count": 10,
   "id": "bc37a48d-628f-45ec-aa1c-7c068bb810f6",
   "metadata": {},
   "outputs": [
    {
     "name": "stdout",
     "output_type": "stream",
     "text": [
      "\n",
      "Females on campus will be eating (in 100s of grams or milliliters):\n",
      "Banana Muffin              3.446857\n",
      "Chocolate Croissant        5.603448\n",
      "Decaf Coffee               0.548026\n",
      "Fried Chicken Sandwhich    2.700120\n",
      "Milk                       2.317525\n",
      "Orange Juice               2.164611\n",
      "Vegetable Medley           0.198955\n",
      "dtype: float64\n",
      "\n",
      "Males on campus will be eating (in 100s of grams or milliliters):\n",
      "Banana Muffin              3.572513\n",
      "Chocolate Croissant        5.886194\n",
      "Decaf Coffee               0.361106\n",
      "Fried Chicken Sandwhich    2.364292\n",
      "Milk                       1.813233\n",
      "Orange Juice               3.178660\n",
      "Vegetable Medley           2.197042\n",
      "Yerbamate                  0.353543\n",
      "dtype: float64\n",
      "\n",
      "Females off campus will be eating (in 100s of grams or milliliters):\n",
      "Black Beans      1.345129\n",
      "Canola Oil       0.592932\n",
      "Flour            0.827400\n",
      "Lentils          1.216704\n",
      "Navel Oranges    0.797667\n",
      "Peanut Butter    0.475237\n",
      "Salad Greens     2.111576\n",
      "Whole Milk       4.444444\n",
      "dtype: float64\n",
      "\n",
      "Males off campus will be eating (in 100s of grams or milliliters):\n",
      "Black Beans      1.027311\n",
      "Canola Oil       0.595814\n",
      "Flour            3.334954\n",
      "Lentils          1.192057\n",
      "Navel Oranges    0.916924\n",
      "Peanut Butter    0.378323\n",
      "Salad Greens     2.872219\n",
      "Whole Milk       4.444444\n",
      "dtype: float64\n",
      "Americano               0.000000e+00\n",
      "Bacon Burrito           2.620044e-09\n",
      "Bacon Croissant         1.761166e-09\n",
      "Banana                  2.182567e-08\n",
      "Banana Muffin           3.572513e+00\n",
      "                            ...     \n",
      "Vegetable Medley        2.197042e+00\n",
      "Veggie Spring Rolls     4.095230e-09\n",
      "Vietnamese Coffee       4.249129e-08\n",
      "Winter Chopped Salad    2.271457e-09\n",
      "Yerbamate               3.535428e-01\n",
      "Length: 72, dtype: float64\n"
     ]
    }
   ],
   "source": [
    "#[A] Solution\n",
    "#Print for what you will be eating \n",
    "dietfcamp = pd.Series(resultF.x,index=p.index)\n",
    "\n",
    "#Females On-campus\n",
    "print(\"\\nFemales on campus will be eating (in 100s of grams or milliliters):\")\n",
    "print(dietfcamp[dietfcamp >= tol])  # Drop items with quantities less than precision of calculation.\n",
    "\n",
    "#Males On-campus\n",
    "dietmcamp = pd.Series(resultM.x,index=p.index)\n",
    "print(\"\\nMales on campus will be eating (in 100s of grams or milliliters):\")\n",
    "print(dietmcamp[dietmcamp >= tol]) \n",
    "\n",
    "#Females Off-campus\n",
    "dietfoff = pd.Series(result_Foff.x,index=p_off.index)\n",
    "print(\"\\nFemales off campus will be eating (in 100s of grams or milliliters):\")\n",
    "print(dietfoff[dietfoff >= tol]) \n",
    "\n",
    "#Males Off-campus\n",
    "dietmoff = pd.Series(result_Moff.x,index=p_off.index)\n",
    "print(\"\\nMales off campus will be eating (in 100s of grams or milliliters):\")\n",
    "print(dietmoff[dietmoff >= tol]) \n",
    "\n",
    "print(dietmcamp)"
   ]
  },
  {
   "cell_type": "code",
   "execution_count": 11,
   "id": "5d7c77d9-ff01-42c3-92fa-3d86f19e157f",
   "metadata": {},
   "outputs": [],
   "source": [
    "#substistance problem function\n",
    "def solve_subsistence_problem(FoodNutrients,Prices,dietmin,dietmax,max_weight=None,tol=1e-6):\n",
    "    try: \n",
    "        p = Prices.apply(lambda x:x.magnitude)\n",
    "    except AttributeError:  # Maybe not passing in prices with units?\n",
    "        warnings.warn(\"Prices have no units.  BE CAREFUL!  We're assuming prices are per hectogram or deciliter!\")\n",
    "        p = Prices\n",
    "    p = p.dropna()\n",
    "    use = p.index.intersection(FoodNutrients.columns)\n",
    "    p = p[use]\n",
    "    Aall = FoodNutrients[p.index].fillna(0)\n",
    "    Amin = Aall.loc[Aall.index.intersection(dietmin.index)]\n",
    "    Amin = Amin.reindex(dietmin.index,axis=0)\n",
    "    idx = Amin.index.to_frame()\n",
    "    idx['type'] = 'min'\n",
    "    Amax = Aall.loc[Aall.index.intersection(dietmax.index)]\n",
    "    Amax = Amax.reindex(dietmax.index,axis=0)\n",
    "    idx = Amax.index.to_frame()\n",
    "    idx['type'] = 'max'\n",
    "    A = pd.concat([Amin, -Amax])\n",
    "    b = pd.concat([dietmin, -dietmax]) \n",
    "    A = A.reindex(p.index,axis=1)\n",
    "    A = A.reindex(b.index,axis=0)\n",
    "    \n",
    "    if max_weight is not None:\n",
    "        A.loc['Hectograms'] = -1\n",
    "        b.loc['Hectograms'] = -max_weight\n",
    "    result = lp(p, -A, -b, method='interior-point')\n",
    "    result.A = A\n",
    "    result.b = b\n",
    "    if result.success:\n",
    "        result.diet = pd.Series(result.x,index=p.index)\n",
    "    else: # No feasible solution\n",
    "        warnings.warn(result.message)\n",
    "        result.diet = pd.Series(result.x,index=p.index)*np.nan  \n",
    "    return result"
   ]
  },
  {
   "cell_type": "code",
   "execution_count": 12,
   "id": "59a5ada1-991b-4667-8293-3fec71bc90f5",
   "metadata": {},
   "outputs": [
    {
     "name": "stdout",
     "output_type": "stream",
     "text": [
      "Total cost of diet for the Berkeley Male Population is $511745.05027386185 per day when dining on campus.\n",
      "Total cost of diet for the Berkeley Female Population is $551710.3045041191 per day when dining on campus.\n",
      "Total cost of diet for the Berkeley Male Population is $66867.85639826843 per day when dining off campus.\n",
      "Total cost of diet for the Berkeley Female Population is $72506.7058299956 per day when dining off campus.\n"
     ]
    }
   ],
   "source": [
    "#[B] Total Cost for Population of Interest \n",
    "\n",
    "total_undergrad = 32479\n",
    "percent_berkeley_male = .43668\n",
    "percent_berkeley_female = .55483\n",
    "\n",
    "count_berkeley_male = percent_berkeley_male * total_undergrad\n",
    "count_berkeley_female = percent_berkeley_female * total_undergrad\n",
    "\n",
    "price_campus_male = count_berkeley_male * resultM.fun\n",
    "price_campus_female = count_berkeley_female * resultF.fun\n",
    "\n",
    "price_offcampus_male = count_berkeley_male * result_Moff.fun\n",
    "price_offcampus_female = count_berkeley_female * result_Foff.fun\n",
    "\n",
    "print(f\"Total cost of diet for the Berkeley Male Population is ${price_campus_male} per day when dining on campus.\") \n",
    "print(f\"Total cost of diet for the Berkeley Female Population is ${price_campus_female} per day when dining on campus.\") \n",
    "\n",
    "print(f\"Total cost of diet for the Berkeley Male Population is ${price_offcampus_male} per day when dining off campus.\") \n",
    "print(f\"Total cost of diet for the Berkeley Female Population is ${price_offcampus_female} per day when dining off campus.\") \n"
   ]
  },
  {
   "cell_type": "code",
   "execution_count": 13,
   "id": "5c6a458f-94b5-419c-9dc5-878a2e870199",
   "metadata": {},
   "outputs": [
    {
     "name": "stdout",
     "output_type": "stream",
     "text": [
      "Meal options are limited with these ingredients. If a student was really struggling with finances, they could make a “struggle meal” out of these foods, but the taste may not be as appealing as the more expensive, on-campus solution.\n"
     ]
    }
   ],
   "source": [
    "#[B] Is the Solution Edible ?\n",
    "\n",
    "print('Meal options are limited with these ingredients. If a student was really struggling with finances, they could make a “struggle meal” out of these foods, but the taste may not be as appealing as the more expensive, on-campus solution.')"
   ]
  },
  {
   "cell_type": "code",
   "execution_count": 14,
   "id": "5f63c09e-cee8-42a9-99d3-11716dd02d2e",
   "metadata": {},
   "outputs": [
    {
     "data": {
      "text/html": [
       "<div>\n",
       "<style scoped>\n",
       "    .dataframe tbody tr th:only-of-type {\n",
       "        vertical-align: middle;\n",
       "    }\n",
       "\n",
       "    .dataframe tbody tr th {\n",
       "        vertical-align: top;\n",
       "    }\n",
       "\n",
       "    .dataframe thead th {\n",
       "        text-align: right;\n",
       "    }\n",
       "</style>\n",
       "<table border=\"1\" class=\"dataframe\">\n",
       "  <thead>\n",
       "    <tr style=\"text-align: right;\">\n",
       "      <th></th>\n",
       "      <th>Quantity</th>\n",
       "      <th>Units</th>\n",
       "      <th>Price</th>\n",
       "      <th>Date</th>\n",
       "      <th>Location</th>\n",
       "      <th>FDC</th>\n",
       "      <th>FDC Quantity</th>\n",
       "      <th>FDC Price</th>\n",
       "    </tr>\n",
       "    <tr>\n",
       "      <th>Food</th>\n",
       "      <th></th>\n",
       "      <th></th>\n",
       "      <th></th>\n",
       "      <th></th>\n",
       "      <th></th>\n",
       "      <th></th>\n",
       "      <th></th>\n",
       "      <th></th>\n",
       "    </tr>\n",
       "  </thead>\n",
       "  <tbody>\n",
       "    <tr>\n",
       "      <th>Turkey &amp; Swiss Sandwich</th>\n",
       "      <td>250.0</td>\n",
       "      <td>grams</td>\n",
       "      <td>11.25</td>\n",
       "      <td>[2023-2-23]</td>\n",
       "      <td>Cafe Think</td>\n",
       "      <td>2342427</td>\n",
       "      <td>2.5 hectogram</td>\n",
       "      <td>4.5 / hectogram</td>\n",
       "    </tr>\n",
       "    <tr>\n",
       "      <th>Caprese Panini</th>\n",
       "      <td>250.0</td>\n",
       "      <td>grams</td>\n",
       "      <td>11.25</td>\n",
       "      <td>[2023-2-23]</td>\n",
       "      <td>Cafe Think</td>\n",
       "      <td>468080</td>\n",
       "      <td>2.5 hectogram</td>\n",
       "      <td>4.5 / hectogram</td>\n",
       "    </tr>\n",
       "    <tr>\n",
       "      <th>Chicken Paprika</th>\n",
       "      <td>250.0</td>\n",
       "      <td>grams</td>\n",
       "      <td>11.25</td>\n",
       "      <td>[2023-2-23]</td>\n",
       "      <td>Cafe Think</td>\n",
       "      <td>1952920</td>\n",
       "      <td>2.5 hectogram</td>\n",
       "      <td>4.5 / hectogram</td>\n",
       "    </tr>\n",
       "    <tr>\n",
       "      <th>Thai Marinated chicken Bahn Mi</th>\n",
       "      <td>250.0</td>\n",
       "      <td>grams</td>\n",
       "      <td>12.25</td>\n",
       "      <td>[2023-2-23]</td>\n",
       "      <td>Cafe Think</td>\n",
       "      <td>2463885</td>\n",
       "      <td>2.5 hectogram</td>\n",
       "      <td>4.9 / hectogram</td>\n",
       "    </tr>\n",
       "    <tr>\n",
       "      <th>French Fries</th>\n",
       "      <td>250.0</td>\n",
       "      <td>grams</td>\n",
       "      <td>4.75</td>\n",
       "      <td>[2023-2-23]</td>\n",
       "      <td>Cafe Think</td>\n",
       "      <td>169833</td>\n",
       "      <td>2.5 hectogram</td>\n",
       "      <td>1.9 / hectogram</td>\n",
       "    </tr>\n",
       "    <tr>\n",
       "      <th>...</th>\n",
       "      <td>...</td>\n",
       "      <td>...</td>\n",
       "      <td>...</td>\n",
       "      <td>...</td>\n",
       "      <td>...</td>\n",
       "      <td>...</td>\n",
       "      <td>...</td>\n",
       "      <td>...</td>\n",
       "    </tr>\n",
       "    <tr>\n",
       "      <th>Salad Seasonal Greens</th>\n",
       "      <td>190.0</td>\n",
       "      <td>grams</td>\n",
       "      <td>4.00</td>\n",
       "      <td>[2023-2-24]</td>\n",
       "      <td>Brown's</td>\n",
       "      <td>2304126</td>\n",
       "      <td>1.9000000000000001 hectogram</td>\n",
       "      <td>2.1052631578947367 / hectogram</td>\n",
       "    </tr>\n",
       "    <tr>\n",
       "      <th>Garlic Fries</th>\n",
       "      <td>100.0</td>\n",
       "      <td>grams</td>\n",
       "      <td>4.00</td>\n",
       "      <td>[2023-2-24]</td>\n",
       "      <td>Brown's</td>\n",
       "      <td>1912834</td>\n",
       "      <td>1.0 hectogram</td>\n",
       "      <td>4.0 / hectogram</td>\n",
       "    </tr>\n",
       "    <tr>\n",
       "      <th>Vegetable Medley</th>\n",
       "      <td>150.0</td>\n",
       "      <td>grams</td>\n",
       "      <td>4.00</td>\n",
       "      <td>[2023-2-24]</td>\n",
       "      <td>Brown's</td>\n",
       "      <td>2133291</td>\n",
       "      <td>1.5 hectogram</td>\n",
       "      <td>2.6666666666666665 / hectogram</td>\n",
       "    </tr>\n",
       "    <tr>\n",
       "      <th>Heriloom Grains</th>\n",
       "      <td>100.0</td>\n",
       "      <td>grams</td>\n",
       "      <td>4.00</td>\n",
       "      <td>[2023-2-24]</td>\n",
       "      <td>Brown's</td>\n",
       "      <td>1900715</td>\n",
       "      <td>1.0 hectogram</td>\n",
       "      <td>4.0 / hectogram</td>\n",
       "    </tr>\n",
       "    <tr>\n",
       "      <th>Brown Rice</th>\n",
       "      <td>100.0</td>\n",
       "      <td>grams</td>\n",
       "      <td>4.00</td>\n",
       "      <td>[2023-2-24]</td>\n",
       "      <td>Brown's</td>\n",
       "      <td>168875</td>\n",
       "      <td>1.0 hectogram</td>\n",
       "      <td>4.0 / hectogram</td>\n",
       "    </tr>\n",
       "  </tbody>\n",
       "</table>\n",
       "<p>76 rows × 8 columns</p>\n",
       "</div>"
      ],
      "text/plain": [
       "                                Quantity  Units  Price         Date  \\\n",
       "Food                                                                  \n",
       "Turkey & Swiss Sandwich            250.0  grams  11.25  [2023-2-23]   \n",
       "Caprese Panini                     250.0  grams  11.25  [2023-2-23]   \n",
       "Chicken Paprika                    250.0  grams  11.25  [2023-2-23]   \n",
       "Thai Marinated chicken Bahn Mi     250.0  grams  12.25  [2023-2-23]   \n",
       "French Fries                       250.0  grams   4.75  [2023-2-23]   \n",
       "...                                  ...    ...    ...          ...   \n",
       "Salad Seasonal Greens              190.0  grams   4.00  [2023-2-24]   \n",
       "Garlic Fries                       100.0  grams   4.00  [2023-2-24]   \n",
       "Vegetable Medley                   150.0  grams   4.00  [2023-2-24]   \n",
       "Heriloom Grains                    100.0  grams   4.00  [2023-2-24]   \n",
       "Brown Rice                         100.0  grams   4.00  [2023-2-24]   \n",
       "\n",
       "                                  Location      FDC  \\\n",
       "Food                                                  \n",
       "Turkey & Swiss Sandwich         Cafe Think  2342427   \n",
       "Caprese Panini                  Cafe Think   468080   \n",
       "Chicken Paprika                 Cafe Think  1952920   \n",
       "Thai Marinated chicken Bahn Mi  Cafe Think  2463885   \n",
       "French Fries                    Cafe Think   169833   \n",
       "...                                    ...      ...   \n",
       "Salad Seasonal Greens              Brown's  2304126   \n",
       "Garlic Fries                       Brown's  1912834   \n",
       "Vegetable Medley                   Brown's  2133291   \n",
       "Heriloom Grains                    Brown's  1900715   \n",
       "Brown Rice                         Brown's   168875   \n",
       "\n",
       "                                                FDC Quantity  \\\n",
       "Food                                                           \n",
       "Turkey & Swiss Sandwich                        2.5 hectogram   \n",
       "Caprese Panini                                 2.5 hectogram   \n",
       "Chicken Paprika                                2.5 hectogram   \n",
       "Thai Marinated chicken Bahn Mi                 2.5 hectogram   \n",
       "French Fries                                   2.5 hectogram   \n",
       "...                                                      ...   \n",
       "Salad Seasonal Greens           1.9000000000000001 hectogram   \n",
       "Garlic Fries                                   1.0 hectogram   \n",
       "Vegetable Medley                               1.5 hectogram   \n",
       "Heriloom Grains                                1.0 hectogram   \n",
       "Brown Rice                                     1.0 hectogram   \n",
       "\n",
       "                                                     FDC Price  \n",
       "Food                                                            \n",
       "Turkey & Swiss Sandwich                        4.5 / hectogram  \n",
       "Caprese Panini                                 4.5 / hectogram  \n",
       "Chicken Paprika                                4.5 / hectogram  \n",
       "Thai Marinated chicken Bahn Mi                 4.9 / hectogram  \n",
       "French Fries                                   1.9 / hectogram  \n",
       "...                                                        ...  \n",
       "Salad Seasonal Greens           2.1052631578947367 / hectogram  \n",
       "Garlic Fries                                   4.0 / hectogram  \n",
       "Vegetable Medley                2.6666666666666665 / hectogram  \n",
       "Heriloom Grains                                4.0 / hectogram  \n",
       "Brown Rice                                     4.0 / hectogram  \n",
       "\n",
       "[76 rows x 8 columns]"
      ]
     },
     "execution_count": 14,
     "metadata": {},
     "output_type": "execute_result"
    }
   ],
   "source": [
    "#cleaning data for sensitivity\n",
    "\n",
    "df.dropna(how='any')\n",
    "Prices = df.groupby('Food',sort=False)['FDC Price'].min()\n",
    "df_offcampus.dropna(how='any') # Drop food with any missing data\n",
    "Prices_off = df_offcampus.groupby('Food',sort=False)['FDC Price'].min()\n",
    "df"
   ]
  },
  {
   "cell_type": "code",
   "execution_count": 16,
   "id": "d52a2d75-410a-471d-af50-e4e4ef2ba672",
   "metadata": {},
   "outputs": [
    {
     "data": {
      "text/html": [
       "        <script type=\"text/javascript\">\n",
       "        window.PlotlyConfig = {MathJaxConfig: 'local'};\n",
       "        if (window.MathJax) {MathJax.Hub.Config({SVG: {font: \"STIX-Web\"}});}\n",
       "        if (typeof require !== 'undefined') {\n",
       "        require.undef(\"plotly\");\n",
       "        requirejs.config({\n",
       "            paths: {\n",
       "                'plotly': ['https://cdn.plot.ly/plotly-2.9.0.min']\n",
       "            }\n",
       "        });\n",
       "        require(['plotly'], function(Plotly) {\n",
       "            window._Plotly = Plotly;\n",
       "        });\n",
       "        }\n",
       "        </script>\n",
       "        "
      ]
     },
     "metadata": {},
     "output_type": "display_data"
    },
    {
     "name": "stdout",
     "output_type": "stream",
     "text": [
      "Effect of Price on Changes on in Females On Campus's Substistence Diet Cost\n"
     ]
    },
    {
     "data": {
      "application/vnd.plotly.v1+json": {
       "config": {
        "linkText": "Export to plot.ly",
        "plotlyServerURL": "https://plot.ly",
        "showLink": true
       },
       "data": [
        {
         "line": {
          "color": "rgba(255, 153, 51, 1.0)",
          "dash": "solid",
          "shape": "linear",
          "width": 1.3
         },
         "mode": "lines",
         "name": "Turkey & Swiss Sandwich",
         "text": "",
         "type": "scatter",
         "x": [
          -0.6931471805599453,
          -0.5108256237659907,
          -0.35667494393873245,
          -0.22314355131420968,
          -0.10536051565782628,
          0,
          0.09531017980432495,
          0.1823215567939546,
          0.26236426446749106,
          0.33647223662121284,
          0.4054651081081644
         ],
         "y": [
          -5.928213475845682e-11,
          -4.146938348356609e-11,
          -2.7593038965204478e-11,
          -1.6507573086380314e-11,
          -7.49478257236513e-12,
          0,
          6.443512390298724e-12,
          1.2052581155258067e-11,
          1.687516792955507e-11,
          2.122013675864532e-11,
          2.5240476375324542e-11
         ]
        },
        {
         "line": {
          "color": "rgba(55, 128, 191, 1.0)",
          "dash": "solid",
          "shape": "linear",
          "width": 1.3
         },
         "mode": "lines",
         "name": "Caprese Panini",
         "text": "",
         "type": "scatter",
         "x": [
          -0.6931471805599453,
          -0.5108256237659907,
          -0.35667494393873245,
          -0.22314355131420968,
          -0.10536051565782628,
          0,
          0.09531017980432495,
          0.1823215567939546,
          0.26236426446749106,
          0.33647223662121284,
          0.4054651081081644
         ],
         "y": [
          2.5677102633355938e-09,
          3.7532865697249235e-10,
          -1.46958223378986e-10,
          -8.72749650364994e-11,
          -3.880851196034017e-11,
          0,
          3.0106139802912103e-11,
          5.370726085940464e-11,
          7.266121037921264e-11,
          8.802225614669218e-11,
          1.0036438346568257e-10
         ]
        },
        {
         "line": {
          "color": "rgba(50, 171, 96, 1.0)",
          "dash": "solid",
          "shape": "linear",
          "width": 1.3
         },
         "mode": "lines",
         "name": "Chicken Paprika",
         "text": "",
         "type": "scatter",
         "x": [
          -0.6931471805599453,
          -0.5108256237659907,
          -0.35667494393873245,
          -0.22314355131420968,
          -0.10536051565782628,
          0,
          0.09531017980432495,
          0.1823215567939546,
          0.26236426446749106,
          0.33647223662121284,
          0.4054651081081644
         ],
         "y": [
          4.573985634588083e-11,
          3.504840861917245e-11,
          2.6292079624222397e-11,
          1.7894352666143243e-11,
          9.290346270020154e-12,
          0,
          -9.3889340746941e-12,
          -1.8978929539239763e-11,
          -2.8500202198651136e-11,
          -3.80193654344063e-11,
          -4.7404524751173455e-11
         ]
        },
        {
         "line": {
          "color": "rgba(128, 0, 128, 1.0)",
          "dash": "solid",
          "shape": "linear",
          "width": 1.3
         },
         "mode": "lines",
         "name": "Thai Marinated chicken Bahn Mi",
         "text": "",
         "type": "scatter",
         "x": [
          -0.6931471805599453,
          -0.5108256237659907,
          -0.35667494393873245,
          -0.22314355131420968,
          -0.10536051565782628,
          0,
          0.09531017980432495,
          0.1823215567939546,
          0.26236426446749106,
          0.33647223662121284,
          0.4054651081081644
         ],
         "y": [
          3.569922135618469e-11,
          2.3576252061452054e-11,
          1.461608611908337e-11,
          8.057554623487074e-12,
          3.215649968519133e-12,
          0,
          -1.8695045511680488e-12,
          -2.7103874700210677e-12,
          -2.692179812417166e-12,
          -2.0484725027379746e-12,
          -8.085754288348284e-13
         ]
        },
        {
         "line": {
          "color": "rgba(219, 64, 82, 1.0)",
          "dash": "solid",
          "shape": "linear",
          "width": 1.3
         },
         "mode": "lines",
         "name": "French Fries",
         "text": "",
         "type": "scatter",
         "x": [
          -0.6931471805599453,
          -0.5108256237659907,
          -0.35667494393873245,
          -0.22314355131420968,
          -0.10536051565782628,
          0,
          0.09531017980432495,
          0.1823215567939546,
          0.26236426446749106,
          0.33647223662121284,
          0.4054651081081644
         ],
         "y": [
          1.4597443243506412e-09,
          1.0765781593735907e-09,
          4.813938135846225e-10,
          1.6613532770334243e-10,
          6.403144680939112e-11,
          0,
          -4.3454795318587564e-11,
          -7.31428251326098e-11,
          -9.383105404210956e-11,
          -1.084200507209742e-10,
          -1.1864409455590804e-10
         ]
        },
        {
         "line": {
          "color": "rgba(0, 128, 128, 1.0)",
          "dash": "solid",
          "shape": "linear",
          "width": 1.3
         },
         "mode": "lines",
         "name": "Black Beans & Corn Quesadilla ",
         "text": "",
         "type": "scatter",
         "x": [
          -0.6931471805599453,
          -0.5108256237659907,
          -0.35667494393873245,
          -0.22314355131420968,
          -0.10536051565782628,
          0,
          0.09531017980432495,
          0.1823215567939546,
          0.26236426446749106,
          0.33647223662121284,
          0.4054651081081644
         ],
         "y": [
          -3.0810909384143903e-10,
          -8.471101598320958e-11,
          -3.769895506948735e-11,
          -2.0553003743584423e-11,
          -9.359180097633867e-12,
          0,
          8.409051233080505e-12,
          1.5392132013284712e-11,
          2.1309398689823285e-11,
          2.6407098729570532e-11,
          3.053357566737983e-11
         ]
        },
        {
         "line": {
          "color": "rgba(255, 255, 51, 1.0)",
          "dash": "solid",
          "shape": "linear",
          "width": 1.3
         },
         "mode": "lines",
         "name": "Chicken Quesadilla ",
         "text": "",
         "type": "scatter",
         "x": [
          -0.6931471805599453,
          -0.5108256237659907,
          -0.35667494393873245,
          -0.22314355131420968,
          -0.10536051565782628,
          0,
          0.09531017980432495,
          0.1823215567939546,
          0.26236426446749106,
          0.33647223662121284,
          0.4054651081081644
         ],
         "y": [
          -1.3535073063258909e-10,
          -1.0576650666953344e-10,
          -7.743095054324485e-11,
          -5.0398907271036395e-11,
          -2.4602209159088716e-11,
          0,
          2.28339569472049e-11,
          4.399791642032212e-11,
          6.392486539903393e-11,
          8.284950503080058e-11,
          1.0077316758330845e-10
         ]
        },
        {
         "line": {
          "color": "rgba(128, 128, 0, 1.0)",
          "dash": "solid",
          "shape": "linear",
          "width": 1.3
         },
         "mode": "lines",
         "name": "Panko Crusted Fried Chicken Sandwich",
         "text": "",
         "type": "scatter",
         "x": [
          -0.6931471805599453,
          -0.5108256237659907,
          -0.35667494393873245,
          -0.22314355131420968,
          -0.10536051565782628,
          0,
          0.09531017980432495,
          0.1823215567939546,
          0.26236426446749106,
          0.33647223662121284,
          0.4054651081081644
         ],
         "y": [
          -0.18477653408557876,
          -0.10360949221737577,
          -0.03214826450264777,
          -0.0027826051511225065,
          1.2613191428546115e-07,
          0,
          3.3039102510334378e-09,
          2.878326461917962e-09,
          1.3087519948091865e-09,
          3.2975817577693583e-09,
          3.533349162562711e-09
         ]
        },
        {
         "line": {
          "color": "rgba(251, 128, 114, 1.0)",
          "dash": "solid",
          "shape": "linear",
          "width": 1.3
         },
         "mode": "lines",
         "name": "Think Grass Fed Burger",
         "text": "",
         "type": "scatter",
         "x": [
          -0.6931471805599453,
          -0.5108256237659907,
          -0.35667494393873245,
          -0.22314355131420968,
          -0.10536051565782628,
          0,
          0.09531017980432495,
          0.1823215567939546,
          0.26236426446749106,
          0.33647223662121284,
          0.4054651081081644
         ],
         "y": [
          -0.027618334643033274,
          -0.003856666367131304,
          -1.2180578768581567e-10,
          -1.9858448219364892e-11,
          -1.4006684701071531e-11,
          0,
          1.7607471036585195e-11,
          3.511302359920336e-11,
          5.16435783013401e-11,
          6.676281749439531e-11,
          8.064748868393906e-11
         ]
        },
        {
         "line": {
          "color": "rgba(128, 177, 211, 1.0)",
          "dash": "solid",
          "shape": "linear",
          "width": 1.3
         },
         "mode": "lines",
         "name": "Ham & Cheese Croissant",
         "text": "",
         "type": "scatter",
         "x": [
          -0.6931471805599453,
          -0.5108256237659907,
          -0.35667494393873245,
          -0.22314355131420968,
          -0.10536051565782628,
          0,
          0.09531017980432495,
          0.1823215567939546,
          0.26236426446749106,
          0.33647223662121284,
          0.4054651081081644
         ],
         "y": [
          -2.8402169505573946e-11,
          -2.264610721195544e-11,
          -1.688449380324685e-11,
          -1.1272871525199991e-11,
          -5.58086910020131e-12,
          0,
          5.608402631180714e-12,
          1.1086020990030588e-11,
          1.6204815267297486e-11,
          2.1224799695348648e-11,
          2.6189495016749724e-11
         ]
        },
        {
         "line": {
          "color": "rgba(128, 177, 211, 0.8999999999999999)",
          "dash": "solid",
          "shape": "linear",
          "width": 1.3
         },
         "mode": "lines",
         "name": "Banana",
         "text": "",
         "type": "scatter",
         "x": [
          -0.6931471805599453,
          -0.5108256237659907,
          -0.35667494393873245,
          -0.22314355131420968,
          -0.10536051565782628,
          0,
          0.09531017980432495,
          0.1823215567939546,
          0.26236426446749106,
          0.33647223662121284,
          0.4054651081081644
         ],
         "y": [
          -0.0004076602380130487,
          -8.975605647190038e-05,
          1.023980806011749e-08,
          1.2639671523656516e-09,
          2.9830626853124984e-10,
          0,
          -1.3207357430806235e-10,
          -1.9755874715874068e-10,
          -2.334669124965357e-10,
          -2.545715860659951e-10,
          -2.6724067407020557e-10
         ]
        },
        {
         "line": {
          "color": "rgba(255, 153, 51, 0.8999999999999999)",
          "dash": "solid",
          "shape": "linear",
          "width": 1.3
         },
         "mode": "lines",
         "name": "Chocolate Croissant",
         "text": "",
         "type": "scatter",
         "x": [
          -0.6931471805599453,
          -0.5108256237659907,
          -0.35667494393873245,
          -0.22314355131420968,
          -0.10536051565782628,
          0,
          0.09531017980432495,
          0.1823215567939546,
          0.26236426446749106,
          0.33647223662121284,
          0.4054651081081644
         ],
         "y": [
          -0.2223470552864884,
          -0.17271228594907834,
          -0.12665821900641153,
          -0.08263161175145416,
          -0.040462774401812264,
          0,
          0.03430041266418381,
          0.05625594209661002,
          0.07773976437531648,
          0.09877175779921013,
          0.11909859101217263
         ]
        },
        {
         "line": {
          "color": "rgba(55, 128, 191, 0.8999999999999999)",
          "dash": "solid",
          "shape": "linear",
          "width": 1.3
         },
         "mode": "lines",
         "name": "Banana Muffin",
         "text": "",
         "type": "scatter",
         "x": [
          -0.6931471805599453,
          -0.5108256237659907,
          -0.35667494393873245,
          -0.22314355131420968,
          -0.10536051565782628,
          0,
          0.09531017980432495,
          0.1823215567939546,
          0.26236426446749106,
          0.33647223662121284,
          0.4054651081081644
         ],
         "y": [
          -0.2544252777659747,
          -0.1927431232771719,
          -0.1350433980557075,
          -0.0811174747544826,
          -0.033552714601758356,
          0,
          0.024100494043030916,
          0.04075153441426572,
          0.04075153595289895,
          0.04075155811298208,
          0.04075153532726996
         ]
        },
        {
         "line": {
          "color": "rgba(50, 171, 96, 0.8999999999999999)",
          "dash": "solid",
          "shape": "linear",
          "width": 1.3
         },
         "mode": "lines",
         "name": "Tropical Hibusicus Green Tea",
         "text": "",
         "type": "scatter",
         "x": [
          -0.6931471805599453,
          -0.5108256237659907,
          -0.35667494393873245,
          -0.22314355131420968,
          -0.10536051565782628,
          0,
          0.09531017980432495,
          0.1823215567939546,
          0.26236426446749106,
          0.33647223662121284,
          0.4054651081081644
         ],
         "y": [
          -2.383581110549782e-10,
          -8.645073546294609e-11,
          -1.137290261971985e-11,
          1.2273293492550863e-11,
          1.1401324329020588e-11,
          0,
          -1.5477064074906765e-11,
          -3.257605296677948e-11,
          -5.0041082390181735e-11,
          -6.746536662888253e-11,
          -8.462353040886171e-11
         ]
        },
        {
         "line": {
          "color": "rgba(128, 0, 128, 0.8999999999999999)",
          "dash": "solid",
          "shape": "linear",
          "width": 1.3
         },
         "mode": "lines",
         "name": "Drip Coffee (Reg or Decaf)",
         "text": "",
         "type": "scatter",
         "x": [
          -0.6931471805599453,
          -0.5108256237659907,
          -0.35667494393873245,
          -0.22314355131420968,
          -0.10536051565782628,
          0,
          0.09531017980432495,
          0.1823215567939546,
          0.26236426446749106,
          0.33647223662121284,
          0.4054651081081644
         ],
         "y": [
          0,
          0,
          0,
          0,
          0,
          0,
          0,
          0,
          0,
          0,
          0
         ]
        },
        {
         "line": {
          "color": "rgba(219, 64, 82, 0.8999999999999999)",
          "dash": "solid",
          "shape": "linear",
          "width": 1.3
         },
         "mode": "lines",
         "name": "Espresso",
         "text": "",
         "type": "scatter",
         "x": [
          -0.6931471805599453,
          -0.5108256237659907,
          -0.35667494393873245,
          -0.22314355131420968,
          -0.10536051565782628,
          0,
          0.09531017980432495,
          0.1823215567939546,
          0.26236426446749106,
          0.33647223662121284,
          0.4054651081081644
         ],
         "y": [
          2.7121083153377873e-10,
          1.2115575209013994e-10,
          6.348899183959385e-11,
          3.195887998634907e-11,
          1.332800536593126e-11,
          0,
          -1.1151080059397245e-11,
          -2.0199175665629176e-11,
          -2.700717427509379e-11,
          -3.11379810829367e-11,
          -3.230560263797202e-11
         ]
        },
        {
         "line": {
          "color": "rgba(0, 128, 128, 0.8999999999999999)",
          "dash": "solid",
          "shape": "linear",
          "width": 1.3
         },
         "mode": "lines",
         "name": "Americano",
         "text": "",
         "type": "scatter",
         "x": [
          -0.6931471805599453,
          -0.5108256237659907,
          -0.35667494393873245,
          -0.22314355131420968,
          -0.10536051565782628,
          0,
          0.09531017980432495,
          0.1823215567939546,
          0.26236426446749106,
          0.33647223662121284,
          0.4054651081081644
         ],
         "y": [
          0,
          0,
          0,
          0,
          0,
          0,
          0,
          0,
          0,
          0,
          0
         ]
        },
        {
         "line": {
          "color": "rgba(255, 255, 51, 0.8999999999999999)",
          "dash": "solid",
          "shape": "linear",
          "width": 1.3
         },
         "mode": "lines",
         "name": "Cappuccino",
         "text": "",
         "type": "scatter",
         "x": [
          -0.6931471805599453,
          -0.5108256237659907,
          -0.35667494393873245,
          -0.22314355131420968,
          -0.10536051565782628,
          0,
          0.09531017980432495,
          0.1823215567939546,
          0.26236426446749106,
          0.33647223662121284,
          0.4054651081081644
         ],
         "y": [
          8.249733084830079e-09,
          1.2052741020182818e-09,
          7.781435492929575e-10,
          3.277684789711098e-10,
          9.715028780971016e-11,
          0,
          -4.328681857495449e-11,
          -6.379663464376791e-11,
          -7.505540633727327e-11,
          -8.223211001361962e-11,
          -8.726919187677084e-11
         ]
        },
        {
         "line": {
          "color": "rgba(128, 128, 0, 0.8999999999999999)",
          "dash": "solid",
          "shape": "linear",
          "width": 1.3
         },
         "mode": "lines",
         "name": "Latte",
         "text": "",
         "type": "scatter",
         "x": [
          -0.6931471805599453,
          -0.5108256237659907,
          -0.35667494393873245,
          -0.22314355131420968,
          -0.10536051565782628,
          0,
          0.09531017980432495,
          0.1823215567939546,
          0.26236426446749106,
          0.33647223662121284,
          0.4054651081081644
         ],
         "y": [
          -0.01280479630191744,
          -0.0031986177016706204,
          -0.0009548095236525606,
          1.9513717289644196e-09,
          1.4966332606461226e-09,
          0,
          -3.643543245554905e-10,
          1.124491598783828e-07,
          3.30278015034172e-08,
          -3.467155452231846e-10,
          -3.5879343946773733e-10
         ]
        },
        {
         "line": {
          "color": "rgba(251, 128, 114, 0.8999999999999999)",
          "dash": "solid",
          "shape": "linear",
          "width": 1.3
         },
         "mode": "lines",
         "name": "Caramel Macchiato",
         "text": "",
         "type": "scatter",
         "x": [
          -0.6931471805599453,
          -0.5108256237659907,
          -0.35667494393873245,
          -0.22314355131420968,
          -0.10536051565782628,
          0,
          0.09531017980432495,
          0.1823215567939546,
          0.26236426446749106,
          0.33647223662121284,
          0.4054651081081644
         ],
         "y": [
          9.272649314620875e-11,
          7.351452779830914e-12,
          -1.351019296445233e-11,
          -1.3252066111223527e-11,
          -7.1788130995544925e-12,
          0,
          7.512435118400366e-12,
          1.5245138484826594e-11,
          2.3180346530879978e-11,
          3.122613279011962e-11,
          3.93751697905806e-11
         ]
        },
        {
         "line": {
          "color": "rgba(251, 128, 114, 0.7999999999999998)",
          "dash": "solid",
          "shape": "linear",
          "width": 1.3
         },
         "mode": "lines",
         "name": "Hot Chocolate",
         "text": "",
         "type": "scatter",
         "x": [
          -0.6931471805599453,
          -0.5108256237659907,
          -0.35667494393873245,
          -0.22314355131420968,
          -0.10536051565782628,
          0,
          0.09531017980432495,
          0.1823215567939546,
          0.26236426446749106,
          0.33647223662121284,
          0.4054651081081644
         ],
         "y": [
          -0.000942366774157881,
          5.059483941635302e-10,
          -3.024083206528536e-10,
          -1.5685019950759633e-10,
          -5.856282126075979e-11,
          0,
          3.241495960485041e-11,
          5.1062487570281136e-11,
          6.229572413280177e-11,
          6.945866104260649e-11,
          7.443090588033499e-11
         ]
        },
        {
         "line": {
          "color": "rgba(128, 177, 211, 0.7999999999999998)",
          "dash": "solid",
          "shape": "linear",
          "width": 1.3
         },
         "mode": "lines",
         "name": "Steamed Milk",
         "text": "",
         "type": "scatter",
         "x": [
          -0.6931471805599453,
          -0.5108256237659907,
          -0.35667494393873245,
          -0.22314355131420968,
          -0.10536051565782628,
          0,
          0.09531017980432495,
          0.1823215567939546,
          0.26236426446749106,
          0.33647223662121284,
          0.4054651081081644
         ],
         "y": [
          -2.0749046927214134e-10,
          -8.318135069975263e-11,
          -1.4765455526013347e-10,
          -8.477252233877904e-11,
          -3.491884559342255e-11,
          0,
          2.0624835172853766e-11,
          3.111355617542613e-11,
          3.5224267946266894e-11,
          3.574296414335336e-11,
          3.435274287196646e-11
         ]
        },
        {
         "line": {
          "color": "rgba(255, 153, 51, 0.7999999999999998)",
          "dash": "solid",
          "shape": "linear",
          "width": 1.3
         },
         "mode": "lines",
         "name": "Hot Tea",
         "text": "",
         "type": "scatter",
         "x": [
          -0.6931471805599453,
          -0.5108256237659907,
          -0.35667494393873245,
          -0.22314355131420968,
          -0.10536051565782628,
          0,
          0.09531017980432495,
          0.1823215567939546,
          0.26236426446749106,
          0.33647223662121284,
          0.4054651081081644
         ],
         "y": [
          8.829868353029652e-09,
          -2.9924418503172e-10,
          -2.968254531495508e-10,
          -3.2796132481798256e-10,
          -2.5829227645935378e-11,
          0,
          -1.9049206656699873e-11,
          -4.380429352675481e-11,
          -8.223088876829243e-11,
          -1.3649947839632487e-10,
          1.7677379544530318e-09
         ]
        },
        {
         "line": {
          "color": "rgba(55, 128, 191, 0.7999999999999998)",
          "dash": "solid",
          "shape": "linear",
          "width": 1.3
         },
         "mode": "lines",
         "name": "Chef Salad",
         "text": "",
         "type": "scatter",
         "x": [
          -0.6931471805599453,
          -0.5108256237659907,
          -0.35667494393873245,
          -0.22314355131420968,
          -0.10536051565782628,
          0,
          0.09531017980432495,
          0.1823215567939546,
          0.26236426446749106,
          0.33647223662121284,
          0.4054651081081644
         ],
         "y": [
          -9.891854003064217e-11,
          -6.685607623292731e-11,
          -4.2973957726601626e-11,
          -2.4923174635515798e-11,
          -1.0977996289856269e-11,
          0,
          8.70437055762827e-12,
          1.5436540934269033e-11,
          2.0603962979991243e-11,
          2.4779955864721546e-11,
          2.808242527368425e-11
         ]
        },
        {
         "line": {
          "color": "rgba(50, 171, 96, 0.7999999999999998)",
          "dash": "solid",
          "shape": "linear",
          "width": 1.3
         },
         "mode": "lines",
         "name": "Tropical Fruit Bowl",
         "text": "",
         "type": "scatter",
         "x": [
          -0.6931471805599453,
          -0.5108256237659907,
          -0.35667494393873245,
          -0.22314355131420968,
          -0.10536051565782628,
          0,
          0.09531017980432495,
          0.1823215567939546,
          0.26236426446749106,
          0.33647223662121284,
          0.4054651081081644
         ],
         "y": [
          -4.1514824919721544e-10,
          7.016600321070005e-08,
          -2.6950119917125154e-10,
          -2.0539225877746912e-10,
          -8.184330991036399e-11,
          0,
          6.594103041162228e-11,
          1.4626944099301281e-10,
          2.527758002593128e-10,
          8.928939805762883e-10,
          1.6903771701417022e-09
         ]
        },
        {
         "line": {
          "color": "rgba(128, 0, 128, 0.7999999999999998)",
          "dash": "solid",
          "shape": "linear",
          "width": 1.3
         },
         "mode": "lines",
         "name": "Raspberry Chobani Greek Yogurt ",
         "text": "",
         "type": "scatter",
         "x": [
          -0.6931471805599453,
          -0.5108256237659907,
          -0.35667494393873245,
          -0.22314355131420968,
          -0.10536051565782628,
          0,
          0.09531017980432495,
          0.1823215567939546,
          0.26236426446749106,
          0.33647223662121284,
          0.4054651081081644
         ],
         "y": [
          -6.999967272736856e-11,
          -5.083011789382263e-11,
          -3.486522182133128e-11,
          -2.1343704581739025e-11,
          -9.869993711268812e-12,
          0,
          8.630207659583951e-12,
          1.5977441591857915e-11,
          2.2210011607379615e-11,
          2.7839730520507976e-11,
          3.2725822051735325e-11
         ]
        },
        {
         "line": {
          "color": "rgba(219, 64, 82, 0.7999999999999998)",
          "dash": "solid",
          "shape": "linear",
          "width": 1.3
         },
         "mode": "lines",
         "name": "Strawberry Banana Naked Juice ",
         "text": "",
         "type": "scatter",
         "x": [
          -0.6931471805599453,
          -0.5108256237659907,
          -0.35667494393873245,
          -0.22314355131420968,
          -0.10536051565782628,
          0,
          0.09531017980432495,
          0.1823215567939546,
          0.26236426446749106,
          0.33647223662121284,
          0.4054651081081644
         ],
         "y": [
          -0.00015452329361081738,
          3.623235482849983e-09,
          7.189975279233519e-10,
          2.6531132842710817e-10,
          9.057332661244805e-11,
          0,
          -5.412870152245954e-11,
          -8.697764731047888e-11,
          -1.0748257839887952e-10,
          -1.2018686047111138e-10,
          -1.2816436801554605e-10
         ]
        },
        {
         "line": {
          "color": "rgba(0, 128, 128, 0.7999999999999998)",
          "dash": "solid",
          "shape": "linear",
          "width": 1.3
         },
         "mode": "lines",
         "name": "Yerbamate",
         "text": "",
         "type": "scatter",
         "x": [
          -0.6931471805599453,
          -0.5108256237659907,
          -0.35667494393873245,
          -0.22314355131420968,
          -0.10536051565782628,
          0,
          0.09531017980432495,
          0.1823215567939546,
          0.26236426446749106,
          0.33647223662121284,
          0.4054651081081644
         ],
         "y": [
          2.3462149973073524e-09,
          2.4490129894015798e-09,
          -2.42716846650705e-10,
          -2.181764769087353e-10,
          -1.7613954740755274e-10,
          0,
          1.3066525638406691e-10,
          2.3561641523950153e-10,
          3.2477043271639016e-10,
          4.0120484704198896e-10,
          4.6250137042809736e-10
         ]
        },
        {
         "line": {
          "color": "rgba(255, 255, 51, 0.7999999999999998)",
          "dash": "solid",
          "shape": "linear",
          "width": 1.3
         },
         "mode": "lines",
         "name": "Winter Chopped Salad",
         "text": "",
         "type": "scatter",
         "x": [
          -0.6931471805599453,
          -0.5108256237659907,
          -0.35667494393873245,
          -0.22314355131420968,
          -0.10536051565782628,
          0,
          0.09531017980432495,
          0.1823215567939546,
          0.26236426446749106,
          0.33647223662121284,
          0.4054651081081644
         ],
         "y": [
          -3.792643976724164e-11,
          -2.5311974738749292e-11,
          -1.6436407790500672e-11,
          -9.66671187545796e-12,
          -4.391487173914449e-12,
          0,
          3.734568210227128e-12,
          7.055023232258133e-12,
          1.000244331800786e-11,
          1.264655047342519e-11,
          1.5034196110151006e-11
         ]
        },
        {
         "line": {
          "color": "rgba(128, 128, 0, 0.7999999999999998)",
          "dash": "solid",
          "shape": "linear",
          "width": 1.3
         },
         "mode": "lines",
         "name": "Kale & Beets",
         "text": "",
         "type": "scatter",
         "x": [
          -0.6931471805599453,
          -0.5108256237659907,
          -0.35667494393873245,
          -0.22314355131420968,
          -0.10536051565782628,
          0,
          0.09531017980432495,
          0.1823215567939546,
          0.26236426446749106,
          0.33647223662121284,
          0.4054651081081644
         ],
         "y": [
          -0.009252506130937518,
          -0.0012674353411716527,
          4.316838637746776e-08,
          -1.711893960067969e-10,
          1.4168977101709344e-10,
          0,
          -2.8945279510776133e-10,
          -2.932932785956637e-10,
          1.0138079657675221e-08,
          4.950413411304667e-10,
          7.276060838454185e-09
         ]
        },
        {
         "line": {
          "color": "rgba(128, 128, 0, 0.7)",
          "dash": "solid",
          "shape": "linear",
          "width": 1.3
         },
         "mode": "lines",
         "name": "Vegetable Cassoulet",
         "text": "",
         "type": "scatter",
         "x": [
          -0.6931471805599453,
          -0.5108256237659907,
          -0.35667494393873245,
          -0.22314355131420968,
          -0.10536051565782628,
          0,
          0.09531017980432495,
          0.1823215567939546,
          0.26236426446749106,
          0.33647223662121284,
          0.4054651081081644
         ],
         "y": [
          -2.9535818236051535e-11,
          -1.8644530364216374e-11,
          -1.1193046489728546e-11,
          -6.005862474030282e-12,
          -2.4071855619951616e-12,
          0,
          1.6455725670980532e-12,
          2.628564033099066e-12,
          3.0744295997872575e-12,
          3.1084024243406823e-12,
          2.8625990466894065e-12
         ]
        },
        {
         "line": {
          "color": "rgba(251, 128, 114, 0.7)",
          "dash": "solid",
          "shape": "linear",
          "width": 1.3
         },
         "mode": "lines",
         "name": "Roast Chicken Breast",
         "text": "",
         "type": "scatter",
         "x": [
          -0.6931471805599453,
          -0.5108256237659907,
          -0.35667494393873245,
          -0.22314355131420968,
          -0.10536051565782628,
          0,
          0.09531017980432495,
          0.1823215567939546,
          0.26236426446749106,
          0.33647223662121284,
          0.4054651081081644
         ],
         "y": [
          -9.975131831701858e-12,
          -9.684808510759525e-12,
          -8.520739669429454e-12,
          -6.375788785837675e-12,
          -3.535283177320135e-12,
          0,
          4.141131881843259e-12,
          8.807177209707658e-12,
          1.3750778293702796e-11,
          1.885736011768541e-11,
          2.436606472115146e-11
         ]
        },
        {
         "line": {
          "color": "rgba(128, 177, 211, 0.7)",
          "dash": "solid",
          "shape": "linear",
          "width": 1.3
         },
         "mode": "lines",
         "name": "King Salmon & French Lentils",
         "text": "",
         "type": "scatter",
         "x": [
          -0.6931471805599453,
          -0.5108256237659907,
          -0.35667494393873245,
          -0.22314355131420968,
          -0.10536051565782628,
          0,
          0.09531017980432495,
          0.1823215567939546,
          0.26236426446749106,
          0.33647223662121284,
          0.4054651081081644
         ],
         "y": [
          -3.7344793924618635e-11,
          -4.299061107197172e-11,
          -3.938904757993936e-11,
          -2.98207014641788e-11,
          -1.6188606011400295e-11,
          0,
          1.7631229809311757e-11,
          3.5651259721522594e-11,
          5.418265835852349e-11,
          7.280487323858869e-11,
          9.142953060896106e-11
         ]
        },
        {
         "line": {
          "color": "rgba(255, 153, 51, 0.7)",
          "dash": "solid",
          "shape": "linear",
          "width": 1.3
         },
         "mode": "lines",
         "name": "Beef Bourguignon",
         "text": "",
         "type": "scatter",
         "x": [
          -0.6931471805599453,
          -0.5108256237659907,
          -0.35667494393873245,
          -0.22314355131420968,
          -0.10536051565782628,
          0,
          0.09531017980432495,
          0.1823215567939546,
          0.26236426446749106,
          0.33647223662121284,
          0.4054651081081644
         ],
         "y": [
          -2.3739343824329188e-11,
          -2.3075430455587805e-11,
          -1.9183654664984548e-11,
          -1.3600787163262971e-11,
          -6.983302824916618e-12,
          0,
          7.342348951029056e-12,
          1.4655610058759447e-11,
          2.1811219496943034e-11,
          2.8914870497524466e-11,
          3.606603904350768e-11
         ]
        },
        {
         "line": {
          "color": "rgba(55, 128, 191, 0.7)",
          "dash": "solid",
          "shape": "linear",
          "width": 1.3
         },
         "mode": "lines",
         "name": "Chocolate Cake",
         "text": "",
         "type": "scatter",
         "x": [
          -0.6931471805599453,
          -0.5108256237659907,
          -0.35667494393873245,
          -0.22314355131420968,
          -0.10536051565782628,
          0,
          0.09531017980432495,
          0.1823215567939546,
          0.26236426446749106,
          0.33647223662121284,
          0.4054651081081644
         ],
         "y": [
          -4.459066449513156e-11,
          -3.4370395419238724e-11,
          -2.4773849638700002e-11,
          -1.5826118193854378e-11,
          -7.582712235916106e-12,
          0,
          6.987521672361398e-12,
          1.324251819303626e-11,
          1.8783197219641846e-11,
          2.3668178527888846e-11,
          2.8224533820832266e-11
         ]
        },
        {
         "line": {
          "color": "rgba(50, 171, 96, 0.7)",
          "dash": "solid",
          "shape": "linear",
          "width": 1.3
         },
         "mode": "lines",
         "name": "Steamed Veggie Bun",
         "text": "",
         "type": "scatter",
         "x": [
          -0.6931471805599453,
          -0.5108256237659907,
          -0.35667494393873245,
          -0.22314355131420968,
          -0.10536051565782628,
          0,
          0.09531017980432495,
          0.1823215567939546,
          0.26236426446749106,
          0.33647223662121284,
          0.4054651081081644
         ],
         "y": [
          -0.08606911455680293,
          -0.0638445780371071,
          -0.04210304694156703,
          -0.022730568333010792,
          -0.00528981362292605,
          0,
          7.500577936244294e-11,
          -1.979039154795402e-11,
          1.169815355626513e-10,
          4.2736858487407105e-10,
          6.627383084569693e-10
         ]
        },
        {
         "line": {
          "color": "rgba(128, 0, 128, 0.7)",
          "dash": "solid",
          "shape": "linear",
          "width": 1.3
         },
         "mode": "lines",
         "name": "Steamed Chicken Bun",
         "text": "",
         "type": "scatter",
         "x": [
          -0.6931471805599453,
          -0.5108256237659907,
          -0.35667494393873245,
          -0.22314355131420968,
          -0.10536051565782628,
          0,
          0.09531017980432495,
          0.1823215567939546,
          0.26236426446749106,
          0.33647223662121284,
          0.4054651081081644
         ],
         "y": [
          -2.412381405776608e-11,
          -1.9231283232741882e-11,
          -1.444777630876138e-11,
          -9.626077712756287e-12,
          -4.7838399908187794e-12,
          0,
          4.830580380132389e-12,
          9.617640017676557e-12,
          1.4021450667102652e-11,
          1.8346213437157494e-11,
          2.2495783013911742e-11
         ]
        },
        {
         "line": {
          "color": "rgba(219, 64, 82, 0.7)",
          "dash": "solid",
          "shape": "linear",
          "width": 1.3
         },
         "mode": "lines",
         "name": "Veggie Spring Rolls",
         "text": "",
         "type": "scatter",
         "x": [
          -0.6931471805599453,
          -0.5108256237659907,
          -0.35667494393873245,
          -0.22314355131420968,
          -0.10536051565782628,
          0,
          0.09531017980432495,
          0.1823215567939546,
          0.26236426446749106,
          0.33647223662121284,
          0.4054651081081644
         ],
         "y": [
          -2.2464363702820202e-11,
          -1.45650158601635e-11,
          -9.083733765221826e-12,
          -5.1914028631607076e-12,
          -2.2732926652250547e-12,
          0,
          1.963096352140275e-12,
          3.5791369867801747e-12,
          5.239142453192389e-12,
          6.755040971006487e-12,
          8.233191905981342e-12
         ]
        },
        {
         "line": {
          "color": "rgba(0, 128, 128, 0.7)",
          "dash": "solid",
          "shape": "linear",
          "width": 1.3
         },
         "mode": "lines",
         "name": "Vietnamese Coffee",
         "text": "",
         "type": "scatter",
         "x": [
          -0.6931471805599453,
          -0.5108256237659907,
          -0.35667494393873245,
          -0.22314355131420968,
          -0.10536051565782628,
          0,
          0.09531017980432495,
          0.1823215567939546,
          0.26236426446749106,
          0.33647223662121284,
          0.4054651081081644
         ],
         "y": [
          -0.006225069811947988,
          -0.002007189479328974,
          3.207329265193973e-07,
          1.4233183510544089e-09,
          -2.2043367134059572e-10,
          0,
          2.0632540118728848e-10,
          3.757660848440304e-10,
          5.02413444054906e-10,
          5.902149878202095e-10,
          6.467255617832847e-10
         ]
        },
        {
         "line": {
          "color": "rgba(255, 255, 51, 0.7)",
          "dash": "solid",
          "shape": "linear",
          "width": 1.3
         },
         "mode": "lines",
         "name": "Vegan Pho ",
         "text": "",
         "type": "scatter",
         "x": [
          -0.6931471805599453,
          -0.5108256237659907,
          -0.35667494393873245,
          -0.22314355131420968,
          -0.10536051565782628,
          0,
          0.09531017980432495,
          0.1823215567939546,
          0.26236426446749106,
          0.33647223662121284,
          0.4054651081081644
         ],
         "y": [
          -7.519995737509034e-11,
          -6.183153989005796e-11,
          -4.89219775813042e-11,
          -3.4385050363164273e-11,
          -1.7924994821943656e-11,
          0,
          1.856603759602922e-11,
          3.7202241286867444e-11,
          5.607980746289836e-11,
          7.500755571928222e-11,
          9.384648613334612e-11
         ]
        },
        {
         "line": {
          "color": "rgba(255, 255, 51, 0.5999999999999999)",
          "dash": "solid",
          "shape": "linear",
          "width": 1.3
         },
         "mode": "lines",
         "name": "Hibiscus Lemonade",
         "text": "",
         "type": "scatter",
         "x": [
          -0.6931471805599453,
          -0.5108256237659907,
          -0.35667494393873245,
          -0.22314355131420968,
          -0.10536051565782628,
          0,
          0.09531017980432495,
          0.1823215567939546,
          0.26236426446749106,
          0.33647223662121284,
          0.4054651081081644
         ],
         "y": [
          -1.829358886612588e-11,
          -1.456712528391032e-11,
          -1.0951239914962508e-11,
          -7.253309064507378e-12,
          -3.5857983249407594e-12,
          0,
          3.5800251651998716e-12,
          7.136735646869965e-12,
          1.0573319997264243e-11,
          1.3823830968722125e-11,
          1.698374774136157e-11
         ]
        },
        {
         "line": {
          "color": "rgba(128, 128, 0, 0.5999999999999999)",
          "dash": "solid",
          "shape": "linear",
          "width": 1.3
         },
         "mode": "lines",
         "name": "Breakfast Burrito",
         "text": "",
         "type": "scatter",
         "x": [
          -0.6931471805599453,
          -0.5108256237659907,
          -0.35667494393873245,
          -0.22314355131420968,
          -0.10536051565782628,
          0,
          0.09531017980432495,
          0.1823215567939546,
          0.26236426446749106,
          0.33647223662121284,
          0.4054651081081644
         ],
         "y": [
          -0.044382239459064624,
          -0.004610377048675383,
          -3.2538927113599325e-10,
          -1.4900880530577213e-10,
          -5.1711079863907856e-11,
          0,
          2.7924551559586973e-11,
          4.35986802206844e-11,
          5.274736203236482e-11,
          5.8051341509915205e-11,
          6.093525683850994e-11
         ]
        },
        {
         "line": {
          "color": "rgba(251, 128, 114, 0.5999999999999999)",
          "dash": "solid",
          "shape": "linear",
          "width": 1.3
         },
         "mode": "lines",
         "name": "Bacon Burrito",
         "text": "",
         "type": "scatter",
         "x": [
          -0.6931471805599453,
          -0.5108256237659907,
          -0.35667494393873245,
          -0.22314355131420968,
          -0.10536051565782628,
          0,
          0.09531017980432495,
          0.1823215567939546,
          0.26236426446749106,
          0.33647223662121284,
          0.4054651081081644
         ],
         "y": [
          -1.219631062884242e-10,
          -8.942857565985756e-11,
          -6.146849696098314e-11,
          -3.761246869586579e-11,
          -1.7331691637573513e-11,
          0,
          1.4773959833182747e-11,
          2.692601697126649e-11,
          3.732725239943558e-11,
          4.634292949282945e-11,
          5.4080295795658586e-11
         ]
        },
        {
         "line": {
          "color": "rgba(128, 177, 211, 0.5999999999999999)",
          "dash": "solid",
          "shape": "linear",
          "width": 1.3
         },
         "mode": "lines",
         "name": "Turkey Sausage Burrito ",
         "text": "",
         "type": "scatter",
         "x": [
          -0.6931471805599453,
          -0.5108256237659907,
          -0.35667494393873245,
          -0.22314355131420968,
          -0.10536051565782628,
          0,
          0.09531017980432495,
          0.1823215567939546,
          0.26236426446749106,
          0.33647223662121284,
          0.4054651081081644
         ],
         "y": [
          -6.001132924107412e-11,
          -4.422606725382847e-11,
          -3.0803914974816646e-11,
          -1.916045100376944e-11,
          -8.961609232511956e-12,
          0,
          8.040457188907984e-12,
          1.5049739232495526e-11,
          2.120703612695502e-11,
          2.6823876453003723e-11,
          3.1872060545826154e-11
         ]
        },
        {
         "line": {
          "color": "rgba(255, 153, 51, 0.5999999999999999)",
          "dash": "solid",
          "shape": "linear",
          "width": 1.3
         },
         "mode": "lines",
         "name": "Breakfast Egg Croissant ",
         "text": "",
         "type": "scatter",
         "x": [
          -0.6931471805599453,
          -0.5108256237659907,
          -0.35667494393873245,
          -0.22314355131420968,
          -0.10536051565782628,
          0,
          0.09531017980432495,
          0.1823215567939546,
          0.26236426446749106,
          0.33647223662121284,
          0.4054651081081644
         ],
         "y": [
          -0.03801860664903467,
          -0.007755479724710251,
          4.85909622468154e-09,
          1.822237677468554e-08,
          -3.650680869382823e-10,
          0,
          3.5430980309074506e-09,
          7.207828308211699e-09,
          6.151446888489614e-09,
          2.981697329036488e-09,
          1.9238605856520806e-08
         ]
        },
        {
         "line": {
          "color": "rgba(55, 128, 191, 0.5999999999999999)",
          "dash": "solid",
          "shape": "linear",
          "width": 1.3
         },
         "mode": "lines",
         "name": "Bacon Croissant ",
         "text": "",
         "type": "scatter",
         "x": [
          -0.6931471805599453,
          -0.5108256237659907,
          -0.35667494393873245,
          -0.22314355131420968,
          -0.10536051565782628,
          0,
          0.09531017980432495,
          0.1823215567939546,
          0.26236426446749106,
          0.33647223662121284,
          0.4054651081081644
         ],
         "y": [
          -4.983680135364051e-11,
          -3.9226177862220455e-11,
          -2.8992364065481617e-11,
          -1.9015233832145697e-11,
          -9.334755191091885e-12,
          0,
          9.131362332895297e-12,
          1.7587042932932454e-11,
          2.5635049638266286e-11,
          3.350830723946522e-11,
          4.105871198505448e-11
         ]
        },
        {
         "line": {
          "color": "rgba(50, 171, 96, 0.5999999999999999)",
          "dash": "solid",
          "shape": "linear",
          "width": 1.3
         },
         "mode": "lines",
         "name": "Turkey Saussage Croissant ",
         "text": "",
         "type": "scatter",
         "x": [
          -0.6931471805599453,
          -0.5108256237659907,
          -0.35667494393873245,
          -0.22314355131420968,
          -0.10536051565782628,
          0,
          0.09531017980432495,
          0.1823215567939546,
          0.26236426446749106,
          0.33647223662121284,
          0.4054651081081644
         ],
         "y": [
          -6.790124018837986e-11,
          -5.373612666093091e-11,
          -3.97835098206043e-11,
          -2.6123214702863758e-11,
          -1.2805090321503615e-11,
          0,
          1.2316148101300868e-11,
          2.361244533205398e-11,
          3.4368730083520514e-11,
          4.4736214731665095e-11,
          5.447842177226756e-11
         ]
        },
        {
         "line": {
          "color": "rgba(128, 0, 128, 0.5999999999999999)",
          "dash": "solid",
          "shape": "linear",
          "width": 1.3
         },
         "mode": "lines",
         "name": "Hash Brown Patties",
         "text": "",
         "type": "scatter",
         "x": [
          -0.6931471805599453,
          -0.5108256237659907,
          -0.35667494393873245,
          -0.22314355131420968,
          -0.10536051565782628,
          0,
          0.09531017980432495,
          0.1823215567939546,
          0.26236426446749106,
          0.33647223662121284,
          0.4054651081081644
         ],
         "y": [
          -0.01973325354752262,
          -0.009213885114917515,
          -0.0008309005313472702,
          -2.456985726286689e-10,
          1.1554261984944749e-09,
          0,
          -3.269645665861477e-10,
          -2.029302281975577e-10,
          -2.810517374780263e-10,
          -1.0679102047676641e-10,
          -8.735556722809423e-11
         ]
        },
        {
         "line": {
          "color": "rgba(219, 64, 82, 0.5999999999999999)",
          "dash": "solid",
          "shape": "linear",
          "width": 1.3
         },
         "mode": "lines",
         "name": "Small Fruit Cup",
         "text": "",
         "type": "scatter",
         "x": [
          -0.6931471805599453,
          -0.5108256237659907,
          -0.35667494393873245,
          -0.22314355131420968,
          -0.10536051565782628,
          0,
          0.09531017980432495,
          0.1823215567939546,
          0.26236426446749106,
          0.33647223662121284,
          0.4054651081081644
         ],
         "y": [
          6.719735878620449e-11,
          1.7620571668275543e-11,
          -2.137956478522949e-12,
          -8.38273894746738e-12,
          -6.539879748878332e-12,
          0,
          9.344303109016435e-12,
          1.9899415448578387e-11,
          3.097277989590804e-11,
          4.23698853770821e-11,
          5.3757887029324825e-11
         ]
        },
        {
         "line": {
          "color": "rgba(0, 128, 128, 0.5999999999999999)",
          "dash": "solid",
          "shape": "linear",
          "width": 1.3
         },
         "mode": "lines",
         "name": "Philly Cheesesteak",
         "text": "",
         "type": "scatter",
         "x": [
          -0.6931471805599453,
          -0.5108256237659907,
          -0.35667494393873245,
          -0.22314355131420968,
          -0.10536051565782628,
          0,
          0.09531017980432495,
          0.1823215567939546,
          0.26236426446749106,
          0.33647223662121284,
          0.4054651081081644
         ],
         "y": [
          -3.1215696694662886e-11,
          -2.340694305074858e-11,
          -1.6607826225505626e-11,
          -1.0603184996738772e-11,
          -5.068168107426683e-12,
          0,
          4.826583577243758e-12,
          9.406919687604707e-12,
          1.351629919090516e-11,
          1.7495338511100022e-11,
          2.121347542049771e-11
         ]
        },
        {
         "line": {
          "color": "rgba(0, 128, 128, 0.49999999999999983)",
          "dash": "solid",
          "shape": "linear",
          "width": 1.3
         },
         "mode": "lines",
         "name": "Cheeseburger",
         "text": "",
         "type": "scatter",
         "x": [
          -0.6931471805599453,
          -0.5108256237659907,
          -0.35667494393873245,
          -0.22314355131420968,
          -0.10536051565782628,
          0,
          0.09531017980432495,
          0.1823215567939546,
          0.26236426446749106,
          0.33647223662121284,
          0.4054651081081644
         ],
         "y": [
          1.6933121571568551e-12,
          4.298783551347682e-13,
          -2.3581137043041107e-13,
          -4.799494135455704e-13,
          -3.942401960444708e-13,
          0,
          6.847855615885621e-13,
          1.5134560271678681e-12,
          2.5293100946978328e-12,
          3.712141705129784e-12,
          4.957811938753809e-12
         ]
        },
        {
         "line": {
          "color": "rgba(255, 255, 51, 0.49999999999999983)",
          "dash": "solid",
          "shape": "linear",
          "width": 1.3
         },
         "mode": "lines",
         "name": "Beyond Burger",
         "text": "",
         "type": "scatter",
         "x": [
          -0.6931471805599453,
          -0.5108256237659907,
          -0.35667494393873245,
          -0.22314355131420968,
          -0.10536051565782628,
          0,
          0.09531017980432495,
          0.1823215567939546,
          0.26236426446749106,
          0.33647223662121284,
          0.4054651081081644
         ],
         "y": [
          2.233312643433456e-09,
          8.844480699462605e-10,
          4.885691849892949e-10,
          2.161586465143163e-10,
          7.359934883495229e-11,
          0,
          -3.8817948856049855e-11,
          -5.7504112584415805e-11,
          -6.464973001594467e-11,
          -6.460798563021607e-11,
          -5.993705532072224e-11
         ]
        },
        {
         "line": {
          "color": "rgba(128, 128, 0, 0.49999999999999983)",
          "dash": "solid",
          "shape": "linear",
          "width": 1.3
         },
         "mode": "lines",
         "name": "Fried Chicken Sandwhich",
         "text": "",
         "type": "scatter",
         "x": [
          -0.6931471805599453,
          -0.5108256237659907,
          -0.35667494393873245,
          -0.22314355131420968,
          -0.10536051565782628,
          0,
          0.09531017980432495,
          0.1823215567939546,
          0.26236426446749106,
          0.33647223662121284,
          0.4054651081081644
         ],
         "y": [
          -0.27637906651386,
          -0.20439671151981811,
          -0.137249223125372,
          -0.07432911745516843,
          -0.02928790721927326,
          0,
          0.017379720557255385,
          0.020421163230436842,
          0.02042089443941447,
          0.020420817771585383,
          0.020421152767933125
         ]
        },
        {
         "line": {
          "color": "rgba(251, 128, 114, 0.49999999999999983)",
          "dash": "solid",
          "shape": "linear",
          "width": 1.3
         },
         "mode": "lines",
         "name": "Salmon and Fennel Slaw Sandwhich",
         "text": "",
         "type": "scatter",
         "x": [
          -0.6931471805599453,
          -0.5108256237659907,
          -0.35667494393873245,
          -0.22314355131420968,
          -0.10536051565782628,
          0,
          0.09531017980432495,
          0.1823215567939546,
          0.26236426446749106,
          0.33647223662121284,
          0.4054651081081644
         ],
         "y": [
          2.7214364091881536e-10,
          1.8874901639870976e-10,
          1.1227641038482923e-10,
          6.120193240900861e-11,
          2.6110891226608318e-11,
          0,
          -2.0488610808154842e-11,
          -3.691302819032588e-11,
          -5.066191910558338e-11,
          -6.247724560122008e-11,
          -7.305633875898518e-11
         ]
        },
        {
         "line": {
          "color": "rgba(128, 177, 211, 0.49999999999999983)",
          "dash": "solid",
          "shape": "linear",
          "width": 1.3
         },
         "mode": "lines",
         "name": "Mapo Tofu Bowl",
         "text": "",
         "type": "scatter",
         "x": [
          -0.6931471805599453,
          -0.5108256237659907,
          -0.35667494393873245,
          -0.22314355131420968,
          -0.10536051565782628,
          0,
          0.09531017980432495,
          0.1823215567939546,
          0.26236426446749106,
          0.33647223662121284,
          0.4054651081081644
         ],
         "y": [
          -7.135081414843287e-11,
          -5.529221525233036e-11,
          -3.211042543023663e-11,
          -1.4273471293892729e-11,
          -3.992139951955107e-12,
          0,
          -7.691625114606043e-13,
          -5.046962847656235e-12,
          -1.1773026997799387e-11,
          -2.023359257939325e-11,
          -2.9874769325479663e-11
         ]
        },
        {
         "line": {
          "color": "rgba(255, 153, 51, 0.49999999999999983)",
          "dash": "solid",
          "shape": "linear",
          "width": 1.3
         },
         "mode": "lines",
         "name": "Salmon Larb Bowl",
         "text": "",
         "type": "scatter",
         "x": [
          -0.6931471805599453,
          -0.5108256237659907,
          -0.35667494393873245,
          -0.22314355131420968,
          -0.10536051565782628,
          0,
          0.09531017980432495,
          0.1823215567939546,
          0.26236426446749106,
          0.33647223662121284,
          0.4054651081081644
         ],
         "y": [
          0,
          0,
          0,
          0,
          0,
          0,
          0,
          0,
          0,
          0,
          0
         ]
        },
        {
         "line": {
          "color": "rgba(55, 128, 191, 0.49999999999999983)",
          "dash": "solid",
          "shape": "linear",
          "width": 1.3
         },
         "mode": "lines",
         "name": "Buffalo Chicken Salad",
         "text": "",
         "type": "scatter",
         "x": [
          -0.6931471805599453,
          -0.5108256237659907,
          -0.35667494393873245,
          -0.22314355131420968,
          -0.10536051565782628,
          0,
          0.09531017980432495,
          0.1823215567939546,
          0.26236426446749106,
          0.33647223662121284,
          0.4054651081081644
         ],
         "y": [
          -1.1721612570146675e-10,
          -8.500178339338358e-11,
          -5.846734208063644e-11,
          -3.5986880143149814e-11,
          -1.67119651452172e-11,
          0,
          1.4478640508636775e-11,
          2.6760371695996864e-11,
          3.758038324904063e-11,
          4.720801527357691e-11,
          5.586819895441665e-11
         ]
        },
        {
         "line": {
          "color": "rgba(50, 171, 96, 0.49999999999999983)",
          "dash": "solid",
          "shape": "linear",
          "width": 1.3
         },
         "mode": "lines",
         "name": "California Greens Salad",
         "text": "",
         "type": "scatter",
         "x": [
          -0.6931471805599453,
          -0.5108256237659907,
          -0.35667494393873245,
          -0.22314355131420968,
          -0.10536051565782628,
          0,
          0.09531017980432495,
          0.1823215567939546,
          0.26236426446749106,
          0.33647223662121284,
          0.4054651081081644
         ],
         "y": [
          -2.611661998116666e-10,
          -1.3851531034241397e-10,
          -7.469469487654556e-11,
          -3.705880047346455e-11,
          -1.4157897077027607e-11,
          0,
          8.871792189740272e-12,
          1.4426904115689991e-11,
          1.7793322370904157e-11,
          1.9916956972367116e-11,
          2.116573583043984e-11
         ]
        },
        {
         "line": {
          "color": "rgba(128, 0, 128, 0.49999999999999983)",
          "dash": "solid",
          "shape": "linear",
          "width": 1.3
         },
         "mode": "lines",
         "name": "Buffalo Chicken Loaded Fries",
         "text": "",
         "type": "scatter",
         "x": [
          -0.6931471805599453,
          -0.5108256237659907,
          -0.35667494393873245,
          -0.22314355131420968,
          -0.10536051565782628,
          0,
          0.09531017980432495,
          0.1823215567939546,
          0.26236426446749106,
          0.33647223662121284,
          0.4054651081081644
         ],
         "y": [
          1.3391732167543893e-11,
          1.0260459148928133e-11,
          7.198908136248528e-12,
          4.412248344455563e-12,
          2.075006833022265e-12,
          0,
          -1.6501244815017317e-12,
          -2.9973801218874898e-12,
          -3.971822870604385e-12,
          -4.612976667328165e-12,
          -4.922950935804987e-12
         ]
        },
        {
         "line": {
          "color": "rgba(219, 64, 82, 0.49999999999999983)",
          "dash": "solid",
          "shape": "linear",
          "width": 1.3
         },
         "mode": "lines",
         "name": "Cross Cut Fries",
         "text": "",
         "type": "scatter",
         "x": [
          -0.6931471805599453,
          -0.5108256237659907,
          -0.35667494393873245,
          -0.22314355131420968,
          -0.10536051565782628,
          0,
          0.09531017980432495,
          0.1823215567939546,
          0.26236426446749106,
          0.33647223662121284,
          0.4054651081081644
         ],
         "y": [
          -1.3884338123756133e-11,
          -1.1288525669847382e-11,
          -8.64996962949693e-12,
          -5.86763970746363e-12,
          -3.0152547125840085e-12,
          0,
          3.157252237424036e-12,
          6.244338379682234e-12,
          9.48974232524096e-12,
          1.2587264563910954e-11,
          1.57285295897409e-11
         ]
        },
        {
         "line": {
          "color": "rgba(219, 64, 82, 0.39999999999999974)",
          "dash": "solid",
          "shape": "linear",
          "width": 1.3
         },
         "mode": "lines",
         "name": "Side Green Salad",
         "text": "",
         "type": "scatter",
         "x": [
          -0.6931471805599453,
          -0.5108256237659907,
          -0.35667494393873245,
          -0.22314355131420968,
          -0.10536051565782628,
          0,
          0.09531017980432495,
          0.1823215567939546,
          0.26236426446749106,
          0.33647223662121284,
          0.4054651081081644
         ],
         "y": [
          0,
          0,
          0,
          0,
          0,
          0,
          0,
          0,
          0,
          0,
          0
         ]
        },
        {
         "line": {
          "color": "rgba(0, 128, 128, 0.39999999999999974)",
          "dash": "solid",
          "shape": "linear",
          "width": 1.3
         },
         "mode": "lines",
         "name": "Large Fruit Salad",
         "text": "",
         "type": "scatter",
         "x": [
          -0.6931471805599453,
          -0.5108256237659907,
          -0.35667494393873245,
          -0.22314355131420968,
          -0.10536051565782628,
          0,
          0.09531017980432495,
          0.1823215567939546,
          0.26236426446749106,
          0.33647223662121284,
          0.4054651081081644
         ],
         "y": [
          -2.259163967266282e-10,
          -2.1179880074240495e-10,
          -1.5932732912053157e-10,
          -1.046952524729599e-10,
          -5.091715937895767e-11,
          0,
          4.5019765692141636e-11,
          8.503775461215308e-11,
          1.207851596445649e-10,
          1.5239876026644808e-10,
          1.8006129918801505e-10
         ]
        },
        {
         "line": {
          "color": "rgba(255, 255, 51, 0.39999999999999974)",
          "dash": "solid",
          "shape": "linear",
          "width": 1.3
         },
         "mode": "lines",
         "name": "Regular Coffee",
         "text": "",
         "type": "scatter",
         "x": [
          -0.6931471805599453,
          -0.5108256237659907,
          -0.35667494393873245,
          -0.22314355131420968,
          -0.10536051565782628,
          0,
          0.09531017980432495,
          0.1823215567939546,
          0.26236426446749106,
          0.33647223662121284,
          0.4054651081081644
         ],
         "y": [
          -2.5593971386716486e-12,
          -2.437283708219554e-11,
          -2.8408830843721887e-11,
          -2.2954860235110738e-11,
          -1.2586376385649684e-11,
          0,
          1.3472334359130597e-11,
          2.6295188248691263e-11,
          3.88020726652915e-11,
          5.0538018213474857e-11,
          6.165334909079348e-11
         ]
        },
        {
         "line": {
          "color": "rgba(128, 128, 0, 0.39999999999999974)",
          "dash": "solid",
          "shape": "linear",
          "width": 1.3
         },
         "mode": "lines",
         "name": "Decaf Coffee",
         "text": "",
         "type": "scatter",
         "x": [
          -0.6931471805599453,
          -0.5108256237659907,
          -0.35667494393873245,
          -0.22314355131420968,
          -0.10536051565782628,
          0,
          0.09531017980432495,
          0.1823215567939546,
          0.26236426446749106,
          0.33647223662121284,
          0.4054651081081644
         ],
         "y": [
          -0.005275586339467667,
          -0.004218240190379644,
          -0.0031620108349057173,
          -0.0021068959163238732,
          -0.001052893085259956,
          0,
          0.0010517856694333082,
          0.002102466252023889,
          0.0031520440674773498,
          0.004200521427503712,
          0.005247900636270433
         ]
        },
        {
         "line": {
          "color": "rgba(251, 128, 114, 0.39999999999999974)",
          "dash": "solid",
          "shape": "linear",
          "width": 1.3
         },
         "mode": "lines",
         "name": "Orange Juice",
         "text": "",
         "type": "scatter",
         "x": [
          -0.6931471805599453,
          -0.5108256237659907,
          -0.35667494393873245,
          -0.22314355131420968,
          -0.10536051565782628,
          0,
          0.09531017980432495,
          0.1823215567939546,
          0.26236426446749106,
          0.33647223662121284,
          0.4054651081081644
         ],
         "y": [
          -0.01044576875664984,
          -0.008347870388324928,
          -0.006254251861177489,
          -0.0041652175235033576,
          -0.002080442994985591,
          0,
          0.0020761244223906536,
          0.004147947646812971,
          0.00621548793380165,
          0.008278765716922282,
          0.010337785972304149
         ]
        },
        {
         "line": {
          "color": "rgba(128, 177, 211, 0.39999999999999974)",
          "dash": "solid",
          "shape": "linear",
          "width": 1.3
         },
         "mode": "lines",
         "name": "Milk",
         "text": "",
         "type": "scatter",
         "x": [
          -0.6931471805599453,
          -0.5108256237659907,
          -0.35667494393873245,
          -0.22314355131420968,
          -0.10536051565782628,
          0,
          0.09531017980432495,
          0.1823215567939546,
          0.26236426446749106,
          0.33647223662121284,
          0.4054651081081644
         ],
         "y": [
          -0.011187835799409932,
          -0.008940232802885865,
          -0.006697670136919209,
          -0.004460125322591847,
          -0.00222757601157355,
          0,
          0.0022226250201091793,
          0.004440330045705784,
          0.006653113517100132,
          0.008861014521308568,
          0.011064066145807893
         ]
        },
        {
         "line": {
          "color": "rgba(255, 153, 51, 0.39999999999999974)",
          "dash": "solid",
          "shape": "linear",
          "width": 1.3
         },
         "mode": "lines",
         "name": "Rotisserie Tri Tip",
         "text": "",
         "type": "scatter",
         "x": [
          -0.6931471805599453,
          -0.5108256237659907,
          -0.35667494393873245,
          -0.22314355131420968,
          -0.10536051565782628,
          0,
          0.09531017980432495,
          0.1823215567939546,
          0.26236426446749106,
          0.33647223662121284,
          0.4054651081081644
         ],
         "y": [
          3.366840139961079e-11,
          6.863842827419012e-12,
          -2.4960034039653918e-12,
          -3.390954184118365e-12,
          -1.4568346529141917e-12,
          0,
          -3.1630253971575713e-13,
          -2.969513523969315e-12,
          -7.749689778821009e-12,
          -1.4290901795379592e-11,
          -2.2111534825586466e-11
         ]
        },
        {
         "line": {
          "color": "rgba(55, 128, 191, 0.39999999999999974)",
          "dash": "solid",
          "shape": "linear",
          "width": 1.3
         },
         "mode": "lines",
         "name": "Roasted Chicken Breast",
         "text": "",
         "type": "scatter",
         "x": [
          -0.6931471805599453,
          -0.5108256237659907,
          -0.35667494393873245,
          -0.22314355131420968,
          -0.10536051565782628,
          0,
          0.09531017980432495,
          0.1823215567939546,
          0.26236426446749106,
          0.33647223662121284,
          0.4054651081081644
         ],
         "y": [
          4.113154261622821e-12,
          2.511990615513724e-12,
          1.2692069617506736e-12,
          4.725109192803549e-13,
          6.528111384795707e-14,
          0,
          3.705924456198086e-13,
          9.072742557232664e-13,
          1.7557066911406813e-12,
          2.977174062830388e-12,
          4.389377750148386e-12
         ]
        },
        {
         "line": {
          "color": "rgba(50, 171, 96, 0.39999999999999974)",
          "dash": "solid",
          "shape": "linear",
          "width": 1.3
         },
         "mode": "lines",
         "name": "Seared Salmon Fillet",
         "text": "",
         "type": "scatter",
         "x": [
          -0.6931471805599453,
          -0.5108256237659907,
          -0.35667494393873245,
          -0.22314355131420968,
          -0.10536051565782628,
          0,
          0.09531017980432495,
          0.1823215567939546,
          0.26236426446749106,
          0.33647223662121284,
          0.4054651081081644
         ],
         "y": [
          8.281531016164496e-11,
          5.148420121406544e-09,
          3.893729109329986e-09,
          1.0522496202162704e-09,
          -3.4341118843385255e-10,
          0,
          3.8594616384215117e-10,
          8.807681212211998e-09,
          -1.2106060599159677e-10,
          1.7537773523958145e-08,
          1.787008636198412e-08
         ]
        },
        {
         "line": {
          "color": "rgba(128, 0, 128, 0.39999999999999974)",
          "dash": "solid",
          "shape": "linear",
          "width": 1.3
         },
         "mode": "lines",
         "name": "Seared Tofu",
         "text": "",
         "type": "scatter",
         "x": [
          -0.6931471805599453,
          -0.5108256237659907,
          -0.35667494393873245,
          -0.22314355131420968,
          -0.10536051565782628,
          0,
          0.09531017980432495,
          0.1823215567939546,
          0.26236426446749106,
          0.33647223662121284,
          0.4054651081081644
         ],
         "y": [
          3.7209328882121944e-09,
          7.951988817665795e-08,
          1.7455081822856758e-10,
          3.4609848314610006e-10,
          -1.4353995770797111e-10,
          0,
          1.0098721858243458e-10,
          1.704221208453037e-10,
          2.1741342057647562e-10,
          2.4883362034446246e-10,
          2.6967739149258114e-10
         ]
        },
        {
         "line": {
          "color": "rgba(128, 0, 128, 0.2999999999999999)",
          "dash": "solid",
          "shape": "linear",
          "width": 1.3
         },
         "mode": "lines",
         "name": "Salad Seasonal Greens",
         "text": "",
         "type": "scatter",
         "x": [
          -0.6931471805599453,
          -0.5108256237659907,
          -0.35667494393873245,
          -0.22314355131420968,
          -0.10536051565782628,
          0,
          0.09531017980432495,
          0.1823215567939546,
          0.26236426446749106,
          0.33647223662121284,
          0.4054651081081644
         ],
         "y": [
          0,
          0,
          0,
          0,
          0,
          0,
          0,
          0,
          0,
          0,
          0
         ]
        },
        {
         "line": {
          "color": "rgba(219, 64, 82, 0.2999999999999999)",
          "dash": "solid",
          "shape": "linear",
          "width": 1.3
         },
         "mode": "lines",
         "name": "Garlic Fries",
         "text": "",
         "type": "scatter",
         "x": [
          -0.6931471805599453,
          -0.5108256237659907,
          -0.35667494393873245,
          -0.22314355131420968,
          -0.10536051565782628,
          0,
          0.09531017980432495,
          0.1823215567939546,
          0.26236426446749106,
          0.33647223662121284,
          0.4054651081081644
         ],
         "y": [
          5.278191216035265e-10,
          3.8154901453250817e-10,
          2.4964097452776867e-10,
          1.4382983691905537e-10,
          6.247580230738474e-11,
          0,
          -4.958666810618002e-11,
          -8.727518708110435e-11,
          -1.1615708395815324e-10,
          -1.384388159760067e-10,
          -1.5572876323024718e-10
         ]
        },
        {
         "line": {
          "color": "rgba(0, 128, 128, 0.2999999999999999)",
          "dash": "solid",
          "shape": "linear",
          "width": 1.3
         },
         "mode": "lines",
         "name": "Vegetable Medley",
         "text": "",
         "type": "scatter",
         "x": [
          -0.6931471805599453,
          -0.5108256237659907,
          -0.35667494393873245,
          -0.22314355131420968,
          -0.10536051565782628,
          0,
          0.09531017980432495,
          0.1823215567939546,
          0.26236426446749106,
          0.33647223662121284,
          0.4054651081081644
         ],
         "y": [
          -0.049149404512909216,
          -0.028824561487090568,
          -0.013542633301340362,
          -0.0038000033721889426,
          -0.0017343701299389245,
          0,
          0.0017314108765252277,
          0.0034602402446149744,
          0.005185262794839777,
          0.005522368569991851,
          0.005522370819183714
         ]
        },
        {
         "line": {
          "color": "rgba(255, 255, 51, 0.2999999999999999)",
          "dash": "solid",
          "shape": "linear",
          "width": 1.3
         },
         "mode": "lines",
         "name": "Heriloom Grains",
         "text": "",
         "type": "scatter",
         "x": [
          -0.6931471805599453,
          -0.5108256237659907,
          -0.35667494393873245,
          -0.22314355131420968,
          -0.10536051565782628,
          0,
          0.09531017980432495,
          0.1823215567939546,
          0.26236426446749106,
          0.33647223662121284,
          0.4054651081081644
         ],
         "y": [
          -0.011649809862103306,
          -0.0035518103065882425,
          -0.0007867259548014398,
          1.8516761440333082e-09,
          9.289746749198515e-11,
          0,
          3.617528498912685e-11,
          1.1234857488142176e-10,
          1.9764057055660992e-10,
          2.7814728294512647e-10,
          3.483844323530095e-10
         ]
        },
        {
         "line": {
          "color": "rgba(128, 128, 0, 0.2999999999999999)",
          "dash": "solid",
          "shape": "linear",
          "width": 1.3
         },
         "mode": "lines",
         "name": "Brown Rice",
         "text": "",
         "type": "scatter",
         "x": [
          -0.6931471805599453,
          -0.5108256237659907,
          -0.35667494393873245,
          -0.22314355131420968,
          -0.10536051565782628,
          0,
          0.09531017980432495,
          0.1823215567939546,
          0.26236426446749106,
          0.33647223662121284,
          0.4054651081081644
         ],
         "y": [
          -1.0642031700880456e-10,
          -8.881184676962332e-11,
          -6.696376786632316e-11,
          -4.38179492699583e-11,
          -2.1292967389512573e-11,
          0,
          1.8981927141045994e-11,
          3.5529135188818176e-11,
          5.007905201511791e-11,
          6.282530051551485e-11,
          7.37632177533749e-11
         ]
        }
       ],
       "layout": {
        "autosize": true,
        "legend": {
         "bgcolor": "#F5F6F9",
         "font": {
          "color": "#4D5663"
         }
        },
        "paper_bgcolor": "#F5F6F9",
        "plot_bgcolor": "#F5F6F9",
        "template": {
         "data": {
          "bar": [
           {
            "error_x": {
             "color": "#2a3f5f"
            },
            "error_y": {
             "color": "#2a3f5f"
            },
            "marker": {
             "line": {
              "color": "#E5ECF6",
              "width": 0.5
             },
             "pattern": {
              "fillmode": "overlay",
              "size": 10,
              "solidity": 0.2
             }
            },
            "type": "bar"
           }
          ],
          "barpolar": [
           {
            "marker": {
             "line": {
              "color": "#E5ECF6",
              "width": 0.5
             },
             "pattern": {
              "fillmode": "overlay",
              "size": 10,
              "solidity": 0.2
             }
            },
            "type": "barpolar"
           }
          ],
          "carpet": [
           {
            "aaxis": {
             "endlinecolor": "#2a3f5f",
             "gridcolor": "white",
             "linecolor": "white",
             "minorgridcolor": "white",
             "startlinecolor": "#2a3f5f"
            },
            "baxis": {
             "endlinecolor": "#2a3f5f",
             "gridcolor": "white",
             "linecolor": "white",
             "minorgridcolor": "white",
             "startlinecolor": "#2a3f5f"
            },
            "type": "carpet"
           }
          ],
          "choropleth": [
           {
            "colorbar": {
             "outlinewidth": 0,
             "ticks": ""
            },
            "type": "choropleth"
           }
          ],
          "contour": [
           {
            "colorbar": {
             "outlinewidth": 0,
             "ticks": ""
            },
            "colorscale": [
             [
              0,
              "#0d0887"
             ],
             [
              0.1111111111111111,
              "#46039f"
             ],
             [
              0.2222222222222222,
              "#7201a8"
             ],
             [
              0.3333333333333333,
              "#9c179e"
             ],
             [
              0.4444444444444444,
              "#bd3786"
             ],
             [
              0.5555555555555556,
              "#d8576b"
             ],
             [
              0.6666666666666666,
              "#ed7953"
             ],
             [
              0.7777777777777778,
              "#fb9f3a"
             ],
             [
              0.8888888888888888,
              "#fdca26"
             ],
             [
              1,
              "#f0f921"
             ]
            ],
            "type": "contour"
           }
          ],
          "contourcarpet": [
           {
            "colorbar": {
             "outlinewidth": 0,
             "ticks": ""
            },
            "type": "contourcarpet"
           }
          ],
          "heatmap": [
           {
            "colorbar": {
             "outlinewidth": 0,
             "ticks": ""
            },
            "colorscale": [
             [
              0,
              "#0d0887"
             ],
             [
              0.1111111111111111,
              "#46039f"
             ],
             [
              0.2222222222222222,
              "#7201a8"
             ],
             [
              0.3333333333333333,
              "#9c179e"
             ],
             [
              0.4444444444444444,
              "#bd3786"
             ],
             [
              0.5555555555555556,
              "#d8576b"
             ],
             [
              0.6666666666666666,
              "#ed7953"
             ],
             [
              0.7777777777777778,
              "#fb9f3a"
             ],
             [
              0.8888888888888888,
              "#fdca26"
             ],
             [
              1,
              "#f0f921"
             ]
            ],
            "type": "heatmap"
           }
          ],
          "heatmapgl": [
           {
            "colorbar": {
             "outlinewidth": 0,
             "ticks": ""
            },
            "colorscale": [
             [
              0,
              "#0d0887"
             ],
             [
              0.1111111111111111,
              "#46039f"
             ],
             [
              0.2222222222222222,
              "#7201a8"
             ],
             [
              0.3333333333333333,
              "#9c179e"
             ],
             [
              0.4444444444444444,
              "#bd3786"
             ],
             [
              0.5555555555555556,
              "#d8576b"
             ],
             [
              0.6666666666666666,
              "#ed7953"
             ],
             [
              0.7777777777777778,
              "#fb9f3a"
             ],
             [
              0.8888888888888888,
              "#fdca26"
             ],
             [
              1,
              "#f0f921"
             ]
            ],
            "type": "heatmapgl"
           }
          ],
          "histogram": [
           {
            "marker": {
             "pattern": {
              "fillmode": "overlay",
              "size": 10,
              "solidity": 0.2
             }
            },
            "type": "histogram"
           }
          ],
          "histogram2d": [
           {
            "colorbar": {
             "outlinewidth": 0,
             "ticks": ""
            },
            "colorscale": [
             [
              0,
              "#0d0887"
             ],
             [
              0.1111111111111111,
              "#46039f"
             ],
             [
              0.2222222222222222,
              "#7201a8"
             ],
             [
              0.3333333333333333,
              "#9c179e"
             ],
             [
              0.4444444444444444,
              "#bd3786"
             ],
             [
              0.5555555555555556,
              "#d8576b"
             ],
             [
              0.6666666666666666,
              "#ed7953"
             ],
             [
              0.7777777777777778,
              "#fb9f3a"
             ],
             [
              0.8888888888888888,
              "#fdca26"
             ],
             [
              1,
              "#f0f921"
             ]
            ],
            "type": "histogram2d"
           }
          ],
          "histogram2dcontour": [
           {
            "colorbar": {
             "outlinewidth": 0,
             "ticks": ""
            },
            "colorscale": [
             [
              0,
              "#0d0887"
             ],
             [
              0.1111111111111111,
              "#46039f"
             ],
             [
              0.2222222222222222,
              "#7201a8"
             ],
             [
              0.3333333333333333,
              "#9c179e"
             ],
             [
              0.4444444444444444,
              "#bd3786"
             ],
             [
              0.5555555555555556,
              "#d8576b"
             ],
             [
              0.6666666666666666,
              "#ed7953"
             ],
             [
              0.7777777777777778,
              "#fb9f3a"
             ],
             [
              0.8888888888888888,
              "#fdca26"
             ],
             [
              1,
              "#f0f921"
             ]
            ],
            "type": "histogram2dcontour"
           }
          ],
          "mesh3d": [
           {
            "colorbar": {
             "outlinewidth": 0,
             "ticks": ""
            },
            "type": "mesh3d"
           }
          ],
          "parcoords": [
           {
            "line": {
             "colorbar": {
              "outlinewidth": 0,
              "ticks": ""
             }
            },
            "type": "parcoords"
           }
          ],
          "pie": [
           {
            "automargin": true,
            "type": "pie"
           }
          ],
          "scatter": [
           {
            "marker": {
             "colorbar": {
              "outlinewidth": 0,
              "ticks": ""
             }
            },
            "type": "scatter"
           }
          ],
          "scatter3d": [
           {
            "line": {
             "colorbar": {
              "outlinewidth": 0,
              "ticks": ""
             }
            },
            "marker": {
             "colorbar": {
              "outlinewidth": 0,
              "ticks": ""
             }
            },
            "type": "scatter3d"
           }
          ],
          "scattercarpet": [
           {
            "marker": {
             "colorbar": {
              "outlinewidth": 0,
              "ticks": ""
             }
            },
            "type": "scattercarpet"
           }
          ],
          "scattergeo": [
           {
            "marker": {
             "colorbar": {
              "outlinewidth": 0,
              "ticks": ""
             }
            },
            "type": "scattergeo"
           }
          ],
          "scattergl": [
           {
            "marker": {
             "colorbar": {
              "outlinewidth": 0,
              "ticks": ""
             }
            },
            "type": "scattergl"
           }
          ],
          "scattermapbox": [
           {
            "marker": {
             "colorbar": {
              "outlinewidth": 0,
              "ticks": ""
             }
            },
            "type": "scattermapbox"
           }
          ],
          "scatterpolar": [
           {
            "marker": {
             "colorbar": {
              "outlinewidth": 0,
              "ticks": ""
             }
            },
            "type": "scatterpolar"
           }
          ],
          "scatterpolargl": [
           {
            "marker": {
             "colorbar": {
              "outlinewidth": 0,
              "ticks": ""
             }
            },
            "type": "scatterpolargl"
           }
          ],
          "scatterternary": [
           {
            "marker": {
             "colorbar": {
              "outlinewidth": 0,
              "ticks": ""
             }
            },
            "type": "scatterternary"
           }
          ],
          "surface": [
           {
            "colorbar": {
             "outlinewidth": 0,
             "ticks": ""
            },
            "colorscale": [
             [
              0,
              "#0d0887"
             ],
             [
              0.1111111111111111,
              "#46039f"
             ],
             [
              0.2222222222222222,
              "#7201a8"
             ],
             [
              0.3333333333333333,
              "#9c179e"
             ],
             [
              0.4444444444444444,
              "#bd3786"
             ],
             [
              0.5555555555555556,
              "#d8576b"
             ],
             [
              0.6666666666666666,
              "#ed7953"
             ],
             [
              0.7777777777777778,
              "#fb9f3a"
             ],
             [
              0.8888888888888888,
              "#fdca26"
             ],
             [
              1,
              "#f0f921"
             ]
            ],
            "type": "surface"
           }
          ],
          "table": [
           {
            "cells": {
             "fill": {
              "color": "#EBF0F8"
             },
             "line": {
              "color": "white"
             }
            },
            "header": {
             "fill": {
              "color": "#C8D4E3"
             },
             "line": {
              "color": "white"
             }
            },
            "type": "table"
           }
          ]
         },
         "layout": {
          "annotationdefaults": {
           "arrowcolor": "#2a3f5f",
           "arrowhead": 0,
           "arrowwidth": 1
          },
          "autotypenumbers": "strict",
          "coloraxis": {
           "colorbar": {
            "outlinewidth": 0,
            "ticks": ""
           }
          },
          "colorscale": {
           "diverging": [
            [
             0,
             "#8e0152"
            ],
            [
             0.1,
             "#c51b7d"
            ],
            [
             0.2,
             "#de77ae"
            ],
            [
             0.3,
             "#f1b6da"
            ],
            [
             0.4,
             "#fde0ef"
            ],
            [
             0.5,
             "#f7f7f7"
            ],
            [
             0.6,
             "#e6f5d0"
            ],
            [
             0.7,
             "#b8e186"
            ],
            [
             0.8,
             "#7fbc41"
            ],
            [
             0.9,
             "#4d9221"
            ],
            [
             1,
             "#276419"
            ]
           ],
           "sequential": [
            [
             0,
             "#0d0887"
            ],
            [
             0.1111111111111111,
             "#46039f"
            ],
            [
             0.2222222222222222,
             "#7201a8"
            ],
            [
             0.3333333333333333,
             "#9c179e"
            ],
            [
             0.4444444444444444,
             "#bd3786"
            ],
            [
             0.5555555555555556,
             "#d8576b"
            ],
            [
             0.6666666666666666,
             "#ed7953"
            ],
            [
             0.7777777777777778,
             "#fb9f3a"
            ],
            [
             0.8888888888888888,
             "#fdca26"
            ],
            [
             1,
             "#f0f921"
            ]
           ],
           "sequentialminus": [
            [
             0,
             "#0d0887"
            ],
            [
             0.1111111111111111,
             "#46039f"
            ],
            [
             0.2222222222222222,
             "#7201a8"
            ],
            [
             0.3333333333333333,
             "#9c179e"
            ],
            [
             0.4444444444444444,
             "#bd3786"
            ],
            [
             0.5555555555555556,
             "#d8576b"
            ],
            [
             0.6666666666666666,
             "#ed7953"
            ],
            [
             0.7777777777777778,
             "#fb9f3a"
            ],
            [
             0.8888888888888888,
             "#fdca26"
            ],
            [
             1,
             "#f0f921"
            ]
           ]
          },
          "colorway": [
           "#636efa",
           "#EF553B",
           "#00cc96",
           "#ab63fa",
           "#FFA15A",
           "#19d3f3",
           "#FF6692",
           "#B6E880",
           "#FF97FF",
           "#FECB52"
          ],
          "font": {
           "color": "#2a3f5f"
          },
          "geo": {
           "bgcolor": "white",
           "lakecolor": "white",
           "landcolor": "#E5ECF6",
           "showlakes": true,
           "showland": true,
           "subunitcolor": "white"
          },
          "hoverlabel": {
           "align": "left"
          },
          "hovermode": "closest",
          "mapbox": {
           "style": "light"
          },
          "paper_bgcolor": "white",
          "plot_bgcolor": "#E5ECF6",
          "polar": {
           "angularaxis": {
            "gridcolor": "white",
            "linecolor": "white",
            "ticks": ""
           },
           "bgcolor": "#E5ECF6",
           "radialaxis": {
            "gridcolor": "white",
            "linecolor": "white",
            "ticks": ""
           }
          },
          "scene": {
           "xaxis": {
            "backgroundcolor": "#E5ECF6",
            "gridcolor": "white",
            "gridwidth": 2,
            "linecolor": "white",
            "showbackground": true,
            "ticks": "",
            "zerolinecolor": "white"
           },
           "yaxis": {
            "backgroundcolor": "#E5ECF6",
            "gridcolor": "white",
            "gridwidth": 2,
            "linecolor": "white",
            "showbackground": true,
            "ticks": "",
            "zerolinecolor": "white"
           },
           "zaxis": {
            "backgroundcolor": "#E5ECF6",
            "gridcolor": "white",
            "gridwidth": 2,
            "linecolor": "white",
            "showbackground": true,
            "ticks": "",
            "zerolinecolor": "white"
           }
          },
          "shapedefaults": {
           "line": {
            "color": "#2a3f5f"
           }
          },
          "ternary": {
           "aaxis": {
            "gridcolor": "white",
            "linecolor": "white",
            "ticks": ""
           },
           "baxis": {
            "gridcolor": "white",
            "linecolor": "white",
            "ticks": ""
           },
           "bgcolor": "#E5ECF6",
           "caxis": {
            "gridcolor": "white",
            "linecolor": "white",
            "ticks": ""
           }
          },
          "title": {
           "x": 0.05
          },
          "xaxis": {
           "automargin": true,
           "gridcolor": "white",
           "linecolor": "white",
           "ticks": "",
           "title": {
            "standoff": 15
           },
           "zerolinecolor": "white",
           "zerolinewidth": 2
          },
          "yaxis": {
           "automargin": true,
           "gridcolor": "white",
           "linecolor": "white",
           "ticks": "",
           "title": {
            "standoff": 15
           },
           "zerolinecolor": "white",
           "zerolinewidth": 2
          }
         }
        },
        "title": {
         "font": {
          "color": "#4D5663"
         }
        },
        "xaxis": {
         "autorange": true,
         "gridcolor": "#E1E5ED",
         "range": [
          -0.6931471805599453,
          0.4054651081081644
         ],
         "showgrid": true,
         "tickfont": {
          "color": "#4D5663"
         },
         "title": {
          "font": {
           "color": "#4D5663"
          },
          "text": "change in log price"
         },
         "type": "linear",
         "zerolinecolor": "#E1E5ED"
        },
        "yaxis": {
         "autorange": true,
         "gridcolor": "#E1E5ED",
         "range": [
          -0.29835004748752847,
          0.1410695719858411
         ],
         "showgrid": true,
         "tickfont": {
          "color": "#4D5663"
         },
         "title": {
          "font": {
           "color": "#4D5663"
          },
          "text": "change in log cost"
         },
         "type": "linear",
         "zerolinecolor": "#E1E5ED"
        }
       }
      },
      "image/png": "[encoded data removed]",
      "text/html": [
       "<div>                            <div id=\"d46ea484-5da3-45ee-a80c-4add4700a82e\" class=\"plotly-graph-div\" style=\"height:525px; width:100%;\"></div>            <script type=\"text/javascript\">                require([\"plotly\"], function(Plotly) {                    window.PLOTLYENV=window.PLOTLYENV || {};\n",
       "                    window.PLOTLYENV.BASE_URL='https://plot.ly';                                    if (document.getElementById(\"d46ea484-5da3-45ee-a80c-4add4700a82e\")) {                    Plotly.newPlot(                        \"d46ea484-5da3-45ee-a80c-4add4700a82e\",                        [{\"line\":{\"color\":\"rgba(255, 153, 51, 1.0)\",\"dash\":\"solid\",\"shape\":\"linear\",\"width\":1.3},\"mode\":\"lines\",\"name\":\"Turkey & Swiss Sandwich\",\"text\":\"\",\"x\":[-0.6931471805599453,-0.5108256237659907,-0.35667494393873245,-0.22314355131420968,-0.10536051565782628,0.0,0.09531017980432495,0.1823215567939546,0.26236426446749106,0.33647223662121284,0.4054651081081644],\"y\":[-5.928213475845682e-11,-4.146938348356609e-11,-2.7593038965204478e-11,-1.6507573086380314e-11,-7.49478257236513e-12,0.0,6.443512390298724e-12,1.2052581155258067e-11,1.687516792955507e-11,2.122013675864532e-11,2.5240476375324542e-11],\"type\":\"scatter\"},{\"line\":{\"color\":\"rgba(55, 128, 191, 1.0)\",\"dash\":\"solid\",\"shape\":\"linear\",\"width\":1.3},\"mode\":\"lines\",\"name\":\"Caprese Panini\",\"text\":\"\",\"x\":[-0.6931471805599453,-0.5108256237659907,-0.35667494393873245,-0.22314355131420968,-0.10536051565782628,0.0,0.09531017980432495,0.1823215567939546,0.26236426446749106,0.33647223662121284,0.4054651081081644],\"y\":[2.5677102633355938e-09,3.7532865697249235e-10,-1.46958223378986e-10,-8.72749650364994e-11,-3.880851196034017e-11,0.0,3.0106139802912103e-11,5.370726085940464e-11,7.266121037921264e-11,8.802225614669218e-11,1.0036438346568257e-10],\"type\":\"scatter\"},{\"line\":{\"color\":\"rgba(50, 171, 96, 1.0)\",\"dash\":\"solid\",\"shape\":\"linear\",\"width\":1.3},\"mode\":\"lines\",\"name\":\"Chicken Paprika\",\"text\":\"\",\"x\":[-0.6931471805599453,-0.5108256237659907,-0.35667494393873245,-0.22314355131420968,-0.10536051565782628,0.0,0.09531017980432495,0.1823215567939546,0.26236426446749106,0.33647223662121284,0.4054651081081644],\"y\":[4.573985634588083e-11,3.504840861917245e-11,2.6292079624222397e-11,1.7894352666143243e-11,9.290346270020154e-12,0.0,-9.3889340746941e-12,-1.8978929539239763e-11,-2.8500202198651136e-11,-3.80193654344063e-11,-4.7404524751173455e-11],\"type\":\"scatter\"},{\"line\":{\"color\":\"rgba(128, 0, 128, 1.0)\",\"dash\":\"solid\",\"shape\":\"linear\",\"width\":1.3},\"mode\":\"lines\",\"name\":\"Thai Marinated chicken Bahn Mi\",\"text\":\"\",\"x\":[-0.6931471805599453,-0.5108256237659907,-0.35667494393873245,-0.22314355131420968,-0.10536051565782628,0.0,0.09531017980432495,0.1823215567939546,0.26236426446749106,0.33647223662121284,0.4054651081081644],\"y\":[3.569922135618469e-11,2.3576252061452054e-11,1.461608611908337e-11,8.057554623487074e-12,3.215649968519133e-12,0.0,-1.8695045511680488e-12,-2.7103874700210677e-12,-2.692179812417166e-12,-2.0484725027379746e-12,-8.085754288348284e-13],\"type\":\"scatter\"},{\"line\":{\"color\":\"rgba(219, 64, 82, 1.0)\",\"dash\":\"solid\",\"shape\":\"linear\",\"width\":1.3},\"mode\":\"lines\",\"name\":\"French Fries\",\"text\":\"\",\"x\":[-0.6931471805599453,-0.5108256237659907,-0.35667494393873245,-0.22314355131420968,-0.10536051565782628,0.0,0.09531017980432495,0.1823215567939546,0.26236426446749106,0.33647223662121284,0.4054651081081644],\"y\":[1.4597443243506412e-09,1.0765781593735907e-09,4.813938135846225e-10,1.6613532770334243e-10,6.403144680939112e-11,0.0,-4.3454795318587564e-11,-7.31428251326098e-11,-9.383105404210956e-11,-1.084200507209742e-10,-1.1864409455590804e-10],\"type\":\"scatter\"},{\"line\":{\"color\":\"rgba(0, 128, 128, 1.0)\",\"dash\":\"solid\",\"shape\":\"linear\",\"width\":1.3},\"mode\":\"lines\",\"name\":\"Black Beans & Corn Quesadilla \",\"text\":\"\",\"x\":[-0.6931471805599453,-0.5108256237659907,-0.35667494393873245,-0.22314355131420968,-0.10536051565782628,0.0,0.09531017980432495,0.1823215567939546,0.26236426446749106,0.33647223662121284,0.4054651081081644],\"y\":[-3.0810909384143903e-10,-8.471101598320958e-11,-3.769895506948735e-11,-2.0553003743584423e-11,-9.359180097633867e-12,0.0,8.409051233080505e-12,1.5392132013284712e-11,2.1309398689823285e-11,2.6407098729570532e-11,3.053357566737983e-11],\"type\":\"scatter\"},{\"line\":{\"color\":\"rgba(255, 255, 51, 1.0)\",\"dash\":\"solid\",\"shape\":\"linear\",\"width\":1.3},\"mode\":\"lines\",\"name\":\"Chicken Quesadilla \",\"text\":\"\",\"x\":[-0.6931471805599453,-0.5108256237659907,-0.35667494393873245,-0.22314355131420968,-0.10536051565782628,0.0,0.09531017980432495,0.1823215567939546,0.26236426446749106,0.33647223662121284,0.4054651081081644],\"y\":[-1.3535073063258909e-10,-1.0576650666953344e-10,-7.743095054324485e-11,-5.0398907271036395e-11,-2.4602209159088716e-11,0.0,2.28339569472049e-11,4.399791642032212e-11,6.392486539903393e-11,8.284950503080058e-11,1.0077316758330845e-10],\"type\":\"scatter\"},{\"line\":{\"color\":\"rgba(128, 128, 0, 1.0)\",\"dash\":\"solid\",\"shape\":\"linear\",\"width\":1.3},\"mode\":\"lines\",\"name\":\"Panko Crusted Fried Chicken Sandwich\",\"text\":\"\",\"x\":[-0.6931471805599453,-0.5108256237659907,-0.35667494393873245,-0.22314355131420968,-0.10536051565782628,0.0,0.09531017980432495,0.1823215567939546,0.26236426446749106,0.33647223662121284,0.4054651081081644],\"y\":[-0.18477653408557876,-0.10360949221737577,-0.03214826450264777,-0.0027826051511225065,1.2613191428546115e-07,0.0,3.3039102510334378e-09,2.878326461917962e-09,1.3087519948091865e-09,3.2975817577693583e-09,3.533349162562711e-09],\"type\":\"scatter\"},{\"line\":{\"color\":\"rgba(251, 128, 114, 1.0)\",\"dash\":\"solid\",\"shape\":\"linear\",\"width\":1.3},\"mode\":\"lines\",\"name\":\"Think Grass Fed Burger\",\"text\":\"\",\"x\":[-0.6931471805599453,-0.5108256237659907,-0.35667494393873245,-0.22314355131420968,-0.10536051565782628,0.0,0.09531017980432495,0.1823215567939546,0.26236426446749106,0.33647223662121284,0.4054651081081644],\"y\":[-0.027618334643033274,-0.003856666367131304,-1.2180578768581567e-10,-1.9858448219364892e-11,-1.4006684701071531e-11,0.0,1.7607471036585195e-11,3.511302359920336e-11,5.16435783013401e-11,6.676281749439531e-11,8.064748868393906e-11],\"type\":\"scatter\"},{\"line\":{\"color\":\"rgba(128, 177, 211, 1.0)\",\"dash\":\"solid\",\"shape\":\"linear\",\"width\":1.3},\"mode\":\"lines\",\"name\":\"Ham & Cheese Croissant\",\"text\":\"\",\"x\":[-0.6931471805599453,-0.5108256237659907,-0.35667494393873245,-0.22314355131420968,-0.10536051565782628,0.0,0.09531017980432495,0.1823215567939546,0.26236426446749106,0.33647223662121284,0.4054651081081644],\"y\":[-2.8402169505573946e-11,-2.264610721195544e-11,-1.688449380324685e-11,-1.1272871525199991e-11,-5.58086910020131e-12,0.0,5.608402631180714e-12,1.1086020990030588e-11,1.6204815267297486e-11,2.1224799695348648e-11,2.6189495016749724e-11],\"type\":\"scatter\"},{\"line\":{\"color\":\"rgba(128, 177, 211, 0.8999999999999999)\",\"dash\":\"solid\",\"shape\":\"linear\",\"width\":1.3},\"mode\":\"lines\",\"name\":\"Banana\",\"text\":\"\",\"x\":[-0.6931471805599453,-0.5108256237659907,-0.35667494393873245,-0.22314355131420968,-0.10536051565782628,0.0,0.09531017980432495,0.1823215567939546,0.26236426446749106,0.33647223662121284,0.4054651081081644],\"y\":[-0.0004076602380130487,-8.975605647190038e-05,1.023980806011749e-08,1.2639671523656516e-09,2.9830626853124984e-10,0.0,-1.3207357430806235e-10,-1.9755874715874068e-10,-2.334669124965357e-10,-2.545715860659951e-10,-2.6724067407020557e-10],\"type\":\"scatter\"},{\"line\":{\"color\":\"rgba(255, 153, 51, 0.8999999999999999)\",\"dash\":\"solid\",\"shape\":\"linear\",\"width\":1.3},\"mode\":\"lines\",\"name\":\"Chocolate Croissant\",\"text\":\"\",\"x\":[-0.6931471805599453,-0.5108256237659907,-0.35667494393873245,-0.22314355131420968,-0.10536051565782628,0.0,0.09531017980432495,0.1823215567939546,0.26236426446749106,0.33647223662121284,0.4054651081081644],\"y\":[-0.2223470552864884,-0.17271228594907834,-0.12665821900641153,-0.08263161175145416,-0.040462774401812264,0.0,0.03430041266418381,0.05625594209661002,0.07773976437531648,0.09877175779921013,0.11909859101217263],\"type\":\"scatter\"},{\"line\":{\"color\":\"rgba(55, 128, 191, 0.8999999999999999)\",\"dash\":\"solid\",\"shape\":\"linear\",\"width\":1.3},\"mode\":\"lines\",\"name\":\"Banana Muffin\",\"text\":\"\",\"x\":[-0.6931471805599453,-0.5108256237659907,-0.35667494393873245,-0.22314355131420968,-0.10536051565782628,0.0,0.09531017980432495,0.1823215567939546,0.26236426446749106,0.33647223662121284,0.4054651081081644],\"y\":[-0.2544252777659747,-0.1927431232771719,-0.1350433980557075,-0.0811174747544826,-0.033552714601758356,0.0,0.024100494043030916,0.04075153441426572,0.04075153595289895,0.04075155811298208,0.04075153532726996],\"type\":\"scatter\"},{\"line\":{\"color\":\"rgba(50, 171, 96, 0.8999999999999999)\",\"dash\":\"solid\",\"shape\":\"linear\",\"width\":1.3},\"mode\":\"lines\",\"name\":\"Tropical Hibusicus Green Tea\",\"text\":\"\",\"x\":[-0.6931471805599453,-0.5108256237659907,-0.35667494393873245,-0.22314355131420968,-0.10536051565782628,0.0,0.09531017980432495,0.1823215567939546,0.26236426446749106,0.33647223662121284,0.4054651081081644],\"y\":[-2.383581110549782e-10,-8.645073546294609e-11,-1.137290261971985e-11,1.2273293492550863e-11,1.1401324329020588e-11,0.0,-1.5477064074906765e-11,-3.257605296677948e-11,-5.0041082390181735e-11,-6.746536662888253e-11,-8.462353040886171e-11],\"type\":\"scatter\"},{\"line\":{\"color\":\"rgba(128, 0, 128, 0.8999999999999999)\",\"dash\":\"solid\",\"shape\":\"linear\",\"width\":1.3},\"mode\":\"lines\",\"name\":\"Drip Coffee (Reg or Decaf)\",\"text\":\"\",\"x\":[-0.6931471805599453,-0.5108256237659907,-0.35667494393873245,-0.22314355131420968,-0.10536051565782628,0.0,0.09531017980432495,0.1823215567939546,0.26236426446749106,0.33647223662121284,0.4054651081081644],\"y\":[0.0,0.0,0.0,0.0,0.0,0.0,0.0,0.0,0.0,0.0,0.0],\"type\":\"scatter\"},{\"line\":{\"color\":\"rgba(219, 64, 82, 0.8999999999999999)\",\"dash\":\"solid\",\"shape\":\"linear\",\"width\":1.3},\"mode\":\"lines\",\"name\":\"Espresso\",\"text\":\"\",\"x\":[-0.6931471805599453,-0.5108256237659907,-0.35667494393873245,-0.22314355131420968,-0.10536051565782628,0.0,0.09531017980432495,0.1823215567939546,0.26236426446749106,0.33647223662121284,0.4054651081081644],\"y\":[2.7121083153377873e-10,1.2115575209013994e-10,6.348899183959385e-11,3.195887998634907e-11,1.332800536593126e-11,0.0,-1.1151080059397245e-11,-2.0199175665629176e-11,-2.700717427509379e-11,-3.11379810829367e-11,-3.230560263797202e-11],\"type\":\"scatter\"},{\"line\":{\"color\":\"rgba(0, 128, 128, 0.8999999999999999)\",\"dash\":\"solid\",\"shape\":\"linear\",\"width\":1.3},\"mode\":\"lines\",\"name\":\"Americano\",\"text\":\"\",\"x\":[-0.6931471805599453,-0.5108256237659907,-0.35667494393873245,-0.22314355131420968,-0.10536051565782628,0.0,0.09531017980432495,0.1823215567939546,0.26236426446749106,0.33647223662121284,0.4054651081081644],\"y\":[0.0,0.0,0.0,0.0,0.0,0.0,0.0,0.0,0.0,0.0,0.0],\"type\":\"scatter\"},{\"line\":{\"color\":\"rgba(255, 255, 51, 0.8999999999999999)\",\"dash\":\"solid\",\"shape\":\"linear\",\"width\":1.3},\"mode\":\"lines\",\"name\":\"Cappuccino\",\"text\":\"\",\"x\":[-0.6931471805599453,-0.5108256237659907,-0.35667494393873245,-0.22314355131420968,-0.10536051565782628,0.0,0.09531017980432495,0.1823215567939546,0.26236426446749106,0.33647223662121284,0.4054651081081644],\"y\":[8.249733084830079e-09,1.2052741020182818e-09,7.781435492929575e-10,3.277684789711098e-10,9.715028780971016e-11,0.0,-4.328681857495449e-11,-6.379663464376791e-11,-7.505540633727327e-11,-8.223211001361962e-11,-8.726919187677084e-11],\"type\":\"scatter\"},{\"line\":{\"color\":\"rgba(128, 128, 0, 0.8999999999999999)\",\"dash\":\"solid\",\"shape\":\"linear\",\"width\":1.3},\"mode\":\"lines\",\"name\":\"Latte\",\"text\":\"\",\"x\":[-0.6931471805599453,-0.5108256237659907,-0.35667494393873245,-0.22314355131420968,-0.10536051565782628,0.0,0.09531017980432495,0.1823215567939546,0.26236426446749106,0.33647223662121284,0.4054651081081644],\"y\":[-0.01280479630191744,-0.0031986177016706204,-0.0009548095236525606,1.9513717289644196e-09,1.4966332606461226e-09,0.0,-3.643543245554905e-10,1.124491598783828e-07,3.30278015034172e-08,-3.467155452231846e-10,-3.5879343946773733e-10],\"type\":\"scatter\"},{\"line\":{\"color\":\"rgba(251, 128, 114, 0.8999999999999999)\",\"dash\":\"solid\",\"shape\":\"linear\",\"width\":1.3},\"mode\":\"lines\",\"name\":\"Caramel Macchiato\",\"text\":\"\",\"x\":[-0.6931471805599453,-0.5108256237659907,-0.35667494393873245,-0.22314355131420968,-0.10536051565782628,0.0,0.09531017980432495,0.1823215567939546,0.26236426446749106,0.33647223662121284,0.4054651081081644],\"y\":[9.272649314620875e-11,7.351452779830914e-12,-1.351019296445233e-11,-1.3252066111223527e-11,-7.1788130995544925e-12,0.0,7.512435118400366e-12,1.5245138484826594e-11,2.3180346530879978e-11,3.122613279011962e-11,3.93751697905806e-11],\"type\":\"scatter\"},{\"line\":{\"color\":\"rgba(251, 128, 114, 0.7999999999999998)\",\"dash\":\"solid\",\"shape\":\"linear\",\"width\":1.3},\"mode\":\"lines\",\"name\":\"Hot Chocolate\",\"text\":\"\",\"x\":[-0.6931471805599453,-0.5108256237659907,-0.35667494393873245,-0.22314355131420968,-0.10536051565782628,0.0,0.09531017980432495,0.1823215567939546,0.26236426446749106,0.33647223662121284,0.4054651081081644],\"y\":[-0.000942366774157881,5.059483941635302e-10,-3.024083206528536e-10,-1.5685019950759633e-10,-5.856282126075979e-11,0.0,3.241495960485041e-11,5.1062487570281136e-11,6.229572413280177e-11,6.945866104260649e-11,7.443090588033499e-11],\"type\":\"scatter\"},{\"line\":{\"color\":\"rgba(128, 177, 211, 0.7999999999999998)\",\"dash\":\"solid\",\"shape\":\"linear\",\"width\":1.3},\"mode\":\"lines\",\"name\":\"Steamed Milk\",\"text\":\"\",\"x\":[-0.6931471805599453,-0.5108256237659907,-0.35667494393873245,-0.22314355131420968,-0.10536051565782628,0.0,0.09531017980432495,0.1823215567939546,0.26236426446749106,0.33647223662121284,0.4054651081081644],\"y\":[-2.0749046927214134e-10,-8.318135069975263e-11,-1.4765455526013347e-10,-8.477252233877904e-11,-3.491884559342255e-11,0.0,2.0624835172853766e-11,3.111355617542613e-11,3.5224267946266894e-11,3.574296414335336e-11,3.435274287196646e-11],\"type\":\"scatter\"},{\"line\":{\"color\":\"rgba(255, 153, 51, 0.7999999999999998)\",\"dash\":\"solid\",\"shape\":\"linear\",\"width\":1.3},\"mode\":\"lines\",\"name\":\"Hot Tea\",\"text\":\"\",\"x\":[-0.6931471805599453,-0.5108256237659907,-0.35667494393873245,-0.22314355131420968,-0.10536051565782628,0.0,0.09531017980432495,0.1823215567939546,0.26236426446749106,0.33647223662121284,0.4054651081081644],\"y\":[8.829868353029652e-09,-2.9924418503172e-10,-2.968254531495508e-10,-3.2796132481798256e-10,-2.5829227645935378e-11,0.0,-1.9049206656699873e-11,-4.380429352675481e-11,-8.223088876829243e-11,-1.3649947839632487e-10,1.7677379544530318e-09],\"type\":\"scatter\"},{\"line\":{\"color\":\"rgba(55, 128, 191, 0.7999999999999998)\",\"dash\":\"solid\",\"shape\":\"linear\",\"width\":1.3},\"mode\":\"lines\",\"name\":\"Chef Salad\",\"text\":\"\",\"x\":[-0.6931471805599453,-0.5108256237659907,-0.35667494393873245,-0.22314355131420968,-0.10536051565782628,0.0,0.09531017980432495,0.1823215567939546,0.26236426446749106,0.33647223662121284,0.4054651081081644],\"y\":[-9.891854003064217e-11,-6.685607623292731e-11,-4.2973957726601626e-11,-2.4923174635515798e-11,-1.0977996289856269e-11,0.0,8.70437055762827e-12,1.5436540934269033e-11,2.0603962979991243e-11,2.4779955864721546e-11,2.808242527368425e-11],\"type\":\"scatter\"},{\"line\":{\"color\":\"rgba(50, 171, 96, 0.7999999999999998)\",\"dash\":\"solid\",\"shape\":\"linear\",\"width\":1.3},\"mode\":\"lines\",\"name\":\"Tropical Fruit Bowl\",\"text\":\"\",\"x\":[-0.6931471805599453,-0.5108256237659907,-0.35667494393873245,-0.22314355131420968,-0.10536051565782628,0.0,0.09531017980432495,0.1823215567939546,0.26236426446749106,0.33647223662121284,0.4054651081081644],\"y\":[-4.1514824919721544e-10,7.016600321070005e-08,-2.6950119917125154e-10,-2.0539225877746912e-10,-8.184330991036399e-11,0.0,6.594103041162228e-11,1.4626944099301281e-10,2.527758002593128e-10,8.928939805762883e-10,1.6903771701417022e-09],\"type\":\"scatter\"},{\"line\":{\"color\":\"rgba(128, 0, 128, 0.7999999999999998)\",\"dash\":\"solid\",\"shape\":\"linear\",\"width\":1.3},\"mode\":\"lines\",\"name\":\"Raspberry Chobani Greek Yogurt \",\"text\":\"\",\"x\":[-0.6931471805599453,-0.5108256237659907,-0.35667494393873245,-0.22314355131420968,-0.10536051565782628,0.0,0.09531017980432495,0.1823215567939546,0.26236426446749106,0.33647223662121284,0.4054651081081644],\"y\":[-6.999967272736856e-11,-5.083011789382263e-11,-3.486522182133128e-11,-2.1343704581739025e-11,-9.869993711268812e-12,0.0,8.630207659583951e-12,1.5977441591857915e-11,2.2210011607379615e-11,2.7839730520507976e-11,3.2725822051735325e-11],\"type\":\"scatter\"},{\"line\":{\"color\":\"rgba(219, 64, 82, 0.7999999999999998)\",\"dash\":\"solid\",\"shape\":\"linear\",\"width\":1.3},\"mode\":\"lines\",\"name\":\"Strawberry Banana Naked Juice \",\"text\":\"\",\"x\":[-0.6931471805599453,-0.5108256237659907,-0.35667494393873245,-0.22314355131420968,-0.10536051565782628,0.0,0.09531017980432495,0.1823215567939546,0.26236426446749106,0.33647223662121284,0.4054651081081644],\"y\":[-0.00015452329361081738,3.623235482849983e-09,7.189975279233519e-10,2.6531132842710817e-10,9.057332661244805e-11,0.0,-5.412870152245954e-11,-8.697764731047888e-11,-1.0748257839887952e-10,-1.2018686047111138e-10,-1.2816436801554605e-10],\"type\":\"scatter\"},{\"line\":{\"color\":\"rgba(0, 128, 128, 0.7999999999999998)\",\"dash\":\"solid\",\"shape\":\"linear\",\"width\":1.3},\"mode\":\"lines\",\"name\":\"Yerbamate\",\"text\":\"\",\"x\":[-0.6931471805599453,-0.5108256237659907,-0.35667494393873245,-0.22314355131420968,-0.10536051565782628,0.0,0.09531017980432495,0.1823215567939546,0.26236426446749106,0.33647223662121284,0.4054651081081644],\"y\":[2.3462149973073524e-09,2.4490129894015798e-09,-2.42716846650705e-10,-2.181764769087353e-10,-1.7613954740755274e-10,0.0,1.3066525638406691e-10,2.3561641523950153e-10,3.2477043271639016e-10,4.0120484704198896e-10,4.6250137042809736e-10],\"type\":\"scatter\"},{\"line\":{\"color\":\"rgba(255, 255, 51, 0.7999999999999998)\",\"dash\":\"solid\",\"shape\":\"linear\",\"width\":1.3},\"mode\":\"lines\",\"name\":\"Winter Chopped Salad\",\"text\":\"\",\"x\":[-0.6931471805599453,-0.5108256237659907,-0.35667494393873245,-0.22314355131420968,-0.10536051565782628,0.0,0.09531017980432495,0.1823215567939546,0.26236426446749106,0.33647223662121284,0.4054651081081644],\"y\":[-3.792643976724164e-11,-2.5311974738749292e-11,-1.6436407790500672e-11,-9.66671187545796e-12,-4.391487173914449e-12,0.0,3.734568210227128e-12,7.055023232258133e-12,1.000244331800786e-11,1.264655047342519e-11,1.5034196110151006e-11],\"type\":\"scatter\"},{\"line\":{\"color\":\"rgba(128, 128, 0, 0.7999999999999998)\",\"dash\":\"solid\",\"shape\":\"linear\",\"width\":1.3},\"mode\":\"lines\",\"name\":\"Kale & Beets\",\"text\":\"\",\"x\":[-0.6931471805599453,-0.5108256237659907,-0.35667494393873245,-0.22314355131420968,-0.10536051565782628,0.0,0.09531017980432495,0.1823215567939546,0.26236426446749106,0.33647223662121284,0.4054651081081644],\"y\":[-0.009252506130937518,-0.0012674353411716527,4.316838637746776e-08,-1.711893960067969e-10,1.4168977101709344e-10,0.0,-2.8945279510776133e-10,-2.932932785956637e-10,1.0138079657675221e-08,4.950413411304667e-10,7.276060838454185e-09],\"type\":\"scatter\"},{\"line\":{\"color\":\"rgba(128, 128, 0, 0.7)\",\"dash\":\"solid\",\"shape\":\"linear\",\"width\":1.3},\"mode\":\"lines\",\"name\":\"Vegetable Cassoulet\",\"text\":\"\",\"x\":[-0.6931471805599453,-0.5108256237659907,-0.35667494393873245,-0.22314355131420968,-0.10536051565782628,0.0,0.09531017980432495,0.1823215567939546,0.26236426446749106,0.33647223662121284,0.4054651081081644],\"y\":[-2.9535818236051535e-11,-1.8644530364216374e-11,-1.1193046489728546e-11,-6.005862474030282e-12,-2.4071855619951616e-12,0.0,1.6455725670980532e-12,2.628564033099066e-12,3.0744295997872575e-12,3.1084024243406823e-12,2.8625990466894065e-12],\"type\":\"scatter\"},{\"line\":{\"color\":\"rgba(251, 128, 114, 0.7)\",\"dash\":\"solid\",\"shape\":\"linear\",\"width\":1.3},\"mode\":\"lines\",\"name\":\"Roast Chicken Breast\",\"text\":\"\",\"x\":[-0.6931471805599453,-0.5108256237659907,-0.35667494393873245,-0.22314355131420968,-0.10536051565782628,0.0,0.09531017980432495,0.1823215567939546,0.26236426446749106,0.33647223662121284,0.4054651081081644],\"y\":[-9.975131831701858e-12,-9.684808510759525e-12,-8.520739669429454e-12,-6.375788785837675e-12,-3.535283177320135e-12,0.0,4.141131881843259e-12,8.807177209707658e-12,1.3750778293702796e-11,1.885736011768541e-11,2.436606472115146e-11],\"type\":\"scatter\"},{\"line\":{\"color\":\"rgba(128, 177, 211, 0.7)\",\"dash\":\"solid\",\"shape\":\"linear\",\"width\":1.3},\"mode\":\"lines\",\"name\":\"King Salmon & French Lentils\",\"text\":\"\",\"x\":[-0.6931471805599453,-0.5108256237659907,-0.35667494393873245,-0.22314355131420968,-0.10536051565782628,0.0,0.09531017980432495,0.1823215567939546,0.26236426446749106,0.33647223662121284,0.4054651081081644],\"y\":[-3.7344793924618635e-11,-4.299061107197172e-11,-3.938904757993936e-11,-2.98207014641788e-11,-1.6188606011400295e-11,0.0,1.7631229809311757e-11,3.5651259721522594e-11,5.418265835852349e-11,7.280487323858869e-11,9.142953060896106e-11],\"type\":\"scatter\"},{\"line\":{\"color\":\"rgba(255, 153, 51, 0.7)\",\"dash\":\"solid\",\"shape\":\"linear\",\"width\":1.3},\"mode\":\"lines\",\"name\":\"Beef Bourguignon\",\"text\":\"\",\"x\":[-0.6931471805599453,-0.5108256237659907,-0.35667494393873245,-0.22314355131420968,-0.10536051565782628,0.0,0.09531017980432495,0.1823215567939546,0.26236426446749106,0.33647223662121284,0.4054651081081644],\"y\":[-2.3739343824329188e-11,-2.3075430455587805e-11,-1.9183654664984548e-11,-1.3600787163262971e-11,-6.983302824916618e-12,0.0,7.342348951029056e-12,1.4655610058759447e-11,2.1811219496943034e-11,2.8914870497524466e-11,3.606603904350768e-11],\"type\":\"scatter\"},{\"line\":{\"color\":\"rgba(55, 128, 191, 0.7)\",\"dash\":\"solid\",\"shape\":\"linear\",\"width\":1.3},\"mode\":\"lines\",\"name\":\"Chocolate Cake\",\"text\":\"\",\"x\":[-0.6931471805599453,-0.5108256237659907,-0.35667494393873245,-0.22314355131420968,-0.10536051565782628,0.0,0.09531017980432495,0.1823215567939546,0.26236426446749106,0.33647223662121284,0.4054651081081644],\"y\":[-4.459066449513156e-11,-3.4370395419238724e-11,-2.4773849638700002e-11,-1.5826118193854378e-11,-7.582712235916106e-12,0.0,6.987521672361398e-12,1.324251819303626e-11,1.8783197219641846e-11,2.3668178527888846e-11,2.8224533820832266e-11],\"type\":\"scatter\"},{\"line\":{\"color\":\"rgba(50, 171, 96, 0.7)\",\"dash\":\"solid\",\"shape\":\"linear\",\"width\":1.3},\"mode\":\"lines\",\"name\":\"Steamed Veggie Bun\",\"text\":\"\",\"x\":[-0.6931471805599453,-0.5108256237659907,-0.35667494393873245,-0.22314355131420968,-0.10536051565782628,0.0,0.09531017980432495,0.1823215567939546,0.26236426446749106,0.33647223662121284,0.4054651081081644],\"y\":[-0.08606911455680293,-0.0638445780371071,-0.04210304694156703,-0.022730568333010792,-0.00528981362292605,0.0,7.500577936244294e-11,-1.979039154795402e-11,1.169815355626513e-10,4.2736858487407105e-10,6.627383084569693e-10],\"type\":\"scatter\"},{\"line\":{\"color\":\"rgba(128, 0, 128, 0.7)\",\"dash\":\"solid\",\"shape\":\"linear\",\"width\":1.3},\"mode\":\"lines\",\"name\":\"Steamed Chicken Bun\",\"text\":\"\",\"x\":[-0.6931471805599453,-0.5108256237659907,-0.35667494393873245,-0.22314355131420968,-0.10536051565782628,0.0,0.09531017980432495,0.1823215567939546,0.26236426446749106,0.33647223662121284,0.4054651081081644],\"y\":[-2.412381405776608e-11,-1.9231283232741882e-11,-1.444777630876138e-11,-9.626077712756287e-12,-4.7838399908187794e-12,0.0,4.830580380132389e-12,9.617640017676557e-12,1.4021450667102652e-11,1.8346213437157494e-11,2.2495783013911742e-11],\"type\":\"scatter\"},{\"line\":{\"color\":\"rgba(219, 64, 82, 0.7)\",\"dash\":\"solid\",\"shape\":\"linear\",\"width\":1.3},\"mode\":\"lines\",\"name\":\"Veggie Spring Rolls\",\"text\":\"\",\"x\":[-0.6931471805599453,-0.5108256237659907,-0.35667494393873245,-0.22314355131420968,-0.10536051565782628,0.0,0.09531017980432495,0.1823215567939546,0.26236426446749106,0.33647223662121284,0.4054651081081644],\"y\":[-2.2464363702820202e-11,-1.45650158601635e-11,-9.083733765221826e-12,-5.1914028631607076e-12,-2.2732926652250547e-12,0.0,1.963096352140275e-12,3.5791369867801747e-12,5.239142453192389e-12,6.755040971006487e-12,8.233191905981342e-12],\"type\":\"scatter\"},{\"line\":{\"color\":\"rgba(0, 128, 128, 0.7)\",\"dash\":\"solid\",\"shape\":\"linear\",\"width\":1.3},\"mode\":\"lines\",\"name\":\"Vietnamese Coffee\",\"text\":\"\",\"x\":[-0.6931471805599453,-0.5108256237659907,-0.35667494393873245,-0.22314355131420968,-0.10536051565782628,0.0,0.09531017980432495,0.1823215567939546,0.26236426446749106,0.33647223662121284,0.4054651081081644],\"y\":[-0.006225069811947988,-0.002007189479328974,3.207329265193973e-07,1.4233183510544089e-09,-2.2043367134059572e-10,0.0,2.0632540118728848e-10,3.757660848440304e-10,5.02413444054906e-10,5.902149878202095e-10,6.467255617832847e-10],\"type\":\"scatter\"},{\"line\":{\"color\":\"rgba(255, 255, 51, 0.7)\",\"dash\":\"solid\",\"shape\":\"linear\",\"width\":1.3},\"mode\":\"lines\",\"name\":\"Vegan Pho \",\"text\":\"\",\"x\":[-0.6931471805599453,-0.5108256237659907,-0.35667494393873245,-0.22314355131420968,-0.10536051565782628,0.0,0.09531017980432495,0.1823215567939546,0.26236426446749106,0.33647223662121284,0.4054651081081644],\"y\":[-7.519995737509034e-11,-6.183153989005796e-11,-4.89219775813042e-11,-3.4385050363164273e-11,-1.7924994821943656e-11,0.0,1.856603759602922e-11,3.7202241286867444e-11,5.607980746289836e-11,7.500755571928222e-11,9.384648613334612e-11],\"type\":\"scatter\"},{\"line\":{\"color\":\"rgba(255, 255, 51, 0.5999999999999999)\",\"dash\":\"solid\",\"shape\":\"linear\",\"width\":1.3},\"mode\":\"lines\",\"name\":\"Hibiscus Lemonade\",\"text\":\"\",\"x\":[-0.6931471805599453,-0.5108256237659907,-0.35667494393873245,-0.22314355131420968,-0.10536051565782628,0.0,0.09531017980432495,0.1823215567939546,0.26236426446749106,0.33647223662121284,0.4054651081081644],\"y\":[-1.829358886612588e-11,-1.456712528391032e-11,-1.0951239914962508e-11,-7.253309064507378e-12,-3.5857983249407594e-12,0.0,3.5800251651998716e-12,7.136735646869965e-12,1.0573319997264243e-11,1.3823830968722125e-11,1.698374774136157e-11],\"type\":\"scatter\"},{\"line\":{\"color\":\"rgba(128, 128, 0, 0.5999999999999999)\",\"dash\":\"solid\",\"shape\":\"linear\",\"width\":1.3},\"mode\":\"lines\",\"name\":\"Breakfast Burrito\",\"text\":\"\",\"x\":[-0.6931471805599453,-0.5108256237659907,-0.35667494393873245,-0.22314355131420968,-0.10536051565782628,0.0,0.09531017980432495,0.1823215567939546,0.26236426446749106,0.33647223662121284,0.4054651081081644],\"y\":[-0.044382239459064624,-0.004610377048675383,-3.2538927113599325e-10,-1.4900880530577213e-10,-5.1711079863907856e-11,0.0,2.7924551559586973e-11,4.35986802206844e-11,5.274736203236482e-11,5.8051341509915205e-11,6.093525683850994e-11],\"type\":\"scatter\"},{\"line\":{\"color\":\"rgba(251, 128, 114, 0.5999999999999999)\",\"dash\":\"solid\",\"shape\":\"linear\",\"width\":1.3},\"mode\":\"lines\",\"name\":\"Bacon Burrito\",\"text\":\"\",\"x\":[-0.6931471805599453,-0.5108256237659907,-0.35667494393873245,-0.22314355131420968,-0.10536051565782628,0.0,0.09531017980432495,0.1823215567939546,0.26236426446749106,0.33647223662121284,0.4054651081081644],\"y\":[-1.219631062884242e-10,-8.942857565985756e-11,-6.146849696098314e-11,-3.761246869586579e-11,-1.7331691637573513e-11,0.0,1.4773959833182747e-11,2.692601697126649e-11,3.732725239943558e-11,4.634292949282945e-11,5.4080295795658586e-11],\"type\":\"scatter\"},{\"line\":{\"color\":\"rgba(128, 177, 211, 0.5999999999999999)\",\"dash\":\"solid\",\"shape\":\"linear\",\"width\":1.3},\"mode\":\"lines\",\"name\":\"Turkey Sausage Burrito \",\"text\":\"\",\"x\":[-0.6931471805599453,-0.5108256237659907,-0.35667494393873245,-0.22314355131420968,-0.10536051565782628,0.0,0.09531017980432495,0.1823215567939546,0.26236426446749106,0.33647223662121284,0.4054651081081644],\"y\":[-6.001132924107412e-11,-4.422606725382847e-11,-3.0803914974816646e-11,-1.916045100376944e-11,-8.961609232511956e-12,0.0,8.040457188907984e-12,1.5049739232495526e-11,2.120703612695502e-11,2.6823876453003723e-11,3.1872060545826154e-11],\"type\":\"scatter\"},{\"line\":{\"color\":\"rgba(255, 153, 51, 0.5999999999999999)\",\"dash\":\"solid\",\"shape\":\"linear\",\"width\":1.3},\"mode\":\"lines\",\"name\":\"Breakfast Egg Croissant \",\"text\":\"\",\"x\":[-0.6931471805599453,-0.5108256237659907,-0.35667494393873245,-0.22314355131420968,-0.10536051565782628,0.0,0.09531017980432495,0.1823215567939546,0.26236426446749106,0.33647223662121284,0.4054651081081644],\"y\":[-0.03801860664903467,-0.007755479724710251,4.85909622468154e-09,1.822237677468554e-08,-3.650680869382823e-10,0.0,3.5430980309074506e-09,7.207828308211699e-09,6.151446888489614e-09,2.981697329036488e-09,1.9238605856520806e-08],\"type\":\"scatter\"},{\"line\":{\"color\":\"rgba(55, 128, 191, 0.5999999999999999)\",\"dash\":\"solid\",\"shape\":\"linear\",\"width\":1.3},\"mode\":\"lines\",\"name\":\"Bacon Croissant \",\"text\":\"\",\"x\":[-0.6931471805599453,-0.5108256237659907,-0.35667494393873245,-0.22314355131420968,-0.10536051565782628,0.0,0.09531017980432495,0.1823215567939546,0.26236426446749106,0.33647223662121284,0.4054651081081644],\"y\":[-4.983680135364051e-11,-3.9226177862220455e-11,-2.8992364065481617e-11,-1.9015233832145697e-11,-9.334755191091885e-12,0.0,9.131362332895297e-12,1.7587042932932454e-11,2.5635049638266286e-11,3.350830723946522e-11,4.105871198505448e-11],\"type\":\"scatter\"},{\"line\":{\"color\":\"rgba(50, 171, 96, 0.5999999999999999)\",\"dash\":\"solid\",\"shape\":\"linear\",\"width\":1.3},\"mode\":\"lines\",\"name\":\"Turkey Saussage Croissant \",\"text\":\"\",\"x\":[-0.6931471805599453,-0.5108256237659907,-0.35667494393873245,-0.22314355131420968,-0.10536051565782628,0.0,0.09531017980432495,0.1823215567939546,0.26236426446749106,0.33647223662121284,0.4054651081081644],\"y\":[-6.790124018837986e-11,-5.373612666093091e-11,-3.97835098206043e-11,-2.6123214702863758e-11,-1.2805090321503615e-11,0.0,1.2316148101300868e-11,2.361244533205398e-11,3.4368730083520514e-11,4.4736214731665095e-11,5.447842177226756e-11],\"type\":\"scatter\"},{\"line\":{\"color\":\"rgba(128, 0, 128, 0.5999999999999999)\",\"dash\":\"solid\",\"shape\":\"linear\",\"width\":1.3},\"mode\":\"lines\",\"name\":\"Hash Brown Patties\",\"text\":\"\",\"x\":[-0.6931471805599453,-0.5108256237659907,-0.35667494393873245,-0.22314355131420968,-0.10536051565782628,0.0,0.09531017980432495,0.1823215567939546,0.26236426446749106,0.33647223662121284,0.4054651081081644],\"y\":[-0.01973325354752262,-0.009213885114917515,-0.0008309005313472702,-2.456985726286689e-10,1.1554261984944749e-09,0.0,-3.269645665861477e-10,-2.029302281975577e-10,-2.810517374780263e-10,-1.0679102047676641e-10,-8.735556722809423e-11],\"type\":\"scatter\"},{\"line\":{\"color\":\"rgba(219, 64, 82, 0.5999999999999999)\",\"dash\":\"solid\",\"shape\":\"linear\",\"width\":1.3},\"mode\":\"lines\",\"name\":\"Small Fruit Cup\",\"text\":\"\",\"x\":[-0.6931471805599453,-0.5108256237659907,-0.35667494393873245,-0.22314355131420968,-0.10536051565782628,0.0,0.09531017980432495,0.1823215567939546,0.26236426446749106,0.33647223662121284,0.4054651081081644],\"y\":[6.719735878620449e-11,1.7620571668275543e-11,-2.137956478522949e-12,-8.38273894746738e-12,-6.539879748878332e-12,0.0,9.344303109016435e-12,1.9899415448578387e-11,3.097277989590804e-11,4.23698853770821e-11,5.3757887029324825e-11],\"type\":\"scatter\"},{\"line\":{\"color\":\"rgba(0, 128, 128, 0.5999999999999999)\",\"dash\":\"solid\",\"shape\":\"linear\",\"width\":1.3},\"mode\":\"lines\",\"name\":\"Philly Cheesesteak\",\"text\":\"\",\"x\":[-0.6931471805599453,-0.5108256237659907,-0.35667494393873245,-0.22314355131420968,-0.10536051565782628,0.0,0.09531017980432495,0.1823215567939546,0.26236426446749106,0.33647223662121284,0.4054651081081644],\"y\":[-3.1215696694662886e-11,-2.340694305074858e-11,-1.6607826225505626e-11,-1.0603184996738772e-11,-5.068168107426683e-12,0.0,4.826583577243758e-12,9.406919687604707e-12,1.351629919090516e-11,1.7495338511100022e-11,2.121347542049771e-11],\"type\":\"scatter\"},{\"line\":{\"color\":\"rgba(0, 128, 128, 0.49999999999999983)\",\"dash\":\"solid\",\"shape\":\"linear\",\"width\":1.3},\"mode\":\"lines\",\"name\":\"Cheeseburger\",\"text\":\"\",\"x\":[-0.6931471805599453,-0.5108256237659907,-0.35667494393873245,-0.22314355131420968,-0.10536051565782628,0.0,0.09531017980432495,0.1823215567939546,0.26236426446749106,0.33647223662121284,0.4054651081081644],\"y\":[1.6933121571568551e-12,4.298783551347682e-13,-2.3581137043041107e-13,-4.799494135455704e-13,-3.942401960444708e-13,0.0,6.847855615885621e-13,1.5134560271678681e-12,2.5293100946978328e-12,3.712141705129784e-12,4.957811938753809e-12],\"type\":\"scatter\"},{\"line\":{\"color\":\"rgba(255, 255, 51, 0.49999999999999983)\",\"dash\":\"solid\",\"shape\":\"linear\",\"width\":1.3},\"mode\":\"lines\",\"name\":\"Beyond Burger\",\"text\":\"\",\"x\":[-0.6931471805599453,-0.5108256237659907,-0.35667494393873245,-0.22314355131420968,-0.10536051565782628,0.0,0.09531017980432495,0.1823215567939546,0.26236426446749106,0.33647223662121284,0.4054651081081644],\"y\":[2.233312643433456e-09,8.844480699462605e-10,4.885691849892949e-10,2.161586465143163e-10,7.359934883495229e-11,0.0,-3.8817948856049855e-11,-5.7504112584415805e-11,-6.464973001594467e-11,-6.460798563021607e-11,-5.993705532072224e-11],\"type\":\"scatter\"},{\"line\":{\"color\":\"rgba(128, 128, 0, 0.49999999999999983)\",\"dash\":\"solid\",\"shape\":\"linear\",\"width\":1.3},\"mode\":\"lines\",\"name\":\"Fried Chicken Sandwhich\",\"text\":\"\",\"x\":[-0.6931471805599453,-0.5108256237659907,-0.35667494393873245,-0.22314355131420968,-0.10536051565782628,0.0,0.09531017980432495,0.1823215567939546,0.26236426446749106,0.33647223662121284,0.4054651081081644],\"y\":[-0.27637906651386,-0.20439671151981811,-0.137249223125372,-0.07432911745516843,-0.02928790721927326,0.0,0.017379720557255385,0.020421163230436842,0.02042089443941447,0.020420817771585383,0.020421152767933125],\"type\":\"scatter\"},{\"line\":{\"color\":\"rgba(251, 128, 114, 0.49999999999999983)\",\"dash\":\"solid\",\"shape\":\"linear\",\"width\":1.3},\"mode\":\"lines\",\"name\":\"Salmon and Fennel Slaw Sandwhich\",\"text\":\"\",\"x\":[-0.6931471805599453,-0.5108256237659907,-0.35667494393873245,-0.22314355131420968,-0.10536051565782628,0.0,0.09531017980432495,0.1823215567939546,0.26236426446749106,0.33647223662121284,0.4054651081081644],\"y\":[2.7214364091881536e-10,1.8874901639870976e-10,1.1227641038482923e-10,6.120193240900861e-11,2.6110891226608318e-11,0.0,-2.0488610808154842e-11,-3.691302819032588e-11,-5.066191910558338e-11,-6.247724560122008e-11,-7.305633875898518e-11],\"type\":\"scatter\"},{\"line\":{\"color\":\"rgba(128, 177, 211, 0.49999999999999983)\",\"dash\":\"solid\",\"shape\":\"linear\",\"width\":1.3},\"mode\":\"lines\",\"name\":\"Mapo Tofu Bowl\",\"text\":\"\",\"x\":[-0.6931471805599453,-0.5108256237659907,-0.35667494393873245,-0.22314355131420968,-0.10536051565782628,0.0,0.09531017980432495,0.1823215567939546,0.26236426446749106,0.33647223662121284,0.4054651081081644],\"y\":[-7.135081414843287e-11,-5.529221525233036e-11,-3.211042543023663e-11,-1.4273471293892729e-11,-3.992139951955107e-12,0.0,-7.691625114606043e-13,-5.046962847656235e-12,-1.1773026997799387e-11,-2.023359257939325e-11,-2.9874769325479663e-11],\"type\":\"scatter\"},{\"line\":{\"color\":\"rgba(255, 153, 51, 0.49999999999999983)\",\"dash\":\"solid\",\"shape\":\"linear\",\"width\":1.3},\"mode\":\"lines\",\"name\":\"Salmon Larb Bowl\",\"text\":\"\",\"x\":[-0.6931471805599453,-0.5108256237659907,-0.35667494393873245,-0.22314355131420968,-0.10536051565782628,0.0,0.09531017980432495,0.1823215567939546,0.26236426446749106,0.33647223662121284,0.4054651081081644],\"y\":[0.0,0.0,0.0,0.0,0.0,0.0,0.0,0.0,0.0,0.0,0.0],\"type\":\"scatter\"},{\"line\":{\"color\":\"rgba(55, 128, 191, 0.49999999999999983)\",\"dash\":\"solid\",\"shape\":\"linear\",\"width\":1.3},\"mode\":\"lines\",\"name\":\"Buffalo Chicken Salad\",\"text\":\"\",\"x\":[-0.6931471805599453,-0.5108256237659907,-0.35667494393873245,-0.22314355131420968,-0.10536051565782628,0.0,0.09531017980432495,0.1823215567939546,0.26236426446749106,0.33647223662121284,0.4054651081081644],\"y\":[-1.1721612570146675e-10,-8.500178339338358e-11,-5.846734208063644e-11,-3.5986880143149814e-11,-1.67119651452172e-11,0.0,1.4478640508636775e-11,2.6760371695996864e-11,3.758038324904063e-11,4.720801527357691e-11,5.586819895441665e-11],\"type\":\"scatter\"},{\"line\":{\"color\":\"rgba(50, 171, 96, 0.49999999999999983)\",\"dash\":\"solid\",\"shape\":\"linear\",\"width\":1.3},\"mode\":\"lines\",\"name\":\"California Greens Salad\",\"text\":\"\",\"x\":[-0.6931471805599453,-0.5108256237659907,-0.35667494393873245,-0.22314355131420968,-0.10536051565782628,0.0,0.09531017980432495,0.1823215567939546,0.26236426446749106,0.33647223662121284,0.4054651081081644],\"y\":[-2.611661998116666e-10,-1.3851531034241397e-10,-7.469469487654556e-11,-3.705880047346455e-11,-1.4157897077027607e-11,0.0,8.871792189740272e-12,1.4426904115689991e-11,1.7793322370904157e-11,1.9916956972367116e-11,2.116573583043984e-11],\"type\":\"scatter\"},{\"line\":{\"color\":\"rgba(128, 0, 128, 0.49999999999999983)\",\"dash\":\"solid\",\"shape\":\"linear\",\"width\":1.3},\"mode\":\"lines\",\"name\":\"Buffalo Chicken Loaded Fries\",\"text\":\"\",\"x\":[-0.6931471805599453,-0.5108256237659907,-0.35667494393873245,-0.22314355131420968,-0.10536051565782628,0.0,0.09531017980432495,0.1823215567939546,0.26236426446749106,0.33647223662121284,0.4054651081081644],\"y\":[1.3391732167543893e-11,1.0260459148928133e-11,7.198908136248528e-12,4.412248344455563e-12,2.075006833022265e-12,0.0,-1.6501244815017317e-12,-2.9973801218874898e-12,-3.971822870604385e-12,-4.612976667328165e-12,-4.922950935804987e-12],\"type\":\"scatter\"},{\"line\":{\"color\":\"rgba(219, 64, 82, 0.49999999999999983)\",\"dash\":\"solid\",\"shape\":\"linear\",\"width\":1.3},\"mode\":\"lines\",\"name\":\"Cross Cut Fries\",\"text\":\"\",\"x\":[-0.6931471805599453,-0.5108256237659907,-0.35667494393873245,-0.22314355131420968,-0.10536051565782628,0.0,0.09531017980432495,0.1823215567939546,0.26236426446749106,0.33647223662121284,0.4054651081081644],\"y\":[-1.3884338123756133e-11,-1.1288525669847382e-11,-8.64996962949693e-12,-5.86763970746363e-12,-3.0152547125840085e-12,0.0,3.157252237424036e-12,6.244338379682234e-12,9.48974232524096e-12,1.2587264563910954e-11,1.57285295897409e-11],\"type\":\"scatter\"},{\"line\":{\"color\":\"rgba(219, 64, 82, 0.39999999999999974)\",\"dash\":\"solid\",\"shape\":\"linear\",\"width\":1.3},\"mode\":\"lines\",\"name\":\"Side Green Salad\",\"text\":\"\",\"x\":[-0.6931471805599453,-0.5108256237659907,-0.35667494393873245,-0.22314355131420968,-0.10536051565782628,0.0,0.09531017980432495,0.1823215567939546,0.26236426446749106,0.33647223662121284,0.4054651081081644],\"y\":[0.0,0.0,0.0,0.0,0.0,0.0,0.0,0.0,0.0,0.0,0.0],\"type\":\"scatter\"},{\"line\":{\"color\":\"rgba(0, 128, 128, 0.39999999999999974)\",\"dash\":\"solid\",\"shape\":\"linear\",\"width\":1.3},\"mode\":\"lines\",\"name\":\"Large Fruit Salad\",\"text\":\"\",\"x\":[-0.6931471805599453,-0.5108256237659907,-0.35667494393873245,-0.22314355131420968,-0.10536051565782628,0.0,0.09531017980432495,0.1823215567939546,0.26236426446749106,0.33647223662121284,0.4054651081081644],\"y\":[-2.259163967266282e-10,-2.1179880074240495e-10,-1.5932732912053157e-10,-1.046952524729599e-10,-5.091715937895767e-11,0.0,4.5019765692141636e-11,8.503775461215308e-11,1.207851596445649e-10,1.5239876026644808e-10,1.8006129918801505e-10],\"type\":\"scatter\"},{\"line\":{\"color\":\"rgba(255, 255, 51, 0.39999999999999974)\",\"dash\":\"solid\",\"shape\":\"linear\",\"width\":1.3},\"mode\":\"lines\",\"name\":\"Regular Coffee\",\"text\":\"\",\"x\":[-0.6931471805599453,-0.5108256237659907,-0.35667494393873245,-0.22314355131420968,-0.10536051565782628,0.0,0.09531017980432495,0.1823215567939546,0.26236426446749106,0.33647223662121284,0.4054651081081644],\"y\":[-2.5593971386716486e-12,-2.437283708219554e-11,-2.8408830843721887e-11,-2.2954860235110738e-11,-1.2586376385649684e-11,0.0,1.3472334359130597e-11,2.6295188248691263e-11,3.88020726652915e-11,5.0538018213474857e-11,6.165334909079348e-11],\"type\":\"scatter\"},{\"line\":{\"color\":\"rgba(128, 128, 0, 0.39999999999999974)\",\"dash\":\"solid\",\"shape\":\"linear\",\"width\":1.3},\"mode\":\"lines\",\"name\":\"Decaf Coffee\",\"text\":\"\",\"x\":[-0.6931471805599453,-0.5108256237659907,-0.35667494393873245,-0.22314355131420968,-0.10536051565782628,0.0,0.09531017980432495,0.1823215567939546,0.26236426446749106,0.33647223662121284,0.4054651081081644],\"y\":[-0.005275586339467667,-0.004218240190379644,-0.0031620108349057173,-0.0021068959163238732,-0.001052893085259956,0.0,0.0010517856694333082,0.002102466252023889,0.0031520440674773498,0.004200521427503712,0.005247900636270433],\"type\":\"scatter\"},{\"line\":{\"color\":\"rgba(251, 128, 114, 0.39999999999999974)\",\"dash\":\"solid\",\"shape\":\"linear\",\"width\":1.3},\"mode\":\"lines\",\"name\":\"Orange Juice\",\"text\":\"\",\"x\":[-0.6931471805599453,-0.5108256237659907,-0.35667494393873245,-0.22314355131420968,-0.10536051565782628,0.0,0.09531017980432495,0.1823215567939546,0.26236426446749106,0.33647223662121284,0.4054651081081644],\"y\":[-0.01044576875664984,-0.008347870388324928,-0.006254251861177489,-0.0041652175235033576,-0.002080442994985591,0.0,0.0020761244223906536,0.004147947646812971,0.00621548793380165,0.008278765716922282,0.010337785972304149],\"type\":\"scatter\"},{\"line\":{\"color\":\"rgba(128, 177, 211, 0.39999999999999974)\",\"dash\":\"solid\",\"shape\":\"linear\",\"width\":1.3},\"mode\":\"lines\",\"name\":\"Milk\",\"text\":\"\",\"x\":[-0.6931471805599453,-0.5108256237659907,-0.35667494393873245,-0.22314355131420968,-0.10536051565782628,0.0,0.09531017980432495,0.1823215567939546,0.26236426446749106,0.33647223662121284,0.4054651081081644],\"y\":[-0.011187835799409932,-0.008940232802885865,-0.006697670136919209,-0.004460125322591847,-0.00222757601157355,0.0,0.0022226250201091793,0.004440330045705784,0.006653113517100132,0.008861014521308568,0.011064066145807893],\"type\":\"scatter\"},{\"line\":{\"color\":\"rgba(255, 153, 51, 0.39999999999999974)\",\"dash\":\"solid\",\"shape\":\"linear\",\"width\":1.3},\"mode\":\"lines\",\"name\":\"Rotisserie Tri Tip\",\"text\":\"\",\"x\":[-0.6931471805599453,-0.5108256237659907,-0.35667494393873245,-0.22314355131420968,-0.10536051565782628,0.0,0.09531017980432495,0.1823215567939546,0.26236426446749106,0.33647223662121284,0.4054651081081644],\"y\":[3.366840139961079e-11,6.863842827419012e-12,-2.4960034039653918e-12,-3.390954184118365e-12,-1.4568346529141917e-12,0.0,-3.1630253971575713e-13,-2.969513523969315e-12,-7.749689778821009e-12,-1.4290901795379592e-11,-2.2111534825586466e-11],\"type\":\"scatter\"},{\"line\":{\"color\":\"rgba(55, 128, 191, 0.39999999999999974)\",\"dash\":\"solid\",\"shape\":\"linear\",\"width\":1.3},\"mode\":\"lines\",\"name\":\"Roasted Chicken Breast\",\"text\":\"\",\"x\":[-0.6931471805599453,-0.5108256237659907,-0.35667494393873245,-0.22314355131420968,-0.10536051565782628,0.0,0.09531017980432495,0.1823215567939546,0.26236426446749106,0.33647223662121284,0.4054651081081644],\"y\":[4.113154261622821e-12,2.511990615513724e-12,1.2692069617506736e-12,4.725109192803549e-13,6.528111384795707e-14,0.0,3.705924456198086e-13,9.072742557232664e-13,1.7557066911406813e-12,2.977174062830388e-12,4.389377750148386e-12],\"type\":\"scatter\"},{\"line\":{\"color\":\"rgba(50, 171, 96, 0.39999999999999974)\",\"dash\":\"solid\",\"shape\":\"linear\",\"width\":1.3},\"mode\":\"lines\",\"name\":\"Seared Salmon Fillet\",\"text\":\"\",\"x\":[-0.6931471805599453,-0.5108256237659907,-0.35667494393873245,-0.22314355131420968,-0.10536051565782628,0.0,0.09531017980432495,0.1823215567939546,0.26236426446749106,0.33647223662121284,0.4054651081081644],\"y\":[8.281531016164496e-11,5.148420121406544e-09,3.893729109329986e-09,1.0522496202162704e-09,-3.4341118843385255e-10,0.0,3.8594616384215117e-10,8.807681212211998e-09,-1.2106060599159677e-10,1.7537773523958145e-08,1.787008636198412e-08],\"type\":\"scatter\"},{\"line\":{\"color\":\"rgba(128, 0, 128, 0.39999999999999974)\",\"dash\":\"solid\",\"shape\":\"linear\",\"width\":1.3},\"mode\":\"lines\",\"name\":\"Seared Tofu\",\"text\":\"\",\"x\":[-0.6931471805599453,-0.5108256237659907,-0.35667494393873245,-0.22314355131420968,-0.10536051565782628,0.0,0.09531017980432495,0.1823215567939546,0.26236426446749106,0.33647223662121284,0.4054651081081644],\"y\":[3.7209328882121944e-09,7.951988817665795e-08,1.7455081822856758e-10,3.4609848314610006e-10,-1.4353995770797111e-10,0.0,1.0098721858243458e-10,1.704221208453037e-10,2.1741342057647562e-10,2.4883362034446246e-10,2.6967739149258114e-10],\"type\":\"scatter\"},{\"line\":{\"color\":\"rgba(128, 0, 128, 0.2999999999999999)\",\"dash\":\"solid\",\"shape\":\"linear\",\"width\":1.3},\"mode\":\"lines\",\"name\":\"Salad Seasonal Greens\",\"text\":\"\",\"x\":[-0.6931471805599453,-0.5108256237659907,-0.35667494393873245,-0.22314355131420968,-0.10536051565782628,0.0,0.09531017980432495,0.1823215567939546,0.26236426446749106,0.33647223662121284,0.4054651081081644],\"y\":[0.0,0.0,0.0,0.0,0.0,0.0,0.0,0.0,0.0,0.0,0.0],\"type\":\"scatter\"},{\"line\":{\"color\":\"rgba(219, 64, 82, 0.2999999999999999)\",\"dash\":\"solid\",\"shape\":\"linear\",\"width\":1.3},\"mode\":\"lines\",\"name\":\"Garlic Fries\",\"text\":\"\",\"x\":[-0.6931471805599453,-0.5108256237659907,-0.35667494393873245,-0.22314355131420968,-0.10536051565782628,0.0,0.09531017980432495,0.1823215567939546,0.26236426446749106,0.33647223662121284,0.4054651081081644],\"y\":[5.278191216035265e-10,3.8154901453250817e-10,2.4964097452776867e-10,1.4382983691905537e-10,6.247580230738474e-11,0.0,-4.958666810618002e-11,-8.727518708110435e-11,-1.1615708395815324e-10,-1.384388159760067e-10,-1.5572876323024718e-10],\"type\":\"scatter\"},{\"line\":{\"color\":\"rgba(0, 128, 128, 0.2999999999999999)\",\"dash\":\"solid\",\"shape\":\"linear\",\"width\":1.3},\"mode\":\"lines\",\"name\":\"Vegetable Medley\",\"text\":\"\",\"x\":[-0.6931471805599453,-0.5108256237659907,-0.35667494393873245,-0.22314355131420968,-0.10536051565782628,0.0,0.09531017980432495,0.1823215567939546,0.26236426446749106,0.33647223662121284,0.4054651081081644],\"y\":[-0.049149404512909216,-0.028824561487090568,-0.013542633301340362,-0.0038000033721889426,-0.0017343701299389245,0.0,0.0017314108765252277,0.0034602402446149744,0.005185262794839777,0.005522368569991851,0.005522370819183714],\"type\":\"scatter\"},{\"line\":{\"color\":\"rgba(255, 255, 51, 0.2999999999999999)\",\"dash\":\"solid\",\"shape\":\"linear\",\"width\":1.3},\"mode\":\"lines\",\"name\":\"Heriloom Grains\",\"text\":\"\",\"x\":[-0.6931471805599453,-0.5108256237659907,-0.35667494393873245,-0.22314355131420968,-0.10536051565782628,0.0,0.09531017980432495,0.1823215567939546,0.26236426446749106,0.33647223662121284,0.4054651081081644],\"y\":[-0.011649809862103306,-0.0035518103065882425,-0.0007867259548014398,1.8516761440333082e-09,9.289746749198515e-11,0.0,3.617528498912685e-11,1.1234857488142176e-10,1.9764057055660992e-10,2.7814728294512647e-10,3.483844323530095e-10],\"type\":\"scatter\"},{\"line\":{\"color\":\"rgba(128, 128, 0, 0.2999999999999999)\",\"dash\":\"solid\",\"shape\":\"linear\",\"width\":1.3},\"mode\":\"lines\",\"name\":\"Brown Rice\",\"text\":\"\",\"x\":[-0.6931471805599453,-0.5108256237659907,-0.35667494393873245,-0.22314355131420968,-0.10536051565782628,0.0,0.09531017980432495,0.1823215567939546,0.26236426446749106,0.33647223662121284,0.4054651081081644],\"y\":[-1.0642031700880456e-10,-8.881184676962332e-11,-6.696376786632316e-11,-4.38179492699583e-11,-2.1292967389512573e-11,0.0,1.8981927141045994e-11,3.5529135188818176e-11,5.007905201511791e-11,6.282530051551485e-11,7.37632177533749e-11],\"type\":\"scatter\"}],                        {\"legend\":{\"bgcolor\":\"#F5F6F9\",\"font\":{\"color\":\"#4D5663\"}},\"paper_bgcolor\":\"#F5F6F9\",\"plot_bgcolor\":\"#F5F6F9\",\"template\":{\"data\":{\"barpolar\":[{\"marker\":{\"line\":{\"color\":\"#E5ECF6\",\"width\":0.5},\"pattern\":{\"fillmode\":\"overlay\",\"size\":10,\"solidity\":0.2}},\"type\":\"barpolar\"}],\"bar\":[{\"error_x\":{\"color\":\"#2a3f5f\"},\"error_y\":{\"color\":\"#2a3f5f\"},\"marker\":{\"line\":{\"color\":\"#E5ECF6\",\"width\":0.5},\"pattern\":{\"fillmode\":\"overlay\",\"size\":10,\"solidity\":0.2}},\"type\":\"bar\"}],\"carpet\":[{\"aaxis\":{\"endlinecolor\":\"#2a3f5f\",\"gridcolor\":\"white\",\"linecolor\":\"white\",\"minorgridcolor\":\"white\",\"startlinecolor\":\"#2a3f5f\"},\"baxis\":{\"endlinecolor\":\"#2a3f5f\",\"gridcolor\":\"white\",\"linecolor\":\"white\",\"minorgridcolor\":\"white\",\"startlinecolor\":\"#2a3f5f\"},\"type\":\"carpet\"}],\"choropleth\":[{\"colorbar\":{\"outlinewidth\":0,\"ticks\":\"\"},\"type\":\"choropleth\"}],\"contourcarpet\":[{\"colorbar\":{\"outlinewidth\":0,\"ticks\":\"\"},\"type\":\"contourcarpet\"}],\"contour\":[{\"colorbar\":{\"outlinewidth\":0,\"ticks\":\"\"},\"colorscale\":[[0.0,\"#0d0887\"],[0.1111111111111111,\"#46039f\"],[0.2222222222222222,\"#7201a8\"],[0.3333333333333333,\"#9c179e\"],[0.4444444444444444,\"#bd3786\"],[0.5555555555555556,\"#d8576b\"],[0.6666666666666666,\"#ed7953\"],[0.7777777777777778,\"#fb9f3a\"],[0.8888888888888888,\"#fdca26\"],[1.0,\"#f0f921\"]],\"type\":\"contour\"}],\"heatmapgl\":[{\"colorbar\":{\"outlinewidth\":0,\"ticks\":\"\"},\"colorscale\":[[0.0,\"#0d0887\"],[0.1111111111111111,\"#46039f\"],[0.2222222222222222,\"#7201a8\"],[0.3333333333333333,\"#9c179e\"],[0.4444444444444444,\"#bd3786\"],[0.5555555555555556,\"#d8576b\"],[0.6666666666666666,\"#ed7953\"],[0.7777777777777778,\"#fb9f3a\"],[0.8888888888888888,\"#fdca26\"],[1.0,\"#f0f921\"]],\"type\":\"heatmapgl\"}],\"heatmap\":[{\"colorbar\":{\"outlinewidth\":0,\"ticks\":\"\"},\"colorscale\":[[0.0,\"#0d0887\"],[0.1111111111111111,\"#46039f\"],[0.2222222222222222,\"#7201a8\"],[0.3333333333333333,\"#9c179e\"],[0.4444444444444444,\"#bd3786\"],[0.5555555555555556,\"#d8576b\"],[0.6666666666666666,\"#ed7953\"],[0.7777777777777778,\"#fb9f3a\"],[0.8888888888888888,\"#fdca26\"],[1.0,\"#f0f921\"]],\"type\":\"heatmap\"}],\"histogram2dcontour\":[{\"colorbar\":{\"outlinewidth\":0,\"ticks\":\"\"},\"colorscale\":[[0.0,\"#0d0887\"],[0.1111111111111111,\"#46039f\"],[0.2222222222222222,\"#7201a8\"],[0.3333333333333333,\"#9c179e\"],[0.4444444444444444,\"#bd3786\"],[0.5555555555555556,\"#d8576b\"],[0.6666666666666666,\"#ed7953\"],[0.7777777777777778,\"#fb9f3a\"],[0.8888888888888888,\"#fdca26\"],[1.0,\"#f0f921\"]],\"type\":\"histogram2dcontour\"}],\"histogram2d\":[{\"colorbar\":{\"outlinewidth\":0,\"ticks\":\"\"},\"colorscale\":[[0.0,\"#0d0887\"],[0.1111111111111111,\"#46039f\"],[0.2222222222222222,\"#7201a8\"],[0.3333333333333333,\"#9c179e\"],[0.4444444444444444,\"#bd3786\"],[0.5555555555555556,\"#d8576b\"],[0.6666666666666666,\"#ed7953\"],[0.7777777777777778,\"#fb9f3a\"],[0.8888888888888888,\"#fdca26\"],[1.0,\"#f0f921\"]],\"type\":\"histogram2d\"}],\"histogram\":[{\"marker\":{\"pattern\":{\"fillmode\":\"overlay\",\"size\":10,\"solidity\":0.2}},\"type\":\"histogram\"}],\"mesh3d\":[{\"colorbar\":{\"outlinewidth\":0,\"ticks\":\"\"},\"type\":\"mesh3d\"}],\"parcoords\":[{\"line\":{\"colorbar\":{\"outlinewidth\":0,\"ticks\":\"\"}},\"type\":\"parcoords\"}],\"pie\":[{\"automargin\":true,\"type\":\"pie\"}],\"scatter3d\":[{\"line\":{\"colorbar\":{\"outlinewidth\":0,\"ticks\":\"\"}},\"marker\":{\"colorbar\":{\"outlinewidth\":0,\"ticks\":\"\"}},\"type\":\"scatter3d\"}],\"scattercarpet\":[{\"marker\":{\"colorbar\":{\"outlinewidth\":0,\"ticks\":\"\"}},\"type\":\"scattercarpet\"}],\"scattergeo\":[{\"marker\":{\"colorbar\":{\"outlinewidth\":0,\"ticks\":\"\"}},\"type\":\"scattergeo\"}],\"scattergl\":[{\"marker\":{\"colorbar\":{\"outlinewidth\":0,\"ticks\":\"\"}},\"type\":\"scattergl\"}],\"scattermapbox\":[{\"marker\":{\"colorbar\":{\"outlinewidth\":0,\"ticks\":\"\"}},\"type\":\"scattermapbox\"}],\"scatterpolargl\":[{\"marker\":{\"colorbar\":{\"outlinewidth\":0,\"ticks\":\"\"}},\"type\":\"scatterpolargl\"}],\"scatterpolar\":[{\"marker\":{\"colorbar\":{\"outlinewidth\":0,\"ticks\":\"\"}},\"type\":\"scatterpolar\"}],\"scatter\":[{\"marker\":{\"colorbar\":{\"outlinewidth\":0,\"ticks\":\"\"}},\"type\":\"scatter\"}],\"scatterternary\":[{\"marker\":{\"colorbar\":{\"outlinewidth\":0,\"ticks\":\"\"}},\"type\":\"scatterternary\"}],\"surface\":[{\"colorbar\":{\"outlinewidth\":0,\"ticks\":\"\"},\"colorscale\":[[0.0,\"#0d0887\"],[0.1111111111111111,\"#46039f\"],[0.2222222222222222,\"#7201a8\"],[0.3333333333333333,\"#9c179e\"],[0.4444444444444444,\"#bd3786\"],[0.5555555555555556,\"#d8576b\"],[0.6666666666666666,\"#ed7953\"],[0.7777777777777778,\"#fb9f3a\"],[0.8888888888888888,\"#fdca26\"],[1.0,\"#f0f921\"]],\"type\":\"surface\"}],\"table\":[{\"cells\":{\"fill\":{\"color\":\"#EBF0F8\"},\"line\":{\"color\":\"white\"}},\"header\":{\"fill\":{\"color\":\"#C8D4E3\"},\"line\":{\"color\":\"white\"}},\"type\":\"table\"}]},\"layout\":{\"annotationdefaults\":{\"arrowcolor\":\"#2a3f5f\",\"arrowhead\":0,\"arrowwidth\":1},\"autotypenumbers\":\"strict\",\"coloraxis\":{\"colorbar\":{\"outlinewidth\":0,\"ticks\":\"\"}},\"colorscale\":{\"diverging\":[[0,\"#8e0152\"],[0.1,\"#c51b7d\"],[0.2,\"#de77ae\"],[0.3,\"#f1b6da\"],[0.4,\"#fde0ef\"],[0.5,\"#f7f7f7\"],[0.6,\"#e6f5d0\"],[0.7,\"#b8e186\"],[0.8,\"#7fbc41\"],[0.9,\"#4d9221\"],[1,\"#276419\"]],\"sequential\":[[0.0,\"#0d0887\"],[0.1111111111111111,\"#46039f\"],[0.2222222222222222,\"#7201a8\"],[0.3333333333333333,\"#9c179e\"],[0.4444444444444444,\"#bd3786\"],[0.5555555555555556,\"#d8576b\"],[0.6666666666666666,\"#ed7953\"],[0.7777777777777778,\"#fb9f3a\"],[0.8888888888888888,\"#fdca26\"],[1.0,\"#f0f921\"]],\"sequentialminus\":[[0.0,\"#0d0887\"],[0.1111111111111111,\"#46039f\"],[0.2222222222222222,\"#7201a8\"],[0.3333333333333333,\"#9c179e\"],[0.4444444444444444,\"#bd3786\"],[0.5555555555555556,\"#d8576b\"],[0.6666666666666666,\"#ed7953\"],[0.7777777777777778,\"#fb9f3a\"],[0.8888888888888888,\"#fdca26\"],[1.0,\"#f0f921\"]]},\"colorway\":[\"#636efa\",\"#EF553B\",\"#00cc96\",\"#ab63fa\",\"#FFA15A\",\"#19d3f3\",\"#FF6692\",\"#B6E880\",\"#FF97FF\",\"#FECB52\"],\"font\":{\"color\":\"#2a3f5f\"},\"geo\":{\"bgcolor\":\"white\",\"lakecolor\":\"white\",\"landcolor\":\"#E5ECF6\",\"showlakes\":true,\"showland\":true,\"subunitcolor\":\"white\"},\"hoverlabel\":{\"align\":\"left\"},\"hovermode\":\"closest\",\"mapbox\":{\"style\":\"light\"},\"paper_bgcolor\":\"white\",\"plot_bgcolor\":\"#E5ECF6\",\"polar\":{\"angularaxis\":{\"gridcolor\":\"white\",\"linecolor\":\"white\",\"ticks\":\"\"},\"bgcolor\":\"#E5ECF6\",\"radialaxis\":{\"gridcolor\":\"white\",\"linecolor\":\"white\",\"ticks\":\"\"}},\"scene\":{\"xaxis\":{\"backgroundcolor\":\"#E5ECF6\",\"gridcolor\":\"white\",\"gridwidth\":2,\"linecolor\":\"white\",\"showbackground\":true,\"ticks\":\"\",\"zerolinecolor\":\"white\"},\"yaxis\":{\"backgroundcolor\":\"#E5ECF6\",\"gridcolor\":\"white\",\"gridwidth\":2,\"linecolor\":\"white\",\"showbackground\":true,\"ticks\":\"\",\"zerolinecolor\":\"white\"},\"zaxis\":{\"backgroundcolor\":\"#E5ECF6\",\"gridcolor\":\"white\",\"gridwidth\":2,\"linecolor\":\"white\",\"showbackground\":true,\"ticks\":\"\",\"zerolinecolor\":\"white\"}},\"shapedefaults\":{\"line\":{\"color\":\"#2a3f5f\"}},\"ternary\":{\"aaxis\":{\"gridcolor\":\"white\",\"linecolor\":\"white\",\"ticks\":\"\"},\"baxis\":{\"gridcolor\":\"white\",\"linecolor\":\"white\",\"ticks\":\"\"},\"bgcolor\":\"#E5ECF6\",\"caxis\":{\"gridcolor\":\"white\",\"linecolor\":\"white\",\"ticks\":\"\"}},\"title\":{\"x\":0.05},\"xaxis\":{\"automargin\":true,\"gridcolor\":\"white\",\"linecolor\":\"white\",\"ticks\":\"\",\"title\":{\"standoff\":15},\"zerolinecolor\":\"white\",\"zerolinewidth\":2},\"yaxis\":{\"automargin\":true,\"gridcolor\":\"white\",\"linecolor\":\"white\",\"ticks\":\"\",\"title\":{\"standoff\":15},\"zerolinecolor\":\"white\",\"zerolinewidth\":2}}},\"title\":{\"font\":{\"color\":\"#4D5663\"}},\"xaxis\":{\"gridcolor\":\"#E1E5ED\",\"showgrid\":true,\"tickfont\":{\"color\":\"#4D5663\"},\"title\":{\"font\":{\"color\":\"#4D5663\"},\"text\":\"change in log price\"},\"zerolinecolor\":\"#E1E5ED\"},\"yaxis\":{\"gridcolor\":\"#E1E5ED\",\"showgrid\":true,\"tickfont\":{\"color\":\"#4D5663\"},\"title\":{\"font\":{\"color\":\"#4D5663\"},\"text\":\"change in log cost\"},\"zerolinecolor\":\"#E1E5ED\"}},                        {\"showLink\": true, \"linkText\": \"Export to plot.ly\", \"plotlyServerURL\": \"https://plot.ly\", \"responsive\": true}                    ).then(function(){\n",
       "                            \n",
       "var gd = document.getElementById('d46ea484-5da3-45ee-a80c-4add4700a82e');\n",
       "var x = new MutationObserver(function (mutations, observer) {{\n",
       "        var display = window.getComputedStyle(gd).display;\n",
       "        if (!display || display === 'none') {{\n",
       "            console.log([gd, 'removed!']);\n",
       "            Plotly.purge(gd);\n",
       "            observer.disconnect();\n",
       "        }}\n",
       "}});\n",
       "\n",
       "// Listen for the removal of the full notebook cells\n",
       "var notebookContainer = gd.closest('#notebook-container');\n",
       "if (notebookContainer) {{\n",
       "    x.observe(notebookContainer, {childList: true});\n",
       "}}\n",
       "\n",
       "// Listen for the clearing of the current output cell\n",
       "var outputEl = gd.closest('.output');\n",
       "if (outputEl) {{\n",
       "    x.observe(outputEl, {childList: true});\n",
       "}}\n",
       "\n",
       "                        })                };                });            </script>        </div>"
      ]
     },
     "metadata": {},
     "output_type": "display_data"
    },
    {
     "ename": "TypeError",
     "evalue": "cannot unpack non-iterable NoneType object",
     "output_type": "error",
     "traceback": [
      "\u001b[0;31m---------------------------------------------------------------------------\u001b[0m",
      "\u001b[0;31mTypeError\u001b[0m                                 Traceback (most recent call last)",
      "Input \u001b[0;32mIn [16]\u001b[0m, in \u001b[0;36m<cell line: 22>\u001b[0;34m()\u001b[0m\n\u001b[1;32m     19\u001b[0m     \u001b[38;5;28;01mreturn\u001b[39;00m Price_response\u001b[38;5;241m.\u001b[39miplot(xTitle\u001b[38;5;241m=\u001b[39m\u001b[38;5;124m'\u001b[39m\u001b[38;5;124mchange in log price\u001b[39m\u001b[38;5;124m'\u001b[39m,yTitle\u001b[38;5;241m=\u001b[39m\u001b[38;5;124m'\u001b[39m\u001b[38;5;124mchange in log cost\u001b[39m\u001b[38;5;124m'\u001b[39m)\n\u001b[1;32m     21\u001b[0m \u001b[38;5;28mprint\u001b[39m(\u001b[38;5;124mf\u001b[39m\u001b[38;5;124m\"\u001b[39m\u001b[38;5;124mEffect of Price on Changes on in Females On Campus\u001b[39m\u001b[38;5;124m'\u001b[39m\u001b[38;5;124ms Substistence Diet Cost\u001b[39m\u001b[38;5;124m\"\u001b[39m) \n\u001b[0;32m---> 22\u001b[0m F_on_PR,df \u001b[38;5;241m=\u001b[39m sense_solution(D, Prices, bmin, bmax, groupF)\n\u001b[1;32m     23\u001b[0m F_on_PR\n\u001b[1;32m     25\u001b[0m \u001b[38;5;28mprint\u001b[39m(\u001b[38;5;124mf\u001b[39m\u001b[38;5;124m\"\u001b[39m\u001b[38;5;124mEffect of Price on Changes on in Males On Campus\u001b[39m\u001b[38;5;124m'\u001b[39m\u001b[38;5;124ms Substistence Diet Cost\u001b[39m\u001b[38;5;124m\"\u001b[39m) \n",
      "\u001b[0;31mTypeError\u001b[0m: cannot unpack non-iterable NoneType object"
     ]
    }
   ],
   "source": [
    "#[C] Sensitivity of Solution\n",
    "import cufflinks as cf\n",
    "cf.go_offline()\n",
    "\n",
    "def sense_solution(df, price, diet_min, diet_max, group):\n",
    "    scale = [.5,.6,.7,.8,.9,1.,1.1,1.2,1.3,1.4,1.5]\n",
    "    cost0 = solve_subsistence_problem(df,price,diet_min[group],diet_max[group],tol=tol).fun\n",
    "    Price_response={}\n",
    "    for s in scale:\n",
    "        cost = {}\n",
    "        for i,p in enumerate(price):\n",
    "            my_p = price.copy()\n",
    "            my_p[i] = p*s\n",
    "            result = solve_subsistence_problem(df,my_p,diet_min[group],diet_max[group],tol=tol)\n",
    "            \n",
    "            cost[price.index[i]] = np.log(result.fun/cost0)\n",
    "        Price_response[np.log(s)] = cost\n",
    "    Price_response = pd.DataFrame(Price_response).T\n",
    "    return Price_response.iplot(xTitle='change in log price',yTitle='change in log cost')\n",
    "    \n",
    "print(f\"Effect of Price on Changes on in Females On Campus's Substistence Diet Cost\") \n",
    "F_on_PR,df = sense_solution(D, Prices, bmin, bmax, groupF)\n",
    "F_on_PR\n",
    "\n",
    "print(f\"Effect of Price on Changes on in Males On Campus's Substistence Diet Cost\") \n",
    "M_on_PR = sense_solution(D, Prices, bmin, bmax, groupM)\n",
    "M_on_PR\n",
    "\n",
    "print(f\"Effect of Price on Changes on in Females Off Campus's Substistence Diet Cost\") \n",
    "F_off_PR = sense_solution(D_off, Prices_off, bmin_off, bmax_off, groupF)\n",
    "F_off_PR\n",
    "\n",
    "print(f\"Effect of Price on Changes on in Males Off Campus's Substistence Diet Cost\") \n",
    "M_off_PR = sense_solution(D_off, Prices_off, bmin_off, bmax_off, groupM)\n",
    "M_off_PR"
   ]
  },
  {
   "cell_type": "code",
   "execution_count": null,
   "id": "1da0ee0e-a5cd-49be-936b-4852924319a1",
   "metadata": {},
   "outputs": [],
   "source": [
    "#Sensitivity of Solution for Females On Campus to Changes in Chocolocate Croissant Prices \n",
    "ReferenceGood = 'Chocolate Croissant'\n",
    "\n",
    "scale = [0.5,0.75,0.9,1.,1.1,1.2,1.3,1.4,1.5,2,4]\n",
    "\n",
    "cost0 = solve_subsistence_problem(D,Prices,bmin[groupF],bmax[groupF],tol=tol).fun\n",
    "\n",
    "my_p = Prices.copy()\n",
    "\n",
    "diet = {}\n",
    "for s in scale:\n",
    "\n",
    "    my_p[ReferenceGood] = Prices[ReferenceGood]*s\n",
    "    result = solve_subsistence_problem(D,my_p,bmin[groupF],bmax[groupF],tol=tol)\n",
    "    diet[my_p[ReferenceGood]] = result.diet\n",
    "\n",
    "Diet_response = pd.DataFrame(diet).T\n",
    "Diet_response.index.name = '%s Price' % ReferenceGood\n",
    "\n",
    "Diet_response.reset_index(inplace=True)\n",
    "\n",
    "# Get rid of units for index (cufflinks chokes)\n",
    "Diet_response['%s Price' % ReferenceGood] = Diet_response['%s Price' % ReferenceGood].apply(lambda x: x.magnitude)\n",
    "\n",
    "Diet_response = Diet_response.set_index('%s Price' % ReferenceGood)\n",
    "\n",
    "# Just look at goods consumed in quantities greater than error tolerance\n",
    "Diet_response.loc[:,(Diet_response>tol).sum()>0].iplot(xTitle='%s Price' % ReferenceGood,yTitle='Hectograms')"
   ]
  },
  {
   "cell_type": "code",
   "execution_count": null,
   "id": "e8c9d6e2-77ce-4fbe-b913-ca8b70602fe9",
   "metadata": {},
   "outputs": [],
   "source": [
    "#Sensitivity of Solution for Males On Campus to Changes in Chocolocate Croissant Prices \n",
    "ReferenceGood = 'Chocolate Croissant'\n",
    "\n",
    "scale = [0.5,0.75,0.9,1.,1.1,1.2,1.3,1.4,1.5,2,4]\n",
    "\n",
    "cost0 = solve_subsistence_problem(D,Prices,bmin[groupM],bmax[groupM],tol=tol).fun\n",
    "\n",
    "my_p = Prices.copy()\n",
    "\n",
    "diet = {}\n",
    "for s in scale:\n",
    "\n",
    "    my_p[ReferenceGood] = Prices[ReferenceGood]*s\n",
    "    result = solve_subsistence_problem(D,my_p,bmin[groupM],bmax[groupM],tol=tol)\n",
    "    diet[my_p[ReferenceGood]] = result.diet\n",
    "\n",
    "Diet_response = pd.DataFrame(diet).T\n",
    "Diet_response.index.name = '%s Price' % ReferenceGood\n",
    "\n",
    "Diet_response.reset_index(inplace=True)\n",
    "\n",
    "# Get rid of units for index (cufflinks chokes)\n",
    "Diet_response['%s Price' % ReferenceGood] = Diet_response['%s Price' % ReferenceGood].apply(lambda x: x.magnitude)\n",
    "\n",
    "Diet_response = Diet_response.set_index('%s Price' % ReferenceGood)\n",
    "\n",
    "# Just look at goods consumed in quantities greater than error tolerance\n",
    "Diet_response.loc[:,(Diet_response>tol).sum()>0].iplot(xTitle='%s Price' % ReferenceGood,yTitle='Hectograms')"
   ]
  },
  {
   "cell_type": "code",
   "execution_count": null,
   "id": "c5810b75-3abe-463f-902c-9fa1fa8b7fc9",
   "metadata": {},
   "outputs": [],
   "source": []
  },
  {
   "cell_type": "code",
   "execution_count": null,
   "id": "8e9e4e9b-70cd-4dc7-919a-fd674c7c34bf",
   "metadata": {},
   "outputs": [],
   "source": []
  },
  {
   "cell_type": "code",
   "execution_count": null,
   "id": "0a4a2d16-325d-46d5-b0a7-df3be8960d65",
   "metadata": {},
   "outputs": [],
   "source": []
  }
 ],
 "metadata": {
  "kernelspec": {
   "display_name": "anaconda-2022.05-py39",
   "language": "python",
   "name": "conda-env-anaconda-2022.05-py39-py"
  },
  "language_info": {
   "codemirror_mode": {
    "name": "ipython",
    "version": 3
   },
   "file_extension": ".py",
   "mimetype": "text/x-python",
   "name": "python",
   "nbconvert_exporter": "python",
   "pygments_lexer": "ipython3",
   "version": "3.9.12"
  }
 },
 "nbformat": 4,
 "nbformat_minor": 5
}
